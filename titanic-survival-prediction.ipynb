{
 "cells": [
  {
   "cell_type": "markdown",
   "id": "e10d61ab",
   "metadata": {
    "papermill": {
     "duration": 0.01324,
     "end_time": "2025-04-16T11:15:33.152444",
     "exception": false,
     "start_time": "2025-04-16T11:15:33.139204",
     "status": "completed"
    },
    "tags": []
   },
   "source": [
    "   # 🛳️ **Titanic Survival Prediction**  \n",
    "\n",
    "   ###   👩🏻‍💻 By Rosy  "
   ]
  },
  {
   "cell_type": "markdown",
   "id": "5a165421",
   "metadata": {
    "papermill": {
     "duration": 0.012348,
     "end_time": "2025-04-16T11:15:33.177607",
     "exception": false,
     "start_time": "2025-04-16T11:15:33.165259",
     "status": "completed"
    },
    "tags": []
   },
   "source": [
    "# ***🎯 Goals & Tasks:*** \n",
    "\n",
    "* 1. Provide insight by means of data. "
   ]
  },
  {
   "cell_type": "markdown",
   "id": "5a043346",
   "metadata": {
    "papermill": {
     "duration": 0.012363,
     "end_time": "2025-04-16T11:15:33.202334",
     "exception": false,
     "start_time": "2025-04-16T11:15:33.189971",
     "status": "completed"
    },
    "tags": []
   },
   "source": [
    "# ***🗂️ Import Libraries*** "
   ]
  },
  {
   "cell_type": "code",
   "execution_count": 1,
   "id": "5cde5241",
   "metadata": {
    "execution": {
     "iopub.execute_input": "2025-04-16T11:15:33.227896Z",
     "iopub.status.busy": "2025-04-16T11:15:33.227531Z",
     "iopub.status.idle": "2025-04-16T11:15:37.879194Z",
     "shell.execute_reply": "2025-04-16T11:15:37.878349Z"
    },
    "papermill": {
     "duration": 4.66643,
     "end_time": "2025-04-16T11:15:37.880969",
     "exception": false,
     "start_time": "2025-04-16T11:15:33.214539",
     "status": "completed"
    },
    "tags": []
   },
   "outputs": [],
   "source": [
    "import os\n",
    "\n",
    "import pandas as pd\n",
    "import numpy as np\n",
    "\n",
    "\n",
    "import matplotlib.pyplot as plt\n",
    "import seaborn as sns\n",
    "import plotly.express as px \n",
    "\n",
    "\n",
    "from sklearn.preprocessing import StandardScaler, LabelEncoder, MinMaxScaler\n",
    "\n",
    "\n",
    "from sklearn.model_selection import train_test_split, GridSearchCV, cross_val_score\n",
    "\n",
    "from sklearn.linear_model import LogisticRegression\n",
    "from sklearn.neighbors import KNeighborsClassifier\n",
    "from sklearn.svm import SVC\n",
    "from sklearn.tree import DecisionTreeClassifier\n",
    "from sklearn.ensemble import RandomForestClassifier, AdaBoostClassifier, GradientBoostingClassifier, RandomForestRegressor\n",
    "from xgboost import XGBClassifier\n",
    "\n",
    "\n",
    "from sklearn.metrics import classification_report\n",
    "from sklearn.metrics import confusion_matrix\n",
    "from sklearn.metrics import accuracy_score, f1_score, precision_score, recall_score\n",
    "\n",
    "\n",
    "import warnings \n",
    "warnings.filterwarnings('ignore') "
   ]
  },
  {
   "cell_type": "markdown",
   "id": "ced93d0f",
   "metadata": {
    "papermill": {
     "duration": 0.011801,
     "end_time": "2025-04-16T11:15:37.905282",
     "exception": false,
     "start_time": "2025-04-16T11:15:37.893481",
     "status": "completed"
    },
    "tags": []
   },
   "source": [
    "# ***⏳ Data Loading*** "
   ]
  },
  {
   "cell_type": "code",
   "execution_count": 2,
   "id": "10c6ad11",
   "metadata": {
    "execution": {
     "iopub.execute_input": "2025-04-16T11:15:37.930918Z",
     "iopub.status.busy": "2025-04-16T11:15:37.930383Z",
     "iopub.status.idle": "2025-04-16T11:15:37.954685Z",
     "shell.execute_reply": "2025-04-16T11:15:37.953594Z"
    },
    "papermill": {
     "duration": 0.03915,
     "end_time": "2025-04-16T11:15:37.956520",
     "exception": false,
     "start_time": "2025-04-16T11:15:37.917370",
     "status": "completed"
    },
    "tags": []
   },
   "outputs": [],
   "source": [
    "os.listdir('/kaggle/input/titanic-data')  \n",
    "df = pd.read_csv('/kaggle/input/titanic-data/train.csv') "
   ]
  },
  {
   "cell_type": "markdown",
   "id": "3e9582ce",
   "metadata": {
    "papermill": {
     "duration": 0.011693,
     "end_time": "2025-04-16T11:15:37.980199",
     "exception": false,
     "start_time": "2025-04-16T11:15:37.968506",
     "status": "completed"
    },
    "tags": []
   },
   "source": [
    "# ***🔭 Data Exploration***  "
   ]
  },
  {
   "cell_type": "markdown",
   "id": "a94d1826",
   "metadata": {
    "papermill": {
     "duration": 0.011936,
     "end_time": "2025-04-16T11:15:38.004466",
     "exception": false,
     "start_time": "2025-04-16T11:15:37.992530",
     "status": "completed"
    },
    "tags": []
   },
   "source": [
    "### 1. 🔍 **Take a Glimpse of Data**"
   ]
  },
  {
   "cell_type": "code",
   "execution_count": 3,
   "id": "4576f435",
   "metadata": {
    "execution": {
     "iopub.execute_input": "2025-04-16T11:15:38.030034Z",
     "iopub.status.busy": "2025-04-16T11:15:38.029634Z",
     "iopub.status.idle": "2025-04-16T11:15:38.057304Z",
     "shell.execute_reply": "2025-04-16T11:15:38.056290Z"
    },
    "papermill": {
     "duration": 0.042285,
     "end_time": "2025-04-16T11:15:38.058993",
     "exception": false,
     "start_time": "2025-04-16T11:15:38.016708",
     "status": "completed"
    },
    "tags": []
   },
   "outputs": [
    {
     "data": {
      "text/html": [
       "<div>\n",
       "<style scoped>\n",
       "    .dataframe tbody tr th:only-of-type {\n",
       "        vertical-align: middle;\n",
       "    }\n",
       "\n",
       "    .dataframe tbody tr th {\n",
       "        vertical-align: top;\n",
       "    }\n",
       "\n",
       "    .dataframe thead th {\n",
       "        text-align: right;\n",
       "    }\n",
       "</style>\n",
       "<table border=\"1\" class=\"dataframe\">\n",
       "  <thead>\n",
       "    <tr style=\"text-align: right;\">\n",
       "      <th></th>\n",
       "      <th>PassengerId</th>\n",
       "      <th>Survived</th>\n",
       "      <th>Pclass</th>\n",
       "      <th>Name</th>\n",
       "      <th>Sex</th>\n",
       "      <th>Age</th>\n",
       "      <th>SibSp</th>\n",
       "      <th>Parch</th>\n",
       "      <th>Ticket</th>\n",
       "      <th>Fare</th>\n",
       "      <th>Cabin</th>\n",
       "      <th>Embarked</th>\n",
       "    </tr>\n",
       "  </thead>\n",
       "  <tbody>\n",
       "    <tr>\n",
       "      <th>0</th>\n",
       "      <td>1</td>\n",
       "      <td>0</td>\n",
       "      <td>3</td>\n",
       "      <td>Braund, Mr. Owen Harris</td>\n",
       "      <td>male</td>\n",
       "      <td>22.0</td>\n",
       "      <td>1</td>\n",
       "      <td>0</td>\n",
       "      <td>A/5 21171</td>\n",
       "      <td>7.2500</td>\n",
       "      <td>NaN</td>\n",
       "      <td>S</td>\n",
       "    </tr>\n",
       "    <tr>\n",
       "      <th>1</th>\n",
       "      <td>2</td>\n",
       "      <td>1</td>\n",
       "      <td>1</td>\n",
       "      <td>Cumings, Mrs. John Bradley (Florence Briggs Th...</td>\n",
       "      <td>female</td>\n",
       "      <td>38.0</td>\n",
       "      <td>1</td>\n",
       "      <td>0</td>\n",
       "      <td>PC 17599</td>\n",
       "      <td>71.2833</td>\n",
       "      <td>C85</td>\n",
       "      <td>C</td>\n",
       "    </tr>\n",
       "    <tr>\n",
       "      <th>2</th>\n",
       "      <td>3</td>\n",
       "      <td>1</td>\n",
       "      <td>3</td>\n",
       "      <td>Heikkinen, Miss. Laina</td>\n",
       "      <td>female</td>\n",
       "      <td>26.0</td>\n",
       "      <td>0</td>\n",
       "      <td>0</td>\n",
       "      <td>STON/O2. 3101282</td>\n",
       "      <td>7.9250</td>\n",
       "      <td>NaN</td>\n",
       "      <td>S</td>\n",
       "    </tr>\n",
       "    <tr>\n",
       "      <th>3</th>\n",
       "      <td>4</td>\n",
       "      <td>1</td>\n",
       "      <td>1</td>\n",
       "      <td>Futrelle, Mrs. Jacques Heath (Lily May Peel)</td>\n",
       "      <td>female</td>\n",
       "      <td>35.0</td>\n",
       "      <td>1</td>\n",
       "      <td>0</td>\n",
       "      <td>113803</td>\n",
       "      <td>53.1000</td>\n",
       "      <td>C123</td>\n",
       "      <td>S</td>\n",
       "    </tr>\n",
       "    <tr>\n",
       "      <th>4</th>\n",
       "      <td>5</td>\n",
       "      <td>0</td>\n",
       "      <td>3</td>\n",
       "      <td>Allen, Mr. William Henry</td>\n",
       "      <td>male</td>\n",
       "      <td>35.0</td>\n",
       "      <td>0</td>\n",
       "      <td>0</td>\n",
       "      <td>373450</td>\n",
       "      <td>8.0500</td>\n",
       "      <td>NaN</td>\n",
       "      <td>S</td>\n",
       "    </tr>\n",
       "  </tbody>\n",
       "</table>\n",
       "</div>"
      ],
      "text/plain": [
       "   PassengerId  Survived  Pclass  \\\n",
       "0            1         0       3   \n",
       "1            2         1       1   \n",
       "2            3         1       3   \n",
       "3            4         1       1   \n",
       "4            5         0       3   \n",
       "\n",
       "                                                Name     Sex   Age  SibSp  \\\n",
       "0                            Braund, Mr. Owen Harris    male  22.0      1   \n",
       "1  Cumings, Mrs. John Bradley (Florence Briggs Th...  female  38.0      1   \n",
       "2                             Heikkinen, Miss. Laina  female  26.0      0   \n",
       "3       Futrelle, Mrs. Jacques Heath (Lily May Peel)  female  35.0      1   \n",
       "4                           Allen, Mr. William Henry    male  35.0      0   \n",
       "\n",
       "   Parch            Ticket     Fare Cabin Embarked  \n",
       "0      0         A/5 21171   7.2500   NaN        S  \n",
       "1      0          PC 17599  71.2833   C85        C  \n",
       "2      0  STON/O2. 3101282   7.9250   NaN        S  \n",
       "3      0            113803  53.1000  C123        S  \n",
       "4      0            373450   8.0500   NaN        S  "
      ]
     },
     "execution_count": 3,
     "metadata": {},
     "output_type": "execute_result"
    }
   ],
   "source": [
    "df.head(5) "
   ]
  },
  {
   "cell_type": "markdown",
   "id": "c50b139a",
   "metadata": {
    "papermill": {
     "duration": 0.012234,
     "end_time": "2025-04-16T11:15:38.084033",
     "exception": false,
     "start_time": "2025-04-16T11:15:38.071799",
     "status": "completed"
    },
    "tags": []
   },
   "source": [
    "### 2. 🔍 **DataType of Each Column**"
   ]
  },
  {
   "cell_type": "code",
   "execution_count": 4,
   "id": "3004366f",
   "metadata": {
    "execution": {
     "iopub.execute_input": "2025-04-16T11:15:38.109801Z",
     "iopub.status.busy": "2025-04-16T11:15:38.109415Z",
     "iopub.status.idle": "2025-04-16T11:15:38.137167Z",
     "shell.execute_reply": "2025-04-16T11:15:38.135964Z"
    },
    "papermill": {
     "duration": 0.042789,
     "end_time": "2025-04-16T11:15:38.139076",
     "exception": false,
     "start_time": "2025-04-16T11:15:38.096287",
     "status": "completed"
    },
    "tags": []
   },
   "outputs": [
    {
     "name": "stdout",
     "output_type": "stream",
     "text": [
      "<class 'pandas.core.frame.DataFrame'>\n",
      "RangeIndex: 891 entries, 0 to 890\n",
      "Data columns (total 12 columns):\n",
      " #   Column       Non-Null Count  Dtype  \n",
      "---  ------       --------------  -----  \n",
      " 0   PassengerId  891 non-null    int64  \n",
      " 1   Survived     891 non-null    int64  \n",
      " 2   Pclass       891 non-null    int64  \n",
      " 3   Name         891 non-null    object \n",
      " 4   Sex          891 non-null    object \n",
      " 5   Age          714 non-null    float64\n",
      " 6   SibSp        891 non-null    int64  \n",
      " 7   Parch        891 non-null    int64  \n",
      " 8   Ticket       891 non-null    object \n",
      " 9   Fare         891 non-null    float64\n",
      " 10  Cabin        204 non-null    object \n",
      " 11  Embarked     889 non-null    object \n",
      "dtypes: float64(2), int64(5), object(5)\n",
      "memory usage: 83.7+ KB\n"
     ]
    }
   ],
   "source": [
    "df.info() "
   ]
  },
  {
   "cell_type": "markdown",
   "id": "57fd5c9f",
   "metadata": {
    "papermill": {
     "duration": 0.012875,
     "end_time": "2025-04-16T11:15:38.165091",
     "exception": false,
     "start_time": "2025-04-16T11:15:38.152216",
     "status": "completed"
    },
    "tags": []
   },
   "source": [
    "### 3. 🔍 **Dimensions of the DataFrame**"
   ]
  },
  {
   "cell_type": "code",
   "execution_count": 5,
   "id": "cf680d22",
   "metadata": {
    "execution": {
     "iopub.execute_input": "2025-04-16T11:15:38.191443Z",
     "iopub.status.busy": "2025-04-16T11:15:38.191127Z",
     "iopub.status.idle": "2025-04-16T11:15:38.196391Z",
     "shell.execute_reply": "2025-04-16T11:15:38.195193Z"
    },
    "papermill": {
     "duration": 0.019974,
     "end_time": "2025-04-16T11:15:38.197747",
     "exception": false,
     "start_time": "2025-04-16T11:15:38.177773",
     "status": "completed"
    },
    "tags": []
   },
   "outputs": [
    {
     "name": "stdout",
     "output_type": "stream",
     "text": [
      "Rows: 891\n",
      "Columns: 12\n"
     ]
    }
   ],
   "source": [
    "print(f'Rows: {df.shape[0]}')\n",
    "print(f'Columns: {df.shape[1]}')  "
   ]
  },
  {
   "cell_type": "markdown",
   "id": "af07bfbd",
   "metadata": {
    "papermill": {
     "duration": 0.012458,
     "end_time": "2025-04-16T11:15:38.223137",
     "exception": false,
     "start_time": "2025-04-16T11:15:38.210679",
     "status": "completed"
    },
    "tags": []
   },
   "source": [
    "### 4. 🔍 **Descriptive Statistics for numerical & categorical variables**"
   ]
  },
  {
   "cell_type": "code",
   "execution_count": 6,
   "id": "a32e2205",
   "metadata": {
    "execution": {
     "iopub.execute_input": "2025-04-16T11:15:38.249948Z",
     "iopub.status.busy": "2025-04-16T11:15:38.249546Z",
     "iopub.status.idle": "2025-04-16T11:15:38.276555Z",
     "shell.execute_reply": "2025-04-16T11:15:38.275613Z"
    },
    "papermill": {
     "duration": 0.042004,
     "end_time": "2025-04-16T11:15:38.278017",
     "exception": false,
     "start_time": "2025-04-16T11:15:38.236013",
     "status": "completed"
    },
    "tags": []
   },
   "outputs": [
    {
     "data": {
      "text/html": [
       "<div>\n",
       "<style scoped>\n",
       "    .dataframe tbody tr th:only-of-type {\n",
       "        vertical-align: middle;\n",
       "    }\n",
       "\n",
       "    .dataframe tbody tr th {\n",
       "        vertical-align: top;\n",
       "    }\n",
       "\n",
       "    .dataframe thead th {\n",
       "        text-align: right;\n",
       "    }\n",
       "</style>\n",
       "<table border=\"1\" class=\"dataframe\">\n",
       "  <thead>\n",
       "    <tr style=\"text-align: right;\">\n",
       "      <th></th>\n",
       "      <th>PassengerId</th>\n",
       "      <th>Survived</th>\n",
       "      <th>Pclass</th>\n",
       "      <th>Age</th>\n",
       "      <th>SibSp</th>\n",
       "      <th>Parch</th>\n",
       "      <th>Fare</th>\n",
       "    </tr>\n",
       "  </thead>\n",
       "  <tbody>\n",
       "    <tr>\n",
       "      <th>count</th>\n",
       "      <td>891.000000</td>\n",
       "      <td>891.000000</td>\n",
       "      <td>891.000000</td>\n",
       "      <td>714.000000</td>\n",
       "      <td>891.000000</td>\n",
       "      <td>891.000000</td>\n",
       "      <td>891.000000</td>\n",
       "    </tr>\n",
       "    <tr>\n",
       "      <th>mean</th>\n",
       "      <td>446.000000</td>\n",
       "      <td>0.383838</td>\n",
       "      <td>2.308642</td>\n",
       "      <td>29.699118</td>\n",
       "      <td>0.523008</td>\n",
       "      <td>0.381594</td>\n",
       "      <td>32.204208</td>\n",
       "    </tr>\n",
       "    <tr>\n",
       "      <th>std</th>\n",
       "      <td>257.353842</td>\n",
       "      <td>0.486592</td>\n",
       "      <td>0.836071</td>\n",
       "      <td>14.526497</td>\n",
       "      <td>1.102743</td>\n",
       "      <td>0.806057</td>\n",
       "      <td>49.693429</td>\n",
       "    </tr>\n",
       "    <tr>\n",
       "      <th>min</th>\n",
       "      <td>1.000000</td>\n",
       "      <td>0.000000</td>\n",
       "      <td>1.000000</td>\n",
       "      <td>0.420000</td>\n",
       "      <td>0.000000</td>\n",
       "      <td>0.000000</td>\n",
       "      <td>0.000000</td>\n",
       "    </tr>\n",
       "    <tr>\n",
       "      <th>25%</th>\n",
       "      <td>223.500000</td>\n",
       "      <td>0.000000</td>\n",
       "      <td>2.000000</td>\n",
       "      <td>20.125000</td>\n",
       "      <td>0.000000</td>\n",
       "      <td>0.000000</td>\n",
       "      <td>7.910400</td>\n",
       "    </tr>\n",
       "    <tr>\n",
       "      <th>50%</th>\n",
       "      <td>446.000000</td>\n",
       "      <td>0.000000</td>\n",
       "      <td>3.000000</td>\n",
       "      <td>28.000000</td>\n",
       "      <td>0.000000</td>\n",
       "      <td>0.000000</td>\n",
       "      <td>14.454200</td>\n",
       "    </tr>\n",
       "    <tr>\n",
       "      <th>75%</th>\n",
       "      <td>668.500000</td>\n",
       "      <td>1.000000</td>\n",
       "      <td>3.000000</td>\n",
       "      <td>38.000000</td>\n",
       "      <td>1.000000</td>\n",
       "      <td>0.000000</td>\n",
       "      <td>31.000000</td>\n",
       "    </tr>\n",
       "    <tr>\n",
       "      <th>max</th>\n",
       "      <td>891.000000</td>\n",
       "      <td>1.000000</td>\n",
       "      <td>3.000000</td>\n",
       "      <td>80.000000</td>\n",
       "      <td>8.000000</td>\n",
       "      <td>6.000000</td>\n",
       "      <td>512.329200</td>\n",
       "    </tr>\n",
       "  </tbody>\n",
       "</table>\n",
       "</div>"
      ],
      "text/plain": [
       "       PassengerId    Survived      Pclass         Age       SibSp  \\\n",
       "count   891.000000  891.000000  891.000000  714.000000  891.000000   \n",
       "mean    446.000000    0.383838    2.308642   29.699118    0.523008   \n",
       "std     257.353842    0.486592    0.836071   14.526497    1.102743   \n",
       "min       1.000000    0.000000    1.000000    0.420000    0.000000   \n",
       "25%     223.500000    0.000000    2.000000   20.125000    0.000000   \n",
       "50%     446.000000    0.000000    3.000000   28.000000    0.000000   \n",
       "75%     668.500000    1.000000    3.000000   38.000000    1.000000   \n",
       "max     891.000000    1.000000    3.000000   80.000000    8.000000   \n",
       "\n",
       "            Parch        Fare  \n",
       "count  891.000000  891.000000  \n",
       "mean     0.381594   32.204208  \n",
       "std      0.806057   49.693429  \n",
       "min      0.000000    0.000000  \n",
       "25%      0.000000    7.910400  \n",
       "50%      0.000000   14.454200  \n",
       "75%      0.000000   31.000000  \n",
       "max      6.000000  512.329200  "
      ]
     },
     "execution_count": 6,
     "metadata": {},
     "output_type": "execute_result"
    }
   ],
   "source": [
    "df.describe() "
   ]
  },
  {
   "cell_type": "code",
   "execution_count": 7,
   "id": "a41789b1",
   "metadata": {
    "execution": {
     "iopub.execute_input": "2025-04-16T11:15:38.304949Z",
     "iopub.status.busy": "2025-04-16T11:15:38.304593Z",
     "iopub.status.idle": "2025-04-16T11:15:38.324543Z",
     "shell.execute_reply": "2025-04-16T11:15:38.323523Z"
    },
    "papermill": {
     "duration": 0.035188,
     "end_time": "2025-04-16T11:15:38.326387",
     "exception": false,
     "start_time": "2025-04-16T11:15:38.291199",
     "status": "completed"
    },
    "tags": []
   },
   "outputs": [
    {
     "data": {
      "text/html": [
       "<div>\n",
       "<style scoped>\n",
       "    .dataframe tbody tr th:only-of-type {\n",
       "        vertical-align: middle;\n",
       "    }\n",
       "\n",
       "    .dataframe tbody tr th {\n",
       "        vertical-align: top;\n",
       "    }\n",
       "\n",
       "    .dataframe thead th {\n",
       "        text-align: right;\n",
       "    }\n",
       "</style>\n",
       "<table border=\"1\" class=\"dataframe\">\n",
       "  <thead>\n",
       "    <tr style=\"text-align: right;\">\n",
       "      <th></th>\n",
       "      <th>Name</th>\n",
       "      <th>Sex</th>\n",
       "      <th>Ticket</th>\n",
       "      <th>Cabin</th>\n",
       "      <th>Embarked</th>\n",
       "    </tr>\n",
       "  </thead>\n",
       "  <tbody>\n",
       "    <tr>\n",
       "      <th>count</th>\n",
       "      <td>891</td>\n",
       "      <td>891</td>\n",
       "      <td>891</td>\n",
       "      <td>204</td>\n",
       "      <td>889</td>\n",
       "    </tr>\n",
       "    <tr>\n",
       "      <th>unique</th>\n",
       "      <td>891</td>\n",
       "      <td>2</td>\n",
       "      <td>681</td>\n",
       "      <td>147</td>\n",
       "      <td>3</td>\n",
       "    </tr>\n",
       "    <tr>\n",
       "      <th>top</th>\n",
       "      <td>Braund, Mr. Owen Harris</td>\n",
       "      <td>male</td>\n",
       "      <td>347082</td>\n",
       "      <td>B96 B98</td>\n",
       "      <td>S</td>\n",
       "    </tr>\n",
       "    <tr>\n",
       "      <th>freq</th>\n",
       "      <td>1</td>\n",
       "      <td>577</td>\n",
       "      <td>7</td>\n",
       "      <td>4</td>\n",
       "      <td>644</td>\n",
       "    </tr>\n",
       "  </tbody>\n",
       "</table>\n",
       "</div>"
      ],
      "text/plain": [
       "                           Name   Sex  Ticket    Cabin Embarked\n",
       "count                       891   891     891      204      889\n",
       "unique                      891     2     681      147        3\n",
       "top     Braund, Mr. Owen Harris  male  347082  B96 B98        S\n",
       "freq                          1   577       7        4      644"
      ]
     },
     "execution_count": 7,
     "metadata": {},
     "output_type": "execute_result"
    }
   ],
   "source": [
    "categorical_var = df.dtypes[df.dtypes == 'object'].index \n",
    "df[categorical_var].describe()  "
   ]
  },
  {
   "cell_type": "markdown",
   "id": "f152e463",
   "metadata": {
    "papermill": {
     "duration": 0.012834,
     "end_time": "2025-04-16T11:15:38.352913",
     "exception": false,
     "start_time": "2025-04-16T11:15:38.340079",
     "status": "completed"
    },
    "tags": []
   },
   "source": [
    "### 5. 🔍 **Missing Values & Outliers**"
   ]
  },
  {
   "cell_type": "code",
   "execution_count": 8,
   "id": "7dc86347",
   "metadata": {
    "execution": {
     "iopub.execute_input": "2025-04-16T11:15:38.380283Z",
     "iopub.status.busy": "2025-04-16T11:15:38.379915Z",
     "iopub.status.idle": "2025-04-16T11:15:38.387638Z",
     "shell.execute_reply": "2025-04-16T11:15:38.386771Z"
    },
    "papermill": {
     "duration": 0.023297,
     "end_time": "2025-04-16T11:15:38.389229",
     "exception": false,
     "start_time": "2025-04-16T11:15:38.365932",
     "status": "completed"
    },
    "tags": []
   },
   "outputs": [
    {
     "data": {
      "text/plain": [
       "Cabin          687\n",
       "Age            177\n",
       "Embarked         2\n",
       "PassengerId      0\n",
       "Survived         0\n",
       "Pclass           0\n",
       "Name             0\n",
       "Sex              0\n",
       "SibSp            0\n",
       "Parch            0\n",
       "Ticket           0\n",
       "Fare             0\n",
       "dtype: int64"
      ]
     },
     "execution_count": 8,
     "metadata": {},
     "output_type": "execute_result"
    }
   ],
   "source": [
    "df.isnull().sum().sort_values(ascending = False) "
   ]
  },
  {
   "cell_type": "code",
   "execution_count": 9,
   "id": "4baa0505",
   "metadata": {
    "execution": {
     "iopub.execute_input": "2025-04-16T11:15:38.417513Z",
     "iopub.status.busy": "2025-04-16T11:15:38.417176Z",
     "iopub.status.idle": "2025-04-16T11:15:38.425364Z",
     "shell.execute_reply": "2025-04-16T11:15:38.424533Z"
    },
    "papermill": {
     "duration": 0.023985,
     "end_time": "2025-04-16T11:15:38.426985",
     "exception": false,
     "start_time": "2025-04-16T11:15:38.403000",
     "status": "completed"
    },
    "tags": []
   },
   "outputs": [
    {
     "data": {
      "text/plain": [
       "Cabin          77.104377\n",
       "Age            19.865320\n",
       "Embarked        0.224467\n",
       "PassengerId     0.000000\n",
       "Survived        0.000000\n",
       "Pclass          0.000000\n",
       "Name            0.000000\n",
       "Sex             0.000000\n",
       "SibSp           0.000000\n",
       "Parch           0.000000\n",
       "Ticket          0.000000\n",
       "Fare            0.000000\n",
       "dtype: float64"
      ]
     },
     "execution_count": 9,
     "metadata": {},
     "output_type": "execute_result"
    }
   ],
   "source": [
    "(df.isnull().sum() / len(df)*100).sort_values(ascending = False) "
   ]
  },
  {
   "cell_type": "code",
   "execution_count": 10,
   "id": "a39f6c85",
   "metadata": {
    "execution": {
     "iopub.execute_input": "2025-04-16T11:15:38.456109Z",
     "iopub.status.busy": "2025-04-16T11:15:38.455761Z",
     "iopub.status.idle": "2025-04-16T11:15:38.715100Z",
     "shell.execute_reply": "2025-04-16T11:15:38.714041Z"
    },
    "papermill": {
     "duration": 0.275623,
     "end_time": "2025-04-16T11:15:38.716842",
     "exception": false,
     "start_time": "2025-04-16T11:15:38.441219",
     "status": "completed"
    },
    "tags": []
   },
   "outputs": [
    {
     "data": {
      "text/plain": [
       "<Axes: >"
      ]
     },
     "execution_count": 10,
     "metadata": {},
     "output_type": "execute_result"
    },
    {
     "data": {
      "image/png": "[encoded data removed]",
      "text/plain": [
       "<Figure size 640x480 with 1 Axes>"
      ]
     },
     "metadata": {},
     "output_type": "display_data"
    }
   ],
   "source": [
    "sns.heatmap(df.isnull(), yticklabels=False, cbar=False) "
   ]
  },
  {
   "cell_type": "code",
   "execution_count": 11,
   "id": "9ef2d47a",
   "metadata": {
    "execution": {
     "iopub.execute_input": "2025-04-16T11:15:38.745775Z",
     "iopub.status.busy": "2025-04-16T11:15:38.745431Z",
     "iopub.status.idle": "2025-04-16T11:15:40.684265Z",
     "shell.execute_reply": "2025-04-16T11:15:40.683120Z"
    },
    "papermill": {
     "duration": 1.95566,
     "end_time": "2025-04-16T11:15:40.686523",
     "exception": false,
     "start_time": "2025-04-16T11:15:38.730863",
     "status": "completed"
    },
    "tags": []
   },
   "outputs": [
    {
     "data": {
      "text/html": [
       "<html>\n",
       "<head><meta charset=\"utf-8\" /></head>\n",
       "<body>\n",
       "    <div>            <script src=\"https://cdnjs.cloudflare.com/ajax/libs/mathjax/2.7.5/MathJax.js?config=TeX-AMS-MML_SVG\"></script><script type=\"text/javascript\">if (window.MathJax && window.MathJax.Hub && window.MathJax.Hub.Config) {window.MathJax.Hub.Config({SVG: {font: \"STIX-Web\"}});}</script>                <script type=\"text/javascript\">window.PlotlyConfig = {MathJaxConfig: 'local'};</script>\n",
       "        <script charset=\"utf-8\" src=\"https://cdn.plot.ly/plotly-2.35.2.min.js\"></script>                <div id=\"180595d0-8757-479c-b672-bd09847121c9\" class=\"plotly-graph-div\" style=\"height:525px; width:100%;\"></div>            <script type=\"text/javascript\">                                    window.PLOTLYENV=window.PLOTLYENV || {};                                    if (document.getElementById(\"180595d0-8757-479c-b672-bd09847121c9\")) {                    Plotly.newPlot(                        \"180595d0-8757-479c-b672-bd09847121c9\",                        [{\"alignmentgroup\":\"True\",\"hovertemplate\":\"variable=%{x}\\u003cbr\\u003evalue=%{y}\\u003cextra\\u003e\\u003c\\u002fextra\\u003e\",\"legendgroup\":\"\",\"marker\":{\"color\":\"#636efa\"},\"name\":\"\",\"notched\":false,\"offsetgroup\":\"\",\"orientation\":\"v\",\"showlegend\":false,\"x\":[\"PassengerId\",\"PassengerId\",\"PassengerId\",\"PassengerId\",\"PassengerId\",\"PassengerId\",\"PassengerId\",\"PassengerId\",\"PassengerId\",\"PassengerId\",\"PassengerId\",\"PassengerId\",\"PassengerId\",\"PassengerId\",\"PassengerId\",\"PassengerId\",\"PassengerId\",\"PassengerId\",\"PassengerId\",\"PassengerId\",\"PassengerId\",\"PassengerId\",\"PassengerId\",\"PassengerId\",\"PassengerId\",\"PassengerId\",\"PassengerId\",\"PassengerId\",\"PassengerId\",\"PassengerId\",\"PassengerId\",\"PassengerId\",\"PassengerId\",\"PassengerId\",\"PassengerId\",\"PassengerId\",\"PassengerId\",\"PassengerId\",\"PassengerId\",\"PassengerId\",\"PassengerId\",\"PassengerId\",\"PassengerId\",\"PassengerId\",\"PassengerId\",\"PassengerId\",\"PassengerId\",\"PassengerId\",\"PassengerId\",\"PassengerId\",\"PassengerId\",\"PassengerId\",\"PassengerId\",\"PassengerId\",\"PassengerId\",\"PassengerId\",\"PassengerId\",\"PassengerId\",\"PassengerId\",\"PassengerId\",\"PassengerId\",\"PassengerId\",\"PassengerId\",\"PassengerId\",\"PassengerId\",\"PassengerId\",\"PassengerId\",\"PassengerId\",\"PassengerId\",\"PassengerId\",\"PassengerId\",\"PassengerId\",\"PassengerId\",\"PassengerId\",\"PassengerId\",\"PassengerId\",\"PassengerId\",\"PassengerId\",\"PassengerId\",\"PassengerId\",\"PassengerId\",\"PassengerId\",\"PassengerId\",\"PassengerId\",\"PassengerId\",\"PassengerId\",\"PassengerId\",\"PassengerId\",\"PassengerId\",\"PassengerId\",\"PassengerId\",\"PassengerId\",\"PassengerId\",\"PassengerId\",\"PassengerId\",\"PassengerId\",\"PassengerId\",\"PassengerId\",\"PassengerId\",\"PassengerId\",\"PassengerId\",\"PassengerId\",\"PassengerId\",\"PassengerId\",\"PassengerId\",\"PassengerId\",\"PassengerId\",\"PassengerId\",\"PassengerId\",\"PassengerId\",\"PassengerId\",\"PassengerId\",\"PassengerId\",\"PassengerId\",\"PassengerId\",\"PassengerId\",\"PassengerId\",\"PassengerId\",\"PassengerId\",\"PassengerId\",\"PassengerId\",\"PassengerId\",\"PassengerId\",\"PassengerId\",\"PassengerId\",\"PassengerId\",\"PassengerId\",\"PassengerId\",\"PassengerId\",\"PassengerId\",\"PassengerId\",\"PassengerId\",\"PassengerId\",\"PassengerId\",\"PassengerId\",\"PassengerId\",\"PassengerId\",\"PassengerId\",\"PassengerId\",\"PassengerId\",\"PassengerId\",\"PassengerId\",\"PassengerId\",\"PassengerId\",\"PassengerId\",\"PassengerId\",\"PassengerId\",\"PassengerId\",\"PassengerId\",\"PassengerId\",\"PassengerId\",\"PassengerId\",\"PassengerId\",\"PassengerId\",\"PassengerId\",\"PassengerId\",\"PassengerId\",\"PassengerId\",\"PassengerId\",\"PassengerId\",\"PassengerId\",\"PassengerId\",\"PassengerId\",\"PassengerId\",\"PassengerId\",\"PassengerId\",\"PassengerId\",\"PassengerId\",\"PassengerId\",\"PassengerId\",\"PassengerId\",\"PassengerId\",\"PassengerId\",\"PassengerId\",\"PassengerId\",\"PassengerId\",\"PassengerId\",\"PassengerId\",\"PassengerId\",\"PassengerId\",\"PassengerId\",\"PassengerId\",\"PassengerId\",\"PassengerId\",\"PassengerId\",\"PassengerId\",\"PassengerId\",\"PassengerId\",\"PassengerId\",\"PassengerId\",\"PassengerId\",\"PassengerId\",\"PassengerId\",\"PassengerId\",\"PassengerId\",\"PassengerId\",\"PassengerId\",\"PassengerId\",\"PassengerId\",\"PassengerId\",\"PassengerId\",\"PassengerId\",\"PassengerId\",\"PassengerId\",\"PassengerId\",\"PassengerId\",\"PassengerId\",\"PassengerId\",\"PassengerId\",\"PassengerId\",\"PassengerId\",\"PassengerId\",\"PassengerId\",\"PassengerId\",\"PassengerId\",\"PassengerId\",\"PassengerId\",\"PassengerId\",\"PassengerId\",\"PassengerId\",\"PassengerId\",\"PassengerId\",\"PassengerId\",\"PassengerId\",\"PassengerId\",\"PassengerId\",\"PassengerId\",\"PassengerId\",\"PassengerId\",\"PassengerId\",\"PassengerId\",\"PassengerId\",\"PassengerId\",\"PassengerId\",\"PassengerId\",\"PassengerId\",\"PassengerId\",\"PassengerId\",\"PassengerId\",\"PassengerId\",\"PassengerId\",\"PassengerId\",\"PassengerId\",\"PassengerId\",\"PassengerId\",\"PassengerId\",\"PassengerId\",\"PassengerId\",\"PassengerId\",\"PassengerId\",\"PassengerId\",\"PassengerId\",\"PassengerId\",\"PassengerId\",\"PassengerId\",\"PassengerId\",\"PassengerId\",\"PassengerId\",\"PassengerId\",\"PassengerId\",\"PassengerId\",\"PassengerId\",\"PassengerId\",\"PassengerId\",\"PassengerId\",\"PassengerId\",\"PassengerId\",\"PassengerId\",\"PassengerId\",\"PassengerId\",\"PassengerId\",\"PassengerId\",\"PassengerId\",\"PassengerId\",\"PassengerId\",\"PassengerId\",\"PassengerId\",\"PassengerId\",\"PassengerId\",\"PassengerId\",\"PassengerId\",\"PassengerId\",\"PassengerId\",\"PassengerId\",\"PassengerId\",\"PassengerId\",\"PassengerId\",\"PassengerId\",\"PassengerId\",\"PassengerId\",\"PassengerId\",\"PassengerId\",\"PassengerId\",\"PassengerId\",\"PassengerId\",\"PassengerId\",\"PassengerId\",\"PassengerId\",\"PassengerId\",\"PassengerId\",\"PassengerId\",\"PassengerId\",\"PassengerId\",\"PassengerId\",\"PassengerId\",\"PassengerId\",\"PassengerId\",\"PassengerId\",\"PassengerId\",\"PassengerId\",\"PassengerId\",\"PassengerId\",\"PassengerId\",\"PassengerId\",\"PassengerId\",\"PassengerId\",\"PassengerId\",\"PassengerId\",\"PassengerId\",\"PassengerId\",\"PassengerId\",\"PassengerId\",\"PassengerId\",\"PassengerId\",\"PassengerId\",\"PassengerId\",\"PassengerId\",\"PassengerId\",\"PassengerId\",\"PassengerId\",\"PassengerId\",\"PassengerId\",\"PassengerId\",\"PassengerId\",\"PassengerId\",\"PassengerId\",\"PassengerId\",\"PassengerId\",\"PassengerId\",\"PassengerId\",\"PassengerId\",\"PassengerId\",\"PassengerId\",\"PassengerId\",\"PassengerId\",\"PassengerId\",\"PassengerId\",\"PassengerId\",\"PassengerId\",\"PassengerId\",\"PassengerId\",\"PassengerId\",\"PassengerId\",\"PassengerId\",\"PassengerId\",\"PassengerId\",\"PassengerId\",\"PassengerId\",\"PassengerId\",\"PassengerId\",\"PassengerId\",\"PassengerId\",\"PassengerId\",\"PassengerId\",\"PassengerId\",\"PassengerId\",\"PassengerId\",\"PassengerId\",\"PassengerId\",\"PassengerId\",\"PassengerId\",\"PassengerId\",\"PassengerId\",\"PassengerId\",\"PassengerId\",\"PassengerId\",\"PassengerId\",\"PassengerId\",\"PassengerId\",\"PassengerId\",\"PassengerId\",\"PassengerId\",\"PassengerId\",\"PassengerId\",\"PassengerId\",\"PassengerId\",\"PassengerId\",\"PassengerId\",\"PassengerId\",\"PassengerId\",\"PassengerId\",\"PassengerId\",\"PassengerId\",\"PassengerId\",\"PassengerId\",\"PassengerId\",\"PassengerId\",\"PassengerId\",\"PassengerId\",\"PassengerId\",\"PassengerId\",\"PassengerId\",\"PassengerId\",\"PassengerId\",\"PassengerId\",\"PassengerId\",\"PassengerId\",\"PassengerId\",\"PassengerId\",\"PassengerId\",\"PassengerId\",\"PassengerId\",\"PassengerId\",\"PassengerId\",\"PassengerId\",\"PassengerId\",\"PassengerId\",\"PassengerId\",\"PassengerId\",\"PassengerId\",\"PassengerId\",\"PassengerId\",\"PassengerId\",\"PassengerId\",\"PassengerId\",\"PassengerId\",\"PassengerId\",\"PassengerId\",\"PassengerId\",\"PassengerId\",\"PassengerId\",\"PassengerId\",\"PassengerId\",\"PassengerId\",\"PassengerId\",\"PassengerId\",\"PassengerId\",\"PassengerId\",\"PassengerId\",\"PassengerId\",\"PassengerId\",\"PassengerId\",\"PassengerId\",\"PassengerId\",\"PassengerId\",\"PassengerId\",\"PassengerId\",\"PassengerId\",\"PassengerId\",\"PassengerId\",\"PassengerId\",\"PassengerId\",\"PassengerId\",\"PassengerId\",\"PassengerId\",\"PassengerId\",\"PassengerId\",\"PassengerId\",\"PassengerId\",\"PassengerId\",\"PassengerId\",\"PassengerId\",\"PassengerId\",\"PassengerId\",\"PassengerId\",\"PassengerId\",\"PassengerId\",\"PassengerId\",\"PassengerId\",\"PassengerId\",\"PassengerId\",\"PassengerId\",\"PassengerId\",\"PassengerId\",\"PassengerId\",\"PassengerId\",\"PassengerId\",\"PassengerId\",\"PassengerId\",\"PassengerId\",\"PassengerId\",\"PassengerId\",\"PassengerId\",\"PassengerId\",\"PassengerId\",\"PassengerId\",\"PassengerId\",\"PassengerId\",\"PassengerId\",\"PassengerId\",\"PassengerId\",\"PassengerId\",\"PassengerId\",\"PassengerId\",\"PassengerId\",\"PassengerId\",\"PassengerId\",\"PassengerId\",\"PassengerId\",\"PassengerId\",\"PassengerId\",\"PassengerId\",\"PassengerId\",\"PassengerId\",\"PassengerId\",\"PassengerId\",\"PassengerId\",\"PassengerId\",\"PassengerId\",\"PassengerId\",\"PassengerId\",\"PassengerId\",\"PassengerId\",\"PassengerId\",\"PassengerId\",\"PassengerId\",\"PassengerId\",\"PassengerId\",\"PassengerId\",\"PassengerId\",\"PassengerId\",\"PassengerId\",\"PassengerId\",\"PassengerId\",\"PassengerId\",\"PassengerId\",\"PassengerId\",\"PassengerId\",\"PassengerId\",\"PassengerId\",\"PassengerId\",\"PassengerId\",\"PassengerId\",\"PassengerId\",\"PassengerId\",\"PassengerId\",\"PassengerId\",\"PassengerId\",\"PassengerId\",\"PassengerId\",\"PassengerId\",\"PassengerId\",\"PassengerId\",\"PassengerId\",\"PassengerId\",\"PassengerId\",\"PassengerId\",\"PassengerId\",\"PassengerId\",\"PassengerId\",\"PassengerId\",\"PassengerId\",\"PassengerId\",\"PassengerId\",\"PassengerId\",\"PassengerId\",\"PassengerId\",\"PassengerId\",\"PassengerId\",\"PassengerId\",\"PassengerId\",\"PassengerId\",\"PassengerId\",\"PassengerId\",\"PassengerId\",\"PassengerId\",\"PassengerId\",\"PassengerId\",\"PassengerId\",\"PassengerId\",\"PassengerId\",\"PassengerId\",\"PassengerId\",\"PassengerId\",\"PassengerId\",\"PassengerId\",\"PassengerId\",\"PassengerId\",\"PassengerId\",\"PassengerId\",\"PassengerId\",\"PassengerId\",\"PassengerId\",\"PassengerId\",\"PassengerId\",\"PassengerId\",\"PassengerId\",\"PassengerId\",\"PassengerId\",\"PassengerId\",\"PassengerId\",\"PassengerId\",\"PassengerId\",\"PassengerId\",\"PassengerId\",\"PassengerId\",\"PassengerId\",\"PassengerId\",\"PassengerId\",\"PassengerId\",\"PassengerId\",\"PassengerId\",\"PassengerId\",\"PassengerId\",\"PassengerId\",\"PassengerId\",\"PassengerId\",\"PassengerId\",\"PassengerId\",\"PassengerId\",\"PassengerId\",\"PassengerId\",\"PassengerId\",\"PassengerId\",\"PassengerId\",\"PassengerId\",\"PassengerId\",\"PassengerId\",\"PassengerId\",\"PassengerId\",\"PassengerId\",\"PassengerId\",\"PassengerId\",\"PassengerId\",\"PassengerId\",\"PassengerId\",\"PassengerId\",\"PassengerId\",\"PassengerId\",\"PassengerId\",\"PassengerId\",\"PassengerId\",\"PassengerId\",\"PassengerId\",\"PassengerId\",\"PassengerId\",\"PassengerId\",\"PassengerId\",\"PassengerId\",\"PassengerId\",\"PassengerId\",\"PassengerId\",\"PassengerId\",\"PassengerId\",\"PassengerId\",\"PassengerId\",\"PassengerId\",\"PassengerId\",\"PassengerId\",\"PassengerId\",\"PassengerId\",\"PassengerId\",\"PassengerId\",\"PassengerId\",\"PassengerId\",\"PassengerId\",\"PassengerId\",\"PassengerId\",\"PassengerId\",\"PassengerId\",\"PassengerId\",\"PassengerId\",\"PassengerId\",\"PassengerId\",\"PassengerId\",\"PassengerId\",\"PassengerId\",\"PassengerId\",\"PassengerId\",\"PassengerId\",\"PassengerId\",\"PassengerId\",\"PassengerId\",\"PassengerId\",\"PassengerId\",\"PassengerId\",\"PassengerId\",\"PassengerId\",\"PassengerId\",\"PassengerId\",\"PassengerId\",\"PassengerId\",\"PassengerId\",\"PassengerId\",\"PassengerId\",\"PassengerId\",\"PassengerId\",\"PassengerId\",\"PassengerId\",\"PassengerId\",\"PassengerId\",\"PassengerId\",\"PassengerId\",\"PassengerId\",\"PassengerId\",\"PassengerId\",\"PassengerId\",\"PassengerId\",\"PassengerId\",\"PassengerId\",\"PassengerId\",\"PassengerId\",\"PassengerId\",\"PassengerId\",\"PassengerId\",\"PassengerId\",\"PassengerId\",\"PassengerId\",\"PassengerId\",\"PassengerId\",\"PassengerId\",\"PassengerId\",\"PassengerId\",\"PassengerId\",\"PassengerId\",\"PassengerId\",\"PassengerId\",\"PassengerId\",\"PassengerId\",\"PassengerId\",\"PassengerId\",\"PassengerId\",\"PassengerId\",\"PassengerId\",\"PassengerId\",\"PassengerId\",\"PassengerId\",\"PassengerId\",\"PassengerId\",\"PassengerId\",\"PassengerId\",\"PassengerId\",\"PassengerId\",\"PassengerId\",\"PassengerId\",\"PassengerId\",\"PassengerId\",\"PassengerId\",\"PassengerId\",\"PassengerId\",\"PassengerId\",\"PassengerId\",\"PassengerId\",\"PassengerId\",\"PassengerId\",\"PassengerId\",\"PassengerId\",\"PassengerId\",\"PassengerId\",\"PassengerId\",\"PassengerId\",\"PassengerId\",\"PassengerId\",\"PassengerId\",\"PassengerId\",\"PassengerId\",\"PassengerId\",\"PassengerId\",\"PassengerId\",\"PassengerId\",\"PassengerId\",\"PassengerId\",\"PassengerId\",\"PassengerId\",\"PassengerId\",\"PassengerId\",\"PassengerId\",\"PassengerId\",\"PassengerId\",\"PassengerId\",\"PassengerId\",\"PassengerId\",\"PassengerId\",\"PassengerId\",\"PassengerId\",\"PassengerId\",\"PassengerId\",\"PassengerId\",\"PassengerId\",\"PassengerId\",\"PassengerId\",\"PassengerId\",\"PassengerId\",\"PassengerId\",\"PassengerId\",\"PassengerId\",\"PassengerId\",\"PassengerId\",\"PassengerId\",\"PassengerId\",\"PassengerId\",\"PassengerId\",\"PassengerId\",\"PassengerId\",\"PassengerId\",\"PassengerId\",\"PassengerId\",\"PassengerId\",\"PassengerId\",\"PassengerId\",\"PassengerId\",\"PassengerId\",\"PassengerId\",\"PassengerId\",\"PassengerId\",\"PassengerId\",\"PassengerId\",\"PassengerId\",\"PassengerId\",\"PassengerId\",\"PassengerId\",\"PassengerId\",\"PassengerId\",\"PassengerId\",\"PassengerId\",\"PassengerId\",\"PassengerId\",\"PassengerId\",\"PassengerId\",\"PassengerId\",\"PassengerId\",\"PassengerId\",\"PassengerId\",\"PassengerId\",\"PassengerId\",\"PassengerId\",\"PassengerId\",\"PassengerId\",\"PassengerId\",\"PassengerId\",\"PassengerId\",\"PassengerId\",\"PassengerId\",\"PassengerId\",\"PassengerId\",\"PassengerId\",\"PassengerId\",\"PassengerId\",\"PassengerId\",\"PassengerId\",\"PassengerId\",\"PassengerId\",\"PassengerId\",\"PassengerId\",\"PassengerId\",\"PassengerId\",\"PassengerId\",\"PassengerId\",\"PassengerId\",\"PassengerId\",\"PassengerId\",\"PassengerId\",\"PassengerId\",\"PassengerId\",\"PassengerId\",\"PassengerId\",\"PassengerId\",\"PassengerId\",\"PassengerId\",\"PassengerId\",\"PassengerId\",\"PassengerId\",\"PassengerId\",\"PassengerId\",\"PassengerId\",\"PassengerId\",\"PassengerId\",\"PassengerId\",\"PassengerId\",\"PassengerId\",\"PassengerId\",\"PassengerId\",\"PassengerId\",\"PassengerId\",\"PassengerId\",\"PassengerId\",\"PassengerId\",\"PassengerId\",\"PassengerId\",\"PassengerId\",\"PassengerId\",\"PassengerId\",\"PassengerId\",\"PassengerId\",\"PassengerId\",\"PassengerId\",\"PassengerId\",\"PassengerId\",\"PassengerId\",\"PassengerId\",\"PassengerId\",\"Survived\",\"Survived\",\"Survived\",\"Survived\",\"Survived\",\"Survived\",\"Survived\",\"Survived\",\"Survived\",\"Survived\",\"Survived\",\"Survived\",\"Survived\",\"Survived\",\"Survived\",\"Survived\",\"Survived\",\"Survived\",\"Survived\",\"Survived\",\"Survived\",\"Survived\",\"Survived\",\"Survived\",\"Survived\",\"Survived\",\"Survived\",\"Survived\",\"Survived\",\"Survived\",\"Survived\",\"Survived\",\"Survived\",\"Survived\",\"Survived\",\"Survived\",\"Survived\",\"Survived\",\"Survived\",\"Survived\",\"Survived\",\"Survived\",\"Survived\",\"Survived\",\"Survived\",\"Survived\",\"Survived\",\"Survived\",\"Survived\",\"Survived\",\"Survived\",\"Survived\",\"Survived\",\"Survived\",\"Survived\",\"Survived\",\"Survived\",\"Survived\",\"Survived\",\"Survived\",\"Survived\",\"Survived\",\"Survived\",\"Survived\",\"Survived\",\"Survived\",\"Survived\",\"Survived\",\"Survived\",\"Survived\",\"Survived\",\"Survived\",\"Survived\",\"Survived\",\"Survived\",\"Survived\",\"Survived\",\"Survived\",\"Survived\",\"Survived\",\"Survived\",\"Survived\",\"Survived\",\"Survived\",\"Survived\",\"Survived\",\"Survived\",\"Survived\",\"Survived\",\"Survived\",\"Survived\",\"Survived\",\"Survived\",\"Survived\",\"Survived\",\"Survived\",\"Survived\",\"Survived\",\"Survived\",\"Survived\",\"Survived\",\"Survived\",\"Survived\",\"Survived\",\"Survived\",\"Survived\",\"Survived\",\"Survived\",\"Survived\",\"Survived\",\"Survived\",\"Survived\",\"Survived\",\"Survived\",\"Survived\",\"Survived\",\"Survived\",\"Survived\",\"Survived\",\"Survived\",\"Survived\",\"Survived\",\"Survived\",\"Survived\",\"Survived\",\"Survived\",\"Survived\",\"Survived\",\"Survived\",\"Survived\",\"Survived\",\"Survived\",\"Survived\",\"Survived\",\"Survived\",\"Survived\",\"Survived\",\"Survived\",\"Survived\",\"Survived\",\"Survived\",\"Survived\",\"Survived\",\"Survived\",\"Survived\",\"Survived\",\"Survived\",\"Survived\",\"Survived\",\"Survived\",\"Survived\",\"Survived\",\"Survived\",\"Survived\",\"Survived\",\"Survived\",\"Survived\",\"Survived\",\"Survived\",\"Survived\",\"Survived\",\"Survived\",\"Survived\",\"Survived\",\"Survived\",\"Survived\",\"Survived\",\"Survived\",\"Survived\",\"Survived\",\"Survived\",\"Survived\",\"Survived\",\"Survived\",\"Survived\",\"Survived\",\"Survived\",\"Survived\",\"Survived\",\"Survived\",\"Survived\",\"Survived\",\"Survived\",\"Survived\",\"Survived\",\"Survived\",\"Survived\",\"Survived\",\"Survived\",\"Survived\",\"Survived\",\"Survived\",\"Survived\",\"Survived\",\"Survived\",\"Survived\",\"Survived\",\"Survived\",\"Survived\",\"Survived\",\"Survived\",\"Survived\",\"Survived\",\"Survived\",\"Survived\",\"Survived\",\"Survived\",\"Survived\",\"Survived\",\"Survived\",\"Survived\",\"Survived\",\"Survived\",\"Survived\",\"Survived\",\"Survived\",\"Survived\",\"Survived\",\"Survived\",\"Survived\",\"Survived\",\"Survived\",\"Survived\",\"Survived\",\"Survived\",\"Survived\",\"Survived\",\"Survived\",\"Survived\",\"Survived\",\"Survived\",\"Survived\",\"Survived\",\"Survived\",\"Survived\",\"Survived\",\"Survived\",\"Survived\",\"Survived\",\"Survived\",\"Survived\",\"Survived\",\"Survived\",\"Survived\",\"Survived\",\"Survived\",\"Survived\",\"Survived\",\"Survived\",\"Survived\",\"Survived\",\"Survived\",\"Survived\",\"Survived\",\"Survived\",\"Survived\",\"Survived\",\"Survived\",\"Survived\",\"Survived\",\"Survived\",\"Survived\",\"Survived\",\"Survived\",\"Survived\",\"Survived\",\"Survived\",\"Survived\",\"Survived\",\"Survived\",\"Survived\",\"Survived\",\"Survived\",\"Survived\",\"Survived\",\"Survived\",\"Survived\",\"Survived\",\"Survived\",\"Survived\",\"Survived\",\"Survived\",\"Survived\",\"Survived\",\"Survived\",\"Survived\",\"Survived\",\"Survived\",\"Survived\",\"Survived\",\"Survived\",\"Survived\",\"Survived\",\"Survived\",\"Survived\",\"Survived\",\"Survived\",\"Survived\",\"Survived\",\"Survived\",\"Survived\",\"Survived\",\"Survived\",\"Survived\",\"Survived\",\"Survived\",\"Survived\",\"Survived\",\"Survived\",\"Survived\",\"Survived\",\"Survived\",\"Survived\",\"Survived\",\"Survived\",\"Survived\",\"Survived\",\"Survived\",\"Survived\",\"Survived\",\"Survived\",\"Survived\",\"Survived\",\"Survived\",\"Survived\",\"Survived\",\"Survived\",\"Survived\",\"Survived\",\"Survived\",\"Survived\",\"Survived\",\"Survived\",\"Survived\",\"Survived\",\"Survived\",\"Survived\",\"Survived\",\"Survived\",\"Survived\",\"Survived\",\"Survived\",\"Survived\",\"Survived\",\"Survived\",\"Survived\",\"Survived\",\"Survived\",\"Survived\",\"Survived\",\"Survived\",\"Survived\",\"Survived\",\"Survived\",\"Survived\",\"Survived\",\"Survived\",\"Survived\",\"Survived\",\"Survived\",\"Survived\",\"Survived\",\"Survived\",\"Survived\",\"Survived\",\"Survived\",\"Survived\",\"Survived\",\"Survived\",\"Survived\",\"Survived\",\"Survived\",\"Survived\",\"Survived\",\"Survived\",\"Survived\",\"Survived\",\"Survived\",\"Survived\",\"Survived\",\"Survived\",\"Survived\",\"Survived\",\"Survived\",\"Survived\",\"Survived\",\"Survived\",\"Survived\",\"Survived\",\"Survived\",\"Survived\",\"Survived\",\"Survived\",\"Survived\",\"Survived\",\"Survived\",\"Survived\",\"Survived\",\"Survived\",\"Survived\",\"Survived\",\"Survived\",\"Survived\",\"Survived\",\"Survived\",\"Survived\",\"Survived\",\"Survived\",\"Survived\",\"Survived\",\"Survived\",\"Survived\",\"Survived\",\"Survived\",\"Survived\",\"Survived\",\"Survived\",\"Survived\",\"Survived\",\"Survived\",\"Survived\",\"Survived\",\"Survived\",\"Survived\",\"Survived\",\"Survived\",\"Survived\",\"Survived\",\"Survived\",\"Survived\",\"Survived\",\"Survived\",\"Survived\",\"Survived\",\"Survived\",\"Survived\",\"Survived\",\"Survived\",\"Survived\",\"Survived\",\"Survived\",\"Survived\",\"Survived\",\"Survived\",\"Survived\",\"Survived\",\"Survived\",\"Survived\",\"Survived\",\"Survived\",\"Survived\",\"Survived\",\"Survived\",\"Survived\",\"Survived\",\"Survived\",\"Survived\",\"Survived\",\"Survived\",\"Survived\",\"Survived\",\"Survived\",\"Survived\",\"Survived\",\"Survived\",\"Survived\",\"Survived\",\"Survived\",\"Survived\",\"Survived\",\"Survived\",\"Survived\",\"Survived\",\"Survived\",\"Survived\",\"Survived\",\"Survived\",\"Survived\",\"Survived\",\"Survived\",\"Survived\",\"Survived\",\"Survived\",\"Survived\",\"Survived\",\"Survived\",\"Survived\",\"Survived\",\"Survived\",\"Survived\",\"Survived\",\"Survived\",\"Survived\",\"Survived\",\"Survived\",\"Survived\",\"Survived\",\"Survived\",\"Survived\",\"Survived\",\"Survived\",\"Survived\",\"Survived\",\"Survived\",\"Survived\",\"Survived\",\"Survived\",\"Survived\",\"Survived\",\"Survived\",\"Survived\",\"Survived\",\"Survived\",\"Survived\",\"Survived\",\"Survived\",\"Survived\",\"Survived\",\"Survived\",\"Survived\",\"Survived\",\"Survived\",\"Survived\",\"Survived\",\"Survived\",\"Survived\",\"Survived\",\"Survived\",\"Survived\",\"Survived\",\"Survived\",\"Survived\",\"Survived\",\"Survived\",\"Survived\",\"Survived\",\"Survived\",\"Survived\",\"Survived\",\"Survived\",\"Survived\",\"Survived\",\"Survived\",\"Survived\",\"Survived\",\"Survived\",\"Survived\",\"Survived\",\"Survived\",\"Survived\",\"Survived\",\"Survived\",\"Survived\",\"Survived\",\"Survived\",\"Survived\",\"Survived\",\"Survived\",\"Survived\",\"Survived\",\"Survived\",\"Survived\",\"Survived\",\"Survived\",\"Survived\",\"Survived\",\"Survived\",\"Survived\",\"Survived\",\"Survived\",\"Survived\",\"Survived\",\"Survived\",\"Survived\",\"Survived\",\"Survived\",\"Survived\",\"Survived\",\"Survived\",\"Survived\",\"Survived\",\"Survived\",\"Survived\",\"Survived\",\"Survived\",\"Survived\",\"Survived\",\"Survived\",\"Survived\",\"Survived\",\"Survived\",\"Survived\",\"Survived\",\"Survived\",\"Survived\",\"Survived\",\"Survived\",\"Survived\",\"Survived\",\"Survived\",\"Survived\",\"Survived\",\"Survived\",\"Survived\",\"Survived\",\"Survived\",\"Survived\",\"Survived\",\"Survived\",\"Survived\",\"Survived\",\"Survived\",\"Survived\",\"Survived\",\"Survived\",\"Survived\",\"Survived\",\"Survived\",\"Survived\",\"Survived\",\"Survived\",\"Survived\",\"Survived\",\"Survived\",\"Survived\",\"Survived\",\"Survived\",\"Survived\",\"Survived\",\"Survived\",\"Survived\",\"Survived\",\"Survived\",\"Survived\",\"Survived\",\"Survived\",\"Survived\",\"Survived\",\"Survived\",\"Survived\",\"Survived\",\"Survived\",\"Survived\",\"Survived\",\"Survived\",\"Survived\",\"Survived\",\"Survived\",\"Survived\",\"Survived\",\"Survived\",\"Survived\",\"Survived\",\"Survived\",\"Survived\",\"Survived\",\"Survived\",\"Survived\",\"Survived\",\"Survived\",\"Survived\",\"Survived\",\"Survived\",\"Survived\",\"Survived\",\"Survived\",\"Survived\",\"Survived\",\"Survived\",\"Survived\",\"Survived\",\"Survived\",\"Survived\",\"Survived\",\"Survived\",\"Survived\",\"Survived\",\"Survived\",\"Survived\",\"Survived\",\"Survived\",\"Survived\",\"Survived\",\"Survived\",\"Survived\",\"Survived\",\"Survived\",\"Survived\",\"Survived\",\"Survived\",\"Survived\",\"Survived\",\"Survived\",\"Survived\",\"Survived\",\"Survived\",\"Survived\",\"Survived\",\"Survived\",\"Survived\",\"Survived\",\"Survived\",\"Survived\",\"Survived\",\"Survived\",\"Survived\",\"Survived\",\"Survived\",\"Survived\",\"Survived\",\"Survived\",\"Survived\",\"Survived\",\"Survived\",\"Survived\",\"Survived\",\"Survived\",\"Survived\",\"Survived\",\"Survived\",\"Survived\",\"Survived\",\"Survived\",\"Survived\",\"Survived\",\"Survived\",\"Survived\",\"Survived\",\"Survived\",\"Survived\",\"Survived\",\"Survived\",\"Survived\",\"Survived\",\"Survived\",\"Survived\",\"Survived\",\"Survived\",\"Survived\",\"Survived\",\"Survived\",\"Survived\",\"Survived\",\"Survived\",\"Survived\",\"Survived\",\"Survived\",\"Survived\",\"Survived\",\"Survived\",\"Survived\",\"Survived\",\"Survived\",\"Survived\",\"Survived\",\"Survived\",\"Survived\",\"Survived\",\"Survived\",\"Survived\",\"Survived\",\"Survived\",\"Survived\",\"Survived\",\"Survived\",\"Survived\",\"Survived\",\"Survived\",\"Survived\",\"Survived\",\"Survived\",\"Survived\",\"Survived\",\"Survived\",\"Survived\",\"Survived\",\"Survived\",\"Survived\",\"Survived\",\"Survived\",\"Survived\",\"Survived\",\"Survived\",\"Survived\",\"Survived\",\"Survived\",\"Survived\",\"Survived\",\"Survived\",\"Survived\",\"Survived\",\"Survived\",\"Survived\",\"Survived\",\"Survived\",\"Survived\",\"Survived\",\"Survived\",\"Survived\",\"Survived\",\"Survived\",\"Survived\",\"Survived\",\"Survived\",\"Survived\",\"Survived\",\"Survived\",\"Survived\",\"Survived\",\"Survived\",\"Survived\",\"Survived\",\"Survived\",\"Survived\",\"Survived\",\"Survived\",\"Survived\",\"Survived\",\"Survived\",\"Survived\",\"Survived\",\"Survived\",\"Survived\",\"Survived\",\"Survived\",\"Survived\",\"Survived\",\"Survived\",\"Survived\",\"Survived\",\"Survived\",\"Survived\",\"Survived\",\"Survived\",\"Survived\",\"Survived\",\"Survived\",\"Survived\",\"Survived\",\"Survived\",\"Survived\",\"Survived\",\"Survived\",\"Survived\",\"Survived\",\"Survived\",\"Survived\",\"Survived\",\"Survived\",\"Survived\",\"Survived\",\"Survived\",\"Survived\",\"Survived\",\"Survived\",\"Survived\",\"Survived\",\"Survived\",\"Survived\",\"Survived\",\"Survived\",\"Survived\",\"Survived\",\"Survived\",\"Survived\",\"Survived\",\"Survived\",\"Survived\",\"Survived\",\"Survived\",\"Survived\",\"Survived\",\"Survived\",\"Survived\",\"Survived\",\"Survived\",\"Survived\",\"Survived\",\"Survived\",\"Survived\",\"Survived\",\"Survived\",\"Survived\",\"Survived\",\"Survived\",\"Survived\",\"Survived\",\"Survived\",\"Survived\",\"Survived\",\"Survived\",\"Pclass\",\"Pclass\",\"Pclass\",\"Pclass\",\"Pclass\",\"Pclass\",\"Pclass\",\"Pclass\",\"Pclass\",\"Pclass\",\"Pclass\",\"Pclass\",\"Pclass\",\"Pclass\",\"Pclass\",\"Pclass\",\"Pclass\",\"Pclass\",\"Pclass\",\"Pclass\",\"Pclass\",\"Pclass\",\"Pclass\",\"Pclass\",\"Pclass\",\"Pclass\",\"Pclass\",\"Pclass\",\"Pclass\",\"Pclass\",\"Pclass\",\"Pclass\",\"Pclass\",\"Pclass\",\"Pclass\",\"Pclass\",\"Pclass\",\"Pclass\",\"Pclass\",\"Pclass\",\"Pclass\",\"Pclass\",\"Pclass\",\"Pclass\",\"Pclass\",\"Pclass\",\"Pclass\",\"Pclass\",\"Pclass\",\"Pclass\",\"Pclass\",\"Pclass\",\"Pclass\",\"Pclass\",\"Pclass\",\"Pclass\",\"Pclass\",\"Pclass\",\"Pclass\",\"Pclass\",\"Pclass\",\"Pclass\",\"Pclass\",\"Pclass\",\"Pclass\",\"Pclass\",\"Pclass\",\"Pclass\",\"Pclass\",\"Pclass\",\"Pclass\",\"Pclass\",\"Pclass\",\"Pclass\",\"Pclass\",\"Pclass\",\"Pclass\",\"Pclass\",\"Pclass\",\"Pclass\",\"Pclass\",\"Pclass\",\"Pclass\",\"Pclass\",\"Pclass\",\"Pclass\",\"Pclass\",\"Pclass\",\"Pclass\",\"Pclass\",\"Pclass\",\"Pclass\",\"Pclass\",\"Pclass\",\"Pclass\",\"Pclass\",\"Pclass\",\"Pclass\",\"Pclass\",\"Pclass\",\"Pclass\",\"Pclass\",\"Pclass\",\"Pclass\",\"Pclass\",\"Pclass\",\"Pclass\",\"Pclass\",\"Pclass\",\"Pclass\",\"Pclass\",\"Pclass\",\"Pclass\",\"Pclass\",\"Pclass\",\"Pclass\",\"Pclass\",\"Pclass\",\"Pclass\",\"Pclass\",\"Pclass\",\"Pclass\",\"Pclass\",\"Pclass\",\"Pclass\",\"Pclass\",\"Pclass\",\"Pclass\",\"Pclass\",\"Pclass\",\"Pclass\",\"Pclass\",\"Pclass\",\"Pclass\",\"Pclass\",\"Pclass\",\"Pclass\",\"Pclass\",\"Pclass\",\"Pclass\",\"Pclass\",\"Pclass\",\"Pclass\",\"Pclass\",\"Pclass\",\"Pclass\",\"Pclass\",\"Pclass\",\"Pclass\",\"Pclass\",\"Pclass\",\"Pclass\",\"Pclass\",\"Pclass\",\"Pclass\",\"Pclass\",\"Pclass\",\"Pclass\",\"Pclass\",\"Pclass\",\"Pclass\",\"Pclass\",\"Pclass\",\"Pclass\",\"Pclass\",\"Pclass\",\"Pclass\",\"Pclass\",\"Pclass\",\"Pclass\",\"Pclass\",\"Pclass\",\"Pclass\",\"Pclass\",\"Pclass\",\"Pclass\",\"Pclass\",\"Pclass\",\"Pclass\",\"Pclass\",\"Pclass\",\"Pclass\",\"Pclass\",\"Pclass\",\"Pclass\",\"Pclass\",\"Pclass\",\"Pclass\",\"Pclass\",\"Pclass\",\"Pclass\",\"Pclass\",\"Pclass\",\"Pclass\",\"Pclass\",\"Pclass\",\"Pclass\",\"Pclass\",\"Pclass\",\"Pclass\",\"Pclass\",\"Pclass\",\"Pclass\",\"Pclass\",\"Pclass\",\"Pclass\",\"Pclass\",\"Pclass\",\"Pclass\",\"Pclass\",\"Pclass\",\"Pclass\",\"Pclass\",\"Pclass\",\"Pclass\",\"Pclass\",\"Pclass\",\"Pclass\",\"Pclass\",\"Pclass\",\"Pclass\",\"Pclass\",\"Pclass\",\"Pclass\",\"Pclass\",\"Pclass\",\"Pclass\",\"Pclass\",\"Pclass\",\"Pclass\",\"Pclass\",\"Pclass\",\"Pclass\",\"Pclass\",\"Pclass\",\"Pclass\",\"Pclass\",\"Pclass\",\"Pclass\",\"Pclass\",\"Pclass\",\"Pclass\",\"Pclass\",\"Pclass\",\"Pclass\",\"Pclass\",\"Pclass\",\"Pclass\",\"Pclass\",\"Pclass\",\"Pclass\",\"Pclass\",\"Pclass\",\"Pclass\",\"Pclass\",\"Pclass\",\"Pclass\",\"Pclass\",\"Pclass\",\"Pclass\",\"Pclass\",\"Pclass\",\"Pclass\",\"Pclass\",\"Pclass\",\"Pclass\",\"Pclass\",\"Pclass\",\"Pclass\",\"Pclass\",\"Pclass\",\"Pclass\",\"Pclass\",\"Pclass\",\"Pclass\",\"Pclass\",\"Pclass\",\"Pclass\",\"Pclass\",\"Pclass\",\"Pclass\",\"Pclass\",\"Pclass\",\"Pclass\",\"Pclass\",\"Pclass\",\"Pclass\",\"Pclass\",\"Pclass\",\"Pclass\",\"Pclass\",\"Pclass\",\"Pclass\",\"Pclass\",\"Pclass\",\"Pclass\",\"Pclass\",\"Pclass\",\"Pclass\",\"Pclass\",\"Pclass\",\"Pclass\",\"Pclass\",\"Pclass\",\"Pclass\",\"Pclass\",\"Pclass\",\"Pclass\",\"Pclass\",\"Pclass\",\"Pclass\",\"Pclass\",\"Pclass\",\"Pclass\",\"Pclass\",\"Pclass\",\"Pclass\",\"Pclass\",\"Pclass\",\"Pclass\",\"Pclass\",\"Pclass\",\"Pclass\",\"Pclass\",\"Pclass\",\"Pclass\",\"Pclass\",\"Pclass\",\"Pclass\",\"Pclass\",\"Pclass\",\"Pclass\",\"Pclass\",\"Pclass\",\"Pclass\",\"Pclass\",\"Pclass\",\"Pclass\",\"Pclass\",\"Pclass\",\"Pclass\",\"Pclass\",\"Pclass\",\"Pclass\",\"Pclass\",\"Pclass\",\"Pclass\",\"Pclass\",\"Pclass\",\"Pclass\",\"Pclass\",\"Pclass\",\"Pclass\",\"Pclass\",\"Pclass\",\"Pclass\",\"Pclass\",\"Pclass\",\"Pclass\",\"Pclass\",\"Pclass\",\"Pclass\",\"Pclass\",\"Pclass\",\"Pclass\",\"Pclass\",\"Pclass\",\"Pclass\",\"Pclass\",\"Pclass\",\"Pclass\",\"Pclass\",\"Pclass\",\"Pclass\",\"Pclass\",\"Pclass\",\"Pclass\",\"Pclass\",\"Pclass\",\"Pclass\",\"Pclass\",\"Pclass\",\"Pclass\",\"Pclass\",\"Pclass\",\"Pclass\",\"Pclass\",\"Pclass\",\"Pclass\",\"Pclass\",\"Pclass\",\"Pclass\",\"Pclass\",\"Pclass\",\"Pclass\",\"Pclass\",\"Pclass\",\"Pclass\",\"Pclass\",\"Pclass\",\"Pclass\",\"Pclass\",\"Pclass\",\"Pclass\",\"Pclass\",\"Pclass\",\"Pclass\",\"Pclass\",\"Pclass\",\"Pclass\",\"Pclass\",\"Pclass\",\"Pclass\",\"Pclass\",\"Pclass\",\"Pclass\",\"Pclass\",\"Pclass\",\"Pclass\",\"Pclass\",\"Pclass\",\"Pclass\",\"Pclass\",\"Pclass\",\"Pclass\",\"Pclass\",\"Pclass\",\"Pclass\",\"Pclass\",\"Pclass\",\"Pclass\",\"Pclass\",\"Pclass\",\"Pclass\",\"Pclass\",\"Pclass\",\"Pclass\",\"Pclass\",\"Pclass\",\"Pclass\",\"Pclass\",\"Pclass\",\"Pclass\",\"Pclass\",\"Pclass\",\"Pclass\",\"Pclass\",\"Pclass\",\"Pclass\",\"Pclass\",\"Pclass\",\"Pclass\",\"Pclass\",\"Pclass\",\"Pclass\",\"Pclass\",\"Pclass\",\"Pclass\",\"Pclass\",\"Pclass\",\"Pclass\",\"Pclass\",\"Pclass\",\"Pclass\",\"Pclass\",\"Pclass\",\"Pclass\",\"Pclass\",\"Pclass\",\"Pclass\",\"Pclass\",\"Pclass\",\"Pclass\",\"Pclass\",\"Pclass\",\"Pclass\",\"Pclass\",\"Pclass\",\"Pclass\",\"Pclass\",\"Pclass\",\"Pclass\",\"Pclass\",\"Pclass\",\"Pclass\",\"Pclass\",\"Pclass\",\"Pclass\",\"Pclass\",\"Pclass\",\"Pclass\",\"Pclass\",\"Pclass\",\"Pclass\",\"Pclass\",\"Pclass\",\"Pclass\",\"Pclass\",\"Pclass\",\"Pclass\",\"Pclass\",\"Pclass\",\"Pclass\",\"Pclass\",\"Pclass\",\"Pclass\",\"Pclass\",\"Pclass\",\"Pclass\",\"Pclass\",\"Pclass\",\"Pclass\",\"Pclass\",\"Pclass\",\"Pclass\",\"Pclass\",\"Pclass\",\"Pclass\",\"Pclass\",\"Pclass\",\"Pclass\",\"Pclass\",\"Pclass\",\"Pclass\",\"Pclass\",\"Pclass\",\"Pclass\",\"Pclass\",\"Pclass\",\"Pclass\",\"Pclass\",\"Pclass\",\"Pclass\",\"Pclass\",\"Pclass\",\"Pclass\",\"Pclass\",\"Pclass\",\"Pclass\",\"Pclass\",\"Pclass\",\"Pclass\",\"Pclass\",\"Pclass\",\"Pclass\",\"Pclass\",\"Pclass\",\"Pclass\",\"Pclass\",\"Pclass\",\"Pclass\",\"Pclass\",\"Pclass\",\"Pclass\",\"Pclass\",\"Pclass\",\"Pclass\",\"Pclass\",\"Pclass\",\"Pclass\",\"Pclass\",\"Pclass\",\"Pclass\",\"Pclass\",\"Pclass\",\"Pclass\",\"Pclass\",\"Pclass\",\"Pclass\",\"Pclass\",\"Pclass\",\"Pclass\",\"Pclass\",\"Pclass\",\"Pclass\",\"Pclass\",\"Pclass\",\"Pclass\",\"Pclass\",\"Pclass\",\"Pclass\",\"Pclass\",\"Pclass\",\"Pclass\",\"Pclass\",\"Pclass\",\"Pclass\",\"Pclass\",\"Pclass\",\"Pclass\",\"Pclass\",\"Pclass\",\"Pclass\",\"Pclass\",\"Pclass\",\"Pclass\",\"Pclass\",\"Pclass\",\"Pclass\",\"Pclass\",\"Pclass\",\"Pclass\",\"Pclass\",\"Pclass\",\"Pclass\",\"Pclass\",\"Pclass\",\"Pclass\",\"Pclass\",\"Pclass\",\"Pclass\",\"Pclass\",\"Pclass\",\"Pclass\",\"Pclass\",\"Pclass\",\"Pclass\",\"Pclass\",\"Pclass\",\"Pclass\",\"Pclass\",\"Pclass\",\"Pclass\",\"Pclass\",\"Pclass\",\"Pclass\",\"Pclass\",\"Pclass\",\"Pclass\",\"Pclass\",\"Pclass\",\"Pclass\",\"Pclass\",\"Pclass\",\"Pclass\",\"Pclass\",\"Pclass\",\"Pclass\",\"Pclass\",\"Pclass\",\"Pclass\",\"Pclass\",\"Pclass\",\"Pclass\",\"Pclass\",\"Pclass\",\"Pclass\",\"Pclass\",\"Pclass\",\"Pclass\",\"Pclass\",\"Pclass\",\"Pclass\",\"Pclass\",\"Pclass\",\"Pclass\",\"Pclass\",\"Pclass\",\"Pclass\",\"Pclass\",\"Pclass\",\"Pclass\",\"Pclass\",\"Pclass\",\"Pclass\",\"Pclass\",\"Pclass\",\"Pclass\",\"Pclass\",\"Pclass\",\"Pclass\",\"Pclass\",\"Pclass\",\"Pclass\",\"Pclass\",\"Pclass\",\"Pclass\",\"Pclass\",\"Pclass\",\"Pclass\",\"Pclass\",\"Pclass\",\"Pclass\",\"Pclass\",\"Pclass\",\"Pclass\",\"Pclass\",\"Pclass\",\"Pclass\",\"Pclass\",\"Pclass\",\"Pclass\",\"Pclass\",\"Pclass\",\"Pclass\",\"Pclass\",\"Pclass\",\"Pclass\",\"Pclass\",\"Pclass\",\"Pclass\",\"Pclass\",\"Pclass\",\"Pclass\",\"Pclass\",\"Pclass\",\"Pclass\",\"Pclass\",\"Pclass\",\"Pclass\",\"Pclass\",\"Pclass\",\"Pclass\",\"Pclass\",\"Pclass\",\"Pclass\",\"Pclass\",\"Pclass\",\"Pclass\",\"Pclass\",\"Pclass\",\"Pclass\",\"Pclass\",\"Pclass\",\"Pclass\",\"Pclass\",\"Pclass\",\"Pclass\",\"Pclass\",\"Pclass\",\"Pclass\",\"Pclass\",\"Pclass\",\"Pclass\",\"Pclass\",\"Pclass\",\"Pclass\",\"Pclass\",\"Pclass\",\"Pclass\",\"Pclass\",\"Pclass\",\"Pclass\",\"Pclass\",\"Pclass\",\"Pclass\",\"Pclass\",\"Pclass\",\"Pclass\",\"Pclass\",\"Pclass\",\"Pclass\",\"Pclass\",\"Pclass\",\"Pclass\",\"Pclass\",\"Pclass\",\"Pclass\",\"Pclass\",\"Pclass\",\"Pclass\",\"Pclass\",\"Pclass\",\"Pclass\",\"Pclass\",\"Pclass\",\"Pclass\",\"Pclass\",\"Pclass\",\"Pclass\",\"Pclass\",\"Pclass\",\"Pclass\",\"Pclass\",\"Pclass\",\"Pclass\",\"Pclass\",\"Pclass\",\"Pclass\",\"Pclass\",\"Pclass\",\"Pclass\",\"Pclass\",\"Pclass\",\"Pclass\",\"Pclass\",\"Pclass\",\"Pclass\",\"Pclass\",\"Pclass\",\"Pclass\",\"Pclass\",\"Pclass\",\"Pclass\",\"Pclass\",\"Pclass\",\"Pclass\",\"Pclass\",\"Pclass\",\"Pclass\",\"Pclass\",\"Pclass\",\"Pclass\",\"Pclass\",\"Pclass\",\"Pclass\",\"Pclass\",\"Pclass\",\"Pclass\",\"Pclass\",\"Pclass\",\"Pclass\",\"Pclass\",\"Pclass\",\"Pclass\",\"Pclass\",\"Pclass\",\"Pclass\",\"Pclass\",\"Pclass\",\"Pclass\",\"Pclass\",\"Pclass\",\"Pclass\",\"Pclass\",\"Pclass\",\"Pclass\",\"Pclass\",\"Pclass\",\"Pclass\",\"Pclass\",\"Pclass\",\"Pclass\",\"Pclass\",\"Pclass\",\"Pclass\",\"Pclass\",\"Pclass\",\"Pclass\",\"Pclass\",\"Pclass\",\"Pclass\",\"Pclass\",\"Pclass\",\"Pclass\",\"Pclass\",\"Pclass\",\"Pclass\",\"Pclass\",\"Pclass\",\"Pclass\",\"Pclass\",\"Pclass\",\"Pclass\",\"Pclass\",\"Pclass\",\"Pclass\",\"Pclass\",\"Pclass\",\"Pclass\",\"Pclass\",\"Pclass\",\"Pclass\",\"Pclass\",\"Pclass\",\"Pclass\",\"Pclass\",\"Pclass\",\"Pclass\",\"Pclass\",\"Pclass\",\"Pclass\",\"Pclass\",\"Pclass\",\"Pclass\",\"Pclass\",\"Pclass\",\"Pclass\",\"Pclass\",\"Pclass\",\"Pclass\",\"Pclass\",\"Pclass\",\"Pclass\",\"Pclass\",\"Pclass\",\"Pclass\",\"Pclass\",\"Pclass\",\"Pclass\",\"Pclass\",\"Age\",\"Age\",\"Age\",\"Age\",\"Age\",\"Age\",\"Age\",\"Age\",\"Age\",\"Age\",\"Age\",\"Age\",\"Age\",\"Age\",\"Age\",\"Age\",\"Age\",\"Age\",\"Age\",\"Age\",\"Age\",\"Age\",\"Age\",\"Age\",\"Age\",\"Age\",\"Age\",\"Age\",\"Age\",\"Age\",\"Age\",\"Age\",\"Age\",\"Age\",\"Age\",\"Age\",\"Age\",\"Age\",\"Age\",\"Age\",\"Age\",\"Age\",\"Age\",\"Age\",\"Age\",\"Age\",\"Age\",\"Age\",\"Age\",\"Age\",\"Age\",\"Age\",\"Age\",\"Age\",\"Age\",\"Age\",\"Age\",\"Age\",\"Age\",\"Age\",\"Age\",\"Age\",\"Age\",\"Age\",\"Age\",\"Age\",\"Age\",\"Age\",\"Age\",\"Age\",\"Age\",\"Age\",\"Age\",\"Age\",\"Age\",\"Age\",\"Age\",\"Age\",\"Age\",\"Age\",\"Age\",\"Age\",\"Age\",\"Age\",\"Age\",\"Age\",\"Age\",\"Age\",\"Age\",\"Age\",\"Age\",\"Age\",\"Age\",\"Age\",\"Age\",\"Age\",\"Age\",\"Age\",\"Age\",\"Age\",\"Age\",\"Age\",\"Age\",\"Age\",\"Age\",\"Age\",\"Age\",\"Age\",\"Age\",\"Age\",\"Age\",\"Age\",\"Age\",\"Age\",\"Age\",\"Age\",\"Age\",\"Age\",\"Age\",\"Age\",\"Age\",\"Age\",\"Age\",\"Age\",\"Age\",\"Age\",\"Age\",\"Age\",\"Age\",\"Age\",\"Age\",\"Age\",\"Age\",\"Age\",\"Age\",\"Age\",\"Age\",\"Age\",\"Age\",\"Age\",\"Age\",\"Age\",\"Age\",\"Age\",\"Age\",\"Age\",\"Age\",\"Age\",\"Age\",\"Age\",\"Age\",\"Age\",\"Age\",\"Age\",\"Age\",\"Age\",\"Age\",\"Age\",\"Age\",\"Age\",\"Age\",\"Age\",\"Age\",\"Age\",\"Age\",\"Age\",\"Age\",\"Age\",\"Age\",\"Age\",\"Age\",\"Age\",\"Age\",\"Age\",\"Age\",\"Age\",\"Age\",\"Age\",\"Age\",\"Age\",\"Age\",\"Age\",\"Age\",\"Age\",\"Age\",\"Age\",\"Age\",\"Age\",\"Age\",\"Age\",\"Age\",\"Age\",\"Age\",\"Age\",\"Age\",\"Age\",\"Age\",\"Age\",\"Age\",\"Age\",\"Age\",\"Age\",\"Age\",\"Age\",\"Age\",\"Age\",\"Age\",\"Age\",\"Age\",\"Age\",\"Age\",\"Age\",\"Age\",\"Age\",\"Age\",\"Age\",\"Age\",\"Age\",\"Age\",\"Age\",\"Age\",\"Age\",\"Age\",\"Age\",\"Age\",\"Age\",\"Age\",\"Age\",\"Age\",\"Age\",\"Age\",\"Age\",\"Age\",\"Age\",\"Age\",\"Age\",\"Age\",\"Age\",\"Age\",\"Age\",\"Age\",\"Age\",\"Age\",\"Age\",\"Age\",\"Age\",\"Age\",\"Age\",\"Age\",\"Age\",\"Age\",\"Age\",\"Age\",\"Age\",\"Age\",\"Age\",\"Age\",\"Age\",\"Age\",\"Age\",\"Age\",\"Age\",\"Age\",\"Age\",\"Age\",\"Age\",\"Age\",\"Age\",\"Age\",\"Age\",\"Age\",\"Age\",\"Age\",\"Age\",\"Age\",\"Age\",\"Age\",\"Age\",\"Age\",\"Age\",\"Age\",\"Age\",\"Age\",\"Age\",\"Age\",\"Age\",\"Age\",\"Age\",\"Age\",\"Age\",\"Age\",\"Age\",\"Age\",\"Age\",\"Age\",\"Age\",\"Age\",\"Age\",\"Age\",\"Age\",\"Age\",\"Age\",\"Age\",\"Age\",\"Age\",\"Age\",\"Age\",\"Age\",\"Age\",\"Age\",\"Age\",\"Age\",\"Age\",\"Age\",\"Age\",\"Age\",\"Age\",\"Age\",\"Age\",\"Age\",\"Age\",\"Age\",\"Age\",\"Age\",\"Age\",\"Age\",\"Age\",\"Age\",\"Age\",\"Age\",\"Age\",\"Age\",\"Age\",\"Age\",\"Age\",\"Age\",\"Age\",\"Age\",\"Age\",\"Age\",\"Age\",\"Age\",\"Age\",\"Age\",\"Age\",\"Age\",\"Age\",\"Age\",\"Age\",\"Age\",\"Age\",\"Age\",\"Age\",\"Age\",\"Age\",\"Age\",\"Age\",\"Age\",\"Age\",\"Age\",\"Age\",\"Age\",\"Age\",\"Age\",\"Age\",\"Age\",\"Age\",\"Age\",\"Age\",\"Age\",\"Age\",\"Age\",\"Age\",\"Age\",\"Age\",\"Age\",\"Age\",\"Age\",\"Age\",\"Age\",\"Age\",\"Age\",\"Age\",\"Age\",\"Age\",\"Age\",\"Age\",\"Age\",\"Age\",\"Age\",\"Age\",\"Age\",\"Age\",\"Age\",\"Age\",\"Age\",\"Age\",\"Age\",\"Age\",\"Age\",\"Age\",\"Age\",\"Age\",\"Age\",\"Age\",\"Age\",\"Age\",\"Age\",\"Age\",\"Age\",\"Age\",\"Age\",\"Age\",\"Age\",\"Age\",\"Age\",\"Age\",\"Age\",\"Age\",\"Age\",\"Age\",\"Age\",\"Age\",\"Age\",\"Age\",\"Age\",\"Age\",\"Age\",\"Age\",\"Age\",\"Age\",\"Age\",\"Age\",\"Age\",\"Age\",\"Age\",\"Age\",\"Age\",\"Age\",\"Age\",\"Age\",\"Age\",\"Age\",\"Age\",\"Age\",\"Age\",\"Age\",\"Age\",\"Age\",\"Age\",\"Age\",\"Age\",\"Age\",\"Age\",\"Age\",\"Age\",\"Age\",\"Age\",\"Age\",\"Age\",\"Age\",\"Age\",\"Age\",\"Age\",\"Age\",\"Age\",\"Age\",\"Age\",\"Age\",\"Age\",\"Age\",\"Age\",\"Age\",\"Age\",\"Age\",\"Age\",\"Age\",\"Age\",\"Age\",\"Age\",\"Age\",\"Age\",\"Age\",\"Age\",\"Age\",\"Age\",\"Age\",\"Age\",\"Age\",\"Age\",\"Age\",\"Age\",\"Age\",\"Age\",\"Age\",\"Age\",\"Age\",\"Age\",\"Age\",\"Age\",\"Age\",\"Age\",\"Age\",\"Age\",\"Age\",\"Age\",\"Age\",\"Age\",\"Age\",\"Age\",\"Age\",\"Age\",\"Age\",\"Age\",\"Age\",\"Age\",\"Age\",\"Age\",\"Age\",\"Age\",\"Age\",\"Age\",\"Age\",\"Age\",\"Age\",\"Age\",\"Age\",\"Age\",\"Age\",\"Age\",\"Age\",\"Age\",\"Age\",\"Age\",\"Age\",\"Age\",\"Age\",\"Age\",\"Age\",\"Age\",\"Age\",\"Age\",\"Age\",\"Age\",\"Age\",\"Age\",\"Age\",\"Age\",\"Age\",\"Age\",\"Age\",\"Age\",\"Age\",\"Age\",\"Age\",\"Age\",\"Age\",\"Age\",\"Age\",\"Age\",\"Age\",\"Age\",\"Age\",\"Age\",\"Age\",\"Age\",\"Age\",\"Age\",\"Age\",\"Age\",\"Age\",\"Age\",\"Age\",\"Age\",\"Age\",\"Age\",\"Age\",\"Age\",\"Age\",\"Age\",\"Age\",\"Age\",\"Age\",\"Age\",\"Age\",\"Age\",\"Age\",\"Age\",\"Age\",\"Age\",\"Age\",\"Age\",\"Age\",\"Age\",\"Age\",\"Age\",\"Age\",\"Age\",\"Age\",\"Age\",\"Age\",\"Age\",\"Age\",\"Age\",\"Age\",\"Age\",\"Age\",\"Age\",\"Age\",\"Age\",\"Age\",\"Age\",\"Age\",\"Age\",\"Age\",\"Age\",\"Age\",\"Age\",\"Age\",\"Age\",\"Age\",\"Age\",\"Age\",\"Age\",\"Age\",\"Age\",\"Age\",\"Age\",\"Age\",\"Age\",\"Age\",\"Age\",\"Age\",\"Age\",\"Age\",\"Age\",\"Age\",\"Age\",\"Age\",\"Age\",\"Age\",\"Age\",\"Age\",\"Age\",\"Age\",\"Age\",\"Age\",\"Age\",\"Age\",\"Age\",\"Age\",\"Age\",\"Age\",\"Age\",\"Age\",\"Age\",\"Age\",\"Age\",\"Age\",\"Age\",\"Age\",\"Age\",\"Age\",\"Age\",\"Age\",\"Age\",\"Age\",\"Age\",\"Age\",\"Age\",\"Age\",\"Age\",\"Age\",\"Age\",\"Age\",\"Age\",\"Age\",\"Age\",\"Age\",\"Age\",\"Age\",\"Age\",\"Age\",\"Age\",\"Age\",\"Age\",\"Age\",\"Age\",\"Age\",\"Age\",\"Age\",\"Age\",\"Age\",\"Age\",\"Age\",\"Age\",\"Age\",\"Age\",\"Age\",\"Age\",\"Age\",\"Age\",\"Age\",\"Age\",\"Age\",\"Age\",\"Age\",\"Age\",\"Age\",\"Age\",\"Age\",\"Age\",\"Age\",\"Age\",\"Age\",\"Age\",\"Age\",\"Age\",\"Age\",\"Age\",\"Age\",\"Age\",\"Age\",\"Age\",\"Age\",\"Age\",\"Age\",\"Age\",\"Age\",\"Age\",\"Age\",\"Age\",\"Age\",\"Age\",\"Age\",\"Age\",\"Age\",\"Age\",\"Age\",\"Age\",\"Age\",\"Age\",\"Age\",\"Age\",\"Age\",\"Age\",\"Age\",\"Age\",\"Age\",\"Age\",\"Age\",\"Age\",\"Age\",\"Age\",\"Age\",\"Age\",\"Age\",\"Age\",\"Age\",\"Age\",\"Age\",\"Age\",\"Age\",\"Age\",\"Age\",\"Age\",\"Age\",\"Age\",\"Age\",\"Age\",\"Age\",\"Age\",\"Age\",\"Age\",\"Age\",\"Age\",\"Age\",\"Age\",\"Age\",\"Age\",\"Age\",\"Age\",\"Age\",\"Age\",\"Age\",\"Age\",\"Age\",\"Age\",\"Age\",\"Age\",\"Age\",\"Age\",\"Age\",\"Age\",\"Age\",\"Age\",\"Age\",\"Age\",\"Age\",\"Age\",\"Age\",\"Age\",\"Age\",\"Age\",\"Age\",\"Age\",\"Age\",\"Age\",\"Age\",\"Age\",\"Age\",\"Age\",\"Age\",\"Age\",\"Age\",\"Age\",\"Age\",\"Age\",\"Age\",\"Age\",\"Age\",\"Age\",\"Age\",\"Age\",\"Age\",\"Age\",\"Age\",\"Age\",\"Age\",\"Age\",\"Age\",\"Age\",\"Age\",\"Age\",\"Age\",\"Age\",\"Age\",\"Age\",\"Age\",\"Age\",\"Age\",\"Age\",\"Age\",\"Age\",\"Age\",\"Age\",\"Age\",\"Age\",\"Age\",\"Age\",\"Age\",\"Age\",\"Age\",\"Age\",\"Age\",\"Age\",\"Age\",\"Age\",\"Age\",\"Age\",\"Age\",\"Age\",\"Age\",\"Age\",\"Age\",\"Age\",\"Age\",\"Age\",\"Age\",\"Age\",\"Age\",\"Age\",\"Age\",\"Age\",\"Age\",\"Age\",\"Age\",\"Age\",\"Age\",\"Age\",\"Age\",\"Age\",\"Age\",\"Age\",\"Age\",\"Age\",\"Age\",\"Age\",\"Age\",\"Age\",\"Age\",\"SibSp\",\"SibSp\",\"SibSp\",\"SibSp\",\"SibSp\",\"SibSp\",\"SibSp\",\"SibSp\",\"SibSp\",\"SibSp\",\"SibSp\",\"SibSp\",\"SibSp\",\"SibSp\",\"SibSp\",\"SibSp\",\"SibSp\",\"SibSp\",\"SibSp\",\"SibSp\",\"SibSp\",\"SibSp\",\"SibSp\",\"SibSp\",\"SibSp\",\"SibSp\",\"SibSp\",\"SibSp\",\"SibSp\",\"SibSp\",\"SibSp\",\"SibSp\",\"SibSp\",\"SibSp\",\"SibSp\",\"SibSp\",\"SibSp\",\"SibSp\",\"SibSp\",\"SibSp\",\"SibSp\",\"SibSp\",\"SibSp\",\"SibSp\",\"SibSp\",\"SibSp\",\"SibSp\",\"SibSp\",\"SibSp\",\"SibSp\",\"SibSp\",\"SibSp\",\"SibSp\",\"SibSp\",\"SibSp\",\"SibSp\",\"SibSp\",\"SibSp\",\"SibSp\",\"SibSp\",\"SibSp\",\"SibSp\",\"SibSp\",\"SibSp\",\"SibSp\",\"SibSp\",\"SibSp\",\"SibSp\",\"SibSp\",\"SibSp\",\"SibSp\",\"SibSp\",\"SibSp\",\"SibSp\",\"SibSp\",\"SibSp\",\"SibSp\",\"SibSp\",\"SibSp\",\"SibSp\",\"SibSp\",\"SibSp\",\"SibSp\",\"SibSp\",\"SibSp\",\"SibSp\",\"SibSp\",\"SibSp\",\"SibSp\",\"SibSp\",\"SibSp\",\"SibSp\",\"SibSp\",\"SibSp\",\"SibSp\",\"SibSp\",\"SibSp\",\"SibSp\",\"SibSp\",\"SibSp\",\"SibSp\",\"SibSp\",\"SibSp\",\"SibSp\",\"SibSp\",\"SibSp\",\"SibSp\",\"SibSp\",\"SibSp\",\"SibSp\",\"SibSp\",\"SibSp\",\"SibSp\",\"SibSp\",\"SibSp\",\"SibSp\",\"SibSp\",\"SibSp\",\"SibSp\",\"SibSp\",\"SibSp\",\"SibSp\",\"SibSp\",\"SibSp\",\"SibSp\",\"SibSp\",\"SibSp\",\"SibSp\",\"SibSp\",\"SibSp\",\"SibSp\",\"SibSp\",\"SibSp\",\"SibSp\",\"SibSp\",\"SibSp\",\"SibSp\",\"SibSp\",\"SibSp\",\"SibSp\",\"SibSp\",\"SibSp\",\"SibSp\",\"SibSp\",\"SibSp\",\"SibSp\",\"SibSp\",\"SibSp\",\"SibSp\",\"SibSp\",\"SibSp\",\"SibSp\",\"SibSp\",\"SibSp\",\"SibSp\",\"SibSp\",\"SibSp\",\"SibSp\",\"SibSp\",\"SibSp\",\"SibSp\",\"SibSp\",\"SibSp\",\"SibSp\",\"SibSp\",\"SibSp\",\"SibSp\",\"SibSp\",\"SibSp\",\"SibSp\",\"SibSp\",\"SibSp\",\"SibSp\",\"SibSp\",\"SibSp\",\"SibSp\",\"SibSp\",\"SibSp\",\"SibSp\",\"SibSp\",\"SibSp\",\"SibSp\",\"SibSp\",\"SibSp\",\"SibSp\",\"SibSp\",\"SibSp\",\"SibSp\",\"SibSp\",\"SibSp\",\"SibSp\",\"SibSp\",\"SibSp\",\"SibSp\",\"SibSp\",\"SibSp\",\"SibSp\",\"SibSp\",\"SibSp\",\"SibSp\",\"SibSp\",\"SibSp\",\"SibSp\",\"SibSp\",\"SibSp\",\"SibSp\",\"SibSp\",\"SibSp\",\"SibSp\",\"SibSp\",\"SibSp\",\"SibSp\",\"SibSp\",\"SibSp\",\"SibSp\",\"SibSp\",\"SibSp\",\"SibSp\",\"SibSp\",\"SibSp\",\"SibSp\",\"SibSp\",\"SibSp\",\"SibSp\",\"SibSp\",\"SibSp\",\"SibSp\",\"SibSp\",\"SibSp\",\"SibSp\",\"SibSp\",\"SibSp\",\"SibSp\",\"SibSp\",\"SibSp\",\"SibSp\",\"SibSp\",\"SibSp\",\"SibSp\",\"SibSp\",\"SibSp\",\"SibSp\",\"SibSp\",\"SibSp\",\"SibSp\",\"SibSp\",\"SibSp\",\"SibSp\",\"SibSp\",\"SibSp\",\"SibSp\",\"SibSp\",\"SibSp\",\"SibSp\",\"SibSp\",\"SibSp\",\"SibSp\",\"SibSp\",\"SibSp\",\"SibSp\",\"SibSp\",\"SibSp\",\"SibSp\",\"SibSp\",\"SibSp\",\"SibSp\",\"SibSp\",\"SibSp\",\"SibSp\",\"SibSp\",\"SibSp\",\"SibSp\",\"SibSp\",\"SibSp\",\"SibSp\",\"SibSp\",\"SibSp\",\"SibSp\",\"SibSp\",\"SibSp\",\"SibSp\",\"SibSp\",\"SibSp\",\"SibSp\",\"SibSp\",\"SibSp\",\"SibSp\",\"SibSp\",\"SibSp\",\"SibSp\",\"SibSp\",\"SibSp\",\"SibSp\",\"SibSp\",\"SibSp\",\"SibSp\",\"SibSp\",\"SibSp\",\"SibSp\",\"SibSp\",\"SibSp\",\"SibSp\",\"SibSp\",\"SibSp\",\"SibSp\",\"SibSp\",\"SibSp\",\"SibSp\",\"SibSp\",\"SibSp\",\"SibSp\",\"SibSp\",\"SibSp\",\"SibSp\",\"SibSp\",\"SibSp\",\"SibSp\",\"SibSp\",\"SibSp\",\"SibSp\",\"SibSp\",\"SibSp\",\"SibSp\",\"SibSp\",\"SibSp\",\"SibSp\",\"SibSp\",\"SibSp\",\"SibSp\",\"SibSp\",\"SibSp\",\"SibSp\",\"SibSp\",\"SibSp\",\"SibSp\",\"SibSp\",\"SibSp\",\"SibSp\",\"SibSp\",\"SibSp\",\"SibSp\",\"SibSp\",\"SibSp\",\"SibSp\",\"SibSp\",\"SibSp\",\"SibSp\",\"SibSp\",\"SibSp\",\"SibSp\",\"SibSp\",\"SibSp\",\"SibSp\",\"SibSp\",\"SibSp\",\"SibSp\",\"SibSp\",\"SibSp\",\"SibSp\",\"SibSp\",\"SibSp\",\"SibSp\",\"SibSp\",\"SibSp\",\"SibSp\",\"SibSp\",\"SibSp\",\"SibSp\",\"SibSp\",\"SibSp\",\"SibSp\",\"SibSp\",\"SibSp\",\"SibSp\",\"SibSp\",\"SibSp\",\"SibSp\",\"SibSp\",\"SibSp\",\"SibSp\",\"SibSp\",\"SibSp\",\"SibSp\",\"SibSp\",\"SibSp\",\"SibSp\",\"SibSp\",\"SibSp\",\"SibSp\",\"SibSp\",\"SibSp\",\"SibSp\",\"SibSp\",\"SibSp\",\"SibSp\",\"SibSp\",\"SibSp\",\"SibSp\",\"SibSp\",\"SibSp\",\"SibSp\",\"SibSp\",\"SibSp\",\"SibSp\",\"SibSp\",\"SibSp\",\"SibSp\",\"SibSp\",\"SibSp\",\"SibSp\",\"SibSp\",\"SibSp\",\"SibSp\",\"SibSp\",\"SibSp\",\"SibSp\",\"SibSp\",\"SibSp\",\"SibSp\",\"SibSp\",\"SibSp\",\"SibSp\",\"SibSp\",\"SibSp\",\"SibSp\",\"SibSp\",\"SibSp\",\"SibSp\",\"SibSp\",\"SibSp\",\"SibSp\",\"SibSp\",\"SibSp\",\"SibSp\",\"SibSp\",\"SibSp\",\"SibSp\",\"SibSp\",\"SibSp\",\"SibSp\",\"SibSp\",\"SibSp\",\"SibSp\",\"SibSp\",\"SibSp\",\"SibSp\",\"SibSp\",\"SibSp\",\"SibSp\",\"SibSp\",\"SibSp\",\"SibSp\",\"SibSp\",\"SibSp\",\"SibSp\",\"SibSp\",\"SibSp\",\"SibSp\",\"SibSp\",\"SibSp\",\"SibSp\",\"SibSp\",\"SibSp\",\"SibSp\",\"SibSp\",\"SibSp\",\"SibSp\",\"SibSp\",\"SibSp\",\"SibSp\",\"SibSp\",\"SibSp\",\"SibSp\",\"SibSp\",\"SibSp\",\"SibSp\",\"SibSp\",\"SibSp\",\"SibSp\",\"SibSp\",\"SibSp\",\"SibSp\",\"SibSp\",\"SibSp\",\"SibSp\",\"SibSp\",\"SibSp\",\"SibSp\",\"SibSp\",\"SibSp\",\"SibSp\",\"SibSp\",\"SibSp\",\"SibSp\",\"SibSp\",\"SibSp\",\"SibSp\",\"SibSp\",\"SibSp\",\"SibSp\",\"SibSp\",\"SibSp\",\"SibSp\",\"SibSp\",\"SibSp\",\"SibSp\",\"SibSp\",\"SibSp\",\"SibSp\",\"SibSp\",\"SibSp\",\"SibSp\",\"SibSp\",\"SibSp\",\"SibSp\",\"SibSp\",\"SibSp\",\"SibSp\",\"SibSp\",\"SibSp\",\"SibSp\",\"SibSp\",\"SibSp\",\"SibSp\",\"SibSp\",\"SibSp\",\"SibSp\",\"SibSp\",\"SibSp\",\"SibSp\",\"SibSp\",\"SibSp\",\"SibSp\",\"SibSp\",\"SibSp\",\"SibSp\",\"SibSp\",\"SibSp\",\"SibSp\",\"SibSp\",\"SibSp\",\"SibSp\",\"SibSp\",\"SibSp\",\"SibSp\",\"SibSp\",\"SibSp\",\"SibSp\",\"SibSp\",\"SibSp\",\"SibSp\",\"SibSp\",\"SibSp\",\"SibSp\",\"SibSp\",\"SibSp\",\"SibSp\",\"SibSp\",\"SibSp\",\"SibSp\",\"SibSp\",\"SibSp\",\"SibSp\",\"SibSp\",\"SibSp\",\"SibSp\",\"SibSp\",\"SibSp\",\"SibSp\",\"SibSp\",\"SibSp\",\"SibSp\",\"SibSp\",\"SibSp\",\"SibSp\",\"SibSp\",\"SibSp\",\"SibSp\",\"SibSp\",\"SibSp\",\"SibSp\",\"SibSp\",\"SibSp\",\"SibSp\",\"SibSp\",\"SibSp\",\"SibSp\",\"SibSp\",\"SibSp\",\"SibSp\",\"SibSp\",\"SibSp\",\"SibSp\",\"SibSp\",\"SibSp\",\"SibSp\",\"SibSp\",\"SibSp\",\"SibSp\",\"SibSp\",\"SibSp\",\"SibSp\",\"SibSp\",\"SibSp\",\"SibSp\",\"SibSp\",\"SibSp\",\"SibSp\",\"SibSp\",\"SibSp\",\"SibSp\",\"SibSp\",\"SibSp\",\"SibSp\",\"SibSp\",\"SibSp\",\"SibSp\",\"SibSp\",\"SibSp\",\"SibSp\",\"SibSp\",\"SibSp\",\"SibSp\",\"SibSp\",\"SibSp\",\"SibSp\",\"SibSp\",\"SibSp\",\"SibSp\",\"SibSp\",\"SibSp\",\"SibSp\",\"SibSp\",\"SibSp\",\"SibSp\",\"SibSp\",\"SibSp\",\"SibSp\",\"SibSp\",\"SibSp\",\"SibSp\",\"SibSp\",\"SibSp\",\"SibSp\",\"SibSp\",\"SibSp\",\"SibSp\",\"SibSp\",\"SibSp\",\"SibSp\",\"SibSp\",\"SibSp\",\"SibSp\",\"SibSp\",\"SibSp\",\"SibSp\",\"SibSp\",\"SibSp\",\"SibSp\",\"SibSp\",\"SibSp\",\"SibSp\",\"SibSp\",\"SibSp\",\"SibSp\",\"SibSp\",\"SibSp\",\"SibSp\",\"SibSp\",\"SibSp\",\"SibSp\",\"SibSp\",\"SibSp\",\"SibSp\",\"SibSp\",\"SibSp\",\"SibSp\",\"SibSp\",\"SibSp\",\"SibSp\",\"SibSp\",\"SibSp\",\"SibSp\",\"SibSp\",\"SibSp\",\"SibSp\",\"SibSp\",\"SibSp\",\"SibSp\",\"SibSp\",\"SibSp\",\"SibSp\",\"SibSp\",\"SibSp\",\"SibSp\",\"SibSp\",\"SibSp\",\"SibSp\",\"SibSp\",\"SibSp\",\"SibSp\",\"SibSp\",\"SibSp\",\"SibSp\",\"SibSp\",\"SibSp\",\"SibSp\",\"SibSp\",\"SibSp\",\"SibSp\",\"SibSp\",\"SibSp\",\"SibSp\",\"SibSp\",\"SibSp\",\"SibSp\",\"SibSp\",\"SibSp\",\"SibSp\",\"SibSp\",\"SibSp\",\"SibSp\",\"SibSp\",\"SibSp\",\"SibSp\",\"SibSp\",\"SibSp\",\"SibSp\",\"SibSp\",\"SibSp\",\"SibSp\",\"SibSp\",\"SibSp\",\"SibSp\",\"SibSp\",\"SibSp\",\"SibSp\",\"SibSp\",\"SibSp\",\"SibSp\",\"SibSp\",\"SibSp\",\"SibSp\",\"SibSp\",\"SibSp\",\"SibSp\",\"SibSp\",\"SibSp\",\"SibSp\",\"SibSp\",\"SibSp\",\"SibSp\",\"SibSp\",\"SibSp\",\"SibSp\",\"SibSp\",\"SibSp\",\"SibSp\",\"SibSp\",\"SibSp\",\"SibSp\",\"SibSp\",\"SibSp\",\"SibSp\",\"SibSp\",\"SibSp\",\"SibSp\",\"SibSp\",\"SibSp\",\"SibSp\",\"SibSp\",\"SibSp\",\"SibSp\",\"SibSp\",\"SibSp\",\"SibSp\",\"SibSp\",\"SibSp\",\"SibSp\",\"SibSp\",\"SibSp\",\"SibSp\",\"SibSp\",\"SibSp\",\"SibSp\",\"SibSp\",\"SibSp\",\"SibSp\",\"SibSp\",\"SibSp\",\"SibSp\",\"SibSp\",\"SibSp\",\"SibSp\",\"SibSp\",\"SibSp\",\"SibSp\",\"SibSp\",\"SibSp\",\"SibSp\",\"SibSp\",\"SibSp\",\"SibSp\",\"SibSp\",\"SibSp\",\"SibSp\",\"SibSp\",\"SibSp\",\"SibSp\",\"SibSp\",\"SibSp\",\"SibSp\",\"SibSp\",\"SibSp\",\"SibSp\",\"SibSp\",\"SibSp\",\"SibSp\",\"SibSp\",\"SibSp\",\"SibSp\",\"SibSp\",\"SibSp\",\"SibSp\",\"SibSp\",\"SibSp\",\"SibSp\",\"SibSp\",\"SibSp\",\"SibSp\",\"SibSp\",\"SibSp\",\"SibSp\",\"SibSp\",\"SibSp\",\"SibSp\",\"SibSp\",\"SibSp\",\"SibSp\",\"SibSp\",\"SibSp\",\"SibSp\",\"SibSp\",\"SibSp\",\"SibSp\",\"SibSp\",\"SibSp\",\"SibSp\",\"SibSp\",\"SibSp\",\"SibSp\",\"SibSp\",\"SibSp\",\"SibSp\",\"SibSp\",\"SibSp\",\"SibSp\",\"SibSp\",\"SibSp\",\"SibSp\",\"SibSp\",\"SibSp\",\"SibSp\",\"SibSp\",\"SibSp\",\"SibSp\",\"SibSp\",\"SibSp\",\"SibSp\",\"SibSp\",\"SibSp\",\"SibSp\",\"SibSp\",\"SibSp\",\"SibSp\",\"SibSp\",\"SibSp\",\"SibSp\",\"SibSp\",\"SibSp\",\"SibSp\",\"SibSp\",\"SibSp\",\"SibSp\",\"SibSp\",\"SibSp\",\"SibSp\",\"SibSp\",\"SibSp\",\"SibSp\",\"SibSp\",\"Parch\",\"Parch\",\"Parch\",\"Parch\",\"Parch\",\"Parch\",\"Parch\",\"Parch\",\"Parch\",\"Parch\",\"Parch\",\"Parch\",\"Parch\",\"Parch\",\"Parch\",\"Parch\",\"Parch\",\"Parch\",\"Parch\",\"Parch\",\"Parch\",\"Parch\",\"Parch\",\"Parch\",\"Parch\",\"Parch\",\"Parch\",\"Parch\",\"Parch\",\"Parch\",\"Parch\",\"Parch\",\"Parch\",\"Parch\",\"Parch\",\"Parch\",\"Parch\",\"Parch\",\"Parch\",\"Parch\",\"Parch\",\"Parch\",\"Parch\",\"Parch\",\"Parch\",\"Parch\",\"Parch\",\"Parch\",\"Parch\",\"Parch\",\"Parch\",\"Parch\",\"Parch\",\"Parch\",\"Parch\",\"Parch\",\"Parch\",\"Parch\",\"Parch\",\"Parch\",\"Parch\",\"Parch\",\"Parch\",\"Parch\",\"Parch\",\"Parch\",\"Parch\",\"Parch\",\"Parch\",\"Parch\",\"Parch\",\"Parch\",\"Parch\",\"Parch\",\"Parch\",\"Parch\",\"Parch\",\"Parch\",\"Parch\",\"Parch\",\"Parch\",\"Parch\",\"Parch\",\"Parch\",\"Parch\",\"Parch\",\"Parch\",\"Parch\",\"Parch\",\"Parch\",\"Parch\",\"Parch\",\"Parch\",\"Parch\",\"Parch\",\"Parch\",\"Parch\",\"Parch\",\"Parch\",\"Parch\",\"Parch\",\"Parch\",\"Parch\",\"Parch\",\"Parch\",\"Parch\",\"Parch\",\"Parch\",\"Parch\",\"Parch\",\"Parch\",\"Parch\",\"Parch\",\"Parch\",\"Parch\",\"Parch\",\"Parch\",\"Parch\",\"Parch\",\"Parch\",\"Parch\",\"Parch\",\"Parch\",\"Parch\",\"Parch\",\"Parch\",\"Parch\",\"Parch\",\"Parch\",\"Parch\",\"Parch\",\"Parch\",\"Parch\",\"Parch\",\"Parch\",\"Parch\",\"Parch\",\"Parch\",\"Parch\",\"Parch\",\"Parch\",\"Parch\",\"Parch\",\"Parch\",\"Parch\",\"Parch\",\"Parch\",\"Parch\",\"Parch\",\"Parch\",\"Parch\",\"Parch\",\"Parch\",\"Parch\",\"Parch\",\"Parch\",\"Parch\",\"Parch\",\"Parch\",\"Parch\",\"Parch\",\"Parch\",\"Parch\",\"Parch\",\"Parch\",\"Parch\",\"Parch\",\"Parch\",\"Parch\",\"Parch\",\"Parch\",\"Parch\",\"Parch\",\"Parch\",\"Parch\",\"Parch\",\"Parch\",\"Parch\",\"Parch\",\"Parch\",\"Parch\",\"Parch\",\"Parch\",\"Parch\",\"Parch\",\"Parch\",\"Parch\",\"Parch\",\"Parch\",\"Parch\",\"Parch\",\"Parch\",\"Parch\",\"Parch\",\"Parch\",\"Parch\",\"Parch\",\"Parch\",\"Parch\",\"Parch\",\"Parch\",\"Parch\",\"Parch\",\"Parch\",\"Parch\",\"Parch\",\"Parch\",\"Parch\",\"Parch\",\"Parch\",\"Parch\",\"Parch\",\"Parch\",\"Parch\",\"Parch\",\"Parch\",\"Parch\",\"Parch\",\"Parch\",\"Parch\",\"Parch\",\"Parch\",\"Parch\",\"Parch\",\"Parch\",\"Parch\",\"Parch\",\"Parch\",\"Parch\",\"Parch\",\"Parch\",\"Parch\",\"Parch\",\"Parch\",\"Parch\",\"Parch\",\"Parch\",\"Parch\",\"Parch\",\"Parch\",\"Parch\",\"Parch\",\"Parch\",\"Parch\",\"Parch\",\"Parch\",\"Parch\",\"Parch\",\"Parch\",\"Parch\",\"Parch\",\"Parch\",\"Parch\",\"Parch\",\"Parch\",\"Parch\",\"Parch\",\"Parch\",\"Parch\",\"Parch\",\"Parch\",\"Parch\",\"Parch\",\"Parch\",\"Parch\",\"Parch\",\"Parch\",\"Parch\",\"Parch\",\"Parch\",\"Parch\",\"Parch\",\"Parch\",\"Parch\",\"Parch\",\"Parch\",\"Parch\",\"Parch\",\"Parch\",\"Parch\",\"Parch\",\"Parch\",\"Parch\",\"Parch\",\"Parch\",\"Parch\",\"Parch\",\"Parch\",\"Parch\",\"Parch\",\"Parch\",\"Parch\",\"Parch\",\"Parch\",\"Parch\",\"Parch\",\"Parch\",\"Parch\",\"Parch\",\"Parch\",\"Parch\",\"Parch\",\"Parch\",\"Parch\",\"Parch\",\"Parch\",\"Parch\",\"Parch\",\"Parch\",\"Parch\",\"Parch\",\"Parch\",\"Parch\",\"Parch\",\"Parch\",\"Parch\",\"Parch\",\"Parch\",\"Parch\",\"Parch\",\"Parch\",\"Parch\",\"Parch\",\"Parch\",\"Parch\",\"Parch\",\"Parch\",\"Parch\",\"Parch\",\"Parch\",\"Parch\",\"Parch\",\"Parch\",\"Parch\",\"Parch\",\"Parch\",\"Parch\",\"Parch\",\"Parch\",\"Parch\",\"Parch\",\"Parch\",\"Parch\",\"Parch\",\"Parch\",\"Parch\",\"Parch\",\"Parch\",\"Parch\",\"Parch\",\"Parch\",\"Parch\",\"Parch\",\"Parch\",\"Parch\",\"Parch\",\"Parch\",\"Parch\",\"Parch\",\"Parch\",\"Parch\",\"Parch\",\"Parch\",\"Parch\",\"Parch\",\"Parch\",\"Parch\",\"Parch\",\"Parch\",\"Parch\",\"Parch\",\"Parch\",\"Parch\",\"Parch\",\"Parch\",\"Parch\",\"Parch\",\"Parch\",\"Parch\",\"Parch\",\"Parch\",\"Parch\",\"Parch\",\"Parch\",\"Parch\",\"Parch\",\"Parch\",\"Parch\",\"Parch\",\"Parch\",\"Parch\",\"Parch\",\"Parch\",\"Parch\",\"Parch\",\"Parch\",\"Parch\",\"Parch\",\"Parch\",\"Parch\",\"Parch\",\"Parch\",\"Parch\",\"Parch\",\"Parch\",\"Parch\",\"Parch\",\"Parch\",\"Parch\",\"Parch\",\"Parch\",\"Parch\",\"Parch\",\"Parch\",\"Parch\",\"Parch\",\"Parch\",\"Parch\",\"Parch\",\"Parch\",\"Parch\",\"Parch\",\"Parch\",\"Parch\",\"Parch\",\"Parch\",\"Parch\",\"Parch\",\"Parch\",\"Parch\",\"Parch\",\"Parch\",\"Parch\",\"Parch\",\"Parch\",\"Parch\",\"Parch\",\"Parch\",\"Parch\",\"Parch\",\"Parch\",\"Parch\",\"Parch\",\"Parch\",\"Parch\",\"Parch\",\"Parch\",\"Parch\",\"Parch\",\"Parch\",\"Parch\",\"Parch\",\"Parch\",\"Parch\",\"Parch\",\"Parch\",\"Parch\",\"Parch\",\"Parch\",\"Parch\",\"Parch\",\"Parch\",\"Parch\",\"Parch\",\"Parch\",\"Parch\",\"Parch\",\"Parch\",\"Parch\",\"Parch\",\"Parch\",\"Parch\",\"Parch\",\"Parch\",\"Parch\",\"Parch\",\"Parch\",\"Parch\",\"Parch\",\"Parch\",\"Parch\",\"Parch\",\"Parch\",\"Parch\",\"Parch\",\"Parch\",\"Parch\",\"Parch\",\"Parch\",\"Parch\",\"Parch\",\"Parch\",\"Parch\",\"Parch\",\"Parch\",\"Parch\",\"Parch\",\"Parch\",\"Parch\",\"Parch\",\"Parch\",\"Parch\",\"Parch\",\"Parch\",\"Parch\",\"Parch\",\"Parch\",\"Parch\",\"Parch\",\"Parch\",\"Parch\",\"Parch\",\"Parch\",\"Parch\",\"Parch\",\"Parch\",\"Parch\",\"Parch\",\"Parch\",\"Parch\",\"Parch\",\"Parch\",\"Parch\",\"Parch\",\"Parch\",\"Parch\",\"Parch\",\"Parch\",\"Parch\",\"Parch\",\"Parch\",\"Parch\",\"Parch\",\"Parch\",\"Parch\",\"Parch\",\"Parch\",\"Parch\",\"Parch\",\"Parch\",\"Parch\",\"Parch\",\"Parch\",\"Parch\",\"Parch\",\"Parch\",\"Parch\",\"Parch\",\"Parch\",\"Parch\",\"Parch\",\"Parch\",\"Parch\",\"Parch\",\"Parch\",\"Parch\",\"Parch\",\"Parch\",\"Parch\",\"Parch\",\"Parch\",\"Parch\",\"Parch\",\"Parch\",\"Parch\",\"Parch\",\"Parch\",\"Parch\",\"Parch\",\"Parch\",\"Parch\",\"Parch\",\"Parch\",\"Parch\",\"Parch\",\"Parch\",\"Parch\",\"Parch\",\"Parch\",\"Parch\",\"Parch\",\"Parch\",\"Parch\",\"Parch\",\"Parch\",\"Parch\",\"Parch\",\"Parch\",\"Parch\",\"Parch\",\"Parch\",\"Parch\",\"Parch\",\"Parch\",\"Parch\",\"Parch\",\"Parch\",\"Parch\",\"Parch\",\"Parch\",\"Parch\",\"Parch\",\"Parch\",\"Parch\",\"Parch\",\"Parch\",\"Parch\",\"Parch\",\"Parch\",\"Parch\",\"Parch\",\"Parch\",\"Parch\",\"Parch\",\"Parch\",\"Parch\",\"Parch\",\"Parch\",\"Parch\",\"Parch\",\"Parch\",\"Parch\",\"Parch\",\"Parch\",\"Parch\",\"Parch\",\"Parch\",\"Parch\",\"Parch\",\"Parch\",\"Parch\",\"Parch\",\"Parch\",\"Parch\",\"Parch\",\"Parch\",\"Parch\",\"Parch\",\"Parch\",\"Parch\",\"Parch\",\"Parch\",\"Parch\",\"Parch\",\"Parch\",\"Parch\",\"Parch\",\"Parch\",\"Parch\",\"Parch\",\"Parch\",\"Parch\",\"Parch\",\"Parch\",\"Parch\",\"Parch\",\"Parch\",\"Parch\",\"Parch\",\"Parch\",\"Parch\",\"Parch\",\"Parch\",\"Parch\",\"Parch\",\"Parch\",\"Parch\",\"Parch\",\"Parch\",\"Parch\",\"Parch\",\"Parch\",\"Parch\",\"Parch\",\"Parch\",\"Parch\",\"Parch\",\"Parch\",\"Parch\",\"Parch\",\"Parch\",\"Parch\",\"Parch\",\"Parch\",\"Parch\",\"Parch\",\"Parch\",\"Parch\",\"Parch\",\"Parch\",\"Parch\",\"Parch\",\"Parch\",\"Parch\",\"Parch\",\"Parch\",\"Parch\",\"Parch\",\"Parch\",\"Parch\",\"Parch\",\"Parch\",\"Parch\",\"Parch\",\"Parch\",\"Parch\",\"Parch\",\"Parch\",\"Parch\",\"Parch\",\"Parch\",\"Parch\",\"Parch\",\"Parch\",\"Parch\",\"Parch\",\"Parch\",\"Parch\",\"Parch\",\"Parch\",\"Parch\",\"Parch\",\"Parch\",\"Parch\",\"Parch\",\"Parch\",\"Parch\",\"Parch\",\"Parch\",\"Parch\",\"Parch\",\"Parch\",\"Parch\",\"Parch\",\"Parch\",\"Parch\",\"Parch\",\"Parch\",\"Parch\",\"Parch\",\"Parch\",\"Parch\",\"Parch\",\"Parch\",\"Parch\",\"Parch\",\"Parch\",\"Parch\",\"Parch\",\"Parch\",\"Parch\",\"Parch\",\"Parch\",\"Parch\",\"Parch\",\"Parch\",\"Parch\",\"Parch\",\"Parch\",\"Parch\",\"Parch\",\"Parch\",\"Parch\",\"Parch\",\"Parch\",\"Parch\",\"Parch\",\"Parch\",\"Parch\",\"Parch\",\"Parch\",\"Parch\",\"Parch\",\"Parch\",\"Parch\",\"Parch\",\"Parch\",\"Parch\",\"Parch\",\"Parch\",\"Parch\",\"Parch\",\"Parch\",\"Parch\",\"Parch\",\"Parch\",\"Parch\",\"Parch\",\"Parch\",\"Parch\",\"Parch\",\"Parch\",\"Parch\",\"Parch\",\"Parch\",\"Parch\",\"Parch\",\"Parch\",\"Parch\",\"Parch\",\"Parch\",\"Parch\",\"Parch\",\"Parch\",\"Parch\",\"Parch\",\"Parch\",\"Parch\",\"Parch\",\"Parch\",\"Parch\",\"Parch\",\"Parch\",\"Parch\",\"Parch\",\"Parch\",\"Parch\",\"Parch\",\"Parch\",\"Parch\",\"Parch\",\"Parch\",\"Parch\",\"Parch\",\"Parch\",\"Parch\",\"Parch\",\"Parch\",\"Parch\",\"Parch\",\"Parch\",\"Parch\",\"Parch\",\"Parch\",\"Parch\",\"Parch\",\"Parch\",\"Parch\",\"Parch\",\"Parch\",\"Parch\",\"Parch\",\"Parch\",\"Parch\",\"Parch\",\"Parch\",\"Parch\",\"Parch\",\"Parch\",\"Parch\",\"Parch\",\"Parch\",\"Parch\",\"Parch\",\"Parch\",\"Parch\",\"Parch\",\"Parch\",\"Parch\",\"Parch\",\"Parch\",\"Parch\",\"Parch\",\"Parch\",\"Parch\",\"Parch\",\"Parch\",\"Parch\",\"Parch\",\"Parch\",\"Parch\",\"Parch\",\"Parch\",\"Parch\",\"Parch\",\"Parch\",\"Parch\",\"Parch\",\"Parch\",\"Parch\",\"Parch\",\"Parch\",\"Parch\",\"Parch\",\"Parch\",\"Parch\",\"Parch\",\"Parch\",\"Parch\",\"Parch\",\"Parch\",\"Fare\",\"Fare\",\"Fare\",\"Fare\",\"Fare\",\"Fare\",\"Fare\",\"Fare\",\"Fare\",\"Fare\",\"Fare\",\"Fare\",\"Fare\",\"Fare\",\"Fare\",\"Fare\",\"Fare\",\"Fare\",\"Fare\",\"Fare\",\"Fare\",\"Fare\",\"Fare\",\"Fare\",\"Fare\",\"Fare\",\"Fare\",\"Fare\",\"Fare\",\"Fare\",\"Fare\",\"Fare\",\"Fare\",\"Fare\",\"Fare\",\"Fare\",\"Fare\",\"Fare\",\"Fare\",\"Fare\",\"Fare\",\"Fare\",\"Fare\",\"Fare\",\"Fare\",\"Fare\",\"Fare\",\"Fare\",\"Fare\",\"Fare\",\"Fare\",\"Fare\",\"Fare\",\"Fare\",\"Fare\",\"Fare\",\"Fare\",\"Fare\",\"Fare\",\"Fare\",\"Fare\",\"Fare\",\"Fare\",\"Fare\",\"Fare\",\"Fare\",\"Fare\",\"Fare\",\"Fare\",\"Fare\",\"Fare\",\"Fare\",\"Fare\",\"Fare\",\"Fare\",\"Fare\",\"Fare\",\"Fare\",\"Fare\",\"Fare\",\"Fare\",\"Fare\",\"Fare\",\"Fare\",\"Fare\",\"Fare\",\"Fare\",\"Fare\",\"Fare\",\"Fare\",\"Fare\",\"Fare\",\"Fare\",\"Fare\",\"Fare\",\"Fare\",\"Fare\",\"Fare\",\"Fare\",\"Fare\",\"Fare\",\"Fare\",\"Fare\",\"Fare\",\"Fare\",\"Fare\",\"Fare\",\"Fare\",\"Fare\",\"Fare\",\"Fare\",\"Fare\",\"Fare\",\"Fare\",\"Fare\",\"Fare\",\"Fare\",\"Fare\",\"Fare\",\"Fare\",\"Fare\",\"Fare\",\"Fare\",\"Fare\",\"Fare\",\"Fare\",\"Fare\",\"Fare\",\"Fare\",\"Fare\",\"Fare\",\"Fare\",\"Fare\",\"Fare\",\"Fare\",\"Fare\",\"Fare\",\"Fare\",\"Fare\",\"Fare\",\"Fare\",\"Fare\",\"Fare\",\"Fare\",\"Fare\",\"Fare\",\"Fare\",\"Fare\",\"Fare\",\"Fare\",\"Fare\",\"Fare\",\"Fare\",\"Fare\",\"Fare\",\"Fare\",\"Fare\",\"Fare\",\"Fare\",\"Fare\",\"Fare\",\"Fare\",\"Fare\",\"Fare\",\"Fare\",\"Fare\",\"Fare\",\"Fare\",\"Fare\",\"Fare\",\"Fare\",\"Fare\",\"Fare\",\"Fare\",\"Fare\",\"Fare\",\"Fare\",\"Fare\",\"Fare\",\"Fare\",\"Fare\",\"Fare\",\"Fare\",\"Fare\",\"Fare\",\"Fare\",\"Fare\",\"Fare\",\"Fare\",\"Fare\",\"Fare\",\"Fare\",\"Fare\",\"Fare\",\"Fare\",\"Fare\",\"Fare\",\"Fare\",\"Fare\",\"Fare\",\"Fare\",\"Fare\",\"Fare\",\"Fare\",\"Fare\",\"Fare\",\"Fare\",\"Fare\",\"Fare\",\"Fare\",\"Fare\",\"Fare\",\"Fare\",\"Fare\",\"Fare\",\"Fare\",\"Fare\",\"Fare\",\"Fare\",\"Fare\",\"Fare\",\"Fare\",\"Fare\",\"Fare\",\"Fare\",\"Fare\",\"Fare\",\"Fare\",\"Fare\",\"Fare\",\"Fare\",\"Fare\",\"Fare\",\"Fare\",\"Fare\",\"Fare\",\"Fare\",\"Fare\",\"Fare\",\"Fare\",\"Fare\",\"Fare\",\"Fare\",\"Fare\",\"Fare\",\"Fare\",\"Fare\",\"Fare\",\"Fare\",\"Fare\",\"Fare\",\"Fare\",\"Fare\",\"Fare\",\"Fare\",\"Fare\",\"Fare\",\"Fare\",\"Fare\",\"Fare\",\"Fare\",\"Fare\",\"Fare\",\"Fare\",\"Fare\",\"Fare\",\"Fare\",\"Fare\",\"Fare\",\"Fare\",\"Fare\",\"Fare\",\"Fare\",\"Fare\",\"Fare\",\"Fare\",\"Fare\",\"Fare\",\"Fare\",\"Fare\",\"Fare\",\"Fare\",\"Fare\",\"Fare\",\"Fare\",\"Fare\",\"Fare\",\"Fare\",\"Fare\",\"Fare\",\"Fare\",\"Fare\",\"Fare\",\"Fare\",\"Fare\",\"Fare\",\"Fare\",\"Fare\",\"Fare\",\"Fare\",\"Fare\",\"Fare\",\"Fare\",\"Fare\",\"Fare\",\"Fare\",\"Fare\",\"Fare\",\"Fare\",\"Fare\",\"Fare\",\"Fare\",\"Fare\",\"Fare\",\"Fare\",\"Fare\",\"Fare\",\"Fare\",\"Fare\",\"Fare\",\"Fare\",\"Fare\",\"Fare\",\"Fare\",\"Fare\",\"Fare\",\"Fare\",\"Fare\",\"Fare\",\"Fare\",\"Fare\",\"Fare\",\"Fare\",\"Fare\",\"Fare\",\"Fare\",\"Fare\",\"Fare\",\"Fare\",\"Fare\",\"Fare\",\"Fare\",\"Fare\",\"Fare\",\"Fare\",\"Fare\",\"Fare\",\"Fare\",\"Fare\",\"Fare\",\"Fare\",\"Fare\",\"Fare\",\"Fare\",\"Fare\",\"Fare\",\"Fare\",\"Fare\",\"Fare\",\"Fare\",\"Fare\",\"Fare\",\"Fare\",\"Fare\",\"Fare\",\"Fare\",\"Fare\",\"Fare\",\"Fare\",\"Fare\",\"Fare\",\"Fare\",\"Fare\",\"Fare\",\"Fare\",\"Fare\",\"Fare\",\"Fare\",\"Fare\",\"Fare\",\"Fare\",\"Fare\",\"Fare\",\"Fare\",\"Fare\",\"Fare\",\"Fare\",\"Fare\",\"Fare\",\"Fare\",\"Fare\",\"Fare\",\"Fare\",\"Fare\",\"Fare\",\"Fare\",\"Fare\",\"Fare\",\"Fare\",\"Fare\",\"Fare\",\"Fare\",\"Fare\",\"Fare\",\"Fare\",\"Fare\",\"Fare\",\"Fare\",\"Fare\",\"Fare\",\"Fare\",\"Fare\",\"Fare\",\"Fare\",\"Fare\",\"Fare\",\"Fare\",\"Fare\",\"Fare\",\"Fare\",\"Fare\",\"Fare\",\"Fare\",\"Fare\",\"Fare\",\"Fare\",\"Fare\",\"Fare\",\"Fare\",\"Fare\",\"Fare\",\"Fare\",\"Fare\",\"Fare\",\"Fare\",\"Fare\",\"Fare\",\"Fare\",\"Fare\",\"Fare\",\"Fare\",\"Fare\",\"Fare\",\"Fare\",\"Fare\",\"Fare\",\"Fare\",\"Fare\",\"Fare\",\"Fare\",\"Fare\",\"Fare\",\"Fare\",\"Fare\",\"Fare\",\"Fare\",\"Fare\",\"Fare\",\"Fare\",\"Fare\",\"Fare\",\"Fare\",\"Fare\",\"Fare\",\"Fare\",\"Fare\",\"Fare\",\"Fare\",\"Fare\",\"Fare\",\"Fare\",\"Fare\",\"Fare\",\"Fare\",\"Fare\",\"Fare\",\"Fare\",\"Fare\",\"Fare\",\"Fare\",\"Fare\",\"Fare\",\"Fare\",\"Fare\",\"Fare\",\"Fare\",\"Fare\",\"Fare\",\"Fare\",\"Fare\",\"Fare\",\"Fare\",\"Fare\",\"Fare\",\"Fare\",\"Fare\",\"Fare\",\"Fare\",\"Fare\",\"Fare\",\"Fare\",\"Fare\",\"Fare\",\"Fare\",\"Fare\",\"Fare\",\"Fare\",\"Fare\",\"Fare\",\"Fare\",\"Fare\",\"Fare\",\"Fare\",\"Fare\",\"Fare\",\"Fare\",\"Fare\",\"Fare\",\"Fare\",\"Fare\",\"Fare\",\"Fare\",\"Fare\",\"Fare\",\"Fare\",\"Fare\",\"Fare\",\"Fare\",\"Fare\",\"Fare\",\"Fare\",\"Fare\",\"Fare\",\"Fare\",\"Fare\",\"Fare\",\"Fare\",\"Fare\",\"Fare\",\"Fare\",\"Fare\",\"Fare\",\"Fare\",\"Fare\",\"Fare\",\"Fare\",\"Fare\",\"Fare\",\"Fare\",\"Fare\",\"Fare\",\"Fare\",\"Fare\",\"Fare\",\"Fare\",\"Fare\",\"Fare\",\"Fare\",\"Fare\",\"Fare\",\"Fare\",\"Fare\",\"Fare\",\"Fare\",\"Fare\",\"Fare\",\"Fare\",\"Fare\",\"Fare\",\"Fare\",\"Fare\",\"Fare\",\"Fare\",\"Fare\",\"Fare\",\"Fare\",\"Fare\",\"Fare\",\"Fare\",\"Fare\",\"Fare\",\"Fare\",\"Fare\",\"Fare\",\"Fare\",\"Fare\",\"Fare\",\"Fare\",\"Fare\",\"Fare\",\"Fare\",\"Fare\",\"Fare\",\"Fare\",\"Fare\",\"Fare\",\"Fare\",\"Fare\",\"Fare\",\"Fare\",\"Fare\",\"Fare\",\"Fare\",\"Fare\",\"Fare\",\"Fare\",\"Fare\",\"Fare\",\"Fare\",\"Fare\",\"Fare\",\"Fare\",\"Fare\",\"Fare\",\"Fare\",\"Fare\",\"Fare\",\"Fare\",\"Fare\",\"Fare\",\"Fare\",\"Fare\",\"Fare\",\"Fare\",\"Fare\",\"Fare\",\"Fare\",\"Fare\",\"Fare\",\"Fare\",\"Fare\",\"Fare\",\"Fare\",\"Fare\",\"Fare\",\"Fare\",\"Fare\",\"Fare\",\"Fare\",\"Fare\",\"Fare\",\"Fare\",\"Fare\",\"Fare\",\"Fare\",\"Fare\",\"Fare\",\"Fare\",\"Fare\",\"Fare\",\"Fare\",\"Fare\",\"Fare\",\"Fare\",\"Fare\",\"Fare\",\"Fare\",\"Fare\",\"Fare\",\"Fare\",\"Fare\",\"Fare\",\"Fare\",\"Fare\",\"Fare\",\"Fare\",\"Fare\",\"Fare\",\"Fare\",\"Fare\",\"Fare\",\"Fare\",\"Fare\",\"Fare\",\"Fare\",\"Fare\",\"Fare\",\"Fare\",\"Fare\",\"Fare\",\"Fare\",\"Fare\",\"Fare\",\"Fare\",\"Fare\",\"Fare\",\"Fare\",\"Fare\",\"Fare\",\"Fare\",\"Fare\",\"Fare\",\"Fare\",\"Fare\",\"Fare\",\"Fare\",\"Fare\",\"Fare\",\"Fare\",\"Fare\",\"Fare\",\"Fare\",\"Fare\",\"Fare\",\"Fare\",\"Fare\",\"Fare\",\"Fare\",\"Fare\",\"Fare\",\"Fare\",\"Fare\",\"Fare\",\"Fare\",\"Fare\",\"Fare\",\"Fare\",\"Fare\",\"Fare\",\"Fare\",\"Fare\",\"Fare\",\"Fare\",\"Fare\",\"Fare\",\"Fare\",\"Fare\",\"Fare\",\"Fare\",\"Fare\",\"Fare\",\"Fare\",\"Fare\",\"Fare\",\"Fare\",\"Fare\",\"Fare\",\"Fare\",\"Fare\",\"Fare\",\"Fare\",\"Fare\",\"Fare\",\"Fare\",\"Fare\",\"Fare\",\"Fare\",\"Fare\",\"Fare\",\"Fare\",\"Fare\",\"Fare\",\"Fare\",\"Fare\",\"Fare\",\"Fare\",\"Fare\",\"Fare\",\"Fare\",\"Fare\",\"Fare\",\"Fare\",\"Fare\",\"Fare\",\"Fare\",\"Fare\",\"Fare\",\"Fare\",\"Fare\",\"Fare\",\"Fare\",\"Fare\",\"Fare\",\"Fare\",\"Fare\",\"Fare\",\"Fare\",\"Fare\",\"Fare\",\"Fare\",\"Fare\",\"Fare\",\"Fare\",\"Fare\",\"Fare\",\"Fare\",\"Fare\",\"Fare\",\"Fare\",\"Fare\",\"Fare\",\"Fare\",\"Fare\",\"Fare\",\"Fare\",\"Fare\",\"Fare\",\"Fare\",\"Fare\",\"Fare\",\"Fare\",\"Fare\",\"Fare\",\"Fare\",\"Fare\",\"Fare\",\"Fare\",\"Fare\",\"Fare\",\"Fare\",\"Fare\",\"Fare\",\"Fare\",\"Fare\",\"Fare\",\"Fare\",\"Fare\",\"Fare\",\"Fare\",\"Fare\",\"Fare\",\"Fare\",\"Fare\",\"Fare\",\"Fare\",\"Fare\",\"Fare\",\"Fare\",\"Fare\",\"Fare\",\"Fare\",\"Fare\",\"Fare\",\"Fare\",\"Fare\",\"Fare\",\"Fare\",\"Fare\",\"Fare\",\"Fare\",\"Fare\",\"Fare\",\"Fare\",\"Fare\",\"Fare\",\"Fare\",\"Fare\",\"Fare\",\"Fare\",\"Fare\",\"Fare\",\"Fare\",\"Fare\",\"Fare\",\"Fare\",\"Fare\",\"Fare\",\"Fare\",\"Fare\",\"Fare\",\"Fare\",\"Fare\",\"Fare\",\"Fare\",\"Fare\",\"Fare\",\"Fare\",\"Fare\",\"Fare\",\"Fare\",\"Fare\",\"Fare\",\"Fare\",\"Fare\",\"Fare\",\"Fare\",\"Fare\",\"Fare\",\"Fare\",\"Fare\",\"Fare\",\"Fare\",\"Fare\",\"Fare\",\"Fare\",\"Fare\",\"Fare\",\"Fare\",\"Fare\",\"Fare\",\"Fare\"],\"x0\":\" \",\"xaxis\":\"x\",\"y\":[1.0,2.0,3.0,4.0,5.0,6.0,7.0,8.0,9.0,10.0,11.0,12.0,13.0,14.0,15.0,16.0,17.0,18.0,19.0,20.0,21.0,22.0,23.0,24.0,25.0,26.0,27.0,28.0,29.0,30.0,31.0,32.0,33.0,34.0,35.0,36.0,37.0,38.0,39.0,40.0,41.0,42.0,43.0,44.0,45.0,46.0,47.0,48.0,49.0,50.0,51.0,52.0,53.0,54.0,55.0,56.0,57.0,58.0,59.0,60.0,61.0,62.0,63.0,64.0,65.0,66.0,67.0,68.0,69.0,70.0,71.0,72.0,73.0,74.0,75.0,76.0,77.0,78.0,79.0,80.0,81.0,82.0,83.0,84.0,85.0,86.0,87.0,88.0,89.0,90.0,91.0,92.0,93.0,94.0,95.0,96.0,97.0,98.0,99.0,100.0,101.0,102.0,103.0,104.0,105.0,106.0,107.0,108.0,109.0,110.0,111.0,112.0,113.0,114.0,115.0,116.0,117.0,118.0,119.0,120.0,121.0,122.0,123.0,124.0,125.0,126.0,127.0,128.0,129.0,130.0,131.0,132.0,133.0,134.0,135.0,136.0,137.0,138.0,139.0,140.0,141.0,142.0,143.0,144.0,145.0,146.0,147.0,148.0,149.0,150.0,151.0,152.0,153.0,154.0,155.0,156.0,157.0,158.0,159.0,160.0,161.0,162.0,163.0,164.0,165.0,166.0,167.0,168.0,169.0,170.0,171.0,172.0,173.0,174.0,175.0,176.0,177.0,178.0,179.0,180.0,181.0,182.0,183.0,184.0,185.0,186.0,187.0,188.0,189.0,190.0,191.0,192.0,193.0,194.0,195.0,196.0,197.0,198.0,199.0,200.0,201.0,202.0,203.0,204.0,205.0,206.0,207.0,208.0,209.0,210.0,211.0,212.0,213.0,214.0,215.0,216.0,217.0,218.0,219.0,220.0,221.0,222.0,223.0,224.0,225.0,226.0,227.0,228.0,229.0,230.0,231.0,232.0,233.0,234.0,235.0,236.0,237.0,238.0,239.0,240.0,241.0,242.0,243.0,244.0,245.0,246.0,247.0,248.0,249.0,250.0,251.0,252.0,253.0,254.0,255.0,256.0,257.0,258.0,259.0,260.0,261.0,262.0,263.0,264.0,265.0,266.0,267.0,268.0,269.0,270.0,271.0,272.0,273.0,274.0,275.0,276.0,277.0,278.0,279.0,280.0,281.0,282.0,283.0,284.0,285.0,286.0,287.0,288.0,289.0,290.0,291.0,292.0,293.0,294.0,295.0,296.0,297.0,298.0,299.0,300.0,301.0,302.0,303.0,304.0,305.0,306.0,307.0,308.0,309.0,310.0,311.0,312.0,313.0,314.0,315.0,316.0,317.0,318.0,319.0,320.0,321.0,322.0,323.0,324.0,325.0,326.0,327.0,328.0,329.0,330.0,331.0,332.0,333.0,334.0,335.0,336.0,337.0,338.0,339.0,340.0,341.0,342.0,343.0,344.0,345.0,346.0,347.0,348.0,349.0,350.0,351.0,352.0,353.0,354.0,355.0,356.0,357.0,358.0,359.0,360.0,361.0,362.0,363.0,364.0,365.0,366.0,367.0,368.0,369.0,370.0,371.0,372.0,373.0,374.0,375.0,376.0,377.0,378.0,379.0,380.0,381.0,382.0,383.0,384.0,385.0,386.0,387.0,388.0,389.0,390.0,391.0,392.0,393.0,394.0,395.0,396.0,397.0,398.0,399.0,400.0,401.0,402.0,403.0,404.0,405.0,406.0,407.0,408.0,409.0,410.0,411.0,412.0,413.0,414.0,415.0,416.0,417.0,418.0,419.0,420.0,421.0,422.0,423.0,424.0,425.0,426.0,427.0,428.0,429.0,430.0,431.0,432.0,433.0,434.0,435.0,436.0,437.0,438.0,439.0,440.0,441.0,442.0,443.0,444.0,445.0,446.0,447.0,448.0,449.0,450.0,451.0,452.0,453.0,454.0,455.0,456.0,457.0,458.0,459.0,460.0,461.0,462.0,463.0,464.0,465.0,466.0,467.0,468.0,469.0,470.0,471.0,472.0,473.0,474.0,475.0,476.0,477.0,478.0,479.0,480.0,481.0,482.0,483.0,484.0,485.0,486.0,487.0,488.0,489.0,490.0,491.0,492.0,493.0,494.0,495.0,496.0,497.0,498.0,499.0,500.0,501.0,502.0,503.0,504.0,505.0,506.0,507.0,508.0,509.0,510.0,511.0,512.0,513.0,514.0,515.0,516.0,517.0,518.0,519.0,520.0,521.0,522.0,523.0,524.0,525.0,526.0,527.0,528.0,529.0,530.0,531.0,532.0,533.0,534.0,535.0,536.0,537.0,538.0,539.0,540.0,541.0,542.0,543.0,544.0,545.0,546.0,547.0,548.0,549.0,550.0,551.0,552.0,553.0,554.0,555.0,556.0,557.0,558.0,559.0,560.0,561.0,562.0,563.0,564.0,565.0,566.0,567.0,568.0,569.0,570.0,571.0,572.0,573.0,574.0,575.0,576.0,577.0,578.0,579.0,580.0,581.0,582.0,583.0,584.0,585.0,586.0,587.0,588.0,589.0,590.0,591.0,592.0,593.0,594.0,595.0,596.0,597.0,598.0,599.0,600.0,601.0,602.0,603.0,604.0,605.0,606.0,607.0,608.0,609.0,610.0,611.0,612.0,613.0,614.0,615.0,616.0,617.0,618.0,619.0,620.0,621.0,622.0,623.0,624.0,625.0,626.0,627.0,628.0,629.0,630.0,631.0,632.0,633.0,634.0,635.0,636.0,637.0,638.0,639.0,640.0,641.0,642.0,643.0,644.0,645.0,646.0,647.0,648.0,649.0,650.0,651.0,652.0,653.0,654.0,655.0,656.0,657.0,658.0,659.0,660.0,661.0,662.0,663.0,664.0,665.0,666.0,667.0,668.0,669.0,670.0,671.0,672.0,673.0,674.0,675.0,676.0,677.0,678.0,679.0,680.0,681.0,682.0,683.0,684.0,685.0,686.0,687.0,688.0,689.0,690.0,691.0,692.0,693.0,694.0,695.0,696.0,697.0,698.0,699.0,700.0,701.0,702.0,703.0,704.0,705.0,706.0,707.0,708.0,709.0,710.0,711.0,712.0,713.0,714.0,715.0,716.0,717.0,718.0,719.0,720.0,721.0,722.0,723.0,724.0,725.0,726.0,727.0,728.0,729.0,730.0,731.0,732.0,733.0,734.0,735.0,736.0,737.0,738.0,739.0,740.0,741.0,742.0,743.0,744.0,745.0,746.0,747.0,748.0,749.0,750.0,751.0,752.0,753.0,754.0,755.0,756.0,757.0,758.0,759.0,760.0,761.0,762.0,763.0,764.0,765.0,766.0,767.0,768.0,769.0,770.0,771.0,772.0,773.0,774.0,775.0,776.0,777.0,778.0,779.0,780.0,781.0,782.0,783.0,784.0,785.0,786.0,787.0,788.0,789.0,790.0,791.0,792.0,793.0,794.0,795.0,796.0,797.0,798.0,799.0,800.0,801.0,802.0,803.0,804.0,805.0,806.0,807.0,808.0,809.0,810.0,811.0,812.0,813.0,814.0,815.0,816.0,817.0,818.0,819.0,820.0,821.0,822.0,823.0,824.0,825.0,826.0,827.0,828.0,829.0,830.0,831.0,832.0,833.0,834.0,835.0,836.0,837.0,838.0,839.0,840.0,841.0,842.0,843.0,844.0,845.0,846.0,847.0,848.0,849.0,850.0,851.0,852.0,853.0,854.0,855.0,856.0,857.0,858.0,859.0,860.0,861.0,862.0,863.0,864.0,865.0,866.0,867.0,868.0,869.0,870.0,871.0,872.0,873.0,874.0,875.0,876.0,877.0,878.0,879.0,880.0,881.0,882.0,883.0,884.0,885.0,886.0,887.0,888.0,889.0,890.0,891.0,0.0,1.0,1.0,1.0,0.0,0.0,0.0,0.0,1.0,1.0,1.0,1.0,0.0,0.0,0.0,1.0,0.0,1.0,0.0,1.0,0.0,1.0,1.0,1.0,0.0,1.0,0.0,0.0,1.0,0.0,0.0,1.0,1.0,0.0,0.0,0.0,1.0,0.0,0.0,1.0,0.0,0.0,0.0,1.0,1.0,0.0,0.0,1.0,0.0,0.0,0.0,0.0,1.0,1.0,0.0,1.0,1.0,0.0,1.0,0.0,0.0,1.0,0.0,0.0,0.0,1.0,1.0,0.0,1.0,0.0,0.0,0.0,0.0,0.0,1.0,0.0,0.0,0.0,1.0,1.0,0.0,1.0,1.0,0.0,1.0,1.0,0.0,0.0,1.0,0.0,0.0,0.0,0.0,0.0,0.0,0.0,0.0,1.0,1.0,0.0,0.0,0.0,0.0,0.0,0.0,0.0,1.0,1.0,0.0,1.0,0.0,0.0,0.0,0.0,0.0,0.0,0.0,0.0,0.0,0.0,0.0,0.0,0.0,1.0,0.0,1.0,0.0,1.0,1.0,0.0,0.0,0.0,0.0,1.0,0.0,0.0,1.0,0.0,0.0,0.0,0.0,1.0,1.0,0.0,0.0,0.0,1.0,0.0,0.0,0.0,0.0,1.0,0.0,0.0,0.0,0.0,1.0,0.0,0.0,0.0,0.0,1.0,0.0,0.0,0.0,1.0,1.0,0.0,0.0,0.0,0.0,0.0,1.0,0.0,0.0,0.0,0.0,0.0,0.0,0.0,0.0,0.0,0.0,1.0,1.0,0.0,1.0,1.0,0.0,0.0,1.0,0.0,1.0,1.0,1.0,1.0,0.0,0.0,1.0,0.0,0.0,0.0,0.0,0.0,1.0,0.0,0.0,1.0,1.0,1.0,0.0,1.0,0.0,0.0,0.0,1.0,1.0,0.0,1.0,0.0,1.0,0.0,0.0,0.0,1.0,0.0,1.0,0.0,0.0,0.0,1.0,0.0,0.0,1.0,0.0,0.0,0.0,1.0,0.0,0.0,0.0,1.0,0.0,0.0,0.0,0.0,0.0,1.0,1.0,0.0,0.0,0.0,0.0,0.0,0.0,1.0,1.0,1.0,1.0,1.0,0.0,1.0,0.0,0.0,0.0,0.0,0.0,1.0,1.0,1.0,0.0,1.0,1.0,0.0,1.0,1.0,0.0,0.0,0.0,1.0,0.0,0.0,0.0,1.0,0.0,0.0,1.0,0.0,1.0,1.0,1.0,1.0,0.0,0.0,0.0,0.0,0.0,0.0,1.0,1.0,1.0,1.0,0.0,1.0,0.0,1.0,1.0,1.0,0.0,1.0,1.0,1.0,0.0,0.0,0.0,1.0,1.0,0.0,1.0,1.0,0.0,0.0,1.0,1.0,0.0,1.0,0.0,1.0,1.0,1.0,1.0,0.0,0.0,0.0,1.0,0.0,0.0,1.0,1.0,0.0,1.0,1.0,0.0,0.0,0.0,1.0,1.0,1.0,1.0,0.0,0.0,0.0,0.0,0.0,0.0,0.0,1.0,0.0,1.0,1.0,0.0,0.0,0.0,0.0,0.0,0.0,1.0,1.0,1.0,1.0,1.0,0.0,0.0,0.0,0.0,1.0,1.0,0.0,0.0,0.0,1.0,1.0,0.0,1.0,0.0,0.0,0.0,1.0,0.0,1.0,1.0,1.0,0.0,1.0,1.0,0.0,0.0,0.0,0.0,1.0,1.0,0.0,0.0,0.0,0.0,0.0,0.0,1.0,0.0,0.0,0.0,0.0,1.0,0.0,1.0,0.0,1.0,1.0,0.0,0.0,0.0,0.0,0.0,0.0,0.0,0.0,1.0,1.0,0.0,1.0,1.0,1.0,1.0,0.0,0.0,1.0,0.0,1.0,0.0,0.0,1.0,0.0,0.0,1.0,1.0,1.0,1.0,1.0,1.0,1.0,0.0,0.0,0.0,1.0,0.0,1.0,0.0,1.0,1.0,0.0,1.0,0.0,0.0,0.0,0.0,0.0,0.0,0.0,0.0,1.0,0.0,0.0,1.0,1.0,0.0,0.0,0.0,0.0,0.0,1.0,0.0,0.0,0.0,1.0,1.0,0.0,1.0,0.0,0.0,1.0,0.0,0.0,0.0,0.0,0.0,0.0,1.0,0.0,0.0,0.0,0.0,0.0,0.0,0.0,1.0,0.0,1.0,1.0,0.0,1.0,1.0,0.0,1.0,1.0,0.0,0.0,1.0,0.0,1.0,0.0,1.0,0.0,0.0,1.0,0.0,0.0,1.0,0.0,0.0,0.0,1.0,0.0,0.0,1.0,0.0,1.0,0.0,1.0,0.0,1.0,1.0,0.0,0.0,1.0,0.0,0.0,1.0,1.0,0.0,1.0,1.0,0.0,0.0,1.0,1.0,0.0,1.0,0.0,1.0,1.0,0.0,0.0,0.0,0.0,0.0,0.0,0.0,0.0,0.0,1.0,1.0,1.0,1.0,1.0,0.0,0.0,1.0,1.0,0.0,1.0,1.0,1.0,0.0,0.0,0.0,1.0,0.0,1.0,0.0,0.0,0.0,1.0,0.0,0.0,0.0,0.0,1.0,0.0,0.0,1.0,1.0,0.0,0.0,0.0,1.0,0.0,0.0,1.0,1.0,1.0,0.0,0.0,1.0,0.0,0.0,1.0,0.0,0.0,1.0,0.0,0.0,1.0,1.0,0.0,0.0,0.0,0.0,1.0,0.0,0.0,1.0,0.0,1.0,0.0,0.0,1.0,0.0,0.0,0.0,0.0,0.0,1.0,0.0,1.0,1.0,1.0,0.0,1.0,0.0,1.0,0.0,1.0,0.0,1.0,0.0,0.0,0.0,0.0,0.0,0.0,1.0,0.0,0.0,0.0,1.0,0.0,0.0,0.0,0.0,1.0,1.0,0.0,0.0,1.0,0.0,0.0,0.0,1.0,0.0,1.0,0.0,1.0,0.0,0.0,0.0,0.0,0.0,0.0,0.0,1.0,1.0,1.0,1.0,0.0,0.0,0.0,0.0,1.0,0.0,0.0,1.0,1.0,0.0,0.0,0.0,0.0,1.0,1.0,1.0,1.0,1.0,0.0,1.0,0.0,0.0,0.0,1.0,1.0,0.0,0.0,1.0,0.0,0.0,0.0,1.0,0.0,1.0,1.0,0.0,0.0,1.0,0.0,0.0,0.0,0.0,0.0,0.0,1.0,0.0,0.0,1.0,0.0,1.0,0.0,1.0,0.0,0.0,1.0,0.0,0.0,1.0,1.0,0.0,0.0,1.0,1.0,0.0,0.0,0.0,1.0,0.0,0.0,1.0,1.0,0.0,1.0,0.0,0.0,0.0,0.0,0.0,0.0,0.0,0.0,1.0,0.0,0.0,1.0,0.0,1.0,1.0,1.0,0.0,0.0,0.0,0.0,1.0,0.0,1.0,0.0,0.0,0.0,0.0,0.0,0.0,0.0,1.0,1.0,0.0,0.0,0.0,1.0,1.0,1.0,1.0,0.0,0.0,0.0,0.0,1.0,0.0,0.0,0.0,0.0,0.0,0.0,0.0,0.0,0.0,0.0,1.0,1.0,0.0,1.0,0.0,0.0,0.0,1.0,1.0,1.0,1.0,1.0,0.0,0.0,0.0,1.0,0.0,0.0,1.0,1.0,0.0,0.0,1.0,0.0,0.0,0.0,0.0,0.0,0.0,1.0,0.0,0.0,0.0,1.0,0.0,1.0,1.0,1.0,1.0,0.0,0.0,0.0,1.0,0.0,0.0,1.0,1.0,0.0,0.0,1.0,0.0,1.0,0.0,0.0,1.0,1.0,0.0,0.0,0.0,1.0,1.0,0.0,0.0,0.0,0.0,0.0,0.0,1.0,0.0,1.0,0.0,3.0,1.0,3.0,1.0,3.0,3.0,1.0,3.0,3.0,2.0,3.0,1.0,3.0,3.0,3.0,2.0,3.0,2.0,3.0,3.0,2.0,2.0,3.0,1.0,3.0,3.0,3.0,1.0,3.0,3.0,1.0,1.0,3.0,2.0,1.0,1.0,3.0,3.0,3.0,3.0,3.0,2.0,3.0,2.0,3.0,3.0,3.0,3.0,3.0,3.0,3.0,3.0,1.0,2.0,1.0,1.0,2.0,3.0,2.0,3.0,3.0,1.0,1.0,3.0,1.0,3.0,2.0,3.0,3.0,3.0,2.0,3.0,2.0,3.0,3.0,3.0,3.0,3.0,2.0,3.0,3.0,3.0,3.0,1.0,2.0,3.0,3.0,3.0,1.0,3.0,3.0,3.0,1.0,3.0,3.0,3.0,1.0,1.0,2.0,2.0,3.0,3.0,1.0,3.0,3.0,3.0,3.0,3.0,3.0,3.0,1.0,3.0,3.0,3.0,3.0,3.0,3.0,2.0,1.0,3.0,2.0,3.0,2.0,2.0,1.0,3.0,3.0,3.0,3.0,3.0,3.0,3.0,3.0,2.0,2.0,2.0,1.0,1.0,3.0,1.0,3.0,3.0,3.0,3.0,2.0,2.0,3.0,3.0,2.0,2.0,2.0,1.0,3.0,3.0,3.0,1.0,3.0,3.0,3.0,3.0,3.0,2.0,3.0,3.0,3.0,3.0,1.0,3.0,1.0,3.0,1.0,3.0,3.0,3.0,1.0,3.0,3.0,1.0,2.0,3.0,3.0,2.0,3.0,2.0,3.0,1.0,3.0,1.0,3.0,3.0,2.0,2.0,3.0,2.0,1.0,1.0,3.0,3.0,3.0,2.0,3.0,3.0,3.0,3.0,3.0,3.0,3.0,3.0,3.0,1.0,3.0,2.0,3.0,2.0,3.0,1.0,3.0,2.0,1.0,2.0,3.0,2.0,3.0,3.0,1.0,3.0,2.0,3.0,2.0,3.0,1.0,3.0,2.0,3.0,2.0,3.0,2.0,2.0,2.0,2.0,3.0,3.0,2.0,3.0,3.0,1.0,3.0,2.0,1.0,2.0,3.0,3.0,1.0,3.0,3.0,3.0,1.0,1.0,1.0,2.0,3.0,3.0,1.0,1.0,3.0,2.0,3.0,3.0,1.0,1.0,1.0,3.0,2.0,1.0,3.0,1.0,3.0,2.0,3.0,3.0,3.0,3.0,3.0,3.0,1.0,3.0,3.0,3.0,2.0,3.0,1.0,1.0,2.0,3.0,3.0,1.0,3.0,1.0,1.0,1.0,3.0,3.0,3.0,2.0,3.0,1.0,1.0,1.0,2.0,1.0,1.0,1.0,2.0,3.0,2.0,3.0,2.0,2.0,1.0,1.0,3.0,3.0,2.0,2.0,3.0,1.0,3.0,2.0,3.0,1.0,3.0,1.0,1.0,3.0,1.0,3.0,1.0,1.0,3.0,1.0,2.0,1.0,2.0,2.0,2.0,2.0,2.0,3.0,3.0,3.0,3.0,1.0,3.0,3.0,3.0,3.0,1.0,2.0,3.0,3.0,3.0,2.0,3.0,3.0,3.0,3.0,1.0,3.0,3.0,1.0,1.0,3.0,3.0,1.0,3.0,1.0,3.0,1.0,3.0,3.0,1.0,3.0,3.0,1.0,3.0,2.0,3.0,2.0,3.0,2.0,1.0,3.0,3.0,1.0,3.0,3.0,3.0,2.0,2.0,2.0,3.0,3.0,3.0,3.0,3.0,2.0,3.0,2.0,3.0,3.0,3.0,3.0,1.0,2.0,3.0,3.0,2.0,2.0,2.0,3.0,3.0,3.0,3.0,3.0,3.0,3.0,2.0,2.0,3.0,3.0,1.0,3.0,2.0,3.0,1.0,1.0,3.0,2.0,1.0,2.0,2.0,3.0,3.0,2.0,3.0,1.0,2.0,1.0,3.0,1.0,2.0,3.0,1.0,1.0,3.0,3.0,1.0,1.0,2.0,3.0,1.0,3.0,1.0,2.0,3.0,3.0,2.0,1.0,3.0,3.0,3.0,3.0,2.0,2.0,3.0,1.0,2.0,3.0,3.0,3.0,3.0,2.0,3.0,3.0,1.0,3.0,1.0,1.0,3.0,3.0,3.0,3.0,1.0,1.0,3.0,3.0,1.0,3.0,1.0,3.0,3.0,3.0,3.0,3.0,1.0,1.0,2.0,1.0,3.0,3.0,3.0,3.0,1.0,1.0,3.0,1.0,2.0,3.0,2.0,3.0,1.0,3.0,3.0,1.0,3.0,3.0,2.0,1.0,3.0,2.0,2.0,3.0,3.0,3.0,3.0,2.0,1.0,1.0,3.0,1.0,1.0,3.0,3.0,2.0,1.0,1.0,2.0,2.0,3.0,2.0,1.0,2.0,3.0,3.0,3.0,1.0,1.0,1.0,1.0,3.0,3.0,3.0,2.0,3.0,3.0,3.0,3.0,3.0,3.0,3.0,2.0,1.0,1.0,3.0,3.0,3.0,2.0,1.0,3.0,3.0,2.0,1.0,2.0,1.0,3.0,1.0,2.0,1.0,3.0,3.0,3.0,1.0,3.0,3.0,2.0,3.0,2.0,3.0,3.0,1.0,2.0,3.0,1.0,3.0,1.0,3.0,3.0,1.0,2.0,1.0,3.0,3.0,3.0,3.0,3.0,2.0,3.0,3.0,2.0,2.0,3.0,1.0,3.0,3.0,3.0,1.0,2.0,1.0,3.0,3.0,1.0,3.0,1.0,1.0,3.0,2.0,3.0,2.0,3.0,3.0,3.0,1.0,3.0,3.0,3.0,1.0,3.0,1.0,3.0,3.0,3.0,2.0,3.0,3.0,3.0,2.0,3.0,3.0,2.0,1.0,1.0,3.0,1.0,3.0,3.0,2.0,2.0,3.0,3.0,1.0,2.0,1.0,2.0,2.0,2.0,3.0,3.0,3.0,3.0,1.0,3.0,1.0,3.0,3.0,2.0,2.0,3.0,3.0,3.0,1.0,1.0,3.0,3.0,3.0,1.0,2.0,3.0,3.0,1.0,3.0,1.0,1.0,3.0,3.0,3.0,2.0,2.0,1.0,1.0,3.0,1.0,1.0,1.0,3.0,2.0,3.0,1.0,2.0,3.0,3.0,2.0,3.0,2.0,2.0,1.0,3.0,2.0,3.0,2.0,3.0,1.0,3.0,2.0,2.0,2.0,3.0,3.0,1.0,3.0,3.0,1.0,1.0,1.0,3.0,3.0,1.0,3.0,2.0,1.0,3.0,2.0,3.0,3.0,3.0,2.0,2.0,3.0,2.0,3.0,1.0,3.0,3.0,3.0,1.0,3.0,1.0,1.0,3.0,3.0,3.0,3.0,3.0,2.0,3.0,2.0,3.0,3.0,3.0,3.0,1.0,3.0,1.0,1.0,3.0,3.0,3.0,3.0,3.0,3.0,1.0,3.0,2.0,3.0,1.0,3.0,2.0,1.0,3.0,3.0,3.0,2.0,2.0,1.0,3.0,3.0,3.0,1.0,3.0,2.0,1.0,3.0,3.0,2.0,3.0,3.0,1.0,3.0,2.0,3.0,3.0,1.0,3.0,1.0,3.0,3.0,3.0,3.0,2.0,3.0,1.0,3.0,2.0,3.0,3.0,3.0,1.0,3.0,3.0,3.0,1.0,3.0,2.0,1.0,3.0,3.0,3.0,3.0,3.0,2.0,1.0,3.0,3.0,3.0,1.0,2.0,3.0,1.0,1.0,3.0,3.0,3.0,2.0,1.0,3.0,2.0,2.0,2.0,1.0,3.0,3.0,3.0,1.0,1.0,3.0,2.0,3.0,3.0,3.0,3.0,1.0,2.0,3.0,3.0,2.0,3.0,3.0,2.0,1.0,3.0,1.0,3.0,22.0,38.0,26.0,35.0,35.0,null,54.0,2.0,27.0,14.0,4.0,58.0,20.0,39.0,14.0,55.0,2.0,null,31.0,null,35.0,34.0,15.0,28.0,8.0,38.0,null,19.0,null,null,40.0,null,null,66.0,28.0,42.0,null,21.0,18.0,14.0,40.0,27.0,null,3.0,19.0,null,null,null,null,18.0,7.0,21.0,49.0,29.0,65.0,null,21.0,28.5,5.0,11.0,22.0,38.0,45.0,4.0,null,null,29.0,19.0,17.0,26.0,32.0,16.0,21.0,26.0,32.0,25.0,null,null,0.83,30.0,22.0,29.0,null,28.0,17.0,33.0,16.0,null,23.0,24.0,29.0,20.0,46.0,26.0,59.0,null,71.0,23.0,34.0,34.0,28.0,null,21.0,33.0,37.0,28.0,21.0,null,38.0,null,47.0,14.5,22.0,20.0,17.0,21.0,70.5,29.0,24.0,2.0,21.0,null,32.5,32.5,54.0,12.0,null,24.0,null,45.0,33.0,20.0,47.0,29.0,25.0,23.0,19.0,37.0,16.0,24.0,null,22.0,24.0,19.0,18.0,19.0,27.0,9.0,36.5,42.0,51.0,22.0,55.5,40.5,null,51.0,16.0,30.0,null,null,44.0,40.0,26.0,17.0,1.0,9.0,null,45.0,null,28.0,61.0,4.0,1.0,21.0,56.0,18.0,null,50.0,30.0,36.0,null,null,9.0,1.0,4.0,null,null,45.0,40.0,36.0,32.0,19.0,19.0,3.0,44.0,58.0,null,42.0,null,24.0,28.0,null,34.0,45.5,18.0,2.0,32.0,26.0,16.0,40.0,24.0,35.0,22.0,30.0,null,31.0,27.0,42.0,32.0,30.0,16.0,27.0,51.0,null,38.0,22.0,19.0,20.5,18.0,null,35.0,29.0,59.0,5.0,24.0,null,44.0,8.0,19.0,33.0,null,null,29.0,22.0,30.0,44.0,25.0,24.0,37.0,54.0,null,29.0,62.0,30.0,41.0,29.0,null,30.0,35.0,50.0,null,3.0,52.0,40.0,null,36.0,16.0,25.0,58.0,35.0,null,25.0,41.0,37.0,null,63.0,45.0,null,7.0,35.0,65.0,28.0,16.0,19.0,null,33.0,30.0,22.0,42.0,22.0,26.0,19.0,36.0,24.0,24.0,null,23.5,2.0,null,50.0,null,null,19.0,null,null,0.92,null,17.0,30.0,30.0,24.0,18.0,26.0,28.0,43.0,26.0,24.0,54.0,31.0,40.0,22.0,27.0,30.0,22.0,null,36.0,61.0,36.0,31.0,16.0,null,45.5,38.0,16.0,null,null,29.0,41.0,45.0,45.0,2.0,24.0,28.0,25.0,36.0,24.0,40.0,null,3.0,42.0,23.0,null,15.0,25.0,null,28.0,22.0,38.0,null,null,40.0,29.0,45.0,35.0,null,30.0,60.0,null,null,24.0,25.0,18.0,19.0,22.0,3.0,null,22.0,27.0,20.0,19.0,42.0,1.0,32.0,35.0,null,18.0,1.0,36.0,null,17.0,36.0,21.0,28.0,23.0,24.0,22.0,31.0,46.0,23.0,28.0,39.0,26.0,21.0,28.0,20.0,34.0,51.0,3.0,21.0,null,null,null,33.0,null,44.0,null,34.0,18.0,30.0,10.0,null,21.0,29.0,28.0,18.0,null,28.0,19.0,null,32.0,28.0,null,42.0,17.0,50.0,14.0,21.0,24.0,64.0,31.0,45.0,20.0,25.0,28.0,null,4.0,13.0,34.0,5.0,52.0,36.0,null,30.0,49.0,null,29.0,65.0,null,50.0,null,48.0,34.0,47.0,48.0,null,38.0,null,56.0,null,0.75,null,38.0,33.0,23.0,22.0,null,34.0,29.0,22.0,2.0,9.0,null,50.0,63.0,25.0,null,35.0,58.0,30.0,9.0,null,21.0,55.0,71.0,21.0,null,54.0,null,25.0,24.0,17.0,21.0,null,37.0,16.0,18.0,33.0,null,28.0,26.0,29.0,null,36.0,54.0,24.0,47.0,34.0,null,36.0,32.0,30.0,22.0,null,44.0,null,40.5,50.0,null,39.0,23.0,2.0,null,17.0,null,30.0,7.0,45.0,30.0,null,22.0,36.0,9.0,11.0,32.0,50.0,64.0,19.0,null,33.0,8.0,17.0,27.0,null,22.0,22.0,62.0,48.0,null,39.0,36.0,null,40.0,28.0,null,null,24.0,19.0,29.0,null,32.0,62.0,53.0,36.0,null,16.0,19.0,34.0,39.0,null,32.0,25.0,39.0,54.0,36.0,null,18.0,47.0,60.0,22.0,null,35.0,52.0,47.0,null,37.0,36.0,null,49.0,null,49.0,24.0,null,null,44.0,35.0,36.0,30.0,27.0,22.0,40.0,39.0,null,null,null,35.0,24.0,34.0,26.0,4.0,26.0,27.0,42.0,20.0,21.0,21.0,61.0,57.0,21.0,26.0,null,80.0,51.0,32.0,null,9.0,28.0,32.0,31.0,41.0,null,20.0,24.0,2.0,null,0.75,48.0,19.0,56.0,null,23.0,null,18.0,21.0,null,18.0,24.0,null,32.0,23.0,58.0,50.0,40.0,47.0,36.0,20.0,32.0,25.0,null,43.0,null,40.0,31.0,70.0,31.0,null,18.0,24.5,18.0,43.0,36.0,null,27.0,20.0,14.0,60.0,25.0,14.0,19.0,18.0,15.0,31.0,4.0,null,25.0,60.0,52.0,44.0,null,49.0,42.0,18.0,35.0,18.0,25.0,26.0,39.0,45.0,42.0,22.0,null,24.0,null,48.0,29.0,52.0,19.0,38.0,27.0,null,33.0,6.0,17.0,34.0,50.0,27.0,20.0,30.0,null,25.0,25.0,29.0,11.0,null,23.0,23.0,28.5,48.0,35.0,null,null,null,36.0,21.0,24.0,31.0,70.0,16.0,30.0,19.0,31.0,4.0,6.0,33.0,23.0,48.0,0.67,28.0,18.0,34.0,33.0,null,41.0,20.0,36.0,16.0,51.0,null,30.5,null,32.0,24.0,48.0,57.0,null,54.0,18.0,null,5.0,null,43.0,13.0,17.0,29.0,null,25.0,25.0,18.0,8.0,1.0,46.0,null,16.0,null,null,25.0,39.0,49.0,31.0,30.0,30.0,34.0,31.0,11.0,0.42,27.0,31.0,39.0,18.0,39.0,33.0,26.0,39.0,35.0,6.0,30.5,null,23.0,31.0,43.0,10.0,52.0,27.0,38.0,27.0,2.0,null,null,1.0,null,62.0,15.0,0.83,null,23.0,18.0,39.0,21.0,null,32.0,null,20.0,16.0,30.0,34.5,17.0,42.0,null,35.0,28.0,null,4.0,74.0,9.0,16.0,44.0,18.0,45.0,51.0,24.0,null,41.0,21.0,48.0,null,24.0,42.0,27.0,31.0,null,4.0,26.0,47.0,33.0,47.0,28.0,15.0,20.0,19.0,null,56.0,25.0,33.0,22.0,28.0,25.0,39.0,27.0,19.0,null,26.0,32.0,1.0,1.0,0.0,1.0,0.0,0.0,0.0,3.0,0.0,1.0,1.0,0.0,0.0,1.0,0.0,0.0,4.0,0.0,1.0,0.0,0.0,0.0,0.0,0.0,3.0,1.0,0.0,3.0,0.0,0.0,0.0,1.0,0.0,0.0,1.0,1.0,0.0,0.0,2.0,1.0,1.0,1.0,0.0,1.0,0.0,0.0,1.0,0.0,2.0,1.0,4.0,0.0,1.0,1.0,0.0,0.0,0.0,0.0,1.0,5.0,0.0,0.0,1.0,3.0,0.0,1.0,0.0,0.0,4.0,2.0,0.0,5.0,0.0,1.0,0.0,0.0,0.0,0.0,0.0,0.0,0.0,0.0,0.0,0.0,0.0,3.0,1.0,0.0,3.0,0.0,0.0,0.0,1.0,1.0,0.0,0.0,0.0,0.0,0.0,1.0,0.0,0.0,0.0,0.0,2.0,0.0,0.0,0.0,0.0,1.0,0.0,1.0,0.0,1.0,0.0,0.0,0.0,1.0,0.0,4.0,2.0,0.0,1.0,0.0,0.0,1.0,0.0,0.0,1.0,0.0,0.0,0.0,1.0,1.0,0.0,0.0,0.0,1.0,0.0,0.0,0.0,0.0,1.0,0.0,0.0,1.0,0.0,2.0,0.0,0.0,0.0,1.0,0.0,0.0,0.0,0.0,0.0,0.0,0.0,8.0,0.0,0.0,0.0,0.0,4.0,0.0,0.0,1.0,0.0,0.0,0.0,4.0,1.0,0.0,0.0,1.0,3.0,0.0,0.0,0.0,8.0,0.0,4.0,2.0,0.0,0.0,1.0,0.0,1.0,0.0,0.0,0.0,1.0,1.0,0.0,0.0,0.0,0.0,0.0,0.0,0.0,8.0,0.0,0.0,0.0,0.0,1.0,0.0,0.0,0.0,0.0,0.0,0.0,0.0,1.0,1.0,0.0,1.0,0.0,0.0,0.0,0.0,0.0,0.0,1.0,0.0,0.0,0.0,0.0,3.0,1.0,0.0,0.0,4.0,0.0,0.0,1.0,0.0,0.0,0.0,1.0,1.0,0.0,0.0,0.0,2.0,0.0,0.0,1.0,1.0,0.0,1.0,0.0,1.0,0.0,0.0,0.0,0.0,0.0,0.0,0.0,4.0,1.0,0.0,0.0,0.0,4.0,1.0,0.0,0.0,0.0,0.0,0.0,0.0,0.0,1.0,0.0,0.0,4.0,1.0,0.0,0.0,0.0,0.0,0.0,0.0,0.0,0.0,0.0,0.0,0.0,1.0,0.0,0.0,0.0,0.0,0.0,1.0,0.0,0.0,0.0,2.0,0.0,0.0,0.0,1.0,0.0,1.0,1.0,0.0,0.0,2.0,1.0,0.0,1.0,0.0,1.0,0.0,0.0,1.0,0.0,0.0,0.0,1.0,8.0,0.0,0.0,0.0,1.0,0.0,2.0,0.0,0.0,2.0,1.0,0.0,1.0,0.0,0.0,0.0,1.0,3.0,0.0,0.0,0.0,0.0,0.0,1.0,1.0,0.0,0.0,0.0,1.0,1.0,0.0,0.0,0.0,0.0,0.0,0.0,1.0,1.0,0.0,0.0,1.0,0.0,1.0,0.0,0.0,0.0,1.0,1.0,0.0,0.0,3.0,1.0,0.0,0.0,0.0,0.0,0.0,0.0,0.0,1.0,0.0,0.0,5.0,0.0,0.0,0.0,1.0,0.0,2.0,1.0,0.0,0.0,0.0,0.0,0.0,0.0,0.0,0.0,1.0,1.0,0.0,1.0,0.0,1.0,0.0,3.0,0.0,0.0,1.0,0.0,0.0,0.0,1.0,0.0,0.0,0.0,0.0,0.0,0.0,1.0,1.0,0.0,1.0,0.0,0.0,0.0,0.0,1.0,1.0,0.0,1.0,1.0,2.0,2.0,1.0,0.0,1.0,0.0,1.0,0.0,0.0,0.0,0.0,0.0,2.0,0.0,1.0,1.0,0.0,1.0,0.0,0.0,0.0,1.0,0.0,0.0,0.0,0.0,0.0,0.0,0.0,0.0,0.0,0.0,0.0,2.0,0.0,0.0,1.0,0.0,0.0,0.0,1.0,1.0,0.0,0.0,5.0,0.0,0.0,0.0,1.0,3.0,1.0,0.0,0.0,1.0,1.0,0.0,0.0,0.0,0.0,0.0,1.0,0.0,1.0,0.0,0.0,0.0,0.0,0.0,0.0,1.0,0.0,0.0,0.0,0.0,0.0,0.0,0.0,1.0,0.0,0.0,0.0,0.0,1.0,0.0,0.0,0.0,0.0,0.0,0.0,0.0,0.0,0.0,0.0,2.0,1.0,0.0,1.0,0.0,0.0,0.0,0.0,0.0,0.0,0.0,0.0,4.0,4.0,1.0,1.0,0.0,1.0,0.0,1.0,1.0,0.0,0.0,0.0,0.0,0.0,0.0,1.0,0.0,1.0,1.0,0.0,0.0,0.0,0.0,0.0,2.0,0.0,0.0,0.0,0.0,0.0,2.0,0.0,0.0,0.0,0.0,0.0,1.0,1.0,0.0,1.0,1.0,0.0,0.0,0.0,0.0,0.0,1.0,0.0,0.0,0.0,1.0,0.0,0.0,1.0,1.0,0.0,0.0,0.0,1.0,2.0,0.0,0.0,0.0,0.0,1.0,0.0,0.0,1.0,0.0,1.0,0.0,1.0,0.0,0.0,1.0,1.0,1.0,2.0,0.0,1.0,1.0,1.0,0.0,0.0,0.0,0.0,0.0,0.0,0.0,0.0,0.0,0.0,0.0,3.0,0.0,0.0,1.0,0.0,1.0,0.0,0.0,3.0,0.0,2.0,1.0,0.0,0.0,0.0,0.0,0.0,0.0,0.0,0.0,0.0,2.0,0.0,1.0,0.0,0.0,2.0,0.0,0.0,0.0,1.0,2.0,0.0,0.0,0.0,1.0,1.0,1.0,0.0,0.0,0.0,0.0,0.0,0.0,1.0,0.0,0.0,0.0,0.0,5.0,1.0,1.0,4.0,0.0,0.0,0.0,1.0,0.0,0.0,0.0,0.0,0.0,0.0,0.0,1.0,0.0,1.0,0.0,0.0,0.0,1.0,0.0,0.0,0.0,0.0,1.0,0.0,0.0,1.0,0.0,0.0,0.0,0.0,0.0,0.0,0.0,0.0,1.0,0.0,0.0,1.0,0.0,3.0,0.0,1.0,1.0,0.0,0.0,0.0,0.0,0.0,0.0,1.0,0.0,0.0,0.0,0.0,1.0,2.0,1.0,0.0,1.0,1.0,0.0,1.0,0.0,1.0,0.0,0.0,0.0,1.0,1.0,0.0,0.0,0.0,0.0,0.0,0.0,0.0,1.0,0.0,1.0,0.0,0.0,1.0,0.0,0.0,0.0,0.0,0.0,1.0,0.0,0.0,0.0,0.0,0.0,0.0,1.0,0.0,1.0,0.0,0.0,0.0,4.0,1.0,0.0,0.0,0.0,8.0,0.0,0.0,0.0,0.0,0.0,0.0,1.0,0.0,1.0,1.0,0.0,0.0,0.0,0.0,0.0,0.0,1.0,0.0,0.0,0.0,4.0,0.0,0.0,0.0,1.0,0.0,3.0,1.0,0.0,0.0,0.0,4.0,0.0,0.0,0.0,0.0,0.0,1.0,1.0,0.0,0.0,0.0,1.0,0.0,0.0,0.0,0.0,0.0,0.0,0.0,0.0,0.0,0.0,8.0,0.0,0.0,1.0,4.0,0.0,1.0,0.0,1.0,0.0,1.0,0.0,0.0,0.0,2.0,1.0,0.0,8.0,0.0,0.0,1.0,0.0,0.0,1.0,0.0,1.0,0.0,0.0,1.0,0.0,0.0,0.0,0.0,0.0,0.0,0.0,0.0,0.0,0.0,0.0,0.0,0.0,1.0,0.0,0.0,0.0,0.0,0.0,0.0,0.0,0.0,0.0,1.0,2.0,0.0,1.0,0.0,0.0,5.0,0.0,0.0,1.0,0.0,0.0,0.0,0.0,0.0,0.0,0.0,1.0,5.0,0.0,2.0,0.0,0.0,0.0,0.0,0.0,0.0,0.0,0.0,0.0,0.0,0.0,0.0,0.0,0.0,0.0,2.0,0.0,0.0,0.0,0.0,0.0,0.0,1.0,0.0,0.0,0.0,1.0,0.0,0.0,0.0,2.0,2.0,0.0,0.0,0.0,2.0,0.0,1.0,0.0,0.0,2.0,0.0,0.0,2.0,0.0,0.0,0.0,0.0,0.0,0.0,2.0,0.0,0.0,0.0,0.0,0.0,0.0,0.0,3.0,0.0,2.0,0.0,0.0,0.0,0.0,2.0,0.0,0.0,0.0,1.0,1.0,0.0,0.0,0.0,1.0,0.0,0.0,0.0,0.0,0.0,0.0,0.0,0.0,0.0,0.0,0.0,0.0,0.0,0.0,0.0,1.0,2.0,0.0,0.0,0.0,0.0,1.0,0.0,0.0,0.0,1.0,0.0,0.0,0.0,0.0,0.0,0.0,0.0,2.0,0.0,0.0,0.0,2.0,0.0,0.0,0.0,0.0,1.0,0.0,2.0,2.0,0.0,0.0,0.0,0.0,2.0,0.0,1.0,0.0,0.0,0.0,2.0,1.0,0.0,0.0,0.0,1.0,2.0,1.0,4.0,0.0,0.0,0.0,1.0,1.0,0.0,0.0,1.0,1.0,0.0,0.0,0.0,2.0,0.0,2.0,1.0,2.0,0.0,0.0,0.0,1.0,0.0,0.0,0.0,0.0,1.0,0.0,0.0,0.0,1.0,0.0,0.0,0.0,2.0,0.0,0.0,0.0,1.0,0.0,0.0,0.0,0.0,0.0,0.0,0.0,0.0,0.0,0.0,0.0,0.0,0.0,0.0,0.0,0.0,0.0,0.0,0.0,0.0,0.0,0.0,0.0,1.0,0.0,0.0,0.0,2.0,0.0,0.0,0.0,2.0,0.0,0.0,0.0,0.0,0.0,0.0,0.0,0.0,0.0,2.0,1.0,0.0,0.0,1.0,0.0,0.0,2.0,2.0,0.0,0.0,0.0,1.0,0.0,2.0,1.0,0.0,0.0,0.0,1.0,0.0,1.0,0.0,0.0,0.0,1.0,1.0,0.0,0.0,0.0,0.0,1.0,1.0,0.0,0.0,0.0,0.0,0.0,0.0,0.0,0.0,0.0,0.0,0.0,0.0,0.0,0.0,0.0,0.0,0.0,2.0,0.0,1.0,0.0,0.0,0.0,0.0,0.0,2.0,0.0,0.0,0.0,0.0,0.0,2.0,1.0,0.0,1.0,0.0,0.0,0.0,2.0,1.0,0.0,0.0,0.0,1.0,2.0,0.0,0.0,0.0,1.0,1.0,0.0,0.0,1.0,0.0,0.0,0.0,0.0,0.0,0.0,0.0,1.0,2.0,0.0,0.0,0.0,0.0,0.0,0.0,1.0,0.0,0.0,0.0,1.0,0.0,0.0,0.0,1.0,0.0,0.0,0.0,4.0,0.0,1.0,0.0,0.0,0.0,0.0,0.0,0.0,0.0,0.0,0.0,0.0,0.0,1.0,0.0,0.0,2.0,0.0,0.0,0.0,2.0,0.0,0.0,0.0,0.0,2.0,0.0,0.0,0.0,2.0,0.0,0.0,0.0,2.0,0.0,0.0,0.0,0.0,0.0,0.0,0.0,0.0,0.0,0.0,0.0,0.0,1.0,0.0,1.0,0.0,0.0,0.0,0.0,0.0,0.0,1.0,2.0,0.0,2.0,0.0,0.0,0.0,1.0,1.0,0.0,0.0,0.0,0.0,0.0,0.0,0.0,0.0,0.0,0.0,2.0,2.0,3.0,4.0,0.0,1.0,0.0,0.0,0.0,0.0,2.0,1.0,0.0,1.0,0.0,2.0,0.0,0.0,0.0,0.0,0.0,0.0,0.0,0.0,0.0,0.0,0.0,0.0,0.0,0.0,0.0,0.0,0.0,0.0,1.0,0.0,0.0,2.0,0.0,0.0,0.0,0.0,0.0,0.0,1.0,2.0,0.0,0.0,0.0,0.0,1.0,0.0,0.0,0.0,1.0,0.0,0.0,0.0,0.0,0.0,0.0,0.0,0.0,2.0,0.0,0.0,0.0,0.0,0.0,0.0,0.0,2.0,0.0,0.0,0.0,0.0,0.0,0.0,0.0,0.0,0.0,0.0,0.0,0.0,0.0,0.0,0.0,0.0,1.0,0.0,0.0,0.0,0.0,0.0,1.0,1.0,0.0,1.0,2.0,0.0,2.0,0.0,0.0,0.0,2.0,2.0,2.0,2.0,0.0,0.0,0.0,0.0,0.0,1.0,1.0,2.0,0.0,0.0,0.0,0.0,0.0,0.0,0.0,1.0,0.0,0.0,0.0,0.0,0.0,0.0,0.0,0.0,4.0,0.0,0.0,0.0,0.0,0.0,0.0,0.0,0.0,0.0,0.0,0.0,0.0,1.0,1.0,0.0,0.0,0.0,2.0,0.0,1.0,0.0,0.0,0.0,0.0,0.0,2.0,0.0,1.0,0.0,0.0,0.0,0.0,1.0,0.0,0.0,0.0,0.0,0.0,0.0,0.0,2.0,0.0,5.0,0.0,0.0,0.0,0.0,2.0,1.0,0.0,1.0,0.0,0.0,0.0,1.0,0.0,0.0,0.0,0.0,0.0,0.0,0.0,0.0,0.0,0.0,0.0,2.0,0.0,0.0,1.0,5.0,0.0,0.0,0.0,2.0,0.0,1.0,0.0,0.0,0.0,0.0,0.0,0.0,1.0,0.0,0.0,0.0,0.0,0.0,1.0,0.0,2.0,0.0,0.0,0.0,0.0,0.0,0.0,0.0,0.0,0.0,0.0,1.0,0.0,0.0,0.0,0.0,0.0,0.0,0.0,6.0,1.0,0.0,0.0,0.0,2.0,1.0,2.0,1.0,0.0,0.0,1.0,0.0,1.0,0.0,0.0,0.0,0.0,0.0,0.0,1.0,0.0,0.0,0.0,1.0,0.0,0.0,0.0,0.0,0.0,0.0,1.0,0.0,0.0,0.0,0.0,0.0,0.0,0.0,0.0,0.0,0.0,1.0,0.0,0.0,0.0,0.0,0.0,0.0,0.0,0.0,0.0,0.0,0.0,0.0,0.0,0.0,0.0,3.0,0.0,0.0,0.0,0.0,0.0,2.0,0.0,0.0,1.0,1.0,0.0,0.0,0.0,1.0,1.0,0.0,0.0,2.0,1.0,0.0,0.0,0.0,0.0,0.0,0.0,0.0,2.0,0.0,0.0,0.0,0.0,0.0,0.0,0.0,0.0,0.0,0.0,3.0,0.0,0.0,0.0,0.0,1.0,0.0,0.0,0.0,2.0,0.0,0.0,0.0,1.0,2.0,0.0,0.0,0.0,2.0,0.0,0.0,0.0,0.0,0.0,0.0,1.0,0.0,1.0,2.0,1.0,0.0,0.0,0.0,0.0,0.0,0.0,0.0,0.0,0.0,2.0,0.0,0.0,0.0,1.0,0.0,2.0,1.0,0.0,0.0,1.0,1.0,0.0,0.0,2.0,0.0,0.0,0.0,1.0,0.0,0.0,0.0,1.0,0.0,0.0,0.0,0.0,0.0,0.0,0.0,0.0,0.0,0.0,2.0,0.0,1.0,0.0,2.0,0.0,1.0,1.0,0.0,1.0,1.0,0.0,3.0,0.0,0.0,0.0,0.0,2.0,0.0,0.0,0.0,0.0,0.0,1.0,0.0,1.0,0.0,0.0,0.0,0.0,0.0,0.0,0.0,1.0,1.0,0.0,0.0,0.0,0.0,5.0,0.0,0.0,2.0,0.0,0.0,7.25,71.2833,7.925,53.1,8.05,8.4583,51.8625,21.075,11.1333,30.0708,16.7,26.55,8.05,31.275,7.8542,16.0,29.125,13.0,18.0,7.225,26.0,13.0,8.0292,35.5,21.075,31.3875,7.225,263.0,7.8792,7.8958,27.7208,146.5208,7.75,10.5,82.1708,52.0,7.2292,8.05,18.0,11.2417,9.475,21.0,7.8958,41.5792,7.8792,8.05,15.5,7.75,21.6792,17.8,39.6875,7.8,76.7292,26.0,61.9792,35.5,10.5,7.2292,27.75,46.9,7.2292,80.0,83.475,27.9,27.7208,15.2458,10.5,8.1583,7.925,8.6625,10.5,46.9,73.5,14.4542,56.4958,7.65,7.8958,8.05,29.0,12.475,9.0,9.5,7.7875,47.1,10.5,15.85,34.375,8.05,263.0,8.05,8.05,7.8542,61.175,20.575,7.25,8.05,34.6542,63.3583,23.0,26.0,7.8958,7.8958,77.2875,8.6542,7.925,7.8958,7.65,7.775,7.8958,24.15,52.0,14.4542,8.05,9.825,14.4583,7.925,7.75,21.0,247.5208,31.275,73.5,8.05,30.0708,13.0,77.2875,11.2417,7.75,7.1417,22.3583,6.975,7.8958,7.05,14.5,26.0,13.0,15.0458,26.2833,53.1,9.2167,79.2,15.2458,7.75,15.85,6.75,11.5,36.75,7.7958,34.375,26.0,13.0,12.525,66.6,8.05,14.5,7.3125,61.3792,7.7333,8.05,8.6625,69.55,16.1,15.75,7.775,8.6625,39.6875,20.525,55.0,27.9,25.925,56.4958,33.5,29.125,11.1333,7.925,30.6958,7.8542,25.4667,28.7125,13.0,0.0,69.55,15.05,31.3875,39.0,22.025,50.0,15.5,26.55,15.5,7.8958,13.0,13.0,7.8542,26.0,27.7208,146.5208,7.75,8.4042,7.75,13.0,9.5,69.55,6.4958,7.225,8.05,10.4625,15.85,18.7875,7.75,31.0,7.05,21.0,7.25,13.0,7.75,113.275,7.925,27.0,76.2917,10.5,8.05,13.0,8.05,7.8958,90.0,9.35,10.5,7.25,13.0,25.4667,83.475,7.775,13.5,31.3875,10.5,7.55,26.0,26.25,10.5,12.275,14.4542,15.5,10.5,7.125,7.225,90.0,7.775,14.5,52.5542,26.0,7.25,10.4625,26.55,16.1,20.2125,15.2458,79.2,86.5,512.3292,26.0,7.75,31.3875,79.65,0.0,7.75,10.5,39.6875,7.775,153.4625,135.6333,31.0,0.0,19.5,29.7,7.75,77.9583,7.75,0.0,29.125,20.25,7.75,7.8542,9.5,8.05,26.0,8.6625,9.5,7.8958,13.0,7.75,78.85,91.0792,12.875,8.85,7.8958,27.7208,7.2292,151.55,30.5,247.5208,7.75,23.25,0.0,12.35,8.05,151.55,110.8833,108.9,24.0,56.9292,83.1583,262.375,26.0,7.8958,26.25,7.8542,26.0,14.0,164.8667,134.5,7.25,7.8958,12.35,29.0,69.55,135.6333,6.2375,13.0,20.525,57.9792,23.25,28.5,153.4625,18.0,133.65,7.8958,66.6,134.5,8.05,35.5,26.0,263.0,13.0,13.0,13.0,13.0,13.0,16.1,15.9,8.6625,9.225,35.0,7.2292,17.8,7.225,9.5,55.0,13.0,7.8792,7.8792,27.9,27.7208,14.4542,7.05,15.5,7.25,75.25,7.2292,7.75,69.3,55.4417,6.4958,8.05,135.6333,21.075,82.1708,7.25,211.5,4.0125,7.775,227.525,15.7417,7.925,52.0,7.8958,73.5,46.9,13.0,7.7292,12.0,120.0,7.7958,7.925,113.275,16.7,7.7958,7.8542,26.0,10.5,12.65,7.925,8.05,9.825,15.85,8.6625,21.0,7.75,18.75,7.775,25.4667,7.8958,6.8583,90.0,0.0,7.925,8.05,32.5,13.0,13.0,24.15,7.8958,7.7333,7.875,14.4,20.2125,7.25,26.0,26.0,7.75,8.05,26.55,16.1,26.0,7.125,55.9,120.0,34.375,18.75,263.0,10.5,26.25,9.5,7.775,13.0,8.1125,81.8583,19.5,26.55,19.2583,30.5,27.75,19.9667,27.75,89.1042,8.05,7.8958,26.55,51.8625,10.5,7.75,26.55,8.05,38.5,13.0,8.05,7.05,0.0,26.55,7.725,19.2583,7.25,8.6625,27.75,13.7917,9.8375,52.0,21.0,7.0458,7.5208,12.2875,46.9,0.0,8.05,9.5875,91.0792,25.4667,90.0,29.7,8.05,15.9,19.9667,7.25,30.5,49.5042,8.05,14.4583,78.2667,15.1,151.55,7.7958,8.6625,7.75,7.6292,9.5875,86.5,108.9,26.0,26.55,22.525,56.4958,7.75,8.05,26.2875,59.4,7.4958,34.0208,10.5,24.15,26.0,7.8958,93.5,7.8958,7.225,57.9792,7.2292,7.75,10.5,221.7792,7.925,11.5,26.0,7.2292,7.2292,22.3583,8.6625,26.25,26.55,106.425,14.5,49.5,71.0,31.275,31.275,26.0,106.425,26.0,26.0,13.8625,20.525,36.75,110.8833,26.0,7.8292,7.225,7.775,26.55,39.6,227.525,79.65,17.4,7.75,7.8958,13.5,8.05,8.05,24.15,7.8958,21.075,7.2292,7.8542,10.5,51.4792,26.3875,7.75,8.05,14.5,13.0,55.9,14.4583,7.925,30.0,110.8833,26.0,40.125,8.7125,79.65,15.0,79.2,8.05,8.05,7.125,78.2667,7.25,7.75,26.0,24.15,33.0,0.0,7.225,56.9292,27.0,7.8958,42.4,8.05,26.55,15.55,7.8958,30.5,41.5792,153.4625,31.275,7.05,15.5,7.75,8.05,65.0,14.4,16.1,39.0,10.5,14.4542,52.5542,15.7417,7.8542,16.1,32.3208,12.35,77.9583,7.8958,7.7333,30.0,7.0542,30.5,0.0,27.9,13.0,7.925,26.25,39.6875,16.1,7.8542,69.3,27.9,56.4958,19.2583,76.7292,7.8958,35.5,7.55,7.55,7.8958,23.0,8.4333,7.8292,6.75,73.5,7.8958,15.5,13.0,113.275,133.65,7.225,25.5875,7.4958,7.925,73.5,13.0,7.775,8.05,52.0,39.0,52.0,10.5,13.0,0.0,7.775,8.05,9.8417,46.9,512.3292,8.1375,76.7292,9.225,46.9,39.0,41.5792,39.6875,10.1708,7.7958,211.3375,57.0,13.4167,56.4958,7.225,26.55,13.5,8.05,7.7333,110.8833,7.65,227.525,26.2875,14.4542,7.7417,7.8542,26.0,13.5,26.2875,151.55,15.2458,49.5042,26.55,52.0,9.4833,13.0,7.65,227.525,10.5,15.5,7.775,33.0,7.0542,13.0,13.0,53.1,8.6625,21.0,7.7375,26.0,7.925,211.3375,18.7875,0.0,13.0,13.0,16.1,34.375,512.3292,7.8958,7.8958,30.0,78.85,262.375,16.1,7.925,71.0,20.25,13.0,53.1,7.75,23.0,12.475,9.5,7.8958,65.0,14.5,7.7958,11.5,8.05,86.5,14.5,7.125,7.2292,120.0,7.775,77.9583,39.6,7.75,24.15,8.3625,9.5,7.8542,10.5,7.225,23.0,7.75,7.75,12.475,7.7375,211.3375,7.2292,57.0,30.0,23.45,7.05,7.25,7.4958,29.125,20.575,79.2,7.75,26.0,69.55,30.6958,7.8958,13.0,25.9292,8.6833,7.2292,24.15,13.0,26.25,120.0,8.5167,6.975,7.775,0.0,7.775,13.0,53.1,7.8875,24.15,10.5,31.275,8.05,0.0,7.925,37.0042,6.45,27.9,93.5,8.6625,0.0,12.475,39.6875,6.95,56.4958,37.0042,7.75,80.0,14.4542,18.75,7.2292,7.8542,8.3,83.1583,8.6625,8.05,56.4958,29.7,7.925,10.5,31.0,6.4375,8.6625,7.55,69.55,7.8958,33.0,89.1042,31.275,7.775,15.2458,39.4,26.0,9.35,164.8667,26.55,19.2583,7.2292,14.1083,11.5,25.9292,69.55,13.0,13.0,13.8583,50.4958,9.5,11.1333,7.8958,52.5542,5.0,9.0,24.0,7.225,9.8458,7.8958,7.8958,83.1583,26.0,7.8958,10.5167,10.5,7.05,29.125,13.0,30.0,23.45,30.0,7.75],\"y0\":\" \",\"yaxis\":\"y\",\"type\":\"box\"}],                        {\"template\":{\"data\":{\"barpolar\":[{\"marker\":{\"line\":{\"color\":\"rgb(17,17,17)\",\"width\":0.5},\"pattern\":{\"fillmode\":\"overlay\",\"size\":10,\"solidity\":0.2}},\"type\":\"barpolar\"}],\"bar\":[{\"error_x\":{\"color\":\"#f2f5fa\"},\"error_y\":{\"color\":\"#f2f5fa\"},\"marker\":{\"line\":{\"color\":\"rgb(17,17,17)\",\"width\":0.5},\"pattern\":{\"fillmode\":\"overlay\",\"size\":10,\"solidity\":0.2}},\"type\":\"bar\"}],\"carpet\":[{\"aaxis\":{\"endlinecolor\":\"#A2B1C6\",\"gridcolor\":\"#506784\",\"linecolor\":\"#506784\",\"minorgridcolor\":\"#506784\",\"startlinecolor\":\"#A2B1C6\"},\"baxis\":{\"endlinecolor\":\"#A2B1C6\",\"gridcolor\":\"#506784\",\"linecolor\":\"#506784\",\"minorgridcolor\":\"#506784\",\"startlinecolor\":\"#A2B1C6\"},\"type\":\"carpet\"}],\"choropleth\":[{\"colorbar\":{\"outlinewidth\":0,\"ticks\":\"\"},\"type\":\"choropleth\"}],\"contourcarpet\":[{\"colorbar\":{\"outlinewidth\":0,\"ticks\":\"\"},\"type\":\"contourcarpet\"}],\"contour\":[{\"colorbar\":{\"outlinewidth\":0,\"ticks\":\"\"},\"colorscale\":[[0.0,\"#0d0887\"],[0.1111111111111111,\"#46039f\"],[0.2222222222222222,\"#7201a8\"],[0.3333333333333333,\"#9c179e\"],[0.4444444444444444,\"#bd3786\"],[0.5555555555555556,\"#d8576b\"],[0.6666666666666666,\"#ed7953\"],[0.7777777777777778,\"#fb9f3a\"],[0.8888888888888888,\"#fdca26\"],[1.0,\"#f0f921\"]],\"type\":\"contour\"}],\"heatmapgl\":[{\"colorbar\":{\"outlinewidth\":0,\"ticks\":\"\"},\"colorscale\":[[0.0,\"#0d0887\"],[0.1111111111111111,\"#46039f\"],[0.2222222222222222,\"#7201a8\"],[0.3333333333333333,\"#9c179e\"],[0.4444444444444444,\"#bd3786\"],[0.5555555555555556,\"#d8576b\"],[0.6666666666666666,\"#ed7953\"],[0.7777777777777778,\"#fb9f3a\"],[0.8888888888888888,\"#fdca26\"],[1.0,\"#f0f921\"]],\"type\":\"heatmapgl\"}],\"heatmap\":[{\"colorbar\":{\"outlinewidth\":0,\"ticks\":\"\"},\"colorscale\":[[0.0,\"#0d0887\"],[0.1111111111111111,\"#46039f\"],[0.2222222222222222,\"#7201a8\"],[0.3333333333333333,\"#9c179e\"],[0.4444444444444444,\"#bd3786\"],[0.5555555555555556,\"#d8576b\"],[0.6666666666666666,\"#ed7953\"],[0.7777777777777778,\"#fb9f3a\"],[0.8888888888888888,\"#fdca26\"],[1.0,\"#f0f921\"]],\"type\":\"heatmap\"}],\"histogram2dcontour\":[{\"colorbar\":{\"outlinewidth\":0,\"ticks\":\"\"},\"colorscale\":[[0.0,\"#0d0887\"],[0.1111111111111111,\"#46039f\"],[0.2222222222222222,\"#7201a8\"],[0.3333333333333333,\"#9c179e\"],[0.4444444444444444,\"#bd3786\"],[0.5555555555555556,\"#d8576b\"],[0.6666666666666666,\"#ed7953\"],[0.7777777777777778,\"#fb9f3a\"],[0.8888888888888888,\"#fdca26\"],[1.0,\"#f0f921\"]],\"type\":\"histogram2dcontour\"}],\"histogram2d\":[{\"colorbar\":{\"outlinewidth\":0,\"ticks\":\"\"},\"colorscale\":[[0.0,\"#0d0887\"],[0.1111111111111111,\"#46039f\"],[0.2222222222222222,\"#7201a8\"],[0.3333333333333333,\"#9c179e\"],[0.4444444444444444,\"#bd3786\"],[0.5555555555555556,\"#d8576b\"],[0.6666666666666666,\"#ed7953\"],[0.7777777777777778,\"#fb9f3a\"],[0.8888888888888888,\"#fdca26\"],[1.0,\"#f0f921\"]],\"type\":\"histogram2d\"}],\"histogram\":[{\"marker\":{\"pattern\":{\"fillmode\":\"overlay\",\"size\":10,\"solidity\":0.2}},\"type\":\"histogram\"}],\"mesh3d\":[{\"colorbar\":{\"outlinewidth\":0,\"ticks\":\"\"},\"type\":\"mesh3d\"}],\"parcoords\":[{\"line\":{\"colorbar\":{\"outlinewidth\":0,\"ticks\":\"\"}},\"type\":\"parcoords\"}],\"pie\":[{\"automargin\":true,\"type\":\"pie\"}],\"scatter3d\":[{\"line\":{\"colorbar\":{\"outlinewidth\":0,\"ticks\":\"\"}},\"marker\":{\"colorbar\":{\"outlinewidth\":0,\"ticks\":\"\"}},\"type\":\"scatter3d\"}],\"scattercarpet\":[{\"marker\":{\"colorbar\":{\"outlinewidth\":0,\"ticks\":\"\"}},\"type\":\"scattercarpet\"}],\"scattergeo\":[{\"marker\":{\"colorbar\":{\"outlinewidth\":0,\"ticks\":\"\"}},\"type\":\"scattergeo\"}],\"scattergl\":[{\"marker\":{\"line\":{\"color\":\"#283442\"}},\"type\":\"scattergl\"}],\"scattermapbox\":[{\"marker\":{\"colorbar\":{\"outlinewidth\":0,\"ticks\":\"\"}},\"type\":\"scattermapbox\"}],\"scatterpolargl\":[{\"marker\":{\"colorbar\":{\"outlinewidth\":0,\"ticks\":\"\"}},\"type\":\"scatterpolargl\"}],\"scatterpolar\":[{\"marker\":{\"colorbar\":{\"outlinewidth\":0,\"ticks\":\"\"}},\"type\":\"scatterpolar\"}],\"scatter\":[{\"marker\":{\"line\":{\"color\":\"#283442\"}},\"type\":\"scatter\"}],\"scatterternary\":[{\"marker\":{\"colorbar\":{\"outlinewidth\":0,\"ticks\":\"\"}},\"type\":\"scatterternary\"}],\"surface\":[{\"colorbar\":{\"outlinewidth\":0,\"ticks\":\"\"},\"colorscale\":[[0.0,\"#0d0887\"],[0.1111111111111111,\"#46039f\"],[0.2222222222222222,\"#7201a8\"],[0.3333333333333333,\"#9c179e\"],[0.4444444444444444,\"#bd3786\"],[0.5555555555555556,\"#d8576b\"],[0.6666666666666666,\"#ed7953\"],[0.7777777777777778,\"#fb9f3a\"],[0.8888888888888888,\"#fdca26\"],[1.0,\"#f0f921\"]],\"type\":\"surface\"}],\"table\":[{\"cells\":{\"fill\":{\"color\":\"#506784\"},\"line\":{\"color\":\"rgb(17,17,17)\"}},\"header\":{\"fill\":{\"color\":\"#2a3f5f\"},\"line\":{\"color\":\"rgb(17,17,17)\"}},\"type\":\"table\"}]},\"layout\":{\"annotationdefaults\":{\"arrowcolor\":\"#f2f5fa\",\"arrowhead\":0,\"arrowwidth\":1},\"autotypenumbers\":\"strict\",\"coloraxis\":{\"colorbar\":{\"outlinewidth\":0,\"ticks\":\"\"}},\"colorscale\":{\"diverging\":[[0,\"#8e0152\"],[0.1,\"#c51b7d\"],[0.2,\"#de77ae\"],[0.3,\"#f1b6da\"],[0.4,\"#fde0ef\"],[0.5,\"#f7f7f7\"],[0.6,\"#e6f5d0\"],[0.7,\"#b8e186\"],[0.8,\"#7fbc41\"],[0.9,\"#4d9221\"],[1,\"#276419\"]],\"sequential\":[[0.0,\"#0d0887\"],[0.1111111111111111,\"#46039f\"],[0.2222222222222222,\"#7201a8\"],[0.3333333333333333,\"#9c179e\"],[0.4444444444444444,\"#bd3786\"],[0.5555555555555556,\"#d8576b\"],[0.6666666666666666,\"#ed7953\"],[0.7777777777777778,\"#fb9f3a\"],[0.8888888888888888,\"#fdca26\"],[1.0,\"#f0f921\"]],\"sequentialminus\":[[0.0,\"#0d0887\"],[0.1111111111111111,\"#46039f\"],[0.2222222222222222,\"#7201a8\"],[0.3333333333333333,\"#9c179e\"],[0.4444444444444444,\"#bd3786\"],[0.5555555555555556,\"#d8576b\"],[0.6666666666666666,\"#ed7953\"],[0.7777777777777778,\"#fb9f3a\"],[0.8888888888888888,\"#fdca26\"],[1.0,\"#f0f921\"]]},\"colorway\":[\"#636efa\",\"#EF553B\",\"#00cc96\",\"#ab63fa\",\"#FFA15A\",\"#19d3f3\",\"#FF6692\",\"#B6E880\",\"#FF97FF\",\"#FECB52\"],\"font\":{\"color\":\"#f2f5fa\"},\"geo\":{\"bgcolor\":\"rgb(17,17,17)\",\"lakecolor\":\"rgb(17,17,17)\",\"landcolor\":\"rgb(17,17,17)\",\"showlakes\":true,\"showland\":true,\"subunitcolor\":\"#506784\"},\"hoverlabel\":{\"align\":\"left\"},\"hovermode\":\"closest\",\"mapbox\":{\"style\":\"dark\"},\"paper_bgcolor\":\"rgb(17,17,17)\",\"plot_bgcolor\":\"rgb(17,17,17)\",\"polar\":{\"angularaxis\":{\"gridcolor\":\"#506784\",\"linecolor\":\"#506784\",\"ticks\":\"\"},\"bgcolor\":\"rgb(17,17,17)\",\"radialaxis\":{\"gridcolor\":\"#506784\",\"linecolor\":\"#506784\",\"ticks\":\"\"}},\"scene\":{\"xaxis\":{\"backgroundcolor\":\"rgb(17,17,17)\",\"gridcolor\":\"#506784\",\"gridwidth\":2,\"linecolor\":\"#506784\",\"showbackground\":true,\"ticks\":\"\",\"zerolinecolor\":\"#C8D4E3\"},\"yaxis\":{\"backgroundcolor\":\"rgb(17,17,17)\",\"gridcolor\":\"#506784\",\"gridwidth\":2,\"linecolor\":\"#506784\",\"showbackground\":true,\"ticks\":\"\",\"zerolinecolor\":\"#C8D4E3\"},\"zaxis\":{\"backgroundcolor\":\"rgb(17,17,17)\",\"gridcolor\":\"#506784\",\"gridwidth\":2,\"linecolor\":\"#506784\",\"showbackground\":true,\"ticks\":\"\",\"zerolinecolor\":\"#C8D4E3\"}},\"shapedefaults\":{\"line\":{\"color\":\"#f2f5fa\"}},\"sliderdefaults\":{\"bgcolor\":\"#C8D4E3\",\"bordercolor\":\"rgb(17,17,17)\",\"borderwidth\":1,\"tickwidth\":0},\"ternary\":{\"aaxis\":{\"gridcolor\":\"#506784\",\"linecolor\":\"#506784\",\"ticks\":\"\"},\"baxis\":{\"gridcolor\":\"#506784\",\"linecolor\":\"#506784\",\"ticks\":\"\"},\"bgcolor\":\"rgb(17,17,17)\",\"caxis\":{\"gridcolor\":\"#506784\",\"linecolor\":\"#506784\",\"ticks\":\"\"}},\"title\":{\"x\":0.05},\"updatemenudefaults\":{\"bgcolor\":\"#506784\",\"borderwidth\":0},\"xaxis\":{\"automargin\":true,\"gridcolor\":\"#283442\",\"linecolor\":\"#506784\",\"ticks\":\"\",\"title\":{\"standoff\":15},\"zerolinecolor\":\"#283442\",\"zerolinewidth\":2},\"yaxis\":{\"automargin\":true,\"gridcolor\":\"#283442\",\"linecolor\":\"#506784\",\"ticks\":\"\",\"title\":{\"standoff\":15},\"zerolinecolor\":\"#283442\",\"zerolinewidth\":2}}},\"xaxis\":{\"anchor\":\"y\",\"domain\":[0.0,1.0],\"title\":{\"text\":\"variable\"}},\"yaxis\":{\"anchor\":\"x\",\"domain\":[0.0,1.0],\"title\":{\"text\":\"value\"}},\"legend\":{\"tracegroupgap\":0},\"margin\":{\"t\":60},\"boxmode\":\"group\",\"title\":{\"text\":\"Outlier Detection in Numerical Columns\"}},                        {\"responsive\": true}                    ).then(function(){\n",
       "                            \n",
       "var gd = document.getElementById('180595d0-8757-479c-b672-bd09847121c9');\n",
       "var x = new MutationObserver(function (mutations, observer) {{\n",
       "        var display = window.getComputedStyle(gd).display;\n",
       "        if (!display || display === 'none') {{\n",
       "            console.log([gd, 'removed!']);\n",
       "            Plotly.purge(gd);\n",
       "            observer.disconnect();\n",
       "        }}\n",
       "}});\n",
       "\n",
       "// Listen for the removal of the full notebook cells\n",
       "var notebookContainer = gd.closest('#notebook-container');\n",
       "if (notebookContainer) {{\n",
       "    x.observe(notebookContainer, {childList: true});\n",
       "}}\n",
       "\n",
       "// Listen for the clearing of the current output cell\n",
       "var outputEl = gd.closest('.output');\n",
       "if (outputEl) {{\n",
       "    x.observe(outputEl, {childList: true});\n",
       "}}\n",
       "\n",
       "                        })                };                            </script>        </div>\n",
       "</body>\n",
       "</html>"
      ]
     },
     "metadata": {},
     "output_type": "display_data"
    }
   ],
   "source": [
    "numerical_columns = df.select_dtypes(include=['number']).columns.tolist()  \n",
    "fig = px.box(df, y = numerical_columns) \n",
    "\n",
    "fig.update_layout(title = 'Outlier Detection in Numerical Columns',\n",
    "                  template='plotly_dark') \n",
    "\n",
    "fig.show()"
   ]
  },
  {
   "cell_type": "markdown",
   "id": "6fc33487",
   "metadata": {
    "papermill": {
     "duration": 0.014604,
     "end_time": "2025-04-16T11:15:40.716204",
     "exception": false,
     "start_time": "2025-04-16T11:15:40.701600",
     "status": "completed"
    },
    "tags": []
   },
   "source": [
    "###  📝 ***Conclusions from Data Exploration***"
   ]
  },
  {
   "cell_type": "markdown",
   "id": "6bfb1bbf",
   "metadata": {
    "papermill": {
     "duration": 0.014584,
     "end_time": "2025-04-16T11:15:40.745692",
     "exception": false,
     "start_time": "2025-04-16T11:15:40.731108",
     "status": "completed"
    },
    "tags": []
   },
   "source": [
    "1. The columns have float datatypes are 2, integer datatype 5, object datatype are 5\n",
    "\n",
    "2. There are 891 rows and 12 columns in the dataset."
   ]
  },
  {
   "cell_type": "markdown",
   "id": "0bcc4326",
   "metadata": {
    "papermill": {
     "duration": 0.014539,
     "end_time": "2025-04-16T11:15:40.775049",
     "exception": false,
     "start_time": "2025-04-16T11:15:40.760510",
     "status": "completed"
    },
    "tags": []
   },
   "source": [
    "# 🔨  ***Data Cleaning & Preprocessing***  "
   ]
  },
  {
   "cell_type": "markdown",
   "id": "64b43a44",
   "metadata": {
    "papermill": {
     "duration": 0.014748,
     "end_time": "2025-04-16T11:15:40.804966",
     "exception": false,
     "start_time": "2025-04-16T11:15:40.790218",
     "status": "completed"
    },
    "tags": []
   },
   "source": [
    "### 1. 🔍 **Col: PassengerId**\n",
    "\n",
    "*  \"PassengerId\" is an arbitrary identifier assigned to each passenger."
   ]
  },
  {
   "cell_type": "code",
   "execution_count": 12,
   "id": "acfef333",
   "metadata": {
    "execution": {
     "iopub.execute_input": "2025-04-16T11:15:40.836396Z",
     "iopub.status.busy": "2025-04-16T11:15:40.836052Z",
     "iopub.status.idle": "2025-04-16T11:15:40.841250Z",
     "shell.execute_reply": "2025-04-16T11:15:40.840173Z"
    },
    "papermill": {
     "duration": 0.023113,
     "end_time": "2025-04-16T11:15:40.843020",
     "exception": false,
     "start_time": "2025-04-16T11:15:40.819907",
     "status": "completed"
    },
    "tags": []
   },
   "outputs": [],
   "source": [
    "df.drop(['PassengerId'], axis=1, inplace=True)  "
   ]
  },
  {
   "cell_type": "markdown",
   "id": "268e0a87",
   "metadata": {
    "papermill": {
     "duration": 0.015234,
     "end_time": "2025-04-16T11:15:40.873461",
     "exception": false,
     "start_time": "2025-04-16T11:15:40.858227",
     "status": "completed"
    },
    "tags": []
   },
   "source": [
    "### 2. 🔍 **Col: Sex**\n",
    "\n",
    "* Convert to numerical features which would be better for prediciton.  "
   ]
  },
  {
   "cell_type": "code",
   "execution_count": 13,
   "id": "7e2523d4",
   "metadata": {
    "execution": {
     "iopub.execute_input": "2025-04-16T11:15:40.904370Z",
     "iopub.status.busy": "2025-04-16T11:15:40.904044Z",
     "iopub.status.idle": "2025-04-16T11:15:40.910830Z",
     "shell.execute_reply": "2025-04-16T11:15:40.909811Z"
    },
    "papermill": {
     "duration": 0.02399,
     "end_time": "2025-04-16T11:15:40.912408",
     "exception": false,
     "start_time": "2025-04-16T11:15:40.888418",
     "status": "completed"
    },
    "tags": []
   },
   "outputs": [],
   "source": [
    "sex = pd.get_dummies(df['Sex'], drop_first=True, dtype=int) \n",
    "df = pd.concat([df, sex], axis=1) "
   ]
  },
  {
   "cell_type": "code",
   "execution_count": 14,
   "id": "6b9ad987",
   "metadata": {
    "execution": {
     "iopub.execute_input": "2025-04-16T11:15:40.943620Z",
     "iopub.status.busy": "2025-04-16T11:15:40.943245Z",
     "iopub.status.idle": "2025-04-16T11:15:40.948696Z",
     "shell.execute_reply": "2025-04-16T11:15:40.947646Z"
    },
    "papermill": {
     "duration": 0.022893,
     "end_time": "2025-04-16T11:15:40.950339",
     "exception": false,
     "start_time": "2025-04-16T11:15:40.927446",
     "status": "completed"
    },
    "tags": []
   },
   "outputs": [],
   "source": [
    "df.drop('Sex', axis=1, inplace=True) "
   ]
  },
  {
   "cell_type": "code",
   "execution_count": 15,
   "id": "b03723e9",
   "metadata": {
    "execution": {
     "iopub.execute_input": "2025-04-16T11:15:40.981708Z",
     "iopub.status.busy": "2025-04-16T11:15:40.981340Z",
     "iopub.status.idle": "2025-04-16T11:15:40.985906Z",
     "shell.execute_reply": "2025-04-16T11:15:40.984949Z"
    },
    "papermill": {
     "duration": 0.021921,
     "end_time": "2025-04-16T11:15:40.987515",
     "exception": false,
     "start_time": "2025-04-16T11:15:40.965594",
     "status": "completed"
    },
    "tags": []
   },
   "outputs": [],
   "source": [
    "df.rename(columns = {'male':'Sex'}, inplace=True)  "
   ]
  },
  {
   "cell_type": "markdown",
   "id": "f7416f18",
   "metadata": {
    "papermill": {
     "duration": 0.014601,
     "end_time": "2025-04-16T11:15:41.017164",
     "exception": false,
     "start_time": "2025-04-16T11:15:41.002563",
     "status": "completed"
    },
    "tags": []
   },
   "source": [
    "### 3. 🔍 **Col: Age** "
   ]
  },
  {
   "cell_type": "code",
   "execution_count": 16,
   "id": "e1b0353d",
   "metadata": {
    "execution": {
     "iopub.execute_input": "2025-04-16T11:15:41.048469Z",
     "iopub.status.busy": "2025-04-16T11:15:41.048097Z",
     "iopub.status.idle": "2025-04-16T11:15:41.058033Z",
     "shell.execute_reply": "2025-04-16T11:15:41.057096Z"
    },
    "papermill": {
     "duration": 0.027401,
     "end_time": "2025-04-16T11:15:41.059673",
     "exception": false,
     "start_time": "2025-04-16T11:15:41.032272",
     "status": "completed"
    },
    "tags": []
   },
   "outputs": [
    {
     "data": {
      "text/plain": [
       "count    714.000000\n",
       "mean      29.699118\n",
       "std       14.526497\n",
       "min        0.420000\n",
       "25%       20.125000\n",
       "50%       28.000000\n",
       "75%       38.000000\n",
       "max       80.000000\n",
       "Name: Age, dtype: float64"
      ]
     },
     "execution_count": 16,
     "metadata": {},
     "output_type": "execute_result"
    }
   ],
   "source": [
    "df['Age'].describe() "
   ]
  },
  {
   "cell_type": "code",
   "execution_count": 17,
   "id": "035b07fc",
   "metadata": {
    "execution": {
     "iopub.execute_input": "2025-04-16T11:15:41.140745Z",
     "iopub.status.busy": "2025-04-16T11:15:41.140417Z",
     "iopub.status.idle": "2025-04-16T11:15:41.146822Z",
     "shell.execute_reply": "2025-04-16T11:15:41.145772Z"
    },
    "papermill": {
     "duration": 0.073469,
     "end_time": "2025-04-16T11:15:41.148484",
     "exception": false,
     "start_time": "2025-04-16T11:15:41.075015",
     "status": "completed"
    },
    "tags": []
   },
   "outputs": [
    {
     "data": {
      "text/plain": [
       "19.865319865319865"
      ]
     },
     "execution_count": 17,
     "metadata": {},
     "output_type": "execute_result"
    }
   ],
   "source": [
    "missing_ages = np.where(df['Age'].isnull()) \n",
    "\n",
    "len(missing_ages[0]) / len(df) * 100 "
   ]
  },
  {
   "cell_type": "code",
   "execution_count": 18,
   "id": "b50ff8e4",
   "metadata": {
    "execution": {
     "iopub.execute_input": "2025-04-16T11:15:41.180331Z",
     "iopub.status.busy": "2025-04-16T11:15:41.180006Z",
     "iopub.status.idle": "2025-04-16T11:15:41.184170Z",
     "shell.execute_reply": "2025-04-16T11:15:41.183214Z"
    },
    "papermill": {
     "duration": 0.021952,
     "end_time": "2025-04-16T11:15:41.185837",
     "exception": false,
     "start_time": "2025-04-16T11:15:41.163885",
     "status": "completed"
    },
    "tags": []
   },
   "outputs": [],
   "source": [
    "sns.set_style('whitegrid') "
   ]
  },
  {
   "cell_type": "code",
   "execution_count": 19,
   "id": "4d6f7566",
   "metadata": {
    "execution": {
     "iopub.execute_input": "2025-04-16T11:15:41.217533Z",
     "iopub.status.busy": "2025-04-16T11:15:41.217210Z",
     "iopub.status.idle": "2025-04-16T11:15:41.702337Z",
     "shell.execute_reply": "2025-04-16T11:15:41.701154Z"
    },
    "papermill": {
     "duration": 0.502949,
     "end_time": "2025-04-16T11:15:41.704138",
     "exception": false,
     "start_time": "2025-04-16T11:15:41.201189",
     "status": "completed"
    },
    "tags": []
   },
   "outputs": [
    {
     "data": {
      "image/png": "[encoded data removed]",
      "text/plain": [
       "<Figure size 640x480 with 1 Axes>"
      ]
     },
     "metadata": {},
     "output_type": "display_data"
    }
   ],
   "source": [
    "sns.histplot(df['Age'].dropna(), \n",
    "             bins=30,\n",
    "             kde=True) \n",
    "\n",
    "plt.title('Age Distribution')\n",
    "plt.ylabel('Frequency')\n",
    "plt.show() "
   ]
  },
  {
   "cell_type": "markdown",
   "id": "03f28504",
   "metadata": {
    "papermill": {
     "duration": 0.015414,
     "end_time": "2025-04-16T11:15:41.735350",
     "exception": false,
     "start_time": "2025-04-16T11:15:41.719936",
     "status": "completed"
    },
    "tags": []
   },
   "source": [
    "### 📝 ***Conclusion*** :  \n",
    "\n",
    "1. The Age column had 177 missing values.\n",
    "\n",
    "2. A skewed towards younger passengers between 20-30 years old. \n",
    "   \n",
    "3. Since age is a numerical feature that needs to be used for prediction --> It is necessary to deal with these missing values.   "
   ]
  },
  {
   "cell_type": "code",
   "execution_count": 20,
   "id": "61217a52",
   "metadata": {
    "execution": {
     "iopub.execute_input": "2025-04-16T11:15:41.768201Z",
     "iopub.status.busy": "2025-04-16T11:15:41.767798Z",
     "iopub.status.idle": "2025-04-16T11:15:41.816591Z",
     "shell.execute_reply": "2025-04-16T11:15:41.815717Z"
    },
    "papermill": {
     "duration": 0.067046,
     "end_time": "2025-04-16T11:15:41.818045",
     "exception": false,
     "start_time": "2025-04-16T11:15:41.750999",
     "status": "completed"
    },
    "tags": []
   },
   "outputs": [
    {
     "data": {
      "text/html": [
       "<html>\n",
       "<head><meta charset=\"utf-8\" /></head>\n",
       "<body>\n",
       "    <div>            <script src=\"https://cdnjs.cloudflare.com/ajax/libs/mathjax/2.7.5/MathJax.js?config=TeX-AMS-MML_SVG\"></script><script type=\"text/javascript\">if (window.MathJax && window.MathJax.Hub && window.MathJax.Hub.Config) {window.MathJax.Hub.Config({SVG: {font: \"STIX-Web\"}});}</script>                <script type=\"text/javascript\">window.PlotlyConfig = {MathJaxConfig: 'local'};</script>\n",
       "        <script charset=\"utf-8\" src=\"https://cdn.plot.ly/plotly-2.35.2.min.js\"></script>                <div id=\"b8cc2d04-1f81-48d1-816a-2fe2cfc2bff4\" class=\"plotly-graph-div\" style=\"height:525px; width:100%;\"></div>            <script type=\"text/javascript\">                                    window.PLOTLYENV=window.PLOTLYENV || {};                                    if (document.getElementById(\"b8cc2d04-1f81-48d1-816a-2fe2cfc2bff4\")) {                    Plotly.newPlot(                        \"b8cc2d04-1f81-48d1-816a-2fe2cfc2bff4\",                        [{\"alignmentgroup\":\"True\",\"hovertemplate\":\"Pclass=%{x}\\u003cbr\\u003eAge=%{y}\\u003cextra\\u003e\\u003c\\u002fextra\\u003e\",\"legendgroup\":\"\",\"marker\":{\"color\":\"#636efa\"},\"name\":\"\",\"notched\":false,\"offsetgroup\":\"\",\"orientation\":\"v\",\"showlegend\":false,\"x\":[3,1,3,1,3,3,1,3,3,2,3,1,3,3,3,2,3,2,3,3,2,2,3,1,3,3,3,1,3,3,1,1,3,2,1,1,3,3,3,3,3,2,3,2,3,3,3,3,3,3,3,3,1,2,1,1,2,3,2,3,3,1,1,3,1,3,2,3,3,3,2,3,2,3,3,3,3,3,2,3,3,3,3,1,2,3,3,3,1,3,3,3,1,3,3,3,1,1,2,2,3,3,1,3,3,3,3,3,3,3,1,3,3,3,3,3,3,2,1,3,2,3,2,2,1,3,3,3,3,3,3,3,3,2,2,2,1,1,3,1,3,3,3,3,2,2,3,3,2,2,2,1,3,3,3,1,3,3,3,3,3,2,3,3,3,3,1,3,1,3,1,3,3,3,1,3,3,1,2,3,3,2,3,2,3,1,3,1,3,3,2,2,3,2,1,1,3,3,3,2,3,3,3,3,3,3,3,3,3,1,3,2,3,2,3,1,3,2,1,2,3,2,3,3,1,3,2,3,2,3,1,3,2,3,2,3,2,2,2,2,3,3,2,3,3,1,3,2,1,2,3,3,1,3,3,3,1,1,1,2,3,3,1,1,3,2,3,3,1,1,1,3,2,1,3,1,3,2,3,3,3,3,3,3,1,3,3,3,2,3,1,1,2,3,3,1,3,1,1,1,3,3,3,2,3,1,1,1,2,1,1,1,2,3,2,3,2,2,1,1,3,3,2,2,3,1,3,2,3,1,3,1,1,3,1,3,1,1,3,1,2,1,2,2,2,2,2,3,3,3,3,1,3,3,3,3,1,2,3,3,3,2,3,3,3,3,1,3,3,1,1,3,3,1,3,1,3,1,3,3,1,3,3,1,3,2,3,2,3,2,1,3,3,1,3,3,3,2,2,2,3,3,3,3,3,2,3,2,3,3,3,3,1,2,3,3,2,2,2,3,3,3,3,3,3,3,2,2,3,3,1,3,2,3,1,1,3,2,1,2,2,3,3,2,3,1,2,1,3,1,2,3,1,1,3,3,1,1,2,3,1,3,1,2,3,3,2,1,3,3,3,3,2,2,3,1,2,3,3,3,3,2,3,3,1,3,1,1,3,3,3,3,1,1,3,3,1,3,1,3,3,3,3,3,1,1,2,1,3,3,3,3,1,1,3,1,2,3,2,3,1,3,3,1,3,3,2,1,3,2,2,3,3,3,3,2,1,1,3,1,1,3,3,2,1,1,2,2,3,2,1,2,3,3,3,1,1,1,1,3,3,3,2,3,3,3,3,3,3,3,2,1,1,3,3,3,2,1,3,3,2,1,2,1,3,1,2,1,3,3,3,1,3,3,2,3,2,3,3,1,2,3,1,3,1,3,3,1,2,1,3,3,3,3,3,2,3,3,2,2,3,1,3,3,3,1,2,1,3,3,1,3,1,1,3,2,3,2,3,3,3,1,3,3,3,1,3,1,3,3,3,2,3,3,3,2,3,3,2,1,1,3,1,3,3,2,2,3,3,1,2,1,2,2,2,3,3,3,3,1,3,1,3,3,2,2,3,3,3,1,1,3,3,3,1,2,3,3,1,3,1,1,3,3,3,2,2,1,1,3,1,1,1,3,2,3,1,2,3,3,2,3,2,2,1,3,2,3,2,3,1,3,2,2,2,3,3,1,3,3,1,1,1,3,3,1,3,2,1,3,2,3,3,3,2,2,3,2,3,1,3,3,3,1,3,1,1,3,3,3,3,3,2,3,2,3,3,3,3,1,3,1,1,3,3,3,3,3,3,1,3,2,3,1,3,2,1,3,3,3,2,2,1,3,3,3,1,3,2,1,3,3,2,3,3,1,3,2,3,3,1,3,1,3,3,3,3,2,3,1,3,2,3,3,3,1,3,3,3,1,3,2,1,3,3,3,3,3,2,1,3,3,3,1,2,3,1,1,3,3,3,2,1,3,2,2,2,1,3,3,3,1,1,3,2,3,3,3,3,1,2,3,3,2,3,3,2,1,3,1,3],\"x0\":\" \",\"xaxis\":\"x\",\"y\":[22.0,38.0,26.0,35.0,35.0,null,54.0,2.0,27.0,14.0,4.0,58.0,20.0,39.0,14.0,55.0,2.0,null,31.0,null,35.0,34.0,15.0,28.0,8.0,38.0,null,19.0,null,null,40.0,null,null,66.0,28.0,42.0,null,21.0,18.0,14.0,40.0,27.0,null,3.0,19.0,null,null,null,null,18.0,7.0,21.0,49.0,29.0,65.0,null,21.0,28.5,5.0,11.0,22.0,38.0,45.0,4.0,null,null,29.0,19.0,17.0,26.0,32.0,16.0,21.0,26.0,32.0,25.0,null,null,0.83,30.0,22.0,29.0,null,28.0,17.0,33.0,16.0,null,23.0,24.0,29.0,20.0,46.0,26.0,59.0,null,71.0,23.0,34.0,34.0,28.0,null,21.0,33.0,37.0,28.0,21.0,null,38.0,null,47.0,14.5,22.0,20.0,17.0,21.0,70.5,29.0,24.0,2.0,21.0,null,32.5,32.5,54.0,12.0,null,24.0,null,45.0,33.0,20.0,47.0,29.0,25.0,23.0,19.0,37.0,16.0,24.0,null,22.0,24.0,19.0,18.0,19.0,27.0,9.0,36.5,42.0,51.0,22.0,55.5,40.5,null,51.0,16.0,30.0,null,null,44.0,40.0,26.0,17.0,1.0,9.0,null,45.0,null,28.0,61.0,4.0,1.0,21.0,56.0,18.0,null,50.0,30.0,36.0,null,null,9.0,1.0,4.0,null,null,45.0,40.0,36.0,32.0,19.0,19.0,3.0,44.0,58.0,null,42.0,null,24.0,28.0,null,34.0,45.5,18.0,2.0,32.0,26.0,16.0,40.0,24.0,35.0,22.0,30.0,null,31.0,27.0,42.0,32.0,30.0,16.0,27.0,51.0,null,38.0,22.0,19.0,20.5,18.0,null,35.0,29.0,59.0,5.0,24.0,null,44.0,8.0,19.0,33.0,null,null,29.0,22.0,30.0,44.0,25.0,24.0,37.0,54.0,null,29.0,62.0,30.0,41.0,29.0,null,30.0,35.0,50.0,null,3.0,52.0,40.0,null,36.0,16.0,25.0,58.0,35.0,null,25.0,41.0,37.0,null,63.0,45.0,null,7.0,35.0,65.0,28.0,16.0,19.0,null,33.0,30.0,22.0,42.0,22.0,26.0,19.0,36.0,24.0,24.0,null,23.5,2.0,null,50.0,null,null,19.0,null,null,0.92,null,17.0,30.0,30.0,24.0,18.0,26.0,28.0,43.0,26.0,24.0,54.0,31.0,40.0,22.0,27.0,30.0,22.0,null,36.0,61.0,36.0,31.0,16.0,null,45.5,38.0,16.0,null,null,29.0,41.0,45.0,45.0,2.0,24.0,28.0,25.0,36.0,24.0,40.0,null,3.0,42.0,23.0,null,15.0,25.0,null,28.0,22.0,38.0,null,null,40.0,29.0,45.0,35.0,null,30.0,60.0,null,null,24.0,25.0,18.0,19.0,22.0,3.0,null,22.0,27.0,20.0,19.0,42.0,1.0,32.0,35.0,null,18.0,1.0,36.0,null,17.0,36.0,21.0,28.0,23.0,24.0,22.0,31.0,46.0,23.0,28.0,39.0,26.0,21.0,28.0,20.0,34.0,51.0,3.0,21.0,null,null,null,33.0,null,44.0,null,34.0,18.0,30.0,10.0,null,21.0,29.0,28.0,18.0,null,28.0,19.0,null,32.0,28.0,null,42.0,17.0,50.0,14.0,21.0,24.0,64.0,31.0,45.0,20.0,25.0,28.0,null,4.0,13.0,34.0,5.0,52.0,36.0,null,30.0,49.0,null,29.0,65.0,null,50.0,null,48.0,34.0,47.0,48.0,null,38.0,null,56.0,null,0.75,null,38.0,33.0,23.0,22.0,null,34.0,29.0,22.0,2.0,9.0,null,50.0,63.0,25.0,null,35.0,58.0,30.0,9.0,null,21.0,55.0,71.0,21.0,null,54.0,null,25.0,24.0,17.0,21.0,null,37.0,16.0,18.0,33.0,null,28.0,26.0,29.0,null,36.0,54.0,24.0,47.0,34.0,null,36.0,32.0,30.0,22.0,null,44.0,null,40.5,50.0,null,39.0,23.0,2.0,null,17.0,null,30.0,7.0,45.0,30.0,null,22.0,36.0,9.0,11.0,32.0,50.0,64.0,19.0,null,33.0,8.0,17.0,27.0,null,22.0,22.0,62.0,48.0,null,39.0,36.0,null,40.0,28.0,null,null,24.0,19.0,29.0,null,32.0,62.0,53.0,36.0,null,16.0,19.0,34.0,39.0,null,32.0,25.0,39.0,54.0,36.0,null,18.0,47.0,60.0,22.0,null,35.0,52.0,47.0,null,37.0,36.0,null,49.0,null,49.0,24.0,null,null,44.0,35.0,36.0,30.0,27.0,22.0,40.0,39.0,null,null,null,35.0,24.0,34.0,26.0,4.0,26.0,27.0,42.0,20.0,21.0,21.0,61.0,57.0,21.0,26.0,null,80.0,51.0,32.0,null,9.0,28.0,32.0,31.0,41.0,null,20.0,24.0,2.0,null,0.75,48.0,19.0,56.0,null,23.0,null,18.0,21.0,null,18.0,24.0,null,32.0,23.0,58.0,50.0,40.0,47.0,36.0,20.0,32.0,25.0,null,43.0,null,40.0,31.0,70.0,31.0,null,18.0,24.5,18.0,43.0,36.0,null,27.0,20.0,14.0,60.0,25.0,14.0,19.0,18.0,15.0,31.0,4.0,null,25.0,60.0,52.0,44.0,null,49.0,42.0,18.0,35.0,18.0,25.0,26.0,39.0,45.0,42.0,22.0,null,24.0,null,48.0,29.0,52.0,19.0,38.0,27.0,null,33.0,6.0,17.0,34.0,50.0,27.0,20.0,30.0,null,25.0,25.0,29.0,11.0,null,23.0,23.0,28.5,48.0,35.0,null,null,null,36.0,21.0,24.0,31.0,70.0,16.0,30.0,19.0,31.0,4.0,6.0,33.0,23.0,48.0,0.67,28.0,18.0,34.0,33.0,null,41.0,20.0,36.0,16.0,51.0,null,30.5,null,32.0,24.0,48.0,57.0,null,54.0,18.0,null,5.0,null,43.0,13.0,17.0,29.0,null,25.0,25.0,18.0,8.0,1.0,46.0,null,16.0,null,null,25.0,39.0,49.0,31.0,30.0,30.0,34.0,31.0,11.0,0.42,27.0,31.0,39.0,18.0,39.0,33.0,26.0,39.0,35.0,6.0,30.5,null,23.0,31.0,43.0,10.0,52.0,27.0,38.0,27.0,2.0,null,null,1.0,null,62.0,15.0,0.83,null,23.0,18.0,39.0,21.0,null,32.0,null,20.0,16.0,30.0,34.5,17.0,42.0,null,35.0,28.0,null,4.0,74.0,9.0,16.0,44.0,18.0,45.0,51.0,24.0,null,41.0,21.0,48.0,null,24.0,42.0,27.0,31.0,null,4.0,26.0,47.0,33.0,47.0,28.0,15.0,20.0,19.0,null,56.0,25.0,33.0,22.0,28.0,25.0,39.0,27.0,19.0,null,26.0,32.0],\"y0\":\" \",\"yaxis\":\"y\",\"type\":\"box\"}],                        {\"template\":{\"data\":{\"barpolar\":[{\"marker\":{\"line\":{\"color\":\"rgb(17,17,17)\",\"width\":0.5},\"pattern\":{\"fillmode\":\"overlay\",\"size\":10,\"solidity\":0.2}},\"type\":\"barpolar\"}],\"bar\":[{\"error_x\":{\"color\":\"#f2f5fa\"},\"error_y\":{\"color\":\"#f2f5fa\"},\"marker\":{\"line\":{\"color\":\"rgb(17,17,17)\",\"width\":0.5},\"pattern\":{\"fillmode\":\"overlay\",\"size\":10,\"solidity\":0.2}},\"type\":\"bar\"}],\"carpet\":[{\"aaxis\":{\"endlinecolor\":\"#A2B1C6\",\"gridcolor\":\"#506784\",\"linecolor\":\"#506784\",\"minorgridcolor\":\"#506784\",\"startlinecolor\":\"#A2B1C6\"},\"baxis\":{\"endlinecolor\":\"#A2B1C6\",\"gridcolor\":\"#506784\",\"linecolor\":\"#506784\",\"minorgridcolor\":\"#506784\",\"startlinecolor\":\"#A2B1C6\"},\"type\":\"carpet\"}],\"choropleth\":[{\"colorbar\":{\"outlinewidth\":0,\"ticks\":\"\"},\"type\":\"choropleth\"}],\"contourcarpet\":[{\"colorbar\":{\"outlinewidth\":0,\"ticks\":\"\"},\"type\":\"contourcarpet\"}],\"contour\":[{\"colorbar\":{\"outlinewidth\":0,\"ticks\":\"\"},\"colorscale\":[[0.0,\"#0d0887\"],[0.1111111111111111,\"#46039f\"],[0.2222222222222222,\"#7201a8\"],[0.3333333333333333,\"#9c179e\"],[0.4444444444444444,\"#bd3786\"],[0.5555555555555556,\"#d8576b\"],[0.6666666666666666,\"#ed7953\"],[0.7777777777777778,\"#fb9f3a\"],[0.8888888888888888,\"#fdca26\"],[1.0,\"#f0f921\"]],\"type\":\"contour\"}],\"heatmapgl\":[{\"colorbar\":{\"outlinewidth\":0,\"ticks\":\"\"},\"colorscale\":[[0.0,\"#0d0887\"],[0.1111111111111111,\"#46039f\"],[0.2222222222222222,\"#7201a8\"],[0.3333333333333333,\"#9c179e\"],[0.4444444444444444,\"#bd3786\"],[0.5555555555555556,\"#d8576b\"],[0.6666666666666666,\"#ed7953\"],[0.7777777777777778,\"#fb9f3a\"],[0.8888888888888888,\"#fdca26\"],[1.0,\"#f0f921\"]],\"type\":\"heatmapgl\"}],\"heatmap\":[{\"colorbar\":{\"outlinewidth\":0,\"ticks\":\"\"},\"colorscale\":[[0.0,\"#0d0887\"],[0.1111111111111111,\"#46039f\"],[0.2222222222222222,\"#7201a8\"],[0.3333333333333333,\"#9c179e\"],[0.4444444444444444,\"#bd3786\"],[0.5555555555555556,\"#d8576b\"],[0.6666666666666666,\"#ed7953\"],[0.7777777777777778,\"#fb9f3a\"],[0.8888888888888888,\"#fdca26\"],[1.0,\"#f0f921\"]],\"type\":\"heatmap\"}],\"histogram2dcontour\":[{\"colorbar\":{\"outlinewidth\":0,\"ticks\":\"\"},\"colorscale\":[[0.0,\"#0d0887\"],[0.1111111111111111,\"#46039f\"],[0.2222222222222222,\"#7201a8\"],[0.3333333333333333,\"#9c179e\"],[0.4444444444444444,\"#bd3786\"],[0.5555555555555556,\"#d8576b\"],[0.6666666666666666,\"#ed7953\"],[0.7777777777777778,\"#fb9f3a\"],[0.8888888888888888,\"#fdca26\"],[1.0,\"#f0f921\"]],\"type\":\"histogram2dcontour\"}],\"histogram2d\":[{\"colorbar\":{\"outlinewidth\":0,\"ticks\":\"\"},\"colorscale\":[[0.0,\"#0d0887\"],[0.1111111111111111,\"#46039f\"],[0.2222222222222222,\"#7201a8\"],[0.3333333333333333,\"#9c179e\"],[0.4444444444444444,\"#bd3786\"],[0.5555555555555556,\"#d8576b\"],[0.6666666666666666,\"#ed7953\"],[0.7777777777777778,\"#fb9f3a\"],[0.8888888888888888,\"#fdca26\"],[1.0,\"#f0f921\"]],\"type\":\"histogram2d\"}],\"histogram\":[{\"marker\":{\"pattern\":{\"fillmode\":\"overlay\",\"size\":10,\"solidity\":0.2}},\"type\":\"histogram\"}],\"mesh3d\":[{\"colorbar\":{\"outlinewidth\":0,\"ticks\":\"\"},\"type\":\"mesh3d\"}],\"parcoords\":[{\"line\":{\"colorbar\":{\"outlinewidth\":0,\"ticks\":\"\"}},\"type\":\"parcoords\"}],\"pie\":[{\"automargin\":true,\"type\":\"pie\"}],\"scatter3d\":[{\"line\":{\"colorbar\":{\"outlinewidth\":0,\"ticks\":\"\"}},\"marker\":{\"colorbar\":{\"outlinewidth\":0,\"ticks\":\"\"}},\"type\":\"scatter3d\"}],\"scattercarpet\":[{\"marker\":{\"colorbar\":{\"outlinewidth\":0,\"ticks\":\"\"}},\"type\":\"scattercarpet\"}],\"scattergeo\":[{\"marker\":{\"colorbar\":{\"outlinewidth\":0,\"ticks\":\"\"}},\"type\":\"scattergeo\"}],\"scattergl\":[{\"marker\":{\"line\":{\"color\":\"#283442\"}},\"type\":\"scattergl\"}],\"scattermapbox\":[{\"marker\":{\"colorbar\":{\"outlinewidth\":0,\"ticks\":\"\"}},\"type\":\"scattermapbox\"}],\"scatterpolargl\":[{\"marker\":{\"colorbar\":{\"outlinewidth\":0,\"ticks\":\"\"}},\"type\":\"scatterpolargl\"}],\"scatterpolar\":[{\"marker\":{\"colorbar\":{\"outlinewidth\":0,\"ticks\":\"\"}},\"type\":\"scatterpolar\"}],\"scatter\":[{\"marker\":{\"line\":{\"color\":\"#283442\"}},\"type\":\"scatter\"}],\"scatterternary\":[{\"marker\":{\"colorbar\":{\"outlinewidth\":0,\"ticks\":\"\"}},\"type\":\"scatterternary\"}],\"surface\":[{\"colorbar\":{\"outlinewidth\":0,\"ticks\":\"\"},\"colorscale\":[[0.0,\"#0d0887\"],[0.1111111111111111,\"#46039f\"],[0.2222222222222222,\"#7201a8\"],[0.3333333333333333,\"#9c179e\"],[0.4444444444444444,\"#bd3786\"],[0.5555555555555556,\"#d8576b\"],[0.6666666666666666,\"#ed7953\"],[0.7777777777777778,\"#fb9f3a\"],[0.8888888888888888,\"#fdca26\"],[1.0,\"#f0f921\"]],\"type\":\"surface\"}],\"table\":[{\"cells\":{\"fill\":{\"color\":\"#506784\"},\"line\":{\"color\":\"rgb(17,17,17)\"}},\"header\":{\"fill\":{\"color\":\"#2a3f5f\"},\"line\":{\"color\":\"rgb(17,17,17)\"}},\"type\":\"table\"}]},\"layout\":{\"annotationdefaults\":{\"arrowcolor\":\"#f2f5fa\",\"arrowhead\":0,\"arrowwidth\":1},\"autotypenumbers\":\"strict\",\"coloraxis\":{\"colorbar\":{\"outlinewidth\":0,\"ticks\":\"\"}},\"colorscale\":{\"diverging\":[[0,\"#8e0152\"],[0.1,\"#c51b7d\"],[0.2,\"#de77ae\"],[0.3,\"#f1b6da\"],[0.4,\"#fde0ef\"],[0.5,\"#f7f7f7\"],[0.6,\"#e6f5d0\"],[0.7,\"#b8e186\"],[0.8,\"#7fbc41\"],[0.9,\"#4d9221\"],[1,\"#276419\"]],\"sequential\":[[0.0,\"#0d0887\"],[0.1111111111111111,\"#46039f\"],[0.2222222222222222,\"#7201a8\"],[0.3333333333333333,\"#9c179e\"],[0.4444444444444444,\"#bd3786\"],[0.5555555555555556,\"#d8576b\"],[0.6666666666666666,\"#ed7953\"],[0.7777777777777778,\"#fb9f3a\"],[0.8888888888888888,\"#fdca26\"],[1.0,\"#f0f921\"]],\"sequentialminus\":[[0.0,\"#0d0887\"],[0.1111111111111111,\"#46039f\"],[0.2222222222222222,\"#7201a8\"],[0.3333333333333333,\"#9c179e\"],[0.4444444444444444,\"#bd3786\"],[0.5555555555555556,\"#d8576b\"],[0.6666666666666666,\"#ed7953\"],[0.7777777777777778,\"#fb9f3a\"],[0.8888888888888888,\"#fdca26\"],[1.0,\"#f0f921\"]]},\"colorway\":[\"#636efa\",\"#EF553B\",\"#00cc96\",\"#ab63fa\",\"#FFA15A\",\"#19d3f3\",\"#FF6692\",\"#B6E880\",\"#FF97FF\",\"#FECB52\"],\"font\":{\"color\":\"#f2f5fa\"},\"geo\":{\"bgcolor\":\"rgb(17,17,17)\",\"lakecolor\":\"rgb(17,17,17)\",\"landcolor\":\"rgb(17,17,17)\",\"showlakes\":true,\"showland\":true,\"subunitcolor\":\"#506784\"},\"hoverlabel\":{\"align\":\"left\"},\"hovermode\":\"closest\",\"mapbox\":{\"style\":\"dark\"},\"paper_bgcolor\":\"rgb(17,17,17)\",\"plot_bgcolor\":\"rgb(17,17,17)\",\"polar\":{\"angularaxis\":{\"gridcolor\":\"#506784\",\"linecolor\":\"#506784\",\"ticks\":\"\"},\"bgcolor\":\"rgb(17,17,17)\",\"radialaxis\":{\"gridcolor\":\"#506784\",\"linecolor\":\"#506784\",\"ticks\":\"\"}},\"scene\":{\"xaxis\":{\"backgroundcolor\":\"rgb(17,17,17)\",\"gridcolor\":\"#506784\",\"gridwidth\":2,\"linecolor\":\"#506784\",\"showbackground\":true,\"ticks\":\"\",\"zerolinecolor\":\"#C8D4E3\"},\"yaxis\":{\"backgroundcolor\":\"rgb(17,17,17)\",\"gridcolor\":\"#506784\",\"gridwidth\":2,\"linecolor\":\"#506784\",\"showbackground\":true,\"ticks\":\"\",\"zerolinecolor\":\"#C8D4E3\"},\"zaxis\":{\"backgroundcolor\":\"rgb(17,17,17)\",\"gridcolor\":\"#506784\",\"gridwidth\":2,\"linecolor\":\"#506784\",\"showbackground\":true,\"ticks\":\"\",\"zerolinecolor\":\"#C8D4E3\"}},\"shapedefaults\":{\"line\":{\"color\":\"#f2f5fa\"}},\"sliderdefaults\":{\"bgcolor\":\"#C8D4E3\",\"bordercolor\":\"rgb(17,17,17)\",\"borderwidth\":1,\"tickwidth\":0},\"ternary\":{\"aaxis\":{\"gridcolor\":\"#506784\",\"linecolor\":\"#506784\",\"ticks\":\"\"},\"baxis\":{\"gridcolor\":\"#506784\",\"linecolor\":\"#506784\",\"ticks\":\"\"},\"bgcolor\":\"rgb(17,17,17)\",\"caxis\":{\"gridcolor\":\"#506784\",\"linecolor\":\"#506784\",\"ticks\":\"\"}},\"title\":{\"x\":0.05},\"updatemenudefaults\":{\"bgcolor\":\"#506784\",\"borderwidth\":0},\"xaxis\":{\"automargin\":true,\"gridcolor\":\"#283442\",\"linecolor\":\"#506784\",\"ticks\":\"\",\"title\":{\"standoff\":15},\"zerolinecolor\":\"#283442\",\"zerolinewidth\":2},\"yaxis\":{\"automargin\":true,\"gridcolor\":\"#283442\",\"linecolor\":\"#506784\",\"ticks\":\"\",\"title\":{\"standoff\":15},\"zerolinecolor\":\"#283442\",\"zerolinewidth\":2}}},\"xaxis\":{\"anchor\":\"y\",\"domain\":[0.0,1.0],\"title\":{\"text\":\"Pclass\"}},\"yaxis\":{\"anchor\":\"x\",\"domain\":[0.0,1.0],\"title\":{\"text\":\"Age\"}},\"legend\":{\"tracegroupgap\":0},\"title\":{\"text\":\"Age Distribution in Three Classes\"},\"boxmode\":\"group\"},                        {\"responsive\": true}                    ).then(function(){\n",
       "                            \n",
       "var gd = document.getElementById('b8cc2d04-1f81-48d1-816a-2fe2cfc2bff4');\n",
       "var x = new MutationObserver(function (mutations, observer) {{\n",
       "        var display = window.getComputedStyle(gd).display;\n",
       "        if (!display || display === 'none') {{\n",
       "            console.log([gd, 'removed!']);\n",
       "            Plotly.purge(gd);\n",
       "            observer.disconnect();\n",
       "        }}\n",
       "}});\n",
       "\n",
       "// Listen for the removal of the full notebook cells\n",
       "var notebookContainer = gd.closest('#notebook-container');\n",
       "if (notebookContainer) {{\n",
       "    x.observe(notebookContainer, {childList: true});\n",
       "}}\n",
       "\n",
       "// Listen for the clearing of the current output cell\n",
       "var outputEl = gd.closest('.output');\n",
       "if (outputEl) {{\n",
       "    x.observe(outputEl, {childList: true});\n",
       "}}\n",
       "\n",
       "                        })                };                            </script>        </div>\n",
       "</body>\n",
       "</html>"
      ]
     },
     "metadata": {},
     "output_type": "display_data"
    }
   ],
   "source": [
    "fig = px.box(df,\n",
    "      x='Pclass', \n",
    "      y='Age',\n",
    "      template='plotly_dark',\n",
    "      title = 'Age Distribution in Three Classes')  \n",
    "\n",
    "fig.show() "
   ]
  },
  {
   "cell_type": "markdown",
   "id": "63d66810",
   "metadata": {
    "papermill": {
     "duration": 0.016052,
     "end_time": "2025-04-16T11:15:41.850643",
     "exception": false,
     "start_time": "2025-04-16T11:15:41.834591",
     "status": "completed"
    },
    "tags": []
   },
   "source": [
    "### 📝 ***Conclusion*** :  \n",
    "\n",
    "* The median age of the First Class is higher than that of the Second Class and Third Class. "
   ]
  },
  {
   "cell_type": "code",
   "execution_count": 21,
   "id": "9786f874",
   "metadata": {
    "execution": {
     "iopub.execute_input": "2025-04-16T11:15:41.886208Z",
     "iopub.status.busy": "2025-04-16T11:15:41.885844Z",
     "iopub.status.idle": "2025-04-16T11:15:41.975445Z",
     "shell.execute_reply": "2025-04-16T11:15:41.974533Z"
    },
    "papermill": {
     "duration": 0.110072,
     "end_time": "2025-04-16T11:15:41.977121",
     "exception": false,
     "start_time": "2025-04-16T11:15:41.867049",
     "status": "completed"
    },
    "tags": []
   },
   "outputs": [
    {
     "data": {
      "text/html": [
       "<html>\n",
       "<head><meta charset=\"utf-8\" /></head>\n",
       "<body>\n",
       "    <div>            <script src=\"https://cdnjs.cloudflare.com/ajax/libs/mathjax/2.7.5/MathJax.js?config=TeX-AMS-MML_SVG\"></script><script type=\"text/javascript\">if (window.MathJax && window.MathJax.Hub && window.MathJax.Hub.Config) {window.MathJax.Hub.Config({SVG: {font: \"STIX-Web\"}});}</script>                <script type=\"text/javascript\">window.PlotlyConfig = {MathJaxConfig: 'local'};</script>\n",
       "        <script charset=\"utf-8\" src=\"https://cdn.plot.ly/plotly-2.35.2.min.js\"></script>                <div id=\"2393810b-8d75-4dee-b4bd-176990769d8a\" class=\"plotly-graph-div\" style=\"height:525px; width:100%;\"></div>            <script type=\"text/javascript\">                                    window.PLOTLYENV=window.PLOTLYENV || {};                                    if (document.getElementById(\"2393810b-8d75-4dee-b4bd-176990769d8a\")) {                    Plotly.newPlot(                        \"2393810b-8d75-4dee-b4bd-176990769d8a\",                        [{\"alignmentgroup\":\"True\",\"hovertemplate\":\"Pclass=%{x}\\u003cbr\\u003eAge=%{y}\\u003cbr\\u003eSex=%{marker.color}\\u003cextra\\u003e\\u003c\\u002fextra\\u003e\",\"legendgroup\":\"\",\"marker\":{\"color\":[0,1,0,1,0,1],\"coloraxis\":\"coloraxis\",\"pattern\":{\"shape\":\"\"}},\"name\":\"\",\"offsetgroup\":\"\",\"orientation\":\"v\",\"showlegend\":false,\"textposition\":\"auto\",\"x\":[1,1,2,2,3,3],\"xaxis\":\"x\",\"y\":[35.0,40.0,28.0,30.0,21.5,25.0],\"yaxis\":\"y\",\"type\":\"bar\"}],                        {\"template\":{\"data\":{\"histogram2dcontour\":[{\"type\":\"histogram2dcontour\",\"colorbar\":{\"outlinewidth\":0,\"ticks\":\"\"},\"colorscale\":[[0.0,\"#0d0887\"],[0.1111111111111111,\"#46039f\"],[0.2222222222222222,\"#7201a8\"],[0.3333333333333333,\"#9c179e\"],[0.4444444444444444,\"#bd3786\"],[0.5555555555555556,\"#d8576b\"],[0.6666666666666666,\"#ed7953\"],[0.7777777777777778,\"#fb9f3a\"],[0.8888888888888888,\"#fdca26\"],[1.0,\"#f0f921\"]]}],\"choropleth\":[{\"type\":\"choropleth\",\"colorbar\":{\"outlinewidth\":0,\"ticks\":\"\"}}],\"histogram2d\":[{\"type\":\"histogram2d\",\"colorbar\":{\"outlinewidth\":0,\"ticks\":\"\"},\"colorscale\":[[0.0,\"#0d0887\"],[0.1111111111111111,\"#46039f\"],[0.2222222222222222,\"#7201a8\"],[0.3333333333333333,\"#9c179e\"],[0.4444444444444444,\"#bd3786\"],[0.5555555555555556,\"#d8576b\"],[0.6666666666666666,\"#ed7953\"],[0.7777777777777778,\"#fb9f3a\"],[0.8888888888888888,\"#fdca26\"],[1.0,\"#f0f921\"]]}],\"heatmap\":[{\"type\":\"heatmap\",\"colorbar\":{\"outlinewidth\":0,\"ticks\":\"\"},\"colorscale\":[[0.0,\"#0d0887\"],[0.1111111111111111,\"#46039f\"],[0.2222222222222222,\"#7201a8\"],[0.3333333333333333,\"#9c179e\"],[0.4444444444444444,\"#bd3786\"],[0.5555555555555556,\"#d8576b\"],[0.6666666666666666,\"#ed7953\"],[0.7777777777777778,\"#fb9f3a\"],[0.8888888888888888,\"#fdca26\"],[1.0,\"#f0f921\"]]}],\"heatmapgl\":[{\"type\":\"heatmapgl\",\"colorbar\":{\"outlinewidth\":0,\"ticks\":\"\"},\"colorscale\":[[0.0,\"#0d0887\"],[0.1111111111111111,\"#46039f\"],[0.2222222222222222,\"#7201a8\"],[0.3333333333333333,\"#9c179e\"],[0.4444444444444444,\"#bd3786\"],[0.5555555555555556,\"#d8576b\"],[0.6666666666666666,\"#ed7953\"],[0.7777777777777778,\"#fb9f3a\"],[0.8888888888888888,\"#fdca26\"],[1.0,\"#f0f921\"]]}],\"contourcarpet\":[{\"type\":\"contourcarpet\",\"colorbar\":{\"outlinewidth\":0,\"ticks\":\"\"}}],\"contour\":[{\"type\":\"contour\",\"colorbar\":{\"outlinewidth\":0,\"ticks\":\"\"},\"colorscale\":[[0.0,\"#0d0887\"],[0.1111111111111111,\"#46039f\"],[0.2222222222222222,\"#7201a8\"],[0.3333333333333333,\"#9c179e\"],[0.4444444444444444,\"#bd3786\"],[0.5555555555555556,\"#d8576b\"],[0.6666666666666666,\"#ed7953\"],[0.7777777777777778,\"#fb9f3a\"],[0.8888888888888888,\"#fdca26\"],[1.0,\"#f0f921\"]]}],\"surface\":[{\"type\":\"surface\",\"colorbar\":{\"outlinewidth\":0,\"ticks\":\"\"},\"colorscale\":[[0.0,\"#0d0887\"],[0.1111111111111111,\"#46039f\"],[0.2222222222222222,\"#7201a8\"],[0.3333333333333333,\"#9c179e\"],[0.4444444444444444,\"#bd3786\"],[0.5555555555555556,\"#d8576b\"],[0.6666666666666666,\"#ed7953\"],[0.7777777777777778,\"#fb9f3a\"],[0.8888888888888888,\"#fdca26\"],[1.0,\"#f0f921\"]]}],\"mesh3d\":[{\"type\":\"mesh3d\",\"colorbar\":{\"outlinewidth\":0,\"ticks\":\"\"}}],\"scatter\":[{\"fillpattern\":{\"fillmode\":\"overlay\",\"size\":10,\"solidity\":0.2},\"type\":\"scatter\"}],\"parcoords\":[{\"type\":\"parcoords\",\"line\":{\"colorbar\":{\"outlinewidth\":0,\"ticks\":\"\"}}}],\"scatterpolargl\":[{\"type\":\"scatterpolargl\",\"marker\":{\"colorbar\":{\"outlinewidth\":0,\"ticks\":\"\"}}}],\"bar\":[{\"error_x\":{\"color\":\"#2a3f5f\"},\"error_y\":{\"color\":\"#2a3f5f\"},\"marker\":{\"line\":{\"color\":\"#E5ECF6\",\"width\":0.5},\"pattern\":{\"fillmode\":\"overlay\",\"size\":10,\"solidity\":0.2}},\"type\":\"bar\"}],\"scattergeo\":[{\"type\":\"scattergeo\",\"marker\":{\"colorbar\":{\"outlinewidth\":0,\"ticks\":\"\"}}}],\"scatterpolar\":[{\"type\":\"scatterpolar\",\"marker\":{\"colorbar\":{\"outlinewidth\":0,\"ticks\":\"\"}}}],\"histogram\":[{\"marker\":{\"pattern\":{\"fillmode\":\"overlay\",\"size\":10,\"solidity\":0.2}},\"type\":\"histogram\"}],\"scattergl\":[{\"type\":\"scattergl\",\"marker\":{\"colorbar\":{\"outlinewidth\":0,\"ticks\":\"\"}}}],\"scatter3d\":[{\"type\":\"scatter3d\",\"line\":{\"colorbar\":{\"outlinewidth\":0,\"ticks\":\"\"}},\"marker\":{\"colorbar\":{\"outlinewidth\":0,\"ticks\":\"\"}}}],\"scattermapbox\":[{\"type\":\"scattermapbox\",\"marker\":{\"colorbar\":{\"outlinewidth\":0,\"ticks\":\"\"}}}],\"scatterternary\":[{\"type\":\"scatterternary\",\"marker\":{\"colorbar\":{\"outlinewidth\":0,\"ticks\":\"\"}}}],\"scattercarpet\":[{\"type\":\"scattercarpet\",\"marker\":{\"colorbar\":{\"outlinewidth\":0,\"ticks\":\"\"}}}],\"carpet\":[{\"aaxis\":{\"endlinecolor\":\"#2a3f5f\",\"gridcolor\":\"white\",\"linecolor\":\"white\",\"minorgridcolor\":\"white\",\"startlinecolor\":\"#2a3f5f\"},\"baxis\":{\"endlinecolor\":\"#2a3f5f\",\"gridcolor\":\"white\",\"linecolor\":\"white\",\"minorgridcolor\":\"white\",\"startlinecolor\":\"#2a3f5f\"},\"type\":\"carpet\"}],\"table\":[{\"cells\":{\"fill\":{\"color\":\"#EBF0F8\"},\"line\":{\"color\":\"white\"}},\"header\":{\"fill\":{\"color\":\"#C8D4E3\"},\"line\":{\"color\":\"white\"}},\"type\":\"table\"}],\"barpolar\":[{\"marker\":{\"line\":{\"color\":\"#E5ECF6\",\"width\":0.5},\"pattern\":{\"fillmode\":\"overlay\",\"size\":10,\"solidity\":0.2}},\"type\":\"barpolar\"}],\"pie\":[{\"automargin\":true,\"type\":\"pie\"}]},\"layout\":{\"autotypenumbers\":\"strict\",\"colorway\":[\"#636efa\",\"#EF553B\",\"#00cc96\",\"#ab63fa\",\"#FFA15A\",\"#19d3f3\",\"#FF6692\",\"#B6E880\",\"#FF97FF\",\"#FECB52\"],\"font\":{\"color\":\"#2a3f5f\"},\"hovermode\":\"closest\",\"hoverlabel\":{\"align\":\"left\"},\"paper_bgcolor\":\"white\",\"plot_bgcolor\":\"#E5ECF6\",\"polar\":{\"bgcolor\":\"#E5ECF6\",\"angularaxis\":{\"gridcolor\":\"white\",\"linecolor\":\"white\",\"ticks\":\"\"},\"radialaxis\":{\"gridcolor\":\"white\",\"linecolor\":\"white\",\"ticks\":\"\"}},\"ternary\":{\"bgcolor\":\"#E5ECF6\",\"aaxis\":{\"gridcolor\":\"white\",\"linecolor\":\"white\",\"ticks\":\"\"},\"baxis\":{\"gridcolor\":\"white\",\"linecolor\":\"white\",\"ticks\":\"\"},\"caxis\":{\"gridcolor\":\"white\",\"linecolor\":\"white\",\"ticks\":\"\"}},\"coloraxis\":{\"colorbar\":{\"outlinewidth\":0,\"ticks\":\"\"}},\"colorscale\":{\"sequential\":[[0.0,\"#0d0887\"],[0.1111111111111111,\"#46039f\"],[0.2222222222222222,\"#7201a8\"],[0.3333333333333333,\"#9c179e\"],[0.4444444444444444,\"#bd3786\"],[0.5555555555555556,\"#d8576b\"],[0.6666666666666666,\"#ed7953\"],[0.7777777777777778,\"#fb9f3a\"],[0.8888888888888888,\"#fdca26\"],[1.0,\"#f0f921\"]],\"sequentialminus\":[[0.0,\"#0d0887\"],[0.1111111111111111,\"#46039f\"],[0.2222222222222222,\"#7201a8\"],[0.3333333333333333,\"#9c179e\"],[0.4444444444444444,\"#bd3786\"],[0.5555555555555556,\"#d8576b\"],[0.6666666666666666,\"#ed7953\"],[0.7777777777777778,\"#fb9f3a\"],[0.8888888888888888,\"#fdca26\"],[1.0,\"#f0f921\"]],\"diverging\":[[0,\"#8e0152\"],[0.1,\"#c51b7d\"],[0.2,\"#de77ae\"],[0.3,\"#f1b6da\"],[0.4,\"#fde0ef\"],[0.5,\"#f7f7f7\"],[0.6,\"#e6f5d0\"],[0.7,\"#b8e186\"],[0.8,\"#7fbc41\"],[0.9,\"#4d9221\"],[1,\"#276419\"]]},\"xaxis\":{\"gridcolor\":\"white\",\"linecolor\":\"white\",\"ticks\":\"\",\"title\":{\"standoff\":15},\"zerolinecolor\":\"white\",\"automargin\":true,\"zerolinewidth\":2},\"yaxis\":{\"gridcolor\":\"white\",\"linecolor\":\"white\",\"ticks\":\"\",\"title\":{\"standoff\":15},\"zerolinecolor\":\"white\",\"automargin\":true,\"zerolinewidth\":2},\"scene\":{\"xaxis\":{\"backgroundcolor\":\"#E5ECF6\",\"gridcolor\":\"white\",\"linecolor\":\"white\",\"showbackground\":true,\"ticks\":\"\",\"zerolinecolor\":\"white\",\"gridwidth\":2},\"yaxis\":{\"backgroundcolor\":\"#E5ECF6\",\"gridcolor\":\"white\",\"linecolor\":\"white\",\"showbackground\":true,\"ticks\":\"\",\"zerolinecolor\":\"white\",\"gridwidth\":2},\"zaxis\":{\"backgroundcolor\":\"#E5ECF6\",\"gridcolor\":\"white\",\"linecolor\":\"white\",\"showbackground\":true,\"ticks\":\"\",\"zerolinecolor\":\"white\",\"gridwidth\":2}},\"shapedefaults\":{\"line\":{\"color\":\"#2a3f5f\"}},\"annotationdefaults\":{\"arrowcolor\":\"#2a3f5f\",\"arrowhead\":0,\"arrowwidth\":1},\"geo\":{\"bgcolor\":\"white\",\"landcolor\":\"#E5ECF6\",\"subunitcolor\":\"white\",\"showland\":true,\"showlakes\":true,\"lakecolor\":\"white\"},\"title\":{\"x\":0.05},\"mapbox\":{\"style\":\"light\"}}},\"xaxis\":{\"anchor\":\"y\",\"domain\":[0.0,1.0],\"title\":{\"text\":\"Pclass\"}},\"yaxis\":{\"anchor\":\"x\",\"domain\":[0.0,1.0],\"title\":{\"text\":\"Age\"}},\"coloraxis\":{\"colorbar\":{\"title\":{\"text\":\"Sex\"}},\"colorscale\":[[0.0,\"#0d0887\"],[0.1111111111111111,\"#46039f\"],[0.2222222222222222,\"#7201a8\"],[0.3333333333333333,\"#9c179e\"],[0.4444444444444444,\"#bd3786\"],[0.5555555555555556,\"#d8576b\"],[0.6666666666666666,\"#ed7953\"],[0.7777777777777778,\"#fb9f3a\"],[0.8888888888888888,\"#fdca26\"],[1.0,\"#f0f921\"]]},\"legend\":{\"tracegroupgap\":0},\"margin\":{\"t\":60},\"barmode\":\"group\"},                        {\"responsive\": true}                    ).then(function(){\n",
       "                            \n",
       "var gd = document.getElementById('2393810b-8d75-4dee-b4bd-176990769d8a');\n",
       "var x = new MutationObserver(function (mutations, observer) {{\n",
       "        var display = window.getComputedStyle(gd).display;\n",
       "        if (!display || display === 'none') {{\n",
       "            console.log([gd, 'removed!']);\n",
       "            Plotly.purge(gd);\n",
       "            observer.disconnect();\n",
       "        }}\n",
       "}});\n",
       "\n",
       "// Listen for the removal of the full notebook cells\n",
       "var notebookContainer = gd.closest('#notebook-container');\n",
       "if (notebookContainer) {{\n",
       "    x.observe(notebookContainer, {childList: true});\n",
       "}}\n",
       "\n",
       "// Listen for the clearing of the current output cell\n",
       "var outputEl = gd.closest('.output');\n",
       "if (outputEl) {{\n",
       "    x.observe(outputEl, {childList: true});\n",
       "}}\n",
       "\n",
       "                        })                };                            </script>        </div>\n",
       "</body>\n",
       "</html>"
      ]
     },
     "metadata": {},
     "output_type": "display_data"
    }
   ],
   "source": [
    "fig = px.bar(df.groupby(['Pclass', 'Sex'], as_index=False)['Age'].median(),  \n",
    "             x = 'Pclass', \n",
    "             y = 'Age', \n",
    "             color = 'Sex',\n",
    "             barmode='group') \n",
    "fig.show() "
   ]
  },
  {
   "cell_type": "code",
   "execution_count": 22,
   "id": "1ca96ae7",
   "metadata": {
    "execution": {
     "iopub.execute_input": "2025-04-16T11:15:42.011407Z",
     "iopub.status.busy": "2025-04-16T11:15:42.011041Z",
     "iopub.status.idle": "2025-04-16T11:15:42.023131Z",
     "shell.execute_reply": "2025-04-16T11:15:42.022033Z"
    },
    "papermill": {
     "duration": 0.031091,
     "end_time": "2025-04-16T11:15:42.024897",
     "exception": false,
     "start_time": "2025-04-16T11:15:41.993806",
     "status": "completed"
    },
    "tags": []
   },
   "outputs": [],
   "source": [
    "df['Age'] = df.groupby(['Pclass', 'Sex'])['Age'].transform(lambda x: x.fillna(x.median()))"
   ]
  },
  {
   "cell_type": "code",
   "execution_count": 23,
   "id": "7339af62",
   "metadata": {
    "execution": {
     "iopub.execute_input": "2025-04-16T11:15:42.059918Z",
     "iopub.status.busy": "2025-04-16T11:15:42.059505Z",
     "iopub.status.idle": "2025-04-16T11:15:42.315178Z",
     "shell.execute_reply": "2025-04-16T11:15:42.313944Z"
    },
    "papermill": {
     "duration": 0.274451,
     "end_time": "2025-04-16T11:15:42.316733",
     "exception": false,
     "start_time": "2025-04-16T11:15:42.042282",
     "status": "completed"
    },
    "tags": []
   },
   "outputs": [
    {
     "data": {
      "text/plain": [
       "<Axes: >"
      ]
     },
     "execution_count": 23,
     "metadata": {},
     "output_type": "execute_result"
    },
    {
     "data": {
      "image/png": "[encoded data removed]",
      "text/plain": [
       "<Figure size 640x480 with 1 Axes>"
      ]
     },
     "metadata": {},
     "output_type": "display_data"
    }
   ],
   "source": [
    "sns.heatmap(df.isnull(), yticklabels=False, cbar=False) "
   ]
  },
  {
   "cell_type": "markdown",
   "id": "83862394",
   "metadata": {
    "papermill": {
     "duration": 0.018181,
     "end_time": "2025-04-16T11:15:42.351905",
     "exception": false,
     "start_time": "2025-04-16T11:15:42.333724",
     "status": "completed"
    },
    "tags": []
   },
   "source": [
    "### 4. 🔍 **Col: Ticket**\n"
   ]
  },
  {
   "cell_type": "code",
   "execution_count": 24,
   "id": "64b7eae7",
   "metadata": {
    "execution": {
     "iopub.execute_input": "2025-04-16T11:15:42.386566Z",
     "iopub.status.busy": "2025-04-16T11:15:42.386207Z",
     "iopub.status.idle": "2025-04-16T11:15:42.392912Z",
     "shell.execute_reply": "2025-04-16T11:15:42.391954Z"
    },
    "papermill": {
     "duration": 0.025733,
     "end_time": "2025-04-16T11:15:42.394387",
     "exception": false,
     "start_time": "2025-04-16T11:15:42.368654",
     "status": "completed"
    },
    "tags": []
   },
   "outputs": [
    {
     "data": {
      "text/plain": [
       "0           A/5 21171\n",
       "1            PC 17599\n",
       "2    STON/O2. 3101282\n",
       "3              113803\n",
       "4              373450\n",
       "5              330877\n",
       "6               17463\n",
       "7              349909\n",
       "8              347742\n",
       "9              237736\n",
       "Name: Ticket, dtype: object"
      ]
     },
     "execution_count": 24,
     "metadata": {},
     "output_type": "execute_result"
    }
   ],
   "source": [
    "df['Ticket'][0:10] "
   ]
  },
  {
   "cell_type": "code",
   "execution_count": 25,
   "id": "3dd8452d",
   "metadata": {
    "execution": {
     "iopub.execute_input": "2025-04-16T11:15:42.429692Z",
     "iopub.status.busy": "2025-04-16T11:15:42.429319Z",
     "iopub.status.idle": "2025-04-16T11:15:42.438354Z",
     "shell.execute_reply": "2025-04-16T11:15:42.437322Z"
    },
    "papermill": {
     "duration": 0.028153,
     "end_time": "2025-04-16T11:15:42.439739",
     "exception": false,
     "start_time": "2025-04-16T11:15:42.411586",
     "status": "completed"
    },
    "tags": []
   },
   "outputs": [
    {
     "data": {
      "text/plain": [
       "count        891\n",
       "unique       681\n",
       "top       347082\n",
       "freq           7\n",
       "Name: Ticket, dtype: object"
      ]
     },
     "execution_count": 25,
     "metadata": {},
     "output_type": "execute_result"
    }
   ],
   "source": [
    "df['Ticket'].describe() "
   ]
  },
  {
   "cell_type": "markdown",
   "id": "db1e618d",
   "metadata": {
    "papermill": {
     "duration": 0.017375,
     "end_time": "2025-04-16T11:15:42.474443",
     "exception": false,
     "start_time": "2025-04-16T11:15:42.457068",
     "status": "completed"
    },
    "tags": []
   },
   "source": [
    "### 📝 ***Conclusion*** : \n",
    "\n",
    "1. Ticket is a categorical variable which has **681 unique** values.\n",
    "   \n",
    "2. Categorical variables with almost as many as levels as there are records are often not useful for prediction."
   ]
  },
  {
   "cell_type": "markdown",
   "id": "2eda10ca",
   "metadata": {
    "papermill": {
     "duration": 0.017032,
     "end_time": "2025-04-16T11:15:42.508741",
     "exception": false,
     "start_time": "2025-04-16T11:15:42.491709",
     "status": "completed"
    },
    "tags": []
   },
   "source": [
    "### 🛠️ ***Feature Engineering of Ticket*** :\n",
    "        1. Extract prefix if one ticket including letters. \n",
    "        \n",
    "        2. Create a new column that transforms prefixes to numeric according to the mean of 'Survived' group by Passenger Class and Ticket_Prefix. \n",
    "        \n",
    "        3. Create a column containing boolean values to show if the ticket is pure numeric \n",
    "        \n",
    "        4. Count the frequency of each ticket.  "
   ]
  },
  {
   "cell_type": "code",
   "execution_count": 26,
   "id": "08fd7e75",
   "metadata": {
    "execution": {
     "iopub.execute_input": "2025-04-16T11:15:42.544187Z",
     "iopub.status.busy": "2025-04-16T11:15:42.543789Z",
     "iopub.status.idle": "2025-04-16T11:15:42.566910Z",
     "shell.execute_reply": "2025-04-16T11:15:42.566001Z"
    },
    "papermill": {
     "duration": 0.042759,
     "end_time": "2025-04-16T11:15:42.568494",
     "exception": false,
     "start_time": "2025-04-16T11:15:42.525735",
     "status": "completed"
    },
    "tags": []
   },
   "outputs": [
    {
     "data": {
      "text/html": [
       "<div>\n",
       "<style scoped>\n",
       "    .dataframe tbody tr th:only-of-type {\n",
       "        vertical-align: middle;\n",
       "    }\n",
       "\n",
       "    .dataframe tbody tr th {\n",
       "        vertical-align: top;\n",
       "    }\n",
       "\n",
       "    .dataframe thead th {\n",
       "        text-align: right;\n",
       "    }\n",
       "</style>\n",
       "<table border=\"1\" class=\"dataframe\">\n",
       "  <thead>\n",
       "    <tr style=\"text-align: right;\">\n",
       "      <th></th>\n",
       "      <th>Ticket</th>\n",
       "      <th>Ticket_Prefix</th>\n",
       "      <th>Ticket_IsNumeric</th>\n",
       "      <th>Ticket_Freq</th>\n",
       "      <th>Pclass</th>\n",
       "      <th>Survived</th>\n",
       "      <th>Pclass_Prefix_Survival</th>\n",
       "    </tr>\n",
       "  </thead>\n",
       "  <tbody>\n",
       "    <tr>\n",
       "      <th>384</th>\n",
       "      <td>349227</td>\n",
       "      <td>None</td>\n",
       "      <td>1</td>\n",
       "      <td>1</td>\n",
       "      <td>3</td>\n",
       "      <td>0</td>\n",
       "      <td>0.253927</td>\n",
       "    </tr>\n",
       "    <tr>\n",
       "      <th>518</th>\n",
       "      <td>226875</td>\n",
       "      <td>None</td>\n",
       "      <td>1</td>\n",
       "      <td>1</td>\n",
       "      <td>2</td>\n",
       "      <td>1</td>\n",
       "      <td>0.480315</td>\n",
       "    </tr>\n",
       "    <tr>\n",
       "      <th>510</th>\n",
       "      <td>382651</td>\n",
       "      <td>None</td>\n",
       "      <td>1</td>\n",
       "      <td>1</td>\n",
       "      <td>3</td>\n",
       "      <td>1</td>\n",
       "      <td>0.253927</td>\n",
       "    </tr>\n",
       "    <tr>\n",
       "      <th>66</th>\n",
       "      <td>C.A. 29395</td>\n",
       "      <td>CA</td>\n",
       "      <td>0</td>\n",
       "      <td>1</td>\n",
       "      <td>2</td>\n",
       "      <td>1</td>\n",
       "      <td>0.473684</td>\n",
       "    </tr>\n",
       "    <tr>\n",
       "      <th>874</th>\n",
       "      <td>P/PP 3381</td>\n",
       "      <td>PPP</td>\n",
       "      <td>0</td>\n",
       "      <td>2</td>\n",
       "      <td>2</td>\n",
       "      <td>1</td>\n",
       "      <td>0.500000</td>\n",
       "    </tr>\n",
       "    <tr>\n",
       "      <th>652</th>\n",
       "      <td>8475</td>\n",
       "      <td>None</td>\n",
       "      <td>1</td>\n",
       "      <td>1</td>\n",
       "      <td>3</td>\n",
       "      <td>0</td>\n",
       "      <td>0.253927</td>\n",
       "    </tr>\n",
       "    <tr>\n",
       "      <th>492</th>\n",
       "      <td>113787</td>\n",
       "      <td>None</td>\n",
       "      <td>1</td>\n",
       "      <td>1</td>\n",
       "      <td>1</td>\n",
       "      <td>0</td>\n",
       "      <td>0.631579</td>\n",
       "    </tr>\n",
       "    <tr>\n",
       "      <th>769</th>\n",
       "      <td>8471</td>\n",
       "      <td>None</td>\n",
       "      <td>1</td>\n",
       "      <td>1</td>\n",
       "      <td>3</td>\n",
       "      <td>0</td>\n",
       "      <td>0.253927</td>\n",
       "    </tr>\n",
       "    <tr>\n",
       "      <th>757</th>\n",
       "      <td>29108</td>\n",
       "      <td>None</td>\n",
       "      <td>1</td>\n",
       "      <td>1</td>\n",
       "      <td>2</td>\n",
       "      <td>0</td>\n",
       "      <td>0.480315</td>\n",
       "    </tr>\n",
       "    <tr>\n",
       "      <th>800</th>\n",
       "      <td>250647</td>\n",
       "      <td>None</td>\n",
       "      <td>1</td>\n",
       "      <td>2</td>\n",
       "      <td>2</td>\n",
       "      <td>0</td>\n",
       "      <td>0.480315</td>\n",
       "    </tr>\n",
       "  </tbody>\n",
       "</table>\n",
       "</div>"
      ],
      "text/plain": [
       "         Ticket Ticket_Prefix  Ticket_IsNumeric  Ticket_Freq  Pclass  \\\n",
       "384      349227          None                 1            1       3   \n",
       "518      226875          None                 1            1       2   \n",
       "510      382651          None                 1            1       3   \n",
       "66   C.A. 29395            CA                 0            1       2   \n",
       "874   P/PP 3381           PPP                 0            2       2   \n",
       "652        8475          None                 1            1       3   \n",
       "492      113787          None                 1            1       1   \n",
       "769        8471          None                 1            1       3   \n",
       "757       29108          None                 1            1       2   \n",
       "800      250647          None                 1            2       2   \n",
       "\n",
       "     Survived  Pclass_Prefix_Survival  \n",
       "384         0                0.253927  \n",
       "518         1                0.480315  \n",
       "510         1                0.253927  \n",
       "66          1                0.473684  \n",
       "874         1                0.500000  \n",
       "652         0                0.253927  \n",
       "492         0                0.631579  \n",
       "769         0                0.253927  \n",
       "757         0                0.480315  \n",
       "800         0                0.480315  "
      ]
     },
     "execution_count": 26,
     "metadata": {},
     "output_type": "execute_result"
    }
   ],
   "source": [
    "def extract_prefix(ticket):\n",
    "    parts = ticket.replace('.', '').replace('/','').split() \n",
    "    prefix = [p for p in parts if not p.isdigit()] \n",
    "    return prefix[0] if prefix else 'None' \n",
    "\n",
    "df['Ticket_Prefix'] = df['Ticket'].apply(extract_prefix)\n",
    "df['Pclass_Prefix_Survival'] = df.groupby(['Pclass', 'Ticket_Prefix'])['Survived'].transform('mean') \n",
    "\n",
    "df['Ticket_IsNumeric'] = df['Ticket'].apply(lambda x: x.isdigit()).astype(int)   \n",
    "\n",
    "ticket_counts = df['Ticket'].value_counts() \n",
    "df['Ticket_Freq'] = df['Ticket'].map(ticket_counts) \n",
    "\n",
    "df[['Ticket', 'Ticket_Prefix', 'Ticket_IsNumeric', 'Ticket_Freq', 'Pclass','Survived', 'Pclass_Prefix_Survival']].sample(10) "
   ]
  },
  {
   "cell_type": "markdown",
   "id": "9a0d4496",
   "metadata": {
    "papermill": {
     "duration": 0.017335,
     "end_time": "2025-04-16T11:15:42.604919",
     "exception": false,
     "start_time": "2025-04-16T11:15:42.587584",
     "status": "completed"
    },
    "tags": []
   },
   "source": [
    "### 5. 🔍 **Col: Cabin**  "
   ]
  },
  {
   "cell_type": "code",
   "execution_count": 27,
   "id": "cf8f61ab",
   "metadata": {
    "execution": {
     "iopub.execute_input": "2025-04-16T11:15:42.640471Z",
     "iopub.status.busy": "2025-04-16T11:15:42.640098Z",
     "iopub.status.idle": "2025-04-16T11:15:42.646741Z",
     "shell.execute_reply": "2025-04-16T11:15:42.645934Z"
    },
    "papermill": {
     "duration": 0.026027,
     "end_time": "2025-04-16T11:15:42.648216",
     "exception": false,
     "start_time": "2025-04-16T11:15:42.622189",
     "status": "completed"
    },
    "tags": []
   },
   "outputs": [
    {
     "data": {
      "text/plain": [
       "0     NaN\n",
       "1     C85\n",
       "2     NaN\n",
       "3    C123\n",
       "4     NaN\n",
       "5     NaN\n",
       "6     E46\n",
       "7     NaN\n",
       "8     NaN\n",
       "9     NaN\n",
       "Name: Cabin, dtype: object"
      ]
     },
     "execution_count": 27,
     "metadata": {},
     "output_type": "execute_result"
    }
   ],
   "source": [
    "df['Cabin'][0:10]"
   ]
  },
  {
   "cell_type": "code",
   "execution_count": 28,
   "id": "04ca4ad5",
   "metadata": {
    "execution": {
     "iopub.execute_input": "2025-04-16T11:15:42.684464Z",
     "iopub.status.busy": "2025-04-16T11:15:42.684098Z",
     "iopub.status.idle": "2025-04-16T11:15:42.691812Z",
     "shell.execute_reply": "2025-04-16T11:15:42.690811Z"
    },
    "papermill": {
     "duration": 0.027651,
     "end_time": "2025-04-16T11:15:42.693339",
     "exception": false,
     "start_time": "2025-04-16T11:15:42.665688",
     "status": "completed"
    },
    "tags": []
   },
   "outputs": [
    {
     "data": {
      "text/plain": [
       "count         204\n",
       "unique        147\n",
       "top       B96 B98\n",
       "freq            4\n",
       "Name: Cabin, dtype: object"
      ]
     },
     "execution_count": 28,
     "metadata": {},
     "output_type": "execute_result"
    }
   ],
   "source": [
    "df['Cabin'].describe() "
   ]
  },
  {
   "cell_type": "markdown",
   "id": "49ff2fcf",
   "metadata": {
    "papermill": {
     "duration": 0.017213,
     "end_time": "2025-04-16T11:15:42.727941",
     "exception": false,
     "start_time": "2025-04-16T11:15:42.710728",
     "status": "completed"
    },
    "tags": []
   },
   "source": [
    "1. The Cabin column has 147 unique values, which may not be particularly useful for prediction.\n",
    "\n",
    "2. On the other hand, the names for the cabin variable seem to have a regular structure: a capital letter followed by a number --> use this structure to reduce the number of levels to make categories large enough, which may be useful for prediction.  "
   ]
  },
  {
   "cell_type": "code",
   "execution_count": 29,
   "id": "a699f46e",
   "metadata": {
    "execution": {
     "iopub.execute_input": "2025-04-16T11:15:42.764033Z",
     "iopub.status.busy": "2025-04-16T11:15:42.763633Z",
     "iopub.status.idle": "2025-04-16T11:15:42.768920Z",
     "shell.execute_reply": "2025-04-16T11:15:42.767933Z"
    },
    "papermill": {
     "duration": 0.025135,
     "end_time": "2025-04-16T11:15:42.770558",
     "exception": false,
     "start_time": "2025-04-16T11:15:42.745423",
     "status": "completed"
    },
    "tags": []
   },
   "outputs": [],
   "source": [
    "df['Has_Cabin'] = df['Cabin'].notna().astype(int) "
   ]
  },
  {
   "cell_type": "code",
   "execution_count": 30,
   "id": "b30df4f6",
   "metadata": {
    "execution": {
     "iopub.execute_input": "2025-04-16T11:15:42.806938Z",
     "iopub.status.busy": "2025-04-16T11:15:42.806536Z",
     "iopub.status.idle": "2025-04-16T11:15:42.812148Z",
     "shell.execute_reply": "2025-04-16T11:15:42.811184Z"
    },
    "papermill": {
     "duration": 0.025463,
     "end_time": "2025-04-16T11:15:42.813648",
     "exception": false,
     "start_time": "2025-04-16T11:15:42.788185",
     "status": "completed"
    },
    "tags": []
   },
   "outputs": [],
   "source": [
    "df.drop(['Cabin'], axis=1, inplace=True)  "
   ]
  },
  {
   "cell_type": "markdown",
   "id": "cc152036",
   "metadata": {
    "papermill": {
     "duration": 0.017154,
     "end_time": "2025-04-16T11:15:42.848424",
     "exception": false,
     "start_time": "2025-04-16T11:15:42.831270",
     "status": "completed"
    },
    "tags": []
   },
   "source": [
    "### 6. 🔍 **Embarked**  "
   ]
  },
  {
   "cell_type": "code",
   "execution_count": 31,
   "id": "10cc5f41",
   "metadata": {
    "execution": {
     "iopub.execute_input": "2025-04-16T11:15:42.885539Z",
     "iopub.status.busy": "2025-04-16T11:15:42.885171Z",
     "iopub.status.idle": "2025-04-16T11:15:42.891982Z",
     "shell.execute_reply": "2025-04-16T11:15:42.891142Z"
    },
    "papermill": {
     "duration": 0.027603,
     "end_time": "2025-04-16T11:15:42.893390",
     "exception": false,
     "start_time": "2025-04-16T11:15:42.865787",
     "status": "completed"
    },
    "tags": []
   },
   "outputs": [],
   "source": [
    "embark = pd.get_dummies(df['Embarked'], drop_first=True, dtype=int)\n",
    "df = pd.concat([df, embark], axis=1)   "
   ]
  },
  {
   "cell_type": "code",
   "execution_count": 32,
   "id": "5fe1475c",
   "metadata": {
    "execution": {
     "iopub.execute_input": "2025-04-16T11:15:42.929387Z",
     "iopub.status.busy": "2025-04-16T11:15:42.929052Z",
     "iopub.status.idle": "2025-04-16T11:15:42.934507Z",
     "shell.execute_reply": "2025-04-16T11:15:42.933559Z"
    },
    "papermill": {
     "duration": 0.025667,
     "end_time": "2025-04-16T11:15:42.936468",
     "exception": false,
     "start_time": "2025-04-16T11:15:42.910801",
     "status": "completed"
    },
    "tags": []
   },
   "outputs": [],
   "source": [
    "df.drop('Embarked', axis=1, inplace=True) "
   ]
  },
  {
   "cell_type": "markdown",
   "id": "7616bb80",
   "metadata": {
    "papermill": {
     "duration": 0.018812,
     "end_time": "2025-04-16T11:15:42.974314",
     "exception": false,
     "start_time": "2025-04-16T11:15:42.955502",
     "status": "completed"
    },
    "tags": []
   },
   "source": [
    "### 7. 🔍 **Combine Col SibSp with Col Parch to Create a New Variable: Family**  "
   ]
  },
  {
   "cell_type": "code",
   "execution_count": 33,
   "id": "0cbb16e2",
   "metadata": {
    "execution": {
     "iopub.execute_input": "2025-04-16T11:15:43.010108Z",
     "iopub.status.busy": "2025-04-16T11:15:43.009731Z",
     "iopub.status.idle": "2025-04-16T11:15:43.021797Z",
     "shell.execute_reply": "2025-04-16T11:15:43.020953Z"
    },
    "papermill": {
     "duration": 0.031834,
     "end_time": "2025-04-16T11:15:43.023444",
     "exception": false,
     "start_time": "2025-04-16T11:15:42.991610",
     "status": "completed"
    },
    "tags": []
   },
   "outputs": [
    {
     "data": {
      "text/html": [
       "<div>\n",
       "<style scoped>\n",
       "    .dataframe tbody tr th:only-of-type {\n",
       "        vertical-align: middle;\n",
       "    }\n",
       "\n",
       "    .dataframe tbody tr th {\n",
       "        vertical-align: top;\n",
       "    }\n",
       "\n",
       "    .dataframe thead th {\n",
       "        text-align: right;\n",
       "    }\n",
       "</style>\n",
       "<table border=\"1\" class=\"dataframe\">\n",
       "  <thead>\n",
       "    <tr style=\"text-align: right;\">\n",
       "      <th></th>\n",
       "      <th>Name</th>\n",
       "      <th>Ticket_Prefix</th>\n",
       "      <th>Pclass</th>\n",
       "      <th>Family</th>\n",
       "      <th>Survived</th>\n",
       "    </tr>\n",
       "  </thead>\n",
       "  <tbody>\n",
       "    <tr>\n",
       "      <th>159</th>\n",
       "      <td>Sage, Master. Thomas Henry</td>\n",
       "      <td>CA</td>\n",
       "      <td>3</td>\n",
       "      <td>10</td>\n",
       "      <td>0</td>\n",
       "    </tr>\n",
       "    <tr>\n",
       "      <th>180</th>\n",
       "      <td>Sage, Miss. Constance Gladys</td>\n",
       "      <td>CA</td>\n",
       "      <td>3</td>\n",
       "      <td>10</td>\n",
       "      <td>0</td>\n",
       "    </tr>\n",
       "    <tr>\n",
       "      <th>201</th>\n",
       "      <td>Sage, Mr. Frederick</td>\n",
       "      <td>CA</td>\n",
       "      <td>3</td>\n",
       "      <td>10</td>\n",
       "      <td>0</td>\n",
       "    </tr>\n",
       "    <tr>\n",
       "      <th>324</th>\n",
       "      <td>Sage, Mr. George John Jr</td>\n",
       "      <td>CA</td>\n",
       "      <td>3</td>\n",
       "      <td>10</td>\n",
       "      <td>0</td>\n",
       "    </tr>\n",
       "    <tr>\n",
       "      <th>792</th>\n",
       "      <td>Sage, Miss. Stella Anna</td>\n",
       "      <td>CA</td>\n",
       "      <td>3</td>\n",
       "      <td>10</td>\n",
       "      <td>0</td>\n",
       "    </tr>\n",
       "    <tr>\n",
       "      <th>846</th>\n",
       "      <td>Sage, Mr. Douglas Bullen</td>\n",
       "      <td>CA</td>\n",
       "      <td>3</td>\n",
       "      <td>10</td>\n",
       "      <td>0</td>\n",
       "    </tr>\n",
       "    <tr>\n",
       "      <th>863</th>\n",
       "      <td>Sage, Miss. Dorothy Edith \"Dolly\"</td>\n",
       "      <td>CA</td>\n",
       "      <td>3</td>\n",
       "      <td>10</td>\n",
       "      <td>0</td>\n",
       "    </tr>\n",
       "  </tbody>\n",
       "</table>\n",
       "</div>"
      ],
      "text/plain": [
       "                                  Name Ticket_Prefix  Pclass  Family  Survived\n",
       "159         Sage, Master. Thomas Henry            CA       3      10         0\n",
       "180       Sage, Miss. Constance Gladys            CA       3      10         0\n",
       "201                Sage, Mr. Frederick            CA       3      10         0\n",
       "324           Sage, Mr. George John Jr            CA       3      10         0\n",
       "792            Sage, Miss. Stella Anna            CA       3      10         0\n",
       "846           Sage, Mr. Douglas Bullen            CA       3      10         0\n",
       "863  Sage, Miss. Dorothy Edith \"Dolly\"            CA       3      10         0"
      ]
     },
     "execution_count": 33,
     "metadata": {},
     "output_type": "execute_result"
    }
   ],
   "source": [
    "df['Family'] = df['SibSp'] + df['Parch'] \n",
    "\n",
    "most_family = np.where(df['Family'] == max(df['Family'])) \n",
    "df[['Name', 'Ticket_Prefix', 'Pclass', 'Family', 'Survived']].loc[most_family]   "
   ]
  },
  {
   "cell_type": "code",
   "execution_count": 34,
   "id": "a71c814c",
   "metadata": {
    "execution": {
     "iopub.execute_input": "2025-04-16T11:15:43.060592Z",
     "iopub.status.busy": "2025-04-16T11:15:43.060248Z",
     "iopub.status.idle": "2025-04-16T11:15:43.065302Z",
     "shell.execute_reply": "2025-04-16T11:15:43.064478Z"
    },
    "papermill": {
     "duration": 0.02504,
     "end_time": "2025-04-16T11:15:43.066807",
     "exception": false,
     "start_time": "2025-04-16T11:15:43.041767",
     "status": "completed"
    },
    "tags": []
   },
   "outputs": [],
   "source": [
    "df.drop(['Ticket_Prefix'], axis=1, inplace=True)  "
   ]
  },
  {
   "cell_type": "code",
   "execution_count": 35,
   "id": "2bb6a97a",
   "metadata": {
    "execution": {
     "iopub.execute_input": "2025-04-16T11:15:43.103612Z",
     "iopub.status.busy": "2025-04-16T11:15:43.103270Z",
     "iopub.status.idle": "2025-04-16T11:15:43.108175Z",
     "shell.execute_reply": "2025-04-16T11:15:43.107336Z"
    },
    "papermill": {
     "duration": 0.024876,
     "end_time": "2025-04-16T11:15:43.109587",
     "exception": false,
     "start_time": "2025-04-16T11:15:43.084711",
     "status": "completed"
    },
    "tags": []
   },
   "outputs": [],
   "source": [
    "df.drop(['Name', 'Ticket', 'SibSp', 'Parch'], axis=1, inplace=True)  "
   ]
  },
  {
   "cell_type": "code",
   "execution_count": 36,
   "id": "dff30687",
   "metadata": {
    "execution": {
     "iopub.execute_input": "2025-04-16T11:15:43.146833Z",
     "iopub.status.busy": "2025-04-16T11:15:43.146506Z",
     "iopub.status.idle": "2025-04-16T11:15:43.156451Z",
     "shell.execute_reply": "2025-04-16T11:15:43.155304Z"
    },
    "papermill": {
     "duration": 0.030351,
     "end_time": "2025-04-16T11:15:43.158007",
     "exception": false,
     "start_time": "2025-04-16T11:15:43.127656",
     "status": "completed"
    },
    "tags": []
   },
   "outputs": [
    {
     "name": "stdout",
     "output_type": "stream",
     "text": [
      "<class 'pandas.core.frame.DataFrame'>\n",
      "RangeIndex: 891 entries, 0 to 890\n",
      "Data columns (total 12 columns):\n",
      " #   Column                  Non-Null Count  Dtype  \n",
      "---  ------                  --------------  -----  \n",
      " 0   Survived                891 non-null    int64  \n",
      " 1   Pclass                  891 non-null    int64  \n",
      " 2   Age                     891 non-null    float64\n",
      " 3   Fare                    891 non-null    float64\n",
      " 4   Sex                     891 non-null    int64  \n",
      " 5   Pclass_Prefix_Survival  891 non-null    float64\n",
      " 6   Ticket_IsNumeric        891 non-null    int64  \n",
      " 7   Ticket_Freq             891 non-null    int64  \n",
      " 8   Has_Cabin               891 non-null    int64  \n",
      " 9   Q                       891 non-null    int64  \n",
      " 10  S                       891 non-null    int64  \n",
      " 11  Family                  891 non-null    int64  \n",
      "dtypes: float64(3), int64(9)\n",
      "memory usage: 83.7 KB\n"
     ]
    }
   ],
   "source": [
    "df.info() "
   ]
  },
  {
   "cell_type": "markdown",
   "id": "f95b4b9f",
   "metadata": {
    "papermill": {
     "duration": 0.017815,
     "end_time": "2025-04-16T11:15:43.194558",
     "exception": false,
     "start_time": "2025-04-16T11:15:43.176743",
     "status": "completed"
    },
    "tags": []
   },
   "source": [
    "# 🎥   ***Data Visualization***   "
   ]
  },
  {
   "cell_type": "markdown",
   "id": "c7c8d2bd",
   "metadata": {
    "papermill": {
     "duration": 0.017474,
     "end_time": "2025-04-16T11:15:43.229827",
     "exception": false,
     "start_time": "2025-04-16T11:15:43.212353",
     "status": "completed"
    },
    "tags": []
   },
   "source": [
    "### 1. 🔍 **Survivial Rate Distribution**"
   ]
  },
  {
   "cell_type": "code",
   "execution_count": 37,
   "id": "4fa3ea1c",
   "metadata": {
    "execution": {
     "iopub.execute_input": "2025-04-16T11:15:43.266428Z",
     "iopub.status.busy": "2025-04-16T11:15:43.266081Z",
     "iopub.status.idle": "2025-04-16T11:15:43.429136Z",
     "shell.execute_reply": "2025-04-16T11:15:43.428147Z"
    },
    "papermill": {
     "duration": 0.183387,
     "end_time": "2025-04-16T11:15:43.430852",
     "exception": false,
     "start_time": "2025-04-16T11:15:43.247465",
     "status": "completed"
    },
    "tags": []
   },
   "outputs": [
    {
     "data": {
      "image/png": "[encoded data removed]",
      "text/plain": [
       "<Figure size 640x480 with 1 Axes>"
      ]
     },
     "metadata": {},
     "output_type": "display_data"
    }
   ],
   "source": [
    "df['Survived'].value_counts().plot(kind='pie',\n",
    "                                   startangle= 90, \n",
    "                                   autopct = '%1.1f%%') \n",
    "\n",
    "plt.ylabel('')\n",
    "plt.title('Distribution of Survival Rates')\n",
    "plt.show()   "
   ]
  },
  {
   "cell_type": "markdown",
   "id": "61033220",
   "metadata": {
    "papermill": {
     "duration": 0.017584,
     "end_time": "2025-04-16T11:15:43.466498",
     "exception": false,
     "start_time": "2025-04-16T11:15:43.448914",
     "status": "completed"
    },
    "tags": []
   },
   "source": [
    "### 2. 🔍 **Create a subplot that displays the count of survivors categorized by port of embarkation & Pclass**"
   ]
  },
  {
   "cell_type": "code",
   "execution_count": 38,
   "id": "adcc87a3",
   "metadata": {
    "execution": {
     "iopub.execute_input": "2025-04-16T11:15:43.504438Z",
     "iopub.status.busy": "2025-04-16T11:15:43.504104Z",
     "iopub.status.idle": "2025-04-16T11:15:43.508147Z",
     "shell.execute_reply": "2025-04-16T11:15:43.507158Z"
    },
    "papermill": {
     "duration": 0.025098,
     "end_time": "2025-04-16T11:15:43.509743",
     "exception": false,
     "start_time": "2025-04-16T11:15:43.484645",
     "status": "completed"
    },
    "tags": []
   },
   "outputs": [],
   "source": [
    "cate_cols = ['Q', 'S', 'Pclass'] \n",
    "target = 'Survived'  "
   ]
  },
  {
   "cell_type": "code",
   "execution_count": 39,
   "id": "9aec8d3a",
   "metadata": {
    "execution": {
     "iopub.execute_input": "2025-04-16T11:15:43.548282Z",
     "iopub.status.busy": "2025-04-16T11:15:43.547951Z",
     "iopub.status.idle": "2025-04-16T11:15:43.576816Z",
     "shell.execute_reply": "2025-04-16T11:15:43.575766Z"
    },
    "papermill": {
     "duration": 0.049669,
     "end_time": "2025-04-16T11:15:43.578435",
     "exception": false,
     "start_time": "2025-04-16T11:15:43.528766",
     "status": "completed"
    },
    "tags": []
   },
   "outputs": [
    {
     "data": {
      "text/plain": [
       "<Figure size 2500x1800 with 0 Axes>"
      ]
     },
     "metadata": {},
     "output_type": "display_data"
    }
   ],
   "source": [
    "fig = plt.figure(figsize = (25, len(cate_cols)*6))  "
   ]
  },
  {
   "cell_type": "code",
   "execution_count": 40,
   "id": "c84efb67",
   "metadata": {
    "execution": {
     "iopub.execute_input": "2025-04-16T11:15:43.617770Z",
     "iopub.status.busy": "2025-04-16T11:15:43.617394Z",
     "iopub.status.idle": "2025-04-16T11:15:44.198500Z",
     "shell.execute_reply": "2025-04-16T11:15:44.197506Z"
    },
    "papermill": {
     "duration": 0.602005,
     "end_time": "2025-04-16T11:15:44.200325",
     "exception": false,
     "start_time": "2025-04-16T11:15:43.598320",
     "status": "completed"
    },
    "tags": []
   },
   "outputs": [
    {
     "data": {
      "image/png": "[encoded data removed]",
      "text/plain": [
       "<Figure size 640x480 with 3 Axes>"
      ]
     },
     "metadata": {},
     "output_type": "display_data"
    }
   ],
   "source": [
    "for i, col in enumerate(cate_cols):\n",
    "    plt.subplot(len(cate_cols)//2 + len(cate_cols)%2, 2, i+1) \n",
    "    sns.countplot(x=col, hue=target, data=df) \n",
    "    plt.title(f'Count of Victims & Survivors Categorized by {col}', fontsize=8) \n",
    "    plt.ylim(0, df[col].value_counts().max()+10) \n",
    "    plt.ylabel('')\n",
    "\n",
    "\n",
    "plt.tight_layout() \n",
    "plt.show() \n"
   ]
  },
  {
   "cell_type": "markdown",
   "id": "fec186fd",
   "metadata": {
    "papermill": {
     "duration": 0.01922,
     "end_time": "2025-04-16T11:15:44.245254",
     "exception": false,
     "start_time": "2025-04-16T11:15:44.226034",
     "status": "completed"
    },
    "tags": []
   },
   "source": [
    "### 3. 🔍 **Create a histplot that displays the count of survivors categorized by Age**"
   ]
  },
  {
   "cell_type": "code",
   "execution_count": 41,
   "id": "fdc58ab0",
   "metadata": {
    "execution": {
     "iopub.execute_input": "2025-04-16T11:15:44.286828Z",
     "iopub.status.busy": "2025-04-16T11:15:44.286480Z",
     "iopub.status.idle": "2025-04-16T11:15:44.716860Z",
     "shell.execute_reply": "2025-04-16T11:15:44.715913Z"
    },
    "papermill": {
     "duration": 0.453532,
     "end_time": "2025-04-16T11:15:44.719048",
     "exception": false,
     "start_time": "2025-04-16T11:15:44.265516",
     "status": "completed"
    },
    "tags": []
   },
   "outputs": [
    {
     "data": {
      "image/png": "[encoded data removed]",
      "text/plain": [
       "<Figure size 640x480 with 1 Axes>"
      ]
     },
     "metadata": {},
     "output_type": "display_data"
    }
   ],
   "source": [
    "sns.histplot(data=df,\n",
    "             x='Age', \n",
    "             hue='Survived', \n",
    "             bins=30,\n",
    "             kde=True) \n",
    "\n",
    "plt.title('Age Distribution of Titanic Victims & Survivors')\n",
    "plt.show()"
   ]
  },
  {
   "cell_type": "markdown",
   "id": "91135c74",
   "metadata": {
    "papermill": {
     "duration": 0.026771,
     "end_time": "2025-04-16T11:15:44.773713",
     "exception": false,
     "start_time": "2025-04-16T11:15:44.746942",
     "status": "completed"
    },
    "tags": []
   },
   "source": [
    "### 4. 🔍 **Create a Barplot that Displays Survived Distribution Categorized by Sex in Three Pclasses**"
   ]
  },
  {
   "cell_type": "code",
   "execution_count": 42,
   "id": "e98872dd",
   "metadata": {
    "execution": {
     "iopub.execute_input": "2025-04-16T11:15:44.815903Z",
     "iopub.status.busy": "2025-04-16T11:15:44.815531Z",
     "iopub.status.idle": "2025-04-16T11:15:45.149175Z",
     "shell.execute_reply": "2025-04-16T11:15:45.148164Z"
    },
    "papermill": {
     "duration": 0.356714,
     "end_time": "2025-04-16T11:15:45.151189",
     "exception": false,
     "start_time": "2025-04-16T11:15:44.794475",
     "status": "completed"
    },
    "tags": []
   },
   "outputs": [
    {
     "data": {
      "image/png": "[encoded data removed]",
      "text/plain": [
       "<Figure size 640x480 with 1 Axes>"
      ]
     },
     "metadata": {},
     "output_type": "display_data"
    }
   ],
   "source": [
    "sns.barplot(x='Pclass',\n",
    "            y = 'Survived', \n",
    "            hue = 'Sex', \n",
    "            data = df) \n",
    "\n",
    "plt.title('Survived Distribution by Sex in Three Pclasses') \n",
    "plt.show() "
   ]
  },
  {
   "cell_type": "markdown",
   "id": "0c509422",
   "metadata": {
    "papermill": {
     "duration": 0.020362,
     "end_time": "2025-04-16T11:15:45.192904",
     "exception": false,
     "start_time": "2025-04-16T11:15:45.172542",
     "status": "completed"
    },
    "tags": []
   },
   "source": [
    "# 🤖   ***Machine Learning***   "
   ]
  },
  {
   "cell_type": "markdown",
   "id": "12782c66",
   "metadata": {
    "papermill": {
     "duration": 0.020221,
     "end_time": "2025-04-16T11:15:45.233446",
     "exception": false,
     "start_time": "2025-04-16T11:15:45.213225",
     "status": "completed"
    },
    "tags": []
   },
   "source": [
    "### 1. 🔍 **Modeling — Logistic Regression** "
   ]
  },
  {
   "cell_type": "code",
   "execution_count": 43,
   "id": "b9b358ce",
   "metadata": {
    "execution": {
     "iopub.execute_input": "2025-04-16T11:15:45.275856Z",
     "iopub.status.busy": "2025-04-16T11:15:45.275511Z",
     "iopub.status.idle": "2025-04-16T11:15:45.285529Z",
     "shell.execute_reply": "2025-04-16T11:15:45.284337Z"
    },
    "papermill": {
     "duration": 0.033228,
     "end_time": "2025-04-16T11:15:45.287197",
     "exception": false,
     "start_time": "2025-04-16T11:15:45.253969",
     "status": "completed"
    },
    "tags": []
   },
   "outputs": [
    {
     "name": "stdout",
     "output_type": "stream",
     "text": [
      "<class 'pandas.core.frame.DataFrame'>\n",
      "RangeIndex: 891 entries, 0 to 890\n",
      "Data columns (total 12 columns):\n",
      " #   Column                  Non-Null Count  Dtype  \n",
      "---  ------                  --------------  -----  \n",
      " 0   Survived                891 non-null    int64  \n",
      " 1   Pclass                  891 non-null    int64  \n",
      " 2   Age                     891 non-null    float64\n",
      " 3   Fare                    891 non-null    float64\n",
      " 4   Sex                     891 non-null    int64  \n",
      " 5   Pclass_Prefix_Survival  891 non-null    float64\n",
      " 6   Ticket_IsNumeric        891 non-null    int64  \n",
      " 7   Ticket_Freq             891 non-null    int64  \n",
      " 8   Has_Cabin               891 non-null    int64  \n",
      " 9   Q                       891 non-null    int64  \n",
      " 10  S                       891 non-null    int64  \n",
      " 11  Family                  891 non-null    int64  \n",
      "dtypes: float64(3), int64(9)\n",
      "memory usage: 83.7 KB\n"
     ]
    }
   ],
   "source": [
    "df.info() "
   ]
  },
  {
   "cell_type": "code",
   "execution_count": 44,
   "id": "5d10f655",
   "metadata": {
    "execution": {
     "iopub.execute_input": "2025-04-16T11:15:45.330424Z",
     "iopub.status.busy": "2025-04-16T11:15:45.330069Z",
     "iopub.status.idle": "2025-04-16T11:15:45.335839Z",
     "shell.execute_reply": "2025-04-16T11:15:45.334824Z"
    },
    "papermill": {
     "duration": 0.029229,
     "end_time": "2025-04-16T11:15:45.337552",
     "exception": false,
     "start_time": "2025-04-16T11:15:45.308323",
     "status": "completed"
    },
    "tags": []
   },
   "outputs": [
    {
     "data": {
      "text/plain": [
       "Index(['Survived', 'Pclass', 'Age', 'Fare', 'Sex', 'Pclass_Prefix_Survival',\n",
       "       'Ticket_IsNumeric', 'Ticket_Freq', 'Has_Cabin', 'Q', 'S', 'Family'],\n",
       "      dtype='object')"
      ]
     },
     "execution_count": 44,
     "metadata": {},
     "output_type": "execute_result"
    }
   ],
   "source": [
    "df.columns"
   ]
  },
  {
   "cell_type": "code",
   "execution_count": 45,
   "id": "5b3e95e9",
   "metadata": {
    "execution": {
     "iopub.execute_input": "2025-04-16T11:15:45.381314Z",
     "iopub.status.busy": "2025-04-16T11:15:45.380990Z",
     "iopub.status.idle": "2025-04-16T11:15:45.386005Z",
     "shell.execute_reply": "2025-04-16T11:15:45.384966Z"
    },
    "papermill": {
     "duration": 0.028546,
     "end_time": "2025-04-16T11:15:45.387523",
     "exception": false,
     "start_time": "2025-04-16T11:15:45.358977",
     "status": "completed"
    },
    "tags": []
   },
   "outputs": [],
   "source": [
    "X = df.drop('Survived', axis=1)\n",
    "y = df['Survived']"
   ]
  },
  {
   "cell_type": "code",
   "execution_count": 46,
   "id": "3f4a8f75",
   "metadata": {
    "execution": {
     "iopub.execute_input": "2025-04-16T11:15:45.431792Z",
     "iopub.status.busy": "2025-04-16T11:15:45.431473Z",
     "iopub.status.idle": "2025-04-16T11:15:45.437783Z",
     "shell.execute_reply": "2025-04-16T11:15:45.436981Z"
    },
    "papermill": {
     "duration": 0.03029,
     "end_time": "2025-04-16T11:15:45.439416",
     "exception": false,
     "start_time": "2025-04-16T11:15:45.409126",
     "status": "completed"
    },
    "tags": []
   },
   "outputs": [],
   "source": [
    "X_train, X_test, y_train, y_test = train_test_split( X, y, test_size=0.3, random_state=42)"
   ]
  },
  {
   "cell_type": "code",
   "execution_count": 47,
   "id": "8cceab3e",
   "metadata": {
    "execution": {
     "iopub.execute_input": "2025-04-16T11:15:45.483765Z",
     "iopub.status.busy": "2025-04-16T11:15:45.483436Z",
     "iopub.status.idle": "2025-04-16T11:15:45.527982Z",
     "shell.execute_reply": "2025-04-16T11:15:45.526690Z"
    },
    "papermill": {
     "duration": 0.068905,
     "end_time": "2025-04-16T11:15:45.529548",
     "exception": false,
     "start_time": "2025-04-16T11:15:45.460643",
     "status": "completed"
    },
    "tags": []
   },
   "outputs": [
    {
     "data": {
      "text/html": [
       "<style>#sk-container-id-1 {color: black;background-color: white;}#sk-container-id-1 pre{padding: 0;}#sk-container-id-1 div.sk-toggleable {background-color: white;}#sk-container-id-1 label.sk-toggleable__label {cursor: pointer;display: block;width: 100%;margin-bottom: 0;padding: 0.3em;box-sizing: border-box;text-align: center;}#sk-container-id-1 label.sk-toggleable__label-arrow:before {content: \"▸\";float: left;margin-right: 0.25em;color: #696969;}#sk-container-id-1 label.sk-toggleable__label-arrow:hover:before {color: black;}#sk-container-id-1 div.sk-estimator:hover label.sk-toggleable__label-arrow:before {color: black;}#sk-container-id-1 div.sk-toggleable__content {max-height: 0;max-width: 0;overflow: hidden;text-align: left;background-color: #f0f8ff;}#sk-container-id-1 div.sk-toggleable__content pre {margin: 0.2em;color: black;border-radius: 0.25em;background-color: #f0f8ff;}#sk-container-id-1 input.sk-toggleable__control:checked~div.sk-toggleable__content {max-height: 200px;max-width: 100%;overflow: auto;}#sk-container-id-1 input.sk-toggleable__control:checked~label.sk-toggleable__label-arrow:before {content: \"▾\";}#sk-container-id-1 div.sk-estimator input.sk-toggleable__control:checked~label.sk-toggleable__label {background-color: #d4ebff;}#sk-container-id-1 div.sk-label input.sk-toggleable__control:checked~label.sk-toggleable__label {background-color: #d4ebff;}#sk-container-id-1 input.sk-hidden--visually {border: 0;clip: rect(1px 1px 1px 1px);clip: rect(1px, 1px, 1px, 1px);height: 1px;margin: -1px;overflow: hidden;padding: 0;position: absolute;width: 1px;}#sk-container-id-1 div.sk-estimator {font-family: monospace;background-color: #f0f8ff;border: 1px dotted black;border-radius: 0.25em;box-sizing: border-box;margin-bottom: 0.5em;}#sk-container-id-1 div.sk-estimator:hover {background-color: #d4ebff;}#sk-container-id-1 div.sk-parallel-item::after {content: \"\";width: 100%;border-bottom: 1px solid gray;flex-grow: 1;}#sk-container-id-1 div.sk-label:hover label.sk-toggleable__label {background-color: #d4ebff;}#sk-container-id-1 div.sk-serial::before {content: \"\";position: absolute;border-left: 1px solid gray;box-sizing: border-box;top: 0;bottom: 0;left: 50%;z-index: 0;}#sk-container-id-1 div.sk-serial {display: flex;flex-direction: column;align-items: center;background-color: white;padding-right: 0.2em;padding-left: 0.2em;position: relative;}#sk-container-id-1 div.sk-item {position: relative;z-index: 1;}#sk-container-id-1 div.sk-parallel {display: flex;align-items: stretch;justify-content: center;background-color: white;position: relative;}#sk-container-id-1 div.sk-item::before, #sk-container-id-1 div.sk-parallel-item::before {content: \"\";position: absolute;border-left: 1px solid gray;box-sizing: border-box;top: 0;bottom: 0;left: 50%;z-index: -1;}#sk-container-id-1 div.sk-parallel-item {display: flex;flex-direction: column;z-index: 1;position: relative;background-color: white;}#sk-container-id-1 div.sk-parallel-item:first-child::after {align-self: flex-end;width: 50%;}#sk-container-id-1 div.sk-parallel-item:last-child::after {align-self: flex-start;width: 50%;}#sk-container-id-1 div.sk-parallel-item:only-child::after {width: 0;}#sk-container-id-1 div.sk-dashed-wrapped {border: 1px dashed gray;margin: 0 0.4em 0.5em 0.4em;box-sizing: border-box;padding-bottom: 0.4em;background-color: white;}#sk-container-id-1 div.sk-label label {font-family: monospace;font-weight: bold;display: inline-block;line-height: 1.2em;}#sk-container-id-1 div.sk-label-container {text-align: center;}#sk-container-id-1 div.sk-container {/* jupyter's `normalize.less` sets `[hidden] { display: none; }` but bootstrap.min.css set `[hidden] { display: none !important; }` so we also need the `!important` here to be able to override the default hidden behavior on the sphinx rendered scikit-learn.org. See: https://github.com/scikit-learn/scikit-learn/issues/21755 */display: inline-block !important;position: relative;}#sk-container-id-1 div.sk-text-repr-fallback {display: none;}</style><div id=\"sk-container-id-1\" class=\"sk-top-container\"><div class=\"sk-text-repr-fallback\"><pre>LogisticRegression()</pre><b>In a Jupyter environment, please rerun this cell to show the HTML representation or trust the notebook. <br />On GitHub, the HTML representation is unable to render, please try loading this page with nbviewer.org.</b></div><div class=\"sk-container\" hidden><div class=\"sk-item\"><div class=\"sk-estimator sk-toggleable\"><input class=\"sk-toggleable__control sk-hidden--visually\" id=\"sk-estimator-id-1\" type=\"checkbox\" checked><label for=\"sk-estimator-id-1\" class=\"sk-toggleable__label sk-toggleable__label-arrow\">LogisticRegression</label><div class=\"sk-toggleable__content\"><pre>LogisticRegression()</pre></div></div></div></div></div>"
      ],
      "text/plain": [
       "LogisticRegression()"
      ]
     },
     "execution_count": 47,
     "metadata": {},
     "output_type": "execute_result"
    }
   ],
   "source": [
    "log_model = LogisticRegression () \n",
    "log_model.fit(X_train, y_train)  "
   ]
  },
  {
   "cell_type": "markdown",
   "id": "939c9c18",
   "metadata": {
    "papermill": {
     "duration": 0.020862,
     "end_time": "2025-04-16T11:15:45.574428",
     "exception": false,
     "start_time": "2025-04-16T11:15:45.553566",
     "status": "completed"
    },
    "tags": []
   },
   "source": [
    "### 2. 🔍 **Prediction**"
   ]
  },
  {
   "cell_type": "code",
   "execution_count": 48,
   "id": "9a9476c7",
   "metadata": {
    "execution": {
     "iopub.execute_input": "2025-04-16T11:15:45.620142Z",
     "iopub.status.busy": "2025-04-16T11:15:45.619723Z",
     "iopub.status.idle": "2025-04-16T11:15:45.625772Z",
     "shell.execute_reply": "2025-04-16T11:15:45.624948Z"
    },
    "papermill": {
     "duration": 0.029732,
     "end_time": "2025-04-16T11:15:45.627277",
     "exception": false,
     "start_time": "2025-04-16T11:15:45.597545",
     "status": "completed"
    },
    "tags": []
   },
   "outputs": [],
   "source": [
    "predictions = log_model.predict(X_test) "
   ]
  },
  {
   "cell_type": "markdown",
   "id": "09545e29",
   "metadata": {
    "papermill": {
     "duration": 0.02071,
     "end_time": "2025-04-16T11:15:45.669804",
     "exception": false,
     "start_time": "2025-04-16T11:15:45.649094",
     "status": "completed"
    },
    "tags": []
   },
   "source": [
    "### 3. 🔍 **Evaluation**"
   ]
  },
  {
   "cell_type": "code",
   "execution_count": 49,
   "id": "a9f60836",
   "metadata": {
    "execution": {
     "iopub.execute_input": "2025-04-16T11:15:45.712716Z",
     "iopub.status.busy": "2025-04-16T11:15:45.712391Z",
     "iopub.status.idle": "2025-04-16T11:15:45.727303Z",
     "shell.execute_reply": "2025-04-16T11:15:45.725950Z"
    },
    "papermill": {
     "duration": 0.038329,
     "end_time": "2025-04-16T11:15:45.728955",
     "exception": false,
     "start_time": "2025-04-16T11:15:45.690626",
     "status": "completed"
    },
    "tags": []
   },
   "outputs": [
    {
     "name": "stdout",
     "output_type": "stream",
     "text": [
      "[[137  20]\n",
      " [ 27  84]]\n",
      "\n",
      "\n",
      "              precision    recall  f1-score   support\n",
      "\n",
      "           0       0.84      0.87      0.85       157\n",
      "           1       0.81      0.76      0.78       111\n",
      "\n",
      "    accuracy                           0.82       268\n",
      "   macro avg       0.82      0.81      0.82       268\n",
      "weighted avg       0.82      0.82      0.82       268\n",
      "\n"
     ]
    }
   ],
   "source": [
    "print(confusion_matrix(y_test, predictions))   \n",
    "print('\\n')\n",
    "print(classification_report(y_test, predictions))  "
   ]
  }
 ],
 "metadata": {
  "kaggle": {
   "accelerator": "none",
   "dataSources": [
    {
     "datasetId": 7093056,
     "sourceId": 11338283,
     "sourceType": "datasetVersion"
    }
   ],
   "dockerImageVersionId": 30918,
   "isGpuEnabled": false,
   "isInternetEnabled": true,
   "language": "python",
   "sourceType": "notebook"
  },
  "kernelspec": {
   "display_name": "Python 3",
   "language": "python",
   "name": "python3"
  },
  "language_info": {
   "codemirror_mode": {
    "name": "ipython",
    "version": 3
   },
   "file_extension": ".py",
   "mimetype": "text/x-python",
   "name": "python",
   "nbconvert_exporter": "python",
   "pygments_lexer": "ipython3",
   "version": "3.10.12"
  },
  "papermill": {
   "default_parameters": {},
   "duration": 16.859817,
   "end_time": "2025-04-16T11:15:46.671147",
   "environment_variables": {},
   "exception": null,
   "input_path": "__notebook__.ipynb",
   "output_path": "__notebook__.ipynb",
   "parameters": {},
   "start_time": "2025-04-16T11:15:29.811330",
   "version": "2.6.0"
  }
 },
 "nbformat": 4,
 "nbformat_minor": 5
}
