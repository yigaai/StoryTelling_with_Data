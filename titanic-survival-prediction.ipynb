{
 "cells": [
  {
   "cell_type": "markdown",
   "id": "15c80c5a",
   "metadata": {
    "papermill": {
     "duration": 0.017992,
     "end_time": "2025-04-13T14:17:51.102045",
     "exception": false,
     "start_time": "2025-04-13T14:17:51.084053",
     "status": "completed"
    },
    "tags": []
   },
   "source": [
    "   # 🛳️ **Titanic Survival Prediction**  \n",
    "\n",
    "   ###   👩🏻‍💻 By Rosy  "
   ]
  },
  {
   "cell_type": "markdown",
   "id": "7c1d98ab",
   "metadata": {
    "papermill": {
     "duration": 0.02044,
     "end_time": "2025-04-13T14:17:51.137054",
     "exception": false,
     "start_time": "2025-04-13T14:17:51.116614",
     "status": "completed"
    },
    "tags": []
   },
   "source": [
    "# ***🎯 Goals & Tasks:*** \n",
    "\n",
    "* 1. Provide insight by means of data. "
   ]
  },
  {
   "cell_type": "markdown",
   "id": "7ae65bf7",
   "metadata": {
    "papermill": {
     "duration": 0.014698,
     "end_time": "2025-04-13T14:17:51.167246",
     "exception": false,
     "start_time": "2025-04-13T14:17:51.152548",
     "status": "completed"
    },
    "tags": []
   },
   "source": [
    "# ***🗂️ Import Libraries*** "
   ]
  },
  {
   "cell_type": "code",
   "execution_count": 1,
   "id": "5fe72481",
   "metadata": {
    "execution": {
     "iopub.execute_input": "2025-04-13T14:17:51.198936Z",
     "iopub.status.busy": "2025-04-13T14:17:51.198515Z",
     "iopub.status.idle": "2025-04-13T14:17:56.632260Z",
     "shell.execute_reply": "2025-04-13T14:17:56.631162Z"
    },
    "papermill": {
     "duration": 5.451357,
     "end_time": "2025-04-13T14:17:56.634460",
     "exception": false,
     "start_time": "2025-04-13T14:17:51.183103",
     "status": "completed"
    },
    "tags": []
   },
   "outputs": [],
   "source": [
    "import os\n",
    "\n",
    "import pandas as pd\n",
    "import numpy as np\n",
    "\n",
    "\n",
    "import matplotlib.pyplot as plt\n",
    "import seaborn as sns\n",
    "import plotly.express as px\n",
    "\n",
    "\n",
    "from sklearn.preprocessing import StandardScaler, LabelEncoder, MinMaxScaler\n",
    "\n",
    "\n",
    "from sklearn.model_selection import train_test_split, GridSearchCV, cross_val_score\n",
    "\n",
    "from sklearn.linear_model import LogisticRegression\n",
    "from sklearn.neighbors import KNeighborsClassifier\n",
    "from sklearn.svm import SVC\n",
    "from sklearn.tree import DecisionTreeClassifier\n",
    "from sklearn.ensemble import RandomForestClassifier, AdaBoostClassifier, GradientBoostingClassifier, RandomForestRegressor\n",
    "from xgboost import XGBClassifier\n",
    "#metrics\n",
    "from sklearn.metrics import accuracy_score, f1_score, precision_score, recall_score\n",
    "\n",
    "\n",
    "import warnings \n",
    "warnings.filterwarnings('ignore') "
   ]
  },
  {
   "cell_type": "markdown",
   "id": "00077b34",
   "metadata": {
    "papermill": {
     "duration": 0.012659,
     "end_time": "2025-04-13T14:17:56.660519",
     "exception": false,
     "start_time": "2025-04-13T14:17:56.647860",
     "status": "completed"
    },
    "tags": []
   },
   "source": [
    "# ***⏳ Data Loading*** "
   ]
  },
  {
   "cell_type": "code",
   "execution_count": 2,
   "id": "9a8f9292",
   "metadata": {
    "execution": {
     "iopub.execute_input": "2025-04-13T14:17:56.690338Z",
     "iopub.status.busy": "2025-04-13T14:17:56.689693Z",
     "iopub.status.idle": "2025-04-13T14:17:56.715152Z",
     "shell.execute_reply": "2025-04-13T14:17:56.713668Z"
    },
    "papermill": {
     "duration": 0.041951,
     "end_time": "2025-04-13T14:17:56.717223",
     "exception": false,
     "start_time": "2025-04-13T14:17:56.675272",
     "status": "completed"
    },
    "tags": []
   },
   "outputs": [],
   "source": [
    "os.listdir('/kaggle/input/titanic-data')  \n",
    "df = pd.read_csv('/kaggle/input/titanic-data/train.csv') "
   ]
  },
  {
   "cell_type": "markdown",
   "id": "9896402b",
   "metadata": {
    "papermill": {
     "duration": 0.012623,
     "end_time": "2025-04-13T14:17:56.742843",
     "exception": false,
     "start_time": "2025-04-13T14:17:56.730220",
     "status": "completed"
    },
    "tags": []
   },
   "source": [
    "# ***🔭 Data Exploration***  "
   ]
  },
  {
   "cell_type": "markdown",
   "id": "71d7d37f",
   "metadata": {
    "papermill": {
     "duration": 0.012565,
     "end_time": "2025-04-13T14:17:56.768325",
     "exception": false,
     "start_time": "2025-04-13T14:17:56.755760",
     "status": "completed"
    },
    "tags": []
   },
   "source": [
    "### 1. 🔍 **Take a Glimpse of Data**"
   ]
  },
  {
   "cell_type": "code",
   "execution_count": 3,
   "id": "e17ce030",
   "metadata": {
    "execution": {
     "iopub.execute_input": "2025-04-13T14:17:56.797032Z",
     "iopub.status.busy": "2025-04-13T14:17:56.796592Z",
     "iopub.status.idle": "2025-04-13T14:17:56.831782Z",
     "shell.execute_reply": "2025-04-13T14:17:56.830408Z"
    },
    "papermill": {
     "duration": 0.051665,
     "end_time": "2025-04-13T14:17:56.833886",
     "exception": false,
     "start_time": "2025-04-13T14:17:56.782221",
     "status": "completed"
    },
    "tags": []
   },
   "outputs": [
    {
     "data": {
      "text/html": [
       "<div>\n",
       "<style scoped>\n",
       "    .dataframe tbody tr th:only-of-type {\n",
       "        vertical-align: middle;\n",
       "    }\n",
       "\n",
       "    .dataframe tbody tr th {\n",
       "        vertical-align: top;\n",
       "    }\n",
       "\n",
       "    .dataframe thead th {\n",
       "        text-align: right;\n",
       "    }\n",
       "</style>\n",
       "<table border=\"1\" class=\"dataframe\">\n",
       "  <thead>\n",
       "    <tr style=\"text-align: right;\">\n",
       "      <th></th>\n",
       "      <th>PassengerId</th>\n",
       "      <th>Survived</th>\n",
       "      <th>Pclass</th>\n",
       "      <th>Name</th>\n",
       "      <th>Sex</th>\n",
       "      <th>Age</th>\n",
       "      <th>SibSp</th>\n",
       "      <th>Parch</th>\n",
       "      <th>Ticket</th>\n",
       "      <th>Fare</th>\n",
       "      <th>Cabin</th>\n",
       "      <th>Embarked</th>\n",
       "    </tr>\n",
       "  </thead>\n",
       "  <tbody>\n",
       "    <tr>\n",
       "      <th>0</th>\n",
       "      <td>1</td>\n",
       "      <td>0</td>\n",
       "      <td>3</td>\n",
       "      <td>Braund, Mr. Owen Harris</td>\n",
       "      <td>male</td>\n",
       "      <td>22.0</td>\n",
       "      <td>1</td>\n",
       "      <td>0</td>\n",
       "      <td>A/5 21171</td>\n",
       "      <td>7.2500</td>\n",
       "      <td>NaN</td>\n",
       "      <td>S</td>\n",
       "    </tr>\n",
       "    <tr>\n",
       "      <th>1</th>\n",
       "      <td>2</td>\n",
       "      <td>1</td>\n",
       "      <td>1</td>\n",
       "      <td>Cumings, Mrs. John Bradley (Florence Briggs Th...</td>\n",
       "      <td>female</td>\n",
       "      <td>38.0</td>\n",
       "      <td>1</td>\n",
       "      <td>0</td>\n",
       "      <td>PC 17599</td>\n",
       "      <td>71.2833</td>\n",
       "      <td>C85</td>\n",
       "      <td>C</td>\n",
       "    </tr>\n",
       "    <tr>\n",
       "      <th>2</th>\n",
       "      <td>3</td>\n",
       "      <td>1</td>\n",
       "      <td>3</td>\n",
       "      <td>Heikkinen, Miss. Laina</td>\n",
       "      <td>female</td>\n",
       "      <td>26.0</td>\n",
       "      <td>0</td>\n",
       "      <td>0</td>\n",
       "      <td>STON/O2. 3101282</td>\n",
       "      <td>7.9250</td>\n",
       "      <td>NaN</td>\n",
       "      <td>S</td>\n",
       "    </tr>\n",
       "    <tr>\n",
       "      <th>3</th>\n",
       "      <td>4</td>\n",
       "      <td>1</td>\n",
       "      <td>1</td>\n",
       "      <td>Futrelle, Mrs. Jacques Heath (Lily May Peel)</td>\n",
       "      <td>female</td>\n",
       "      <td>35.0</td>\n",
       "      <td>1</td>\n",
       "      <td>0</td>\n",
       "      <td>113803</td>\n",
       "      <td>53.1000</td>\n",
       "      <td>C123</td>\n",
       "      <td>S</td>\n",
       "    </tr>\n",
       "    <tr>\n",
       "      <th>4</th>\n",
       "      <td>5</td>\n",
       "      <td>0</td>\n",
       "      <td>3</td>\n",
       "      <td>Allen, Mr. William Henry</td>\n",
       "      <td>male</td>\n",
       "      <td>35.0</td>\n",
       "      <td>0</td>\n",
       "      <td>0</td>\n",
       "      <td>373450</td>\n",
       "      <td>8.0500</td>\n",
       "      <td>NaN</td>\n",
       "      <td>S</td>\n",
       "    </tr>\n",
       "  </tbody>\n",
       "</table>\n",
       "</div>"
      ],
      "text/plain": [
       "   PassengerId  Survived  Pclass  \\\n",
       "0            1         0       3   \n",
       "1            2         1       1   \n",
       "2            3         1       3   \n",
       "3            4         1       1   \n",
       "4            5         0       3   \n",
       "\n",
       "                                                Name     Sex   Age  SibSp  \\\n",
       "0                            Braund, Mr. Owen Harris    male  22.0      1   \n",
       "1  Cumings, Mrs. John Bradley (Florence Briggs Th...  female  38.0      1   \n",
       "2                             Heikkinen, Miss. Laina  female  26.0      0   \n",
       "3       Futrelle, Mrs. Jacques Heath (Lily May Peel)  female  35.0      1   \n",
       "4                           Allen, Mr. William Henry    male  35.0      0   \n",
       "\n",
       "   Parch            Ticket     Fare Cabin Embarked  \n",
       "0      0         A/5 21171   7.2500   NaN        S  \n",
       "1      0          PC 17599  71.2833   C85        C  \n",
       "2      0  STON/O2. 3101282   7.9250   NaN        S  \n",
       "3      0            113803  53.1000  C123        S  \n",
       "4      0            373450   8.0500   NaN        S  "
      ]
     },
     "execution_count": 3,
     "metadata": {},
     "output_type": "execute_result"
    }
   ],
   "source": [
    "df.head(5) "
   ]
  },
  {
   "cell_type": "markdown",
   "id": "da98aca4",
   "metadata": {
    "papermill": {
     "duration": 0.015903,
     "end_time": "2025-04-13T14:17:56.864961",
     "exception": false,
     "start_time": "2025-04-13T14:17:56.849058",
     "status": "completed"
    },
    "tags": []
   },
   "source": [
    "### 2. 🔍 **DataType of Each Column**"
   ]
  },
  {
   "cell_type": "code",
   "execution_count": 4,
   "id": "a46690d8",
   "metadata": {
    "execution": {
     "iopub.execute_input": "2025-04-13T14:17:56.893740Z",
     "iopub.status.busy": "2025-04-13T14:17:56.893296Z",
     "iopub.status.idle": "2025-04-13T14:17:56.924488Z",
     "shell.execute_reply": "2025-04-13T14:17:56.922772Z"
    },
    "papermill": {
     "duration": 0.04802,
     "end_time": "2025-04-13T14:17:56.926778",
     "exception": false,
     "start_time": "2025-04-13T14:17:56.878758",
     "status": "completed"
    },
    "tags": []
   },
   "outputs": [
    {
     "name": "stdout",
     "output_type": "stream",
     "text": [
      "<class 'pandas.core.frame.DataFrame'>\n",
      "RangeIndex: 891 entries, 0 to 890\n",
      "Data columns (total 12 columns):\n",
      " #   Column       Non-Null Count  Dtype  \n",
      "---  ------       --------------  -----  \n",
      " 0   PassengerId  891 non-null    int64  \n",
      " 1   Survived     891 non-null    int64  \n",
      " 2   Pclass       891 non-null    int64  \n",
      " 3   Name         891 non-null    object \n",
      " 4   Sex          891 non-null    object \n",
      " 5   Age          714 non-null    float64\n",
      " 6   SibSp        891 non-null    int64  \n",
      " 7   Parch        891 non-null    int64  \n",
      " 8   Ticket       891 non-null    object \n",
      " 9   Fare         891 non-null    float64\n",
      " 10  Cabin        204 non-null    object \n",
      " 11  Embarked     889 non-null    object \n",
      "dtypes: float64(2), int64(5), object(5)\n",
      "memory usage: 83.7+ KB\n"
     ]
    }
   ],
   "source": [
    "df.info() "
   ]
  },
  {
   "cell_type": "markdown",
   "id": "507fe666",
   "metadata": {
    "papermill": {
     "duration": 0.013552,
     "end_time": "2025-04-13T14:17:56.954365",
     "exception": false,
     "start_time": "2025-04-13T14:17:56.940813",
     "status": "completed"
    },
    "tags": []
   },
   "source": [
    "### 3. 🔍 **Dimensions of the DataFrame**"
   ]
  },
  {
   "cell_type": "code",
   "execution_count": 5,
   "id": "dd9e56d1",
   "metadata": {
    "execution": {
     "iopub.execute_input": "2025-04-13T14:17:56.982969Z",
     "iopub.status.busy": "2025-04-13T14:17:56.982510Z",
     "iopub.status.idle": "2025-04-13T14:17:56.989084Z",
     "shell.execute_reply": "2025-04-13T14:17:56.987450Z"
    },
    "papermill": {
     "duration": 0.022822,
     "end_time": "2025-04-13T14:17:56.991102",
     "exception": false,
     "start_time": "2025-04-13T14:17:56.968280",
     "status": "completed"
    },
    "tags": []
   },
   "outputs": [
    {
     "name": "stdout",
     "output_type": "stream",
     "text": [
      "Rows: 891\n",
      "Columns: 12\n"
     ]
    }
   ],
   "source": [
    "print(f'Rows: {df.shape[0]}')\n",
    "print(f'Columns: {df.shape[1]}')  "
   ]
  },
  {
   "cell_type": "markdown",
   "id": "f0bdb021",
   "metadata": {
    "papermill": {
     "duration": 0.013162,
     "end_time": "2025-04-13T14:17:57.018198",
     "exception": false,
     "start_time": "2025-04-13T14:17:57.005036",
     "status": "completed"
    },
    "tags": []
   },
   "source": [
    "### 4. 🔍 **Descriptive Statistics for numerical & categorical variables**"
   ]
  },
  {
   "cell_type": "code",
   "execution_count": 6,
   "id": "72b19288",
   "metadata": {
    "execution": {
     "iopub.execute_input": "2025-04-13T14:17:57.046440Z",
     "iopub.status.busy": "2025-04-13T14:17:57.045995Z",
     "iopub.status.idle": "2025-04-13T14:17:57.079497Z",
     "shell.execute_reply": "2025-04-13T14:17:57.077939Z"
    },
    "papermill": {
     "duration": 0.050544,
     "end_time": "2025-04-13T14:17:57.082013",
     "exception": false,
     "start_time": "2025-04-13T14:17:57.031469",
     "status": "completed"
    },
    "tags": []
   },
   "outputs": [
    {
     "data": {
      "text/html": [
       "<div>\n",
       "<style scoped>\n",
       "    .dataframe tbody tr th:only-of-type {\n",
       "        vertical-align: middle;\n",
       "    }\n",
       "\n",
       "    .dataframe tbody tr th {\n",
       "        vertical-align: top;\n",
       "    }\n",
       "\n",
       "    .dataframe thead th {\n",
       "        text-align: right;\n",
       "    }\n",
       "</style>\n",
       "<table border=\"1\" class=\"dataframe\">\n",
       "  <thead>\n",
       "    <tr style=\"text-align: right;\">\n",
       "      <th></th>\n",
       "      <th>PassengerId</th>\n",
       "      <th>Survived</th>\n",
       "      <th>Pclass</th>\n",
       "      <th>Age</th>\n",
       "      <th>SibSp</th>\n",
       "      <th>Parch</th>\n",
       "      <th>Fare</th>\n",
       "    </tr>\n",
       "  </thead>\n",
       "  <tbody>\n",
       "    <tr>\n",
       "      <th>count</th>\n",
       "      <td>891.000000</td>\n",
       "      <td>891.000000</td>\n",
       "      <td>891.000000</td>\n",
       "      <td>714.000000</td>\n",
       "      <td>891.000000</td>\n",
       "      <td>891.000000</td>\n",
       "      <td>891.000000</td>\n",
       "    </tr>\n",
       "    <tr>\n",
       "      <th>mean</th>\n",
       "      <td>446.000000</td>\n",
       "      <td>0.383838</td>\n",
       "      <td>2.308642</td>\n",
       "      <td>29.699118</td>\n",
       "      <td>0.523008</td>\n",
       "      <td>0.381594</td>\n",
       "      <td>32.204208</td>\n",
       "    </tr>\n",
       "    <tr>\n",
       "      <th>std</th>\n",
       "      <td>257.353842</td>\n",
       "      <td>0.486592</td>\n",
       "      <td>0.836071</td>\n",
       "      <td>14.526497</td>\n",
       "      <td>1.102743</td>\n",
       "      <td>0.806057</td>\n",
       "      <td>49.693429</td>\n",
       "    </tr>\n",
       "    <tr>\n",
       "      <th>min</th>\n",
       "      <td>1.000000</td>\n",
       "      <td>0.000000</td>\n",
       "      <td>1.000000</td>\n",
       "      <td>0.420000</td>\n",
       "      <td>0.000000</td>\n",
       "      <td>0.000000</td>\n",
       "      <td>0.000000</td>\n",
       "    </tr>\n",
       "    <tr>\n",
       "      <th>25%</th>\n",
       "      <td>223.500000</td>\n",
       "      <td>0.000000</td>\n",
       "      <td>2.000000</td>\n",
       "      <td>20.125000</td>\n",
       "      <td>0.000000</td>\n",
       "      <td>0.000000</td>\n",
       "      <td>7.910400</td>\n",
       "    </tr>\n",
       "    <tr>\n",
       "      <th>50%</th>\n",
       "      <td>446.000000</td>\n",
       "      <td>0.000000</td>\n",
       "      <td>3.000000</td>\n",
       "      <td>28.000000</td>\n",
       "      <td>0.000000</td>\n",
       "      <td>0.000000</td>\n",
       "      <td>14.454200</td>\n",
       "    </tr>\n",
       "    <tr>\n",
       "      <th>75%</th>\n",
       "      <td>668.500000</td>\n",
       "      <td>1.000000</td>\n",
       "      <td>3.000000</td>\n",
       "      <td>38.000000</td>\n",
       "      <td>1.000000</td>\n",
       "      <td>0.000000</td>\n",
       "      <td>31.000000</td>\n",
       "    </tr>\n",
       "    <tr>\n",
       "      <th>max</th>\n",
       "      <td>891.000000</td>\n",
       "      <td>1.000000</td>\n",
       "      <td>3.000000</td>\n",
       "      <td>80.000000</td>\n",
       "      <td>8.000000</td>\n",
       "      <td>6.000000</td>\n",
       "      <td>512.329200</td>\n",
       "    </tr>\n",
       "  </tbody>\n",
       "</table>\n",
       "</div>"
      ],
      "text/plain": [
       "       PassengerId    Survived      Pclass         Age       SibSp  \\\n",
       "count   891.000000  891.000000  891.000000  714.000000  891.000000   \n",
       "mean    446.000000    0.383838    2.308642   29.699118    0.523008   \n",
       "std     257.353842    0.486592    0.836071   14.526497    1.102743   \n",
       "min       1.000000    0.000000    1.000000    0.420000    0.000000   \n",
       "25%     223.500000    0.000000    2.000000   20.125000    0.000000   \n",
       "50%     446.000000    0.000000    3.000000   28.000000    0.000000   \n",
       "75%     668.500000    1.000000    3.000000   38.000000    1.000000   \n",
       "max     891.000000    1.000000    3.000000   80.000000    8.000000   \n",
       "\n",
       "            Parch        Fare  \n",
       "count  891.000000  891.000000  \n",
       "mean     0.381594   32.204208  \n",
       "std      0.806057   49.693429  \n",
       "min      0.000000    0.000000  \n",
       "25%      0.000000    7.910400  \n",
       "50%      0.000000   14.454200  \n",
       "75%      0.000000   31.000000  \n",
       "max      6.000000  512.329200  "
      ]
     },
     "execution_count": 6,
     "metadata": {},
     "output_type": "execute_result"
    }
   ],
   "source": [
    "df.describe() "
   ]
  },
  {
   "cell_type": "code",
   "execution_count": 7,
   "id": "3e24cd3a",
   "metadata": {
    "execution": {
     "iopub.execute_input": "2025-04-13T14:17:57.113614Z",
     "iopub.status.busy": "2025-04-13T14:17:57.113171Z",
     "iopub.status.idle": "2025-04-13T14:17:57.139286Z",
     "shell.execute_reply": "2025-04-13T14:17:57.138093Z"
    },
    "papermill": {
     "duration": 0.043983,
     "end_time": "2025-04-13T14:17:57.141352",
     "exception": false,
     "start_time": "2025-04-13T14:17:57.097369",
     "status": "completed"
    },
    "tags": []
   },
   "outputs": [
    {
     "data": {
      "text/html": [
       "<div>\n",
       "<style scoped>\n",
       "    .dataframe tbody tr th:only-of-type {\n",
       "        vertical-align: middle;\n",
       "    }\n",
       "\n",
       "    .dataframe tbody tr th {\n",
       "        vertical-align: top;\n",
       "    }\n",
       "\n",
       "    .dataframe thead th {\n",
       "        text-align: right;\n",
       "    }\n",
       "</style>\n",
       "<table border=\"1\" class=\"dataframe\">\n",
       "  <thead>\n",
       "    <tr style=\"text-align: right;\">\n",
       "      <th></th>\n",
       "      <th>Name</th>\n",
       "      <th>Sex</th>\n",
       "      <th>Ticket</th>\n",
       "      <th>Cabin</th>\n",
       "      <th>Embarked</th>\n",
       "    </tr>\n",
       "  </thead>\n",
       "  <tbody>\n",
       "    <tr>\n",
       "      <th>count</th>\n",
       "      <td>891</td>\n",
       "      <td>891</td>\n",
       "      <td>891</td>\n",
       "      <td>204</td>\n",
       "      <td>889</td>\n",
       "    </tr>\n",
       "    <tr>\n",
       "      <th>unique</th>\n",
       "      <td>891</td>\n",
       "      <td>2</td>\n",
       "      <td>681</td>\n",
       "      <td>147</td>\n",
       "      <td>3</td>\n",
       "    </tr>\n",
       "    <tr>\n",
       "      <th>top</th>\n",
       "      <td>Braund, Mr. Owen Harris</td>\n",
       "      <td>male</td>\n",
       "      <td>347082</td>\n",
       "      <td>B96 B98</td>\n",
       "      <td>S</td>\n",
       "    </tr>\n",
       "    <tr>\n",
       "      <th>freq</th>\n",
       "      <td>1</td>\n",
       "      <td>577</td>\n",
       "      <td>7</td>\n",
       "      <td>4</td>\n",
       "      <td>644</td>\n",
       "    </tr>\n",
       "  </tbody>\n",
       "</table>\n",
       "</div>"
      ],
      "text/plain": [
       "                           Name   Sex  Ticket    Cabin Embarked\n",
       "count                       891   891     891      204      889\n",
       "unique                      891     2     681      147        3\n",
       "top     Braund, Mr. Owen Harris  male  347082  B96 B98        S\n",
       "freq                          1   577       7        4      644"
      ]
     },
     "execution_count": 7,
     "metadata": {},
     "output_type": "execute_result"
    }
   ],
   "source": [
    "categorical_var = df.dtypes[df.dtypes == 'object'].index \n",
    "df[categorical_var].describe()  "
   ]
  },
  {
   "cell_type": "markdown",
   "id": "a51a3112",
   "metadata": {
    "papermill": {
     "duration": 0.014829,
     "end_time": "2025-04-13T14:17:57.171229",
     "exception": false,
     "start_time": "2025-04-13T14:17:57.156400",
     "status": "completed"
    },
    "tags": []
   },
   "source": [
    "### 5. 🔍 **Missing Values & Outliers**"
   ]
  },
  {
   "cell_type": "code",
   "execution_count": 8,
   "id": "8fe0a463",
   "metadata": {
    "execution": {
     "iopub.execute_input": "2025-04-13T14:17:57.202127Z",
     "iopub.status.busy": "2025-04-13T14:17:57.201698Z",
     "iopub.status.idle": "2025-04-13T14:17:57.211888Z",
     "shell.execute_reply": "2025-04-13T14:17:57.210708Z"
    },
    "papermill": {
     "duration": 0.029182,
     "end_time": "2025-04-13T14:17:57.214680",
     "exception": false,
     "start_time": "2025-04-13T14:17:57.185498",
     "status": "completed"
    },
    "tags": []
   },
   "outputs": [
    {
     "data": {
      "text/plain": [
       "Cabin          687\n",
       "Age            177\n",
       "Embarked         2\n",
       "PassengerId      0\n",
       "Survived         0\n",
       "Pclass           0\n",
       "Name             0\n",
       "Sex              0\n",
       "SibSp            0\n",
       "Parch            0\n",
       "Ticket           0\n",
       "Fare             0\n",
       "dtype: int64"
      ]
     },
     "execution_count": 8,
     "metadata": {},
     "output_type": "execute_result"
    }
   ],
   "source": [
    "df.isnull().sum().sort_values(ascending = False) "
   ]
  },
  {
   "cell_type": "code",
   "execution_count": 9,
   "id": "a69a5673",
   "metadata": {
    "execution": {
     "iopub.execute_input": "2025-04-13T14:17:57.247924Z",
     "iopub.status.busy": "2025-04-13T14:17:57.247468Z",
     "iopub.status.idle": "2025-04-13T14:17:57.257717Z",
     "shell.execute_reply": "2025-04-13T14:17:57.256565Z"
    },
    "papermill": {
     "duration": 0.029165,
     "end_time": "2025-04-13T14:17:57.259744",
     "exception": false,
     "start_time": "2025-04-13T14:17:57.230579",
     "status": "completed"
    },
    "tags": []
   },
   "outputs": [
    {
     "data": {
      "text/plain": [
       "Cabin          0.771044\n",
       "Age            0.198653\n",
       "Embarked       0.002245\n",
       "PassengerId    0.000000\n",
       "Survived       0.000000\n",
       "Pclass         0.000000\n",
       "Name           0.000000\n",
       "Sex            0.000000\n",
       "SibSp          0.000000\n",
       "Parch          0.000000\n",
       "Ticket         0.000000\n",
       "Fare           0.000000\n",
       "dtype: float64"
      ]
     },
     "execution_count": 9,
     "metadata": {},
     "output_type": "execute_result"
    }
   ],
   "source": [
    "(df.isnull().sum() / len(df)).sort_values(ascending = False) "
   ]
  },
  {
   "cell_type": "code",
   "execution_count": 10,
   "id": "3584330b",
   "metadata": {
    "execution": {
     "iopub.execute_input": "2025-04-13T14:17:57.289846Z",
     "iopub.status.busy": "2025-04-13T14:17:57.289422Z",
     "iopub.status.idle": "2025-04-13T14:17:57.579067Z",
     "shell.execute_reply": "2025-04-13T14:17:57.577870Z"
    },
    "papermill": {
     "duration": 0.306564,
     "end_time": "2025-04-13T14:17:57.580923",
     "exception": false,
     "start_time": "2025-04-13T14:17:57.274359",
     "status": "completed"
    },
    "tags": []
   },
   "outputs": [
    {
     "data": {
      "text/plain": [
       "<Axes: >"
      ]
     },
     "execution_count": 10,
     "metadata": {},
     "output_type": "execute_result"
    },
    {
     "data": {
      "image/png": "[encoded data removed]",
      "text/plain": [
       "<Figure size 640x480 with 1 Axes>"
      ]
     },
     "metadata": {},
     "output_type": "display_data"
    }
   ],
   "source": [
    "sns.heatmap(df.isnull(), yticklabels=False, cbar=False) "
   ]
  },
  {
   "cell_type": "markdown",
   "id": "994d4305",
   "metadata": {
    "papermill": {
     "duration": 0.014291,
     "end_time": "2025-04-13T14:17:57.609916",
     "exception": false,
     "start_time": "2025-04-13T14:17:57.595625",
     "status": "completed"
    },
    "tags": []
   },
   "source": [
    "###  📝 ***Conclusions from Data Exploration***"
   ]
  },
  {
   "cell_type": "markdown",
   "id": "628dd401",
   "metadata": {
    "papermill": {
     "duration": 0.014064,
     "end_time": "2025-04-13T14:17:57.638400",
     "exception": false,
     "start_time": "2025-04-13T14:17:57.624336",
     "status": "completed"
    },
    "tags": []
   },
   "source": [
    "1. The columns have float datatypes are 2, integer datatype 5, object datatype are 5\n",
    "\n",
    "2. There are 891 rows and 12 columns in the dataset."
   ]
  },
  {
   "cell_type": "markdown",
   "id": "2a7696b3",
   "metadata": {
    "papermill": {
     "duration": 0.014211,
     "end_time": "2025-04-13T14:17:57.667285",
     "exception": false,
     "start_time": "2025-04-13T14:17:57.653074",
     "status": "completed"
    },
    "tags": []
   },
   "source": [
    "# 🔨  ***Data Cleaning & Preprocessing***  "
   ]
  },
  {
   "cell_type": "markdown",
   "id": "67947240",
   "metadata": {
    "papermill": {
     "duration": 0.01402,
     "end_time": "2025-04-13T14:17:57.695891",
     "exception": false,
     "start_time": "2025-04-13T14:17:57.681871",
     "status": "completed"
    },
    "tags": []
   },
   "source": [
    "### 1. 🔍 **Col: PassengerId**\n",
    "\n",
    "*  \"PassengerId\" is an arbitrary identifier assigned to each passenger."
   ]
  },
  {
   "cell_type": "code",
   "execution_count": 11,
   "id": "54f116f2",
   "metadata": {
    "execution": {
     "iopub.execute_input": "2025-04-13T14:17:57.726112Z",
     "iopub.status.busy": "2025-04-13T14:17:57.725741Z",
     "iopub.status.idle": "2025-04-13T14:17:57.733302Z",
     "shell.execute_reply": "2025-04-13T14:17:57.731921Z"
    },
    "papermill": {
     "duration": 0.024801,
     "end_time": "2025-04-13T14:17:57.735198",
     "exception": false,
     "start_time": "2025-04-13T14:17:57.710397",
     "status": "completed"
    },
    "tags": []
   },
   "outputs": [],
   "source": [
    "df.drop(['PassengerId'], axis=1, inplace=True)  "
   ]
  },
  {
   "cell_type": "markdown",
   "id": "845391bd",
   "metadata": {
    "papermill": {
     "duration": 0.014986,
     "end_time": "2025-04-13T14:17:57.764949",
     "exception": false,
     "start_time": "2025-04-13T14:17:57.749963",
     "status": "completed"
    },
    "tags": []
   },
   "source": [
    "### 2. 🔍 **Col: Sex**\n",
    "\n",
    "* Convert to numerical features which would be better for prediciton.  "
   ]
  },
  {
   "cell_type": "code",
   "execution_count": 12,
   "id": "76a15140",
   "metadata": {
    "execution": {
     "iopub.execute_input": "2025-04-13T14:17:57.795544Z",
     "iopub.status.busy": "2025-04-13T14:17:57.795148Z",
     "iopub.status.idle": "2025-04-13T14:17:57.801600Z",
     "shell.execute_reply": "2025-04-13T14:17:57.800293Z"
    },
    "papermill": {
     "duration": 0.024021,
     "end_time": "2025-04-13T14:17:57.803601",
     "exception": false,
     "start_time": "2025-04-13T14:17:57.779580",
     "status": "completed"
    },
    "tags": []
   },
   "outputs": [],
   "source": [
    "sex = pd.get_dummies(df['Sex'], drop_first=True, dtype=int)     "
   ]
  },
  {
   "cell_type": "code",
   "execution_count": 13,
   "id": "4b0b777a",
   "metadata": {
    "execution": {
     "iopub.execute_input": "2025-04-13T14:17:57.834537Z",
     "iopub.status.busy": "2025-04-13T14:17:57.834177Z",
     "iopub.status.idle": "2025-04-13T14:17:57.839456Z",
     "shell.execute_reply": "2025-04-13T14:17:57.838430Z"
    },
    "papermill": {
     "duration": 0.022846,
     "end_time": "2025-04-13T14:17:57.841250",
     "exception": false,
     "start_time": "2025-04-13T14:17:57.818404",
     "status": "completed"
    },
    "tags": []
   },
   "outputs": [],
   "source": [
    "df = pd.concat([df,sex], axis=1)  "
   ]
  },
  {
   "cell_type": "code",
   "execution_count": 14,
   "id": "30f6b95c",
   "metadata": {
    "execution": {
     "iopub.execute_input": "2025-04-13T14:17:57.875090Z",
     "iopub.status.busy": "2025-04-13T14:17:57.874589Z",
     "iopub.status.idle": "2025-04-13T14:17:57.880434Z",
     "shell.execute_reply": "2025-04-13T14:17:57.879413Z"
    },
    "papermill": {
     "duration": 0.026398,
     "end_time": "2025-04-13T14:17:57.882141",
     "exception": false,
     "start_time": "2025-04-13T14:17:57.855743",
     "status": "completed"
    },
    "tags": []
   },
   "outputs": [],
   "source": [
    "df.drop('Sex', axis=1, inplace=True) "
   ]
  },
  {
   "cell_type": "code",
   "execution_count": 15,
   "id": "6073b46e",
   "metadata": {
    "execution": {
     "iopub.execute_input": "2025-04-13T14:17:57.914118Z",
     "iopub.status.busy": "2025-04-13T14:17:57.913546Z",
     "iopub.status.idle": "2025-04-13T14:17:57.919691Z",
     "shell.execute_reply": "2025-04-13T14:17:57.918487Z"
    },
    "papermill": {
     "duration": 0.024253,
     "end_time": "2025-04-13T14:17:57.921428",
     "exception": false,
     "start_time": "2025-04-13T14:17:57.897175",
     "status": "completed"
    },
    "tags": []
   },
   "outputs": [],
   "source": [
    "df = df.rename(columns = {'male':'Sex'}) "
   ]
  },
  {
   "cell_type": "markdown",
   "id": "06e49e3b",
   "metadata": {
    "papermill": {
     "duration": 0.015258,
     "end_time": "2025-04-13T14:17:57.952063",
     "exception": false,
     "start_time": "2025-04-13T14:17:57.936805",
     "status": "completed"
    },
    "tags": []
   },
   "source": [
    "### 3. 🔍 **Col: Age** "
   ]
  },
  {
   "cell_type": "code",
   "execution_count": 16,
   "id": "ddd89a27",
   "metadata": {
    "execution": {
     "iopub.execute_input": "2025-04-13T14:17:57.982844Z",
     "iopub.status.busy": "2025-04-13T14:17:57.982425Z",
     "iopub.status.idle": "2025-04-13T14:17:57.992549Z",
     "shell.execute_reply": "2025-04-13T14:17:57.991328Z"
    },
    "papermill": {
     "duration": 0.027699,
     "end_time": "2025-04-13T14:17:57.994378",
     "exception": false,
     "start_time": "2025-04-13T14:17:57.966679",
     "status": "completed"
    },
    "tags": []
   },
   "outputs": [
    {
     "data": {
      "text/plain": [
       "count    714.000000\n",
       "mean      29.699118\n",
       "std       14.526497\n",
       "min        0.420000\n",
       "25%       20.125000\n",
       "50%       28.000000\n",
       "75%       38.000000\n",
       "max       80.000000\n",
       "Name: Age, dtype: float64"
      ]
     },
     "execution_count": 16,
     "metadata": {},
     "output_type": "execute_result"
    }
   ],
   "source": [
    "df['Age'].describe() "
   ]
  },
  {
   "cell_type": "code",
   "execution_count": 17,
   "id": "fbb099a4",
   "metadata": {
    "execution": {
     "iopub.execute_input": "2025-04-13T14:17:58.084845Z",
     "iopub.status.busy": "2025-04-13T14:17:58.084386Z",
     "iopub.status.idle": "2025-04-13T14:17:58.091785Z",
     "shell.execute_reply": "2025-04-13T14:17:58.090549Z"
    },
    "papermill": {
     "duration": 0.084793,
     "end_time": "2025-04-13T14:17:58.093876",
     "exception": false,
     "start_time": "2025-04-13T14:17:58.009083",
     "status": "completed"
    },
    "tags": []
   },
   "outputs": [
    {
     "data": {
      "text/plain": [
       "177"
      ]
     },
     "execution_count": 17,
     "metadata": {},
     "output_type": "execute_result"
    }
   ],
   "source": [
    "missing_ages = np.where(df['Age'].isnull())    \n",
    "len(missing_ages[0])  "
   ]
  },
  {
   "cell_type": "code",
   "execution_count": 18,
   "id": "082a1050",
   "metadata": {
    "execution": {
     "iopub.execute_input": "2025-04-13T14:17:58.125478Z",
     "iopub.status.busy": "2025-04-13T14:17:58.125069Z",
     "iopub.status.idle": "2025-04-13T14:17:58.129681Z",
     "shell.execute_reply": "2025-04-13T14:17:58.128676Z"
    },
    "papermill": {
     "duration": 0.022373,
     "end_time": "2025-04-13T14:17:58.131433",
     "exception": false,
     "start_time": "2025-04-13T14:17:58.109060",
     "status": "completed"
    },
    "tags": []
   },
   "outputs": [],
   "source": [
    "sns.set_style('whitegrid') "
   ]
  },
  {
   "cell_type": "code",
   "execution_count": 19,
   "id": "d93eca61",
   "metadata": {
    "execution": {
     "iopub.execute_input": "2025-04-13T14:17:58.163381Z",
     "iopub.status.busy": "2025-04-13T14:17:58.163005Z",
     "iopub.status.idle": "2025-04-13T14:17:58.544432Z",
     "shell.execute_reply": "2025-04-13T14:17:58.543375Z"
    },
    "papermill": {
     "duration": 0.399855,
     "end_time": "2025-04-13T14:17:58.546517",
     "exception": false,
     "start_time": "2025-04-13T14:17:58.146662",
     "status": "completed"
    },
    "tags": []
   },
   "outputs": [
    {
     "data": {
      "image/png": "[encoded data removed]",
      "text/plain": [
       "<Figure size 640x480 with 1 Axes>"
      ]
     },
     "metadata": {},
     "output_type": "display_data"
    }
   ],
   "source": [
    "sns.histplot(df['Age'].dropna(), \n",
    "             bins=30,\n",
    "             kde=True) \n",
    "\n",
    "plt.title('Age Distribution')\n",
    "plt.ylabel('Frequency')\n",
    "plt.show() "
   ]
  },
  {
   "cell_type": "markdown",
   "id": "aaed2e03",
   "metadata": {
    "papermill": {
     "duration": 0.015273,
     "end_time": "2025-04-13T14:17:58.577486",
     "exception": false,
     "start_time": "2025-04-13T14:17:58.562213",
     "status": "completed"
    },
    "tags": []
   },
   "source": [
    "### 📝 ***Conclusion*** :  \n",
    "\n",
    "1. The Age column had 177 missing values.\n",
    "\n",
    "2. A skewed towards younger passengers between 20-30 years old. \n",
    "   \n",
    "3. Since age is a numerical feature that needs to be used for prediction --> It is necessary to deal with these missing values.   "
   ]
  },
  {
   "cell_type": "code",
   "execution_count": 20,
   "id": "f54eb3f0",
   "metadata": {
    "execution": {
     "iopub.execute_input": "2025-04-13T14:17:58.610559Z",
     "iopub.status.busy": "2025-04-13T14:17:58.610190Z",
     "iopub.status.idle": "2025-04-13T14:17:58.840492Z",
     "shell.execute_reply": "2025-04-13T14:17:58.838908Z"
    },
    "papermill": {
     "duration": 0.249973,
     "end_time": "2025-04-13T14:17:58.842939",
     "exception": false,
     "start_time": "2025-04-13T14:17:58.592966",
     "status": "completed"
    },
    "tags": []
   },
   "outputs": [
    {
     "data": {
      "image/png": "[encoded data removed]",
      "text/plain": [
       "<Figure size 640x480 with 1 Axes>"
      ]
     },
     "metadata": {},
     "output_type": "display_data"
    }
   ],
   "source": [
    "sns.boxplot(x='Pclass', \n",
    "            y='Age', \n",
    "            data=df) \n",
    "\n",
    "plt.xlabel('Passenger Class')\n",
    "plt.title('Age Distribution by Class')\n",
    "plt.show() "
   ]
  },
  {
   "cell_type": "markdown",
   "id": "3af8ba03",
   "metadata": {
    "papermill": {
     "duration": 0.018316,
     "end_time": "2025-04-13T14:17:58.877742",
     "exception": false,
     "start_time": "2025-04-13T14:17:58.859426",
     "status": "completed"
    },
    "tags": []
   },
   "source": [
    "### 📝 ***Conclusion*** :  \n",
    "\n",
    "* The median age of the First Class is higher than that of the Second Class and Third Class. "
   ]
  },
  {
   "cell_type": "code",
   "execution_count": 21,
   "id": "01dc1eac",
   "metadata": {
    "execution": {
     "iopub.execute_input": "2025-04-13T14:17:58.912327Z",
     "iopub.status.busy": "2025-04-13T14:17:58.911962Z",
     "iopub.status.idle": "2025-04-13T14:17:58.922536Z",
     "shell.execute_reply": "2025-04-13T14:17:58.921279Z"
    },
    "papermill": {
     "duration": 0.030574,
     "end_time": "2025-04-13T14:17:58.924858",
     "exception": false,
     "start_time": "2025-04-13T14:17:58.894284",
     "status": "completed"
    },
    "tags": []
   },
   "outputs": [
    {
     "data": {
      "text/plain": [
       "Pclass\n",
       "1    37.0\n",
       "2    29.0\n",
       "3    24.0\n",
       "Name: Age, dtype: float64"
      ]
     },
     "execution_count": 21,
     "metadata": {},
     "output_type": "execute_result"
    }
   ],
   "source": [
    "df.groupby('Pclass')['Age'].median() "
   ]
  },
  {
   "cell_type": "code",
   "execution_count": 22,
   "id": "29545c31",
   "metadata": {
    "execution": {
     "iopub.execute_input": "2025-04-13T14:17:58.958968Z",
     "iopub.status.busy": "2025-04-13T14:17:58.958578Z",
     "iopub.status.idle": "2025-04-13T14:17:58.963748Z",
     "shell.execute_reply": "2025-04-13T14:17:58.962544Z"
    },
    "papermill": {
     "duration": 0.024723,
     "end_time": "2025-04-13T14:17:58.966032",
     "exception": false,
     "start_time": "2025-04-13T14:17:58.941309",
     "status": "completed"
    },
    "tags": []
   },
   "outputs": [],
   "source": [
    "def impute_ages(cols):\n",
    "    Age = cols[0]\n",
    "    Pclass = cols[1] \n",
    "\n",
    "    if pd.isnull(Age):\n",
    "        if Pclass == 1:\n",
    "            return 37 \n",
    "        elif Pclass == 2: \n",
    "            return 29 \n",
    "        else:\n",
    "            return 24 \n",
    "    else: \n",
    "        return Age"
   ]
  },
  {
   "cell_type": "code",
   "execution_count": 23,
   "id": "7afef2f6",
   "metadata": {
    "execution": {
     "iopub.execute_input": "2025-04-13T14:17:59.001762Z",
     "iopub.status.busy": "2025-04-13T14:17:59.001341Z",
     "iopub.status.idle": "2025-04-13T14:17:59.035429Z",
     "shell.execute_reply": "2025-04-13T14:17:59.034194Z"
    },
    "papermill": {
     "duration": 0.055235,
     "end_time": "2025-04-13T14:17:59.037950",
     "exception": false,
     "start_time": "2025-04-13T14:17:58.982715",
     "status": "completed"
    },
    "tags": []
   },
   "outputs": [],
   "source": [
    "df['Age'] = df[['Age', 'Pclass']].apply(impute_ages, axis=1)  "
   ]
  },
  {
   "cell_type": "code",
   "execution_count": 24,
   "id": "b299a24c",
   "metadata": {
    "execution": {
     "iopub.execute_input": "2025-04-13T14:17:59.073584Z",
     "iopub.status.busy": "2025-04-13T14:17:59.073172Z",
     "iopub.status.idle": "2025-04-13T14:17:59.343534Z",
     "shell.execute_reply": "2025-04-13T14:17:59.342308Z"
    },
    "papermill": {
     "duration": 0.290332,
     "end_time": "2025-04-13T14:17:59.345455",
     "exception": false,
     "start_time": "2025-04-13T14:17:59.055123",
     "status": "completed"
    },
    "tags": []
   },
   "outputs": [
    {
     "data": {
      "text/plain": [
       "<Axes: >"
      ]
     },
     "execution_count": 24,
     "metadata": {},
     "output_type": "execute_result"
    },
    {
     "data": {
      "image/png": "[encoded data removed]",
      "text/plain": [
       "<Figure size 640x480 with 1 Axes>"
      ]
     },
     "metadata": {},
     "output_type": "display_data"
    }
   ],
   "source": [
    "sns.heatmap(df.isnull(), yticklabels=False, cbar=False) "
   ]
  },
  {
   "cell_type": "markdown",
   "id": "c86cca9c",
   "metadata": {
    "papermill": {
     "duration": 0.017701,
     "end_time": "2025-04-13T14:17:59.380957",
     "exception": false,
     "start_time": "2025-04-13T14:17:59.363256",
     "status": "completed"
    },
    "tags": []
   },
   "source": [
    "### 4. 🔍 **Col: Ticket**\n"
   ]
  },
  {
   "cell_type": "code",
   "execution_count": 25,
   "id": "89eaa4d1",
   "metadata": {
    "execution": {
     "iopub.execute_input": "2025-04-13T14:17:59.416716Z",
     "iopub.status.busy": "2025-04-13T14:17:59.416308Z",
     "iopub.status.idle": "2025-04-13T14:17:59.424138Z",
     "shell.execute_reply": "2025-04-13T14:17:59.422908Z"
    },
    "papermill": {
     "duration": 0.027951,
     "end_time": "2025-04-13T14:17:59.426032",
     "exception": false,
     "start_time": "2025-04-13T14:17:59.398081",
     "status": "completed"
    },
    "tags": []
   },
   "outputs": [
    {
     "data": {
      "text/plain": [
       "0           A/5 21171\n",
       "1            PC 17599\n",
       "2    STON/O2. 3101282\n",
       "3              113803\n",
       "4              373450\n",
       "5              330877\n",
       "6               17463\n",
       "7              349909\n",
       "8              347742\n",
       "9              237736\n",
       "Name: Ticket, dtype: object"
      ]
     },
     "execution_count": 25,
     "metadata": {},
     "output_type": "execute_result"
    }
   ],
   "source": [
    "df['Ticket'][0:10] "
   ]
  },
  {
   "cell_type": "code",
   "execution_count": 26,
   "id": "d9358f90",
   "metadata": {
    "execution": {
     "iopub.execute_input": "2025-04-13T14:17:59.461531Z",
     "iopub.status.busy": "2025-04-13T14:17:59.461160Z",
     "iopub.status.idle": "2025-04-13T14:17:59.470798Z",
     "shell.execute_reply": "2025-04-13T14:17:59.469721Z"
    },
    "papermill": {
     "duration": 0.029611,
     "end_time": "2025-04-13T14:17:59.472576",
     "exception": false,
     "start_time": "2025-04-13T14:17:59.442965",
     "status": "completed"
    },
    "tags": []
   },
   "outputs": [
    {
     "data": {
      "text/plain": [
       "count        891\n",
       "unique       681\n",
       "top       347082\n",
       "freq           7\n",
       "Name: Ticket, dtype: object"
      ]
     },
     "execution_count": 26,
     "metadata": {},
     "output_type": "execute_result"
    }
   ],
   "source": [
    "df['Ticket'].describe() "
   ]
  },
  {
   "cell_type": "markdown",
   "id": "693f179d",
   "metadata": {
    "papermill": {
     "duration": 0.016863,
     "end_time": "2025-04-13T14:17:59.506334",
     "exception": false,
     "start_time": "2025-04-13T14:17:59.489471",
     "status": "completed"
    },
    "tags": []
   },
   "source": [
    "### 📝 ***Conclusion*** : \n",
    "\n",
    "1. Ticket is a categorical variable which has **680 unique** values.\n",
    "   \n",
    "2. Categorical variables with almost as many as levels as there are records are often not practical for prediction."
   ]
  },
  {
   "cell_type": "markdown",
   "id": "b6aa1237",
   "metadata": {
    "papermill": {
     "duration": 0.017295,
     "end_time": "2025-04-13T14:17:59.540616",
     "exception": false,
     "start_time": "2025-04-13T14:17:59.523321",
     "status": "completed"
    },
    "tags": []
   },
   "source": [
    "### 🛠️ ***Feature Engineering of Ticket*** :\n",
    "        1. Extract prefix if one ticket including letters and target encoding.\n",
    "        2. Create a column that contains boolean values to show if the ticket is pure numeric or not. \n",
    "        3. Count the frequency of each ticket. "
   ]
  },
  {
   "cell_type": "code",
   "execution_count": 27,
   "id": "e2f85f5d",
   "metadata": {
    "execution": {
     "iopub.execute_input": "2025-04-13T14:17:59.577302Z",
     "iopub.status.busy": "2025-04-13T14:17:59.576864Z",
     "iopub.status.idle": "2025-04-13T14:17:59.598210Z",
     "shell.execute_reply": "2025-04-13T14:17:59.596995Z"
    },
    "papermill": {
     "duration": 0.041959,
     "end_time": "2025-04-13T14:17:59.600299",
     "exception": false,
     "start_time": "2025-04-13T14:17:59.558340",
     "status": "completed"
    },
    "tags": []
   },
   "outputs": [
    {
     "data": {
      "text/html": [
       "<div>\n",
       "<style scoped>\n",
       "    .dataframe tbody tr th:only-of-type {\n",
       "        vertical-align: middle;\n",
       "    }\n",
       "\n",
       "    .dataframe tbody tr th {\n",
       "        vertical-align: top;\n",
       "    }\n",
       "\n",
       "    .dataframe thead th {\n",
       "        text-align: right;\n",
       "    }\n",
       "</style>\n",
       "<table border=\"1\" class=\"dataframe\">\n",
       "  <thead>\n",
       "    <tr style=\"text-align: right;\">\n",
       "      <th></th>\n",
       "      <th>Ticket</th>\n",
       "      <th>Ticket_Prefix</th>\n",
       "      <th>Ticket_IsNumeric</th>\n",
       "      <th>Ticket_Freq</th>\n",
       "      <th>Pclass</th>\n",
       "      <th>Survived</th>\n",
       "    </tr>\n",
       "  </thead>\n",
       "  <tbody>\n",
       "    <tr>\n",
       "      <th>292</th>\n",
       "      <td>SC/Paris 2163</td>\n",
       "      <td>SCParis</td>\n",
       "      <td>0</td>\n",
       "      <td>1</td>\n",
       "      <td>2</td>\n",
       "      <td>0</td>\n",
       "    </tr>\n",
       "    <tr>\n",
       "      <th>123</th>\n",
       "      <td>27267</td>\n",
       "      <td>None</td>\n",
       "      <td>1</td>\n",
       "      <td>1</td>\n",
       "      <td>2</td>\n",
       "      <td>1</td>\n",
       "    </tr>\n",
       "    <tr>\n",
       "      <th>297</th>\n",
       "      <td>113781</td>\n",
       "      <td>None</td>\n",
       "      <td>1</td>\n",
       "      <td>4</td>\n",
       "      <td>1</td>\n",
       "      <td>0</td>\n",
       "    </tr>\n",
       "    <tr>\n",
       "      <th>311</th>\n",
       "      <td>PC 17608</td>\n",
       "      <td>PC</td>\n",
       "      <td>0</td>\n",
       "      <td>2</td>\n",
       "      <td>1</td>\n",
       "      <td>1</td>\n",
       "    </tr>\n",
       "    <tr>\n",
       "      <th>627</th>\n",
       "      <td>13502</td>\n",
       "      <td>None</td>\n",
       "      <td>1</td>\n",
       "      <td>3</td>\n",
       "      <td>1</td>\n",
       "      <td>1</td>\n",
       "    </tr>\n",
       "    <tr>\n",
       "      <th>636</th>\n",
       "      <td>STON/O 2. 3101292</td>\n",
       "      <td>STONO</td>\n",
       "      <td>0</td>\n",
       "      <td>1</td>\n",
       "      <td>3</td>\n",
       "      <td>0</td>\n",
       "    </tr>\n",
       "    <tr>\n",
       "      <th>46</th>\n",
       "      <td>370371</td>\n",
       "      <td>None</td>\n",
       "      <td>1</td>\n",
       "      <td>1</td>\n",
       "      <td>3</td>\n",
       "      <td>0</td>\n",
       "    </tr>\n",
       "    <tr>\n",
       "      <th>282</th>\n",
       "      <td>345778</td>\n",
       "      <td>None</td>\n",
       "      <td>1</td>\n",
       "      <td>1</td>\n",
       "      <td>3</td>\n",
       "      <td>0</td>\n",
       "    </tr>\n",
       "    <tr>\n",
       "      <th>228</th>\n",
       "      <td>236171</td>\n",
       "      <td>None</td>\n",
       "      <td>1</td>\n",
       "      <td>1</td>\n",
       "      <td>2</td>\n",
       "      <td>0</td>\n",
       "    </tr>\n",
       "    <tr>\n",
       "      <th>566</th>\n",
       "      <td>349205</td>\n",
       "      <td>None</td>\n",
       "      <td>1</td>\n",
       "      <td>1</td>\n",
       "      <td>3</td>\n",
       "      <td>0</td>\n",
       "    </tr>\n",
       "  </tbody>\n",
       "</table>\n",
       "</div>"
      ],
      "text/plain": [
       "                Ticket Ticket_Prefix  Ticket_IsNumeric  Ticket_Freq  Pclass  \\\n",
       "292      SC/Paris 2163       SCParis                 0            1       2   \n",
       "123              27267          None                 1            1       2   \n",
       "297             113781          None                 1            4       1   \n",
       "311           PC 17608            PC                 0            2       1   \n",
       "627              13502          None                 1            3       1   \n",
       "636  STON/O 2. 3101292         STONO                 0            1       3   \n",
       "46              370371          None                 1            1       3   \n",
       "282             345778          None                 1            1       3   \n",
       "228             236171          None                 1            1       2   \n",
       "566             349205          None                 1            1       3   \n",
       "\n",
       "     Survived  \n",
       "292         0  \n",
       "123         1  \n",
       "297         0  \n",
       "311         1  \n",
       "627         1  \n",
       "636         0  \n",
       "46          0  \n",
       "282         0  \n",
       "228         0  \n",
       "566         0  "
      ]
     },
     "execution_count": 27,
     "metadata": {},
     "output_type": "execute_result"
    }
   ],
   "source": [
    "def extract_prefix(ticket):\n",
    "    parts = ticket.replace('.', '').replace('/','').split() \n",
    "    prefix = [p for p in parts if not p.isdigit()] \n",
    "    return prefix[0] if prefix else 'None' \n",
    "\n",
    "df['Ticket_Prefix'] = df['Ticket'].apply(extract_prefix) \n",
    "\n",
    "df['Ticket_IsNumeric'] = df['Ticket'].apply(lambda x: x.isdigit()).astype(int) \n",
    "\n",
    "ticket_counts = df['Ticket'].value_counts() \n",
    "df['Ticket_Freq'] = df['Ticket'].map(ticket_counts) \n",
    "\n",
    "df[['Ticket', 'Ticket_Prefix', 'Ticket_IsNumeric', 'Ticket_Freq', 'Pclass','Survived']].sample(10) "
   ]
  },
  {
   "cell_type": "markdown",
   "id": "fcab08ef",
   "metadata": {
    "papermill": {
     "duration": 0.017339,
     "end_time": "2025-04-13T14:17:59.635711",
     "exception": false,
     "start_time": "2025-04-13T14:17:59.618372",
     "status": "completed"
    },
    "tags": []
   },
   "source": [
    "### 5. 🔍 **Col: Cabin**  "
   ]
  },
  {
   "cell_type": "code",
   "execution_count": 28,
   "id": "bc06aca9",
   "metadata": {
    "execution": {
     "iopub.execute_input": "2025-04-13T14:17:59.671329Z",
     "iopub.status.busy": "2025-04-13T14:17:59.670971Z",
     "iopub.status.idle": "2025-04-13T14:17:59.678215Z",
     "shell.execute_reply": "2025-04-13T14:17:59.677134Z"
    },
    "papermill": {
     "duration": 0.027492,
     "end_time": "2025-04-13T14:17:59.680294",
     "exception": false,
     "start_time": "2025-04-13T14:17:59.652802",
     "status": "completed"
    },
    "tags": []
   },
   "outputs": [
    {
     "data": {
      "text/plain": [
       "0     NaN\n",
       "1     C85\n",
       "2     NaN\n",
       "3    C123\n",
       "4     NaN\n",
       "5     NaN\n",
       "6     E46\n",
       "7     NaN\n",
       "8     NaN\n",
       "9     NaN\n",
       "Name: Cabin, dtype: object"
      ]
     },
     "execution_count": 28,
     "metadata": {},
     "output_type": "execute_result"
    }
   ],
   "source": [
    "df['Cabin'][0:10]"
   ]
  },
  {
   "cell_type": "code",
   "execution_count": 29,
   "id": "88705297",
   "metadata": {
    "execution": {
     "iopub.execute_input": "2025-04-13T14:17:59.718309Z",
     "iopub.status.busy": "2025-04-13T14:17:59.717915Z",
     "iopub.status.idle": "2025-04-13T14:17:59.727163Z",
     "shell.execute_reply": "2025-04-13T14:17:59.725983Z"
    },
    "papermill": {
     "duration": 0.030217,
     "end_time": "2025-04-13T14:17:59.729220",
     "exception": false,
     "start_time": "2025-04-13T14:17:59.699003",
     "status": "completed"
    },
    "tags": []
   },
   "outputs": [
    {
     "data": {
      "text/plain": [
       "count         204\n",
       "unique        147\n",
       "top       B96 B98\n",
       "freq            4\n",
       "Name: Cabin, dtype: object"
      ]
     },
     "execution_count": 29,
     "metadata": {},
     "output_type": "execute_result"
    }
   ],
   "source": [
    "df['Cabin'].describe() "
   ]
  },
  {
   "cell_type": "markdown",
   "id": "83c498a2",
   "metadata": {
    "papermill": {
     "duration": 0.017526,
     "end_time": "2025-04-13T14:17:59.764487",
     "exception": false,
     "start_time": "2025-04-13T14:17:59.746961",
     "status": "completed"
    },
    "tags": []
   },
   "source": [
    "1. The Cabin column has 147 unique values, which may not be particularly useful for prediction.\n",
    "\n",
    "2. On the other hand, the names for the cabin variable seem to have a regular structure: a capital letter followed by a number --> use this structure to reduce the number of levels to make categories large enough, which may be useful for prediction.  "
   ]
  },
  {
   "cell_type": "code",
   "execution_count": 30,
   "id": "32b0f769",
   "metadata": {
    "execution": {
     "iopub.execute_input": "2025-04-13T14:17:59.801716Z",
     "iopub.status.busy": "2025-04-13T14:17:59.801303Z",
     "iopub.status.idle": "2025-04-13T14:17:59.808860Z",
     "shell.execute_reply": "2025-04-13T14:17:59.807737Z"
    },
    "papermill": {
     "duration": 0.028625,
     "end_time": "2025-04-13T14:17:59.810659",
     "exception": false,
     "start_time": "2025-04-13T14:17:59.782034",
     "status": "completed"
    },
    "tags": []
   },
   "outputs": [],
   "source": [
    "convert_cabin = df['Cabin'].astype(str) \n",
    "Cabin_Initial = np.array([Cabin[0] for Cabin in convert_cabin]) \n",
    "Cabin_Initial = pd.Categorical(Cabin_Initial) \n",
    "df['Cabin'] = Cabin_Initial"
   ]
  },
  {
   "cell_type": "code",
   "execution_count": 31,
   "id": "4a5628bb",
   "metadata": {
    "execution": {
     "iopub.execute_input": "2025-04-13T14:17:59.851726Z",
     "iopub.status.busy": "2025-04-13T14:17:59.850992Z",
     "iopub.status.idle": "2025-04-13T14:17:59.857520Z",
     "shell.execute_reply": "2025-04-13T14:17:59.856153Z"
    },
    "papermill": {
     "duration": 0.029243,
     "end_time": "2025-04-13T14:17:59.859706",
     "exception": false,
     "start_time": "2025-04-13T14:17:59.830463",
     "status": "completed"
    },
    "tags": []
   },
   "outputs": [],
   "source": [
    "df['Has_Cabin'] = df['Cabin'].notnull().astype(int) "
   ]
  },
  {
   "cell_type": "markdown",
   "id": "8914a361",
   "metadata": {
    "papermill": {
     "duration": 0.017858,
     "end_time": "2025-04-13T14:17:59.897615",
     "exception": false,
     "start_time": "2025-04-13T14:17:59.879757",
     "status": "completed"
    },
    "tags": []
   },
   "source": [
    "### 6. 🔍 **Embarked**  "
   ]
  },
  {
   "cell_type": "code",
   "execution_count": 32,
   "id": "319f15a8",
   "metadata": {
    "execution": {
     "iopub.execute_input": "2025-04-13T14:17:59.934487Z",
     "iopub.status.busy": "2025-04-13T14:17:59.934135Z",
     "iopub.status.idle": "2025-04-13T14:17:59.942501Z",
     "shell.execute_reply": "2025-04-13T14:17:59.941388Z"
    },
    "papermill": {
     "duration": 0.029141,
     "end_time": "2025-04-13T14:17:59.944525",
     "exception": false,
     "start_time": "2025-04-13T14:17:59.915384",
     "status": "completed"
    },
    "tags": []
   },
   "outputs": [],
   "source": [
    "embark = pd.get_dummies(df['Embarked'], drop_first=True, dtype=int)\n",
    "df = pd.concat([df, embark], axis=1)   "
   ]
  },
  {
   "cell_type": "code",
   "execution_count": 33,
   "id": "7b850009",
   "metadata": {
    "execution": {
     "iopub.execute_input": "2025-04-13T14:17:59.981206Z",
     "iopub.status.busy": "2025-04-13T14:17:59.980783Z",
     "iopub.status.idle": "2025-04-13T14:17:59.986508Z",
     "shell.execute_reply": "2025-04-13T14:17:59.985578Z"
    },
    "papermill": {
     "duration": 0.026104,
     "end_time": "2025-04-13T14:17:59.988293",
     "exception": false,
     "start_time": "2025-04-13T14:17:59.962189",
     "status": "completed"
    },
    "tags": []
   },
   "outputs": [],
   "source": [
    "df.drop('Embarked', axis=1, inplace=True) "
   ]
  },
  {
   "cell_type": "markdown",
   "id": "5b37b5cd",
   "metadata": {
    "papermill": {
     "duration": 0.017365,
     "end_time": "2025-04-13T14:18:00.024055",
     "exception": false,
     "start_time": "2025-04-13T14:18:00.006690",
     "status": "completed"
    },
    "tags": []
   },
   "source": [
    "### 6. 🔍 **Combine Col SibSp with Col Parch to Create a New Variable: Family**  "
   ]
  },
  {
   "cell_type": "code",
   "execution_count": 34,
   "id": "6f026177",
   "metadata": {
    "execution": {
     "iopub.execute_input": "2025-04-13T14:18:00.060877Z",
     "iopub.status.busy": "2025-04-13T14:18:00.060440Z",
     "iopub.status.idle": "2025-04-13T14:18:00.075991Z",
     "shell.execute_reply": "2025-04-13T14:18:00.074845Z"
    },
    "papermill": {
     "duration": 0.035918,
     "end_time": "2025-04-13T14:18:00.077728",
     "exception": false,
     "start_time": "2025-04-13T14:18:00.041810",
     "status": "completed"
    },
    "tags": []
   },
   "outputs": [
    {
     "data": {
      "text/html": [
       "<div>\n",
       "<style scoped>\n",
       "    .dataframe tbody tr th:only-of-type {\n",
       "        vertical-align: middle;\n",
       "    }\n",
       "\n",
       "    .dataframe tbody tr th {\n",
       "        vertical-align: top;\n",
       "    }\n",
       "\n",
       "    .dataframe thead th {\n",
       "        text-align: right;\n",
       "    }\n",
       "</style>\n",
       "<table border=\"1\" class=\"dataframe\">\n",
       "  <thead>\n",
       "    <tr style=\"text-align: right;\">\n",
       "      <th></th>\n",
       "      <th>Name</th>\n",
       "      <th>Ticket_Prefix</th>\n",
       "      <th>Pclass</th>\n",
       "      <th>Family</th>\n",
       "      <th>Survived</th>\n",
       "    </tr>\n",
       "  </thead>\n",
       "  <tbody>\n",
       "    <tr>\n",
       "      <th>159</th>\n",
       "      <td>Sage, Master. Thomas Henry</td>\n",
       "      <td>CA</td>\n",
       "      <td>3</td>\n",
       "      <td>10</td>\n",
       "      <td>0</td>\n",
       "    </tr>\n",
       "    <tr>\n",
       "      <th>180</th>\n",
       "      <td>Sage, Miss. Constance Gladys</td>\n",
       "      <td>CA</td>\n",
       "      <td>3</td>\n",
       "      <td>10</td>\n",
       "      <td>0</td>\n",
       "    </tr>\n",
       "    <tr>\n",
       "      <th>201</th>\n",
       "      <td>Sage, Mr. Frederick</td>\n",
       "      <td>CA</td>\n",
       "      <td>3</td>\n",
       "      <td>10</td>\n",
       "      <td>0</td>\n",
       "    </tr>\n",
       "    <tr>\n",
       "      <th>324</th>\n",
       "      <td>Sage, Mr. George John Jr</td>\n",
       "      <td>CA</td>\n",
       "      <td>3</td>\n",
       "      <td>10</td>\n",
       "      <td>0</td>\n",
       "    </tr>\n",
       "    <tr>\n",
       "      <th>792</th>\n",
       "      <td>Sage, Miss. Stella Anna</td>\n",
       "      <td>CA</td>\n",
       "      <td>3</td>\n",
       "      <td>10</td>\n",
       "      <td>0</td>\n",
       "    </tr>\n",
       "    <tr>\n",
       "      <th>846</th>\n",
       "      <td>Sage, Mr. Douglas Bullen</td>\n",
       "      <td>CA</td>\n",
       "      <td>3</td>\n",
       "      <td>10</td>\n",
       "      <td>0</td>\n",
       "    </tr>\n",
       "    <tr>\n",
       "      <th>863</th>\n",
       "      <td>Sage, Miss. Dorothy Edith \"Dolly\"</td>\n",
       "      <td>CA</td>\n",
       "      <td>3</td>\n",
       "      <td>10</td>\n",
       "      <td>0</td>\n",
       "    </tr>\n",
       "  </tbody>\n",
       "</table>\n",
       "</div>"
      ],
      "text/plain": [
       "                                  Name Ticket_Prefix  Pclass  Family  Survived\n",
       "159         Sage, Master. Thomas Henry            CA       3      10         0\n",
       "180       Sage, Miss. Constance Gladys            CA       3      10         0\n",
       "201                Sage, Mr. Frederick            CA       3      10         0\n",
       "324           Sage, Mr. George John Jr            CA       3      10         0\n",
       "792            Sage, Miss. Stella Anna            CA       3      10         0\n",
       "846           Sage, Mr. Douglas Bullen            CA       3      10         0\n",
       "863  Sage, Miss. Dorothy Edith \"Dolly\"            CA       3      10         0"
      ]
     },
     "execution_count": 34,
     "metadata": {},
     "output_type": "execute_result"
    }
   ],
   "source": [
    "df['Family'] = df['SibSp'] + df['Parch'] \n",
    "\n",
    "most_family = np.where(df['Family'] == max(df['Family'])) \n",
    "df[['Name', 'Ticket_Prefix', 'Pclass', 'Family', 'Survived']].loc[most_family]   "
   ]
  },
  {
   "cell_type": "code",
   "execution_count": 35,
   "id": "5d880e5a",
   "metadata": {
    "execution": {
     "iopub.execute_input": "2025-04-13T14:18:00.116335Z",
     "iopub.status.busy": "2025-04-13T14:18:00.115952Z",
     "iopub.status.idle": "2025-04-13T14:18:00.131556Z",
     "shell.execute_reply": "2025-04-13T14:18:00.129874Z"
    },
    "papermill": {
     "duration": 0.037716,
     "end_time": "2025-04-13T14:18:00.133661",
     "exception": false,
     "start_time": "2025-04-13T14:18:00.095945",
     "status": "completed"
    },
    "tags": []
   },
   "outputs": [
    {
     "name": "stdout",
     "output_type": "stream",
     "text": [
      "<class 'pandas.core.frame.DataFrame'>\n",
      "RangeIndex: 891 entries, 0 to 890\n",
      "Data columns (total 17 columns):\n",
      " #   Column            Non-Null Count  Dtype   \n",
      "---  ------            --------------  -----   \n",
      " 0   Survived          891 non-null    int64   \n",
      " 1   Pclass            891 non-null    int64   \n",
      " 2   Name              891 non-null    object  \n",
      " 3   Age               891 non-null    float64 \n",
      " 4   SibSp             891 non-null    int64   \n",
      " 5   Parch             891 non-null    int64   \n",
      " 6   Ticket            891 non-null    object  \n",
      " 7   Fare              891 non-null    float64 \n",
      " 8   Cabin             891 non-null    category\n",
      " 9   Sex               891 non-null    int64   \n",
      " 10  Ticket_Prefix     891 non-null    object  \n",
      " 11  Ticket_IsNumeric  891 non-null    int64   \n",
      " 12  Ticket_Freq       891 non-null    int64   \n",
      " 13  Has_Cabin         891 non-null    int64   \n",
      " 14  Q                 891 non-null    int64   \n",
      " 15  S                 891 non-null    int64   \n",
      " 16  Family            891 non-null    int64   \n",
      "dtypes: category(1), float64(2), int64(11), object(3)\n",
      "memory usage: 112.7+ KB\n"
     ]
    }
   ],
   "source": [
    "df.info() "
   ]
  },
  {
   "cell_type": "code",
   "execution_count": 36,
   "id": "57da1051",
   "metadata": {
    "execution": {
     "iopub.execute_input": "2025-04-13T14:18:00.172390Z",
     "iopub.status.busy": "2025-04-13T14:18:00.172014Z",
     "iopub.status.idle": "2025-04-13T14:18:00.188219Z",
     "shell.execute_reply": "2025-04-13T14:18:00.186896Z"
    },
    "papermill": {
     "duration": 0.038466,
     "end_time": "2025-04-13T14:18:00.190303",
     "exception": false,
     "start_time": "2025-04-13T14:18:00.151837",
     "status": "completed"
    },
    "tags": []
   },
   "outputs": [
    {
     "data": {
      "text/html": [
       "<div>\n",
       "<style scoped>\n",
       "    .dataframe tbody tr th:only-of-type {\n",
       "        vertical-align: middle;\n",
       "    }\n",
       "\n",
       "    .dataframe tbody tr th {\n",
       "        vertical-align: top;\n",
       "    }\n",
       "\n",
       "    .dataframe thead th {\n",
       "        text-align: right;\n",
       "    }\n",
       "</style>\n",
       "<table border=\"1\" class=\"dataframe\">\n",
       "  <thead>\n",
       "    <tr style=\"text-align: right;\">\n",
       "      <th></th>\n",
       "      <th>Survived</th>\n",
       "      <th>Pclass</th>\n",
       "      <th>Name</th>\n",
       "      <th>Age</th>\n",
       "      <th>SibSp</th>\n",
       "      <th>Parch</th>\n",
       "      <th>Ticket</th>\n",
       "      <th>Fare</th>\n",
       "      <th>Cabin</th>\n",
       "      <th>Sex</th>\n",
       "      <th>Ticket_Prefix</th>\n",
       "      <th>Ticket_IsNumeric</th>\n",
       "      <th>Ticket_Freq</th>\n",
       "      <th>Has_Cabin</th>\n",
       "      <th>Q</th>\n",
       "      <th>S</th>\n",
       "      <th>Family</th>\n",
       "    </tr>\n",
       "  </thead>\n",
       "  <tbody>\n",
       "    <tr>\n",
       "      <th>0</th>\n",
       "      <td>0</td>\n",
       "      <td>3</td>\n",
       "      <td>Braund, Mr. Owen Harris</td>\n",
       "      <td>22.0</td>\n",
       "      <td>1</td>\n",
       "      <td>0</td>\n",
       "      <td>A/5 21171</td>\n",
       "      <td>7.2500</td>\n",
       "      <td>n</td>\n",
       "      <td>1</td>\n",
       "      <td>A5</td>\n",
       "      <td>0</td>\n",
       "      <td>1</td>\n",
       "      <td>1</td>\n",
       "      <td>0</td>\n",
       "      <td>1</td>\n",
       "      <td>1</td>\n",
       "    </tr>\n",
       "    <tr>\n",
       "      <th>1</th>\n",
       "      <td>1</td>\n",
       "      <td>1</td>\n",
       "      <td>Cumings, Mrs. John Bradley (Florence Briggs Th...</td>\n",
       "      <td>38.0</td>\n",
       "      <td>1</td>\n",
       "      <td>0</td>\n",
       "      <td>PC 17599</td>\n",
       "      <td>71.2833</td>\n",
       "      <td>C</td>\n",
       "      <td>0</td>\n",
       "      <td>PC</td>\n",
       "      <td>0</td>\n",
       "      <td>1</td>\n",
       "      <td>1</td>\n",
       "      <td>0</td>\n",
       "      <td>0</td>\n",
       "      <td>1</td>\n",
       "    </tr>\n",
       "    <tr>\n",
       "      <th>2</th>\n",
       "      <td>1</td>\n",
       "      <td>3</td>\n",
       "      <td>Heikkinen, Miss. Laina</td>\n",
       "      <td>26.0</td>\n",
       "      <td>0</td>\n",
       "      <td>0</td>\n",
       "      <td>STON/O2. 3101282</td>\n",
       "      <td>7.9250</td>\n",
       "      <td>n</td>\n",
       "      <td>0</td>\n",
       "      <td>STONO2</td>\n",
       "      <td>0</td>\n",
       "      <td>1</td>\n",
       "      <td>1</td>\n",
       "      <td>0</td>\n",
       "      <td>1</td>\n",
       "      <td>0</td>\n",
       "    </tr>\n",
       "    <tr>\n",
       "      <th>3</th>\n",
       "      <td>1</td>\n",
       "      <td>1</td>\n",
       "      <td>Futrelle, Mrs. Jacques Heath (Lily May Peel)</td>\n",
       "      <td>35.0</td>\n",
       "      <td>1</td>\n",
       "      <td>0</td>\n",
       "      <td>113803</td>\n",
       "      <td>53.1000</td>\n",
       "      <td>C</td>\n",
       "      <td>0</td>\n",
       "      <td>None</td>\n",
       "      <td>1</td>\n",
       "      <td>2</td>\n",
       "      <td>1</td>\n",
       "      <td>0</td>\n",
       "      <td>1</td>\n",
       "      <td>1</td>\n",
       "    </tr>\n",
       "    <tr>\n",
       "      <th>4</th>\n",
       "      <td>0</td>\n",
       "      <td>3</td>\n",
       "      <td>Allen, Mr. William Henry</td>\n",
       "      <td>35.0</td>\n",
       "      <td>0</td>\n",
       "      <td>0</td>\n",
       "      <td>373450</td>\n",
       "      <td>8.0500</td>\n",
       "      <td>n</td>\n",
       "      <td>1</td>\n",
       "      <td>None</td>\n",
       "      <td>1</td>\n",
       "      <td>1</td>\n",
       "      <td>1</td>\n",
       "      <td>0</td>\n",
       "      <td>1</td>\n",
       "      <td>0</td>\n",
       "    </tr>\n",
       "  </tbody>\n",
       "</table>\n",
       "</div>"
      ],
      "text/plain": [
       "   Survived  Pclass                                               Name   Age  \\\n",
       "0         0       3                            Braund, Mr. Owen Harris  22.0   \n",
       "1         1       1  Cumings, Mrs. John Bradley (Florence Briggs Th...  38.0   \n",
       "2         1       3                             Heikkinen, Miss. Laina  26.0   \n",
       "3         1       1       Futrelle, Mrs. Jacques Heath (Lily May Peel)  35.0   \n",
       "4         0       3                           Allen, Mr. William Henry  35.0   \n",
       "\n",
       "   SibSp  Parch            Ticket     Fare Cabin  Sex Ticket_Prefix  \\\n",
       "0      1      0         A/5 21171   7.2500     n    1            A5   \n",
       "1      1      0          PC 17599  71.2833     C    0            PC   \n",
       "2      0      0  STON/O2. 3101282   7.9250     n    0        STONO2   \n",
       "3      1      0            113803  53.1000     C    0          None   \n",
       "4      0      0            373450   8.0500     n    1          None   \n",
       "\n",
       "   Ticket_IsNumeric  Ticket_Freq  Has_Cabin  Q  S  Family  \n",
       "0                 0            1          1  0  1       1  \n",
       "1                 0            1          1  0  0       1  \n",
       "2                 0            1          1  0  1       0  \n",
       "3                 1            2          1  0  1       1  \n",
       "4                 1            1          1  0  1       0  "
      ]
     },
     "execution_count": 36,
     "metadata": {},
     "output_type": "execute_result"
    }
   ],
   "source": [
    "df.head()"
   ]
  },
  {
   "cell_type": "markdown",
   "id": "ce98d6c6",
   "metadata": {
    "papermill": {
     "duration": 0.018105,
     "end_time": "2025-04-13T14:18:00.226570",
     "exception": false,
     "start_time": "2025-04-13T14:18:00.208465",
     "status": "completed"
    },
    "tags": []
   },
   "source": [
    "# 🎥   ***Data Visualization***   "
   ]
  },
  {
   "cell_type": "markdown",
   "id": "3e6b459a",
   "metadata": {
    "papermill": {
     "duration": 0.018186,
     "end_time": "2025-04-13T14:18:00.263204",
     "exception": false,
     "start_time": "2025-04-13T14:18:00.245018",
     "status": "completed"
    },
    "tags": []
   },
   "source": [
    "### 1. 🔍 **Survivial Rate Distribution**"
   ]
  },
  {
   "cell_type": "code",
   "execution_count": 37,
   "id": "ff05842e",
   "metadata": {
    "execution": {
     "iopub.execute_input": "2025-04-13T14:18:00.301268Z",
     "iopub.status.busy": "2025-04-13T14:18:00.300873Z",
     "iopub.status.idle": "2025-04-13T14:18:00.474879Z",
     "shell.execute_reply": "2025-04-13T14:18:00.473704Z"
    },
    "papermill": {
     "duration": 0.195475,
     "end_time": "2025-04-13T14:18:00.476715",
     "exception": false,
     "start_time": "2025-04-13T14:18:00.281240",
     "status": "completed"
    },
    "tags": []
   },
   "outputs": [
    {
     "data": {
      "image/png": "[encoded data removed]",
      "text/plain": [
       "<Figure size 640x480 with 1 Axes>"
      ]
     },
     "metadata": {},
     "output_type": "display_data"
    }
   ],
   "source": [
    "df['Survived'].value_counts().plot(kind='pie',\n",
    "                                   startangle= 90, \n",
    "                                   autopct = '%1.1f%%') \n",
    "\n",
    "plt.ylabel('')\n",
    "plt.title('Distribution of Survival Rates')\n",
    "plt.show()   "
   ]
  },
  {
   "cell_type": "markdown",
   "id": "2d3aaac5",
   "metadata": {
    "papermill": {
     "duration": 0.018352,
     "end_time": "2025-04-13T14:18:00.514005",
     "exception": false,
     "start_time": "2025-04-13T14:18:00.495653",
     "status": "completed"
    },
    "tags": []
   },
   "source": [
    "### 2. 🔍 **Create a subplot that displays the count of survivors categorized by gender & port of embarkation & Pclass**"
   ]
  },
  {
   "cell_type": "code",
   "execution_count": 38,
   "id": "b13abe9f",
   "metadata": {
    "execution": {
     "iopub.execute_input": "2025-04-13T14:18:00.556816Z",
     "iopub.status.busy": "2025-04-13T14:18:00.556400Z",
     "iopub.status.idle": "2025-04-13T14:18:00.560922Z",
     "shell.execute_reply": "2025-04-13T14:18:00.559569Z"
    },
    "papermill": {
     "duration": 0.027278,
     "end_time": "2025-04-13T14:18:00.562668",
     "exception": false,
     "start_time": "2025-04-13T14:18:00.535390",
     "status": "completed"
    },
    "tags": []
   },
   "outputs": [],
   "source": [
    "cate_cols = ['Sex', 'Pclass'] \n",
    "target = 'Survived' "
   ]
  },
  {
   "cell_type": "code",
   "execution_count": 39,
   "id": "3587705a",
   "metadata": {
    "execution": {
     "iopub.execute_input": "2025-04-13T14:18:00.604009Z",
     "iopub.status.busy": "2025-04-13T14:18:00.603507Z",
     "iopub.status.idle": "2025-04-13T14:18:00.628896Z",
     "shell.execute_reply": "2025-04-13T14:18:00.627757Z"
    },
    "papermill": {
     "duration": 0.049126,
     "end_time": "2025-04-13T14:18:00.631228",
     "exception": false,
     "start_time": "2025-04-13T14:18:00.582102",
     "status": "completed"
    },
    "tags": []
   },
   "outputs": [
    {
     "data": {
      "text/plain": [
       "<Figure size 2500x1200 with 0 Axes>"
      ]
     },
     "metadata": {},
     "output_type": "display_data"
    }
   ],
   "source": [
    "fig = plt.figure(figsize = (25, len(cate_cols)*6))  "
   ]
  },
  {
   "cell_type": "code",
   "execution_count": 40,
   "id": "6dcb9715",
   "metadata": {
    "execution": {
     "iopub.execute_input": "2025-04-13T14:18:00.670900Z",
     "iopub.status.busy": "2025-04-13T14:18:00.670470Z",
     "iopub.status.idle": "2025-04-13T14:18:01.230705Z",
     "shell.execute_reply": "2025-04-13T14:18:01.229402Z"
    },
    "papermill": {
     "duration": 0.581795,
     "end_time": "2025-04-13T14:18:01.232705",
     "exception": false,
     "start_time": "2025-04-13T14:18:00.650910",
     "status": "completed"
    },
    "tags": []
   },
   "outputs": [
    {
     "data": {
      "image/png": "[encoded data removed]",
      "text/plain": [
       "<Figure size 640x480 with 2 Axes>"
      ]
     },
     "metadata": {},
     "output_type": "display_data"
    }
   ],
   "source": [
    "for i, col in enumerate(cate_cols):\n",
    "    plt.subplot(len(cate_cols)//2 + len(cate_cols)%2, 2, i+1) \n",
    "    sns.countplot(x=col, hue=target, data=df) \n",
    "    plt.title(f'Count of Victims & Survivors Categorized by {col}', fontsize=8) \n",
    "    plt.ylim(0, df[col].value_counts().max()+10) \n",
    "    plt.ylabel('')\n",
    "\n",
    "\n",
    "plt.tight_layout() \n",
    "plt.show() \n"
   ]
  },
  {
   "cell_type": "markdown",
   "id": "795fa317",
   "metadata": {
    "papermill": {
     "duration": 0.019106,
     "end_time": "2025-04-13T14:18:01.271494",
     "exception": false,
     "start_time": "2025-04-13T14:18:01.252388",
     "status": "completed"
    },
    "tags": []
   },
   "source": [
    "### 3. 🔍 **Create a histplot that displays the count of survivors categorized by Age**"
   ]
  },
  {
   "cell_type": "code",
   "execution_count": 41,
   "id": "22fb50cf",
   "metadata": {
    "execution": {
     "iopub.execute_input": "2025-04-13T14:18:01.313307Z",
     "iopub.status.busy": "2025-04-13T14:18:01.312859Z",
     "iopub.status.idle": "2025-04-13T14:18:01.802939Z",
     "shell.execute_reply": "2025-04-13T14:18:01.801598Z"
    },
    "papermill": {
     "duration": 0.513979,
     "end_time": "2025-04-13T14:18:01.805019",
     "exception": false,
     "start_time": "2025-04-13T14:18:01.291040",
     "status": "completed"
    },
    "tags": []
   },
   "outputs": [
    {
     "data": {
      "image/png": "[encoded data removed]",
      "text/plain": [
       "<Figure size 640x480 with 1 Axes>"
      ]
     },
     "metadata": {},
     "output_type": "display_data"
    }
   ],
   "source": [
    "sns.histplot(data=df,\n",
    "             x='Age', \n",
    "             hue='Survived', \n",
    "             bins=30,\n",
    "             kde=True) \n",
    "\n",
    "plt.title('Age Distribution of Titanic Victims & Survivors')\n",
    "plt.show()"
   ]
  },
  {
   "cell_type": "markdown",
   "id": "dcbf84fa",
   "metadata": {
    "papermill": {
     "duration": 0.020526,
     "end_time": "2025-04-13T14:18:01.846677",
     "exception": false,
     "start_time": "2025-04-13T14:18:01.826151",
     "status": "completed"
    },
    "tags": []
   },
   "source": [
    "### 4. 🔍 **Create a Barplot that Displays Survived Distribution Categorized by Sex in Three Pclasses**"
   ]
  },
  {
   "cell_type": "code",
   "execution_count": 42,
   "id": "d9e47163",
   "metadata": {
    "execution": {
     "iopub.execute_input": "2025-04-13T14:18:01.892445Z",
     "iopub.status.busy": "2025-04-13T14:18:01.892089Z",
     "iopub.status.idle": "2025-04-13T14:18:02.263000Z",
     "shell.execute_reply": "2025-04-13T14:18:02.261590Z"
    },
    "papermill": {
     "duration": 0.396794,
     "end_time": "2025-04-13T14:18:02.264995",
     "exception": false,
     "start_time": "2025-04-13T14:18:01.868201",
     "status": "completed"
    },
    "tags": []
   },
   "outputs": [
    {
     "data": {
      "image/png": "[encoded data removed]",
      "text/plain": [
       "<Figure size 640x480 with 1 Axes>"
      ]
     },
     "metadata": {},
     "output_type": "display_data"
    }
   ],
   "source": [
    "sns.barplot(x='Pclass',\n",
    "            y = 'Survived', \n",
    "            hue = 'Sex', \n",
    "            data = df) \n",
    "\n",
    "plt.title('Survived Distribution by Sex in Three Pclasses') \n",
    "plt.show() "
   ]
  },
  {
   "cell_type": "code",
   "execution_count": 43,
   "id": "ae2d764a",
   "metadata": {
    "execution": {
     "iopub.execute_input": "2025-04-13T14:18:02.308926Z",
     "iopub.status.busy": "2025-04-13T14:18:02.308430Z",
     "iopub.status.idle": "2025-04-13T14:18:03.163489Z",
     "shell.execute_reply": "2025-04-13T14:18:03.162256Z"
    },
    "papermill": {
     "duration": 0.880379,
     "end_time": "2025-04-13T14:18:03.166619",
     "exception": false,
     "start_time": "2025-04-13T14:18:02.286240",
     "status": "completed"
    },
    "tags": []
   },
   "outputs": [
    {
     "data": {
      "image/png": "[encoded data removed]",
      "text/plain": [
       "<Figure size 640x480 with 2 Axes>"
      ]
     },
     "metadata": {},
     "output_type": "display_data"
    }
   ],
   "source": [
    "sns.heatmap(df.corr(numeric_only=True), annot=True)   \n",
    "plt.show() "
   ]
  },
  {
   "cell_type": "markdown",
   "id": "303b43e4",
   "metadata": {
    "papermill": {
     "duration": 0.024258,
     "end_time": "2025-04-13T14:18:03.217461",
     "exception": false,
     "start_time": "2025-04-13T14:18:03.193203",
     "status": "completed"
    },
    "tags": []
   },
   "source": [
    "# 🤖   ***Machine Learning***   "
   ]
  },
  {
   "cell_type": "markdown",
   "id": "4d744515",
   "metadata": {
    "papermill": {
     "duration": 0.025082,
     "end_time": "2025-04-13T14:18:03.268040",
     "exception": false,
     "start_time": "2025-04-13T14:18:03.242958",
     "status": "completed"
    },
    "tags": []
   },
   "source": [
    "### 1. 🔍 **Modeling**"
   ]
  },
  {
   "cell_type": "code",
   "execution_count": 44,
   "id": "30cad8e6",
   "metadata": {
    "execution": {
     "iopub.execute_input": "2025-04-13T14:18:03.320317Z",
     "iopub.status.busy": "2025-04-13T14:18:03.319906Z",
     "iopub.status.idle": "2025-04-13T14:18:03.325929Z",
     "shell.execute_reply": "2025-04-13T14:18:03.324796Z"
    },
    "papermill": {
     "duration": 0.034377,
     "end_time": "2025-04-13T14:18:03.327824",
     "exception": false,
     "start_time": "2025-04-13T14:18:03.293447",
     "status": "completed"
    },
    "tags": []
   },
   "outputs": [],
   "source": [
    "df.drop(['Name', 'SibSp', 'Parch', 'Ticket', 'Cabin', 'Ticket_Prefix'], axis=1, inplace=True) "
   ]
  },
  {
   "cell_type": "code",
   "execution_count": 45,
   "id": "aff0ec76",
   "metadata": {
    "execution": {
     "iopub.execute_input": "2025-04-13T14:18:03.380821Z",
     "iopub.status.busy": "2025-04-13T14:18:03.380400Z",
     "iopub.status.idle": "2025-04-13T14:18:03.392320Z",
     "shell.execute_reply": "2025-04-13T14:18:03.390609Z"
    },
    "papermill": {
     "duration": 0.040657,
     "end_time": "2025-04-13T14:18:03.394663",
     "exception": false,
     "start_time": "2025-04-13T14:18:03.354006",
     "status": "completed"
    },
    "tags": []
   },
   "outputs": [
    {
     "name": "stdout",
     "output_type": "stream",
     "text": [
      "<class 'pandas.core.frame.DataFrame'>\n",
      "RangeIndex: 891 entries, 0 to 890\n",
      "Data columns (total 11 columns):\n",
      " #   Column            Non-Null Count  Dtype  \n",
      "---  ------            --------------  -----  \n",
      " 0   Survived          891 non-null    int64  \n",
      " 1   Pclass            891 non-null    int64  \n",
      " 2   Age               891 non-null    float64\n",
      " 3   Fare              891 non-null    float64\n",
      " 4   Sex               891 non-null    int64  \n",
      " 5   Ticket_IsNumeric  891 non-null    int64  \n",
      " 6   Ticket_Freq       891 non-null    int64  \n",
      " 7   Has_Cabin         891 non-null    int64  \n",
      " 8   Q                 891 non-null    int64  \n",
      " 9   S                 891 non-null    int64  \n",
      " 10  Family            891 non-null    int64  \n",
      "dtypes: float64(2), int64(9)\n",
      "memory usage: 76.7 KB\n"
     ]
    }
   ],
   "source": [
    "df.info() "
   ]
  },
  {
   "cell_type": "code",
   "execution_count": 46,
   "id": "ed590ab7",
   "metadata": {
    "execution": {
     "iopub.execute_input": "2025-04-13T14:18:03.447874Z",
     "iopub.status.busy": "2025-04-13T14:18:03.447472Z",
     "iopub.status.idle": "2025-04-13T14:18:03.453984Z",
     "shell.execute_reply": "2025-04-13T14:18:03.452738Z"
    },
    "papermill": {
     "duration": 0.03462,
     "end_time": "2025-04-13T14:18:03.455783",
     "exception": false,
     "start_time": "2025-04-13T14:18:03.421163",
     "status": "completed"
    },
    "tags": []
   },
   "outputs": [
    {
     "data": {
      "text/plain": [
       "Index(['Survived', 'Pclass', 'Age', 'Fare', 'Sex', 'Ticket_IsNumeric',\n",
       "       'Ticket_Freq', 'Has_Cabin', 'Q', 'S', 'Family'],\n",
       "      dtype='object')"
      ]
     },
     "execution_count": 46,
     "metadata": {},
     "output_type": "execute_result"
    }
   ],
   "source": [
    "df.columns"
   ]
  },
  {
   "cell_type": "code",
   "execution_count": 47,
   "id": "302e0186",
   "metadata": {
    "execution": {
     "iopub.execute_input": "2025-04-13T14:18:03.511726Z",
     "iopub.status.busy": "2025-04-13T14:18:03.511338Z",
     "iopub.status.idle": "2025-04-13T14:18:03.517889Z",
     "shell.execute_reply": "2025-04-13T14:18:03.516377Z"
    },
    "papermill": {
     "duration": 0.035925,
     "end_time": "2025-04-13T14:18:03.520188",
     "exception": false,
     "start_time": "2025-04-13T14:18:03.484263",
     "status": "completed"
    },
    "tags": []
   },
   "outputs": [],
   "source": [
    "X = df.drop('Survived', axis=1)\n",
    "y = df['Survived']"
   ]
  },
  {
   "cell_type": "code",
   "execution_count": 48,
   "id": "7b4900d3",
   "metadata": {
    "execution": {
     "iopub.execute_input": "2025-04-13T14:18:03.574816Z",
     "iopub.status.busy": "2025-04-13T14:18:03.574412Z",
     "iopub.status.idle": "2025-04-13T14:18:03.580845Z",
     "shell.execute_reply": "2025-04-13T14:18:03.579926Z"
    },
    "papermill": {
     "duration": 0.03554,
     "end_time": "2025-04-13T14:18:03.582607",
     "exception": false,
     "start_time": "2025-04-13T14:18:03.547067",
     "status": "completed"
    },
    "tags": []
   },
   "outputs": [],
   "source": [
    "X_train, X_test, y_train, y_test = train_test_split( X, y, test_size=0.3, random_state=42)"
   ]
  },
  {
   "cell_type": "code",
   "execution_count": 49,
   "id": "83a8622c",
   "metadata": {
    "execution": {
     "iopub.execute_input": "2025-04-13T14:18:03.636285Z",
     "iopub.status.busy": "2025-04-13T14:18:03.635879Z",
     "iopub.status.idle": "2025-04-13T14:18:03.681099Z",
     "shell.execute_reply": "2025-04-13T14:18:03.679939Z"
    },
    "papermill": {
     "duration": 0.074342,
     "end_time": "2025-04-13T14:18:03.682788",
     "exception": false,
     "start_time": "2025-04-13T14:18:03.608446",
     "status": "completed"
    },
    "tags": []
   },
   "outputs": [
    {
     "data": {
      "text/html": [
       "<style>#sk-container-id-1 {color: black;background-color: white;}#sk-container-id-1 pre{padding: 0;}#sk-container-id-1 div.sk-toggleable {background-color: white;}#sk-container-id-1 label.sk-toggleable__label {cursor: pointer;display: block;width: 100%;margin-bottom: 0;padding: 0.3em;box-sizing: border-box;text-align: center;}#sk-container-id-1 label.sk-toggleable__label-arrow:before {content: \"▸\";float: left;margin-right: 0.25em;color: #696969;}#sk-container-id-1 label.sk-toggleable__label-arrow:hover:before {color: black;}#sk-container-id-1 div.sk-estimator:hover label.sk-toggleable__label-arrow:before {color: black;}#sk-container-id-1 div.sk-toggleable__content {max-height: 0;max-width: 0;overflow: hidden;text-align: left;background-color: #f0f8ff;}#sk-container-id-1 div.sk-toggleable__content pre {margin: 0.2em;color: black;border-radius: 0.25em;background-color: #f0f8ff;}#sk-container-id-1 input.sk-toggleable__control:checked~div.sk-toggleable__content {max-height: 200px;max-width: 100%;overflow: auto;}#sk-container-id-1 input.sk-toggleable__control:checked~label.sk-toggleable__label-arrow:before {content: \"▾\";}#sk-container-id-1 div.sk-estimator input.sk-toggleable__control:checked~label.sk-toggleable__label {background-color: #d4ebff;}#sk-container-id-1 div.sk-label input.sk-toggleable__control:checked~label.sk-toggleable__label {background-color: #d4ebff;}#sk-container-id-1 input.sk-hidden--visually {border: 0;clip: rect(1px 1px 1px 1px);clip: rect(1px, 1px, 1px, 1px);height: 1px;margin: -1px;overflow: hidden;padding: 0;position: absolute;width: 1px;}#sk-container-id-1 div.sk-estimator {font-family: monospace;background-color: #f0f8ff;border: 1px dotted black;border-radius: 0.25em;box-sizing: border-box;margin-bottom: 0.5em;}#sk-container-id-1 div.sk-estimator:hover {background-color: #d4ebff;}#sk-container-id-1 div.sk-parallel-item::after {content: \"\";width: 100%;border-bottom: 1px solid gray;flex-grow: 1;}#sk-container-id-1 div.sk-label:hover label.sk-toggleable__label {background-color: #d4ebff;}#sk-container-id-1 div.sk-serial::before {content: \"\";position: absolute;border-left: 1px solid gray;box-sizing: border-box;top: 0;bottom: 0;left: 50%;z-index: 0;}#sk-container-id-1 div.sk-serial {display: flex;flex-direction: column;align-items: center;background-color: white;padding-right: 0.2em;padding-left: 0.2em;position: relative;}#sk-container-id-1 div.sk-item {position: relative;z-index: 1;}#sk-container-id-1 div.sk-parallel {display: flex;align-items: stretch;justify-content: center;background-color: white;position: relative;}#sk-container-id-1 div.sk-item::before, #sk-container-id-1 div.sk-parallel-item::before {content: \"\";position: absolute;border-left: 1px solid gray;box-sizing: border-box;top: 0;bottom: 0;left: 50%;z-index: -1;}#sk-container-id-1 div.sk-parallel-item {display: flex;flex-direction: column;z-index: 1;position: relative;background-color: white;}#sk-container-id-1 div.sk-parallel-item:first-child::after {align-self: flex-end;width: 50%;}#sk-container-id-1 div.sk-parallel-item:last-child::after {align-self: flex-start;width: 50%;}#sk-container-id-1 div.sk-parallel-item:only-child::after {width: 0;}#sk-container-id-1 div.sk-dashed-wrapped {border: 1px dashed gray;margin: 0 0.4em 0.5em 0.4em;box-sizing: border-box;padding-bottom: 0.4em;background-color: white;}#sk-container-id-1 div.sk-label label {font-family: monospace;font-weight: bold;display: inline-block;line-height: 1.2em;}#sk-container-id-1 div.sk-label-container {text-align: center;}#sk-container-id-1 div.sk-container {/* jupyter's `normalize.less` sets `[hidden] { display: none; }` but bootstrap.min.css set `[hidden] { display: none !important; }` so we also need the `!important` here to be able to override the default hidden behavior on the sphinx rendered scikit-learn.org. See: https://github.com/scikit-learn/scikit-learn/issues/21755 */display: inline-block !important;position: relative;}#sk-container-id-1 div.sk-text-repr-fallback {display: none;}</style><div id=\"sk-container-id-1\" class=\"sk-top-container\"><div class=\"sk-text-repr-fallback\"><pre>LogisticRegression()</pre><b>In a Jupyter environment, please rerun this cell to show the HTML representation or trust the notebook. <br />On GitHub, the HTML representation is unable to render, please try loading this page with nbviewer.org.</b></div><div class=\"sk-container\" hidden><div class=\"sk-item\"><div class=\"sk-estimator sk-toggleable\"><input class=\"sk-toggleable__control sk-hidden--visually\" id=\"sk-estimator-id-1\" type=\"checkbox\" checked><label for=\"sk-estimator-id-1\" class=\"sk-toggleable__label sk-toggleable__label-arrow\">LogisticRegression</label><div class=\"sk-toggleable__content\"><pre>LogisticRegression()</pre></div></div></div></div></div>"
      ],
      "text/plain": [
       "LogisticRegression()"
      ]
     },
     "execution_count": 49,
     "metadata": {},
     "output_type": "execute_result"
    }
   ],
   "source": [
    "log_model = LogisticRegression () \n",
    "log_model.fit(X_train, y_train)  "
   ]
  },
  {
   "cell_type": "code",
   "execution_count": 50,
   "id": "73b31dd0",
   "metadata": {
    "execution": {
     "iopub.execute_input": "2025-04-13T14:18:03.738087Z",
     "iopub.status.busy": "2025-04-13T14:18:03.737710Z",
     "iopub.status.idle": "2025-04-13T14:18:03.743958Z",
     "shell.execute_reply": "2025-04-13T14:18:03.742696Z"
    },
    "papermill": {
     "duration": 0.036413,
     "end_time": "2025-04-13T14:18:03.745890",
     "exception": false,
     "start_time": "2025-04-13T14:18:03.709477",
     "status": "completed"
    },
    "tags": []
   },
   "outputs": [],
   "source": [
    "predictions = log_model.predict(X_test) "
   ]
  },
  {
   "cell_type": "code",
   "execution_count": 51,
   "id": "1568e943",
   "metadata": {
    "execution": {
     "iopub.execute_input": "2025-04-13T14:18:03.799734Z",
     "iopub.status.busy": "2025-04-13T14:18:03.799294Z",
     "iopub.status.idle": "2025-04-13T14:18:03.814773Z",
     "shell.execute_reply": "2025-04-13T14:18:03.813169Z"
    },
    "papermill": {
     "duration": 0.044724,
     "end_time": "2025-04-13T14:18:03.816730",
     "exception": false,
     "start_time": "2025-04-13T14:18:03.772006",
     "status": "completed"
    },
    "tags": []
   },
   "outputs": [
    {
     "name": "stdout",
     "output_type": "stream",
     "text": [
      "              precision    recall  f1-score   support\n",
      "\n",
      "           0       0.81      0.87      0.84       157\n",
      "           1       0.80      0.71      0.75       111\n",
      "\n",
      "    accuracy                           0.81       268\n",
      "   macro avg       0.80      0.79      0.80       268\n",
      "weighted avg       0.81      0.81      0.80       268\n",
      "\n"
     ]
    }
   ],
   "source": [
    "from sklearn.metrics import classification_report\n",
    "\n",
    "print(classification_report(y_test, predictions)) "
   ]
  },
  {
   "cell_type": "code",
   "execution_count": 52,
   "id": "88dde860",
   "metadata": {
    "execution": {
     "iopub.execute_input": "2025-04-13T14:18:03.874512Z",
     "iopub.status.busy": "2025-04-13T14:18:03.874107Z",
     "iopub.status.idle": "2025-04-13T14:18:03.882423Z",
     "shell.execute_reply": "2025-04-13T14:18:03.881276Z"
    },
    "papermill": {
     "duration": 0.038497,
     "end_time": "2025-04-13T14:18:03.884412",
     "exception": false,
     "start_time": "2025-04-13T14:18:03.845915",
     "status": "completed"
    },
    "tags": []
   },
   "outputs": [
    {
     "data": {
      "text/plain": [
       "array([[137,  20],\n",
       "       [ 32,  79]])"
      ]
     },
     "execution_count": 52,
     "metadata": {},
     "output_type": "execute_result"
    }
   ],
   "source": [
    "from sklearn.metrics import confusion_matrix\n",
    "\n",
    "confusion_matrix(y_test, predictions)  "
   ]
  }
 ],
 "metadata": {
  "kaggle": {
   "accelerator": "none",
   "dataSources": [
    {
     "datasetId": 7093056,
     "sourceId": 11338283,
     "sourceType": "datasetVersion"
    }
   ],
   "dockerImageVersionId": 30918,
   "isGpuEnabled": false,
   "isInternetEnabled": true,
   "language": "python",
   "sourceType": "notebook"
  },
  "kernelspec": {
   "display_name": "Python 3",
   "language": "python",
   "name": "python3"
  },
  "language_info": {
   "codemirror_mode": {
    "name": "ipython",
    "version": 3
   },
   "file_extension": ".py",
   "mimetype": "text/x-python",
   "name": "python",
   "nbconvert_exporter": "python",
   "pygments_lexer": "ipython3",
   "version": "3.10.12"
  },
  "papermill": {
   "default_parameters": {},
   "duration": 17.601548,
   "end_time": "2025-04-13T14:18:04.835718",
   "environment_variables": {},
   "exception": null,
   "input_path": "__notebook__.ipynb",
   "output_path": "__notebook__.ipynb",
   "parameters": {},
   "start_time": "2025-04-13T14:17:47.234170",
   "version": "2.6.0"
  }
 },
 "nbformat": 4,
 "nbformat_minor": 5
}
