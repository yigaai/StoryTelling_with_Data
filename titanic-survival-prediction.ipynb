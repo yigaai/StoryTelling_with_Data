{
 "cells": [
  {
   "cell_type": "markdown",
   "id": "9bb9a341",
   "metadata": {
    "papermill": {
     "duration": 0.014894,
     "end_time": "2025-04-22T03:54:21.570996",
     "exception": false,
     "start_time": "2025-04-22T03:54:21.556102",
     "status": "completed"
    },
    "tags": []
   },
   "source": [
    "   # 🛳️ **Titanic Survival Prediction**  \n",
    "\n",
    "   ###   👩🏻‍💻 By Rosy  \n"
   ]
  },
  {
   "cell_type": "markdown",
   "id": "c2cba951",
   "metadata": {
    "papermill": {
     "duration": 0.028279,
     "end_time": "2025-04-22T03:54:21.616426",
     "exception": false,
     "start_time": "2025-04-22T03:54:21.588147",
     "status": "completed"
    },
    "tags": []
   },
   "source": [
    "# ***🎯 Goals & Tasks:*** \n",
    "\n",
    " ### 1. Provide Insights by Means of Data. 📊\n",
    "    \n",
    " ### 2. Make a Prediction through Machine Learning. 🤖\n",
    "     "
   ]
  },
  {
   "cell_type": "markdown",
   "id": "1c00bd1f",
   "metadata": {
    "papermill": {
     "duration": 0.023561,
     "end_time": "2025-04-22T03:54:21.662308",
     "exception": false,
     "start_time": "2025-04-22T03:54:21.638747",
     "status": "completed"
    },
    "tags": []
   },
   "source": [
    "# ***🗂️ Import Libraries*** "
   ]
  },
  {
   "cell_type": "code",
   "execution_count": 1,
   "id": "7c490f4c",
   "metadata": {
    "execution": {
     "iopub.execute_input": "2025-04-22T03:54:21.703085Z",
     "iopub.status.busy": "2025-04-22T03:54:21.702596Z",
     "iopub.status.idle": "2025-04-22T03:54:26.896632Z",
     "shell.execute_reply": "2025-04-22T03:54:26.895365Z"
    },
    "papermill": {
     "duration": 5.214789,
     "end_time": "2025-04-22T03:54:26.898839",
     "exception": false,
     "start_time": "2025-04-22T03:54:21.684050",
     "status": "completed"
    },
    "tags": []
   },
   "outputs": [],
   "source": [
    "import os\n",
    "\n",
    "import pandas as pd\n",
    "import numpy as np\n",
    "\n",
    "import scipy.stats as stats \n",
    "\n",
    "import matplotlib.pyplot as plt\n",
    "import seaborn as sns\n",
    "import plotly.express as px\n",
    "sns.set() \n",
    "\n",
    "\n",
    "from sklearn.preprocessing import StandardScaler, LabelEncoder, MinMaxScaler\n",
    "\n",
    "\n",
    "from sklearn.model_selection import train_test_split, GridSearchCV, cross_val_score\n",
    "\n",
    "from sklearn.linear_model import LogisticRegression\n",
    "from sklearn.neighbors import KNeighborsClassifier\n",
    "from sklearn.svm import SVC\n",
    "from sklearn.tree import DecisionTreeClassifier\n",
    "from sklearn.ensemble import RandomForestClassifier, AdaBoostClassifier, GradientBoostingClassifier, RandomForestRegressor\n",
    "from xgboost import XGBClassifier\n",
    "\n",
    "\n",
    "from sklearn.metrics import classification_report\n",
    "from sklearn.metrics import confusion_matrix\n",
    "from sklearn.metrics import accuracy_score, f1_score, precision_score, recall_score\n",
    "\n",
    "\n",
    "import warnings \n",
    "warnings.filterwarnings('ignore') "
   ]
  },
  {
   "cell_type": "markdown",
   "id": "fe613224",
   "metadata": {
    "papermill": {
     "duration": 0.013229,
     "end_time": "2025-04-22T03:54:26.925599",
     "exception": false,
     "start_time": "2025-04-22T03:54:26.912370",
     "status": "completed"
    },
    "tags": []
   },
   "source": [
    "# ***⏳ Data Loading*** "
   ]
  },
  {
   "cell_type": "code",
   "execution_count": 2,
   "id": "9a717638",
   "metadata": {
    "execution": {
     "iopub.execute_input": "2025-04-22T03:54:26.953567Z",
     "iopub.status.busy": "2025-04-22T03:54:26.952685Z",
     "iopub.status.idle": "2025-04-22T03:54:26.977586Z",
     "shell.execute_reply": "2025-04-22T03:54:26.976408Z"
    },
    "papermill": {
     "duration": 0.041122,
     "end_time": "2025-04-22T03:54:26.979522",
     "exception": false,
     "start_time": "2025-04-22T03:54:26.938400",
     "status": "completed"
    },
    "tags": []
   },
   "outputs": [],
   "source": [
    "os.listdir('/kaggle/input/titanic-data')  \n",
    "df = pd.read_csv('/kaggle/input/titanic-data/train.csv') "
   ]
  },
  {
   "cell_type": "markdown",
   "id": "c2303083",
   "metadata": {
    "papermill": {
     "duration": 0.012793,
     "end_time": "2025-04-22T03:54:27.005477",
     "exception": false,
     "start_time": "2025-04-22T03:54:26.992684",
     "status": "completed"
    },
    "tags": []
   },
   "source": [
    "# ***🔭 Data Exploration***  "
   ]
  },
  {
   "cell_type": "markdown",
   "id": "091bb917",
   "metadata": {
    "papermill": {
     "duration": 0.013097,
     "end_time": "2025-04-22T03:54:27.031355",
     "exception": false,
     "start_time": "2025-04-22T03:54:27.018258",
     "status": "completed"
    },
    "tags": []
   },
   "source": [
    "### 1. 🔍 **Take a Glimpse of Data**"
   ]
  },
  {
   "cell_type": "code",
   "execution_count": 3,
   "id": "70c9d5cc",
   "metadata": {
    "execution": {
     "iopub.execute_input": "2025-04-22T03:54:27.059800Z",
     "iopub.status.busy": "2025-04-22T03:54:27.059387Z",
     "iopub.status.idle": "2025-04-22T03:54:27.089976Z",
     "shell.execute_reply": "2025-04-22T03:54:27.088812Z"
    },
    "papermill": {
     "duration": 0.047826,
     "end_time": "2025-04-22T03:54:27.091796",
     "exception": false,
     "start_time": "2025-04-22T03:54:27.043970",
     "status": "completed"
    },
    "tags": []
   },
   "outputs": [
    {
     "data": {
      "text/html": [
       "<div>\n",
       "<style scoped>\n",
       "    .dataframe tbody tr th:only-of-type {\n",
       "        vertical-align: middle;\n",
       "    }\n",
       "\n",
       "    .dataframe tbody tr th {\n",
       "        vertical-align: top;\n",
       "    }\n",
       "\n",
       "    .dataframe thead th {\n",
       "        text-align: right;\n",
       "    }\n",
       "</style>\n",
       "<table border=\"1\" class=\"dataframe\">\n",
       "  <thead>\n",
       "    <tr style=\"text-align: right;\">\n",
       "      <th></th>\n",
       "      <th>PassengerId</th>\n",
       "      <th>Survived</th>\n",
       "      <th>Pclass</th>\n",
       "      <th>Name</th>\n",
       "      <th>Sex</th>\n",
       "      <th>Age</th>\n",
       "      <th>SibSp</th>\n",
       "      <th>Parch</th>\n",
       "      <th>Ticket</th>\n",
       "      <th>Fare</th>\n",
       "      <th>Cabin</th>\n",
       "      <th>Embarked</th>\n",
       "    </tr>\n",
       "  </thead>\n",
       "  <tbody>\n",
       "    <tr>\n",
       "      <th>0</th>\n",
       "      <td>1</td>\n",
       "      <td>0</td>\n",
       "      <td>3</td>\n",
       "      <td>Braund, Mr. Owen Harris</td>\n",
       "      <td>male</td>\n",
       "      <td>22.0</td>\n",
       "      <td>1</td>\n",
       "      <td>0</td>\n",
       "      <td>A/5 21171</td>\n",
       "      <td>7.2500</td>\n",
       "      <td>NaN</td>\n",
       "      <td>S</td>\n",
       "    </tr>\n",
       "    <tr>\n",
       "      <th>1</th>\n",
       "      <td>2</td>\n",
       "      <td>1</td>\n",
       "      <td>1</td>\n",
       "      <td>Cumings, Mrs. John Bradley (Florence Briggs Th...</td>\n",
       "      <td>female</td>\n",
       "      <td>38.0</td>\n",
       "      <td>1</td>\n",
       "      <td>0</td>\n",
       "      <td>PC 17599</td>\n",
       "      <td>71.2833</td>\n",
       "      <td>C85</td>\n",
       "      <td>C</td>\n",
       "    </tr>\n",
       "    <tr>\n",
       "      <th>2</th>\n",
       "      <td>3</td>\n",
       "      <td>1</td>\n",
       "      <td>3</td>\n",
       "      <td>Heikkinen, Miss. Laina</td>\n",
       "      <td>female</td>\n",
       "      <td>26.0</td>\n",
       "      <td>0</td>\n",
       "      <td>0</td>\n",
       "      <td>STON/O2. 3101282</td>\n",
       "      <td>7.9250</td>\n",
       "      <td>NaN</td>\n",
       "      <td>S</td>\n",
       "    </tr>\n",
       "    <tr>\n",
       "      <th>3</th>\n",
       "      <td>4</td>\n",
       "      <td>1</td>\n",
       "      <td>1</td>\n",
       "      <td>Futrelle, Mrs. Jacques Heath (Lily May Peel)</td>\n",
       "      <td>female</td>\n",
       "      <td>35.0</td>\n",
       "      <td>1</td>\n",
       "      <td>0</td>\n",
       "      <td>113803</td>\n",
       "      <td>53.1000</td>\n",
       "      <td>C123</td>\n",
       "      <td>S</td>\n",
       "    </tr>\n",
       "    <tr>\n",
       "      <th>4</th>\n",
       "      <td>5</td>\n",
       "      <td>0</td>\n",
       "      <td>3</td>\n",
       "      <td>Allen, Mr. William Henry</td>\n",
       "      <td>male</td>\n",
       "      <td>35.0</td>\n",
       "      <td>0</td>\n",
       "      <td>0</td>\n",
       "      <td>373450</td>\n",
       "      <td>8.0500</td>\n",
       "      <td>NaN</td>\n",
       "      <td>S</td>\n",
       "    </tr>\n",
       "  </tbody>\n",
       "</table>\n",
       "</div>"
      ],
      "text/plain": [
       "   PassengerId  Survived  Pclass  \\\n",
       "0            1         0       3   \n",
       "1            2         1       1   \n",
       "2            3         1       3   \n",
       "3            4         1       1   \n",
       "4            5         0       3   \n",
       "\n",
       "                                                Name     Sex   Age  SibSp  \\\n",
       "0                            Braund, Mr. Owen Harris    male  22.0      1   \n",
       "1  Cumings, Mrs. John Bradley (Florence Briggs Th...  female  38.0      1   \n",
       "2                             Heikkinen, Miss. Laina  female  26.0      0   \n",
       "3       Futrelle, Mrs. Jacques Heath (Lily May Peel)  female  35.0      1   \n",
       "4                           Allen, Mr. William Henry    male  35.0      0   \n",
       "\n",
       "   Parch            Ticket     Fare Cabin Embarked  \n",
       "0      0         A/5 21171   7.2500   NaN        S  \n",
       "1      0          PC 17599  71.2833   C85        C  \n",
       "2      0  STON/O2. 3101282   7.9250   NaN        S  \n",
       "3      0            113803  53.1000  C123        S  \n",
       "4      0            373450   8.0500   NaN        S  "
      ]
     },
     "execution_count": 3,
     "metadata": {},
     "output_type": "execute_result"
    }
   ],
   "source": [
    "df.head(5) "
   ]
  },
  {
   "cell_type": "markdown",
   "id": "3f652e4c",
   "metadata": {
    "papermill": {
     "duration": 0.01352,
     "end_time": "2025-04-22T03:54:27.118959",
     "exception": false,
     "start_time": "2025-04-22T03:54:27.105439",
     "status": "completed"
    },
    "tags": []
   },
   "source": [
    "### 2. 🔍 **DataType of Each Column**"
   ]
  },
  {
   "cell_type": "code",
   "execution_count": 4,
   "id": "5389db4d",
   "metadata": {
    "execution": {
     "iopub.execute_input": "2025-04-22T03:54:27.146883Z",
     "iopub.status.busy": "2025-04-22T03:54:27.146311Z",
     "iopub.status.idle": "2025-04-22T03:54:27.178108Z",
     "shell.execute_reply": "2025-04-22T03:54:27.176546Z"
    },
    "papermill": {
     "duration": 0.048151,
     "end_time": "2025-04-22T03:54:27.180201",
     "exception": false,
     "start_time": "2025-04-22T03:54:27.132050",
     "status": "completed"
    },
    "tags": []
   },
   "outputs": [
    {
     "name": "stdout",
     "output_type": "stream",
     "text": [
      "<class 'pandas.core.frame.DataFrame'>\n",
      "RangeIndex: 891 entries, 0 to 890\n",
      "Data columns (total 12 columns):\n",
      " #   Column       Non-Null Count  Dtype  \n",
      "---  ------       --------------  -----  \n",
      " 0   PassengerId  891 non-null    int64  \n",
      " 1   Survived     891 non-null    int64  \n",
      " 2   Pclass       891 non-null    int64  \n",
      " 3   Name         891 non-null    object \n",
      " 4   Sex          891 non-null    object \n",
      " 5   Age          714 non-null    float64\n",
      " 6   SibSp        891 non-null    int64  \n",
      " 7   Parch        891 non-null    int64  \n",
      " 8   Ticket       891 non-null    object \n",
      " 9   Fare         891 non-null    float64\n",
      " 10  Cabin        204 non-null    object \n",
      " 11  Embarked     889 non-null    object \n",
      "dtypes: float64(2), int64(5), object(5)\n",
      "memory usage: 83.7+ KB\n"
     ]
    }
   ],
   "source": [
    "df.info() "
   ]
  },
  {
   "cell_type": "markdown",
   "id": "83d5cf47",
   "metadata": {
    "papermill": {
     "duration": 0.012927,
     "end_time": "2025-04-22T03:54:27.206391",
     "exception": false,
     "start_time": "2025-04-22T03:54:27.193464",
     "status": "completed"
    },
    "tags": []
   },
   "source": [
    "### 3. 🔍 **Dimensions of the DataFrame**"
   ]
  },
  {
   "cell_type": "code",
   "execution_count": 5,
   "id": "be66b4ea",
   "metadata": {
    "execution": {
     "iopub.execute_input": "2025-04-22T03:54:27.233891Z",
     "iopub.status.busy": "2025-04-22T03:54:27.233464Z",
     "iopub.status.idle": "2025-04-22T03:54:27.239247Z",
     "shell.execute_reply": "2025-04-22T03:54:27.238312Z"
    },
    "papermill": {
     "duration": 0.021751,
     "end_time": "2025-04-22T03:54:27.241038",
     "exception": false,
     "start_time": "2025-04-22T03:54:27.219287",
     "status": "completed"
    },
    "tags": []
   },
   "outputs": [
    {
     "name": "stdout",
     "output_type": "stream",
     "text": [
      "Rows: 891\n",
      "Columns: 12\n"
     ]
    }
   ],
   "source": [
    "print(f'Rows: {df.shape[0]}')\n",
    "print(f'Columns: {df.shape[1]}')  "
   ]
  },
  {
   "cell_type": "markdown",
   "id": "6e689eb6",
   "metadata": {
    "papermill": {
     "duration": 0.012736,
     "end_time": "2025-04-22T03:54:27.267623",
     "exception": false,
     "start_time": "2025-04-22T03:54:27.254887",
     "status": "completed"
    },
    "tags": []
   },
   "source": [
    "### 4. 🔍 **Descriptive Statistics for numerical & categorical variables**"
   ]
  },
  {
   "cell_type": "code",
   "execution_count": 6,
   "id": "6396b353",
   "metadata": {
    "execution": {
     "iopub.execute_input": "2025-04-22T03:54:27.296560Z",
     "iopub.status.busy": "2025-04-22T03:54:27.296127Z",
     "iopub.status.idle": "2025-04-22T03:54:27.329397Z",
     "shell.execute_reply": "2025-04-22T03:54:27.328119Z"
    },
    "papermill": {
     "duration": 0.050029,
     "end_time": "2025-04-22T03:54:27.331307",
     "exception": false,
     "start_time": "2025-04-22T03:54:27.281278",
     "status": "completed"
    },
    "tags": []
   },
   "outputs": [
    {
     "data": {
      "text/html": [
       "<div>\n",
       "<style scoped>\n",
       "    .dataframe tbody tr th:only-of-type {\n",
       "        vertical-align: middle;\n",
       "    }\n",
       "\n",
       "    .dataframe tbody tr th {\n",
       "        vertical-align: top;\n",
       "    }\n",
       "\n",
       "    .dataframe thead th {\n",
       "        text-align: right;\n",
       "    }\n",
       "</style>\n",
       "<table border=\"1\" class=\"dataframe\">\n",
       "  <thead>\n",
       "    <tr style=\"text-align: right;\">\n",
       "      <th></th>\n",
       "      <th>PassengerId</th>\n",
       "      <th>Survived</th>\n",
       "      <th>Pclass</th>\n",
       "      <th>Age</th>\n",
       "      <th>SibSp</th>\n",
       "      <th>Parch</th>\n",
       "      <th>Fare</th>\n",
       "    </tr>\n",
       "  </thead>\n",
       "  <tbody>\n",
       "    <tr>\n",
       "      <th>count</th>\n",
       "      <td>891.000000</td>\n",
       "      <td>891.000000</td>\n",
       "      <td>891.000000</td>\n",
       "      <td>714.000000</td>\n",
       "      <td>891.000000</td>\n",
       "      <td>891.000000</td>\n",
       "      <td>891.000000</td>\n",
       "    </tr>\n",
       "    <tr>\n",
       "      <th>mean</th>\n",
       "      <td>446.000000</td>\n",
       "      <td>0.383838</td>\n",
       "      <td>2.308642</td>\n",
       "      <td>29.699118</td>\n",
       "      <td>0.523008</td>\n",
       "      <td>0.381594</td>\n",
       "      <td>32.204208</td>\n",
       "    </tr>\n",
       "    <tr>\n",
       "      <th>std</th>\n",
       "      <td>257.353842</td>\n",
       "      <td>0.486592</td>\n",
       "      <td>0.836071</td>\n",
       "      <td>14.526497</td>\n",
       "      <td>1.102743</td>\n",
       "      <td>0.806057</td>\n",
       "      <td>49.693429</td>\n",
       "    </tr>\n",
       "    <tr>\n",
       "      <th>min</th>\n",
       "      <td>1.000000</td>\n",
       "      <td>0.000000</td>\n",
       "      <td>1.000000</td>\n",
       "      <td>0.420000</td>\n",
       "      <td>0.000000</td>\n",
       "      <td>0.000000</td>\n",
       "      <td>0.000000</td>\n",
       "    </tr>\n",
       "    <tr>\n",
       "      <th>25%</th>\n",
       "      <td>223.500000</td>\n",
       "      <td>0.000000</td>\n",
       "      <td>2.000000</td>\n",
       "      <td>20.125000</td>\n",
       "      <td>0.000000</td>\n",
       "      <td>0.000000</td>\n",
       "      <td>7.910400</td>\n",
       "    </tr>\n",
       "    <tr>\n",
       "      <th>50%</th>\n",
       "      <td>446.000000</td>\n",
       "      <td>0.000000</td>\n",
       "      <td>3.000000</td>\n",
       "      <td>28.000000</td>\n",
       "      <td>0.000000</td>\n",
       "      <td>0.000000</td>\n",
       "      <td>14.454200</td>\n",
       "    </tr>\n",
       "    <tr>\n",
       "      <th>75%</th>\n",
       "      <td>668.500000</td>\n",
       "      <td>1.000000</td>\n",
       "      <td>3.000000</td>\n",
       "      <td>38.000000</td>\n",
       "      <td>1.000000</td>\n",
       "      <td>0.000000</td>\n",
       "      <td>31.000000</td>\n",
       "    </tr>\n",
       "    <tr>\n",
       "      <th>max</th>\n",
       "      <td>891.000000</td>\n",
       "      <td>1.000000</td>\n",
       "      <td>3.000000</td>\n",
       "      <td>80.000000</td>\n",
       "      <td>8.000000</td>\n",
       "      <td>6.000000</td>\n",
       "      <td>512.329200</td>\n",
       "    </tr>\n",
       "  </tbody>\n",
       "</table>\n",
       "</div>"
      ],
      "text/plain": [
       "       PassengerId    Survived      Pclass         Age       SibSp  \\\n",
       "count   891.000000  891.000000  891.000000  714.000000  891.000000   \n",
       "mean    446.000000    0.383838    2.308642   29.699118    0.523008   \n",
       "std     257.353842    0.486592    0.836071   14.526497    1.102743   \n",
       "min       1.000000    0.000000    1.000000    0.420000    0.000000   \n",
       "25%     223.500000    0.000000    2.000000   20.125000    0.000000   \n",
       "50%     446.000000    0.000000    3.000000   28.000000    0.000000   \n",
       "75%     668.500000    1.000000    3.000000   38.000000    1.000000   \n",
       "max     891.000000    1.000000    3.000000   80.000000    8.000000   \n",
       "\n",
       "            Parch        Fare  \n",
       "count  891.000000  891.000000  \n",
       "mean     0.381594   32.204208  \n",
       "std      0.806057   49.693429  \n",
       "min      0.000000    0.000000  \n",
       "25%      0.000000    7.910400  \n",
       "50%      0.000000   14.454200  \n",
       "75%      0.000000   31.000000  \n",
       "max      6.000000  512.329200  "
      ]
     },
     "execution_count": 6,
     "metadata": {},
     "output_type": "execute_result"
    }
   ],
   "source": [
    "df.describe()  "
   ]
  },
  {
   "cell_type": "code",
   "execution_count": 7,
   "id": "c4ad9c16",
   "metadata": {
    "execution": {
     "iopub.execute_input": "2025-04-22T03:54:27.361466Z",
     "iopub.status.busy": "2025-04-22T03:54:27.361127Z",
     "iopub.status.idle": "2025-04-22T03:54:27.382859Z",
     "shell.execute_reply": "2025-04-22T03:54:27.381617Z"
    },
    "papermill": {
     "duration": 0.038839,
     "end_time": "2025-04-22T03:54:27.384612",
     "exception": false,
     "start_time": "2025-04-22T03:54:27.345773",
     "status": "completed"
    },
    "tags": []
   },
   "outputs": [
    {
     "data": {
      "text/html": [
       "<div>\n",
       "<style scoped>\n",
       "    .dataframe tbody tr th:only-of-type {\n",
       "        vertical-align: middle;\n",
       "    }\n",
       "\n",
       "    .dataframe tbody tr th {\n",
       "        vertical-align: top;\n",
       "    }\n",
       "\n",
       "    .dataframe thead th {\n",
       "        text-align: right;\n",
       "    }\n",
       "</style>\n",
       "<table border=\"1\" class=\"dataframe\">\n",
       "  <thead>\n",
       "    <tr style=\"text-align: right;\">\n",
       "      <th></th>\n",
       "      <th>Name</th>\n",
       "      <th>Sex</th>\n",
       "      <th>Ticket</th>\n",
       "      <th>Cabin</th>\n",
       "      <th>Embarked</th>\n",
       "    </tr>\n",
       "  </thead>\n",
       "  <tbody>\n",
       "    <tr>\n",
       "      <th>count</th>\n",
       "      <td>891</td>\n",
       "      <td>891</td>\n",
       "      <td>891</td>\n",
       "      <td>204</td>\n",
       "      <td>889</td>\n",
       "    </tr>\n",
       "    <tr>\n",
       "      <th>unique</th>\n",
       "      <td>891</td>\n",
       "      <td>2</td>\n",
       "      <td>681</td>\n",
       "      <td>147</td>\n",
       "      <td>3</td>\n",
       "    </tr>\n",
       "    <tr>\n",
       "      <th>top</th>\n",
       "      <td>Braund, Mr. Owen Harris</td>\n",
       "      <td>male</td>\n",
       "      <td>347082</td>\n",
       "      <td>B96 B98</td>\n",
       "      <td>S</td>\n",
       "    </tr>\n",
       "    <tr>\n",
       "      <th>freq</th>\n",
       "      <td>1</td>\n",
       "      <td>577</td>\n",
       "      <td>7</td>\n",
       "      <td>4</td>\n",
       "      <td>644</td>\n",
       "    </tr>\n",
       "  </tbody>\n",
       "</table>\n",
       "</div>"
      ],
      "text/plain": [
       "                           Name   Sex  Ticket    Cabin Embarked\n",
       "count                       891   891     891      204      889\n",
       "unique                      891     2     681      147        3\n",
       "top     Braund, Mr. Owen Harris  male  347082  B96 B98        S\n",
       "freq                          1   577       7        4      644"
      ]
     },
     "execution_count": 7,
     "metadata": {},
     "output_type": "execute_result"
    }
   ],
   "source": [
    "categorical_var = df.dtypes[df.dtypes == 'object'].index \n",
    "df[categorical_var].describe()  "
   ]
  },
  {
   "cell_type": "markdown",
   "id": "9e5744b8",
   "metadata": {
    "papermill": {
     "duration": 0.014557,
     "end_time": "2025-04-22T03:54:27.412953",
     "exception": false,
     "start_time": "2025-04-22T03:54:27.398396",
     "status": "completed"
    },
    "tags": []
   },
   "source": [
    "### 5. 🔍 **Missing Values & Outliers**"
   ]
  },
  {
   "cell_type": "code",
   "execution_count": 8,
   "id": "9f2898ef",
   "metadata": {
    "execution": {
     "iopub.execute_input": "2025-04-22T03:54:27.442776Z",
     "iopub.status.busy": "2025-04-22T03:54:27.442356Z",
     "iopub.status.idle": "2025-04-22T03:54:27.451549Z",
     "shell.execute_reply": "2025-04-22T03:54:27.450563Z"
    },
    "papermill": {
     "duration": 0.026135,
     "end_time": "2025-04-22T03:54:27.453468",
     "exception": false,
     "start_time": "2025-04-22T03:54:27.427333",
     "status": "completed"
    },
    "tags": []
   },
   "outputs": [
    {
     "data": {
      "text/plain": [
       "Cabin          687\n",
       "Age            177\n",
       "Embarked         2\n",
       "PassengerId      0\n",
       "Survived         0\n",
       "Pclass           0\n",
       "Name             0\n",
       "Sex              0\n",
       "SibSp            0\n",
       "Parch            0\n",
       "Ticket           0\n",
       "Fare             0\n",
       "dtype: int64"
      ]
     },
     "execution_count": 8,
     "metadata": {},
     "output_type": "execute_result"
    }
   ],
   "source": [
    "df.isnull().sum().sort_values(ascending = False) "
   ]
  },
  {
   "cell_type": "code",
   "execution_count": 9,
   "id": "627a8a3c",
   "metadata": {
    "collapsed": true,
    "execution": {
     "iopub.execute_input": "2025-04-22T03:54:27.483337Z",
     "iopub.status.busy": "2025-04-22T03:54:27.482925Z",
     "iopub.status.idle": "2025-04-22T03:54:27.493004Z",
     "shell.execute_reply": "2025-04-22T03:54:27.491583Z"
    },
    "jupyter": {
     "outputs_hidden": true
    },
    "papermill": {
     "duration": 0.027635,
     "end_time": "2025-04-22T03:54:27.494805",
     "exception": false,
     "start_time": "2025-04-22T03:54:27.467170",
     "status": "completed"
    },
    "tags": []
   },
   "outputs": [
    {
     "data": {
      "text/plain": [
       "Cabin          77.104377\n",
       "Age            19.865320\n",
       "Embarked        0.224467\n",
       "PassengerId     0.000000\n",
       "Survived        0.000000\n",
       "Pclass          0.000000\n",
       "Name            0.000000\n",
       "Sex             0.000000\n",
       "SibSp           0.000000\n",
       "Parch           0.000000\n",
       "Ticket          0.000000\n",
       "Fare            0.000000\n",
       "dtype: float64"
      ]
     },
     "execution_count": 9,
     "metadata": {},
     "output_type": "execute_result"
    }
   ],
   "source": [
    "(df.isna().mean()*100).sort_values(ascending=False)   "
   ]
  },
  {
   "cell_type": "code",
   "execution_count": 10,
   "id": "5154dfbf",
   "metadata": {
    "execution": {
     "iopub.execute_input": "2025-04-22T03:54:27.529578Z",
     "iopub.status.busy": "2025-04-22T03:54:27.529239Z",
     "iopub.status.idle": "2025-04-22T03:54:27.936020Z",
     "shell.execute_reply": "2025-04-22T03:54:27.934834Z"
    },
    "papermill": {
     "duration": 0.425822,
     "end_time": "2025-04-22T03:54:27.938118",
     "exception": false,
     "start_time": "2025-04-22T03:54:27.512296",
     "status": "completed"
    },
    "tags": []
   },
   "outputs": [
    {
     "data": {
      "text/plain": [
       "<Axes: >"
      ]
     },
     "execution_count": 10,
     "metadata": {},
     "output_type": "execute_result"
    },
    {
     "data": {
      "image/png": "[encoded data removed]",
      "text/plain": [
       "<Figure size 640x480 with 1 Axes>"
      ]
     },
     "metadata": {},
     "output_type": "display_data"
    }
   ],
   "source": [
    "sns.heatmap(df.isnull(), yticklabels=False, cbar=False) "
   ]
  },
  {
   "cell_type": "code",
   "execution_count": 11,
   "id": "3bb33890",
   "metadata": {
    "execution": {
     "iopub.execute_input": "2025-04-22T03:54:27.969788Z",
     "iopub.status.busy": "2025-04-22T03:54:27.969314Z",
     "iopub.status.idle": "2025-04-22T03:54:30.243417Z",
     "shell.execute_reply": "2025-04-22T03:54:30.242183Z"
    },
    "papermill": {
     "duration": 2.292241,
     "end_time": "2025-04-22T03:54:30.245500",
     "exception": false,
     "start_time": "2025-04-22T03:54:27.953259",
     "status": "completed"
    },
    "tags": []
   },
   "outputs": [
    {
     "data": {
      "text/html": [
       "<html>\n",
       "<head><meta charset=\"utf-8\" /></head>\n",
       "<body>\n",
       "    <div>            <script src=\"https://cdnjs.cloudflare.com/ajax/libs/mathjax/2.7.5/MathJax.js?config=TeX-AMS-MML_SVG\"></script><script type=\"text/javascript\">if (window.MathJax && window.MathJax.Hub && window.MathJax.Hub.Config) {window.MathJax.Hub.Config({SVG: {font: \"STIX-Web\"}});}</script>                <script type=\"text/javascript\">window.PlotlyConfig = {MathJaxConfig: 'local'};</script>\n",
       "        <script charset=\"utf-8\" src=\"https://cdn.plot.ly/plotly-2.35.2.min.js\"></script>                <div id=\"a1e94a93-c8d7-429a-ae8b-be8cbad2612a\" class=\"plotly-graph-div\" style=\"height:525px; width:100%;\"></div>            <script type=\"text/javascript\">                                    window.PLOTLYENV=window.PLOTLYENV || {};                                    if (document.getElementById(\"a1e94a93-c8d7-429a-ae8b-be8cbad2612a\")) {                    Plotly.newPlot(                        \"a1e94a93-c8d7-429a-ae8b-be8cbad2612a\",                        [{\"alignmentgroup\":\"True\",\"hovertemplate\":\"variable=%{x}\\u003cbr\\u003evalue=%{y}\\u003cextra\\u003e\\u003c\\u002fextra\\u003e\",\"legendgroup\":\"\",\"marker\":{\"color\":\"#636efa\"},\"name\":\"\",\"notched\":false,\"offsetgroup\":\"\",\"orientation\":\"v\",\"showlegend\":false,\"x\":[\"Age\",\"Age\",\"Age\",\"Age\",\"Age\",\"Age\",\"Age\",\"Age\",\"Age\",\"Age\",\"Age\",\"Age\",\"Age\",\"Age\",\"Age\",\"Age\",\"Age\",\"Age\",\"Age\",\"Age\",\"Age\",\"Age\",\"Age\",\"Age\",\"Age\",\"Age\",\"Age\",\"Age\",\"Age\",\"Age\",\"Age\",\"Age\",\"Age\",\"Age\",\"Age\",\"Age\",\"Age\",\"Age\",\"Age\",\"Age\",\"Age\",\"Age\",\"Age\",\"Age\",\"Age\",\"Age\",\"Age\",\"Age\",\"Age\",\"Age\",\"Age\",\"Age\",\"Age\",\"Age\",\"Age\",\"Age\",\"Age\",\"Age\",\"Age\",\"Age\",\"Age\",\"Age\",\"Age\",\"Age\",\"Age\",\"Age\",\"Age\",\"Age\",\"Age\",\"Age\",\"Age\",\"Age\",\"Age\",\"Age\",\"Age\",\"Age\",\"Age\",\"Age\",\"Age\",\"Age\",\"Age\",\"Age\",\"Age\",\"Age\",\"Age\",\"Age\",\"Age\",\"Age\",\"Age\",\"Age\",\"Age\",\"Age\",\"Age\",\"Age\",\"Age\",\"Age\",\"Age\",\"Age\",\"Age\",\"Age\",\"Age\",\"Age\",\"Age\",\"Age\",\"Age\",\"Age\",\"Age\",\"Age\",\"Age\",\"Age\",\"Age\",\"Age\",\"Age\",\"Age\",\"Age\",\"Age\",\"Age\",\"Age\",\"Age\",\"Age\",\"Age\",\"Age\",\"Age\",\"Age\",\"Age\",\"Age\",\"Age\",\"Age\",\"Age\",\"Age\",\"Age\",\"Age\",\"Age\",\"Age\",\"Age\",\"Age\",\"Age\",\"Age\",\"Age\",\"Age\",\"Age\",\"Age\",\"Age\",\"Age\",\"Age\",\"Age\",\"Age\",\"Age\",\"Age\",\"Age\",\"Age\",\"Age\",\"Age\",\"Age\",\"Age\",\"Age\",\"Age\",\"Age\",\"Age\",\"Age\",\"Age\",\"Age\",\"Age\",\"Age\",\"Age\",\"Age\",\"Age\",\"Age\",\"Age\",\"Age\",\"Age\",\"Age\",\"Age\",\"Age\",\"Age\",\"Age\",\"Age\",\"Age\",\"Age\",\"Age\",\"Age\",\"Age\",\"Age\",\"Age\",\"Age\",\"Age\",\"Age\",\"Age\",\"Age\",\"Age\",\"Age\",\"Age\",\"Age\",\"Age\",\"Age\",\"Age\",\"Age\",\"Age\",\"Age\",\"Age\",\"Age\",\"Age\",\"Age\",\"Age\",\"Age\",\"Age\",\"Age\",\"Age\",\"Age\",\"Age\",\"Age\",\"Age\",\"Age\",\"Age\",\"Age\",\"Age\",\"Age\",\"Age\",\"Age\",\"Age\",\"Age\",\"Age\",\"Age\",\"Age\",\"Age\",\"Age\",\"Age\",\"Age\",\"Age\",\"Age\",\"Age\",\"Age\",\"Age\",\"Age\",\"Age\",\"Age\",\"Age\",\"Age\",\"Age\",\"Age\",\"Age\",\"Age\",\"Age\",\"Age\",\"Age\",\"Age\",\"Age\",\"Age\",\"Age\",\"Age\",\"Age\",\"Age\",\"Age\",\"Age\",\"Age\",\"Age\",\"Age\",\"Age\",\"Age\",\"Age\",\"Age\",\"Age\",\"Age\",\"Age\",\"Age\",\"Age\",\"Age\",\"Age\",\"Age\",\"Age\",\"Age\",\"Age\",\"Age\",\"Age\",\"Age\",\"Age\",\"Age\",\"Age\",\"Age\",\"Age\",\"Age\",\"Age\",\"Age\",\"Age\",\"Age\",\"Age\",\"Age\",\"Age\",\"Age\",\"Age\",\"Age\",\"Age\",\"Age\",\"Age\",\"Age\",\"Age\",\"Age\",\"Age\",\"Age\",\"Age\",\"Age\",\"Age\",\"Age\",\"Age\",\"Age\",\"Age\",\"Age\",\"Age\",\"Age\",\"Age\",\"Age\",\"Age\",\"Age\",\"Age\",\"Age\",\"Age\",\"Age\",\"Age\",\"Age\",\"Age\",\"Age\",\"Age\",\"Age\",\"Age\",\"Age\",\"Age\",\"Age\",\"Age\",\"Age\",\"Age\",\"Age\",\"Age\",\"Age\",\"Age\",\"Age\",\"Age\",\"Age\",\"Age\",\"Age\",\"Age\",\"Age\",\"Age\",\"Age\",\"Age\",\"Age\",\"Age\",\"Age\",\"Age\",\"Age\",\"Age\",\"Age\",\"Age\",\"Age\",\"Age\",\"Age\",\"Age\",\"Age\",\"Age\",\"Age\",\"Age\",\"Age\",\"Age\",\"Age\",\"Age\",\"Age\",\"Age\",\"Age\",\"Age\",\"Age\",\"Age\",\"Age\",\"Age\",\"Age\",\"Age\",\"Age\",\"Age\",\"Age\",\"Age\",\"Age\",\"Age\",\"Age\",\"Age\",\"Age\",\"Age\",\"Age\",\"Age\",\"Age\",\"Age\",\"Age\",\"Age\",\"Age\",\"Age\",\"Age\",\"Age\",\"Age\",\"Age\",\"Age\",\"Age\",\"Age\",\"Age\",\"Age\",\"Age\",\"Age\",\"Age\",\"Age\",\"Age\",\"Age\",\"Age\",\"Age\",\"Age\",\"Age\",\"Age\",\"Age\",\"Age\",\"Age\",\"Age\",\"Age\",\"Age\",\"Age\",\"Age\",\"Age\",\"Age\",\"Age\",\"Age\",\"Age\",\"Age\",\"Age\",\"Age\",\"Age\",\"Age\",\"Age\",\"Age\",\"Age\",\"Age\",\"Age\",\"Age\",\"Age\",\"Age\",\"Age\",\"Age\",\"Age\",\"Age\",\"Age\",\"Age\",\"Age\",\"Age\",\"Age\",\"Age\",\"Age\",\"Age\",\"Age\",\"Age\",\"Age\",\"Age\",\"Age\",\"Age\",\"Age\",\"Age\",\"Age\",\"Age\",\"Age\",\"Age\",\"Age\",\"Age\",\"Age\",\"Age\",\"Age\",\"Age\",\"Age\",\"Age\",\"Age\",\"Age\",\"Age\",\"Age\",\"Age\",\"Age\",\"Age\",\"Age\",\"Age\",\"Age\",\"Age\",\"Age\",\"Age\",\"Age\",\"Age\",\"Age\",\"Age\",\"Age\",\"Age\",\"Age\",\"Age\",\"Age\",\"Age\",\"Age\",\"Age\",\"Age\",\"Age\",\"Age\",\"Age\",\"Age\",\"Age\",\"Age\",\"Age\",\"Age\",\"Age\",\"Age\",\"Age\",\"Age\",\"Age\",\"Age\",\"Age\",\"Age\",\"Age\",\"Age\",\"Age\",\"Age\",\"Age\",\"Age\",\"Age\",\"Age\",\"Age\",\"Age\",\"Age\",\"Age\",\"Age\",\"Age\",\"Age\",\"Age\",\"Age\",\"Age\",\"Age\",\"Age\",\"Age\",\"Age\",\"Age\",\"Age\",\"Age\",\"Age\",\"Age\",\"Age\",\"Age\",\"Age\",\"Age\",\"Age\",\"Age\",\"Age\",\"Age\",\"Age\",\"Age\",\"Age\",\"Age\",\"Age\",\"Age\",\"Age\",\"Age\",\"Age\",\"Age\",\"Age\",\"Age\",\"Age\",\"Age\",\"Age\",\"Age\",\"Age\",\"Age\",\"Age\",\"Age\",\"Age\",\"Age\",\"Age\",\"Age\",\"Age\",\"Age\",\"Age\",\"Age\",\"Age\",\"Age\",\"Age\",\"Age\",\"Age\",\"Age\",\"Age\",\"Age\",\"Age\",\"Age\",\"Age\",\"Age\",\"Age\",\"Age\",\"Age\",\"Age\",\"Age\",\"Age\",\"Age\",\"Age\",\"Age\",\"Age\",\"Age\",\"Age\",\"Age\",\"Age\",\"Age\",\"Age\",\"Age\",\"Age\",\"Age\",\"Age\",\"Age\",\"Age\",\"Age\",\"Age\",\"Age\",\"Age\",\"Age\",\"Age\",\"Age\",\"Age\",\"Age\",\"Age\",\"Age\",\"Age\",\"Age\",\"Age\",\"Age\",\"Age\",\"Age\",\"Age\",\"Age\",\"Age\",\"Age\",\"Age\",\"Age\",\"Age\",\"Age\",\"Age\",\"Age\",\"Age\",\"Age\",\"Age\",\"Age\",\"Age\",\"Age\",\"Age\",\"Age\",\"Age\",\"Age\",\"Age\",\"Age\",\"Age\",\"Age\",\"Age\",\"Age\",\"Age\",\"Age\",\"Age\",\"Age\",\"Age\",\"Age\",\"Age\",\"Age\",\"Age\",\"Age\",\"Age\",\"Age\",\"Age\",\"Age\",\"Age\",\"Age\",\"Age\",\"Age\",\"Age\",\"Age\",\"Age\",\"Age\",\"Age\",\"Age\",\"Age\",\"Age\",\"Age\",\"Age\",\"Age\",\"Age\",\"Age\",\"Age\",\"Age\",\"Age\",\"Age\",\"Age\",\"Age\",\"Age\",\"Age\",\"Age\",\"Age\",\"Age\",\"Age\",\"Age\",\"Age\",\"Age\",\"Age\",\"Age\",\"Age\",\"Age\",\"Age\",\"Age\",\"Age\",\"Age\",\"Age\",\"Age\",\"Age\",\"Age\",\"Age\",\"Age\",\"Age\",\"Age\",\"Age\",\"Age\",\"Age\",\"Age\",\"Age\",\"Age\",\"Age\",\"Age\",\"Age\",\"Age\",\"Age\",\"Age\",\"Age\",\"Age\",\"Age\",\"Age\",\"Age\",\"Age\",\"Age\",\"Age\",\"Age\",\"Age\",\"Age\",\"Age\",\"Age\",\"Age\",\"Age\",\"Age\",\"Age\",\"Age\",\"Age\",\"Age\",\"Age\",\"Age\",\"Age\",\"Age\",\"Age\",\"Age\",\"Age\",\"Age\",\"Age\",\"Age\",\"Age\",\"Age\",\"Age\",\"Age\",\"Age\",\"Age\",\"Age\",\"Age\",\"Age\",\"Age\",\"Age\",\"Age\",\"Age\",\"Age\",\"Age\",\"Age\",\"Age\",\"Age\",\"Age\",\"Age\",\"Age\",\"Age\",\"Age\",\"Age\",\"Age\",\"Age\",\"Age\",\"Age\",\"Age\",\"Age\",\"Age\",\"Age\",\"Age\",\"Age\",\"Age\",\"Age\",\"Age\",\"Age\",\"Age\",\"Age\",\"Age\",\"Age\",\"Age\",\"Age\",\"Age\",\"Age\",\"Age\",\"Age\",\"Age\",\"Age\",\"Age\",\"Age\",\"Age\",\"Age\",\"Age\",\"Age\",\"Age\",\"Age\",\"Age\",\"Age\",\"Age\",\"Age\",\"Age\",\"Age\",\"Age\",\"Age\",\"Age\",\"Age\",\"Age\",\"Age\",\"Age\",\"Age\",\"Age\",\"Age\",\"Age\",\"Age\",\"Age\",\"Age\",\"Age\",\"Age\",\"Age\",\"Age\",\"Age\",\"Age\",\"Age\",\"Age\",\"Age\",\"Age\",\"Age\",\"Age\",\"Age\",\"Age\",\"Age\",\"Age\",\"Age\",\"Age\",\"Age\",\"Age\",\"Age\",\"Age\",\"Age\",\"Age\",\"Age\",\"Age\",\"Age\",\"Age\",\"Age\",\"Age\",\"Age\",\"Age\",\"Age\",\"Age\",\"Age\",\"Age\",\"Age\",\"Age\",\"Age\",\"Age\",\"Age\",\"Age\",\"Age\",\"Age\",\"Age\",\"Age\",\"Age\",\"Age\",\"Age\",\"Age\",\"Age\",\"Age\",\"Age\",\"Age\",\"Age\",\"Age\",\"Age\",\"Fare\",\"Fare\",\"Fare\",\"Fare\",\"Fare\",\"Fare\",\"Fare\",\"Fare\",\"Fare\",\"Fare\",\"Fare\",\"Fare\",\"Fare\",\"Fare\",\"Fare\",\"Fare\",\"Fare\",\"Fare\",\"Fare\",\"Fare\",\"Fare\",\"Fare\",\"Fare\",\"Fare\",\"Fare\",\"Fare\",\"Fare\",\"Fare\",\"Fare\",\"Fare\",\"Fare\",\"Fare\",\"Fare\",\"Fare\",\"Fare\",\"Fare\",\"Fare\",\"Fare\",\"Fare\",\"Fare\",\"Fare\",\"Fare\",\"Fare\",\"Fare\",\"Fare\",\"Fare\",\"Fare\",\"Fare\",\"Fare\",\"Fare\",\"Fare\",\"Fare\",\"Fare\",\"Fare\",\"Fare\",\"Fare\",\"Fare\",\"Fare\",\"Fare\",\"Fare\",\"Fare\",\"Fare\",\"Fare\",\"Fare\",\"Fare\",\"Fare\",\"Fare\",\"Fare\",\"Fare\",\"Fare\",\"Fare\",\"Fare\",\"Fare\",\"Fare\",\"Fare\",\"Fare\",\"Fare\",\"Fare\",\"Fare\",\"Fare\",\"Fare\",\"Fare\",\"Fare\",\"Fare\",\"Fare\",\"Fare\",\"Fare\",\"Fare\",\"Fare\",\"Fare\",\"Fare\",\"Fare\",\"Fare\",\"Fare\",\"Fare\",\"Fare\",\"Fare\",\"Fare\",\"Fare\",\"Fare\",\"Fare\",\"Fare\",\"Fare\",\"Fare\",\"Fare\",\"Fare\",\"Fare\",\"Fare\",\"Fare\",\"Fare\",\"Fare\",\"Fare\",\"Fare\",\"Fare\",\"Fare\",\"Fare\",\"Fare\",\"Fare\",\"Fare\",\"Fare\",\"Fare\",\"Fare\",\"Fare\",\"Fare\",\"Fare\",\"Fare\",\"Fare\",\"Fare\",\"Fare\",\"Fare\",\"Fare\",\"Fare\",\"Fare\",\"Fare\",\"Fare\",\"Fare\",\"Fare\",\"Fare\",\"Fare\",\"Fare\",\"Fare\",\"Fare\",\"Fare\",\"Fare\",\"Fare\",\"Fare\",\"Fare\",\"Fare\",\"Fare\",\"Fare\",\"Fare\",\"Fare\",\"Fare\",\"Fare\",\"Fare\",\"Fare\",\"Fare\",\"Fare\",\"Fare\",\"Fare\",\"Fare\",\"Fare\",\"Fare\",\"Fare\",\"Fare\",\"Fare\",\"Fare\",\"Fare\",\"Fare\",\"Fare\",\"Fare\",\"Fare\",\"Fare\",\"Fare\",\"Fare\",\"Fare\",\"Fare\",\"Fare\",\"Fare\",\"Fare\",\"Fare\",\"Fare\",\"Fare\",\"Fare\",\"Fare\",\"Fare\",\"Fare\",\"Fare\",\"Fare\",\"Fare\",\"Fare\",\"Fare\",\"Fare\",\"Fare\",\"Fare\",\"Fare\",\"Fare\",\"Fare\",\"Fare\",\"Fare\",\"Fare\",\"Fare\",\"Fare\",\"Fare\",\"Fare\",\"Fare\",\"Fare\",\"Fare\",\"Fare\",\"Fare\",\"Fare\",\"Fare\",\"Fare\",\"Fare\",\"Fare\",\"Fare\",\"Fare\",\"Fare\",\"Fare\",\"Fare\",\"Fare\",\"Fare\",\"Fare\",\"Fare\",\"Fare\",\"Fare\",\"Fare\",\"Fare\",\"Fare\",\"Fare\",\"Fare\",\"Fare\",\"Fare\",\"Fare\",\"Fare\",\"Fare\",\"Fare\",\"Fare\",\"Fare\",\"Fare\",\"Fare\",\"Fare\",\"Fare\",\"Fare\",\"Fare\",\"Fare\",\"Fare\",\"Fare\",\"Fare\",\"Fare\",\"Fare\",\"Fare\",\"Fare\",\"Fare\",\"Fare\",\"Fare\",\"Fare\",\"Fare\",\"Fare\",\"Fare\",\"Fare\",\"Fare\",\"Fare\",\"Fare\",\"Fare\",\"Fare\",\"Fare\",\"Fare\",\"Fare\",\"Fare\",\"Fare\",\"Fare\",\"Fare\",\"Fare\",\"Fare\",\"Fare\",\"Fare\",\"Fare\",\"Fare\",\"Fare\",\"Fare\",\"Fare\",\"Fare\",\"Fare\",\"Fare\",\"Fare\",\"Fare\",\"Fare\",\"Fare\",\"Fare\",\"Fare\",\"Fare\",\"Fare\",\"Fare\",\"Fare\",\"Fare\",\"Fare\",\"Fare\",\"Fare\",\"Fare\",\"Fare\",\"Fare\",\"Fare\",\"Fare\",\"Fare\",\"Fare\",\"Fare\",\"Fare\",\"Fare\",\"Fare\",\"Fare\",\"Fare\",\"Fare\",\"Fare\",\"Fare\",\"Fare\",\"Fare\",\"Fare\",\"Fare\",\"Fare\",\"Fare\",\"Fare\",\"Fare\",\"Fare\",\"Fare\",\"Fare\",\"Fare\",\"Fare\",\"Fare\",\"Fare\",\"Fare\",\"Fare\",\"Fare\",\"Fare\",\"Fare\",\"Fare\",\"Fare\",\"Fare\",\"Fare\",\"Fare\",\"Fare\",\"Fare\",\"Fare\",\"Fare\",\"Fare\",\"Fare\",\"Fare\",\"Fare\",\"Fare\",\"Fare\",\"Fare\",\"Fare\",\"Fare\",\"Fare\",\"Fare\",\"Fare\",\"Fare\",\"Fare\",\"Fare\",\"Fare\",\"Fare\",\"Fare\",\"Fare\",\"Fare\",\"Fare\",\"Fare\",\"Fare\",\"Fare\",\"Fare\",\"Fare\",\"Fare\",\"Fare\",\"Fare\",\"Fare\",\"Fare\",\"Fare\",\"Fare\",\"Fare\",\"Fare\",\"Fare\",\"Fare\",\"Fare\",\"Fare\",\"Fare\",\"Fare\",\"Fare\",\"Fare\",\"Fare\",\"Fare\",\"Fare\",\"Fare\",\"Fare\",\"Fare\",\"Fare\",\"Fare\",\"Fare\",\"Fare\",\"Fare\",\"Fare\",\"Fare\",\"Fare\",\"Fare\",\"Fare\",\"Fare\",\"Fare\",\"Fare\",\"Fare\",\"Fare\",\"Fare\",\"Fare\",\"Fare\",\"Fare\",\"Fare\",\"Fare\",\"Fare\",\"Fare\",\"Fare\",\"Fare\",\"Fare\",\"Fare\",\"Fare\",\"Fare\",\"Fare\",\"Fare\",\"Fare\",\"Fare\",\"Fare\",\"Fare\",\"Fare\",\"Fare\",\"Fare\",\"Fare\",\"Fare\",\"Fare\",\"Fare\",\"Fare\",\"Fare\",\"Fare\",\"Fare\",\"Fare\",\"Fare\",\"Fare\",\"Fare\",\"Fare\",\"Fare\",\"Fare\",\"Fare\",\"Fare\",\"Fare\",\"Fare\",\"Fare\",\"Fare\",\"Fare\",\"Fare\",\"Fare\",\"Fare\",\"Fare\",\"Fare\",\"Fare\",\"Fare\",\"Fare\",\"Fare\",\"Fare\",\"Fare\",\"Fare\",\"Fare\",\"Fare\",\"Fare\",\"Fare\",\"Fare\",\"Fare\",\"Fare\",\"Fare\",\"Fare\",\"Fare\",\"Fare\",\"Fare\",\"Fare\",\"Fare\",\"Fare\",\"Fare\",\"Fare\",\"Fare\",\"Fare\",\"Fare\",\"Fare\",\"Fare\",\"Fare\",\"Fare\",\"Fare\",\"Fare\",\"Fare\",\"Fare\",\"Fare\",\"Fare\",\"Fare\",\"Fare\",\"Fare\",\"Fare\",\"Fare\",\"Fare\",\"Fare\",\"Fare\",\"Fare\",\"Fare\",\"Fare\",\"Fare\",\"Fare\",\"Fare\",\"Fare\",\"Fare\",\"Fare\",\"Fare\",\"Fare\",\"Fare\",\"Fare\",\"Fare\",\"Fare\",\"Fare\",\"Fare\",\"Fare\",\"Fare\",\"Fare\",\"Fare\",\"Fare\",\"Fare\",\"Fare\",\"Fare\",\"Fare\",\"Fare\",\"Fare\",\"Fare\",\"Fare\",\"Fare\",\"Fare\",\"Fare\",\"Fare\",\"Fare\",\"Fare\",\"Fare\",\"Fare\",\"Fare\",\"Fare\",\"Fare\",\"Fare\",\"Fare\",\"Fare\",\"Fare\",\"Fare\",\"Fare\",\"Fare\",\"Fare\",\"Fare\",\"Fare\",\"Fare\",\"Fare\",\"Fare\",\"Fare\",\"Fare\",\"Fare\",\"Fare\",\"Fare\",\"Fare\",\"Fare\",\"Fare\",\"Fare\",\"Fare\",\"Fare\",\"Fare\",\"Fare\",\"Fare\",\"Fare\",\"Fare\",\"Fare\",\"Fare\",\"Fare\",\"Fare\",\"Fare\",\"Fare\",\"Fare\",\"Fare\",\"Fare\",\"Fare\",\"Fare\",\"Fare\",\"Fare\",\"Fare\",\"Fare\",\"Fare\",\"Fare\",\"Fare\",\"Fare\",\"Fare\",\"Fare\",\"Fare\",\"Fare\",\"Fare\",\"Fare\",\"Fare\",\"Fare\",\"Fare\",\"Fare\",\"Fare\",\"Fare\",\"Fare\",\"Fare\",\"Fare\",\"Fare\",\"Fare\",\"Fare\",\"Fare\",\"Fare\",\"Fare\",\"Fare\",\"Fare\",\"Fare\",\"Fare\",\"Fare\",\"Fare\",\"Fare\",\"Fare\",\"Fare\",\"Fare\",\"Fare\",\"Fare\",\"Fare\",\"Fare\",\"Fare\",\"Fare\",\"Fare\",\"Fare\",\"Fare\",\"Fare\",\"Fare\",\"Fare\",\"Fare\",\"Fare\",\"Fare\",\"Fare\",\"Fare\",\"Fare\",\"Fare\",\"Fare\",\"Fare\",\"Fare\",\"Fare\",\"Fare\",\"Fare\",\"Fare\",\"Fare\",\"Fare\",\"Fare\",\"Fare\",\"Fare\",\"Fare\",\"Fare\",\"Fare\",\"Fare\",\"Fare\",\"Fare\",\"Fare\",\"Fare\",\"Fare\",\"Fare\",\"Fare\",\"Fare\",\"Fare\",\"Fare\",\"Fare\",\"Fare\",\"Fare\",\"Fare\",\"Fare\",\"Fare\",\"Fare\",\"Fare\",\"Fare\",\"Fare\",\"Fare\",\"Fare\",\"Fare\",\"Fare\",\"Fare\",\"Fare\",\"Fare\",\"Fare\",\"Fare\",\"Fare\",\"Fare\",\"Fare\",\"Fare\",\"Fare\",\"Fare\",\"Fare\",\"Fare\",\"Fare\",\"Fare\",\"Fare\",\"Fare\",\"Fare\",\"Fare\",\"Fare\",\"Fare\",\"Fare\",\"Fare\",\"Fare\",\"Fare\",\"Fare\",\"Fare\",\"Fare\",\"Fare\",\"Fare\",\"Fare\",\"Fare\",\"Fare\",\"Fare\",\"Fare\",\"Fare\",\"Fare\",\"Fare\",\"Fare\",\"Fare\",\"Fare\",\"Fare\",\"Fare\",\"Fare\",\"Fare\",\"Fare\",\"Fare\",\"Fare\",\"Fare\",\"Fare\",\"Fare\",\"Fare\",\"Fare\",\"Fare\",\"Fare\",\"Fare\",\"Fare\",\"Fare\",\"Fare\",\"Fare\",\"Fare\",\"Fare\",\"Fare\",\"Fare\",\"Fare\",\"Fare\",\"Fare\",\"Fare\",\"Fare\",\"Fare\",\"Fare\",\"Fare\",\"Fare\",\"Fare\",\"Fare\",\"Fare\",\"Fare\",\"Fare\",\"Fare\",\"Fare\",\"Fare\",\"Fare\",\"Fare\",\"Fare\",\"Fare\",\"Fare\",\"Fare\",\"Fare\",\"Fare\",\"Fare\",\"Fare\",\"Fare\",\"Fare\",\"Fare\",\"Fare\",\"Fare\",\"Fare\",\"Fare\",\"Fare\",\"Fare\",\"Fare\",\"Fare\",\"Fare\",\"Fare\",\"Fare\",\"Fare\",\"Fare\",\"Fare\",\"Fare\",\"Fare\",\"Fare\",\"Fare\",\"Fare\",\"Fare\",\"Fare\",\"Fare\",\"Fare\",\"Fare\",\"Fare\",\"Fare\",\"Fare\",\"Fare\",\"Fare\",\"Fare\",\"Fare\",\"Fare\",\"Fare\",\"Fare\",\"Fare\",\"Fare\",\"Fare\",\"Fare\",\"Fare\",\"Fare\",\"Fare\",\"Fare\",\"Fare\",\"Fare\",\"Fare\",\"Fare\",\"Fare\",\"Fare\",\"Fare\",\"Fare\",\"Fare\",\"Fare\",\"Fare\",\"Fare\",\"Fare\",\"Fare\",\"Fare\",\"Fare\",\"Fare\",\"Fare\",\"Fare\",\"Fare\",\"Fare\",\"Fare\",\"Fare\",\"Fare\",\"Fare\",\"Fare\",\"Fare\",\"Fare\",\"Fare\",\"Fare\",\"Fare\",\"Fare\",\"Fare\",\"Fare\",\"Fare\",\"Fare\",\"Fare\",\"Fare\",\"Fare\",\"Fare\",\"Fare\",\"Fare\",\"Fare\",\"Fare\",\"Fare\",\"Fare\",\"Fare\",\"Fare\",\"Fare\",\"Fare\",\"Fare\",\"Fare\",\"Fare\",\"Fare\",\"Fare\",\"Fare\",\"Fare\",\"Fare\",\"Fare\",\"Fare\",\"Fare\",\"Fare\",\"Fare\",\"Fare\",\"Fare\",\"Fare\",\"Fare\",\"Fare\",\"Fare\",\"Fare\",\"Fare\",\"Fare\",\"Fare\"],\"x0\":\" \",\"xaxis\":\"x\",\"y\":[22.0,38.0,26.0,35.0,35.0,null,54.0,2.0,27.0,14.0,4.0,58.0,20.0,39.0,14.0,55.0,2.0,null,31.0,null,35.0,34.0,15.0,28.0,8.0,38.0,null,19.0,null,null,40.0,null,null,66.0,28.0,42.0,null,21.0,18.0,14.0,40.0,27.0,null,3.0,19.0,null,null,null,null,18.0,7.0,21.0,49.0,29.0,65.0,null,21.0,28.5,5.0,11.0,22.0,38.0,45.0,4.0,null,null,29.0,19.0,17.0,26.0,32.0,16.0,21.0,26.0,32.0,25.0,null,null,0.83,30.0,22.0,29.0,null,28.0,17.0,33.0,16.0,null,23.0,24.0,29.0,20.0,46.0,26.0,59.0,null,71.0,23.0,34.0,34.0,28.0,null,21.0,33.0,37.0,28.0,21.0,null,38.0,null,47.0,14.5,22.0,20.0,17.0,21.0,70.5,29.0,24.0,2.0,21.0,null,32.5,32.5,54.0,12.0,null,24.0,null,45.0,33.0,20.0,47.0,29.0,25.0,23.0,19.0,37.0,16.0,24.0,null,22.0,24.0,19.0,18.0,19.0,27.0,9.0,36.5,42.0,51.0,22.0,55.5,40.5,null,51.0,16.0,30.0,null,null,44.0,40.0,26.0,17.0,1.0,9.0,null,45.0,null,28.0,61.0,4.0,1.0,21.0,56.0,18.0,null,50.0,30.0,36.0,null,null,9.0,1.0,4.0,null,null,45.0,40.0,36.0,32.0,19.0,19.0,3.0,44.0,58.0,null,42.0,null,24.0,28.0,null,34.0,45.5,18.0,2.0,32.0,26.0,16.0,40.0,24.0,35.0,22.0,30.0,null,31.0,27.0,42.0,32.0,30.0,16.0,27.0,51.0,null,38.0,22.0,19.0,20.5,18.0,null,35.0,29.0,59.0,5.0,24.0,null,44.0,8.0,19.0,33.0,null,null,29.0,22.0,30.0,44.0,25.0,24.0,37.0,54.0,null,29.0,62.0,30.0,41.0,29.0,null,30.0,35.0,50.0,null,3.0,52.0,40.0,null,36.0,16.0,25.0,58.0,35.0,null,25.0,41.0,37.0,null,63.0,45.0,null,7.0,35.0,65.0,28.0,16.0,19.0,null,33.0,30.0,22.0,42.0,22.0,26.0,19.0,36.0,24.0,24.0,null,23.5,2.0,null,50.0,null,null,19.0,null,null,0.92,null,17.0,30.0,30.0,24.0,18.0,26.0,28.0,43.0,26.0,24.0,54.0,31.0,40.0,22.0,27.0,30.0,22.0,null,36.0,61.0,36.0,31.0,16.0,null,45.5,38.0,16.0,null,null,29.0,41.0,45.0,45.0,2.0,24.0,28.0,25.0,36.0,24.0,40.0,null,3.0,42.0,23.0,null,15.0,25.0,null,28.0,22.0,38.0,null,null,40.0,29.0,45.0,35.0,null,30.0,60.0,null,null,24.0,25.0,18.0,19.0,22.0,3.0,null,22.0,27.0,20.0,19.0,42.0,1.0,32.0,35.0,null,18.0,1.0,36.0,null,17.0,36.0,21.0,28.0,23.0,24.0,22.0,31.0,46.0,23.0,28.0,39.0,26.0,21.0,28.0,20.0,34.0,51.0,3.0,21.0,null,null,null,33.0,null,44.0,null,34.0,18.0,30.0,10.0,null,21.0,29.0,28.0,18.0,null,28.0,19.0,null,32.0,28.0,null,42.0,17.0,50.0,14.0,21.0,24.0,64.0,31.0,45.0,20.0,25.0,28.0,null,4.0,13.0,34.0,5.0,52.0,36.0,null,30.0,49.0,null,29.0,65.0,null,50.0,null,48.0,34.0,47.0,48.0,null,38.0,null,56.0,null,0.75,null,38.0,33.0,23.0,22.0,null,34.0,29.0,22.0,2.0,9.0,null,50.0,63.0,25.0,null,35.0,58.0,30.0,9.0,null,21.0,55.0,71.0,21.0,null,54.0,null,25.0,24.0,17.0,21.0,null,37.0,16.0,18.0,33.0,null,28.0,26.0,29.0,null,36.0,54.0,24.0,47.0,34.0,null,36.0,32.0,30.0,22.0,null,44.0,null,40.5,50.0,null,39.0,23.0,2.0,null,17.0,null,30.0,7.0,45.0,30.0,null,22.0,36.0,9.0,11.0,32.0,50.0,64.0,19.0,null,33.0,8.0,17.0,27.0,null,22.0,22.0,62.0,48.0,null,39.0,36.0,null,40.0,28.0,null,null,24.0,19.0,29.0,null,32.0,62.0,53.0,36.0,null,16.0,19.0,34.0,39.0,null,32.0,25.0,39.0,54.0,36.0,null,18.0,47.0,60.0,22.0,null,35.0,52.0,47.0,null,37.0,36.0,null,49.0,null,49.0,24.0,null,null,44.0,35.0,36.0,30.0,27.0,22.0,40.0,39.0,null,null,null,35.0,24.0,34.0,26.0,4.0,26.0,27.0,42.0,20.0,21.0,21.0,61.0,57.0,21.0,26.0,null,80.0,51.0,32.0,null,9.0,28.0,32.0,31.0,41.0,null,20.0,24.0,2.0,null,0.75,48.0,19.0,56.0,null,23.0,null,18.0,21.0,null,18.0,24.0,null,32.0,23.0,58.0,50.0,40.0,47.0,36.0,20.0,32.0,25.0,null,43.0,null,40.0,31.0,70.0,31.0,null,18.0,24.5,18.0,43.0,36.0,null,27.0,20.0,14.0,60.0,25.0,14.0,19.0,18.0,15.0,31.0,4.0,null,25.0,60.0,52.0,44.0,null,49.0,42.0,18.0,35.0,18.0,25.0,26.0,39.0,45.0,42.0,22.0,null,24.0,null,48.0,29.0,52.0,19.0,38.0,27.0,null,33.0,6.0,17.0,34.0,50.0,27.0,20.0,30.0,null,25.0,25.0,29.0,11.0,null,23.0,23.0,28.5,48.0,35.0,null,null,null,36.0,21.0,24.0,31.0,70.0,16.0,30.0,19.0,31.0,4.0,6.0,33.0,23.0,48.0,0.67,28.0,18.0,34.0,33.0,null,41.0,20.0,36.0,16.0,51.0,null,30.5,null,32.0,24.0,48.0,57.0,null,54.0,18.0,null,5.0,null,43.0,13.0,17.0,29.0,null,25.0,25.0,18.0,8.0,1.0,46.0,null,16.0,null,null,25.0,39.0,49.0,31.0,30.0,30.0,34.0,31.0,11.0,0.42,27.0,31.0,39.0,18.0,39.0,33.0,26.0,39.0,35.0,6.0,30.5,null,23.0,31.0,43.0,10.0,52.0,27.0,38.0,27.0,2.0,null,null,1.0,null,62.0,15.0,0.83,null,23.0,18.0,39.0,21.0,null,32.0,null,20.0,16.0,30.0,34.5,17.0,42.0,null,35.0,28.0,null,4.0,74.0,9.0,16.0,44.0,18.0,45.0,51.0,24.0,null,41.0,21.0,48.0,null,24.0,42.0,27.0,31.0,null,4.0,26.0,47.0,33.0,47.0,28.0,15.0,20.0,19.0,null,56.0,25.0,33.0,22.0,28.0,25.0,39.0,27.0,19.0,null,26.0,32.0,7.25,71.2833,7.925,53.1,8.05,8.4583,51.8625,21.075,11.1333,30.0708,16.7,26.55,8.05,31.275,7.8542,16.0,29.125,13.0,18.0,7.225,26.0,13.0,8.0292,35.5,21.075,31.3875,7.225,263.0,7.8792,7.8958,27.7208,146.5208,7.75,10.5,82.1708,52.0,7.2292,8.05,18.0,11.2417,9.475,21.0,7.8958,41.5792,7.8792,8.05,15.5,7.75,21.6792,17.8,39.6875,7.8,76.7292,26.0,61.9792,35.5,10.5,7.2292,27.75,46.9,7.2292,80.0,83.475,27.9,27.7208,15.2458,10.5,8.1583,7.925,8.6625,10.5,46.9,73.5,14.4542,56.4958,7.65,7.8958,8.05,29.0,12.475,9.0,9.5,7.7875,47.1,10.5,15.85,34.375,8.05,263.0,8.05,8.05,7.8542,61.175,20.575,7.25,8.05,34.6542,63.3583,23.0,26.0,7.8958,7.8958,77.2875,8.6542,7.925,7.8958,7.65,7.775,7.8958,24.15,52.0,14.4542,8.05,9.825,14.4583,7.925,7.75,21.0,247.5208,31.275,73.5,8.05,30.0708,13.0,77.2875,11.2417,7.75,7.1417,22.3583,6.975,7.8958,7.05,14.5,26.0,13.0,15.0458,26.2833,53.1,9.2167,79.2,15.2458,7.75,15.85,6.75,11.5,36.75,7.7958,34.375,26.0,13.0,12.525,66.6,8.05,14.5,7.3125,61.3792,7.7333,8.05,8.6625,69.55,16.1,15.75,7.775,8.6625,39.6875,20.525,55.0,27.9,25.925,56.4958,33.5,29.125,11.1333,7.925,30.6958,7.8542,25.4667,28.7125,13.0,0.0,69.55,15.05,31.3875,39.0,22.025,50.0,15.5,26.55,15.5,7.8958,13.0,13.0,7.8542,26.0,27.7208,146.5208,7.75,8.4042,7.75,13.0,9.5,69.55,6.4958,7.225,8.05,10.4625,15.85,18.7875,7.75,31.0,7.05,21.0,7.25,13.0,7.75,113.275,7.925,27.0,76.2917,10.5,8.05,13.0,8.05,7.8958,90.0,9.35,10.5,7.25,13.0,25.4667,83.475,7.775,13.5,31.3875,10.5,7.55,26.0,26.25,10.5,12.275,14.4542,15.5,10.5,7.125,7.225,90.0,7.775,14.5,52.5542,26.0,7.25,10.4625,26.55,16.1,20.2125,15.2458,79.2,86.5,512.3292,26.0,7.75,31.3875,79.65,0.0,7.75,10.5,39.6875,7.775,153.4625,135.6333,31.0,0.0,19.5,29.7,7.75,77.9583,7.75,0.0,29.125,20.25,7.75,7.8542,9.5,8.05,26.0,8.6625,9.5,7.8958,13.0,7.75,78.85,91.0792,12.875,8.85,7.8958,27.7208,7.2292,151.55,30.5,247.5208,7.75,23.25,0.0,12.35,8.05,151.55,110.8833,108.9,24.0,56.9292,83.1583,262.375,26.0,7.8958,26.25,7.8542,26.0,14.0,164.8667,134.5,7.25,7.8958,12.35,29.0,69.55,135.6333,6.2375,13.0,20.525,57.9792,23.25,28.5,153.4625,18.0,133.65,7.8958,66.6,134.5,8.05,35.5,26.0,263.0,13.0,13.0,13.0,13.0,13.0,16.1,15.9,8.6625,9.225,35.0,7.2292,17.8,7.225,9.5,55.0,13.0,7.8792,7.8792,27.9,27.7208,14.4542,7.05,15.5,7.25,75.25,7.2292,7.75,69.3,55.4417,6.4958,8.05,135.6333,21.075,82.1708,7.25,211.5,4.0125,7.775,227.525,15.7417,7.925,52.0,7.8958,73.5,46.9,13.0,7.7292,12.0,120.0,7.7958,7.925,113.275,16.7,7.7958,7.8542,26.0,10.5,12.65,7.925,8.05,9.825,15.85,8.6625,21.0,7.75,18.75,7.775,25.4667,7.8958,6.8583,90.0,0.0,7.925,8.05,32.5,13.0,13.0,24.15,7.8958,7.7333,7.875,14.4,20.2125,7.25,26.0,26.0,7.75,8.05,26.55,16.1,26.0,7.125,55.9,120.0,34.375,18.75,263.0,10.5,26.25,9.5,7.775,13.0,8.1125,81.8583,19.5,26.55,19.2583,30.5,27.75,19.9667,27.75,89.1042,8.05,7.8958,26.55,51.8625,10.5,7.75,26.55,8.05,38.5,13.0,8.05,7.05,0.0,26.55,7.725,19.2583,7.25,8.6625,27.75,13.7917,9.8375,52.0,21.0,7.0458,7.5208,12.2875,46.9,0.0,8.05,9.5875,91.0792,25.4667,90.0,29.7,8.05,15.9,19.9667,7.25,30.5,49.5042,8.05,14.4583,78.2667,15.1,151.55,7.7958,8.6625,7.75,7.6292,9.5875,86.5,108.9,26.0,26.55,22.525,56.4958,7.75,8.05,26.2875,59.4,7.4958,34.0208,10.5,24.15,26.0,7.8958,93.5,7.8958,7.225,57.9792,7.2292,7.75,10.5,221.7792,7.925,11.5,26.0,7.2292,7.2292,22.3583,8.6625,26.25,26.55,106.425,14.5,49.5,71.0,31.275,31.275,26.0,106.425,26.0,26.0,13.8625,20.525,36.75,110.8833,26.0,7.8292,7.225,7.775,26.55,39.6,227.525,79.65,17.4,7.75,7.8958,13.5,8.05,8.05,24.15,7.8958,21.075,7.2292,7.8542,10.5,51.4792,26.3875,7.75,8.05,14.5,13.0,55.9,14.4583,7.925,30.0,110.8833,26.0,40.125,8.7125,79.65,15.0,79.2,8.05,8.05,7.125,78.2667,7.25,7.75,26.0,24.15,33.0,0.0,7.225,56.9292,27.0,7.8958,42.4,8.05,26.55,15.55,7.8958,30.5,41.5792,153.4625,31.275,7.05,15.5,7.75,8.05,65.0,14.4,16.1,39.0,10.5,14.4542,52.5542,15.7417,7.8542,16.1,32.3208,12.35,77.9583,7.8958,7.7333,30.0,7.0542,30.5,0.0,27.9,13.0,7.925,26.25,39.6875,16.1,7.8542,69.3,27.9,56.4958,19.2583,76.7292,7.8958,35.5,7.55,7.55,7.8958,23.0,8.4333,7.8292,6.75,73.5,7.8958,15.5,13.0,113.275,133.65,7.225,25.5875,7.4958,7.925,73.5,13.0,7.775,8.05,52.0,39.0,52.0,10.5,13.0,0.0,7.775,8.05,9.8417,46.9,512.3292,8.1375,76.7292,9.225,46.9,39.0,41.5792,39.6875,10.1708,7.7958,211.3375,57.0,13.4167,56.4958,7.225,26.55,13.5,8.05,7.7333,110.8833,7.65,227.525,26.2875,14.4542,7.7417,7.8542,26.0,13.5,26.2875,151.55,15.2458,49.5042,26.55,52.0,9.4833,13.0,7.65,227.525,10.5,15.5,7.775,33.0,7.0542,13.0,13.0,53.1,8.6625,21.0,7.7375,26.0,7.925,211.3375,18.7875,0.0,13.0,13.0,16.1,34.375,512.3292,7.8958,7.8958,30.0,78.85,262.375,16.1,7.925,71.0,20.25,13.0,53.1,7.75,23.0,12.475,9.5,7.8958,65.0,14.5,7.7958,11.5,8.05,86.5,14.5,7.125,7.2292,120.0,7.775,77.9583,39.6,7.75,24.15,8.3625,9.5,7.8542,10.5,7.225,23.0,7.75,7.75,12.475,7.7375,211.3375,7.2292,57.0,30.0,23.45,7.05,7.25,7.4958,29.125,20.575,79.2,7.75,26.0,69.55,30.6958,7.8958,13.0,25.9292,8.6833,7.2292,24.15,13.0,26.25,120.0,8.5167,6.975,7.775,0.0,7.775,13.0,53.1,7.8875,24.15,10.5,31.275,8.05,0.0,7.925,37.0042,6.45,27.9,93.5,8.6625,0.0,12.475,39.6875,6.95,56.4958,37.0042,7.75,80.0,14.4542,18.75,7.2292,7.8542,8.3,83.1583,8.6625,8.05,56.4958,29.7,7.925,10.5,31.0,6.4375,8.6625,7.55,69.55,7.8958,33.0,89.1042,31.275,7.775,15.2458,39.4,26.0,9.35,164.8667,26.55,19.2583,7.2292,14.1083,11.5,25.9292,69.55,13.0,13.0,13.8583,50.4958,9.5,11.1333,7.8958,52.5542,5.0,9.0,24.0,7.225,9.8458,7.8958,7.8958,83.1583,26.0,7.8958,10.5167,10.5,7.05,29.125,13.0,30.0,23.45,30.0,7.75],\"y0\":\" \",\"yaxis\":\"y\",\"type\":\"box\"}],                        {\"template\":{\"data\":{\"barpolar\":[{\"marker\":{\"line\":{\"color\":\"rgb(17,17,17)\",\"width\":0.5},\"pattern\":{\"fillmode\":\"overlay\",\"size\":10,\"solidity\":0.2}},\"type\":\"barpolar\"}],\"bar\":[{\"error_x\":{\"color\":\"#f2f5fa\"},\"error_y\":{\"color\":\"#f2f5fa\"},\"marker\":{\"line\":{\"color\":\"rgb(17,17,17)\",\"width\":0.5},\"pattern\":{\"fillmode\":\"overlay\",\"size\":10,\"solidity\":0.2}},\"type\":\"bar\"}],\"carpet\":[{\"aaxis\":{\"endlinecolor\":\"#A2B1C6\",\"gridcolor\":\"#506784\",\"linecolor\":\"#506784\",\"minorgridcolor\":\"#506784\",\"startlinecolor\":\"#A2B1C6\"},\"baxis\":{\"endlinecolor\":\"#A2B1C6\",\"gridcolor\":\"#506784\",\"linecolor\":\"#506784\",\"minorgridcolor\":\"#506784\",\"startlinecolor\":\"#A2B1C6\"},\"type\":\"carpet\"}],\"choropleth\":[{\"colorbar\":{\"outlinewidth\":0,\"ticks\":\"\"},\"type\":\"choropleth\"}],\"contourcarpet\":[{\"colorbar\":{\"outlinewidth\":0,\"ticks\":\"\"},\"type\":\"contourcarpet\"}],\"contour\":[{\"colorbar\":{\"outlinewidth\":0,\"ticks\":\"\"},\"colorscale\":[[0.0,\"#0d0887\"],[0.1111111111111111,\"#46039f\"],[0.2222222222222222,\"#7201a8\"],[0.3333333333333333,\"#9c179e\"],[0.4444444444444444,\"#bd3786\"],[0.5555555555555556,\"#d8576b\"],[0.6666666666666666,\"#ed7953\"],[0.7777777777777778,\"#fb9f3a\"],[0.8888888888888888,\"#fdca26\"],[1.0,\"#f0f921\"]],\"type\":\"contour\"}],\"heatmapgl\":[{\"colorbar\":{\"outlinewidth\":0,\"ticks\":\"\"},\"colorscale\":[[0.0,\"#0d0887\"],[0.1111111111111111,\"#46039f\"],[0.2222222222222222,\"#7201a8\"],[0.3333333333333333,\"#9c179e\"],[0.4444444444444444,\"#bd3786\"],[0.5555555555555556,\"#d8576b\"],[0.6666666666666666,\"#ed7953\"],[0.7777777777777778,\"#fb9f3a\"],[0.8888888888888888,\"#fdca26\"],[1.0,\"#f0f921\"]],\"type\":\"heatmapgl\"}],\"heatmap\":[{\"colorbar\":{\"outlinewidth\":0,\"ticks\":\"\"},\"colorscale\":[[0.0,\"#0d0887\"],[0.1111111111111111,\"#46039f\"],[0.2222222222222222,\"#7201a8\"],[0.3333333333333333,\"#9c179e\"],[0.4444444444444444,\"#bd3786\"],[0.5555555555555556,\"#d8576b\"],[0.6666666666666666,\"#ed7953\"],[0.7777777777777778,\"#fb9f3a\"],[0.8888888888888888,\"#fdca26\"],[1.0,\"#f0f921\"]],\"type\":\"heatmap\"}],\"histogram2dcontour\":[{\"colorbar\":{\"outlinewidth\":0,\"ticks\":\"\"},\"colorscale\":[[0.0,\"#0d0887\"],[0.1111111111111111,\"#46039f\"],[0.2222222222222222,\"#7201a8\"],[0.3333333333333333,\"#9c179e\"],[0.4444444444444444,\"#bd3786\"],[0.5555555555555556,\"#d8576b\"],[0.6666666666666666,\"#ed7953\"],[0.7777777777777778,\"#fb9f3a\"],[0.8888888888888888,\"#fdca26\"],[1.0,\"#f0f921\"]],\"type\":\"histogram2dcontour\"}],\"histogram2d\":[{\"colorbar\":{\"outlinewidth\":0,\"ticks\":\"\"},\"colorscale\":[[0.0,\"#0d0887\"],[0.1111111111111111,\"#46039f\"],[0.2222222222222222,\"#7201a8\"],[0.3333333333333333,\"#9c179e\"],[0.4444444444444444,\"#bd3786\"],[0.5555555555555556,\"#d8576b\"],[0.6666666666666666,\"#ed7953\"],[0.7777777777777778,\"#fb9f3a\"],[0.8888888888888888,\"#fdca26\"],[1.0,\"#f0f921\"]],\"type\":\"histogram2d\"}],\"histogram\":[{\"marker\":{\"pattern\":{\"fillmode\":\"overlay\",\"size\":10,\"solidity\":0.2}},\"type\":\"histogram\"}],\"mesh3d\":[{\"colorbar\":{\"outlinewidth\":0,\"ticks\":\"\"},\"type\":\"mesh3d\"}],\"parcoords\":[{\"line\":{\"colorbar\":{\"outlinewidth\":0,\"ticks\":\"\"}},\"type\":\"parcoords\"}],\"pie\":[{\"automargin\":true,\"type\":\"pie\"}],\"scatter3d\":[{\"line\":{\"colorbar\":{\"outlinewidth\":0,\"ticks\":\"\"}},\"marker\":{\"colorbar\":{\"outlinewidth\":0,\"ticks\":\"\"}},\"type\":\"scatter3d\"}],\"scattercarpet\":[{\"marker\":{\"colorbar\":{\"outlinewidth\":0,\"ticks\":\"\"}},\"type\":\"scattercarpet\"}],\"scattergeo\":[{\"marker\":{\"colorbar\":{\"outlinewidth\":0,\"ticks\":\"\"}},\"type\":\"scattergeo\"}],\"scattergl\":[{\"marker\":{\"line\":{\"color\":\"#283442\"}},\"type\":\"scattergl\"}],\"scattermapbox\":[{\"marker\":{\"colorbar\":{\"outlinewidth\":0,\"ticks\":\"\"}},\"type\":\"scattermapbox\"}],\"scatterpolargl\":[{\"marker\":{\"colorbar\":{\"outlinewidth\":0,\"ticks\":\"\"}},\"type\":\"scatterpolargl\"}],\"scatterpolar\":[{\"marker\":{\"colorbar\":{\"outlinewidth\":0,\"ticks\":\"\"}},\"type\":\"scatterpolar\"}],\"scatter\":[{\"marker\":{\"line\":{\"color\":\"#283442\"}},\"type\":\"scatter\"}],\"scatterternary\":[{\"marker\":{\"colorbar\":{\"outlinewidth\":0,\"ticks\":\"\"}},\"type\":\"scatterternary\"}],\"surface\":[{\"colorbar\":{\"outlinewidth\":0,\"ticks\":\"\"},\"colorscale\":[[0.0,\"#0d0887\"],[0.1111111111111111,\"#46039f\"],[0.2222222222222222,\"#7201a8\"],[0.3333333333333333,\"#9c179e\"],[0.4444444444444444,\"#bd3786\"],[0.5555555555555556,\"#d8576b\"],[0.6666666666666666,\"#ed7953\"],[0.7777777777777778,\"#fb9f3a\"],[0.8888888888888888,\"#fdca26\"],[1.0,\"#f0f921\"]],\"type\":\"surface\"}],\"table\":[{\"cells\":{\"fill\":{\"color\":\"#506784\"},\"line\":{\"color\":\"rgb(17,17,17)\"}},\"header\":{\"fill\":{\"color\":\"#2a3f5f\"},\"line\":{\"color\":\"rgb(17,17,17)\"}},\"type\":\"table\"}]},\"layout\":{\"annotationdefaults\":{\"arrowcolor\":\"#f2f5fa\",\"arrowhead\":0,\"arrowwidth\":1},\"autotypenumbers\":\"strict\",\"coloraxis\":{\"colorbar\":{\"outlinewidth\":0,\"ticks\":\"\"}},\"colorscale\":{\"diverging\":[[0,\"#8e0152\"],[0.1,\"#c51b7d\"],[0.2,\"#de77ae\"],[0.3,\"#f1b6da\"],[0.4,\"#fde0ef\"],[0.5,\"#f7f7f7\"],[0.6,\"#e6f5d0\"],[0.7,\"#b8e186\"],[0.8,\"#7fbc41\"],[0.9,\"#4d9221\"],[1,\"#276419\"]],\"sequential\":[[0.0,\"#0d0887\"],[0.1111111111111111,\"#46039f\"],[0.2222222222222222,\"#7201a8\"],[0.3333333333333333,\"#9c179e\"],[0.4444444444444444,\"#bd3786\"],[0.5555555555555556,\"#d8576b\"],[0.6666666666666666,\"#ed7953\"],[0.7777777777777778,\"#fb9f3a\"],[0.8888888888888888,\"#fdca26\"],[1.0,\"#f0f921\"]],\"sequentialminus\":[[0.0,\"#0d0887\"],[0.1111111111111111,\"#46039f\"],[0.2222222222222222,\"#7201a8\"],[0.3333333333333333,\"#9c179e\"],[0.4444444444444444,\"#bd3786\"],[0.5555555555555556,\"#d8576b\"],[0.6666666666666666,\"#ed7953\"],[0.7777777777777778,\"#fb9f3a\"],[0.8888888888888888,\"#fdca26\"],[1.0,\"#f0f921\"]]},\"colorway\":[\"#636efa\",\"#EF553B\",\"#00cc96\",\"#ab63fa\",\"#FFA15A\",\"#19d3f3\",\"#FF6692\",\"#B6E880\",\"#FF97FF\",\"#FECB52\"],\"font\":{\"color\":\"#f2f5fa\"},\"geo\":{\"bgcolor\":\"rgb(17,17,17)\",\"lakecolor\":\"rgb(17,17,17)\",\"landcolor\":\"rgb(17,17,17)\",\"showlakes\":true,\"showland\":true,\"subunitcolor\":\"#506784\"},\"hoverlabel\":{\"align\":\"left\"},\"hovermode\":\"closest\",\"mapbox\":{\"style\":\"dark\"},\"paper_bgcolor\":\"rgb(17,17,17)\",\"plot_bgcolor\":\"rgb(17,17,17)\",\"polar\":{\"angularaxis\":{\"gridcolor\":\"#506784\",\"linecolor\":\"#506784\",\"ticks\":\"\"},\"bgcolor\":\"rgb(17,17,17)\",\"radialaxis\":{\"gridcolor\":\"#506784\",\"linecolor\":\"#506784\",\"ticks\":\"\"}},\"scene\":{\"xaxis\":{\"backgroundcolor\":\"rgb(17,17,17)\",\"gridcolor\":\"#506784\",\"gridwidth\":2,\"linecolor\":\"#506784\",\"showbackground\":true,\"ticks\":\"\",\"zerolinecolor\":\"#C8D4E3\"},\"yaxis\":{\"backgroundcolor\":\"rgb(17,17,17)\",\"gridcolor\":\"#506784\",\"gridwidth\":2,\"linecolor\":\"#506784\",\"showbackground\":true,\"ticks\":\"\",\"zerolinecolor\":\"#C8D4E3\"},\"zaxis\":{\"backgroundcolor\":\"rgb(17,17,17)\",\"gridcolor\":\"#506784\",\"gridwidth\":2,\"linecolor\":\"#506784\",\"showbackground\":true,\"ticks\":\"\",\"zerolinecolor\":\"#C8D4E3\"}},\"shapedefaults\":{\"line\":{\"color\":\"#f2f5fa\"}},\"sliderdefaults\":{\"bgcolor\":\"#C8D4E3\",\"bordercolor\":\"rgb(17,17,17)\",\"borderwidth\":1,\"tickwidth\":0},\"ternary\":{\"aaxis\":{\"gridcolor\":\"#506784\",\"linecolor\":\"#506784\",\"ticks\":\"\"},\"baxis\":{\"gridcolor\":\"#506784\",\"linecolor\":\"#506784\",\"ticks\":\"\"},\"bgcolor\":\"rgb(17,17,17)\",\"caxis\":{\"gridcolor\":\"#506784\",\"linecolor\":\"#506784\",\"ticks\":\"\"}},\"title\":{\"x\":0.05},\"updatemenudefaults\":{\"bgcolor\":\"#506784\",\"borderwidth\":0},\"xaxis\":{\"automargin\":true,\"gridcolor\":\"#283442\",\"linecolor\":\"#506784\",\"ticks\":\"\",\"title\":{\"standoff\":15},\"zerolinecolor\":\"#283442\",\"zerolinewidth\":2},\"yaxis\":{\"automargin\":true,\"gridcolor\":\"#283442\",\"linecolor\":\"#506784\",\"ticks\":\"\",\"title\":{\"standoff\":15},\"zerolinecolor\":\"#283442\",\"zerolinewidth\":2}}},\"xaxis\":{\"anchor\":\"y\",\"domain\":[0.0,1.0],\"title\":{\"text\":\"variable\"}},\"yaxis\":{\"anchor\":\"x\",\"domain\":[0.0,1.0],\"title\":{\"text\":\"value\"}},\"legend\":{\"tracegroupgap\":0},\"title\":{\"text\":\"Outlier Detection in Columns Age & Fare\"},\"boxmode\":\"group\"},                        {\"responsive\": true}                    ).then(function(){\n",
       "                            \n",
       "var gd = document.getElementById('a1e94a93-c8d7-429a-ae8b-be8cbad2612a');\n",
       "var x = new MutationObserver(function (mutations, observer) {{\n",
       "        var display = window.getComputedStyle(gd).display;\n",
       "        if (!display || display === 'none') {{\n",
       "            console.log([gd, 'removed!']);\n",
       "            Plotly.purge(gd);\n",
       "            observer.disconnect();\n",
       "        }}\n",
       "}});\n",
       "\n",
       "// Listen for the removal of the full notebook cells\n",
       "var notebookContainer = gd.closest('#notebook-container');\n",
       "if (notebookContainer) {{\n",
       "    x.observe(notebookContainer, {childList: true});\n",
       "}}\n",
       "\n",
       "// Listen for the clearing of the current output cell\n",
       "var outputEl = gd.closest('.output');\n",
       "if (outputEl) {{\n",
       "    x.observe(outputEl, {childList: true});\n",
       "}}\n",
       "\n",
       "                        })                };                            </script>        </div>\n",
       "</body>\n",
       "</html>"
      ]
     },
     "metadata": {},
     "output_type": "display_data"
    }
   ],
   "source": [
    "cols = ['Age', 'Fare']\n",
    "fig = px.box(df,\n",
    "             y = cols, \n",
    "             template = 'plotly_dark',\n",
    "             title = 'Outlier Detection in Columns Age & Fare')  \n",
    "\n",
    "fig.show() "
   ]
  },
  {
   "cell_type": "markdown",
   "id": "94f27d14",
   "metadata": {
    "papermill": {
     "duration": 0.014581,
     "end_time": "2025-04-22T03:54:30.275900",
     "exception": false,
     "start_time": "2025-04-22T03:54:30.261319",
     "status": "completed"
    },
    "tags": []
   },
   "source": [
    "###  📝 ***Conclusions from Data Exploration***"
   ]
  },
  {
   "cell_type": "markdown",
   "id": "f25a104c",
   "metadata": {
    "papermill": {
     "duration": 0.015714,
     "end_time": "2025-04-22T03:54:30.306391",
     "exception": false,
     "start_time": "2025-04-22T03:54:30.290677",
     "status": "completed"
    },
    "tags": []
   },
   "source": [
    "1. The columns have float datatypes are 2, integer datatype are 5, object datatype are 5. \n",
    "\n",
    "2. There are 891 rows and 12 columns in the DataFrame.\n",
    "\n",
    "3. Column Cabin has 687 missing values, Column Age has 177 and Column Embarked has 2 missing values.\n",
    "\n",
    "4. For Column Age, the maximum age is 80, and the minimum is 0.42 years old.\n",
    "\n",
    "5. The maximum fare is 512.329.  "
   ]
  },
  {
   "cell_type": "markdown",
   "id": "126a2152",
   "metadata": {
    "papermill": {
     "duration": 0.014618,
     "end_time": "2025-04-22T03:54:30.336800",
     "exception": false,
     "start_time": "2025-04-22T03:54:30.322182",
     "status": "completed"
    },
    "tags": []
   },
   "source": [
    "# 🔨  ***Data Cleaning & Preprocessing***  "
   ]
  },
  {
   "cell_type": "markdown",
   "id": "1d6c8338",
   "metadata": {
    "papermill": {
     "duration": 0.014482,
     "end_time": "2025-04-22T03:54:30.366059",
     "exception": false,
     "start_time": "2025-04-22T03:54:30.351577",
     "status": "completed"
    },
    "tags": []
   },
   "source": [
    "### 1. 🔍 **Col: PassengerId**\n",
    "\n",
    "*  \"PassengerId\" is an arbitrary identifier assigned to each passenger."
   ]
  },
  {
   "cell_type": "code",
   "execution_count": 12,
   "id": "a59d6c40",
   "metadata": {
    "execution": {
     "iopub.execute_input": "2025-04-22T03:54:30.397189Z",
     "iopub.status.busy": "2025-04-22T03:54:30.396841Z",
     "iopub.status.idle": "2025-04-22T03:54:30.403014Z",
     "shell.execute_reply": "2025-04-22T03:54:30.401729Z"
    },
    "papermill": {
     "duration": 0.024219,
     "end_time": "2025-04-22T03:54:30.405266",
     "exception": false,
     "start_time": "2025-04-22T03:54:30.381047",
     "status": "completed"
    },
    "tags": []
   },
   "outputs": [],
   "source": [
    "df.drop(['PassengerId'], axis=1, inplace=True)  "
   ]
  },
  {
   "cell_type": "markdown",
   "id": "08f8dff5",
   "metadata": {
    "papermill": {
     "duration": 0.014704,
     "end_time": "2025-04-22T03:54:30.435987",
     "exception": false,
     "start_time": "2025-04-22T03:54:30.421283",
     "status": "completed"
    },
    "tags": []
   },
   "source": [
    "### 2. 🔍 **Col: Sex**\n",
    "\n",
    "* Convert to numerical features which would be better for prediction. "
   ]
  },
  {
   "cell_type": "code",
   "execution_count": 13,
   "id": "efb842f3",
   "metadata": {
    "execution": {
     "iopub.execute_input": "2025-04-22T03:54:30.468804Z",
     "iopub.status.busy": "2025-04-22T03:54:30.468314Z",
     "iopub.status.idle": "2025-04-22T03:54:30.474801Z",
     "shell.execute_reply": "2025-04-22T03:54:30.473785Z"
    },
    "papermill": {
     "duration": 0.024848,
     "end_time": "2025-04-22T03:54:30.476508",
     "exception": false,
     "start_time": "2025-04-22T03:54:30.451660",
     "status": "completed"
    },
    "tags": []
   },
   "outputs": [],
   "source": [
    "df['Sex'] = df['Sex'].map({'male': 0, 'female':1})   "
   ]
  },
  {
   "cell_type": "markdown",
   "id": "c4b20139",
   "metadata": {
    "papermill": {
     "duration": 0.014725,
     "end_time": "2025-04-22T03:54:30.506159",
     "exception": false,
     "start_time": "2025-04-22T03:54:30.491434",
     "status": "completed"
    },
    "tags": []
   },
   "source": [
    "### 3. 🔍 **Col: Age** "
   ]
  },
  {
   "cell_type": "code",
   "execution_count": 14,
   "id": "1c877374",
   "metadata": {
    "execution": {
     "iopub.execute_input": "2025-04-22T03:54:30.538483Z",
     "iopub.status.busy": "2025-04-22T03:54:30.538099Z",
     "iopub.status.idle": "2025-04-22T03:54:30.548398Z",
     "shell.execute_reply": "2025-04-22T03:54:30.547385Z"
    },
    "papermill": {
     "duration": 0.027772,
     "end_time": "2025-04-22T03:54:30.550213",
     "exception": false,
     "start_time": "2025-04-22T03:54:30.522441",
     "status": "completed"
    },
    "tags": []
   },
   "outputs": [
    {
     "data": {
      "text/plain": [
       "count    714.000000\n",
       "mean      29.699118\n",
       "std       14.526497\n",
       "min        0.420000\n",
       "25%       20.125000\n",
       "50%       28.000000\n",
       "75%       38.000000\n",
       "max       80.000000\n",
       "Name: Age, dtype: float64"
      ]
     },
     "execution_count": 14,
     "metadata": {},
     "output_type": "execute_result"
    }
   ],
   "source": [
    "df['Age'].describe() "
   ]
  },
  {
   "cell_type": "code",
   "execution_count": 15,
   "id": "8273089c",
   "metadata": {
    "execution": {
     "iopub.execute_input": "2025-04-22T03:54:30.581727Z",
     "iopub.status.busy": "2025-04-22T03:54:30.581293Z",
     "iopub.status.idle": "2025-04-22T03:54:30.587828Z",
     "shell.execute_reply": "2025-04-22T03:54:30.586686Z"
    },
    "papermill": {
     "duration": 0.024201,
     "end_time": "2025-04-22T03:54:30.589636",
     "exception": false,
     "start_time": "2025-04-22T03:54:30.565435",
     "status": "completed"
    },
    "tags": []
   },
   "outputs": [
    {
     "data": {
      "text/plain": [
       "177"
      ]
     },
     "execution_count": 15,
     "metadata": {},
     "output_type": "execute_result"
    }
   ],
   "source": [
    "df['Age'].isna().sum() "
   ]
  },
  {
   "cell_type": "code",
   "execution_count": 16,
   "id": "38d65039",
   "metadata": {
    "execution": {
     "iopub.execute_input": "2025-04-22T03:54:30.621222Z",
     "iopub.status.busy": "2025-04-22T03:54:30.620843Z",
     "iopub.status.idle": "2025-04-22T03:54:30.625613Z",
     "shell.execute_reply": "2025-04-22T03:54:30.624456Z"
    },
    "papermill": {
     "duration": 0.022612,
     "end_time": "2025-04-22T03:54:30.627441",
     "exception": false,
     "start_time": "2025-04-22T03:54:30.604829",
     "status": "completed"
    },
    "tags": []
   },
   "outputs": [],
   "source": [
    "sns.set_style('whitegrid') "
   ]
  },
  {
   "cell_type": "code",
   "execution_count": 17,
   "id": "62a1e7a9",
   "metadata": {
    "execution": {
     "iopub.execute_input": "2025-04-22T03:54:30.717603Z",
     "iopub.status.busy": "2025-04-22T03:54:30.717141Z",
     "iopub.status.idle": "2025-04-22T03:54:31.108881Z",
     "shell.execute_reply": "2025-04-22T03:54:31.107774Z"
    },
    "papermill": {
     "duration": 0.468199,
     "end_time": "2025-04-22T03:54:31.110771",
     "exception": false,
     "start_time": "2025-04-22T03:54:30.642572",
     "status": "completed"
    },
    "tags": []
   },
   "outputs": [
    {
     "data": {
      "image/png": "[encoded data removed]",
      "text/plain": [
       "<Figure size 640x480 with 1 Axes>"
      ]
     },
     "metadata": {},
     "output_type": "display_data"
    }
   ],
   "source": [
    "sns.histplot(data=df,\n",
    "             x=df['Age'].dropna(), \n",
    "             bins=30,\n",
    "             kde=True)\n",
    "\n",
    "plt.title('Age Distribution') \n",
    "plt.ylabel('')\n",
    "plt.show() \n"
   ]
  },
  {
   "cell_type": "markdown",
   "id": "0d156851",
   "metadata": {
    "papermill": {
     "duration": 0.015527,
     "end_time": "2025-04-22T03:54:31.142659",
     "exception": false,
     "start_time": "2025-04-22T03:54:31.127132",
     "status": "completed"
    },
    "tags": []
   },
   "source": [
    "### 📝 ***Conclusion*** :  \n",
    "\n",
    "*  A skewed towards younger passengers between 20-30 years old. "
   ]
  },
  {
   "cell_type": "code",
   "execution_count": 18,
   "id": "456a3f59",
   "metadata": {
    "execution": {
     "iopub.execute_input": "2025-04-22T03:54:31.176213Z",
     "iopub.status.busy": "2025-04-22T03:54:31.175865Z",
     "iopub.status.idle": "2025-04-22T03:54:31.226943Z",
     "shell.execute_reply": "2025-04-22T03:54:31.225828Z"
    },
    "papermill": {
     "duration": 0.070157,
     "end_time": "2025-04-22T03:54:31.228630",
     "exception": false,
     "start_time": "2025-04-22T03:54:31.158473",
     "status": "completed"
    },
    "tags": []
   },
   "outputs": [
    {
     "data": {
      "text/html": [
       "<html>\n",
       "<head><meta charset=\"utf-8\" /></head>\n",
       "<body>\n",
       "    <div>            <script src=\"https://cdnjs.cloudflare.com/ajax/libs/mathjax/2.7.5/MathJax.js?config=TeX-AMS-MML_SVG\"></script><script type=\"text/javascript\">if (window.MathJax && window.MathJax.Hub && window.MathJax.Hub.Config) {window.MathJax.Hub.Config({SVG: {font: \"STIX-Web\"}});}</script>                <script type=\"text/javascript\">window.PlotlyConfig = {MathJaxConfig: 'local'};</script>\n",
       "        <script charset=\"utf-8\" src=\"https://cdn.plot.ly/plotly-2.35.2.min.js\"></script>                <div id=\"3184f512-67d5-4ca4-a51b-4bf2c8edeff2\" class=\"plotly-graph-div\" style=\"height:525px; width:100%;\"></div>            <script type=\"text/javascript\">                                    window.PLOTLYENV=window.PLOTLYENV || {};                                    if (document.getElementById(\"3184f512-67d5-4ca4-a51b-4bf2c8edeff2\")) {                    Plotly.newPlot(                        \"3184f512-67d5-4ca4-a51b-4bf2c8edeff2\",                        [{\"alignmentgroup\":\"True\",\"hovertemplate\":\"Pclass=%{x}\\u003cbr\\u003eAge=%{y}\\u003cextra\\u003e\\u003c\\u002fextra\\u003e\",\"legendgroup\":\"\",\"marker\":{\"color\":\"#636efa\"},\"name\":\"\",\"notched\":false,\"offsetgroup\":\"\",\"orientation\":\"v\",\"showlegend\":false,\"x\":[3,1,3,1,3,3,1,3,3,2,3,1,3,3,3,2,3,2,3,3,2,2,3,1,3,3,3,1,3,3,1,1,3,2,1,1,3,3,3,3,3,2,3,2,3,3,3,3,3,3,3,3,1,2,1,1,2,3,2,3,3,1,1,3,1,3,2,3,3,3,2,3,2,3,3,3,3,3,2,3,3,3,3,1,2,3,3,3,1,3,3,3,1,3,3,3,1,1,2,2,3,3,1,3,3,3,3,3,3,3,1,3,3,3,3,3,3,2,1,3,2,3,2,2,1,3,3,3,3,3,3,3,3,2,2,2,1,1,3,1,3,3,3,3,2,2,3,3,2,2,2,1,3,3,3,1,3,3,3,3,3,2,3,3,3,3,1,3,1,3,1,3,3,3,1,3,3,1,2,3,3,2,3,2,3,1,3,1,3,3,2,2,3,2,1,1,3,3,3,2,3,3,3,3,3,3,3,3,3,1,3,2,3,2,3,1,3,2,1,2,3,2,3,3,1,3,2,3,2,3,1,3,2,3,2,3,2,2,2,2,3,3,2,3,3,1,3,2,1,2,3,3,1,3,3,3,1,1,1,2,3,3,1,1,3,2,3,3,1,1,1,3,2,1,3,1,3,2,3,3,3,3,3,3,1,3,3,3,2,3,1,1,2,3,3,1,3,1,1,1,3,3,3,2,3,1,1,1,2,1,1,1,2,3,2,3,2,2,1,1,3,3,2,2,3,1,3,2,3,1,3,1,1,3,1,3,1,1,3,1,2,1,2,2,2,2,2,3,3,3,3,1,3,3,3,3,1,2,3,3,3,2,3,3,3,3,1,3,3,1,1,3,3,1,3,1,3,1,3,3,1,3,3,1,3,2,3,2,3,2,1,3,3,1,3,3,3,2,2,2,3,3,3,3,3,2,3,2,3,3,3,3,1,2,3,3,2,2,2,3,3,3,3,3,3,3,2,2,3,3,1,3,2,3,1,1,3,2,1,2,2,3,3,2,3,1,2,1,3,1,2,3,1,1,3,3,1,1,2,3,1,3,1,2,3,3,2,1,3,3,3,3,2,2,3,1,2,3,3,3,3,2,3,3,1,3,1,1,3,3,3,3,1,1,3,3,1,3,1,3,3,3,3,3,1,1,2,1,3,3,3,3,1,1,3,1,2,3,2,3,1,3,3,1,3,3,2,1,3,2,2,3,3,3,3,2,1,1,3,1,1,3,3,2,1,1,2,2,3,2,1,2,3,3,3,1,1,1,1,3,3,3,2,3,3,3,3,3,3,3,2,1,1,3,3,3,2,1,3,3,2,1,2,1,3,1,2,1,3,3,3,1,3,3,2,3,2,3,3,1,2,3,1,3,1,3,3,1,2,1,3,3,3,3,3,2,3,3,2,2,3,1,3,3,3,1,2,1,3,3,1,3,1,1,3,2,3,2,3,3,3,1,3,3,3,1,3,1,3,3,3,2,3,3,3,2,3,3,2,1,1,3,1,3,3,2,2,3,3,1,2,1,2,2,2,3,3,3,3,1,3,1,3,3,2,2,3,3,3,1,1,3,3,3,1,2,3,3,1,3,1,1,3,3,3,2,2,1,1,3,1,1,1,3,2,3,1,2,3,3,2,3,2,2,1,3,2,3,2,3,1,3,2,2,2,3,3,1,3,3,1,1,1,3,3,1,3,2,1,3,2,3,3,3,2,2,3,2,3,1,3,3,3,1,3,1,1,3,3,3,3,3,2,3,2,3,3,3,3,1,3,1,1,3,3,3,3,3,3,1,3,2,3,1,3,2,1,3,3,3,2,2,1,3,3,3,1,3,2,1,3,3,2,3,3,1,3,2,3,3,1,3,1,3,3,3,3,2,3,1,3,2,3,3,3,1,3,3,3,1,3,2,1,3,3,3,3,3,2,1,3,3,3,1,2,3,1,1,3,3,3,2,1,3,2,2,2,1,3,3,3,1,1,3,2,3,3,3,3,1,2,3,3,2,3,3,2,1,3,1,3],\"x0\":\" \",\"xaxis\":\"x\",\"y\":[22.0,38.0,26.0,35.0,35.0,null,54.0,2.0,27.0,14.0,4.0,58.0,20.0,39.0,14.0,55.0,2.0,null,31.0,null,35.0,34.0,15.0,28.0,8.0,38.0,null,19.0,null,null,40.0,null,null,66.0,28.0,42.0,null,21.0,18.0,14.0,40.0,27.0,null,3.0,19.0,null,null,null,null,18.0,7.0,21.0,49.0,29.0,65.0,null,21.0,28.5,5.0,11.0,22.0,38.0,45.0,4.0,null,null,29.0,19.0,17.0,26.0,32.0,16.0,21.0,26.0,32.0,25.0,null,null,0.83,30.0,22.0,29.0,null,28.0,17.0,33.0,16.0,null,23.0,24.0,29.0,20.0,46.0,26.0,59.0,null,71.0,23.0,34.0,34.0,28.0,null,21.0,33.0,37.0,28.0,21.0,null,38.0,null,47.0,14.5,22.0,20.0,17.0,21.0,70.5,29.0,24.0,2.0,21.0,null,32.5,32.5,54.0,12.0,null,24.0,null,45.0,33.0,20.0,47.0,29.0,25.0,23.0,19.0,37.0,16.0,24.0,null,22.0,24.0,19.0,18.0,19.0,27.0,9.0,36.5,42.0,51.0,22.0,55.5,40.5,null,51.0,16.0,30.0,null,null,44.0,40.0,26.0,17.0,1.0,9.0,null,45.0,null,28.0,61.0,4.0,1.0,21.0,56.0,18.0,null,50.0,30.0,36.0,null,null,9.0,1.0,4.0,null,null,45.0,40.0,36.0,32.0,19.0,19.0,3.0,44.0,58.0,null,42.0,null,24.0,28.0,null,34.0,45.5,18.0,2.0,32.0,26.0,16.0,40.0,24.0,35.0,22.0,30.0,null,31.0,27.0,42.0,32.0,30.0,16.0,27.0,51.0,null,38.0,22.0,19.0,20.5,18.0,null,35.0,29.0,59.0,5.0,24.0,null,44.0,8.0,19.0,33.0,null,null,29.0,22.0,30.0,44.0,25.0,24.0,37.0,54.0,null,29.0,62.0,30.0,41.0,29.0,null,30.0,35.0,50.0,null,3.0,52.0,40.0,null,36.0,16.0,25.0,58.0,35.0,null,25.0,41.0,37.0,null,63.0,45.0,null,7.0,35.0,65.0,28.0,16.0,19.0,null,33.0,30.0,22.0,42.0,22.0,26.0,19.0,36.0,24.0,24.0,null,23.5,2.0,null,50.0,null,null,19.0,null,null,0.92,null,17.0,30.0,30.0,24.0,18.0,26.0,28.0,43.0,26.0,24.0,54.0,31.0,40.0,22.0,27.0,30.0,22.0,null,36.0,61.0,36.0,31.0,16.0,null,45.5,38.0,16.0,null,null,29.0,41.0,45.0,45.0,2.0,24.0,28.0,25.0,36.0,24.0,40.0,null,3.0,42.0,23.0,null,15.0,25.0,null,28.0,22.0,38.0,null,null,40.0,29.0,45.0,35.0,null,30.0,60.0,null,null,24.0,25.0,18.0,19.0,22.0,3.0,null,22.0,27.0,20.0,19.0,42.0,1.0,32.0,35.0,null,18.0,1.0,36.0,null,17.0,36.0,21.0,28.0,23.0,24.0,22.0,31.0,46.0,23.0,28.0,39.0,26.0,21.0,28.0,20.0,34.0,51.0,3.0,21.0,null,null,null,33.0,null,44.0,null,34.0,18.0,30.0,10.0,null,21.0,29.0,28.0,18.0,null,28.0,19.0,null,32.0,28.0,null,42.0,17.0,50.0,14.0,21.0,24.0,64.0,31.0,45.0,20.0,25.0,28.0,null,4.0,13.0,34.0,5.0,52.0,36.0,null,30.0,49.0,null,29.0,65.0,null,50.0,null,48.0,34.0,47.0,48.0,null,38.0,null,56.0,null,0.75,null,38.0,33.0,23.0,22.0,null,34.0,29.0,22.0,2.0,9.0,null,50.0,63.0,25.0,null,35.0,58.0,30.0,9.0,null,21.0,55.0,71.0,21.0,null,54.0,null,25.0,24.0,17.0,21.0,null,37.0,16.0,18.0,33.0,null,28.0,26.0,29.0,null,36.0,54.0,24.0,47.0,34.0,null,36.0,32.0,30.0,22.0,null,44.0,null,40.5,50.0,null,39.0,23.0,2.0,null,17.0,null,30.0,7.0,45.0,30.0,null,22.0,36.0,9.0,11.0,32.0,50.0,64.0,19.0,null,33.0,8.0,17.0,27.0,null,22.0,22.0,62.0,48.0,null,39.0,36.0,null,40.0,28.0,null,null,24.0,19.0,29.0,null,32.0,62.0,53.0,36.0,null,16.0,19.0,34.0,39.0,null,32.0,25.0,39.0,54.0,36.0,null,18.0,47.0,60.0,22.0,null,35.0,52.0,47.0,null,37.0,36.0,null,49.0,null,49.0,24.0,null,null,44.0,35.0,36.0,30.0,27.0,22.0,40.0,39.0,null,null,null,35.0,24.0,34.0,26.0,4.0,26.0,27.0,42.0,20.0,21.0,21.0,61.0,57.0,21.0,26.0,null,80.0,51.0,32.0,null,9.0,28.0,32.0,31.0,41.0,null,20.0,24.0,2.0,null,0.75,48.0,19.0,56.0,null,23.0,null,18.0,21.0,null,18.0,24.0,null,32.0,23.0,58.0,50.0,40.0,47.0,36.0,20.0,32.0,25.0,null,43.0,null,40.0,31.0,70.0,31.0,null,18.0,24.5,18.0,43.0,36.0,null,27.0,20.0,14.0,60.0,25.0,14.0,19.0,18.0,15.0,31.0,4.0,null,25.0,60.0,52.0,44.0,null,49.0,42.0,18.0,35.0,18.0,25.0,26.0,39.0,45.0,42.0,22.0,null,24.0,null,48.0,29.0,52.0,19.0,38.0,27.0,null,33.0,6.0,17.0,34.0,50.0,27.0,20.0,30.0,null,25.0,25.0,29.0,11.0,null,23.0,23.0,28.5,48.0,35.0,null,null,null,36.0,21.0,24.0,31.0,70.0,16.0,30.0,19.0,31.0,4.0,6.0,33.0,23.0,48.0,0.67,28.0,18.0,34.0,33.0,null,41.0,20.0,36.0,16.0,51.0,null,30.5,null,32.0,24.0,48.0,57.0,null,54.0,18.0,null,5.0,null,43.0,13.0,17.0,29.0,null,25.0,25.0,18.0,8.0,1.0,46.0,null,16.0,null,null,25.0,39.0,49.0,31.0,30.0,30.0,34.0,31.0,11.0,0.42,27.0,31.0,39.0,18.0,39.0,33.0,26.0,39.0,35.0,6.0,30.5,null,23.0,31.0,43.0,10.0,52.0,27.0,38.0,27.0,2.0,null,null,1.0,null,62.0,15.0,0.83,null,23.0,18.0,39.0,21.0,null,32.0,null,20.0,16.0,30.0,34.5,17.0,42.0,null,35.0,28.0,null,4.0,74.0,9.0,16.0,44.0,18.0,45.0,51.0,24.0,null,41.0,21.0,48.0,null,24.0,42.0,27.0,31.0,null,4.0,26.0,47.0,33.0,47.0,28.0,15.0,20.0,19.0,null,56.0,25.0,33.0,22.0,28.0,25.0,39.0,27.0,19.0,null,26.0,32.0],\"y0\":\" \",\"yaxis\":\"y\",\"type\":\"box\"}],                        {\"template\":{\"data\":{\"barpolar\":[{\"marker\":{\"line\":{\"color\":\"rgb(17,17,17)\",\"width\":0.5},\"pattern\":{\"fillmode\":\"overlay\",\"size\":10,\"solidity\":0.2}},\"type\":\"barpolar\"}],\"bar\":[{\"error_x\":{\"color\":\"#f2f5fa\"},\"error_y\":{\"color\":\"#f2f5fa\"},\"marker\":{\"line\":{\"color\":\"rgb(17,17,17)\",\"width\":0.5},\"pattern\":{\"fillmode\":\"overlay\",\"size\":10,\"solidity\":0.2}},\"type\":\"bar\"}],\"carpet\":[{\"aaxis\":{\"endlinecolor\":\"#A2B1C6\",\"gridcolor\":\"#506784\",\"linecolor\":\"#506784\",\"minorgridcolor\":\"#506784\",\"startlinecolor\":\"#A2B1C6\"},\"baxis\":{\"endlinecolor\":\"#A2B1C6\",\"gridcolor\":\"#506784\",\"linecolor\":\"#506784\",\"minorgridcolor\":\"#506784\",\"startlinecolor\":\"#A2B1C6\"},\"type\":\"carpet\"}],\"choropleth\":[{\"colorbar\":{\"outlinewidth\":0,\"ticks\":\"\"},\"type\":\"choropleth\"}],\"contourcarpet\":[{\"colorbar\":{\"outlinewidth\":0,\"ticks\":\"\"},\"type\":\"contourcarpet\"}],\"contour\":[{\"colorbar\":{\"outlinewidth\":0,\"ticks\":\"\"},\"colorscale\":[[0.0,\"#0d0887\"],[0.1111111111111111,\"#46039f\"],[0.2222222222222222,\"#7201a8\"],[0.3333333333333333,\"#9c179e\"],[0.4444444444444444,\"#bd3786\"],[0.5555555555555556,\"#d8576b\"],[0.6666666666666666,\"#ed7953\"],[0.7777777777777778,\"#fb9f3a\"],[0.8888888888888888,\"#fdca26\"],[1.0,\"#f0f921\"]],\"type\":\"contour\"}],\"heatmapgl\":[{\"colorbar\":{\"outlinewidth\":0,\"ticks\":\"\"},\"colorscale\":[[0.0,\"#0d0887\"],[0.1111111111111111,\"#46039f\"],[0.2222222222222222,\"#7201a8\"],[0.3333333333333333,\"#9c179e\"],[0.4444444444444444,\"#bd3786\"],[0.5555555555555556,\"#d8576b\"],[0.6666666666666666,\"#ed7953\"],[0.7777777777777778,\"#fb9f3a\"],[0.8888888888888888,\"#fdca26\"],[1.0,\"#f0f921\"]],\"type\":\"heatmapgl\"}],\"heatmap\":[{\"colorbar\":{\"outlinewidth\":0,\"ticks\":\"\"},\"colorscale\":[[0.0,\"#0d0887\"],[0.1111111111111111,\"#46039f\"],[0.2222222222222222,\"#7201a8\"],[0.3333333333333333,\"#9c179e\"],[0.4444444444444444,\"#bd3786\"],[0.5555555555555556,\"#d8576b\"],[0.6666666666666666,\"#ed7953\"],[0.7777777777777778,\"#fb9f3a\"],[0.8888888888888888,\"#fdca26\"],[1.0,\"#f0f921\"]],\"type\":\"heatmap\"}],\"histogram2dcontour\":[{\"colorbar\":{\"outlinewidth\":0,\"ticks\":\"\"},\"colorscale\":[[0.0,\"#0d0887\"],[0.1111111111111111,\"#46039f\"],[0.2222222222222222,\"#7201a8\"],[0.3333333333333333,\"#9c179e\"],[0.4444444444444444,\"#bd3786\"],[0.5555555555555556,\"#d8576b\"],[0.6666666666666666,\"#ed7953\"],[0.7777777777777778,\"#fb9f3a\"],[0.8888888888888888,\"#fdca26\"],[1.0,\"#f0f921\"]],\"type\":\"histogram2dcontour\"}],\"histogram2d\":[{\"colorbar\":{\"outlinewidth\":0,\"ticks\":\"\"},\"colorscale\":[[0.0,\"#0d0887\"],[0.1111111111111111,\"#46039f\"],[0.2222222222222222,\"#7201a8\"],[0.3333333333333333,\"#9c179e\"],[0.4444444444444444,\"#bd3786\"],[0.5555555555555556,\"#d8576b\"],[0.6666666666666666,\"#ed7953\"],[0.7777777777777778,\"#fb9f3a\"],[0.8888888888888888,\"#fdca26\"],[1.0,\"#f0f921\"]],\"type\":\"histogram2d\"}],\"histogram\":[{\"marker\":{\"pattern\":{\"fillmode\":\"overlay\",\"size\":10,\"solidity\":0.2}},\"type\":\"histogram\"}],\"mesh3d\":[{\"colorbar\":{\"outlinewidth\":0,\"ticks\":\"\"},\"type\":\"mesh3d\"}],\"parcoords\":[{\"line\":{\"colorbar\":{\"outlinewidth\":0,\"ticks\":\"\"}},\"type\":\"parcoords\"}],\"pie\":[{\"automargin\":true,\"type\":\"pie\"}],\"scatter3d\":[{\"line\":{\"colorbar\":{\"outlinewidth\":0,\"ticks\":\"\"}},\"marker\":{\"colorbar\":{\"outlinewidth\":0,\"ticks\":\"\"}},\"type\":\"scatter3d\"}],\"scattercarpet\":[{\"marker\":{\"colorbar\":{\"outlinewidth\":0,\"ticks\":\"\"}},\"type\":\"scattercarpet\"}],\"scattergeo\":[{\"marker\":{\"colorbar\":{\"outlinewidth\":0,\"ticks\":\"\"}},\"type\":\"scattergeo\"}],\"scattergl\":[{\"marker\":{\"line\":{\"color\":\"#283442\"}},\"type\":\"scattergl\"}],\"scattermapbox\":[{\"marker\":{\"colorbar\":{\"outlinewidth\":0,\"ticks\":\"\"}},\"type\":\"scattermapbox\"}],\"scatterpolargl\":[{\"marker\":{\"colorbar\":{\"outlinewidth\":0,\"ticks\":\"\"}},\"type\":\"scatterpolargl\"}],\"scatterpolar\":[{\"marker\":{\"colorbar\":{\"outlinewidth\":0,\"ticks\":\"\"}},\"type\":\"scatterpolar\"}],\"scatter\":[{\"marker\":{\"line\":{\"color\":\"#283442\"}},\"type\":\"scatter\"}],\"scatterternary\":[{\"marker\":{\"colorbar\":{\"outlinewidth\":0,\"ticks\":\"\"}},\"type\":\"scatterternary\"}],\"surface\":[{\"colorbar\":{\"outlinewidth\":0,\"ticks\":\"\"},\"colorscale\":[[0.0,\"#0d0887\"],[0.1111111111111111,\"#46039f\"],[0.2222222222222222,\"#7201a8\"],[0.3333333333333333,\"#9c179e\"],[0.4444444444444444,\"#bd3786\"],[0.5555555555555556,\"#d8576b\"],[0.6666666666666666,\"#ed7953\"],[0.7777777777777778,\"#fb9f3a\"],[0.8888888888888888,\"#fdca26\"],[1.0,\"#f0f921\"]],\"type\":\"surface\"}],\"table\":[{\"cells\":{\"fill\":{\"color\":\"#506784\"},\"line\":{\"color\":\"rgb(17,17,17)\"}},\"header\":{\"fill\":{\"color\":\"#2a3f5f\"},\"line\":{\"color\":\"rgb(17,17,17)\"}},\"type\":\"table\"}]},\"layout\":{\"annotationdefaults\":{\"arrowcolor\":\"#f2f5fa\",\"arrowhead\":0,\"arrowwidth\":1},\"autotypenumbers\":\"strict\",\"coloraxis\":{\"colorbar\":{\"outlinewidth\":0,\"ticks\":\"\"}},\"colorscale\":{\"diverging\":[[0,\"#8e0152\"],[0.1,\"#c51b7d\"],[0.2,\"#de77ae\"],[0.3,\"#f1b6da\"],[0.4,\"#fde0ef\"],[0.5,\"#f7f7f7\"],[0.6,\"#e6f5d0\"],[0.7,\"#b8e186\"],[0.8,\"#7fbc41\"],[0.9,\"#4d9221\"],[1,\"#276419\"]],\"sequential\":[[0.0,\"#0d0887\"],[0.1111111111111111,\"#46039f\"],[0.2222222222222222,\"#7201a8\"],[0.3333333333333333,\"#9c179e\"],[0.4444444444444444,\"#bd3786\"],[0.5555555555555556,\"#d8576b\"],[0.6666666666666666,\"#ed7953\"],[0.7777777777777778,\"#fb9f3a\"],[0.8888888888888888,\"#fdca26\"],[1.0,\"#f0f921\"]],\"sequentialminus\":[[0.0,\"#0d0887\"],[0.1111111111111111,\"#46039f\"],[0.2222222222222222,\"#7201a8\"],[0.3333333333333333,\"#9c179e\"],[0.4444444444444444,\"#bd3786\"],[0.5555555555555556,\"#d8576b\"],[0.6666666666666666,\"#ed7953\"],[0.7777777777777778,\"#fb9f3a\"],[0.8888888888888888,\"#fdca26\"],[1.0,\"#f0f921\"]]},\"colorway\":[\"#636efa\",\"#EF553B\",\"#00cc96\",\"#ab63fa\",\"#FFA15A\",\"#19d3f3\",\"#FF6692\",\"#B6E880\",\"#FF97FF\",\"#FECB52\"],\"font\":{\"color\":\"#f2f5fa\"},\"geo\":{\"bgcolor\":\"rgb(17,17,17)\",\"lakecolor\":\"rgb(17,17,17)\",\"landcolor\":\"rgb(17,17,17)\",\"showlakes\":true,\"showland\":true,\"subunitcolor\":\"#506784\"},\"hoverlabel\":{\"align\":\"left\"},\"hovermode\":\"closest\",\"mapbox\":{\"style\":\"dark\"},\"paper_bgcolor\":\"rgb(17,17,17)\",\"plot_bgcolor\":\"rgb(17,17,17)\",\"polar\":{\"angularaxis\":{\"gridcolor\":\"#506784\",\"linecolor\":\"#506784\",\"ticks\":\"\"},\"bgcolor\":\"rgb(17,17,17)\",\"radialaxis\":{\"gridcolor\":\"#506784\",\"linecolor\":\"#506784\",\"ticks\":\"\"}},\"scene\":{\"xaxis\":{\"backgroundcolor\":\"rgb(17,17,17)\",\"gridcolor\":\"#506784\",\"gridwidth\":2,\"linecolor\":\"#506784\",\"showbackground\":true,\"ticks\":\"\",\"zerolinecolor\":\"#C8D4E3\"},\"yaxis\":{\"backgroundcolor\":\"rgb(17,17,17)\",\"gridcolor\":\"#506784\",\"gridwidth\":2,\"linecolor\":\"#506784\",\"showbackground\":true,\"ticks\":\"\",\"zerolinecolor\":\"#C8D4E3\"},\"zaxis\":{\"backgroundcolor\":\"rgb(17,17,17)\",\"gridcolor\":\"#506784\",\"gridwidth\":2,\"linecolor\":\"#506784\",\"showbackground\":true,\"ticks\":\"\",\"zerolinecolor\":\"#C8D4E3\"}},\"shapedefaults\":{\"line\":{\"color\":\"#f2f5fa\"}},\"sliderdefaults\":{\"bgcolor\":\"#C8D4E3\",\"bordercolor\":\"rgb(17,17,17)\",\"borderwidth\":1,\"tickwidth\":0},\"ternary\":{\"aaxis\":{\"gridcolor\":\"#506784\",\"linecolor\":\"#506784\",\"ticks\":\"\"},\"baxis\":{\"gridcolor\":\"#506784\",\"linecolor\":\"#506784\",\"ticks\":\"\"},\"bgcolor\":\"rgb(17,17,17)\",\"caxis\":{\"gridcolor\":\"#506784\",\"linecolor\":\"#506784\",\"ticks\":\"\"}},\"title\":{\"x\":0.05},\"updatemenudefaults\":{\"bgcolor\":\"#506784\",\"borderwidth\":0},\"xaxis\":{\"automargin\":true,\"gridcolor\":\"#283442\",\"linecolor\":\"#506784\",\"ticks\":\"\",\"title\":{\"standoff\":15},\"zerolinecolor\":\"#283442\",\"zerolinewidth\":2},\"yaxis\":{\"automargin\":true,\"gridcolor\":\"#283442\",\"linecolor\":\"#506784\",\"ticks\":\"\",\"title\":{\"standoff\":15},\"zerolinecolor\":\"#283442\",\"zerolinewidth\":2}}},\"xaxis\":{\"anchor\":\"y\",\"domain\":[0.0,1.0],\"title\":{\"text\":\"Pclass\"}},\"yaxis\":{\"anchor\":\"x\",\"domain\":[0.0,1.0],\"title\":{\"text\":\"Age\"}},\"legend\":{\"tracegroupgap\":0},\"title\":{\"text\":\"Age Distribution in Three Classes\"},\"boxmode\":\"group\"},                        {\"responsive\": true}                    ).then(function(){\n",
       "                            \n",
       "var gd = document.getElementById('3184f512-67d5-4ca4-a51b-4bf2c8edeff2');\n",
       "var x = new MutationObserver(function (mutations, observer) {{\n",
       "        var display = window.getComputedStyle(gd).display;\n",
       "        if (!display || display === 'none') {{\n",
       "            console.log([gd, 'removed!']);\n",
       "            Plotly.purge(gd);\n",
       "            observer.disconnect();\n",
       "        }}\n",
       "}});\n",
       "\n",
       "// Listen for the removal of the full notebook cells\n",
       "var notebookContainer = gd.closest('#notebook-container');\n",
       "if (notebookContainer) {{\n",
       "    x.observe(notebookContainer, {childList: true});\n",
       "}}\n",
       "\n",
       "// Listen for the clearing of the current output cell\n",
       "var outputEl = gd.closest('.output');\n",
       "if (outputEl) {{\n",
       "    x.observe(outputEl, {childList: true});\n",
       "}}\n",
       "\n",
       "                        })                };                            </script>        </div>\n",
       "</body>\n",
       "</html>"
      ]
     },
     "metadata": {},
     "output_type": "display_data"
    }
   ],
   "source": [
    "fig = px.box(data_frame=df,\n",
    "      x='Pclass', \n",
    "      y='Age',\n",
    "      template='plotly_dark',\n",
    "      title = 'Age Distribution in Three Classes')  \n",
    "\n",
    "fig.show()  "
   ]
  },
  {
   "cell_type": "markdown",
   "id": "7cee3c10",
   "metadata": {
    "papermill": {
     "duration": 0.01626,
     "end_time": "2025-04-22T03:54:31.261818",
     "exception": false,
     "start_time": "2025-04-22T03:54:31.245558",
     "status": "completed"
    },
    "tags": []
   },
   "source": [
    "### 📝 ***Conclusion*** :  \n",
    "\n",
    "* The median age of the First Class is higher than that of the Second Class and Third Class. "
   ]
  },
  {
   "cell_type": "code",
   "execution_count": 19,
   "id": "a8b01094",
   "metadata": {
    "execution": {
     "iopub.execute_input": "2025-04-22T03:54:31.301633Z",
     "iopub.status.busy": "2025-04-22T03:54:31.301263Z",
     "iopub.status.idle": "2025-04-22T03:54:31.455785Z",
     "shell.execute_reply": "2025-04-22T03:54:31.453844Z"
    },
    "papermill": {
     "duration": 0.180064,
     "end_time": "2025-04-22T03:54:31.458257",
     "exception": false,
     "start_time": "2025-04-22T03:54:31.278193",
     "status": "completed"
    },
    "tags": []
   },
   "outputs": [
    {
     "data": {
      "text/html": [
       "<html>\n",
       "<head><meta charset=\"utf-8\" /></head>\n",
       "<body>\n",
       "    <div>            <script src=\"https://cdnjs.cloudflare.com/ajax/libs/mathjax/2.7.5/MathJax.js?config=TeX-AMS-MML_SVG\"></script><script type=\"text/javascript\">if (window.MathJax && window.MathJax.Hub && window.MathJax.Hub.Config) {window.MathJax.Hub.Config({SVG: {font: \"STIX-Web\"}});}</script>                <script type=\"text/javascript\">window.PlotlyConfig = {MathJaxConfig: 'local'};</script>\n",
       "        <script charset=\"utf-8\" src=\"https://cdn.plot.ly/plotly-2.35.2.min.js\"></script>                <div id=\"ef5fc7e8-d199-4357-926d-cc4a38f160b7\" class=\"plotly-graph-div\" style=\"height:525px; width:100%;\"></div>            <script type=\"text/javascript\">                                    window.PLOTLYENV=window.PLOTLYENV || {};                                    if (document.getElementById(\"ef5fc7e8-d199-4357-926d-cc4a38f160b7\")) {                    Plotly.newPlot(                        \"ef5fc7e8-d199-4357-926d-cc4a38f160b7\",                        [{\"alignmentgroup\":\"True\",\"hovertemplate\":\"Pclass=%{x}\\u003cbr\\u003eAge=%{y}\\u003cbr\\u003eSex=%{marker.color}\\u003cextra\\u003e\\u003c\\u002fextra\\u003e\",\"legendgroup\":\"\",\"marker\":{\"color\":[0,1,0,1,0,1],\"coloraxis\":\"coloraxis\",\"pattern\":{\"shape\":\"\"}},\"name\":\"\",\"offsetgroup\":\"\",\"orientation\":\"v\",\"showlegend\":false,\"textposition\":\"auto\",\"x\":[1,1,2,2,3,3],\"xaxis\":\"x\",\"y\":[40.0,35.0,30.0,28.0,25.0,21.5],\"yaxis\":\"y\",\"type\":\"bar\"}],                        {\"template\":{\"data\":{\"histogram2dcontour\":[{\"type\":\"histogram2dcontour\",\"colorbar\":{\"outlinewidth\":0,\"ticks\":\"\"},\"colorscale\":[[0.0,\"#0d0887\"],[0.1111111111111111,\"#46039f\"],[0.2222222222222222,\"#7201a8\"],[0.3333333333333333,\"#9c179e\"],[0.4444444444444444,\"#bd3786\"],[0.5555555555555556,\"#d8576b\"],[0.6666666666666666,\"#ed7953\"],[0.7777777777777778,\"#fb9f3a\"],[0.8888888888888888,\"#fdca26\"],[1.0,\"#f0f921\"]]}],\"choropleth\":[{\"type\":\"choropleth\",\"colorbar\":{\"outlinewidth\":0,\"ticks\":\"\"}}],\"histogram2d\":[{\"type\":\"histogram2d\",\"colorbar\":{\"outlinewidth\":0,\"ticks\":\"\"},\"colorscale\":[[0.0,\"#0d0887\"],[0.1111111111111111,\"#46039f\"],[0.2222222222222222,\"#7201a8\"],[0.3333333333333333,\"#9c179e\"],[0.4444444444444444,\"#bd3786\"],[0.5555555555555556,\"#d8576b\"],[0.6666666666666666,\"#ed7953\"],[0.7777777777777778,\"#fb9f3a\"],[0.8888888888888888,\"#fdca26\"],[1.0,\"#f0f921\"]]}],\"heatmap\":[{\"type\":\"heatmap\",\"colorbar\":{\"outlinewidth\":0,\"ticks\":\"\"},\"colorscale\":[[0.0,\"#0d0887\"],[0.1111111111111111,\"#46039f\"],[0.2222222222222222,\"#7201a8\"],[0.3333333333333333,\"#9c179e\"],[0.4444444444444444,\"#bd3786\"],[0.5555555555555556,\"#d8576b\"],[0.6666666666666666,\"#ed7953\"],[0.7777777777777778,\"#fb9f3a\"],[0.8888888888888888,\"#fdca26\"],[1.0,\"#f0f921\"]]}],\"heatmapgl\":[{\"type\":\"heatmapgl\",\"colorbar\":{\"outlinewidth\":0,\"ticks\":\"\"},\"colorscale\":[[0.0,\"#0d0887\"],[0.1111111111111111,\"#46039f\"],[0.2222222222222222,\"#7201a8\"],[0.3333333333333333,\"#9c179e\"],[0.4444444444444444,\"#bd3786\"],[0.5555555555555556,\"#d8576b\"],[0.6666666666666666,\"#ed7953\"],[0.7777777777777778,\"#fb9f3a\"],[0.8888888888888888,\"#fdca26\"],[1.0,\"#f0f921\"]]}],\"contourcarpet\":[{\"type\":\"contourcarpet\",\"colorbar\":{\"outlinewidth\":0,\"ticks\":\"\"}}],\"contour\":[{\"type\":\"contour\",\"colorbar\":{\"outlinewidth\":0,\"ticks\":\"\"},\"colorscale\":[[0.0,\"#0d0887\"],[0.1111111111111111,\"#46039f\"],[0.2222222222222222,\"#7201a8\"],[0.3333333333333333,\"#9c179e\"],[0.4444444444444444,\"#bd3786\"],[0.5555555555555556,\"#d8576b\"],[0.6666666666666666,\"#ed7953\"],[0.7777777777777778,\"#fb9f3a\"],[0.8888888888888888,\"#fdca26\"],[1.0,\"#f0f921\"]]}],\"surface\":[{\"type\":\"surface\",\"colorbar\":{\"outlinewidth\":0,\"ticks\":\"\"},\"colorscale\":[[0.0,\"#0d0887\"],[0.1111111111111111,\"#46039f\"],[0.2222222222222222,\"#7201a8\"],[0.3333333333333333,\"#9c179e\"],[0.4444444444444444,\"#bd3786\"],[0.5555555555555556,\"#d8576b\"],[0.6666666666666666,\"#ed7953\"],[0.7777777777777778,\"#fb9f3a\"],[0.8888888888888888,\"#fdca26\"],[1.0,\"#f0f921\"]]}],\"mesh3d\":[{\"type\":\"mesh3d\",\"colorbar\":{\"outlinewidth\":0,\"ticks\":\"\"}}],\"scatter\":[{\"fillpattern\":{\"fillmode\":\"overlay\",\"size\":10,\"solidity\":0.2},\"type\":\"scatter\"}],\"parcoords\":[{\"type\":\"parcoords\",\"line\":{\"colorbar\":{\"outlinewidth\":0,\"ticks\":\"\"}}}],\"scatterpolargl\":[{\"type\":\"scatterpolargl\",\"marker\":{\"colorbar\":{\"outlinewidth\":0,\"ticks\":\"\"}}}],\"bar\":[{\"error_x\":{\"color\":\"#2a3f5f\"},\"error_y\":{\"color\":\"#2a3f5f\"},\"marker\":{\"line\":{\"color\":\"#E5ECF6\",\"width\":0.5},\"pattern\":{\"fillmode\":\"overlay\",\"size\":10,\"solidity\":0.2}},\"type\":\"bar\"}],\"scattergeo\":[{\"type\":\"scattergeo\",\"marker\":{\"colorbar\":{\"outlinewidth\":0,\"ticks\":\"\"}}}],\"scatterpolar\":[{\"type\":\"scatterpolar\",\"marker\":{\"colorbar\":{\"outlinewidth\":0,\"ticks\":\"\"}}}],\"histogram\":[{\"marker\":{\"pattern\":{\"fillmode\":\"overlay\",\"size\":10,\"solidity\":0.2}},\"type\":\"histogram\"}],\"scattergl\":[{\"type\":\"scattergl\",\"marker\":{\"colorbar\":{\"outlinewidth\":0,\"ticks\":\"\"}}}],\"scatter3d\":[{\"type\":\"scatter3d\",\"line\":{\"colorbar\":{\"outlinewidth\":0,\"ticks\":\"\"}},\"marker\":{\"colorbar\":{\"outlinewidth\":0,\"ticks\":\"\"}}}],\"scattermapbox\":[{\"type\":\"scattermapbox\",\"marker\":{\"colorbar\":{\"outlinewidth\":0,\"ticks\":\"\"}}}],\"scatterternary\":[{\"type\":\"scatterternary\",\"marker\":{\"colorbar\":{\"outlinewidth\":0,\"ticks\":\"\"}}}],\"scattercarpet\":[{\"type\":\"scattercarpet\",\"marker\":{\"colorbar\":{\"outlinewidth\":0,\"ticks\":\"\"}}}],\"carpet\":[{\"aaxis\":{\"endlinecolor\":\"#2a3f5f\",\"gridcolor\":\"white\",\"linecolor\":\"white\",\"minorgridcolor\":\"white\",\"startlinecolor\":\"#2a3f5f\"},\"baxis\":{\"endlinecolor\":\"#2a3f5f\",\"gridcolor\":\"white\",\"linecolor\":\"white\",\"minorgridcolor\":\"white\",\"startlinecolor\":\"#2a3f5f\"},\"type\":\"carpet\"}],\"table\":[{\"cells\":{\"fill\":{\"color\":\"#EBF0F8\"},\"line\":{\"color\":\"white\"}},\"header\":{\"fill\":{\"color\":\"#C8D4E3\"},\"line\":{\"color\":\"white\"}},\"type\":\"table\"}],\"barpolar\":[{\"marker\":{\"line\":{\"color\":\"#E5ECF6\",\"width\":0.5},\"pattern\":{\"fillmode\":\"overlay\",\"size\":10,\"solidity\":0.2}},\"type\":\"barpolar\"}],\"pie\":[{\"automargin\":true,\"type\":\"pie\"}]},\"layout\":{\"autotypenumbers\":\"strict\",\"colorway\":[\"#636efa\",\"#EF553B\",\"#00cc96\",\"#ab63fa\",\"#FFA15A\",\"#19d3f3\",\"#FF6692\",\"#B6E880\",\"#FF97FF\",\"#FECB52\"],\"font\":{\"color\":\"#2a3f5f\"},\"hovermode\":\"closest\",\"hoverlabel\":{\"align\":\"left\"},\"paper_bgcolor\":\"white\",\"plot_bgcolor\":\"#E5ECF6\",\"polar\":{\"bgcolor\":\"#E5ECF6\",\"angularaxis\":{\"gridcolor\":\"white\",\"linecolor\":\"white\",\"ticks\":\"\"},\"radialaxis\":{\"gridcolor\":\"white\",\"linecolor\":\"white\",\"ticks\":\"\"}},\"ternary\":{\"bgcolor\":\"#E5ECF6\",\"aaxis\":{\"gridcolor\":\"white\",\"linecolor\":\"white\",\"ticks\":\"\"},\"baxis\":{\"gridcolor\":\"white\",\"linecolor\":\"white\",\"ticks\":\"\"},\"caxis\":{\"gridcolor\":\"white\",\"linecolor\":\"white\",\"ticks\":\"\"}},\"coloraxis\":{\"colorbar\":{\"outlinewidth\":0,\"ticks\":\"\"}},\"colorscale\":{\"sequential\":[[0.0,\"#0d0887\"],[0.1111111111111111,\"#46039f\"],[0.2222222222222222,\"#7201a8\"],[0.3333333333333333,\"#9c179e\"],[0.4444444444444444,\"#bd3786\"],[0.5555555555555556,\"#d8576b\"],[0.6666666666666666,\"#ed7953\"],[0.7777777777777778,\"#fb9f3a\"],[0.8888888888888888,\"#fdca26\"],[1.0,\"#f0f921\"]],\"sequentialminus\":[[0.0,\"#0d0887\"],[0.1111111111111111,\"#46039f\"],[0.2222222222222222,\"#7201a8\"],[0.3333333333333333,\"#9c179e\"],[0.4444444444444444,\"#bd3786\"],[0.5555555555555556,\"#d8576b\"],[0.6666666666666666,\"#ed7953\"],[0.7777777777777778,\"#fb9f3a\"],[0.8888888888888888,\"#fdca26\"],[1.0,\"#f0f921\"]],\"diverging\":[[0,\"#8e0152\"],[0.1,\"#c51b7d\"],[0.2,\"#de77ae\"],[0.3,\"#f1b6da\"],[0.4,\"#fde0ef\"],[0.5,\"#f7f7f7\"],[0.6,\"#e6f5d0\"],[0.7,\"#b8e186\"],[0.8,\"#7fbc41\"],[0.9,\"#4d9221\"],[1,\"#276419\"]]},\"xaxis\":{\"gridcolor\":\"white\",\"linecolor\":\"white\",\"ticks\":\"\",\"title\":{\"standoff\":15},\"zerolinecolor\":\"white\",\"automargin\":true,\"zerolinewidth\":2},\"yaxis\":{\"gridcolor\":\"white\",\"linecolor\":\"white\",\"ticks\":\"\",\"title\":{\"standoff\":15},\"zerolinecolor\":\"white\",\"automargin\":true,\"zerolinewidth\":2},\"scene\":{\"xaxis\":{\"backgroundcolor\":\"#E5ECF6\",\"gridcolor\":\"white\",\"linecolor\":\"white\",\"showbackground\":true,\"ticks\":\"\",\"zerolinecolor\":\"white\",\"gridwidth\":2},\"yaxis\":{\"backgroundcolor\":\"#E5ECF6\",\"gridcolor\":\"white\",\"linecolor\":\"white\",\"showbackground\":true,\"ticks\":\"\",\"zerolinecolor\":\"white\",\"gridwidth\":2},\"zaxis\":{\"backgroundcolor\":\"#E5ECF6\",\"gridcolor\":\"white\",\"linecolor\":\"white\",\"showbackground\":true,\"ticks\":\"\",\"zerolinecolor\":\"white\",\"gridwidth\":2}},\"shapedefaults\":{\"line\":{\"color\":\"#2a3f5f\"}},\"annotationdefaults\":{\"arrowcolor\":\"#2a3f5f\",\"arrowhead\":0,\"arrowwidth\":1},\"geo\":{\"bgcolor\":\"white\",\"landcolor\":\"#E5ECF6\",\"subunitcolor\":\"white\",\"showland\":true,\"showlakes\":true,\"lakecolor\":\"white\"},\"title\":{\"x\":0.05},\"mapbox\":{\"style\":\"light\"}}},\"xaxis\":{\"anchor\":\"y\",\"domain\":[0.0,1.0],\"title\":{\"text\":\"Pclass\"}},\"yaxis\":{\"anchor\":\"x\",\"domain\":[0.0,1.0],\"title\":{\"text\":\"Age\"}},\"coloraxis\":{\"colorbar\":{\"title\":{\"text\":\"Sex\"}},\"colorscale\":[[0.0,\"#0d0887\"],[0.1111111111111111,\"#46039f\"],[0.2222222222222222,\"#7201a8\"],[0.3333333333333333,\"#9c179e\"],[0.4444444444444444,\"#bd3786\"],[0.5555555555555556,\"#d8576b\"],[0.6666666666666666,\"#ed7953\"],[0.7777777777777778,\"#fb9f3a\"],[0.8888888888888888,\"#fdca26\"],[1.0,\"#f0f921\"]]},\"legend\":{\"tracegroupgap\":0},\"margin\":{\"t\":60},\"barmode\":\"group\"},                        {\"responsive\": true}                    ).then(function(){\n",
       "                            \n",
       "var gd = document.getElementById('ef5fc7e8-d199-4357-926d-cc4a38f160b7');\n",
       "var x = new MutationObserver(function (mutations, observer) {{\n",
       "        var display = window.getComputedStyle(gd).display;\n",
       "        if (!display || display === 'none') {{\n",
       "            console.log([gd, 'removed!']);\n",
       "            Plotly.purge(gd);\n",
       "            observer.disconnect();\n",
       "        }}\n",
       "}});\n",
       "\n",
       "// Listen for the removal of the full notebook cells\n",
       "var notebookContainer = gd.closest('#notebook-container');\n",
       "if (notebookContainer) {{\n",
       "    x.observe(notebookContainer, {childList: true});\n",
       "}}\n",
       "\n",
       "// Listen for the clearing of the current output cell\n",
       "var outputEl = gd.closest('.output');\n",
       "if (outputEl) {{\n",
       "    x.observe(outputEl, {childList: true});\n",
       "}}\n",
       "\n",
       "                        })                };                            </script>        </div>\n",
       "</body>\n",
       "</html>"
      ]
     },
     "metadata": {},
     "output_type": "display_data"
    }
   ],
   "source": [
    "grouped = df.groupby(['Pclass', 'Sex'], as_index=False)['Age'].median() \n",
    "fig = px.bar(data_frame= grouped,   \n",
    "             x= 'Pclass', \n",
    "             y= 'Age', \n",
    "             color= 'Sex',\n",
    "             barmode='group') \n",
    "\n",
    "fig.show()  "
   ]
  },
  {
   "cell_type": "code",
   "execution_count": 20,
   "id": "601d0d24",
   "metadata": {
    "execution": {
     "iopub.execute_input": "2025-04-22T03:54:31.498023Z",
     "iopub.status.busy": "2025-04-22T03:54:31.497561Z",
     "iopub.status.idle": "2025-04-22T03:54:31.510308Z",
     "shell.execute_reply": "2025-04-22T03:54:31.508613Z"
    },
    "papermill": {
     "duration": 0.033712,
     "end_time": "2025-04-22T03:54:31.512596",
     "exception": false,
     "start_time": "2025-04-22T03:54:31.478884",
     "status": "completed"
    },
    "tags": []
   },
   "outputs": [],
   "source": [
    "df['Age'] = df.groupby(['Pclass', 'Sex'])['Age'].transform(lambda x: x.fillna(x.median()))"
   ]
  },
  {
   "cell_type": "code",
   "execution_count": 21,
   "id": "6647c608",
   "metadata": {
    "execution": {
     "iopub.execute_input": "2025-04-22T03:54:31.550383Z",
     "iopub.status.busy": "2025-04-22T03:54:31.549985Z",
     "iopub.status.idle": "2025-04-22T03:54:31.869420Z",
     "shell.execute_reply": "2025-04-22T03:54:31.868143Z"
    },
    "papermill": {
     "duration": 0.34134,
     "end_time": "2025-04-22T03:54:31.871392",
     "exception": false,
     "start_time": "2025-04-22T03:54:31.530052",
     "status": "completed"
    },
    "tags": []
   },
   "outputs": [
    {
     "data": {
      "text/plain": [
       "<Axes: >"
      ]
     },
     "execution_count": 21,
     "metadata": {},
     "output_type": "execute_result"
    },
    {
     "data": {
      "image/png": "[encoded data removed]",
      "text/plain": [
       "<Figure size 640x480 with 1 Axes>"
      ]
     },
     "metadata": {},
     "output_type": "display_data"
    }
   ],
   "source": [
    "sns.heatmap(df.isnull(), yticklabels=False, cbar=False) "
   ]
  },
  {
   "cell_type": "code",
   "execution_count": 22,
   "id": "b52f194b",
   "metadata": {
    "execution": {
     "iopub.execute_input": "2025-04-22T03:54:31.908489Z",
     "iopub.status.busy": "2025-04-22T03:54:31.908097Z",
     "iopub.status.idle": "2025-04-22T03:54:31.919975Z",
     "shell.execute_reply": "2025-04-22T03:54:31.918439Z"
    },
    "papermill": {
     "duration": 0.032624,
     "end_time": "2025-04-22T03:54:31.922014",
     "exception": false,
     "start_time": "2025-04-22T03:54:31.889390",
     "status": "completed"
    },
    "tags": []
   },
   "outputs": [
    {
     "name": "stdout",
     "output_type": "stream",
     "text": [
      "=== Point-Biserial Correlation Results ===\n",
      "Correlation Coefficient: -0.060\n",
      "P_value:  0.0755\n"
     ]
    }
   ],
   "source": [
    "ages = df['Age']\n",
    "survival = df['Survived'] \n",
    "\n",
    "r_pb, P_value = stats.pointbiserialr(ages, survival) \n",
    "\n",
    "print('=== Point-Biserial Correlation Results ===') \n",
    "print(f'Correlation Coefficient: {r_pb:.3f}') \n",
    "print(f'P_value: {P_value: .4f}') "
   ]
  },
  {
   "cell_type": "markdown",
   "id": "5481bd37",
   "metadata": {
    "papermill": {
     "duration": 0.024484,
     "end_time": "2025-04-22T03:54:31.964068",
     "exception": false,
     "start_time": "2025-04-22T03:54:31.939584",
     "status": "completed"
    },
    "tags": []
   },
   "source": [
    "### 4. 🔍 **Col: Ticket**\n"
   ]
  },
  {
   "cell_type": "code",
   "execution_count": 23,
   "id": "d53815bd",
   "metadata": {
    "execution": {
     "iopub.execute_input": "2025-04-22T03:54:32.002135Z",
     "iopub.status.busy": "2025-04-22T03:54:32.001750Z",
     "iopub.status.idle": "2025-04-22T03:54:32.009172Z",
     "shell.execute_reply": "2025-04-22T03:54:32.008150Z"
    },
    "papermill": {
     "duration": 0.028178,
     "end_time": "2025-04-22T03:54:32.011010",
     "exception": false,
     "start_time": "2025-04-22T03:54:31.982832",
     "status": "completed"
    },
    "tags": []
   },
   "outputs": [
    {
     "data": {
      "text/plain": [
       "0           A/5 21171\n",
       "1            PC 17599\n",
       "2    STON/O2. 3101282\n",
       "3              113803\n",
       "4              373450\n",
       "5              330877\n",
       "6               17463\n",
       "7              349909\n",
       "8              347742\n",
       "9              237736\n",
       "Name: Ticket, dtype: object"
      ]
     },
     "execution_count": 23,
     "metadata": {},
     "output_type": "execute_result"
    }
   ],
   "source": [
    "df['Ticket'][0:10] "
   ]
  },
  {
   "cell_type": "code",
   "execution_count": 24,
   "id": "92036314",
   "metadata": {
    "execution": {
     "iopub.execute_input": "2025-04-22T03:54:32.049238Z",
     "iopub.status.busy": "2025-04-22T03:54:32.048874Z",
     "iopub.status.idle": "2025-04-22T03:54:32.058183Z",
     "shell.execute_reply": "2025-04-22T03:54:32.057084Z"
    },
    "papermill": {
     "duration": 0.03094,
     "end_time": "2025-04-22T03:54:32.060119",
     "exception": false,
     "start_time": "2025-04-22T03:54:32.029179",
     "status": "completed"
    },
    "tags": []
   },
   "outputs": [
    {
     "data": {
      "text/plain": [
       "count        891\n",
       "unique       681\n",
       "top       347082\n",
       "freq           7\n",
       "Name: Ticket, dtype: object"
      ]
     },
     "execution_count": 24,
     "metadata": {},
     "output_type": "execute_result"
    }
   ],
   "source": [
    "df['Ticket'].describe() "
   ]
  },
  {
   "cell_type": "markdown",
   "id": "3f4bf308",
   "metadata": {
    "papermill": {
     "duration": 0.017417,
     "end_time": "2025-04-22T03:54:32.096083",
     "exception": false,
     "start_time": "2025-04-22T03:54:32.078666",
     "status": "completed"
    },
    "tags": []
   },
   "source": [
    "### 📝 ***Conclusion*** : \n",
    "\n",
    "1. Ticket is a categorical variable that has **681 unique** values.\n",
    "   \n",
    "2. Categorical variables with nearly as many levels as records are often not useful for prediction."
   ]
  },
  {
   "cell_type": "markdown",
   "id": "d74e3a2c",
   "metadata": {
    "papermill": {
     "duration": 0.017681,
     "end_time": "2025-04-22T03:54:32.132179",
     "exception": false,
     "start_time": "2025-04-22T03:54:32.114498",
     "status": "completed"
    },
    "tags": []
   },
   "source": [
    "### 🛠️ ***Feature Engineering of Ticket*** :\n",
    "        1. Extract prefix from tickets containing letters. \n",
    "        \n",
    "        2. Create a new column that transforms prefixes to numeric values according to the mean of 'Survived' group by Passenger Class and Ticket_Prefix. \n",
    "        \n",
    "        3. Create a boolean column indicating if the ticket is purely numeric.\n",
    "        \n",
    "        4. Count the frequency of each ticket.  "
   ]
  },
  {
   "cell_type": "code",
   "execution_count": 25,
   "id": "92e63a64",
   "metadata": {
    "execution": {
     "iopub.execute_input": "2025-04-22T03:54:32.171061Z",
     "iopub.status.busy": "2025-04-22T03:54:32.170511Z",
     "iopub.status.idle": "2025-04-22T03:54:32.196981Z",
     "shell.execute_reply": "2025-04-22T03:54:32.195726Z"
    },
    "papermill": {
     "duration": 0.048107,
     "end_time": "2025-04-22T03:54:32.198974",
     "exception": false,
     "start_time": "2025-04-22T03:54:32.150867",
     "status": "completed"
    },
    "tags": []
   },
   "outputs": [
    {
     "data": {
      "text/html": [
       "<div>\n",
       "<style scoped>\n",
       "    .dataframe tbody tr th:only-of-type {\n",
       "        vertical-align: middle;\n",
       "    }\n",
       "\n",
       "    .dataframe tbody tr th {\n",
       "        vertical-align: top;\n",
       "    }\n",
       "\n",
       "    .dataframe thead th {\n",
       "        text-align: right;\n",
       "    }\n",
       "</style>\n",
       "<table border=\"1\" class=\"dataframe\">\n",
       "  <thead>\n",
       "    <tr style=\"text-align: right;\">\n",
       "      <th></th>\n",
       "      <th>Ticket</th>\n",
       "      <th>Ticket_Prefix</th>\n",
       "      <th>Ticket_IsNumeric</th>\n",
       "      <th>Ticket_Freq</th>\n",
       "      <th>Pclass</th>\n",
       "      <th>Survived</th>\n",
       "      <th>Pclass_Prefix_Survival</th>\n",
       "    </tr>\n",
       "  </thead>\n",
       "  <tbody>\n",
       "    <tr>\n",
       "      <th>624</th>\n",
       "      <td>54636</td>\n",
       "      <td>None</td>\n",
       "      <td>1</td>\n",
       "      <td>2</td>\n",
       "      <td>3</td>\n",
       "      <td>0</td>\n",
       "      <td>0.253927</td>\n",
       "    </tr>\n",
       "    <tr>\n",
       "      <th>704</th>\n",
       "      <td>350025</td>\n",
       "      <td>None</td>\n",
       "      <td>1</td>\n",
       "      <td>1</td>\n",
       "      <td>3</td>\n",
       "      <td>0</td>\n",
       "      <td>0.253927</td>\n",
       "    </tr>\n",
       "    <tr>\n",
       "      <th>524</th>\n",
       "      <td>2700</td>\n",
       "      <td>None</td>\n",
       "      <td>1</td>\n",
       "      <td>1</td>\n",
       "      <td>3</td>\n",
       "      <td>0</td>\n",
       "      <td>0.253927</td>\n",
       "    </tr>\n",
       "    <tr>\n",
       "      <th>131</th>\n",
       "      <td>SOTON/O.Q. 3101307</td>\n",
       "      <td>SOTONOQ</td>\n",
       "      <td>0</td>\n",
       "      <td>1</td>\n",
       "      <td>3</td>\n",
       "      <td>0</td>\n",
       "      <td>0.133333</td>\n",
       "    </tr>\n",
       "    <tr>\n",
       "      <th>160</th>\n",
       "      <td>371362</td>\n",
       "      <td>None</td>\n",
       "      <td>1</td>\n",
       "      <td>1</td>\n",
       "      <td>3</td>\n",
       "      <td>0</td>\n",
       "      <td>0.253927</td>\n",
       "    </tr>\n",
       "    <tr>\n",
       "      <th>91</th>\n",
       "      <td>347466</td>\n",
       "      <td>None</td>\n",
       "      <td>1</td>\n",
       "      <td>1</td>\n",
       "      <td>3</td>\n",
       "      <td>0</td>\n",
       "      <td>0.253927</td>\n",
       "    </tr>\n",
       "    <tr>\n",
       "      <th>407</th>\n",
       "      <td>29106</td>\n",
       "      <td>None</td>\n",
       "      <td>1</td>\n",
       "      <td>3</td>\n",
       "      <td>2</td>\n",
       "      <td>1</td>\n",
       "      <td>0.480315</td>\n",
       "    </tr>\n",
       "    <tr>\n",
       "      <th>483</th>\n",
       "      <td>4134</td>\n",
       "      <td>None</td>\n",
       "      <td>1</td>\n",
       "      <td>1</td>\n",
       "      <td>3</td>\n",
       "      <td>1</td>\n",
       "      <td>0.253927</td>\n",
       "    </tr>\n",
       "    <tr>\n",
       "      <th>826</th>\n",
       "      <td>1601</td>\n",
       "      <td>None</td>\n",
       "      <td>1</td>\n",
       "      <td>7</td>\n",
       "      <td>3</td>\n",
       "      <td>0</td>\n",
       "      <td>0.253927</td>\n",
       "    </tr>\n",
       "    <tr>\n",
       "      <th>610</th>\n",
       "      <td>347082</td>\n",
       "      <td>None</td>\n",
       "      <td>1</td>\n",
       "      <td>7</td>\n",
       "      <td>3</td>\n",
       "      <td>0</td>\n",
       "      <td>0.253927</td>\n",
       "    </tr>\n",
       "  </tbody>\n",
       "</table>\n",
       "</div>"
      ],
      "text/plain": [
       "                 Ticket Ticket_Prefix  Ticket_IsNumeric  Ticket_Freq  Pclass  \\\n",
       "624               54636          None                 1            2       3   \n",
       "704              350025          None                 1            1       3   \n",
       "524                2700          None                 1            1       3   \n",
       "131  SOTON/O.Q. 3101307       SOTONOQ                 0            1       3   \n",
       "160              371362          None                 1            1       3   \n",
       "91               347466          None                 1            1       3   \n",
       "407               29106          None                 1            3       2   \n",
       "483                4134          None                 1            1       3   \n",
       "826                1601          None                 1            7       3   \n",
       "610              347082          None                 1            7       3   \n",
       "\n",
       "     Survived  Pclass_Prefix_Survival  \n",
       "624         0                0.253927  \n",
       "704         0                0.253927  \n",
       "524         0                0.253927  \n",
       "131         0                0.133333  \n",
       "160         0                0.253927  \n",
       "91          0                0.253927  \n",
       "407         1                0.480315  \n",
       "483         1                0.253927  \n",
       "826         0                0.253927  \n",
       "610         0                0.253927  "
      ]
     },
     "execution_count": 25,
     "metadata": {},
     "output_type": "execute_result"
    }
   ],
   "source": [
    "def extract_prefix(ticket):\n",
    "    parts = ticket.replace('.', '').replace('/','').split() \n",
    "    prefix = [p for p in parts if not p.isdigit()] \n",
    "    return prefix[0] if prefix else 'None' \n",
    "\n",
    "df['Ticket_Prefix'] = df['Ticket'].apply(extract_prefix)\n",
    "df['Pclass_Prefix_Survival'] = df.groupby(['Pclass', 'Ticket_Prefix'])['Survived'].transform('mean') \n",
    "\n",
    "df['Ticket_IsNumeric'] = df['Ticket'].apply(lambda x: x.isdigit()).astype(int)   \n",
    "\n",
    "ticket_counts = df['Ticket'].value_counts() \n",
    "df['Ticket_Freq'] = df['Ticket'].map(ticket_counts) \n",
    "\n",
    "df[['Ticket', 'Ticket_Prefix', 'Ticket_IsNumeric', 'Ticket_Freq', 'Pclass','Survived', 'Pclass_Prefix_Survival']].sample(10) "
   ]
  },
  {
   "cell_type": "markdown",
   "id": "5f48682e",
   "metadata": {
    "papermill": {
     "duration": 0.01737,
     "end_time": "2025-04-22T03:54:32.235022",
     "exception": false,
     "start_time": "2025-04-22T03:54:32.217652",
     "status": "completed"
    },
    "tags": []
   },
   "source": [
    "### 5. 🔍 **Col: Cabin**  "
   ]
  },
  {
   "cell_type": "code",
   "execution_count": 26,
   "id": "aace530a",
   "metadata": {
    "execution": {
     "iopub.execute_input": "2025-04-22T03:54:32.271494Z",
     "iopub.status.busy": "2025-04-22T03:54:32.271120Z",
     "iopub.status.idle": "2025-04-22T03:54:32.278505Z",
     "shell.execute_reply": "2025-04-22T03:54:32.277379Z"
    },
    "papermill": {
     "duration": 0.027757,
     "end_time": "2025-04-22T03:54:32.280324",
     "exception": false,
     "start_time": "2025-04-22T03:54:32.252567",
     "status": "completed"
    },
    "tags": []
   },
   "outputs": [
    {
     "data": {
      "text/plain": [
       "0     NaN\n",
       "1     C85\n",
       "2     NaN\n",
       "3    C123\n",
       "4     NaN\n",
       "5     NaN\n",
       "6     E46\n",
       "7     NaN\n",
       "8     NaN\n",
       "9     NaN\n",
       "Name: Cabin, dtype: object"
      ]
     },
     "execution_count": 26,
     "metadata": {},
     "output_type": "execute_result"
    }
   ],
   "source": [
    "df['Cabin'][0:10]"
   ]
  },
  {
   "cell_type": "code",
   "execution_count": 27,
   "id": "dd490f85",
   "metadata": {
    "execution": {
     "iopub.execute_input": "2025-04-22T03:54:32.319188Z",
     "iopub.status.busy": "2025-04-22T03:54:32.318832Z",
     "iopub.status.idle": "2025-04-22T03:54:32.327765Z",
     "shell.execute_reply": "2025-04-22T03:54:32.326655Z"
    },
    "papermill": {
     "duration": 0.030179,
     "end_time": "2025-04-22T03:54:32.329491",
     "exception": false,
     "start_time": "2025-04-22T03:54:32.299312",
     "status": "completed"
    },
    "tags": []
   },
   "outputs": [
    {
     "data": {
      "text/plain": [
       "count         204\n",
       "unique        147\n",
       "top       B96 B98\n",
       "freq            4\n",
       "Name: Cabin, dtype: object"
      ]
     },
     "execution_count": 27,
     "metadata": {},
     "output_type": "execute_result"
    }
   ],
   "source": [
    "df['Cabin'].describe() "
   ]
  },
  {
   "cell_type": "markdown",
   "id": "8bbf0910",
   "metadata": {
    "papermill": {
     "duration": 0.01756,
     "end_time": "2025-04-22T03:54:32.365661",
     "exception": false,
     "start_time": "2025-04-22T03:54:32.348101",
     "status": "completed"
    },
    "tags": []
   },
   "source": [
    "1. Column Cabin has 147 unique values, which may not be particularly useful for prediction.\n",
    "\n",
    "2. Create a boolean column that indicates if the cabin is missing. "
   ]
  },
  {
   "cell_type": "code",
   "execution_count": 28,
   "id": "bd29b156",
   "metadata": {
    "execution": {
     "iopub.execute_input": "2025-04-22T03:54:32.402323Z",
     "iopub.status.busy": "2025-04-22T03:54:32.401956Z",
     "iopub.status.idle": "2025-04-22T03:54:32.407794Z",
     "shell.execute_reply": "2025-04-22T03:54:32.406569Z"
    },
    "papermill": {
     "duration": 0.026259,
     "end_time": "2025-04-22T03:54:32.409770",
     "exception": false,
     "start_time": "2025-04-22T03:54:32.383511",
     "status": "completed"
    },
    "tags": []
   },
   "outputs": [],
   "source": [
    "df['Has_Cabin'] = df['Cabin'].notna().astype(int) "
   ]
  },
  {
   "cell_type": "code",
   "execution_count": 29,
   "id": "2a86aac9",
   "metadata": {
    "execution": {
     "iopub.execute_input": "2025-04-22T03:54:32.448550Z",
     "iopub.status.busy": "2025-04-22T03:54:32.448209Z",
     "iopub.status.idle": "2025-04-22T03:54:32.454885Z",
     "shell.execute_reply": "2025-04-22T03:54:32.453735Z"
    },
    "papermill": {
     "duration": 0.028977,
     "end_time": "2025-04-22T03:54:32.457336",
     "exception": false,
     "start_time": "2025-04-22T03:54:32.428359",
     "status": "completed"
    },
    "tags": []
   },
   "outputs": [],
   "source": [
    "df.drop(['Cabin'], axis=1, inplace=True)  "
   ]
  },
  {
   "cell_type": "markdown",
   "id": "eb1333a1",
   "metadata": {
    "papermill": {
     "duration": 0.018315,
     "end_time": "2025-04-22T03:54:32.495490",
     "exception": false,
     "start_time": "2025-04-22T03:54:32.477175",
     "status": "completed"
    },
    "tags": []
   },
   "source": [
    "### 6. 🔍 **Embarked**  "
   ]
  },
  {
   "cell_type": "code",
   "execution_count": 30,
   "id": "e04a0680",
   "metadata": {
    "execution": {
     "iopub.execute_input": "2025-04-22T03:54:32.534775Z",
     "iopub.status.busy": "2025-04-22T03:54:32.534337Z",
     "iopub.status.idle": "2025-04-22T03:54:32.542684Z",
     "shell.execute_reply": "2025-04-22T03:54:32.541644Z"
    },
    "papermill": {
     "duration": 0.03155,
     "end_time": "2025-04-22T03:54:32.545143",
     "exception": false,
     "start_time": "2025-04-22T03:54:32.513593",
     "status": "completed"
    },
    "tags": []
   },
   "outputs": [],
   "source": [
    "embark = pd.get_dummies(df['Embarked'], drop_first=True, dtype=int)\n",
    "df = pd.concat([df, embark], axis=1)   "
   ]
  },
  {
   "cell_type": "code",
   "execution_count": 31,
   "id": "e17154aa",
   "metadata": {
    "execution": {
     "iopub.execute_input": "2025-04-22T03:54:32.584533Z",
     "iopub.status.busy": "2025-04-22T03:54:32.584140Z",
     "iopub.status.idle": "2025-04-22T03:54:32.591286Z",
     "shell.execute_reply": "2025-04-22T03:54:32.589486Z"
    },
    "papermill": {
     "duration": 0.029854,
     "end_time": "2025-04-22T03:54:32.593616",
     "exception": false,
     "start_time": "2025-04-22T03:54:32.563762",
     "status": "completed"
    },
    "tags": []
   },
   "outputs": [],
   "source": [
    "df.drop('Embarked', axis=1, inplace=True) "
   ]
  },
  {
   "cell_type": "markdown",
   "id": "198e4548",
   "metadata": {
    "papermill": {
     "duration": 0.017941,
     "end_time": "2025-04-22T03:54:32.629783",
     "exception": false,
     "start_time": "2025-04-22T03:54:32.611842",
     "status": "completed"
    },
    "tags": []
   },
   "source": [
    "### 7. 🔍 **Combine Col SibSp with Col Parch to Create a New Variable: Family**  "
   ]
  },
  {
   "cell_type": "code",
   "execution_count": 32,
   "id": "26d07464",
   "metadata": {
    "execution": {
     "iopub.execute_input": "2025-04-22T03:54:32.666983Z",
     "iopub.status.busy": "2025-04-22T03:54:32.666567Z",
     "iopub.status.idle": "2025-04-22T03:54:32.680478Z",
     "shell.execute_reply": "2025-04-22T03:54:32.679522Z"
    },
    "papermill": {
     "duration": 0.034472,
     "end_time": "2025-04-22T03:54:32.682139",
     "exception": false,
     "start_time": "2025-04-22T03:54:32.647667",
     "status": "completed"
    },
    "tags": []
   },
   "outputs": [
    {
     "data": {
      "text/html": [
       "<div>\n",
       "<style scoped>\n",
       "    .dataframe tbody tr th:only-of-type {\n",
       "        vertical-align: middle;\n",
       "    }\n",
       "\n",
       "    .dataframe tbody tr th {\n",
       "        vertical-align: top;\n",
       "    }\n",
       "\n",
       "    .dataframe thead th {\n",
       "        text-align: right;\n",
       "    }\n",
       "</style>\n",
       "<table border=\"1\" class=\"dataframe\">\n",
       "  <thead>\n",
       "    <tr style=\"text-align: right;\">\n",
       "      <th></th>\n",
       "      <th>Name</th>\n",
       "      <th>Ticket_Prefix</th>\n",
       "      <th>Pclass</th>\n",
       "      <th>Family</th>\n",
       "      <th>Survived</th>\n",
       "    </tr>\n",
       "  </thead>\n",
       "  <tbody>\n",
       "    <tr>\n",
       "      <th>159</th>\n",
       "      <td>Sage, Master. Thomas Henry</td>\n",
       "      <td>CA</td>\n",
       "      <td>3</td>\n",
       "      <td>11</td>\n",
       "      <td>0</td>\n",
       "    </tr>\n",
       "    <tr>\n",
       "      <th>180</th>\n",
       "      <td>Sage, Miss. Constance Gladys</td>\n",
       "      <td>CA</td>\n",
       "      <td>3</td>\n",
       "      <td>11</td>\n",
       "      <td>0</td>\n",
       "    </tr>\n",
       "    <tr>\n",
       "      <th>201</th>\n",
       "      <td>Sage, Mr. Frederick</td>\n",
       "      <td>CA</td>\n",
       "      <td>3</td>\n",
       "      <td>11</td>\n",
       "      <td>0</td>\n",
       "    </tr>\n",
       "    <tr>\n",
       "      <th>324</th>\n",
       "      <td>Sage, Mr. George John Jr</td>\n",
       "      <td>CA</td>\n",
       "      <td>3</td>\n",
       "      <td>11</td>\n",
       "      <td>0</td>\n",
       "    </tr>\n",
       "    <tr>\n",
       "      <th>792</th>\n",
       "      <td>Sage, Miss. Stella Anna</td>\n",
       "      <td>CA</td>\n",
       "      <td>3</td>\n",
       "      <td>11</td>\n",
       "      <td>0</td>\n",
       "    </tr>\n",
       "    <tr>\n",
       "      <th>846</th>\n",
       "      <td>Sage, Mr. Douglas Bullen</td>\n",
       "      <td>CA</td>\n",
       "      <td>3</td>\n",
       "      <td>11</td>\n",
       "      <td>0</td>\n",
       "    </tr>\n",
       "    <tr>\n",
       "      <th>863</th>\n",
       "      <td>Sage, Miss. Dorothy Edith \"Dolly\"</td>\n",
       "      <td>CA</td>\n",
       "      <td>3</td>\n",
       "      <td>11</td>\n",
       "      <td>0</td>\n",
       "    </tr>\n",
       "  </tbody>\n",
       "</table>\n",
       "</div>"
      ],
      "text/plain": [
       "                                  Name Ticket_Prefix  Pclass  Family  Survived\n",
       "159         Sage, Master. Thomas Henry            CA       3      11         0\n",
       "180       Sage, Miss. Constance Gladys            CA       3      11         0\n",
       "201                Sage, Mr. Frederick            CA       3      11         0\n",
       "324           Sage, Mr. George John Jr            CA       3      11         0\n",
       "792            Sage, Miss. Stella Anna            CA       3      11         0\n",
       "846           Sage, Mr. Douglas Bullen            CA       3      11         0\n",
       "863  Sage, Miss. Dorothy Edith \"Dolly\"            CA       3      11         0"
      ]
     },
     "execution_count": 32,
     "metadata": {},
     "output_type": "execute_result"
    }
   ],
   "source": [
    "df['Family'] = df['SibSp'] + df['Parch'] + 1 \n",
    "\n",
    "most_family = np.where(df['Family'] == max(df['Family'])) \n",
    "df[['Name', 'Ticket_Prefix', 'Pclass', 'Family', 'Survived']].loc[most_family]   "
   ]
  },
  {
   "cell_type": "code",
   "execution_count": 33,
   "id": "81634f31",
   "metadata": {
    "execution": {
     "iopub.execute_input": "2025-04-22T03:54:32.720885Z",
     "iopub.status.busy": "2025-04-22T03:54:32.720465Z",
     "iopub.status.idle": "2025-04-22T03:54:32.725982Z",
     "shell.execute_reply": "2025-04-22T03:54:32.724793Z"
    },
    "papermill": {
     "duration": 0.027244,
     "end_time": "2025-04-22T03:54:32.727729",
     "exception": false,
     "start_time": "2025-04-22T03:54:32.700485",
     "status": "completed"
    },
    "tags": []
   },
   "outputs": [],
   "source": [
    "df.drop(['Ticket_Prefix'], axis=1, inplace=True)  "
   ]
  },
  {
   "cell_type": "code",
   "execution_count": 34,
   "id": "3cb5b88a",
   "metadata": {
    "execution": {
     "iopub.execute_input": "2025-04-22T03:54:32.765483Z",
     "iopub.status.busy": "2025-04-22T03:54:32.765118Z",
     "iopub.status.idle": "2025-04-22T03:54:32.771081Z",
     "shell.execute_reply": "2025-04-22T03:54:32.769823Z"
    },
    "papermill": {
     "duration": 0.027278,
     "end_time": "2025-04-22T03:54:32.772890",
     "exception": false,
     "start_time": "2025-04-22T03:54:32.745612",
     "status": "completed"
    },
    "tags": []
   },
   "outputs": [],
   "source": [
    "df.drop(['Name', 'Ticket', 'SibSp', 'Parch'], axis=1, inplace=True)  "
   ]
  },
  {
   "cell_type": "markdown",
   "id": "07ed712f",
   "metadata": {
    "papermill": {
     "duration": 0.019151,
     "end_time": "2025-04-22T03:54:32.810040",
     "exception": false,
     "start_time": "2025-04-22T03:54:32.790889",
     "status": "completed"
    },
    "tags": []
   },
   "source": [
    "# 🎥   ***Data Visualization***   "
   ]
  },
  {
   "cell_type": "code",
   "execution_count": 35,
   "id": "7a84c1bc",
   "metadata": {
    "execution": {
     "iopub.execute_input": "2025-04-22T03:54:32.849048Z",
     "iopub.status.busy": "2025-04-22T03:54:32.848630Z",
     "iopub.status.idle": "2025-04-22T03:54:32.860391Z",
     "shell.execute_reply": "2025-04-22T03:54:32.858944Z"
    },
    "papermill": {
     "duration": 0.033074,
     "end_time": "2025-04-22T03:54:32.862216",
     "exception": false,
     "start_time": "2025-04-22T03:54:32.829142",
     "status": "completed"
    },
    "tags": []
   },
   "outputs": [
    {
     "name": "stdout",
     "output_type": "stream",
     "text": [
      "<class 'pandas.core.frame.DataFrame'>\n",
      "RangeIndex: 891 entries, 0 to 890\n",
      "Data columns (total 12 columns):\n",
      " #   Column                  Non-Null Count  Dtype  \n",
      "---  ------                  --------------  -----  \n",
      " 0   Survived                891 non-null    int64  \n",
      " 1   Pclass                  891 non-null    int64  \n",
      " 2   Sex                     891 non-null    int64  \n",
      " 3   Age                     891 non-null    float64\n",
      " 4   Fare                    891 non-null    float64\n",
      " 5   Pclass_Prefix_Survival  891 non-null    float64\n",
      " 6   Ticket_IsNumeric        891 non-null    int64  \n",
      " 7   Ticket_Freq             891 non-null    int64  \n",
      " 8   Has_Cabin               891 non-null    int64  \n",
      " 9   Q                       891 non-null    int64  \n",
      " 10  S                       891 non-null    int64  \n",
      " 11  Family                  891 non-null    int64  \n",
      "dtypes: float64(3), int64(9)\n",
      "memory usage: 83.7 KB\n"
     ]
    }
   ],
   "source": [
    "df.info() "
   ]
  },
  {
   "cell_type": "code",
   "execution_count": 36,
   "id": "5d125aba",
   "metadata": {
    "execution": {
     "iopub.execute_input": "2025-04-22T03:54:32.901575Z",
     "iopub.status.busy": "2025-04-22T03:54:32.901227Z",
     "iopub.status.idle": "2025-04-22T03:54:32.914872Z",
     "shell.execute_reply": "2025-04-22T03:54:32.913652Z"
    },
    "papermill": {
     "duration": 0.035162,
     "end_time": "2025-04-22T03:54:32.916824",
     "exception": false,
     "start_time": "2025-04-22T03:54:32.881662",
     "status": "completed"
    },
    "tags": []
   },
   "outputs": [
    {
     "data": {
      "text/html": [
       "<div>\n",
       "<style scoped>\n",
       "    .dataframe tbody tr th:only-of-type {\n",
       "        vertical-align: middle;\n",
       "    }\n",
       "\n",
       "    .dataframe tbody tr th {\n",
       "        vertical-align: top;\n",
       "    }\n",
       "\n",
       "    .dataframe thead th {\n",
       "        text-align: right;\n",
       "    }\n",
       "</style>\n",
       "<table border=\"1\" class=\"dataframe\">\n",
       "  <thead>\n",
       "    <tr style=\"text-align: right;\">\n",
       "      <th></th>\n",
       "      <th>Survived</th>\n",
       "      <th>Pclass</th>\n",
       "      <th>Sex</th>\n",
       "      <th>Age</th>\n",
       "      <th>Fare</th>\n",
       "      <th>Pclass_Prefix_Survival</th>\n",
       "      <th>Ticket_IsNumeric</th>\n",
       "      <th>Ticket_Freq</th>\n",
       "      <th>Has_Cabin</th>\n",
       "      <th>Q</th>\n",
       "      <th>S</th>\n",
       "      <th>Family</th>\n",
       "    </tr>\n",
       "  </thead>\n",
       "  <tbody>\n",
       "    <tr>\n",
       "      <th>0</th>\n",
       "      <td>0</td>\n",
       "      <td>3</td>\n",
       "      <td>0</td>\n",
       "      <td>22.0</td>\n",
       "      <td>7.2500</td>\n",
       "      <td>0.095238</td>\n",
       "      <td>0</td>\n",
       "      <td>1</td>\n",
       "      <td>0</td>\n",
       "      <td>0</td>\n",
       "      <td>1</td>\n",
       "      <td>2</td>\n",
       "    </tr>\n",
       "    <tr>\n",
       "      <th>1</th>\n",
       "      <td>1</td>\n",
       "      <td>1</td>\n",
       "      <td>1</td>\n",
       "      <td>38.0</td>\n",
       "      <td>71.2833</td>\n",
       "      <td>0.650000</td>\n",
       "      <td>0</td>\n",
       "      <td>1</td>\n",
       "      <td>1</td>\n",
       "      <td>0</td>\n",
       "      <td>0</td>\n",
       "      <td>2</td>\n",
       "    </tr>\n",
       "    <tr>\n",
       "      <th>2</th>\n",
       "      <td>1</td>\n",
       "      <td>3</td>\n",
       "      <td>1</td>\n",
       "      <td>26.0</td>\n",
       "      <td>7.9250</td>\n",
       "      <td>0.500000</td>\n",
       "      <td>0</td>\n",
       "      <td>1</td>\n",
       "      <td>0</td>\n",
       "      <td>0</td>\n",
       "      <td>1</td>\n",
       "      <td>1</td>\n",
       "    </tr>\n",
       "    <tr>\n",
       "      <th>3</th>\n",
       "      <td>1</td>\n",
       "      <td>1</td>\n",
       "      <td>1</td>\n",
       "      <td>35.0</td>\n",
       "      <td>53.1000</td>\n",
       "      <td>0.631579</td>\n",
       "      <td>1</td>\n",
       "      <td>2</td>\n",
       "      <td>1</td>\n",
       "      <td>0</td>\n",
       "      <td>1</td>\n",
       "      <td>2</td>\n",
       "    </tr>\n",
       "    <tr>\n",
       "      <th>4</th>\n",
       "      <td>0</td>\n",
       "      <td>3</td>\n",
       "      <td>0</td>\n",
       "      <td>35.0</td>\n",
       "      <td>8.0500</td>\n",
       "      <td>0.253927</td>\n",
       "      <td>1</td>\n",
       "      <td>1</td>\n",
       "      <td>0</td>\n",
       "      <td>0</td>\n",
       "      <td>1</td>\n",
       "      <td>1</td>\n",
       "    </tr>\n",
       "  </tbody>\n",
       "</table>\n",
       "</div>"
      ],
      "text/plain": [
       "   Survived  Pclass  Sex   Age     Fare  Pclass_Prefix_Survival  \\\n",
       "0         0       3    0  22.0   7.2500                0.095238   \n",
       "1         1       1    1  38.0  71.2833                0.650000   \n",
       "2         1       3    1  26.0   7.9250                0.500000   \n",
       "3         1       1    1  35.0  53.1000                0.631579   \n",
       "4         0       3    0  35.0   8.0500                0.253927   \n",
       "\n",
       "   Ticket_IsNumeric  Ticket_Freq  Has_Cabin  Q  S  Family  \n",
       "0                 0            1          0  0  1       2  \n",
       "1                 0            1          1  0  0       2  \n",
       "2                 0            1          0  0  1       1  \n",
       "3                 1            2          1  0  1       2  \n",
       "4                 1            1          0  0  1       1  "
      ]
     },
     "execution_count": 36,
     "metadata": {},
     "output_type": "execute_result"
    }
   ],
   "source": [
    "df.head(5) "
   ]
  },
  {
   "cell_type": "markdown",
   "id": "242b339b",
   "metadata": {
    "papermill": {
     "duration": 0.018318,
     "end_time": "2025-04-22T03:54:32.954687",
     "exception": false,
     "start_time": "2025-04-22T03:54:32.936369",
     "status": "completed"
    },
    "tags": []
   },
   "source": [
    "### 1. 🔍 **Survivial Rate Distribution**"
   ]
  },
  {
   "cell_type": "code",
   "execution_count": 37,
   "id": "1d1ba448",
   "metadata": {
    "execution": {
     "iopub.execute_input": "2025-04-22T03:54:32.995105Z",
     "iopub.status.busy": "2025-04-22T03:54:32.994637Z",
     "iopub.status.idle": "2025-04-22T03:54:33.174345Z",
     "shell.execute_reply": "2025-04-22T03:54:33.173117Z"
    },
    "papermill": {
     "duration": 0.201636,
     "end_time": "2025-04-22T03:54:33.176389",
     "exception": false,
     "start_time": "2025-04-22T03:54:32.974753",
     "status": "completed"
    },
    "tags": []
   },
   "outputs": [
    {
     "data": {
      "image/png": "[encoded data removed]",
      "text/plain": [
       "<Figure size 640x480 with 1 Axes>"
      ]
     },
     "metadata": {},
     "output_type": "display_data"
    }
   ],
   "source": [
    "df['Survived'].value_counts().plot(kind='pie',\n",
    "                                   startangle= 90, \n",
    "                                   autopct = '%1.1f%%') \n",
    "\n",
    "plt.ylabel('')\n",
    "plt.title('Distribution of Survival Rates')\n",
    "plt.show()   "
   ]
  },
  {
   "cell_type": "markdown",
   "id": "29ef5299",
   "metadata": {
    "papermill": {
     "duration": 0.018927,
     "end_time": "2025-04-22T03:54:33.214606",
     "exception": false,
     "start_time": "2025-04-22T03:54:33.195679",
     "status": "completed"
    },
    "tags": []
   },
   "source": [
    "### 2. 🔍 **Create Subplots that Display the Count of Survivors Categorized by Port of embarkation & Pclass**"
   ]
  },
  {
   "cell_type": "code",
   "execution_count": 38,
   "id": "969a944f",
   "metadata": {
    "execution": {
     "iopub.execute_input": "2025-04-22T03:54:33.254756Z",
     "iopub.status.busy": "2025-04-22T03:54:33.254344Z",
     "iopub.status.idle": "2025-04-22T03:54:33.259007Z",
     "shell.execute_reply": "2025-04-22T03:54:33.257805Z"
    },
    "papermill": {
     "duration": 0.027287,
     "end_time": "2025-04-22T03:54:33.261099",
     "exception": false,
     "start_time": "2025-04-22T03:54:33.233812",
     "status": "completed"
    },
    "tags": []
   },
   "outputs": [],
   "source": [
    "cate_cols = ['Q', 'S', 'Pclass'] \n",
    "target = 'Survived'  "
   ]
  },
  {
   "cell_type": "code",
   "execution_count": 39,
   "id": "0f626a77",
   "metadata": {
    "execution": {
     "iopub.execute_input": "2025-04-22T03:54:33.300059Z",
     "iopub.status.busy": "2025-04-22T03:54:33.299615Z",
     "iopub.status.idle": "2025-04-22T03:54:33.330608Z",
     "shell.execute_reply": "2025-04-22T03:54:33.329493Z"
    },
    "papermill": {
     "duration": 0.052376,
     "end_time": "2025-04-22T03:54:33.332450",
     "exception": false,
     "start_time": "2025-04-22T03:54:33.280074",
     "status": "completed"
    },
    "tags": []
   },
   "outputs": [
    {
     "data": {
      "text/plain": [
       "<Figure size 2500x1800 with 0 Axes>"
      ]
     },
     "metadata": {},
     "output_type": "display_data"
    }
   ],
   "source": [
    "fig = plt.figure(figsize = (25, len(cate_cols)*6))  "
   ]
  },
  {
   "cell_type": "code",
   "execution_count": 40,
   "id": "0698077c",
   "metadata": {
    "execution": {
     "iopub.execute_input": "2025-04-22T03:54:33.373177Z",
     "iopub.status.busy": "2025-04-22T03:54:33.372836Z",
     "iopub.status.idle": "2025-04-22T03:54:34.036937Z",
     "shell.execute_reply": "2025-04-22T03:54:34.035618Z"
    },
    "papermill": {
     "duration": 0.686168,
     "end_time": "2025-04-22T03:54:34.038992",
     "exception": false,
     "start_time": "2025-04-22T03:54:33.352824",
     "status": "completed"
    },
    "tags": []
   },
   "outputs": [
    {
     "data": {
      "image/png": "[encoded data removed]",
      "text/plain": [
       "<Figure size 640x480 with 3 Axes>"
      ]
     },
     "metadata": {},
     "output_type": "display_data"
    }
   ],
   "source": [
    "for i, col in enumerate(cate_cols):\n",
    "    plt.subplot(len(cate_cols)//2 + len(cate_cols)%2, 2, i+1) \n",
    "    sns.countplot(x=col, hue=target, data=df) \n",
    "    plt.title(f'Count of Victims & Survivors Categorized by {col}', fontsize=8) \n",
    "    plt.ylim(0, df[col].value_counts().max()+10) \n",
    "    plt.ylabel('')\n",
    "\n",
    "\n",
    "plt.tight_layout() \n",
    "plt.show() \n"
   ]
  },
  {
   "cell_type": "markdown",
   "id": "67ae2bf7",
   "metadata": {
    "papermill": {
     "duration": 0.020894,
     "end_time": "2025-04-22T03:54:34.080537",
     "exception": false,
     "start_time": "2025-04-22T03:54:34.059643",
     "status": "completed"
    },
    "tags": []
   },
   "source": [
    "### 3. 🔍 **Create a Barplot that Displays Survived Distribution Categorized by Sex in Three Passenger classes** "
   ]
  },
  {
   "cell_type": "code",
   "execution_count": 41,
   "id": "bd4554e0",
   "metadata": {
    "execution": {
     "iopub.execute_input": "2025-04-22T03:54:34.124308Z",
     "iopub.status.busy": "2025-04-22T03:54:34.123953Z",
     "iopub.status.idle": "2025-04-22T03:54:34.509467Z",
     "shell.execute_reply": "2025-04-22T03:54:34.508115Z"
    },
    "papermill": {
     "duration": 0.409924,
     "end_time": "2025-04-22T03:54:34.511674",
     "exception": false,
     "start_time": "2025-04-22T03:54:34.101750",
     "status": "completed"
    },
    "tags": []
   },
   "outputs": [
    {
     "data": {
      "image/png": "[encoded data removed]",
      "text/plain": [
       "<Figure size 640x480 with 1 Axes>"
      ]
     },
     "metadata": {},
     "output_type": "display_data"
    }
   ],
   "source": [
    "sns.barplot(x='Pclass',\n",
    "            y = 'Survived', \n",
    "            hue = 'Sex', \n",
    "            data = df) \n",
    "\n",
    "plt.title('Survived Distribution by Sex in Three Pclasses') \n",
    "plt.show() "
   ]
  },
  {
   "cell_type": "markdown",
   "id": "6487576b",
   "metadata": {
    "papermill": {
     "duration": 0.023047,
     "end_time": "2025-04-22T03:54:34.559428",
     "exception": false,
     "start_time": "2025-04-22T03:54:34.536381",
     "status": "completed"
    },
    "tags": []
   },
   "source": [
    "### 4. 🔍 **Create a Boxplot to illustrate the age distribution categorized by survival status**"
   ]
  },
  {
   "cell_type": "code",
   "execution_count": 42,
   "id": "905ec7f2",
   "metadata": {
    "execution": {
     "iopub.execute_input": "2025-04-22T03:54:34.610521Z",
     "iopub.status.busy": "2025-04-22T03:54:34.610117Z",
     "iopub.status.idle": "2025-04-22T03:54:34.663419Z",
     "shell.execute_reply": "2025-04-22T03:54:34.662202Z"
    },
    "papermill": {
     "duration": 0.080701,
     "end_time": "2025-04-22T03:54:34.665460",
     "exception": false,
     "start_time": "2025-04-22T03:54:34.584759",
     "status": "completed"
    },
    "tags": []
   },
   "outputs": [
    {
     "data": {
      "text/html": [
       "<html>\n",
       "<head><meta charset=\"utf-8\" /></head>\n",
       "<body>\n",
       "    <div>            <script src=\"https://cdnjs.cloudflare.com/ajax/libs/mathjax/2.7.5/MathJax.js?config=TeX-AMS-MML_SVG\"></script><script type=\"text/javascript\">if (window.MathJax && window.MathJax.Hub && window.MathJax.Hub.Config) {window.MathJax.Hub.Config({SVG: {font: \"STIX-Web\"}});}</script>                <script type=\"text/javascript\">window.PlotlyConfig = {MathJaxConfig: 'local'};</script>\n",
       "        <script charset=\"utf-8\" src=\"https://cdn.plot.ly/plotly-2.35.2.min.js\"></script>                <div id=\"8bac7b8c-9c33-452d-8074-d517a0f0da3d\" class=\"plotly-graph-div\" style=\"height:525px; width:100%;\"></div>            <script type=\"text/javascript\">                                    window.PLOTLYENV=window.PLOTLYENV || {};                                    if (document.getElementById(\"8bac7b8c-9c33-452d-8074-d517a0f0da3d\")) {                    Plotly.newPlot(                        \"8bac7b8c-9c33-452d-8074-d517a0f0da3d\",                        [{\"alignmentgroup\":\"True\",\"hovertemplate\":\"Survived=%{x}\\u003cbr\\u003eAge=%{y}\\u003cextra\\u003e\\u003c\\u002fextra\\u003e\",\"legendgroup\":\"\",\"marker\":{\"color\":\"#636efa\"},\"name\":\"\",\"notched\":false,\"offsetgroup\":\"\",\"orientation\":\"v\",\"showlegend\":false,\"x\":[0,1,1,1,0,0,0,0,1,1,1,1,0,0,0,1,0,1,0,1,0,1,1,1,0,1,0,0,1,0,0,1,1,0,0,0,1,0,0,1,0,0,0,1,1,0,0,1,0,0,0,0,1,1,0,1,1,0,1,0,0,1,0,0,0,1,1,0,1,0,0,0,0,0,1,0,0,0,1,1,0,1,1,0,1,1,0,0,1,0,0,0,0,0,0,0,0,1,1,0,0,0,0,0,0,0,1,1,0,1,0,0,0,0,0,0,0,0,0,0,0,0,0,1,0,1,0,1,1,0,0,0,0,1,0,0,1,0,0,0,0,1,1,0,0,0,1,0,0,0,0,1,0,0,0,0,1,0,0,0,0,1,0,0,0,1,1,0,0,0,0,0,1,0,0,0,0,0,0,0,0,0,0,1,1,0,1,1,0,0,1,0,1,1,1,1,0,0,1,0,0,0,0,0,1,0,0,1,1,1,0,1,0,0,0,1,1,0,1,0,1,0,0,0,1,0,1,0,0,0,1,0,0,1,0,0,0,1,0,0,0,1,0,0,0,0,0,1,1,0,0,0,0,0,0,1,1,1,1,1,0,1,0,0,0,0,0,1,1,1,0,1,1,0,1,1,0,0,0,1,0,0,0,1,0,0,1,0,1,1,1,1,0,0,0,0,0,0,1,1,1,1,0,1,0,1,1,1,0,1,1,1,0,0,0,1,1,0,1,1,0,0,1,1,0,1,0,1,1,1,1,0,0,0,1,0,0,1,1,0,1,1,0,0,0,1,1,1,1,0,0,0,0,0,0,0,1,0,1,1,0,0,0,0,0,0,1,1,1,1,1,0,0,0,0,1,1,0,0,0,1,1,0,1,0,0,0,1,0,1,1,1,0,1,1,0,0,0,0,1,1,0,0,0,0,0,0,1,0,0,0,0,1,0,1,0,1,1,0,0,0,0,0,0,0,0,1,1,0,1,1,1,1,0,0,1,0,1,0,0,1,0,0,1,1,1,1,1,1,1,0,0,0,1,0,1,0,1,1,0,1,0,0,0,0,0,0,0,0,1,0,0,1,1,0,0,0,0,0,1,0,0,0,1,1,0,1,0,0,1,0,0,0,0,0,0,1,0,0,0,0,0,0,0,1,0,1,1,0,1,1,0,1,1,0,0,1,0,1,0,1,0,0,1,0,0,1,0,0,0,1,0,0,1,0,1,0,1,0,1,1,0,0,1,0,0,1,1,0,1,1,0,0,1,1,0,1,0,1,1,0,0,0,0,0,0,0,0,0,1,1,1,1,1,0,0,1,1,0,1,1,1,0,0,0,1,0,1,0,0,0,1,0,0,0,0,1,0,0,1,1,0,0,0,1,0,0,1,1,1,0,0,1,0,0,1,0,0,1,0,0,1,1,0,0,0,0,1,0,0,1,0,1,0,0,1,0,0,0,0,0,1,0,1,1,1,0,1,0,1,0,1,0,1,0,0,0,0,0,0,1,0,0,0,1,0,0,0,0,1,1,0,0,1,0,0,0,1,0,1,0,1,0,0,0,0,0,0,0,1,1,1,1,0,0,0,0,1,0,0,1,1,0,0,0,0,1,1,1,1,1,0,1,0,0,0,1,1,0,0,1,0,0,0,1,0,1,1,0,0,1,0,0,0,0,0,0,1,0,0,1,0,1,0,1,0,0,1,0,0,1,1,0,0,1,1,0,0,0,1,0,0,1,1,0,1,0,0,0,0,0,0,0,0,1,0,0,1,0,1,1,1,0,0,0,0,1,0,1,0,0,0,0,0,0,0,1,1,0,0,0,1,1,1,1,0,0,0,0,1,0,0,0,0,0,0,0,0,0,0,1,1,0,1,0,0,0,1,1,1,1,1,0,0,0,1,0,0,1,1,0,0,1,0,0,0,0,0,0,1,0,0,0,1,0,1,1,1,1,0,0,0,1,0,0,1,1,0,0,1,0,1,0,0,1,1,0,0,0,1,1,0,0,0,0,0,0,1,0,1,0],\"x0\":\" \",\"xaxis\":\"x\",\"y\":[22.0,38.0,26.0,35.0,35.0,25.0,54.0,2.0,27.0,14.0,4.0,58.0,20.0,39.0,14.0,55.0,2.0,30.0,31.0,21.5,35.0,34.0,15.0,28.0,8.0,38.0,25.0,19.0,21.5,25.0,40.0,35.0,21.5,66.0,28.0,42.0,25.0,21.0,18.0,14.0,40.0,27.0,25.0,3.0,19.0,25.0,25.0,21.5,25.0,18.0,7.0,21.0,49.0,29.0,65.0,40.0,21.0,28.5,5.0,11.0,22.0,38.0,45.0,4.0,40.0,25.0,29.0,19.0,17.0,26.0,32.0,16.0,21.0,26.0,32.0,25.0,25.0,25.0,0.83,30.0,22.0,29.0,21.5,28.0,17.0,33.0,16.0,25.0,23.0,24.0,29.0,20.0,46.0,26.0,59.0,25.0,71.0,23.0,34.0,34.0,28.0,25.0,21.0,33.0,37.0,28.0,21.0,25.0,38.0,21.5,47.0,14.5,22.0,20.0,17.0,21.0,70.5,29.0,24.0,2.0,21.0,25.0,32.5,32.5,54.0,12.0,25.0,24.0,21.5,45.0,33.0,20.0,47.0,29.0,25.0,23.0,19.0,37.0,16.0,24.0,21.5,22.0,24.0,19.0,18.0,19.0,27.0,9.0,36.5,42.0,51.0,22.0,55.5,40.5,25.0,51.0,16.0,30.0,25.0,25.0,44.0,40.0,26.0,17.0,1.0,9.0,35.0,45.0,40.0,28.0,61.0,4.0,1.0,21.0,56.0,18.0,25.0,50.0,30.0,36.0,21.5,30.0,9.0,1.0,4.0,40.0,21.5,45.0,40.0,36.0,32.0,19.0,19.0,3.0,44.0,58.0,25.0,42.0,21.5,24.0,28.0,25.0,34.0,45.5,18.0,2.0,32.0,26.0,16.0,40.0,24.0,35.0,22.0,30.0,25.0,31.0,27.0,42.0,32.0,30.0,16.0,27.0,51.0,25.0,38.0,22.0,19.0,20.5,18.0,21.5,35.0,29.0,59.0,5.0,24.0,21.5,44.0,8.0,19.0,33.0,21.5,21.5,29.0,22.0,30.0,44.0,25.0,24.0,37.0,54.0,25.0,29.0,62.0,30.0,41.0,29.0,35.0,30.0,35.0,50.0,25.0,3.0,52.0,40.0,21.5,36.0,16.0,25.0,58.0,35.0,40.0,25.0,41.0,37.0,21.5,63.0,45.0,30.0,7.0,35.0,65.0,28.0,16.0,19.0,40.0,33.0,30.0,22.0,42.0,22.0,26.0,19.0,36.0,24.0,24.0,40.0,23.5,2.0,40.0,50.0,21.5,25.0,19.0,28.0,25.0,0.92,35.0,17.0,30.0,30.0,24.0,18.0,26.0,28.0,43.0,26.0,24.0,54.0,31.0,40.0,22.0,27.0,30.0,22.0,25.0,36.0,61.0,36.0,31.0,16.0,21.5,45.5,38.0,16.0,35.0,25.0,29.0,41.0,45.0,45.0,2.0,24.0,28.0,25.0,36.0,24.0,40.0,21.5,3.0,42.0,23.0,40.0,15.0,25.0,25.0,28.0,22.0,38.0,21.5,21.5,40.0,29.0,45.0,35.0,25.0,30.0,60.0,21.5,21.5,24.0,25.0,18.0,19.0,22.0,3.0,35.0,22.0,27.0,20.0,19.0,42.0,1.0,32.0,35.0,25.0,18.0,1.0,36.0,25.0,17.0,36.0,21.0,28.0,23.0,24.0,22.0,31.0,46.0,23.0,28.0,39.0,26.0,21.0,28.0,20.0,34.0,51.0,3.0,21.0,21.5,25.0,25.0,33.0,30.0,44.0,21.5,34.0,18.0,30.0,10.0,25.0,21.0,29.0,28.0,18.0,25.0,28.0,19.0,25.0,32.0,28.0,21.5,42.0,17.0,50.0,14.0,21.0,24.0,64.0,31.0,45.0,20.0,25.0,28.0,25.0,4.0,13.0,34.0,5.0,52.0,36.0,25.0,30.0,49.0,25.0,29.0,65.0,35.0,50.0,25.0,48.0,34.0,47.0,48.0,25.0,38.0,30.0,56.0,25.0,0.75,25.0,38.0,33.0,23.0,22.0,40.0,34.0,29.0,22.0,2.0,9.0,30.0,50.0,63.0,25.0,21.5,35.0,58.0,30.0,9.0,25.0,21.0,55.0,71.0,21.0,25.0,54.0,25.0,25.0,24.0,17.0,21.0,21.5,37.0,16.0,18.0,33.0,40.0,28.0,26.0,29.0,25.0,36.0,54.0,24.0,47.0,34.0,25.0,36.0,32.0,30.0,22.0,25.0,44.0,25.0,40.5,50.0,40.0,39.0,23.0,2.0,25.0,17.0,21.5,30.0,7.0,45.0,30.0,25.0,22.0,36.0,9.0,11.0,32.0,50.0,64.0,19.0,30.0,33.0,8.0,17.0,27.0,25.0,22.0,22.0,62.0,48.0,40.0,39.0,36.0,25.0,40.0,28.0,25.0,21.5,24.0,19.0,29.0,25.0,32.0,62.0,53.0,36.0,21.5,16.0,19.0,34.0,39.0,21.5,32.0,25.0,39.0,54.0,36.0,25.0,18.0,47.0,60.0,22.0,25.0,35.0,52.0,47.0,21.5,37.0,36.0,28.0,49.0,25.0,49.0,24.0,25.0,40.0,44.0,35.0,36.0,30.0,27.0,22.0,40.0,39.0,25.0,21.5,25.0,35.0,24.0,34.0,26.0,4.0,26.0,27.0,42.0,20.0,21.0,21.0,61.0,57.0,21.0,26.0,25.0,80.0,51.0,32.0,40.0,9.0,28.0,32.0,31.0,41.0,25.0,20.0,24.0,2.0,25.0,0.75,48.0,19.0,56.0,25.0,23.0,25.0,18.0,21.0,21.5,18.0,24.0,25.0,32.0,23.0,58.0,50.0,40.0,47.0,36.0,20.0,32.0,25.0,25.0,43.0,35.0,40.0,31.0,70.0,31.0,30.0,18.0,24.5,18.0,43.0,36.0,21.5,27.0,20.0,14.0,60.0,25.0,14.0,19.0,18.0,15.0,31.0,4.0,25.0,25.0,60.0,52.0,44.0,21.5,49.0,42.0,18.0,35.0,18.0,25.0,26.0,39.0,45.0,42.0,22.0,25.0,24.0,40.0,48.0,29.0,52.0,19.0,38.0,27.0,25.0,33.0,6.0,17.0,34.0,50.0,27.0,20.0,30.0,21.5,25.0,25.0,29.0,11.0,30.0,23.0,23.0,28.5,48.0,35.0,25.0,25.0,40.0,36.0,21.0,24.0,31.0,70.0,16.0,30.0,19.0,31.0,4.0,6.0,33.0,23.0,48.0,0.67,28.0,18.0,34.0,33.0,25.0,41.0,20.0,36.0,16.0,51.0,40.0,30.5,25.0,32.0,24.0,48.0,57.0,25.0,54.0,18.0,25.0,5.0,25.0,43.0,13.0,17.0,29.0,25.0,25.0,25.0,18.0,8.0,1.0,46.0,25.0,16.0,21.5,40.0,25.0,39.0,49.0,31.0,30.0,30.0,34.0,31.0,11.0,0.42,27.0,31.0,39.0,18.0,39.0,33.0,26.0,39.0,35.0,6.0,30.5,40.0,23.0,31.0,43.0,10.0,52.0,27.0,38.0,27.0,2.0,25.0,25.0,1.0,25.0,62.0,15.0,0.83,25.0,23.0,18.0,39.0,21.0,25.0,32.0,40.0,20.0,16.0,30.0,34.5,17.0,42.0,25.0,35.0,28.0,35.0,4.0,74.0,9.0,16.0,44.0,18.0,45.0,51.0,24.0,25.0,41.0,21.0,48.0,21.5,24.0,42.0,27.0,31.0,25.0,4.0,26.0,47.0,33.0,47.0,28.0,15.0,20.0,19.0,25.0,56.0,25.0,33.0,22.0,28.0,25.0,39.0,27.0,19.0,21.5,26.0,32.0],\"y0\":\" \",\"yaxis\":\"y\",\"type\":\"box\"}],                        {\"template\":{\"data\":{\"barpolar\":[{\"marker\":{\"line\":{\"color\":\"rgb(17,17,17)\",\"width\":0.5},\"pattern\":{\"fillmode\":\"overlay\",\"size\":10,\"solidity\":0.2}},\"type\":\"barpolar\"}],\"bar\":[{\"error_x\":{\"color\":\"#f2f5fa\"},\"error_y\":{\"color\":\"#f2f5fa\"},\"marker\":{\"line\":{\"color\":\"rgb(17,17,17)\",\"width\":0.5},\"pattern\":{\"fillmode\":\"overlay\",\"size\":10,\"solidity\":0.2}},\"type\":\"bar\"}],\"carpet\":[{\"aaxis\":{\"endlinecolor\":\"#A2B1C6\",\"gridcolor\":\"#506784\",\"linecolor\":\"#506784\",\"minorgridcolor\":\"#506784\",\"startlinecolor\":\"#A2B1C6\"},\"baxis\":{\"endlinecolor\":\"#A2B1C6\",\"gridcolor\":\"#506784\",\"linecolor\":\"#506784\",\"minorgridcolor\":\"#506784\",\"startlinecolor\":\"#A2B1C6\"},\"type\":\"carpet\"}],\"choropleth\":[{\"colorbar\":{\"outlinewidth\":0,\"ticks\":\"\"},\"type\":\"choropleth\"}],\"contourcarpet\":[{\"colorbar\":{\"outlinewidth\":0,\"ticks\":\"\"},\"type\":\"contourcarpet\"}],\"contour\":[{\"colorbar\":{\"outlinewidth\":0,\"ticks\":\"\"},\"colorscale\":[[0.0,\"#0d0887\"],[0.1111111111111111,\"#46039f\"],[0.2222222222222222,\"#7201a8\"],[0.3333333333333333,\"#9c179e\"],[0.4444444444444444,\"#bd3786\"],[0.5555555555555556,\"#d8576b\"],[0.6666666666666666,\"#ed7953\"],[0.7777777777777778,\"#fb9f3a\"],[0.8888888888888888,\"#fdca26\"],[1.0,\"#f0f921\"]],\"type\":\"contour\"}],\"heatmapgl\":[{\"colorbar\":{\"outlinewidth\":0,\"ticks\":\"\"},\"colorscale\":[[0.0,\"#0d0887\"],[0.1111111111111111,\"#46039f\"],[0.2222222222222222,\"#7201a8\"],[0.3333333333333333,\"#9c179e\"],[0.4444444444444444,\"#bd3786\"],[0.5555555555555556,\"#d8576b\"],[0.6666666666666666,\"#ed7953\"],[0.7777777777777778,\"#fb9f3a\"],[0.8888888888888888,\"#fdca26\"],[1.0,\"#f0f921\"]],\"type\":\"heatmapgl\"}],\"heatmap\":[{\"colorbar\":{\"outlinewidth\":0,\"ticks\":\"\"},\"colorscale\":[[0.0,\"#0d0887\"],[0.1111111111111111,\"#46039f\"],[0.2222222222222222,\"#7201a8\"],[0.3333333333333333,\"#9c179e\"],[0.4444444444444444,\"#bd3786\"],[0.5555555555555556,\"#d8576b\"],[0.6666666666666666,\"#ed7953\"],[0.7777777777777778,\"#fb9f3a\"],[0.8888888888888888,\"#fdca26\"],[1.0,\"#f0f921\"]],\"type\":\"heatmap\"}],\"histogram2dcontour\":[{\"colorbar\":{\"outlinewidth\":0,\"ticks\":\"\"},\"colorscale\":[[0.0,\"#0d0887\"],[0.1111111111111111,\"#46039f\"],[0.2222222222222222,\"#7201a8\"],[0.3333333333333333,\"#9c179e\"],[0.4444444444444444,\"#bd3786\"],[0.5555555555555556,\"#d8576b\"],[0.6666666666666666,\"#ed7953\"],[0.7777777777777778,\"#fb9f3a\"],[0.8888888888888888,\"#fdca26\"],[1.0,\"#f0f921\"]],\"type\":\"histogram2dcontour\"}],\"histogram2d\":[{\"colorbar\":{\"outlinewidth\":0,\"ticks\":\"\"},\"colorscale\":[[0.0,\"#0d0887\"],[0.1111111111111111,\"#46039f\"],[0.2222222222222222,\"#7201a8\"],[0.3333333333333333,\"#9c179e\"],[0.4444444444444444,\"#bd3786\"],[0.5555555555555556,\"#d8576b\"],[0.6666666666666666,\"#ed7953\"],[0.7777777777777778,\"#fb9f3a\"],[0.8888888888888888,\"#fdca26\"],[1.0,\"#f0f921\"]],\"type\":\"histogram2d\"}],\"histogram\":[{\"marker\":{\"pattern\":{\"fillmode\":\"overlay\",\"size\":10,\"solidity\":0.2}},\"type\":\"histogram\"}],\"mesh3d\":[{\"colorbar\":{\"outlinewidth\":0,\"ticks\":\"\"},\"type\":\"mesh3d\"}],\"parcoords\":[{\"line\":{\"colorbar\":{\"outlinewidth\":0,\"ticks\":\"\"}},\"type\":\"parcoords\"}],\"pie\":[{\"automargin\":true,\"type\":\"pie\"}],\"scatter3d\":[{\"line\":{\"colorbar\":{\"outlinewidth\":0,\"ticks\":\"\"}},\"marker\":{\"colorbar\":{\"outlinewidth\":0,\"ticks\":\"\"}},\"type\":\"scatter3d\"}],\"scattercarpet\":[{\"marker\":{\"colorbar\":{\"outlinewidth\":0,\"ticks\":\"\"}},\"type\":\"scattercarpet\"}],\"scattergeo\":[{\"marker\":{\"colorbar\":{\"outlinewidth\":0,\"ticks\":\"\"}},\"type\":\"scattergeo\"}],\"scattergl\":[{\"marker\":{\"line\":{\"color\":\"#283442\"}},\"type\":\"scattergl\"}],\"scattermapbox\":[{\"marker\":{\"colorbar\":{\"outlinewidth\":0,\"ticks\":\"\"}},\"type\":\"scattermapbox\"}],\"scatterpolargl\":[{\"marker\":{\"colorbar\":{\"outlinewidth\":0,\"ticks\":\"\"}},\"type\":\"scatterpolargl\"}],\"scatterpolar\":[{\"marker\":{\"colorbar\":{\"outlinewidth\":0,\"ticks\":\"\"}},\"type\":\"scatterpolar\"}],\"scatter\":[{\"marker\":{\"line\":{\"color\":\"#283442\"}},\"type\":\"scatter\"}],\"scatterternary\":[{\"marker\":{\"colorbar\":{\"outlinewidth\":0,\"ticks\":\"\"}},\"type\":\"scatterternary\"}],\"surface\":[{\"colorbar\":{\"outlinewidth\":0,\"ticks\":\"\"},\"colorscale\":[[0.0,\"#0d0887\"],[0.1111111111111111,\"#46039f\"],[0.2222222222222222,\"#7201a8\"],[0.3333333333333333,\"#9c179e\"],[0.4444444444444444,\"#bd3786\"],[0.5555555555555556,\"#d8576b\"],[0.6666666666666666,\"#ed7953\"],[0.7777777777777778,\"#fb9f3a\"],[0.8888888888888888,\"#fdca26\"],[1.0,\"#f0f921\"]],\"type\":\"surface\"}],\"table\":[{\"cells\":{\"fill\":{\"color\":\"#506784\"},\"line\":{\"color\":\"rgb(17,17,17)\"}},\"header\":{\"fill\":{\"color\":\"#2a3f5f\"},\"line\":{\"color\":\"rgb(17,17,17)\"}},\"type\":\"table\"}]},\"layout\":{\"annotationdefaults\":{\"arrowcolor\":\"#f2f5fa\",\"arrowhead\":0,\"arrowwidth\":1},\"autotypenumbers\":\"strict\",\"coloraxis\":{\"colorbar\":{\"outlinewidth\":0,\"ticks\":\"\"}},\"colorscale\":{\"diverging\":[[0,\"#8e0152\"],[0.1,\"#c51b7d\"],[0.2,\"#de77ae\"],[0.3,\"#f1b6da\"],[0.4,\"#fde0ef\"],[0.5,\"#f7f7f7\"],[0.6,\"#e6f5d0\"],[0.7,\"#b8e186\"],[0.8,\"#7fbc41\"],[0.9,\"#4d9221\"],[1,\"#276419\"]],\"sequential\":[[0.0,\"#0d0887\"],[0.1111111111111111,\"#46039f\"],[0.2222222222222222,\"#7201a8\"],[0.3333333333333333,\"#9c179e\"],[0.4444444444444444,\"#bd3786\"],[0.5555555555555556,\"#d8576b\"],[0.6666666666666666,\"#ed7953\"],[0.7777777777777778,\"#fb9f3a\"],[0.8888888888888888,\"#fdca26\"],[1.0,\"#f0f921\"]],\"sequentialminus\":[[0.0,\"#0d0887\"],[0.1111111111111111,\"#46039f\"],[0.2222222222222222,\"#7201a8\"],[0.3333333333333333,\"#9c179e\"],[0.4444444444444444,\"#bd3786\"],[0.5555555555555556,\"#d8576b\"],[0.6666666666666666,\"#ed7953\"],[0.7777777777777778,\"#fb9f3a\"],[0.8888888888888888,\"#fdca26\"],[1.0,\"#f0f921\"]]},\"colorway\":[\"#636efa\",\"#EF553B\",\"#00cc96\",\"#ab63fa\",\"#FFA15A\",\"#19d3f3\",\"#FF6692\",\"#B6E880\",\"#FF97FF\",\"#FECB52\"],\"font\":{\"color\":\"#f2f5fa\"},\"geo\":{\"bgcolor\":\"rgb(17,17,17)\",\"lakecolor\":\"rgb(17,17,17)\",\"landcolor\":\"rgb(17,17,17)\",\"showlakes\":true,\"showland\":true,\"subunitcolor\":\"#506784\"},\"hoverlabel\":{\"align\":\"left\"},\"hovermode\":\"closest\",\"mapbox\":{\"style\":\"dark\"},\"paper_bgcolor\":\"rgb(17,17,17)\",\"plot_bgcolor\":\"rgb(17,17,17)\",\"polar\":{\"angularaxis\":{\"gridcolor\":\"#506784\",\"linecolor\":\"#506784\",\"ticks\":\"\"},\"bgcolor\":\"rgb(17,17,17)\",\"radialaxis\":{\"gridcolor\":\"#506784\",\"linecolor\":\"#506784\",\"ticks\":\"\"}},\"scene\":{\"xaxis\":{\"backgroundcolor\":\"rgb(17,17,17)\",\"gridcolor\":\"#506784\",\"gridwidth\":2,\"linecolor\":\"#506784\",\"showbackground\":true,\"ticks\":\"\",\"zerolinecolor\":\"#C8D4E3\"},\"yaxis\":{\"backgroundcolor\":\"rgb(17,17,17)\",\"gridcolor\":\"#506784\",\"gridwidth\":2,\"linecolor\":\"#506784\",\"showbackground\":true,\"ticks\":\"\",\"zerolinecolor\":\"#C8D4E3\"},\"zaxis\":{\"backgroundcolor\":\"rgb(17,17,17)\",\"gridcolor\":\"#506784\",\"gridwidth\":2,\"linecolor\":\"#506784\",\"showbackground\":true,\"ticks\":\"\",\"zerolinecolor\":\"#C8D4E3\"}},\"shapedefaults\":{\"line\":{\"color\":\"#f2f5fa\"}},\"sliderdefaults\":{\"bgcolor\":\"#C8D4E3\",\"bordercolor\":\"rgb(17,17,17)\",\"borderwidth\":1,\"tickwidth\":0},\"ternary\":{\"aaxis\":{\"gridcolor\":\"#506784\",\"linecolor\":\"#506784\",\"ticks\":\"\"},\"baxis\":{\"gridcolor\":\"#506784\",\"linecolor\":\"#506784\",\"ticks\":\"\"},\"bgcolor\":\"rgb(17,17,17)\",\"caxis\":{\"gridcolor\":\"#506784\",\"linecolor\":\"#506784\",\"ticks\":\"\"}},\"title\":{\"x\":0.05},\"updatemenudefaults\":{\"bgcolor\":\"#506784\",\"borderwidth\":0},\"xaxis\":{\"automargin\":true,\"gridcolor\":\"#283442\",\"linecolor\":\"#506784\",\"ticks\":\"\",\"title\":{\"standoff\":15},\"zerolinecolor\":\"#283442\",\"zerolinewidth\":2},\"yaxis\":{\"automargin\":true,\"gridcolor\":\"#283442\",\"linecolor\":\"#506784\",\"ticks\":\"\",\"title\":{\"standoff\":15},\"zerolinecolor\":\"#283442\",\"zerolinewidth\":2}}},\"xaxis\":{\"anchor\":\"y\",\"domain\":[0.0,1.0],\"title\":{\"text\":\"Survived\"}},\"yaxis\":{\"anchor\":\"x\",\"domain\":[0.0,1.0],\"title\":{\"text\":\"Age\"}},\"legend\":{\"tracegroupgap\":0},\"margin\":{\"t\":60},\"boxmode\":\"group\"},                        {\"responsive\": true}                    ).then(function(){\n",
       "                            \n",
       "var gd = document.getElementById('8bac7b8c-9c33-452d-8074-d517a0f0da3d');\n",
       "var x = new MutationObserver(function (mutations, observer) {{\n",
       "        var display = window.getComputedStyle(gd).display;\n",
       "        if (!display || display === 'none') {{\n",
       "            console.log([gd, 'removed!']);\n",
       "            Plotly.purge(gd);\n",
       "            observer.disconnect();\n",
       "        }}\n",
       "}});\n",
       "\n",
       "// Listen for the removal of the full notebook cells\n",
       "var notebookContainer = gd.closest('#notebook-container');\n",
       "if (notebookContainer) {{\n",
       "    x.observe(notebookContainer, {childList: true});\n",
       "}}\n",
       "\n",
       "// Listen for the clearing of the current output cell\n",
       "var outputEl = gd.closest('.output');\n",
       "if (outputEl) {{\n",
       "    x.observe(outputEl, {childList: true});\n",
       "}}\n",
       "\n",
       "                        })                };                            </script>        </div>\n",
       "</body>\n",
       "</html>"
      ]
     },
     "metadata": {},
     "output_type": "display_data"
    }
   ],
   "source": [
    "fig = px.box(df, \n",
    "            x=\"Survived\", \n",
    "            y=\"Age\", \n",
    "            template='plotly_dark') \n",
    "fig.show() "
   ]
  },
  {
   "cell_type": "markdown",
   "id": "cbef2f85",
   "metadata": {
    "papermill": {
     "duration": 0.021931,
     "end_time": "2025-04-22T03:54:34.710944",
     "exception": false,
     "start_time": "2025-04-22T03:54:34.689013",
     "status": "completed"
    },
    "tags": []
   },
   "source": [
    "# 🤖   ***Machine Learning***   "
   ]
  },
  {
   "cell_type": "markdown",
   "id": "6c61f901",
   "metadata": {
    "papermill": {
     "duration": 0.022811,
     "end_time": "2025-04-22T03:54:34.756283",
     "exception": false,
     "start_time": "2025-04-22T03:54:34.733472",
     "status": "completed"
    },
    "tags": []
   },
   "source": [
    "### 1. 🔍 **Modeling (Logistic Regression)** "
   ]
  },
  {
   "cell_type": "code",
   "execution_count": 43,
   "id": "1f1a1596",
   "metadata": {
    "execution": {
     "iopub.execute_input": "2025-04-22T03:54:34.805178Z",
     "iopub.status.busy": "2025-04-22T03:54:34.804791Z",
     "iopub.status.idle": "2025-04-22T03:54:34.816291Z",
     "shell.execute_reply": "2025-04-22T03:54:34.814821Z"
    },
    "papermill": {
     "duration": 0.03759,
     "end_time": "2025-04-22T03:54:34.818158",
     "exception": false,
     "start_time": "2025-04-22T03:54:34.780568",
     "status": "completed"
    },
    "tags": []
   },
   "outputs": [
    {
     "name": "stdout",
     "output_type": "stream",
     "text": [
      "<class 'pandas.core.frame.DataFrame'>\n",
      "RangeIndex: 891 entries, 0 to 890\n",
      "Data columns (total 12 columns):\n",
      " #   Column                  Non-Null Count  Dtype  \n",
      "---  ------                  --------------  -----  \n",
      " 0   Survived                891 non-null    int64  \n",
      " 1   Pclass                  891 non-null    int64  \n",
      " 2   Sex                     891 non-null    int64  \n",
      " 3   Age                     891 non-null    float64\n",
      " 4   Fare                    891 non-null    float64\n",
      " 5   Pclass_Prefix_Survival  891 non-null    float64\n",
      " 6   Ticket_IsNumeric        891 non-null    int64  \n",
      " 7   Ticket_Freq             891 non-null    int64  \n",
      " 8   Has_Cabin               891 non-null    int64  \n",
      " 9   Q                       891 non-null    int64  \n",
      " 10  S                       891 non-null    int64  \n",
      " 11  Family                  891 non-null    int64  \n",
      "dtypes: float64(3), int64(9)\n",
      "memory usage: 83.7 KB\n"
     ]
    }
   ],
   "source": [
    "df.info() "
   ]
  },
  {
   "cell_type": "code",
   "execution_count": 44,
   "id": "b76a64bb",
   "metadata": {
    "execution": {
     "iopub.execute_input": "2025-04-22T03:54:34.865472Z",
     "iopub.status.busy": "2025-04-22T03:54:34.865066Z",
     "iopub.status.idle": "2025-04-22T03:54:34.871806Z",
     "shell.execute_reply": "2025-04-22T03:54:34.870665Z"
    },
    "papermill": {
     "duration": 0.032336,
     "end_time": "2025-04-22T03:54:34.873579",
     "exception": false,
     "start_time": "2025-04-22T03:54:34.841243",
     "status": "completed"
    },
    "tags": []
   },
   "outputs": [
    {
     "data": {
      "text/plain": [
       "Index(['Survived', 'Pclass', 'Sex', 'Age', 'Fare', 'Pclass_Prefix_Survival',\n",
       "       'Ticket_IsNumeric', 'Ticket_Freq', 'Has_Cabin', 'Q', 'S', 'Family'],\n",
       "      dtype='object')"
      ]
     },
     "execution_count": 44,
     "metadata": {},
     "output_type": "execute_result"
    }
   ],
   "source": [
    "df.columns"
   ]
  },
  {
   "cell_type": "code",
   "execution_count": 45,
   "id": "f4a1df53",
   "metadata": {
    "execution": {
     "iopub.execute_input": "2025-04-22T03:54:34.923309Z",
     "iopub.status.busy": "2025-04-22T03:54:34.922953Z",
     "iopub.status.idle": "2025-04-22T03:54:34.928631Z",
     "shell.execute_reply": "2025-04-22T03:54:34.927561Z"
    },
    "papermill": {
     "duration": 0.032264,
     "end_time": "2025-04-22T03:54:34.930470",
     "exception": false,
     "start_time": "2025-04-22T03:54:34.898206",
     "status": "completed"
    },
    "tags": []
   },
   "outputs": [],
   "source": [
    "X = df.drop('Survived', axis=1)\n",
    "y = df['Survived']"
   ]
  },
  {
   "cell_type": "code",
   "execution_count": 46,
   "id": "02e14e01",
   "metadata": {
    "execution": {
     "iopub.execute_input": "2025-04-22T03:54:34.980012Z",
     "iopub.status.busy": "2025-04-22T03:54:34.979571Z",
     "iopub.status.idle": "2025-04-22T03:54:34.988167Z",
     "shell.execute_reply": "2025-04-22T03:54:34.986982Z"
    },
    "papermill": {
     "duration": 0.036083,
     "end_time": "2025-04-22T03:54:34.990360",
     "exception": false,
     "start_time": "2025-04-22T03:54:34.954277",
     "status": "completed"
    },
    "tags": []
   },
   "outputs": [],
   "source": [
    "X_train, X_test, y_train, y_test = train_test_split( X, y, test_size=0.3, random_state=42)"
   ]
  },
  {
   "cell_type": "code",
   "execution_count": 47,
   "id": "f44a2664",
   "metadata": {
    "execution": {
     "iopub.execute_input": "2025-04-22T03:54:35.037861Z",
     "iopub.status.busy": "2025-04-22T03:54:35.037416Z",
     "iopub.status.idle": "2025-04-22T03:54:35.086931Z",
     "shell.execute_reply": "2025-04-22T03:54:35.085499Z"
    },
    "papermill": {
     "duration": 0.075422,
     "end_time": "2025-04-22T03:54:35.088961",
     "exception": false,
     "start_time": "2025-04-22T03:54:35.013539",
     "status": "completed"
    },
    "tags": []
   },
   "outputs": [
    {
     "data": {
      "text/html": [
       "<style>#sk-container-id-1 {color: black;background-color: white;}#sk-container-id-1 pre{padding: 0;}#sk-container-id-1 div.sk-toggleable {background-color: white;}#sk-container-id-1 label.sk-toggleable__label {cursor: pointer;display: block;width: 100%;margin-bottom: 0;padding: 0.3em;box-sizing: border-box;text-align: center;}#sk-container-id-1 label.sk-toggleable__label-arrow:before {content: \"▸\";float: left;margin-right: 0.25em;color: #696969;}#sk-container-id-1 label.sk-toggleable__label-arrow:hover:before {color: black;}#sk-container-id-1 div.sk-estimator:hover label.sk-toggleable__label-arrow:before {color: black;}#sk-container-id-1 div.sk-toggleable__content {max-height: 0;max-width: 0;overflow: hidden;text-align: left;background-color: #f0f8ff;}#sk-container-id-1 div.sk-toggleable__content pre {margin: 0.2em;color: black;border-radius: 0.25em;background-color: #f0f8ff;}#sk-container-id-1 input.sk-toggleable__control:checked~div.sk-toggleable__content {max-height: 200px;max-width: 100%;overflow: auto;}#sk-container-id-1 input.sk-toggleable__control:checked~label.sk-toggleable__label-arrow:before {content: \"▾\";}#sk-container-id-1 div.sk-estimator input.sk-toggleable__control:checked~label.sk-toggleable__label {background-color: #d4ebff;}#sk-container-id-1 div.sk-label input.sk-toggleable__control:checked~label.sk-toggleable__label {background-color: #d4ebff;}#sk-container-id-1 input.sk-hidden--visually {border: 0;clip: rect(1px 1px 1px 1px);clip: rect(1px, 1px, 1px, 1px);height: 1px;margin: -1px;overflow: hidden;padding: 0;position: absolute;width: 1px;}#sk-container-id-1 div.sk-estimator {font-family: monospace;background-color: #f0f8ff;border: 1px dotted black;border-radius: 0.25em;box-sizing: border-box;margin-bottom: 0.5em;}#sk-container-id-1 div.sk-estimator:hover {background-color: #d4ebff;}#sk-container-id-1 div.sk-parallel-item::after {content: \"\";width: 100%;border-bottom: 1px solid gray;flex-grow: 1;}#sk-container-id-1 div.sk-label:hover label.sk-toggleable__label {background-color: #d4ebff;}#sk-container-id-1 div.sk-serial::before {content: \"\";position: absolute;border-left: 1px solid gray;box-sizing: border-box;top: 0;bottom: 0;left: 50%;z-index: 0;}#sk-container-id-1 div.sk-serial {display: flex;flex-direction: column;align-items: center;background-color: white;padding-right: 0.2em;padding-left: 0.2em;position: relative;}#sk-container-id-1 div.sk-item {position: relative;z-index: 1;}#sk-container-id-1 div.sk-parallel {display: flex;align-items: stretch;justify-content: center;background-color: white;position: relative;}#sk-container-id-1 div.sk-item::before, #sk-container-id-1 div.sk-parallel-item::before {content: \"\";position: absolute;border-left: 1px solid gray;box-sizing: border-box;top: 0;bottom: 0;left: 50%;z-index: -1;}#sk-container-id-1 div.sk-parallel-item {display: flex;flex-direction: column;z-index: 1;position: relative;background-color: white;}#sk-container-id-1 div.sk-parallel-item:first-child::after {align-self: flex-end;width: 50%;}#sk-container-id-1 div.sk-parallel-item:last-child::after {align-self: flex-start;width: 50%;}#sk-container-id-1 div.sk-parallel-item:only-child::after {width: 0;}#sk-container-id-1 div.sk-dashed-wrapped {border: 1px dashed gray;margin: 0 0.4em 0.5em 0.4em;box-sizing: border-box;padding-bottom: 0.4em;background-color: white;}#sk-container-id-1 div.sk-label label {font-family: monospace;font-weight: bold;display: inline-block;line-height: 1.2em;}#sk-container-id-1 div.sk-label-container {text-align: center;}#sk-container-id-1 div.sk-container {/* jupyter's `normalize.less` sets `[hidden] { display: none; }` but bootstrap.min.css set `[hidden] { display: none !important; }` so we also need the `!important` here to be able to override the default hidden behavior on the sphinx rendered scikit-learn.org. See: https://github.com/scikit-learn/scikit-learn/issues/21755 */display: inline-block !important;position: relative;}#sk-container-id-1 div.sk-text-repr-fallback {display: none;}</style><div id=\"sk-container-id-1\" class=\"sk-top-container\"><div class=\"sk-text-repr-fallback\"><pre>LogisticRegression()</pre><b>In a Jupyter environment, please rerun this cell to show the HTML representation or trust the notebook. <br />On GitHub, the HTML representation is unable to render, please try loading this page with nbviewer.org.</b></div><div class=\"sk-container\" hidden><div class=\"sk-item\"><div class=\"sk-estimator sk-toggleable\"><input class=\"sk-toggleable__control sk-hidden--visually\" id=\"sk-estimator-id-1\" type=\"checkbox\" checked><label for=\"sk-estimator-id-1\" class=\"sk-toggleable__label sk-toggleable__label-arrow\">LogisticRegression</label><div class=\"sk-toggleable__content\"><pre>LogisticRegression()</pre></div></div></div></div></div>"
      ],
      "text/plain": [
       "LogisticRegression()"
      ]
     },
     "execution_count": 47,
     "metadata": {},
     "output_type": "execute_result"
    }
   ],
   "source": [
    "log_model = LogisticRegression () \n",
    "log_model.fit(X_train, y_train)  "
   ]
  },
  {
   "cell_type": "markdown",
   "id": "67467916",
   "metadata": {
    "papermill": {
     "duration": 0.023025,
     "end_time": "2025-04-22T03:54:35.135569",
     "exception": false,
     "start_time": "2025-04-22T03:54:35.112544",
     "status": "completed"
    },
    "tags": []
   },
   "source": [
    "### 2. 🔍 **Prediction**"
   ]
  },
  {
   "cell_type": "code",
   "execution_count": 48,
   "id": "e05e6a05",
   "metadata": {
    "execution": {
     "iopub.execute_input": "2025-04-22T03:54:35.183558Z",
     "iopub.status.busy": "2025-04-22T03:54:35.183115Z",
     "iopub.status.idle": "2025-04-22T03:54:35.189436Z",
     "shell.execute_reply": "2025-04-22T03:54:35.188322Z"
    },
    "papermill": {
     "duration": 0.032325,
     "end_time": "2025-04-22T03:54:35.191169",
     "exception": false,
     "start_time": "2025-04-22T03:54:35.158844",
     "status": "completed"
    },
    "tags": []
   },
   "outputs": [],
   "source": [
    "predictions = log_model.predict(X_test) "
   ]
  },
  {
   "cell_type": "markdown",
   "id": "c8548e5d",
   "metadata": {
    "papermill": {
     "duration": 0.022088,
     "end_time": "2025-04-22T03:54:35.237025",
     "exception": false,
     "start_time": "2025-04-22T03:54:35.214937",
     "status": "completed"
    },
    "tags": []
   },
   "source": [
    "### 3. 🔍 **Evaluation**"
   ]
  },
  {
   "cell_type": "code",
   "execution_count": 49,
   "id": "81141434",
   "metadata": {
    "execution": {
     "iopub.execute_input": "2025-04-22T03:54:35.283125Z",
     "iopub.status.busy": "2025-04-22T03:54:35.282736Z",
     "iopub.status.idle": "2025-04-22T03:54:35.298841Z",
     "shell.execute_reply": "2025-04-22T03:54:35.297295Z"
    },
    "papermill": {
     "duration": 0.041741,
     "end_time": "2025-04-22T03:54:35.301126",
     "exception": false,
     "start_time": "2025-04-22T03:54:35.259385",
     "status": "completed"
    },
    "tags": []
   },
   "outputs": [
    {
     "name": "stdout",
     "output_type": "stream",
     "text": [
      "[[137  20]\n",
      " [ 26  85]]\n",
      "\n",
      "\n",
      "              precision    recall  f1-score   support\n",
      "\n",
      "           0       0.84      0.87      0.86       157\n",
      "           1       0.81      0.77      0.79       111\n",
      "\n",
      "    accuracy                           0.83       268\n",
      "   macro avg       0.83      0.82      0.82       268\n",
      "weighted avg       0.83      0.83      0.83       268\n",
      "\n"
     ]
    }
   ],
   "source": [
    "print(confusion_matrix(y_test, predictions))   \n",
    "print('\\n')\n",
    "print(classification_report(y_test, predictions))  "
   ]
  }
 ],
 "metadata": {
  "kaggle": {
   "accelerator": "none",
   "dataSources": [
    {
     "datasetId": 7093056,
     "sourceId": 11338283,
     "sourceType": "datasetVersion"
    }
   ],
   "dockerImageVersionId": 30918,
   "isGpuEnabled": false,
   "isInternetEnabled": true,
   "language": "python",
   "sourceType": "notebook"
  },
  "kernelspec": {
   "display_name": "Python 3",
   "language": "python",
   "name": "python3"
  },
  "language_info": {
   "codemirror_mode": {
    "name": "ipython",
    "version": 3
   },
   "file_extension": ".py",
   "mimetype": "text/x-python",
   "name": "python",
   "nbconvert_exporter": "python",
   "pygments_lexer": "ipython3",
   "version": "3.10.12"
  },
  "papermill": {
   "default_parameters": {},
   "duration": 18.568928,
   "end_time": "2025-04-22T03:54:36.348406",
   "environment_variables": {},
   "exception": null,
   "input_path": "__notebook__.ipynb",
   "output_path": "__notebook__.ipynb",
   "parameters": {},
   "start_time": "2025-04-22T03:54:17.779478",
   "version": "2.6.0"
  }
 },
 "nbformat": 4,
 "nbformat_minor": 5
}
