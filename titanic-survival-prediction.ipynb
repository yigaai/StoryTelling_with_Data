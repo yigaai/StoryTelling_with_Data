{
 "cells": [
  {
   "cell_type": "markdown",
   "id": "3fd699d0",
   "metadata": {
    "papermill": {
     "duration": 0.013906,
     "end_time": "2025-04-13T11:50:39.023664",
     "exception": false,
     "start_time": "2025-04-13T11:50:39.009758",
     "status": "completed"
    },
    "tags": []
   },
   "source": [
    "   # 🛳️ **Titanic Survival Prediction**  \n",
    "\n",
    "   ###   👩🏻‍💻 By Rosy  "
   ]
  },
  {
   "cell_type": "markdown",
   "id": "b0a0a330",
   "metadata": {
    "papermill": {
     "duration": 0.011191,
     "end_time": "2025-04-13T11:50:39.046028",
     "exception": false,
     "start_time": "2025-04-13T11:50:39.034837",
     "status": "completed"
    },
    "tags": []
   },
   "source": [
    "# ***🎯 Goals & Tasks:*** \n",
    "\n",
    "* 1. Provide insight by means of data. "
   ]
  },
  {
   "cell_type": "markdown",
   "id": "23e1eec3",
   "metadata": {
    "papermill": {
     "duration": 0.010937,
     "end_time": "2025-04-13T11:50:39.068071",
     "exception": false,
     "start_time": "2025-04-13T11:50:39.057134",
     "status": "completed"
    },
    "tags": []
   },
   "source": [
    "# ***🗂️ Import Libraries*** "
   ]
  },
  {
   "cell_type": "code",
   "execution_count": 1,
   "id": "6c2f9abb",
   "metadata": {
    "execution": {
     "iopub.execute_input": "2025-04-13T11:50:39.091396Z",
     "iopub.status.busy": "2025-04-13T11:50:39.090922Z",
     "iopub.status.idle": "2025-04-13T11:50:44.543335Z",
     "shell.execute_reply": "2025-04-13T11:50:44.542178Z"
    },
    "papermill": {
     "duration": 5.466281,
     "end_time": "2025-04-13T11:50:44.545356",
     "exception": false,
     "start_time": "2025-04-13T11:50:39.079075",
     "status": "completed"
    },
    "tags": []
   },
   "outputs": [],
   "source": [
    "import os\n",
    "\n",
    "import pandas as pd\n",
    "import numpy as np\n",
    "\n",
    "\n",
    "import matplotlib.pyplot as plt\n",
    "import seaborn as sns\n",
    "import plotly.express as px\n",
    "\n",
    "\n",
    "from sklearn.preprocessing import StandardScaler, LabelEncoder, MinMaxScaler\n",
    "\n",
    "\n",
    "from sklearn.model_selection import train_test_split, GridSearchCV, cross_val_score\n",
    "\n",
    "from sklearn.linear_model import LogisticRegression\n",
    "from sklearn.neighbors import KNeighborsClassifier\n",
    "from sklearn.svm import SVC\n",
    "from sklearn.tree import DecisionTreeClassifier\n",
    "from sklearn.ensemble import RandomForestClassifier, AdaBoostClassifier, GradientBoostingClassifier, RandomForestRegressor\n",
    "from xgboost import XGBClassifier\n",
    "#metrics\n",
    "from sklearn.metrics import accuracy_score, f1_score, precision_score, recall_score\n",
    "\n",
    "\n",
    "import warnings \n",
    "warnings.filterwarnings('ignore') "
   ]
  },
  {
   "cell_type": "markdown",
   "id": "cb55f135",
   "metadata": {
    "papermill": {
     "duration": 0.01174,
     "end_time": "2025-04-13T11:50:44.568437",
     "exception": false,
     "start_time": "2025-04-13T11:50:44.556697",
     "status": "completed"
    },
    "tags": []
   },
   "source": [
    "# ***⏳ Data Loading*** "
   ]
  },
  {
   "cell_type": "code",
   "execution_count": 2,
   "id": "564c32b4",
   "metadata": {
    "execution": {
     "iopub.execute_input": "2025-04-13T11:50:44.592666Z",
     "iopub.status.busy": "2025-04-13T11:50:44.592049Z",
     "iopub.status.idle": "2025-04-13T11:50:44.622361Z",
     "shell.execute_reply": "2025-04-13T11:50:44.621190Z"
    },
    "papermill": {
     "duration": 0.044613,
     "end_time": "2025-04-13T11:50:44.624488",
     "exception": false,
     "start_time": "2025-04-13T11:50:44.579875",
     "status": "completed"
    },
    "tags": []
   },
   "outputs": [],
   "source": [
    "os.listdir('/kaggle/input/titanic-data')  \n",
    "df = pd.read_csv('/kaggle/input/titanic-data/train.csv') "
   ]
  },
  {
   "cell_type": "markdown",
   "id": "c72c5bb1",
   "metadata": {
    "papermill": {
     "duration": 0.010907,
     "end_time": "2025-04-13T11:50:44.646887",
     "exception": false,
     "start_time": "2025-04-13T11:50:44.635980",
     "status": "completed"
    },
    "tags": []
   },
   "source": [
    "# ***🔭 Data Exploration***  "
   ]
  },
  {
   "cell_type": "markdown",
   "id": "c57a7a2e",
   "metadata": {
    "papermill": {
     "duration": 0.010645,
     "end_time": "2025-04-13T11:50:44.669285",
     "exception": false,
     "start_time": "2025-04-13T11:50:44.658640",
     "status": "completed"
    },
    "tags": []
   },
   "source": [
    "### 1. 🔍 **Take a Glimpse of Data**"
   ]
  },
  {
   "cell_type": "code",
   "execution_count": 3,
   "id": "3f22e1bb",
   "metadata": {
    "execution": {
     "iopub.execute_input": "2025-04-13T11:50:44.693291Z",
     "iopub.status.busy": "2025-04-13T11:50:44.692908Z",
     "iopub.status.idle": "2025-04-13T11:50:44.725513Z",
     "shell.execute_reply": "2025-04-13T11:50:44.724271Z"
    },
    "papermill": {
     "duration": 0.046722,
     "end_time": "2025-04-13T11:50:44.727673",
     "exception": false,
     "start_time": "2025-04-13T11:50:44.680951",
     "status": "completed"
    },
    "tags": []
   },
   "outputs": [
    {
     "data": {
      "text/html": [
       "<div>\n",
       "<style scoped>\n",
       "    .dataframe tbody tr th:only-of-type {\n",
       "        vertical-align: middle;\n",
       "    }\n",
       "\n",
       "    .dataframe tbody tr th {\n",
       "        vertical-align: top;\n",
       "    }\n",
       "\n",
       "    .dataframe thead th {\n",
       "        text-align: right;\n",
       "    }\n",
       "</style>\n",
       "<table border=\"1\" class=\"dataframe\">\n",
       "  <thead>\n",
       "    <tr style=\"text-align: right;\">\n",
       "      <th></th>\n",
       "      <th>PassengerId</th>\n",
       "      <th>Survived</th>\n",
       "      <th>Pclass</th>\n",
       "      <th>Name</th>\n",
       "      <th>Sex</th>\n",
       "      <th>Age</th>\n",
       "      <th>SibSp</th>\n",
       "      <th>Parch</th>\n",
       "      <th>Ticket</th>\n",
       "      <th>Fare</th>\n",
       "      <th>Cabin</th>\n",
       "      <th>Embarked</th>\n",
       "    </tr>\n",
       "  </thead>\n",
       "  <tbody>\n",
       "    <tr>\n",
       "      <th>0</th>\n",
       "      <td>1</td>\n",
       "      <td>0</td>\n",
       "      <td>3</td>\n",
       "      <td>Braund, Mr. Owen Harris</td>\n",
       "      <td>male</td>\n",
       "      <td>22.0</td>\n",
       "      <td>1</td>\n",
       "      <td>0</td>\n",
       "      <td>A/5 21171</td>\n",
       "      <td>7.2500</td>\n",
       "      <td>NaN</td>\n",
       "      <td>S</td>\n",
       "    </tr>\n",
       "    <tr>\n",
       "      <th>1</th>\n",
       "      <td>2</td>\n",
       "      <td>1</td>\n",
       "      <td>1</td>\n",
       "      <td>Cumings, Mrs. John Bradley (Florence Briggs Th...</td>\n",
       "      <td>female</td>\n",
       "      <td>38.0</td>\n",
       "      <td>1</td>\n",
       "      <td>0</td>\n",
       "      <td>PC 17599</td>\n",
       "      <td>71.2833</td>\n",
       "      <td>C85</td>\n",
       "      <td>C</td>\n",
       "    </tr>\n",
       "    <tr>\n",
       "      <th>2</th>\n",
       "      <td>3</td>\n",
       "      <td>1</td>\n",
       "      <td>3</td>\n",
       "      <td>Heikkinen, Miss. Laina</td>\n",
       "      <td>female</td>\n",
       "      <td>26.0</td>\n",
       "      <td>0</td>\n",
       "      <td>0</td>\n",
       "      <td>STON/O2. 3101282</td>\n",
       "      <td>7.9250</td>\n",
       "      <td>NaN</td>\n",
       "      <td>S</td>\n",
       "    </tr>\n",
       "    <tr>\n",
       "      <th>3</th>\n",
       "      <td>4</td>\n",
       "      <td>1</td>\n",
       "      <td>1</td>\n",
       "      <td>Futrelle, Mrs. Jacques Heath (Lily May Peel)</td>\n",
       "      <td>female</td>\n",
       "      <td>35.0</td>\n",
       "      <td>1</td>\n",
       "      <td>0</td>\n",
       "      <td>113803</td>\n",
       "      <td>53.1000</td>\n",
       "      <td>C123</td>\n",
       "      <td>S</td>\n",
       "    </tr>\n",
       "    <tr>\n",
       "      <th>4</th>\n",
       "      <td>5</td>\n",
       "      <td>0</td>\n",
       "      <td>3</td>\n",
       "      <td>Allen, Mr. William Henry</td>\n",
       "      <td>male</td>\n",
       "      <td>35.0</td>\n",
       "      <td>0</td>\n",
       "      <td>0</td>\n",
       "      <td>373450</td>\n",
       "      <td>8.0500</td>\n",
       "      <td>NaN</td>\n",
       "      <td>S</td>\n",
       "    </tr>\n",
       "  </tbody>\n",
       "</table>\n",
       "</div>"
      ],
      "text/plain": [
       "   PassengerId  Survived  Pclass  \\\n",
       "0            1         0       3   \n",
       "1            2         1       1   \n",
       "2            3         1       3   \n",
       "3            4         1       1   \n",
       "4            5         0       3   \n",
       "\n",
       "                                                Name     Sex   Age  SibSp  \\\n",
       "0                            Braund, Mr. Owen Harris    male  22.0      1   \n",
       "1  Cumings, Mrs. John Bradley (Florence Briggs Th...  female  38.0      1   \n",
       "2                             Heikkinen, Miss. Laina  female  26.0      0   \n",
       "3       Futrelle, Mrs. Jacques Heath (Lily May Peel)  female  35.0      1   \n",
       "4                           Allen, Mr. William Henry    male  35.0      0   \n",
       "\n",
       "   Parch            Ticket     Fare Cabin Embarked  \n",
       "0      0         A/5 21171   7.2500   NaN        S  \n",
       "1      0          PC 17599  71.2833   C85        C  \n",
       "2      0  STON/O2. 3101282   7.9250   NaN        S  \n",
       "3      0            113803  53.1000  C123        S  \n",
       "4      0            373450   8.0500   NaN        S  "
      ]
     },
     "execution_count": 3,
     "metadata": {},
     "output_type": "execute_result"
    }
   ],
   "source": [
    "df.head(5) "
   ]
  },
  {
   "cell_type": "code",
   "execution_count": 4,
   "id": "edf50748",
   "metadata": {
    "execution": {
     "iopub.execute_input": "2025-04-13T11:50:44.752032Z",
     "iopub.status.busy": "2025-04-13T11:50:44.751416Z",
     "iopub.status.idle": "2025-04-13T11:50:44.767639Z",
     "shell.execute_reply": "2025-04-13T11:50:44.766334Z"
    },
    "papermill": {
     "duration": 0.030404,
     "end_time": "2025-04-13T11:50:44.769653",
     "exception": false,
     "start_time": "2025-04-13T11:50:44.739249",
     "status": "completed"
    },
    "tags": []
   },
   "outputs": [
    {
     "data": {
      "text/html": [
       "<div>\n",
       "<style scoped>\n",
       "    .dataframe tbody tr th:only-of-type {\n",
       "        vertical-align: middle;\n",
       "    }\n",
       "\n",
       "    .dataframe tbody tr th {\n",
       "        vertical-align: top;\n",
       "    }\n",
       "\n",
       "    .dataframe thead th {\n",
       "        text-align: right;\n",
       "    }\n",
       "</style>\n",
       "<table border=\"1\" class=\"dataframe\">\n",
       "  <thead>\n",
       "    <tr style=\"text-align: right;\">\n",
       "      <th></th>\n",
       "      <th>PassengerId</th>\n",
       "      <th>Survived</th>\n",
       "      <th>Pclass</th>\n",
       "      <th>Name</th>\n",
       "      <th>Sex</th>\n",
       "      <th>Age</th>\n",
       "      <th>SibSp</th>\n",
       "      <th>Parch</th>\n",
       "      <th>Ticket</th>\n",
       "      <th>Fare</th>\n",
       "      <th>Cabin</th>\n",
       "      <th>Embarked</th>\n",
       "    </tr>\n",
       "  </thead>\n",
       "  <tbody>\n",
       "    <tr>\n",
       "      <th>886</th>\n",
       "      <td>887</td>\n",
       "      <td>0</td>\n",
       "      <td>2</td>\n",
       "      <td>Montvila, Rev. Juozas</td>\n",
       "      <td>male</td>\n",
       "      <td>27.0</td>\n",
       "      <td>0</td>\n",
       "      <td>0</td>\n",
       "      <td>211536</td>\n",
       "      <td>13.00</td>\n",
       "      <td>NaN</td>\n",
       "      <td>S</td>\n",
       "    </tr>\n",
       "    <tr>\n",
       "      <th>887</th>\n",
       "      <td>888</td>\n",
       "      <td>1</td>\n",
       "      <td>1</td>\n",
       "      <td>Graham, Miss. Margaret Edith</td>\n",
       "      <td>female</td>\n",
       "      <td>19.0</td>\n",
       "      <td>0</td>\n",
       "      <td>0</td>\n",
       "      <td>112053</td>\n",
       "      <td>30.00</td>\n",
       "      <td>B42</td>\n",
       "      <td>S</td>\n",
       "    </tr>\n",
       "    <tr>\n",
       "      <th>888</th>\n",
       "      <td>889</td>\n",
       "      <td>0</td>\n",
       "      <td>3</td>\n",
       "      <td>Johnston, Miss. Catherine Helen \"Carrie\"</td>\n",
       "      <td>female</td>\n",
       "      <td>NaN</td>\n",
       "      <td>1</td>\n",
       "      <td>2</td>\n",
       "      <td>W./C. 6607</td>\n",
       "      <td>23.45</td>\n",
       "      <td>NaN</td>\n",
       "      <td>S</td>\n",
       "    </tr>\n",
       "    <tr>\n",
       "      <th>889</th>\n",
       "      <td>890</td>\n",
       "      <td>1</td>\n",
       "      <td>1</td>\n",
       "      <td>Behr, Mr. Karl Howell</td>\n",
       "      <td>male</td>\n",
       "      <td>26.0</td>\n",
       "      <td>0</td>\n",
       "      <td>0</td>\n",
       "      <td>111369</td>\n",
       "      <td>30.00</td>\n",
       "      <td>C148</td>\n",
       "      <td>C</td>\n",
       "    </tr>\n",
       "    <tr>\n",
       "      <th>890</th>\n",
       "      <td>891</td>\n",
       "      <td>0</td>\n",
       "      <td>3</td>\n",
       "      <td>Dooley, Mr. Patrick</td>\n",
       "      <td>male</td>\n",
       "      <td>32.0</td>\n",
       "      <td>0</td>\n",
       "      <td>0</td>\n",
       "      <td>370376</td>\n",
       "      <td>7.75</td>\n",
       "      <td>NaN</td>\n",
       "      <td>Q</td>\n",
       "    </tr>\n",
       "  </tbody>\n",
       "</table>\n",
       "</div>"
      ],
      "text/plain": [
       "     PassengerId  Survived  Pclass                                      Name  \\\n",
       "886          887         0       2                     Montvila, Rev. Juozas   \n",
       "887          888         1       1              Graham, Miss. Margaret Edith   \n",
       "888          889         0       3  Johnston, Miss. Catherine Helen \"Carrie\"   \n",
       "889          890         1       1                     Behr, Mr. Karl Howell   \n",
       "890          891         0       3                       Dooley, Mr. Patrick   \n",
       "\n",
       "        Sex   Age  SibSp  Parch      Ticket   Fare Cabin Embarked  \n",
       "886    male  27.0      0      0      211536  13.00   NaN        S  \n",
       "887  female  19.0      0      0      112053  30.00   B42        S  \n",
       "888  female   NaN      1      2  W./C. 6607  23.45   NaN        S  \n",
       "889    male  26.0      0      0      111369  30.00  C148        C  \n",
       "890    male  32.0      0      0      370376   7.75   NaN        Q  "
      ]
     },
     "execution_count": 4,
     "metadata": {},
     "output_type": "execute_result"
    }
   ],
   "source": [
    "df.tail(5) "
   ]
  },
  {
   "cell_type": "markdown",
   "id": "eeac1361",
   "metadata": {
    "papermill": {
     "duration": 0.011183,
     "end_time": "2025-04-13T11:50:44.792318",
     "exception": false,
     "start_time": "2025-04-13T11:50:44.781135",
     "status": "completed"
    },
    "tags": []
   },
   "source": [
    "### 2. 🔍 **DataType of Each Column**"
   ]
  },
  {
   "cell_type": "code",
   "execution_count": 5,
   "id": "c0a12ceb",
   "metadata": {
    "execution": {
     "iopub.execute_input": "2025-04-13T11:50:44.817284Z",
     "iopub.status.busy": "2025-04-13T11:50:44.816872Z",
     "iopub.status.idle": "2025-04-13T11:50:44.846032Z",
     "shell.execute_reply": "2025-04-13T11:50:44.844646Z"
    },
    "papermill": {
     "duration": 0.043934,
     "end_time": "2025-04-13T11:50:44.848296",
     "exception": false,
     "start_time": "2025-04-13T11:50:44.804362",
     "status": "completed"
    },
    "tags": []
   },
   "outputs": [
    {
     "name": "stdout",
     "output_type": "stream",
     "text": [
      "<class 'pandas.core.frame.DataFrame'>\n",
      "RangeIndex: 891 entries, 0 to 890\n",
      "Data columns (total 12 columns):\n",
      " #   Column       Non-Null Count  Dtype  \n",
      "---  ------       --------------  -----  \n",
      " 0   PassengerId  891 non-null    int64  \n",
      " 1   Survived     891 non-null    int64  \n",
      " 2   Pclass       891 non-null    int64  \n",
      " 3   Name         891 non-null    object \n",
      " 4   Sex          891 non-null    object \n",
      " 5   Age          714 non-null    float64\n",
      " 6   SibSp        891 non-null    int64  \n",
      " 7   Parch        891 non-null    int64  \n",
      " 8   Ticket       891 non-null    object \n",
      " 9   Fare         891 non-null    float64\n",
      " 10  Cabin        204 non-null    object \n",
      " 11  Embarked     889 non-null    object \n",
      "dtypes: float64(2), int64(5), object(5)\n",
      "memory usage: 83.7+ KB\n"
     ]
    }
   ],
   "source": [
    "df.info() "
   ]
  },
  {
   "cell_type": "markdown",
   "id": "cab2b009",
   "metadata": {
    "papermill": {
     "duration": 0.012162,
     "end_time": "2025-04-13T11:50:44.872662",
     "exception": false,
     "start_time": "2025-04-13T11:50:44.860500",
     "status": "completed"
    },
    "tags": []
   },
   "source": [
    "### 3. 🔍 **Dimensions of the DataFrame**"
   ]
  },
  {
   "cell_type": "code",
   "execution_count": 6,
   "id": "a4863368",
   "metadata": {
    "execution": {
     "iopub.execute_input": "2025-04-13T11:50:44.898123Z",
     "iopub.status.busy": "2025-04-13T11:50:44.897745Z",
     "iopub.status.idle": "2025-04-13T11:50:44.903344Z",
     "shell.execute_reply": "2025-04-13T11:50:44.902000Z"
    },
    "papermill": {
     "duration": 0.020714,
     "end_time": "2025-04-13T11:50:44.905056",
     "exception": false,
     "start_time": "2025-04-13T11:50:44.884342",
     "status": "completed"
    },
    "tags": []
   },
   "outputs": [
    {
     "name": "stdout",
     "output_type": "stream",
     "text": [
      "Rows: 891\n",
      "Columns: 12\n"
     ]
    }
   ],
   "source": [
    "print(f'Rows: {df.shape[0]}')\n",
    "print(f'Columns: {df.shape[1]}')  "
   ]
  },
  {
   "cell_type": "markdown",
   "id": "5f616623",
   "metadata": {
    "papermill": {
     "duration": 0.011351,
     "end_time": "2025-04-13T11:50:44.928092",
     "exception": false,
     "start_time": "2025-04-13T11:50:44.916741",
     "status": "completed"
    },
    "tags": []
   },
   "source": [
    "### 4. 🔍 **Descriptive Statistics for numerical & categorical variables**"
   ]
  },
  {
   "cell_type": "code",
   "execution_count": 7,
   "id": "e5bac281",
   "metadata": {
    "execution": {
     "iopub.execute_input": "2025-04-13T11:50:44.952812Z",
     "iopub.status.busy": "2025-04-13T11:50:44.952388Z",
     "iopub.status.idle": "2025-04-13T11:50:44.982767Z",
     "shell.execute_reply": "2025-04-13T11:50:44.981653Z"
    },
    "papermill": {
     "duration": 0.04479,
     "end_time": "2025-04-13T11:50:44.984707",
     "exception": false,
     "start_time": "2025-04-13T11:50:44.939917",
     "status": "completed"
    },
    "tags": []
   },
   "outputs": [
    {
     "data": {
      "text/html": [
       "<div>\n",
       "<style scoped>\n",
       "    .dataframe tbody tr th:only-of-type {\n",
       "        vertical-align: middle;\n",
       "    }\n",
       "\n",
       "    .dataframe tbody tr th {\n",
       "        vertical-align: top;\n",
       "    }\n",
       "\n",
       "    .dataframe thead th {\n",
       "        text-align: right;\n",
       "    }\n",
       "</style>\n",
       "<table border=\"1\" class=\"dataframe\">\n",
       "  <thead>\n",
       "    <tr style=\"text-align: right;\">\n",
       "      <th></th>\n",
       "      <th>PassengerId</th>\n",
       "      <th>Survived</th>\n",
       "      <th>Pclass</th>\n",
       "      <th>Age</th>\n",
       "      <th>SibSp</th>\n",
       "      <th>Parch</th>\n",
       "      <th>Fare</th>\n",
       "    </tr>\n",
       "  </thead>\n",
       "  <tbody>\n",
       "    <tr>\n",
       "      <th>count</th>\n",
       "      <td>891.000000</td>\n",
       "      <td>891.000000</td>\n",
       "      <td>891.000000</td>\n",
       "      <td>714.000000</td>\n",
       "      <td>891.000000</td>\n",
       "      <td>891.000000</td>\n",
       "      <td>891.000000</td>\n",
       "    </tr>\n",
       "    <tr>\n",
       "      <th>mean</th>\n",
       "      <td>446.000000</td>\n",
       "      <td>0.383838</td>\n",
       "      <td>2.308642</td>\n",
       "      <td>29.699118</td>\n",
       "      <td>0.523008</td>\n",
       "      <td>0.381594</td>\n",
       "      <td>32.204208</td>\n",
       "    </tr>\n",
       "    <tr>\n",
       "      <th>std</th>\n",
       "      <td>257.353842</td>\n",
       "      <td>0.486592</td>\n",
       "      <td>0.836071</td>\n",
       "      <td>14.526497</td>\n",
       "      <td>1.102743</td>\n",
       "      <td>0.806057</td>\n",
       "      <td>49.693429</td>\n",
       "    </tr>\n",
       "    <tr>\n",
       "      <th>min</th>\n",
       "      <td>1.000000</td>\n",
       "      <td>0.000000</td>\n",
       "      <td>1.000000</td>\n",
       "      <td>0.420000</td>\n",
       "      <td>0.000000</td>\n",
       "      <td>0.000000</td>\n",
       "      <td>0.000000</td>\n",
       "    </tr>\n",
       "    <tr>\n",
       "      <th>25%</th>\n",
       "      <td>223.500000</td>\n",
       "      <td>0.000000</td>\n",
       "      <td>2.000000</td>\n",
       "      <td>20.125000</td>\n",
       "      <td>0.000000</td>\n",
       "      <td>0.000000</td>\n",
       "      <td>7.910400</td>\n",
       "    </tr>\n",
       "    <tr>\n",
       "      <th>50%</th>\n",
       "      <td>446.000000</td>\n",
       "      <td>0.000000</td>\n",
       "      <td>3.000000</td>\n",
       "      <td>28.000000</td>\n",
       "      <td>0.000000</td>\n",
       "      <td>0.000000</td>\n",
       "      <td>14.454200</td>\n",
       "    </tr>\n",
       "    <tr>\n",
       "      <th>75%</th>\n",
       "      <td>668.500000</td>\n",
       "      <td>1.000000</td>\n",
       "      <td>3.000000</td>\n",
       "      <td>38.000000</td>\n",
       "      <td>1.000000</td>\n",
       "      <td>0.000000</td>\n",
       "      <td>31.000000</td>\n",
       "    </tr>\n",
       "    <tr>\n",
       "      <th>max</th>\n",
       "      <td>891.000000</td>\n",
       "      <td>1.000000</td>\n",
       "      <td>3.000000</td>\n",
       "      <td>80.000000</td>\n",
       "      <td>8.000000</td>\n",
       "      <td>6.000000</td>\n",
       "      <td>512.329200</td>\n",
       "    </tr>\n",
       "  </tbody>\n",
       "</table>\n",
       "</div>"
      ],
      "text/plain": [
       "       PassengerId    Survived      Pclass         Age       SibSp  \\\n",
       "count   891.000000  891.000000  891.000000  714.000000  891.000000   \n",
       "mean    446.000000    0.383838    2.308642   29.699118    0.523008   \n",
       "std     257.353842    0.486592    0.836071   14.526497    1.102743   \n",
       "min       1.000000    0.000000    1.000000    0.420000    0.000000   \n",
       "25%     223.500000    0.000000    2.000000   20.125000    0.000000   \n",
       "50%     446.000000    0.000000    3.000000   28.000000    0.000000   \n",
       "75%     668.500000    1.000000    3.000000   38.000000    1.000000   \n",
       "max     891.000000    1.000000    3.000000   80.000000    8.000000   \n",
       "\n",
       "            Parch        Fare  \n",
       "count  891.000000  891.000000  \n",
       "mean     0.381594   32.204208  \n",
       "std      0.806057   49.693429  \n",
       "min      0.000000    0.000000  \n",
       "25%      0.000000    7.910400  \n",
       "50%      0.000000   14.454200  \n",
       "75%      0.000000   31.000000  \n",
       "max      6.000000  512.329200  "
      ]
     },
     "execution_count": 7,
     "metadata": {},
     "output_type": "execute_result"
    }
   ],
   "source": [
    "df.describe() "
   ]
  },
  {
   "cell_type": "code",
   "execution_count": 8,
   "id": "e1c69697",
   "metadata": {
    "execution": {
     "iopub.execute_input": "2025-04-13T11:50:45.011941Z",
     "iopub.status.busy": "2025-04-13T11:50:45.011487Z",
     "iopub.status.idle": "2025-04-13T11:50:45.033715Z",
     "shell.execute_reply": "2025-04-13T11:50:45.032577Z"
    },
    "papermill": {
     "duration": 0.039175,
     "end_time": "2025-04-13T11:50:45.036273",
     "exception": false,
     "start_time": "2025-04-13T11:50:44.997098",
     "status": "completed"
    },
    "tags": []
   },
   "outputs": [
    {
     "data": {
      "text/html": [
       "<div>\n",
       "<style scoped>\n",
       "    .dataframe tbody tr th:only-of-type {\n",
       "        vertical-align: middle;\n",
       "    }\n",
       "\n",
       "    .dataframe tbody tr th {\n",
       "        vertical-align: top;\n",
       "    }\n",
       "\n",
       "    .dataframe thead th {\n",
       "        text-align: right;\n",
       "    }\n",
       "</style>\n",
       "<table border=\"1\" class=\"dataframe\">\n",
       "  <thead>\n",
       "    <tr style=\"text-align: right;\">\n",
       "      <th></th>\n",
       "      <th>Name</th>\n",
       "      <th>Sex</th>\n",
       "      <th>Ticket</th>\n",
       "      <th>Cabin</th>\n",
       "      <th>Embarked</th>\n",
       "    </tr>\n",
       "  </thead>\n",
       "  <tbody>\n",
       "    <tr>\n",
       "      <th>count</th>\n",
       "      <td>891</td>\n",
       "      <td>891</td>\n",
       "      <td>891</td>\n",
       "      <td>204</td>\n",
       "      <td>889</td>\n",
       "    </tr>\n",
       "    <tr>\n",
       "      <th>unique</th>\n",
       "      <td>891</td>\n",
       "      <td>2</td>\n",
       "      <td>681</td>\n",
       "      <td>147</td>\n",
       "      <td>3</td>\n",
       "    </tr>\n",
       "    <tr>\n",
       "      <th>top</th>\n",
       "      <td>Braund, Mr. Owen Harris</td>\n",
       "      <td>male</td>\n",
       "      <td>347082</td>\n",
       "      <td>B96 B98</td>\n",
       "      <td>S</td>\n",
       "    </tr>\n",
       "    <tr>\n",
       "      <th>freq</th>\n",
       "      <td>1</td>\n",
       "      <td>577</td>\n",
       "      <td>7</td>\n",
       "      <td>4</td>\n",
       "      <td>644</td>\n",
       "    </tr>\n",
       "  </tbody>\n",
       "</table>\n",
       "</div>"
      ],
      "text/plain": [
       "                           Name   Sex  Ticket    Cabin Embarked\n",
       "count                       891   891     891      204      889\n",
       "unique                      891     2     681      147        3\n",
       "top     Braund, Mr. Owen Harris  male  347082  B96 B98        S\n",
       "freq                          1   577       7        4      644"
      ]
     },
     "execution_count": 8,
     "metadata": {},
     "output_type": "execute_result"
    }
   ],
   "source": [
    "categorical_var = df.dtypes[df.dtypes == 'object'].index \n",
    "df[categorical_var].describe()  "
   ]
  },
  {
   "cell_type": "markdown",
   "id": "31f346ec",
   "metadata": {
    "papermill": {
     "duration": 0.011965,
     "end_time": "2025-04-13T11:50:45.061175",
     "exception": false,
     "start_time": "2025-04-13T11:50:45.049210",
     "status": "completed"
    },
    "tags": []
   },
   "source": [
    "### 5. 🔍 **Missing Values & Outliers**"
   ]
  },
  {
   "cell_type": "code",
   "execution_count": 9,
   "id": "9888e70f",
   "metadata": {
    "execution": {
     "iopub.execute_input": "2025-04-13T11:50:45.086255Z",
     "iopub.status.busy": "2025-04-13T11:50:45.085864Z",
     "iopub.status.idle": "2025-04-13T11:50:45.095240Z",
     "shell.execute_reply": "2025-04-13T11:50:45.093964Z"
    },
    "papermill": {
     "duration": 0.024057,
     "end_time": "2025-04-13T11:50:45.097166",
     "exception": false,
     "start_time": "2025-04-13T11:50:45.073109",
     "status": "completed"
    },
    "tags": []
   },
   "outputs": [
    {
     "data": {
      "text/plain": [
       "Cabin          687\n",
       "Age            177\n",
       "Embarked         2\n",
       "PassengerId      0\n",
       "Survived         0\n",
       "Pclass           0\n",
       "Name             0\n",
       "Sex              0\n",
       "SibSp            0\n",
       "Parch            0\n",
       "Ticket           0\n",
       "Fare             0\n",
       "dtype: int64"
      ]
     },
     "execution_count": 9,
     "metadata": {},
     "output_type": "execute_result"
    }
   ],
   "source": [
    "df.isnull().sum().sort_values(ascending = False) "
   ]
  },
  {
   "cell_type": "code",
   "execution_count": 10,
   "id": "a72e5ed9",
   "metadata": {
    "execution": {
     "iopub.execute_input": "2025-04-13T11:50:45.123536Z",
     "iopub.status.busy": "2025-04-13T11:50:45.123158Z",
     "iopub.status.idle": "2025-04-13T11:50:45.132936Z",
     "shell.execute_reply": "2025-04-13T11:50:45.131815Z"
    },
    "papermill": {
     "duration": 0.025261,
     "end_time": "2025-04-13T11:50:45.135016",
     "exception": false,
     "start_time": "2025-04-13T11:50:45.109755",
     "status": "completed"
    },
    "tags": []
   },
   "outputs": [
    {
     "data": {
      "text/plain": [
       "Cabin          0.771044\n",
       "Age            0.198653\n",
       "Embarked       0.002245\n",
       "PassengerId    0.000000\n",
       "Survived       0.000000\n",
       "Pclass         0.000000\n",
       "Name           0.000000\n",
       "Sex            0.000000\n",
       "SibSp          0.000000\n",
       "Parch          0.000000\n",
       "Ticket         0.000000\n",
       "Fare           0.000000\n",
       "dtype: float64"
      ]
     },
     "execution_count": 10,
     "metadata": {},
     "output_type": "execute_result"
    }
   ],
   "source": [
    "(df.isnull().sum() / len(df)).sort_values(ascending = False) "
   ]
  },
  {
   "cell_type": "code",
   "execution_count": 11,
   "id": "dc50ce49",
   "metadata": {
    "execution": {
     "iopub.execute_input": "2025-04-13T11:50:45.161956Z",
     "iopub.status.busy": "2025-04-13T11:50:45.161584Z",
     "iopub.status.idle": "2025-04-13T11:50:45.466511Z",
     "shell.execute_reply": "2025-04-13T11:50:45.465319Z"
    },
    "papermill": {
     "duration": 0.320291,
     "end_time": "2025-04-13T11:50:45.468506",
     "exception": false,
     "start_time": "2025-04-13T11:50:45.148215",
     "status": "completed"
    },
    "tags": []
   },
   "outputs": [
    {
     "data": {
      "text/plain": [
       "<Axes: >"
      ]
     },
     "execution_count": 11,
     "metadata": {},
     "output_type": "execute_result"
    },
    {
     "data": {
      "image/png": "[encoded data removed]",
      "text/plain": [
       "<Figure size 640x480 with 1 Axes>"
      ]
     },
     "metadata": {},
     "output_type": "display_data"
    }
   ],
   "source": [
    "sns.heatmap(df.isnull(), yticklabels=False, cbar=False) "
   ]
  },
  {
   "cell_type": "markdown",
   "id": "e4bc40cd",
   "metadata": {
    "papermill": {
     "duration": 0.013154,
     "end_time": "2025-04-13T11:50:45.494966",
     "exception": false,
     "start_time": "2025-04-13T11:50:45.481812",
     "status": "completed"
    },
    "tags": []
   },
   "source": [
    "###  📝 ***Conclusions from Data Exploration***"
   ]
  },
  {
   "cell_type": "markdown",
   "id": "fb0b664e",
   "metadata": {
    "papermill": {
     "duration": 0.01318,
     "end_time": "2025-04-13T11:50:45.521194",
     "exception": false,
     "start_time": "2025-04-13T11:50:45.508014",
     "status": "completed"
    },
    "tags": []
   },
   "source": [
    "1. The columns have float datatypes are 2, integer datatype 5, object datatype are 5\n",
    "\n",
    "2. There are 891 rows and 12 columns in the dataset."
   ]
  },
  {
   "cell_type": "markdown",
   "id": "d99c186c",
   "metadata": {
    "papermill": {
     "duration": 0.012868,
     "end_time": "2025-04-13T11:50:45.546820",
     "exception": false,
     "start_time": "2025-04-13T11:50:45.533952",
     "status": "completed"
    },
    "tags": []
   },
   "source": [
    "# 🔨  ***Data Cleaning & Preprocessing***  "
   ]
  },
  {
   "cell_type": "markdown",
   "id": "6147df9d",
   "metadata": {
    "papermill": {
     "duration": 0.013062,
     "end_time": "2025-04-13T11:50:45.573853",
     "exception": false,
     "start_time": "2025-04-13T11:50:45.560791",
     "status": "completed"
    },
    "tags": []
   },
   "source": [
    "### 1. 🔍 **Col: PassengerId**\n",
    "\n",
    "*  \"PassengerId\" is an arbitrary identifier assigned to each passenger."
   ]
  },
  {
   "cell_type": "code",
   "execution_count": 12,
   "id": "85e3362a",
   "metadata": {
    "execution": {
     "iopub.execute_input": "2025-04-13T11:50:45.603267Z",
     "iopub.status.busy": "2025-04-13T11:50:45.602930Z",
     "iopub.status.idle": "2025-04-13T11:50:45.610102Z",
     "shell.execute_reply": "2025-04-13T11:50:45.608764Z"
    },
    "papermill": {
     "duration": 0.02387,
     "end_time": "2025-04-13T11:50:45.612159",
     "exception": false,
     "start_time": "2025-04-13T11:50:45.588289",
     "status": "completed"
    },
    "tags": []
   },
   "outputs": [],
   "source": [
    "df.drop(['PassengerId'], axis=1, inplace=True)  "
   ]
  },
  {
   "cell_type": "markdown",
   "id": "6190a76f",
   "metadata": {
    "papermill": {
     "duration": 0.012536,
     "end_time": "2025-04-13T11:50:45.637998",
     "exception": false,
     "start_time": "2025-04-13T11:50:45.625462",
     "status": "completed"
    },
    "tags": []
   },
   "source": [
    "### 2. 🔍 **Col: Sex**\n",
    "\n",
    "* Convert to numerical features which would be better for prediciton.  "
   ]
  },
  {
   "cell_type": "code",
   "execution_count": 13,
   "id": "32cd6c1c",
   "metadata": {
    "execution": {
     "iopub.execute_input": "2025-04-13T11:50:45.666822Z",
     "iopub.status.busy": "2025-04-13T11:50:45.666419Z",
     "iopub.status.idle": "2025-04-13T11:50:45.672566Z",
     "shell.execute_reply": "2025-04-13T11:50:45.671362Z"
    },
    "papermill": {
     "duration": 0.023648,
     "end_time": "2025-04-13T11:50:45.674805",
     "exception": false,
     "start_time": "2025-04-13T11:50:45.651157",
     "status": "completed"
    },
    "tags": []
   },
   "outputs": [],
   "source": [
    "sex = pd.get_dummies(df['Sex'], drop_first=True, dtype=int)     "
   ]
  },
  {
   "cell_type": "code",
   "execution_count": 14,
   "id": "4b52bb75",
   "metadata": {
    "execution": {
     "iopub.execute_input": "2025-04-13T11:50:45.703647Z",
     "iopub.status.busy": "2025-04-13T11:50:45.703245Z",
     "iopub.status.idle": "2025-04-13T11:50:45.708943Z",
     "shell.execute_reply": "2025-04-13T11:50:45.707660Z"
    },
    "papermill": {
     "duration": 0.021891,
     "end_time": "2025-04-13T11:50:45.710853",
     "exception": false,
     "start_time": "2025-04-13T11:50:45.688962",
     "status": "completed"
    },
    "tags": []
   },
   "outputs": [],
   "source": [
    "df = pd.concat([df,sex], axis=1)  "
   ]
  },
  {
   "cell_type": "code",
   "execution_count": 15,
   "id": "0b1b6062",
   "metadata": {
    "execution": {
     "iopub.execute_input": "2025-04-13T11:50:45.739739Z",
     "iopub.status.busy": "2025-04-13T11:50:45.739336Z",
     "iopub.status.idle": "2025-04-13T11:50:45.745206Z",
     "shell.execute_reply": "2025-04-13T11:50:45.744072Z"
    },
    "papermill": {
     "duration": 0.022072,
     "end_time": "2025-04-13T11:50:45.747024",
     "exception": false,
     "start_time": "2025-04-13T11:50:45.724952",
     "status": "completed"
    },
    "tags": []
   },
   "outputs": [],
   "source": [
    "df.drop('Sex', axis=1, inplace=True) "
   ]
  },
  {
   "cell_type": "code",
   "execution_count": 16,
   "id": "ca4d704b",
   "metadata": {
    "execution": {
     "iopub.execute_input": "2025-04-13T11:50:45.776646Z",
     "iopub.status.busy": "2025-04-13T11:50:45.776276Z",
     "iopub.status.idle": "2025-04-13T11:50:45.782162Z",
     "shell.execute_reply": "2025-04-13T11:50:45.780940Z"
    },
    "papermill": {
     "duration": 0.022534,
     "end_time": "2025-04-13T11:50:45.784230",
     "exception": false,
     "start_time": "2025-04-13T11:50:45.761696",
     "status": "completed"
    },
    "tags": []
   },
   "outputs": [],
   "source": [
    "df = df.rename(columns = {'male':'Sex'}) "
   ]
  },
  {
   "cell_type": "markdown",
   "id": "99d06e98",
   "metadata": {
    "papermill": {
     "duration": 0.013223,
     "end_time": "2025-04-13T11:50:45.810679",
     "exception": false,
     "start_time": "2025-04-13T11:50:45.797456",
     "status": "completed"
    },
    "tags": []
   },
   "source": [
    "### 3. 🔍 **Col: Age** "
   ]
  },
  {
   "cell_type": "code",
   "execution_count": 17,
   "id": "4373304d",
   "metadata": {
    "execution": {
     "iopub.execute_input": "2025-04-13T11:50:45.838658Z",
     "iopub.status.busy": "2025-04-13T11:50:45.838278Z",
     "iopub.status.idle": "2025-04-13T11:50:45.848568Z",
     "shell.execute_reply": "2025-04-13T11:50:45.847446Z"
    },
    "papermill": {
     "duration": 0.026681,
     "end_time": "2025-04-13T11:50:45.850630",
     "exception": false,
     "start_time": "2025-04-13T11:50:45.823949",
     "status": "completed"
    },
    "tags": []
   },
   "outputs": [
    {
     "data": {
      "text/plain": [
       "count    714.000000\n",
       "mean      29.699118\n",
       "std       14.526497\n",
       "min        0.420000\n",
       "25%       20.125000\n",
       "50%       28.000000\n",
       "75%       38.000000\n",
       "max       80.000000\n",
       "Name: Age, dtype: float64"
      ]
     },
     "execution_count": 17,
     "metadata": {},
     "output_type": "execute_result"
    }
   ],
   "source": [
    "df['Age'].describe() "
   ]
  },
  {
   "cell_type": "code",
   "execution_count": 18,
   "id": "8dc3d55c",
   "metadata": {
    "execution": {
     "iopub.execute_input": "2025-04-13T11:50:45.880392Z",
     "iopub.status.busy": "2025-04-13T11:50:45.880032Z",
     "iopub.status.idle": "2025-04-13T11:50:45.886835Z",
     "shell.execute_reply": "2025-04-13T11:50:45.885653Z"
    },
    "papermill": {
     "duration": 0.023073,
     "end_time": "2025-04-13T11:50:45.888909",
     "exception": false,
     "start_time": "2025-04-13T11:50:45.865836",
     "status": "completed"
    },
    "tags": []
   },
   "outputs": [
    {
     "data": {
      "text/plain": [
       "177"
      ]
     },
     "execution_count": 18,
     "metadata": {},
     "output_type": "execute_result"
    }
   ],
   "source": [
    "missing_ages = np.where(df['Age'].isnull())    \n",
    "len(missing_ages[0])  "
   ]
  },
  {
   "cell_type": "code",
   "execution_count": 19,
   "id": "1cf4f118",
   "metadata": {
    "execution": {
     "iopub.execute_input": "2025-04-13T11:50:45.916788Z",
     "iopub.status.busy": "2025-04-13T11:50:45.916396Z",
     "iopub.status.idle": "2025-04-13T11:50:45.921103Z",
     "shell.execute_reply": "2025-04-13T11:50:45.920096Z"
    },
    "papermill": {
     "duration": 0.02076,
     "end_time": "2025-04-13T11:50:45.922926",
     "exception": false,
     "start_time": "2025-04-13T11:50:45.902166",
     "status": "completed"
    },
    "tags": []
   },
   "outputs": [],
   "source": [
    "sns.set_style('whitegrid') "
   ]
  },
  {
   "cell_type": "code",
   "execution_count": 20,
   "id": "bca72a38",
   "metadata": {
    "execution": {
     "iopub.execute_input": "2025-04-13T11:50:46.012486Z",
     "iopub.status.busy": "2025-04-13T11:50:46.012080Z",
     "iopub.status.idle": "2025-04-13T11:50:46.481982Z",
     "shell.execute_reply": "2025-04-13T11:50:46.480536Z"
    },
    "papermill": {
     "duration": 0.547963,
     "end_time": "2025-04-13T11:50:46.484180",
     "exception": false,
     "start_time": "2025-04-13T11:50:45.936217",
     "status": "completed"
    },
    "tags": []
   },
   "outputs": [
    {
     "data": {
      "image/png": "[encoded data removed]",
      "text/plain": [
       "<Figure size 640x480 with 1 Axes>"
      ]
     },
     "metadata": {},
     "output_type": "display_data"
    }
   ],
   "source": [
    "sns.histplot(df['Age'].dropna(), \n",
    "             bins=30,\n",
    "             kde=True) \n",
    "\n",
    "plt.title('Age Distribution')\n",
    "plt.ylabel('Frequency')\n",
    "plt.show() "
   ]
  },
  {
   "cell_type": "markdown",
   "id": "c56c0106",
   "metadata": {
    "papermill": {
     "duration": 0.013789,
     "end_time": "2025-04-13T11:50:46.513701",
     "exception": false,
     "start_time": "2025-04-13T11:50:46.499912",
     "status": "completed"
    },
    "tags": []
   },
   "source": [
    "### 📝 ***Conclusion*** :  \n",
    "\n",
    "1. The Age column had 177 missing values.\n",
    "\n",
    "2. A skewed towards younger passengers between 20-30 years old. \n",
    "   \n",
    "3. Since age is a numerical feature that needs to be used for prediction --> It is necessary to deal with these missing values.   "
   ]
  },
  {
   "cell_type": "code",
   "execution_count": 21,
   "id": "5c8b2402",
   "metadata": {
    "execution": {
     "iopub.execute_input": "2025-04-13T11:50:46.544464Z",
     "iopub.status.busy": "2025-04-13T11:50:46.544075Z",
     "iopub.status.idle": "2025-04-13T11:50:46.782199Z",
     "shell.execute_reply": "2025-04-13T11:50:46.780833Z"
    },
    "papermill": {
     "duration": 0.256205,
     "end_time": "2025-04-13T11:50:46.784360",
     "exception": false,
     "start_time": "2025-04-13T11:50:46.528155",
     "status": "completed"
    },
    "tags": []
   },
   "outputs": [
    {
     "data": {
      "image/png": "[encoded data removed]",
      "text/plain": [
       "<Figure size 640x480 with 1 Axes>"
      ]
     },
     "metadata": {},
     "output_type": "display_data"
    }
   ],
   "source": [
    "sns.boxplot(x='Pclass', \n",
    "            y='Age', \n",
    "            data=df) \n",
    "\n",
    "plt.xlabel('Passenger Class')\n",
    "plt.title('Age Distribution by Class')\n",
    "plt.show() "
   ]
  },
  {
   "cell_type": "markdown",
   "id": "92d6ea3c",
   "metadata": {
    "papermill": {
     "duration": 0.014579,
     "end_time": "2025-04-13T11:50:46.814091",
     "exception": false,
     "start_time": "2025-04-13T11:50:46.799512",
     "status": "completed"
    },
    "tags": []
   },
   "source": [
    "### 📝 ***Conclusion*** :  \n",
    "\n",
    "* The median age of the First Class is higher than that of the Second Class and Third Class. "
   ]
  },
  {
   "cell_type": "code",
   "execution_count": 22,
   "id": "2fcac64b",
   "metadata": {
    "execution": {
     "iopub.execute_input": "2025-04-13T11:50:46.845886Z",
     "iopub.status.busy": "2025-04-13T11:50:46.845359Z",
     "iopub.status.idle": "2025-04-13T11:50:46.857646Z",
     "shell.execute_reply": "2025-04-13T11:50:46.856514Z"
    },
    "papermill": {
     "duration": 0.030299,
     "end_time": "2025-04-13T11:50:46.859687",
     "exception": false,
     "start_time": "2025-04-13T11:50:46.829388",
     "status": "completed"
    },
    "tags": []
   },
   "outputs": [
    {
     "data": {
      "text/plain": [
       "Pclass\n",
       "1    37.0\n",
       "2    29.0\n",
       "3    24.0\n",
       "Name: Age, dtype: float64"
      ]
     },
     "execution_count": 22,
     "metadata": {},
     "output_type": "execute_result"
    }
   ],
   "source": [
    "df.groupby('Pclass')['Age'].median() "
   ]
  },
  {
   "cell_type": "code",
   "execution_count": 23,
   "id": "b3edb827",
   "metadata": {
    "execution": {
     "iopub.execute_input": "2025-04-13T11:50:46.891759Z",
     "iopub.status.busy": "2025-04-13T11:50:46.891313Z",
     "iopub.status.idle": "2025-04-13T11:50:46.896851Z",
     "shell.execute_reply": "2025-04-13T11:50:46.895691Z"
    },
    "papermill": {
     "duration": 0.023831,
     "end_time": "2025-04-13T11:50:46.898858",
     "exception": false,
     "start_time": "2025-04-13T11:50:46.875027",
     "status": "completed"
    },
    "tags": []
   },
   "outputs": [],
   "source": [
    "def impute_ages(cols):\n",
    "    Age = cols[0]\n",
    "    Pclass = cols[1] \n",
    "\n",
    "    if pd.isnull(Age):\n",
    "        if Pclass == 1:\n",
    "            return 37 \n",
    "        elif Pclass == 2: \n",
    "            return 29 \n",
    "        else:\n",
    "            return 24 \n",
    "    else: \n",
    "        return Age"
   ]
  },
  {
   "cell_type": "code",
   "execution_count": 24,
   "id": "bba5ecca",
   "metadata": {
    "execution": {
     "iopub.execute_input": "2025-04-13T11:50:46.931171Z",
     "iopub.status.busy": "2025-04-13T11:50:46.930816Z",
     "iopub.status.idle": "2025-04-13T11:50:46.965409Z",
     "shell.execute_reply": "2025-04-13T11:50:46.964117Z"
    },
    "papermill": {
     "duration": 0.053919,
     "end_time": "2025-04-13T11:50:46.967610",
     "exception": false,
     "start_time": "2025-04-13T11:50:46.913691",
     "status": "completed"
    },
    "tags": []
   },
   "outputs": [],
   "source": [
    "df['Age'] = df[['Age', 'Pclass']].apply(impute_ages, axis=1)  "
   ]
  },
  {
   "cell_type": "code",
   "execution_count": 25,
   "id": "f6e289ac",
   "metadata": {
    "execution": {
     "iopub.execute_input": "2025-04-13T11:50:46.998595Z",
     "iopub.status.busy": "2025-04-13T11:50:46.998224Z",
     "iopub.status.idle": "2025-04-13T11:50:47.282358Z",
     "shell.execute_reply": "2025-04-13T11:50:47.281120Z"
    },
    "papermill": {
     "duration": 0.3018,
     "end_time": "2025-04-13T11:50:47.284278",
     "exception": false,
     "start_time": "2025-04-13T11:50:46.982478",
     "status": "completed"
    },
    "tags": []
   },
   "outputs": [
    {
     "data": {
      "text/plain": [
       "<Axes: >"
      ]
     },
     "execution_count": 25,
     "metadata": {},
     "output_type": "execute_result"
    },
    {
     "data": {
      "image/png": "[encoded data removed]",
      "text/plain": [
       "<Figure size 640x480 with 1 Axes>"
      ]
     },
     "metadata": {},
     "output_type": "display_data"
    }
   ],
   "source": [
    "sns.heatmap(df.isnull(), yticklabels=False, cbar=False) "
   ]
  },
  {
   "cell_type": "markdown",
   "id": "af93ece4",
   "metadata": {
    "papermill": {
     "duration": 0.015601,
     "end_time": "2025-04-13T11:50:47.315511",
     "exception": false,
     "start_time": "2025-04-13T11:50:47.299910",
     "status": "completed"
    },
    "tags": []
   },
   "source": [
    "### 4. 🔍 **Col: Ticket**\n"
   ]
  },
  {
   "cell_type": "code",
   "execution_count": 26,
   "id": "ea993ca4",
   "metadata": {
    "execution": {
     "iopub.execute_input": "2025-04-13T11:50:47.347596Z",
     "iopub.status.busy": "2025-04-13T11:50:47.347242Z",
     "iopub.status.idle": "2025-04-13T11:50:47.354762Z",
     "shell.execute_reply": "2025-04-13T11:50:47.353724Z"
    },
    "papermill": {
     "duration": 0.02519,
     "end_time": "2025-04-13T11:50:47.356506",
     "exception": false,
     "start_time": "2025-04-13T11:50:47.331316",
     "status": "completed"
    },
    "tags": []
   },
   "outputs": [
    {
     "data": {
      "text/plain": [
       "0           A/5 21171\n",
       "1            PC 17599\n",
       "2    STON/O2. 3101282\n",
       "3              113803\n",
       "4              373450\n",
       "5              330877\n",
       "6               17463\n",
       "7              349909\n",
       "8              347742\n",
       "9              237736\n",
       "Name: Ticket, dtype: object"
      ]
     },
     "execution_count": 26,
     "metadata": {},
     "output_type": "execute_result"
    }
   ],
   "source": [
    "df['Ticket'][0:10] "
   ]
  },
  {
   "cell_type": "code",
   "execution_count": 27,
   "id": "d65a3583",
   "metadata": {
    "execution": {
     "iopub.execute_input": "2025-04-13T11:50:47.391566Z",
     "iopub.status.busy": "2025-04-13T11:50:47.391194Z",
     "iopub.status.idle": "2025-04-13T11:50:47.400497Z",
     "shell.execute_reply": "2025-04-13T11:50:47.399090Z"
    },
    "papermill": {
     "duration": 0.029324,
     "end_time": "2025-04-13T11:50:47.402409",
     "exception": false,
     "start_time": "2025-04-13T11:50:47.373085",
     "status": "completed"
    },
    "tags": []
   },
   "outputs": [
    {
     "data": {
      "text/plain": [
       "count        891\n",
       "unique       681\n",
       "top       347082\n",
       "freq           7\n",
       "Name: Ticket, dtype: object"
      ]
     },
     "execution_count": 27,
     "metadata": {},
     "output_type": "execute_result"
    }
   ],
   "source": [
    "df['Ticket'].describe() "
   ]
  },
  {
   "cell_type": "markdown",
   "id": "84077ad4",
   "metadata": {
    "papermill": {
     "duration": 0.016386,
     "end_time": "2025-04-13T11:50:47.435731",
     "exception": false,
     "start_time": "2025-04-13T11:50:47.419345",
     "status": "completed"
    },
    "tags": []
   },
   "source": [
    "### 📝 ***Conclusion*** : \n",
    "\n",
    "1. Ticket is a categorical variable which has **680 unique** values.\n",
    "   \n",
    "2. Categorical variables with almost as many as levels as there are records are often not practical for prediction."
   ]
  },
  {
   "cell_type": "markdown",
   "id": "ee886fd1",
   "metadata": {
    "papermill": {
     "duration": 0.015943,
     "end_time": "2025-04-13T11:50:47.467133",
     "exception": false,
     "start_time": "2025-04-13T11:50:47.451190",
     "status": "completed"
    },
    "tags": []
   },
   "source": [
    "### 🛠️ ***Feature Engineering of Ticket*** :\n",
    "        1. Extract prefix if one ticket including letters.\n",
    "        2. Create a column that contains boolean values to show if the ticket is pure numeric or not. \n",
    "        3. Count the frequency of each ticket. "
   ]
  },
  {
   "cell_type": "code",
   "execution_count": 28,
   "id": "0e7d8cd0",
   "metadata": {
    "execution": {
     "iopub.execute_input": "2025-04-13T11:50:47.501276Z",
     "iopub.status.busy": "2025-04-13T11:50:47.500716Z",
     "iopub.status.idle": "2025-04-13T11:50:47.524161Z",
     "shell.execute_reply": "2025-04-13T11:50:47.522619Z"
    },
    "papermill": {
     "duration": 0.043392,
     "end_time": "2025-04-13T11:50:47.525986",
     "exception": false,
     "start_time": "2025-04-13T11:50:47.482594",
     "status": "completed"
    },
    "tags": []
   },
   "outputs": [
    {
     "data": {
      "text/html": [
       "<div>\n",
       "<style scoped>\n",
       "    .dataframe tbody tr th:only-of-type {\n",
       "        vertical-align: middle;\n",
       "    }\n",
       "\n",
       "    .dataframe tbody tr th {\n",
       "        vertical-align: top;\n",
       "    }\n",
       "\n",
       "    .dataframe thead th {\n",
       "        text-align: right;\n",
       "    }\n",
       "</style>\n",
       "<table border=\"1\" class=\"dataframe\">\n",
       "  <thead>\n",
       "    <tr style=\"text-align: right;\">\n",
       "      <th></th>\n",
       "      <th>Ticket</th>\n",
       "      <th>Ticket_Prefix</th>\n",
       "      <th>Ticket_IsNumeric</th>\n",
       "      <th>Ticket_Freq</th>\n",
       "      <th>Pclass</th>\n",
       "    </tr>\n",
       "  </thead>\n",
       "  <tbody>\n",
       "    <tr>\n",
       "      <th>39</th>\n",
       "      <td>2651</td>\n",
       "      <td>None</td>\n",
       "      <td>1</td>\n",
       "      <td>2</td>\n",
       "      <td>3</td>\n",
       "    </tr>\n",
       "    <tr>\n",
       "      <th>699</th>\n",
       "      <td>348121</td>\n",
       "      <td>None</td>\n",
       "      <td>1</td>\n",
       "      <td>1</td>\n",
       "      <td>3</td>\n",
       "    </tr>\n",
       "    <tr>\n",
       "      <th>730</th>\n",
       "      <td>24160</td>\n",
       "      <td>None</td>\n",
       "      <td>1</td>\n",
       "      <td>3</td>\n",
       "      <td>1</td>\n",
       "    </tr>\n",
       "    <tr>\n",
       "      <th>600</th>\n",
       "      <td>243847</td>\n",
       "      <td>None</td>\n",
       "      <td>1</td>\n",
       "      <td>2</td>\n",
       "      <td>2</td>\n",
       "    </tr>\n",
       "    <tr>\n",
       "      <th>156</th>\n",
       "      <td>35851</td>\n",
       "      <td>None</td>\n",
       "      <td>1</td>\n",
       "      <td>1</td>\n",
       "      <td>3</td>\n",
       "    </tr>\n",
       "    <tr>\n",
       "      <th>508</th>\n",
       "      <td>C 4001</td>\n",
       "      <td>C</td>\n",
       "      <td>0</td>\n",
       "      <td>1</td>\n",
       "      <td>3</td>\n",
       "    </tr>\n",
       "    <tr>\n",
       "      <th>152</th>\n",
       "      <td>A.5. 11206</td>\n",
       "      <td>A5</td>\n",
       "      <td>0</td>\n",
       "      <td>1</td>\n",
       "      <td>3</td>\n",
       "    </tr>\n",
       "    <tr>\n",
       "      <th>733</th>\n",
       "      <td>28425</td>\n",
       "      <td>None</td>\n",
       "      <td>1</td>\n",
       "      <td>1</td>\n",
       "      <td>2</td>\n",
       "    </tr>\n",
       "    <tr>\n",
       "      <th>228</th>\n",
       "      <td>236171</td>\n",
       "      <td>None</td>\n",
       "      <td>1</td>\n",
       "      <td>1</td>\n",
       "      <td>2</td>\n",
       "    </tr>\n",
       "    <tr>\n",
       "      <th>581</th>\n",
       "      <td>17421</td>\n",
       "      <td>None</td>\n",
       "      <td>1</td>\n",
       "      <td>4</td>\n",
       "      <td>1</td>\n",
       "    </tr>\n",
       "  </tbody>\n",
       "</table>\n",
       "</div>"
      ],
      "text/plain": [
       "         Ticket Ticket_Prefix  Ticket_IsNumeric  Ticket_Freq  Pclass\n",
       "39         2651          None                 1            2       3\n",
       "699      348121          None                 1            1       3\n",
       "730       24160          None                 1            3       1\n",
       "600      243847          None                 1            2       2\n",
       "156       35851          None                 1            1       3\n",
       "508      C 4001             C                 0            1       3\n",
       "152  A.5. 11206            A5                 0            1       3\n",
       "733       28425          None                 1            1       2\n",
       "228      236171          None                 1            1       2\n",
       "581       17421          None                 1            4       1"
      ]
     },
     "execution_count": 28,
     "metadata": {},
     "output_type": "execute_result"
    }
   ],
   "source": [
    "def extract_prefix(ticket):\n",
    "    parts = ticket.replace('.', '').replace('/','').split() \n",
    "    prefix = [p for p in parts if not p.isdigit()] \n",
    "    return prefix[0] if prefix else 'None' \n",
    "\n",
    "df['Ticket_Prefix'] = df['Ticket'].apply(extract_prefix) \n",
    "\n",
    "df['Ticket_IsNumeric'] = df['Ticket'].apply(lambda x: x.isdigit()).astype(int) \n",
    "\n",
    "ticket_counts = df['Ticket'].value_counts() \n",
    "df['Ticket_Freq'] = df['Ticket'].map(ticket_counts) \n",
    "\n",
    "df[['Ticket', 'Ticket_Prefix', 'Ticket_IsNumeric', 'Ticket_Freq', 'Pclass']].sample(10) "
   ]
  },
  {
   "cell_type": "markdown",
   "id": "f5f10132",
   "metadata": {
    "papermill": {
     "duration": 0.017206,
     "end_time": "2025-04-13T11:50:47.558969",
     "exception": false,
     "start_time": "2025-04-13T11:50:47.541763",
     "status": "completed"
    },
    "tags": []
   },
   "source": [
    "### 5. 🔍 **Col: Cabin**  "
   ]
  },
  {
   "cell_type": "code",
   "execution_count": 29,
   "id": "dcf46e88",
   "metadata": {
    "execution": {
     "iopub.execute_input": "2025-04-13T11:50:47.592979Z",
     "iopub.status.busy": "2025-04-13T11:50:47.592530Z",
     "iopub.status.idle": "2025-04-13T11:50:47.600110Z",
     "shell.execute_reply": "2025-04-13T11:50:47.598823Z"
    },
    "papermill": {
     "duration": 0.026463,
     "end_time": "2025-04-13T11:50:47.601975",
     "exception": false,
     "start_time": "2025-04-13T11:50:47.575512",
     "status": "completed"
    },
    "tags": []
   },
   "outputs": [
    {
     "data": {
      "text/plain": [
       "0     NaN\n",
       "1     C85\n",
       "2     NaN\n",
       "3    C123\n",
       "4     NaN\n",
       "5     NaN\n",
       "6     E46\n",
       "7     NaN\n",
       "8     NaN\n",
       "9     NaN\n",
       "Name: Cabin, dtype: object"
      ]
     },
     "execution_count": 29,
     "metadata": {},
     "output_type": "execute_result"
    }
   ],
   "source": [
    "df['Cabin'][0:10]"
   ]
  },
  {
   "cell_type": "code",
   "execution_count": 30,
   "id": "57b6d138",
   "metadata": {
    "execution": {
     "iopub.execute_input": "2025-04-13T11:50:47.634894Z",
     "iopub.status.busy": "2025-04-13T11:50:47.634418Z",
     "iopub.status.idle": "2025-04-13T11:50:47.643661Z",
     "shell.execute_reply": "2025-04-13T11:50:47.642204Z"
    },
    "papermill": {
     "duration": 0.02752,
     "end_time": "2025-04-13T11:50:47.645538",
     "exception": false,
     "start_time": "2025-04-13T11:50:47.618018",
     "status": "completed"
    },
    "tags": []
   },
   "outputs": [
    {
     "data": {
      "text/plain": [
       "count         204\n",
       "unique        147\n",
       "top       B96 B98\n",
       "freq            4\n",
       "Name: Cabin, dtype: object"
      ]
     },
     "execution_count": 30,
     "metadata": {},
     "output_type": "execute_result"
    }
   ],
   "source": [
    "df['Cabin'].describe() "
   ]
  },
  {
   "cell_type": "markdown",
   "id": "79bf19e3",
   "metadata": {
    "papermill": {
     "duration": 0.015561,
     "end_time": "2025-04-13T11:50:47.676891",
     "exception": false,
     "start_time": "2025-04-13T11:50:47.661330",
     "status": "completed"
    },
    "tags": []
   },
   "source": [
    "1. The Cabin column has 147 unique values, which may not be particularly useful for prediction.\n",
    "\n",
    "2. On the other hand, the names for the cabin variable seem to have a regular structure: a capital letter followed by a number --> use this structure to reduce the number of levels to make categories large enough, which may be useful for prediction.  "
   ]
  },
  {
   "cell_type": "code",
   "execution_count": 31,
   "id": "3b58d5b8",
   "metadata": {
    "execution": {
     "iopub.execute_input": "2025-04-13T11:50:47.711189Z",
     "iopub.status.busy": "2025-04-13T11:50:47.710699Z",
     "iopub.status.idle": "2025-04-13T11:50:47.727842Z",
     "shell.execute_reply": "2025-04-13T11:50:47.726411Z"
    },
    "papermill": {
     "duration": 0.035814,
     "end_time": "2025-04-13T11:50:47.729768",
     "exception": false,
     "start_time": "2025-04-13T11:50:47.693954",
     "status": "completed"
    },
    "tags": []
   },
   "outputs": [
    {
     "data": {
      "text/html": [
       "<div>\n",
       "<style scoped>\n",
       "    .dataframe tbody tr th:only-of-type {\n",
       "        vertical-align: middle;\n",
       "    }\n",
       "\n",
       "    .dataframe tbody tr th {\n",
       "        vertical-align: top;\n",
       "    }\n",
       "\n",
       "    .dataframe thead th {\n",
       "        text-align: right;\n",
       "    }\n",
       "</style>\n",
       "<table border=\"1\" class=\"dataframe\">\n",
       "  <thead>\n",
       "    <tr style=\"text-align: right;\">\n",
       "      <th></th>\n",
       "      <th>counts</th>\n",
       "      <th>freqs</th>\n",
       "    </tr>\n",
       "    <tr>\n",
       "      <th>categories</th>\n",
       "      <th></th>\n",
       "      <th></th>\n",
       "    </tr>\n",
       "  </thead>\n",
       "  <tbody>\n",
       "    <tr>\n",
       "      <th>A</th>\n",
       "      <td>15</td>\n",
       "      <td>0.016835</td>\n",
       "    </tr>\n",
       "    <tr>\n",
       "      <th>B</th>\n",
       "      <td>47</td>\n",
       "      <td>0.052750</td>\n",
       "    </tr>\n",
       "    <tr>\n",
       "      <th>C</th>\n",
       "      <td>59</td>\n",
       "      <td>0.066218</td>\n",
       "    </tr>\n",
       "    <tr>\n",
       "      <th>D</th>\n",
       "      <td>33</td>\n",
       "      <td>0.037037</td>\n",
       "    </tr>\n",
       "    <tr>\n",
       "      <th>E</th>\n",
       "      <td>32</td>\n",
       "      <td>0.035915</td>\n",
       "    </tr>\n",
       "    <tr>\n",
       "      <th>F</th>\n",
       "      <td>13</td>\n",
       "      <td>0.014590</td>\n",
       "    </tr>\n",
       "    <tr>\n",
       "      <th>G</th>\n",
       "      <td>4</td>\n",
       "      <td>0.004489</td>\n",
       "    </tr>\n",
       "    <tr>\n",
       "      <th>T</th>\n",
       "      <td>1</td>\n",
       "      <td>0.001122</td>\n",
       "    </tr>\n",
       "    <tr>\n",
       "      <th>n</th>\n",
       "      <td>687</td>\n",
       "      <td>0.771044</td>\n",
       "    </tr>\n",
       "  </tbody>\n",
       "</table>\n",
       "</div>"
      ],
      "text/plain": [
       "            counts     freqs\n",
       "categories                  \n",
       "A               15  0.016835\n",
       "B               47  0.052750\n",
       "C               59  0.066218\n",
       "D               33  0.037037\n",
       "E               32  0.035915\n",
       "F               13  0.014590\n",
       "G                4  0.004489\n",
       "T                1  0.001122\n",
       "n              687  0.771044"
      ]
     },
     "execution_count": 31,
     "metadata": {},
     "output_type": "execute_result"
    }
   ],
   "source": [
    "convert_cabin = df['Cabin'].astype(str) \n",
    "\n",
    "new_cabin = np.array([Cabin[0] for Cabin in convert_cabin])  \n",
    "new_cabin = pd.Categorical(new_cabin)\n",
    "\n",
    "new_cabin.describe() "
   ]
  },
  {
   "cell_type": "markdown",
   "id": "9cfd2930",
   "metadata": {
    "papermill": {
     "duration": 0.016131,
     "end_time": "2025-04-13T11:50:47.763022",
     "exception": false,
     "start_time": "2025-04-13T11:50:47.746891",
     "status": "completed"
    },
    "tags": []
   },
   "source": [
    "### 6. 🔍 **Combine Col SibSp with Col Parch to Create a New Variable: Family**  "
   ]
  },
  {
   "cell_type": "code",
   "execution_count": 32,
   "id": "7243894d",
   "metadata": {
    "execution": {
     "iopub.execute_input": "2025-04-13T11:50:47.796155Z",
     "iopub.status.busy": "2025-04-13T11:50:47.795647Z",
     "iopub.status.idle": "2025-04-13T11:50:47.809699Z",
     "shell.execute_reply": "2025-04-13T11:50:47.808726Z"
    },
    "papermill": {
     "duration": 0.032698,
     "end_time": "2025-04-13T11:50:47.811490",
     "exception": false,
     "start_time": "2025-04-13T11:50:47.778792",
     "status": "completed"
    },
    "tags": []
   },
   "outputs": [
    {
     "data": {
      "text/html": [
       "<div>\n",
       "<style scoped>\n",
       "    .dataframe tbody tr th:only-of-type {\n",
       "        vertical-align: middle;\n",
       "    }\n",
       "\n",
       "    .dataframe tbody tr th {\n",
       "        vertical-align: top;\n",
       "    }\n",
       "\n",
       "    .dataframe thead th {\n",
       "        text-align: right;\n",
       "    }\n",
       "</style>\n",
       "<table border=\"1\" class=\"dataframe\">\n",
       "  <thead>\n",
       "    <tr style=\"text-align: right;\">\n",
       "      <th></th>\n",
       "      <th>Name</th>\n",
       "      <th>Ticket_Prefix</th>\n",
       "      <th>Pclass</th>\n",
       "      <th>Family</th>\n",
       "      <th>Survived</th>\n",
       "    </tr>\n",
       "  </thead>\n",
       "  <tbody>\n",
       "    <tr>\n",
       "      <th>159</th>\n",
       "      <td>Sage, Master. Thomas Henry</td>\n",
       "      <td>CA</td>\n",
       "      <td>3</td>\n",
       "      <td>10</td>\n",
       "      <td>0</td>\n",
       "    </tr>\n",
       "    <tr>\n",
       "      <th>180</th>\n",
       "      <td>Sage, Miss. Constance Gladys</td>\n",
       "      <td>CA</td>\n",
       "      <td>3</td>\n",
       "      <td>10</td>\n",
       "      <td>0</td>\n",
       "    </tr>\n",
       "    <tr>\n",
       "      <th>201</th>\n",
       "      <td>Sage, Mr. Frederick</td>\n",
       "      <td>CA</td>\n",
       "      <td>3</td>\n",
       "      <td>10</td>\n",
       "      <td>0</td>\n",
       "    </tr>\n",
       "    <tr>\n",
       "      <th>324</th>\n",
       "      <td>Sage, Mr. George John Jr</td>\n",
       "      <td>CA</td>\n",
       "      <td>3</td>\n",
       "      <td>10</td>\n",
       "      <td>0</td>\n",
       "    </tr>\n",
       "    <tr>\n",
       "      <th>792</th>\n",
       "      <td>Sage, Miss. Stella Anna</td>\n",
       "      <td>CA</td>\n",
       "      <td>3</td>\n",
       "      <td>10</td>\n",
       "      <td>0</td>\n",
       "    </tr>\n",
       "    <tr>\n",
       "      <th>846</th>\n",
       "      <td>Sage, Mr. Douglas Bullen</td>\n",
       "      <td>CA</td>\n",
       "      <td>3</td>\n",
       "      <td>10</td>\n",
       "      <td>0</td>\n",
       "    </tr>\n",
       "    <tr>\n",
       "      <th>863</th>\n",
       "      <td>Sage, Miss. Dorothy Edith \"Dolly\"</td>\n",
       "      <td>CA</td>\n",
       "      <td>3</td>\n",
       "      <td>10</td>\n",
       "      <td>0</td>\n",
       "    </tr>\n",
       "  </tbody>\n",
       "</table>\n",
       "</div>"
      ],
      "text/plain": [
       "                                  Name Ticket_Prefix  Pclass  Family  Survived\n",
       "159         Sage, Master. Thomas Henry            CA       3      10         0\n",
       "180       Sage, Miss. Constance Gladys            CA       3      10         0\n",
       "201                Sage, Mr. Frederick            CA       3      10         0\n",
       "324           Sage, Mr. George John Jr            CA       3      10         0\n",
       "792            Sage, Miss. Stella Anna            CA       3      10         0\n",
       "846           Sage, Mr. Douglas Bullen            CA       3      10         0\n",
       "863  Sage, Miss. Dorothy Edith \"Dolly\"            CA       3      10         0"
      ]
     },
     "execution_count": 32,
     "metadata": {},
     "output_type": "execute_result"
    }
   ],
   "source": [
    "df['Family'] = df['SibSp'] + df['Parch'] \n",
    "\n",
    "most_family = np.where(df['Family'] == max(df['Family'])) \n",
    "df[['Name', 'Ticket_Prefix', 'Pclass', 'Family', 'Survived']].loc[most_family]   "
   ]
  },
  {
   "cell_type": "code",
   "execution_count": 33,
   "id": "25ab1e53",
   "metadata": {
    "execution": {
     "iopub.execute_input": "2025-04-13T11:50:47.847009Z",
     "iopub.status.busy": "2025-04-13T11:50:47.846628Z",
     "iopub.status.idle": "2025-04-13T11:50:47.859267Z",
     "shell.execute_reply": "2025-04-13T11:50:47.857761Z"
    },
    "papermill": {
     "duration": 0.032304,
     "end_time": "2025-04-13T11:50:47.861353",
     "exception": false,
     "start_time": "2025-04-13T11:50:47.829049",
     "status": "completed"
    },
    "tags": []
   },
   "outputs": [
    {
     "name": "stdout",
     "output_type": "stream",
     "text": [
      "<class 'pandas.core.frame.DataFrame'>\n",
      "RangeIndex: 891 entries, 0 to 890\n",
      "Data columns (total 15 columns):\n",
      " #   Column            Non-Null Count  Dtype  \n",
      "---  ------            --------------  -----  \n",
      " 0   Survived          891 non-null    int64  \n",
      " 1   Pclass            891 non-null    int64  \n",
      " 2   Name              891 non-null    object \n",
      " 3   Age               891 non-null    float64\n",
      " 4   SibSp             891 non-null    int64  \n",
      " 5   Parch             891 non-null    int64  \n",
      " 6   Ticket            891 non-null    object \n",
      " 7   Fare              891 non-null    float64\n",
      " 8   Cabin             204 non-null    object \n",
      " 9   Embarked          889 non-null    object \n",
      " 10  Sex               891 non-null    int64  \n",
      " 11  Ticket_Prefix     891 non-null    object \n",
      " 12  Ticket_IsNumeric  891 non-null    int64  \n",
      " 13  Ticket_Freq       891 non-null    int64  \n",
      " 14  Family            891 non-null    int64  \n",
      "dtypes: float64(2), int64(8), object(5)\n",
      "memory usage: 104.5+ KB\n"
     ]
    }
   ],
   "source": [
    "df.info() "
   ]
  },
  {
   "cell_type": "markdown",
   "id": "bbbb1b61",
   "metadata": {
    "papermill": {
     "duration": 0.016089,
     "end_time": "2025-04-13T11:50:47.894172",
     "exception": false,
     "start_time": "2025-04-13T11:50:47.878083",
     "status": "completed"
    },
    "tags": []
   },
   "source": [
    "# 🎥   ***Data Visualization***   "
   ]
  },
  {
   "cell_type": "markdown",
   "id": "bec66ee2",
   "metadata": {
    "papermill": {
     "duration": 0.016131,
     "end_time": "2025-04-13T11:50:47.926704",
     "exception": false,
     "start_time": "2025-04-13T11:50:47.910573",
     "status": "completed"
    },
    "tags": []
   },
   "source": [
    "### 1. 🔍 **Survivial Rate Distribution**"
   ]
  },
  {
   "cell_type": "code",
   "execution_count": 34,
   "id": "5eea448c",
   "metadata": {
    "execution": {
     "iopub.execute_input": "2025-04-13T11:50:47.960673Z",
     "iopub.status.busy": "2025-04-13T11:50:47.960299Z",
     "iopub.status.idle": "2025-04-13T11:50:48.147863Z",
     "shell.execute_reply": "2025-04-13T11:50:48.146720Z"
    },
    "papermill": {
     "duration": 0.20656,
     "end_time": "2025-04-13T11:50:48.149802",
     "exception": false,
     "start_time": "2025-04-13T11:50:47.943242",
     "status": "completed"
    },
    "tags": []
   },
   "outputs": [
    {
     "data": {
      "image/png": "[encoded data removed]",
      "text/plain": [
       "<Figure size 640x480 with 1 Axes>"
      ]
     },
     "metadata": {},
     "output_type": "display_data"
    }
   ],
   "source": [
    "df['Survived'].value_counts().plot(kind='pie',\n",
    "                                   startangle= 90, \n",
    "                                   autopct = '%1.1f%%') \n",
    "\n",
    "plt.ylabel('')\n",
    "plt.title('Distribution of Survival Rates')\n",
    "plt.show()   "
   ]
  },
  {
   "cell_type": "markdown",
   "id": "b239eb75",
   "metadata": {
    "papermill": {
     "duration": 0.025984,
     "end_time": "2025-04-13T11:50:48.205371",
     "exception": false,
     "start_time": "2025-04-13T11:50:48.179387",
     "status": "completed"
    },
    "tags": []
   },
   "source": [
    "### 2. 🔍 **Create a subplot that displays the count of survivors categorized by gender & port of embarkation & Pclass**"
   ]
  },
  {
   "cell_type": "code",
   "execution_count": 35,
   "id": "9ca0ef0f",
   "metadata": {
    "execution": {
     "iopub.execute_input": "2025-04-13T11:50:48.251308Z",
     "iopub.status.busy": "2025-04-13T11:50:48.250956Z",
     "iopub.status.idle": "2025-04-13T11:50:48.255414Z",
     "shell.execute_reply": "2025-04-13T11:50:48.254309Z"
    },
    "papermill": {
     "duration": 0.031571,
     "end_time": "2025-04-13T11:50:48.257306",
     "exception": false,
     "start_time": "2025-04-13T11:50:48.225735",
     "status": "completed"
    },
    "tags": []
   },
   "outputs": [],
   "source": [
    "cate_cols = ['Sex', 'Embarked', 'Pclass'] \n",
    "target = 'Survived' "
   ]
  },
  {
   "cell_type": "code",
   "execution_count": 36,
   "id": "df5a2974",
   "metadata": {
    "execution": {
     "iopub.execute_input": "2025-04-13T11:50:48.292623Z",
     "iopub.status.busy": "2025-04-13T11:50:48.292254Z",
     "iopub.status.idle": "2025-04-13T11:50:48.323889Z",
     "shell.execute_reply": "2025-04-13T11:50:48.322404Z"
    },
    "papermill": {
     "duration": 0.051643,
     "end_time": "2025-04-13T11:50:48.325831",
     "exception": false,
     "start_time": "2025-04-13T11:50:48.274188",
     "status": "completed"
    },
    "tags": []
   },
   "outputs": [
    {
     "data": {
      "text/plain": [
       "<Figure size 2500x1800 with 0 Axes>"
      ]
     },
     "metadata": {},
     "output_type": "display_data"
    }
   ],
   "source": [
    "fig = plt.figure(figsize = (25, len(cate_cols)*6))  "
   ]
  },
  {
   "cell_type": "code",
   "execution_count": 37,
   "id": "6a4b636b",
   "metadata": {
    "execution": {
     "iopub.execute_input": "2025-04-13T11:50:48.362392Z",
     "iopub.status.busy": "2025-04-13T11:50:48.362011Z",
     "iopub.status.idle": "2025-04-13T11:50:49.009922Z",
     "shell.execute_reply": "2025-04-13T11:50:49.008423Z"
    },
    "papermill": {
     "duration": 0.668684,
     "end_time": "2025-04-13T11:50:49.012102",
     "exception": false,
     "start_time": "2025-04-13T11:50:48.343418",
     "status": "completed"
    },
    "tags": []
   },
   "outputs": [
    {
     "data": {
      "image/png": "[encoded data removed]",
      "text/plain": [
       "<Figure size 640x480 with 3 Axes>"
      ]
     },
     "metadata": {},
     "output_type": "display_data"
    }
   ],
   "source": [
    "for i, col in enumerate(cate_cols):\n",
    "    plt.subplot(len(cate_cols)//2 + len(cate_cols)%2, 2, i+1) \n",
    "    sns.countplot(x=col, hue=target, data=df) \n",
    "    plt.title(f'Count of Victims & Survivors Categorized by {col}', fontsize=8) \n",
    "    plt.ylim(0, df[col].value_counts().max()+10) \n",
    "    plt.ylabel('')\n",
    "\n",
    "\n",
    "plt.tight_layout() \n",
    "plt.show() \n"
   ]
  },
  {
   "cell_type": "markdown",
   "id": "768ec52d",
   "metadata": {
    "papermill": {
     "duration": 0.017378,
     "end_time": "2025-04-13T11:50:49.047416",
     "exception": false,
     "start_time": "2025-04-13T11:50:49.030038",
     "status": "completed"
    },
    "tags": []
   },
   "source": [
    "### 3. 🔍 **Create a histplot that displays the count of survivors categorized by Age**"
   ]
  },
  {
   "cell_type": "code",
   "execution_count": 38,
   "id": "7cb0f420",
   "metadata": {
    "execution": {
     "iopub.execute_input": "2025-04-13T11:50:49.086840Z",
     "iopub.status.busy": "2025-04-13T11:50:49.086431Z",
     "iopub.status.idle": "2025-04-13T11:50:49.566399Z",
     "shell.execute_reply": "2025-04-13T11:50:49.565291Z"
    },
    "papermill": {
     "duration": 0.501286,
     "end_time": "2025-04-13T11:50:49.568113",
     "exception": false,
     "start_time": "2025-04-13T11:50:49.066827",
     "status": "completed"
    },
    "tags": []
   },
   "outputs": [
    {
     "data": {
      "image/png": "[encoded data removed]",
      "text/plain": [
       "<Figure size 640x480 with 1 Axes>"
      ]
     },
     "metadata": {},
     "output_type": "display_data"
    }
   ],
   "source": [
    "sns.histplot(data=df,\n",
    "             x='Age', \n",
    "             hue='Survived', \n",
    "             bins=30,\n",
    "             kde=True) \n",
    "\n",
    "plt.title('Age Distribution of Titanic Victims & Survivors')\n",
    "plt.show()"
   ]
  },
  {
   "cell_type": "markdown",
   "id": "5690c9fc",
   "metadata": {
    "papermill": {
     "duration": 0.021992,
     "end_time": "2025-04-13T11:50:49.608912",
     "exception": false,
     "start_time": "2025-04-13T11:50:49.586920",
     "status": "completed"
    },
    "tags": []
   },
   "source": [
    "### 4. 🔍 **Create a Barplot that Displays Survived Distribution Categorized by Sex in Three Pclasses**"
   ]
  },
  {
   "cell_type": "code",
   "execution_count": null,
   "id": "0b3cf12e",
   "metadata": {
    "papermill": {
     "duration": 0.018655,
     "end_time": "2025-04-13T11:50:49.648059",
     "exception": false,
     "start_time": "2025-04-13T11:50:49.629404",
     "status": "completed"
    },
    "tags": []
   },
   "outputs": [],
   "source": []
  },
  {
   "cell_type": "code",
   "execution_count": 39,
   "id": "1cf3300e",
   "metadata": {
    "execution": {
     "iopub.execute_input": "2025-04-13T11:50:49.686989Z",
     "iopub.status.busy": "2025-04-13T11:50:49.686595Z",
     "iopub.status.idle": "2025-04-13T11:50:50.044839Z",
     "shell.execute_reply": "2025-04-13T11:50:50.043479Z"
    },
    "papermill": {
     "duration": 0.379971,
     "end_time": "2025-04-13T11:50:50.046961",
     "exception": false,
     "start_time": "2025-04-13T11:50:49.666990",
     "status": "completed"
    },
    "tags": []
   },
   "outputs": [
    {
     "data": {
      "image/png": "[encoded data removed]",
      "text/plain": [
       "<Figure size 640x480 with 1 Axes>"
      ]
     },
     "metadata": {},
     "output_type": "display_data"
    }
   ],
   "source": [
    "sns.barplot(x='Pclass',\n",
    "            y = 'Survived', \n",
    "            hue = 'Sex', \n",
    "            data = df) \n",
    "\n",
    "plt.title('Survived Distribution by Sex in Three Pclasses') \n",
    "plt.show() "
   ]
  },
  {
   "cell_type": "code",
   "execution_count": 40,
   "id": "1152be7c",
   "metadata": {
    "execution": {
     "iopub.execute_input": "2025-04-13T11:50:50.090045Z",
     "iopub.status.busy": "2025-04-13T11:50:50.089479Z",
     "iopub.status.idle": "2025-04-13T11:50:50.825049Z",
     "shell.execute_reply": "2025-04-13T11:50:50.823818Z"
    },
    "papermill": {
     "duration": 0.758857,
     "end_time": "2025-04-13T11:50:50.826885",
     "exception": false,
     "start_time": "2025-04-13T11:50:50.068028",
     "status": "completed"
    },
    "tags": []
   },
   "outputs": [
    {
     "data": {
      "image/png": "[encoded data removed]",
      "text/plain": [
       "<Figure size 640x480 with 2 Axes>"
      ]
     },
     "metadata": {},
     "output_type": "display_data"
    }
   ],
   "source": [
    "sns.heatmap(df.corr(numeric_only=True), annot=True)   \n",
    "plt.show() "
   ]
  }
 ],
 "metadata": {
  "kaggle": {
   "accelerator": "none",
   "dataSources": [
    {
     "datasetId": 7093056,
     "sourceId": 11338283,
     "sourceType": "datasetVersion"
    }
   ],
   "dockerImageVersionId": 30918,
   "isGpuEnabled": false,
   "isInternetEnabled": true,
   "language": "python",
   "sourceType": "notebook"
  },
  "kernelspec": {
   "display_name": "Python 3",
   "language": "python",
   "name": "python3"
  },
  "language_info": {
   "codemirror_mode": {
    "name": "ipython",
    "version": 3
   },
   "file_extension": ".py",
   "mimetype": "text/x-python",
   "name": "python",
   "nbconvert_exporter": "python",
   "pygments_lexer": "ipython3",
   "version": "3.10.12"
  },
  "papermill": {
   "default_parameters": {},
   "duration": 16.745813,
   "end_time": "2025-04-13T11:50:51.771679",
   "environment_variables": {},
   "exception": null,
   "input_path": "__notebook__.ipynb",
   "output_path": "__notebook__.ipynb",
   "parameters": {},
   "start_time": "2025-04-13T11:50:35.025866",
   "version": "2.6.0"
  }
 },
 "nbformat": 4,
 "nbformat_minor": 5
}
