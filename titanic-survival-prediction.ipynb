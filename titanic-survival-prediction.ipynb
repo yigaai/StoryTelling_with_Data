{
 "cells": [
  {
   "cell_type": "markdown",
   "id": "86fa2c89",
   "metadata": {
    "papermill": {
     "duration": 0.013529,
     "end_time": "2025-04-14T02:19:15.984560",
     "exception": false,
     "start_time": "2025-04-14T02:19:15.971031",
     "status": "completed"
    },
    "tags": []
   },
   "source": [
    "   # 🛳️ **Titanic Survival Prediction**  \n",
    "\n",
    "   ###   👩🏻‍💻 By Rosy  "
   ]
  },
  {
   "cell_type": "markdown",
   "id": "c3725ace",
   "metadata": {
    "papermill": {
     "duration": 0.012267,
     "end_time": "2025-04-14T02:19:16.009343",
     "exception": false,
     "start_time": "2025-04-14T02:19:15.997076",
     "status": "completed"
    },
    "tags": []
   },
   "source": [
    "# ***🎯 Goals & Tasks:*** \n",
    "\n",
    "* 1. Provide insight by means of data. "
   ]
  },
  {
   "cell_type": "markdown",
   "id": "50ef27d0",
   "metadata": {
    "papermill": {
     "duration": 0.012156,
     "end_time": "2025-04-14T02:19:16.034116",
     "exception": false,
     "start_time": "2025-04-14T02:19:16.021960",
     "status": "completed"
    },
    "tags": []
   },
   "source": [
    "# ***🗂️ Import Libraries*** "
   ]
  },
  {
   "cell_type": "code",
   "execution_count": 1,
   "id": "14e263a9",
   "metadata": {
    "execution": {
     "iopub.execute_input": "2025-04-14T02:19:16.062123Z",
     "iopub.status.busy": "2025-04-14T02:19:16.061720Z",
     "iopub.status.idle": "2025-04-14T02:19:20.902400Z",
     "shell.execute_reply": "2025-04-14T02:19:20.901046Z"
    },
    "papermill": {
     "duration": 4.857279,
     "end_time": "2025-04-14T02:19:20.904684",
     "exception": false,
     "start_time": "2025-04-14T02:19:16.047405",
     "status": "completed"
    },
    "tags": []
   },
   "outputs": [],
   "source": [
    "import os\n",
    "\n",
    "import pandas as pd\n",
    "import numpy as np\n",
    "\n",
    "\n",
    "import matplotlib.pyplot as plt\n",
    "import seaborn as sns\n",
    "import plotly.express as px\n",
    "\n",
    "\n",
    "from sklearn.preprocessing import StandardScaler, LabelEncoder, MinMaxScaler\n",
    "\n",
    "\n",
    "from sklearn.model_selection import train_test_split, GridSearchCV, cross_val_score\n",
    "\n",
    "from sklearn.linear_model import LogisticRegression\n",
    "from sklearn.neighbors import KNeighborsClassifier\n",
    "from sklearn.svm import SVC\n",
    "from sklearn.tree import DecisionTreeClassifier\n",
    "from sklearn.ensemble import RandomForestClassifier, AdaBoostClassifier, GradientBoostingClassifier, RandomForestRegressor\n",
    "from xgboost import XGBClassifier\n",
    "\n",
    "\n",
    "from sklearn.metrics import classification_report\n",
    "from sklearn.metrics import confusion_matrix\n",
    "from sklearn.metrics import accuracy_score, f1_score, precision_score, recall_score\n",
    "\n",
    "\n",
    "import warnings \n",
    "warnings.filterwarnings('ignore') "
   ]
  },
  {
   "cell_type": "markdown",
   "id": "914a578b",
   "metadata": {
    "papermill": {
     "duration": 0.013052,
     "end_time": "2025-04-14T02:19:20.931733",
     "exception": false,
     "start_time": "2025-04-14T02:19:20.918681",
     "status": "completed"
    },
    "tags": []
   },
   "source": [
    "# ***⏳ Data Loading*** "
   ]
  },
  {
   "cell_type": "code",
   "execution_count": 2,
   "id": "4ab0cac4",
   "metadata": {
    "execution": {
     "iopub.execute_input": "2025-04-14T02:19:20.960373Z",
     "iopub.status.busy": "2025-04-14T02:19:20.959632Z",
     "iopub.status.idle": "2025-04-14T02:19:20.993242Z",
     "shell.execute_reply": "2025-04-14T02:19:20.991847Z"
    },
    "papermill": {
     "duration": 0.050842,
     "end_time": "2025-04-14T02:19:20.995813",
     "exception": false,
     "start_time": "2025-04-14T02:19:20.944971",
     "status": "completed"
    },
    "tags": []
   },
   "outputs": [],
   "source": [
    "os.listdir('/kaggle/input/titanic-data')  \n",
    "df = pd.read_csv('/kaggle/input/titanic-data/train.csv') "
   ]
  },
  {
   "cell_type": "markdown",
   "id": "2bbb7f1b",
   "metadata": {
    "papermill": {
     "duration": 0.012173,
     "end_time": "2025-04-14T02:19:21.021375",
     "exception": false,
     "start_time": "2025-04-14T02:19:21.009202",
     "status": "completed"
    },
    "tags": []
   },
   "source": [
    "# ***🔭 Data Exploration***  "
   ]
  },
  {
   "cell_type": "markdown",
   "id": "f1347aa6",
   "metadata": {
    "papermill": {
     "duration": 0.012599,
     "end_time": "2025-04-14T02:19:21.046324",
     "exception": false,
     "start_time": "2025-04-14T02:19:21.033725",
     "status": "completed"
    },
    "tags": []
   },
   "source": [
    "### 1. 🔍 **Take a Glimpse of Data**"
   ]
  },
  {
   "cell_type": "code",
   "execution_count": 3,
   "id": "a406f22b",
   "metadata": {
    "execution": {
     "iopub.execute_input": "2025-04-14T02:19:21.072649Z",
     "iopub.status.busy": "2025-04-14T02:19:21.072259Z",
     "iopub.status.idle": "2025-04-14T02:19:21.105654Z",
     "shell.execute_reply": "2025-04-14T02:19:21.104204Z"
    },
    "papermill": {
     "duration": 0.049182,
     "end_time": "2025-04-14T02:19:21.107957",
     "exception": false,
     "start_time": "2025-04-14T02:19:21.058775",
     "status": "completed"
    },
    "tags": []
   },
   "outputs": [
    {
     "data": {
      "text/html": [
       "<div>\n",
       "<style scoped>\n",
       "    .dataframe tbody tr th:only-of-type {\n",
       "        vertical-align: middle;\n",
       "    }\n",
       "\n",
       "    .dataframe tbody tr th {\n",
       "        vertical-align: top;\n",
       "    }\n",
       "\n",
       "    .dataframe thead th {\n",
       "        text-align: right;\n",
       "    }\n",
       "</style>\n",
       "<table border=\"1\" class=\"dataframe\">\n",
       "  <thead>\n",
       "    <tr style=\"text-align: right;\">\n",
       "      <th></th>\n",
       "      <th>PassengerId</th>\n",
       "      <th>Survived</th>\n",
       "      <th>Pclass</th>\n",
       "      <th>Name</th>\n",
       "      <th>Sex</th>\n",
       "      <th>Age</th>\n",
       "      <th>SibSp</th>\n",
       "      <th>Parch</th>\n",
       "      <th>Ticket</th>\n",
       "      <th>Fare</th>\n",
       "      <th>Cabin</th>\n",
       "      <th>Embarked</th>\n",
       "    </tr>\n",
       "  </thead>\n",
       "  <tbody>\n",
       "    <tr>\n",
       "      <th>0</th>\n",
       "      <td>1</td>\n",
       "      <td>0</td>\n",
       "      <td>3</td>\n",
       "      <td>Braund, Mr. Owen Harris</td>\n",
       "      <td>male</td>\n",
       "      <td>22.0</td>\n",
       "      <td>1</td>\n",
       "      <td>0</td>\n",
       "      <td>A/5 21171</td>\n",
       "      <td>7.2500</td>\n",
       "      <td>NaN</td>\n",
       "      <td>S</td>\n",
       "    </tr>\n",
       "    <tr>\n",
       "      <th>1</th>\n",
       "      <td>2</td>\n",
       "      <td>1</td>\n",
       "      <td>1</td>\n",
       "      <td>Cumings, Mrs. John Bradley (Florence Briggs Th...</td>\n",
       "      <td>female</td>\n",
       "      <td>38.0</td>\n",
       "      <td>1</td>\n",
       "      <td>0</td>\n",
       "      <td>PC 17599</td>\n",
       "      <td>71.2833</td>\n",
       "      <td>C85</td>\n",
       "      <td>C</td>\n",
       "    </tr>\n",
       "    <tr>\n",
       "      <th>2</th>\n",
       "      <td>3</td>\n",
       "      <td>1</td>\n",
       "      <td>3</td>\n",
       "      <td>Heikkinen, Miss. Laina</td>\n",
       "      <td>female</td>\n",
       "      <td>26.0</td>\n",
       "      <td>0</td>\n",
       "      <td>0</td>\n",
       "      <td>STON/O2. 3101282</td>\n",
       "      <td>7.9250</td>\n",
       "      <td>NaN</td>\n",
       "      <td>S</td>\n",
       "    </tr>\n",
       "    <tr>\n",
       "      <th>3</th>\n",
       "      <td>4</td>\n",
       "      <td>1</td>\n",
       "      <td>1</td>\n",
       "      <td>Futrelle, Mrs. Jacques Heath (Lily May Peel)</td>\n",
       "      <td>female</td>\n",
       "      <td>35.0</td>\n",
       "      <td>1</td>\n",
       "      <td>0</td>\n",
       "      <td>113803</td>\n",
       "      <td>53.1000</td>\n",
       "      <td>C123</td>\n",
       "      <td>S</td>\n",
       "    </tr>\n",
       "    <tr>\n",
       "      <th>4</th>\n",
       "      <td>5</td>\n",
       "      <td>0</td>\n",
       "      <td>3</td>\n",
       "      <td>Allen, Mr. William Henry</td>\n",
       "      <td>male</td>\n",
       "      <td>35.0</td>\n",
       "      <td>0</td>\n",
       "      <td>0</td>\n",
       "      <td>373450</td>\n",
       "      <td>8.0500</td>\n",
       "      <td>NaN</td>\n",
       "      <td>S</td>\n",
       "    </tr>\n",
       "  </tbody>\n",
       "</table>\n",
       "</div>"
      ],
      "text/plain": [
       "   PassengerId  Survived  Pclass  \\\n",
       "0            1         0       3   \n",
       "1            2         1       1   \n",
       "2            3         1       3   \n",
       "3            4         1       1   \n",
       "4            5         0       3   \n",
       "\n",
       "                                                Name     Sex   Age  SibSp  \\\n",
       "0                            Braund, Mr. Owen Harris    male  22.0      1   \n",
       "1  Cumings, Mrs. John Bradley (Florence Briggs Th...  female  38.0      1   \n",
       "2                             Heikkinen, Miss. Laina  female  26.0      0   \n",
       "3       Futrelle, Mrs. Jacques Heath (Lily May Peel)  female  35.0      1   \n",
       "4                           Allen, Mr. William Henry    male  35.0      0   \n",
       "\n",
       "   Parch            Ticket     Fare Cabin Embarked  \n",
       "0      0         A/5 21171   7.2500   NaN        S  \n",
       "1      0          PC 17599  71.2833   C85        C  \n",
       "2      0  STON/O2. 3101282   7.9250   NaN        S  \n",
       "3      0            113803  53.1000  C123        S  \n",
       "4      0            373450   8.0500   NaN        S  "
      ]
     },
     "execution_count": 3,
     "metadata": {},
     "output_type": "execute_result"
    }
   ],
   "source": [
    "df.head(5) "
   ]
  },
  {
   "cell_type": "markdown",
   "id": "69c17593",
   "metadata": {
    "papermill": {
     "duration": 0.013235,
     "end_time": "2025-04-14T02:19:21.136008",
     "exception": false,
     "start_time": "2025-04-14T02:19:21.122773",
     "status": "completed"
    },
    "tags": []
   },
   "source": [
    "### 2. 🔍 **DataType of Each Column**"
   ]
  },
  {
   "cell_type": "code",
   "execution_count": 4,
   "id": "b1b232de",
   "metadata": {
    "execution": {
     "iopub.execute_input": "2025-04-14T02:19:21.163462Z",
     "iopub.status.busy": "2025-04-14T02:19:21.163131Z",
     "iopub.status.idle": "2025-04-14T02:19:21.194178Z",
     "shell.execute_reply": "2025-04-14T02:19:21.192333Z"
    },
    "papermill": {
     "duration": 0.047208,
     "end_time": "2025-04-14T02:19:21.196329",
     "exception": false,
     "start_time": "2025-04-14T02:19:21.149121",
     "status": "completed"
    },
    "tags": []
   },
   "outputs": [
    {
     "name": "stdout",
     "output_type": "stream",
     "text": [
      "<class 'pandas.core.frame.DataFrame'>\n",
      "RangeIndex: 891 entries, 0 to 890\n",
      "Data columns (total 12 columns):\n",
      " #   Column       Non-Null Count  Dtype  \n",
      "---  ------       --------------  -----  \n",
      " 0   PassengerId  891 non-null    int64  \n",
      " 1   Survived     891 non-null    int64  \n",
      " 2   Pclass       891 non-null    int64  \n",
      " 3   Name         891 non-null    object \n",
      " 4   Sex          891 non-null    object \n",
      " 5   Age          714 non-null    float64\n",
      " 6   SibSp        891 non-null    int64  \n",
      " 7   Parch        891 non-null    int64  \n",
      " 8   Ticket       891 non-null    object \n",
      " 9   Fare         891 non-null    float64\n",
      " 10  Cabin        204 non-null    object \n",
      " 11  Embarked     889 non-null    object \n",
      "dtypes: float64(2), int64(5), object(5)\n",
      "memory usage: 83.7+ KB\n"
     ]
    }
   ],
   "source": [
    "df.info() "
   ]
  },
  {
   "cell_type": "markdown",
   "id": "10399e46",
   "metadata": {
    "papermill": {
     "duration": 0.012759,
     "end_time": "2025-04-14T02:19:21.222087",
     "exception": false,
     "start_time": "2025-04-14T02:19:21.209328",
     "status": "completed"
    },
    "tags": []
   },
   "source": [
    "### 3. 🔍 **Dimensions of the DataFrame**"
   ]
  },
  {
   "cell_type": "code",
   "execution_count": 5,
   "id": "476a8487",
   "metadata": {
    "execution": {
     "iopub.execute_input": "2025-04-14T02:19:21.249983Z",
     "iopub.status.busy": "2025-04-14T02:19:21.249495Z",
     "iopub.status.idle": "2025-04-14T02:19:21.255957Z",
     "shell.execute_reply": "2025-04-14T02:19:21.254588Z"
    },
    "papermill": {
     "duration": 0.022721,
     "end_time": "2025-04-14T02:19:21.257718",
     "exception": false,
     "start_time": "2025-04-14T02:19:21.234997",
     "status": "completed"
    },
    "tags": []
   },
   "outputs": [
    {
     "name": "stdout",
     "output_type": "stream",
     "text": [
      "Rows: 891\n",
      "Columns: 12\n"
     ]
    }
   ],
   "source": [
    "print(f'Rows: {df.shape[0]}')\n",
    "print(f'Columns: {df.shape[1]}')  "
   ]
  },
  {
   "cell_type": "markdown",
   "id": "17947ad0",
   "metadata": {
    "papermill": {
     "duration": 0.012691,
     "end_time": "2025-04-14T02:19:21.283318",
     "exception": false,
     "start_time": "2025-04-14T02:19:21.270627",
     "status": "completed"
    },
    "tags": []
   },
   "source": [
    "### 4. 🔍 **Descriptive Statistics for numerical & categorical variables**"
   ]
  },
  {
   "cell_type": "code",
   "execution_count": 6,
   "id": "5f29b352",
   "metadata": {
    "execution": {
     "iopub.execute_input": "2025-04-14T02:19:21.311169Z",
     "iopub.status.busy": "2025-04-14T02:19:21.310756Z",
     "iopub.status.idle": "2025-04-14T02:19:21.340263Z",
     "shell.execute_reply": "2025-04-14T02:19:21.339137Z"
    },
    "papermill": {
     "duration": 0.04575,
     "end_time": "2025-04-14T02:19:21.342454",
     "exception": false,
     "start_time": "2025-04-14T02:19:21.296704",
     "status": "completed"
    },
    "tags": []
   },
   "outputs": [
    {
     "data": {
      "text/html": [
       "<div>\n",
       "<style scoped>\n",
       "    .dataframe tbody tr th:only-of-type {\n",
       "        vertical-align: middle;\n",
       "    }\n",
       "\n",
       "    .dataframe tbody tr th {\n",
       "        vertical-align: top;\n",
       "    }\n",
       "\n",
       "    .dataframe thead th {\n",
       "        text-align: right;\n",
       "    }\n",
       "</style>\n",
       "<table border=\"1\" class=\"dataframe\">\n",
       "  <thead>\n",
       "    <tr style=\"text-align: right;\">\n",
       "      <th></th>\n",
       "      <th>PassengerId</th>\n",
       "      <th>Survived</th>\n",
       "      <th>Pclass</th>\n",
       "      <th>Age</th>\n",
       "      <th>SibSp</th>\n",
       "      <th>Parch</th>\n",
       "      <th>Fare</th>\n",
       "    </tr>\n",
       "  </thead>\n",
       "  <tbody>\n",
       "    <tr>\n",
       "      <th>count</th>\n",
       "      <td>891.000000</td>\n",
       "      <td>891.000000</td>\n",
       "      <td>891.000000</td>\n",
       "      <td>714.000000</td>\n",
       "      <td>891.000000</td>\n",
       "      <td>891.000000</td>\n",
       "      <td>891.000000</td>\n",
       "    </tr>\n",
       "    <tr>\n",
       "      <th>mean</th>\n",
       "      <td>446.000000</td>\n",
       "      <td>0.383838</td>\n",
       "      <td>2.308642</td>\n",
       "      <td>29.699118</td>\n",
       "      <td>0.523008</td>\n",
       "      <td>0.381594</td>\n",
       "      <td>32.204208</td>\n",
       "    </tr>\n",
       "    <tr>\n",
       "      <th>std</th>\n",
       "      <td>257.353842</td>\n",
       "      <td>0.486592</td>\n",
       "      <td>0.836071</td>\n",
       "      <td>14.526497</td>\n",
       "      <td>1.102743</td>\n",
       "      <td>0.806057</td>\n",
       "      <td>49.693429</td>\n",
       "    </tr>\n",
       "    <tr>\n",
       "      <th>min</th>\n",
       "      <td>1.000000</td>\n",
       "      <td>0.000000</td>\n",
       "      <td>1.000000</td>\n",
       "      <td>0.420000</td>\n",
       "      <td>0.000000</td>\n",
       "      <td>0.000000</td>\n",
       "      <td>0.000000</td>\n",
       "    </tr>\n",
       "    <tr>\n",
       "      <th>25%</th>\n",
       "      <td>223.500000</td>\n",
       "      <td>0.000000</td>\n",
       "      <td>2.000000</td>\n",
       "      <td>20.125000</td>\n",
       "      <td>0.000000</td>\n",
       "      <td>0.000000</td>\n",
       "      <td>7.910400</td>\n",
       "    </tr>\n",
       "    <tr>\n",
       "      <th>50%</th>\n",
       "      <td>446.000000</td>\n",
       "      <td>0.000000</td>\n",
       "      <td>3.000000</td>\n",
       "      <td>28.000000</td>\n",
       "      <td>0.000000</td>\n",
       "      <td>0.000000</td>\n",
       "      <td>14.454200</td>\n",
       "    </tr>\n",
       "    <tr>\n",
       "      <th>75%</th>\n",
       "      <td>668.500000</td>\n",
       "      <td>1.000000</td>\n",
       "      <td>3.000000</td>\n",
       "      <td>38.000000</td>\n",
       "      <td>1.000000</td>\n",
       "      <td>0.000000</td>\n",
       "      <td>31.000000</td>\n",
       "    </tr>\n",
       "    <tr>\n",
       "      <th>max</th>\n",
       "      <td>891.000000</td>\n",
       "      <td>1.000000</td>\n",
       "      <td>3.000000</td>\n",
       "      <td>80.000000</td>\n",
       "      <td>8.000000</td>\n",
       "      <td>6.000000</td>\n",
       "      <td>512.329200</td>\n",
       "    </tr>\n",
       "  </tbody>\n",
       "</table>\n",
       "</div>"
      ],
      "text/plain": [
       "       PassengerId    Survived      Pclass         Age       SibSp  \\\n",
       "count   891.000000  891.000000  891.000000  714.000000  891.000000   \n",
       "mean    446.000000    0.383838    2.308642   29.699118    0.523008   \n",
       "std     257.353842    0.486592    0.836071   14.526497    1.102743   \n",
       "min       1.000000    0.000000    1.000000    0.420000    0.000000   \n",
       "25%     223.500000    0.000000    2.000000   20.125000    0.000000   \n",
       "50%     446.000000    0.000000    3.000000   28.000000    0.000000   \n",
       "75%     668.500000    1.000000    3.000000   38.000000    1.000000   \n",
       "max     891.000000    1.000000    3.000000   80.000000    8.000000   \n",
       "\n",
       "            Parch        Fare  \n",
       "count  891.000000  891.000000  \n",
       "mean     0.381594   32.204208  \n",
       "std      0.806057   49.693429  \n",
       "min      0.000000    0.000000  \n",
       "25%      0.000000    7.910400  \n",
       "50%      0.000000   14.454200  \n",
       "75%      0.000000   31.000000  \n",
       "max      6.000000  512.329200  "
      ]
     },
     "execution_count": 6,
     "metadata": {},
     "output_type": "execute_result"
    }
   ],
   "source": [
    "df.describe() "
   ]
  },
  {
   "cell_type": "code",
   "execution_count": 7,
   "id": "ee87dd76",
   "metadata": {
    "execution": {
     "iopub.execute_input": "2025-04-14T02:19:21.372641Z",
     "iopub.status.busy": "2025-04-14T02:19:21.372241Z",
     "iopub.status.idle": "2025-04-14T02:19:21.394683Z",
     "shell.execute_reply": "2025-04-14T02:19:21.393461Z"
    },
    "papermill": {
     "duration": 0.040655,
     "end_time": "2025-04-14T02:19:21.397082",
     "exception": false,
     "start_time": "2025-04-14T02:19:21.356427",
     "status": "completed"
    },
    "tags": []
   },
   "outputs": [
    {
     "data": {
      "text/html": [
       "<div>\n",
       "<style scoped>\n",
       "    .dataframe tbody tr th:only-of-type {\n",
       "        vertical-align: middle;\n",
       "    }\n",
       "\n",
       "    .dataframe tbody tr th {\n",
       "        vertical-align: top;\n",
       "    }\n",
       "\n",
       "    .dataframe thead th {\n",
       "        text-align: right;\n",
       "    }\n",
       "</style>\n",
       "<table border=\"1\" class=\"dataframe\">\n",
       "  <thead>\n",
       "    <tr style=\"text-align: right;\">\n",
       "      <th></th>\n",
       "      <th>Name</th>\n",
       "      <th>Sex</th>\n",
       "      <th>Ticket</th>\n",
       "      <th>Cabin</th>\n",
       "      <th>Embarked</th>\n",
       "    </tr>\n",
       "  </thead>\n",
       "  <tbody>\n",
       "    <tr>\n",
       "      <th>count</th>\n",
       "      <td>891</td>\n",
       "      <td>891</td>\n",
       "      <td>891</td>\n",
       "      <td>204</td>\n",
       "      <td>889</td>\n",
       "    </tr>\n",
       "    <tr>\n",
       "      <th>unique</th>\n",
       "      <td>891</td>\n",
       "      <td>2</td>\n",
       "      <td>681</td>\n",
       "      <td>147</td>\n",
       "      <td>3</td>\n",
       "    </tr>\n",
       "    <tr>\n",
       "      <th>top</th>\n",
       "      <td>Braund, Mr. Owen Harris</td>\n",
       "      <td>male</td>\n",
       "      <td>347082</td>\n",
       "      <td>B96 B98</td>\n",
       "      <td>S</td>\n",
       "    </tr>\n",
       "    <tr>\n",
       "      <th>freq</th>\n",
       "      <td>1</td>\n",
       "      <td>577</td>\n",
       "      <td>7</td>\n",
       "      <td>4</td>\n",
       "      <td>644</td>\n",
       "    </tr>\n",
       "  </tbody>\n",
       "</table>\n",
       "</div>"
      ],
      "text/plain": [
       "                           Name   Sex  Ticket    Cabin Embarked\n",
       "count                       891   891     891      204      889\n",
       "unique                      891     2     681      147        3\n",
       "top     Braund, Mr. Owen Harris  male  347082  B96 B98        S\n",
       "freq                          1   577       7        4      644"
      ]
     },
     "execution_count": 7,
     "metadata": {},
     "output_type": "execute_result"
    }
   ],
   "source": [
    "categorical_var = df.dtypes[df.dtypes == 'object'].index \n",
    "df[categorical_var].describe()  "
   ]
  },
  {
   "cell_type": "markdown",
   "id": "2c9b9c40",
   "metadata": {
    "papermill": {
     "duration": 0.013757,
     "end_time": "2025-04-14T02:19:21.424617",
     "exception": false,
     "start_time": "2025-04-14T02:19:21.410860",
     "status": "completed"
    },
    "tags": []
   },
   "source": [
    "### 5. 🔍 **Missing Values & Outliers**"
   ]
  },
  {
   "cell_type": "code",
   "execution_count": 8,
   "id": "dbd098fc",
   "metadata": {
    "execution": {
     "iopub.execute_input": "2025-04-14T02:19:21.454631Z",
     "iopub.status.busy": "2025-04-14T02:19:21.454300Z",
     "iopub.status.idle": "2025-04-14T02:19:21.464127Z",
     "shell.execute_reply": "2025-04-14T02:19:21.462957Z"
    },
    "papermill": {
     "duration": 0.027522,
     "end_time": "2025-04-14T02:19:21.466512",
     "exception": false,
     "start_time": "2025-04-14T02:19:21.438990",
     "status": "completed"
    },
    "tags": []
   },
   "outputs": [
    {
     "data": {
      "text/plain": [
       "Cabin          687\n",
       "Age            177\n",
       "Embarked         2\n",
       "PassengerId      0\n",
       "Survived         0\n",
       "Pclass           0\n",
       "Name             0\n",
       "Sex              0\n",
       "SibSp            0\n",
       "Parch            0\n",
       "Ticket           0\n",
       "Fare             0\n",
       "dtype: int64"
      ]
     },
     "execution_count": 8,
     "metadata": {},
     "output_type": "execute_result"
    }
   ],
   "source": [
    "df.isnull().sum().sort_values(ascending = False) "
   ]
  },
  {
   "cell_type": "code",
   "execution_count": 9,
   "id": "8249ea5f",
   "metadata": {
    "execution": {
     "iopub.execute_input": "2025-04-14T02:19:21.497327Z",
     "iopub.status.busy": "2025-04-14T02:19:21.496985Z",
     "iopub.status.idle": "2025-04-14T02:19:21.506146Z",
     "shell.execute_reply": "2025-04-14T02:19:21.505047Z"
    },
    "papermill": {
     "duration": 0.026814,
     "end_time": "2025-04-14T02:19:21.508394",
     "exception": false,
     "start_time": "2025-04-14T02:19:21.481580",
     "status": "completed"
    },
    "tags": []
   },
   "outputs": [
    {
     "data": {
      "text/plain": [
       "Cabin          0.771044\n",
       "Age            0.198653\n",
       "Embarked       0.002245\n",
       "PassengerId    0.000000\n",
       "Survived       0.000000\n",
       "Pclass         0.000000\n",
       "Name           0.000000\n",
       "Sex            0.000000\n",
       "SibSp          0.000000\n",
       "Parch          0.000000\n",
       "Ticket         0.000000\n",
       "Fare           0.000000\n",
       "dtype: float64"
      ]
     },
     "execution_count": 9,
     "metadata": {},
     "output_type": "execute_result"
    }
   ],
   "source": [
    "(df.isnull().sum() / len(df)).sort_values(ascending = False) "
   ]
  },
  {
   "cell_type": "code",
   "execution_count": 10,
   "id": "466c5015",
   "metadata": {
    "execution": {
     "iopub.execute_input": "2025-04-14T02:19:21.538496Z",
     "iopub.status.busy": "2025-04-14T02:19:21.538152Z",
     "iopub.status.idle": "2025-04-14T02:19:21.808527Z",
     "shell.execute_reply": "2025-04-14T02:19:21.807322Z"
    },
    "papermill": {
     "duration": 0.28761,
     "end_time": "2025-04-14T02:19:21.810419",
     "exception": false,
     "start_time": "2025-04-14T02:19:21.522809",
     "status": "completed"
    },
    "tags": []
   },
   "outputs": [
    {
     "data": {
      "text/plain": [
       "<Axes: >"
      ]
     },
     "execution_count": 10,
     "metadata": {},
     "output_type": "execute_result"
    },
    {
     "data": {
      "image/png": "[encoded data removed]",
      "text/plain": [
       "<Figure size 640x480 with 1 Axes>"
      ]
     },
     "metadata": {},
     "output_type": "display_data"
    }
   ],
   "source": [
    "sns.heatmap(df.isnull(), yticklabels=False, cbar=False) "
   ]
  },
  {
   "cell_type": "markdown",
   "id": "e3400ae6",
   "metadata": {
    "papermill": {
     "duration": 0.014662,
     "end_time": "2025-04-14T02:19:21.842919",
     "exception": false,
     "start_time": "2025-04-14T02:19:21.828257",
     "status": "completed"
    },
    "tags": []
   },
   "source": [
    "###  📝 ***Conclusions from Data Exploration***"
   ]
  },
  {
   "cell_type": "markdown",
   "id": "4f1423d0",
   "metadata": {
    "papermill": {
     "duration": 0.013595,
     "end_time": "2025-04-14T02:19:21.870638",
     "exception": false,
     "start_time": "2025-04-14T02:19:21.857043",
     "status": "completed"
    },
    "tags": []
   },
   "source": [
    "1. The columns have float datatypes are 2, integer datatype 5, object datatype are 5\n",
    "\n",
    "2. There are 891 rows and 12 columns in the dataset."
   ]
  },
  {
   "cell_type": "markdown",
   "id": "29397925",
   "metadata": {
    "papermill": {
     "duration": 0.013647,
     "end_time": "2025-04-14T02:19:21.898950",
     "exception": false,
     "start_time": "2025-04-14T02:19:21.885303",
     "status": "completed"
    },
    "tags": []
   },
   "source": [
    "# 🔨  ***Data Cleaning & Preprocessing***  "
   ]
  },
  {
   "cell_type": "markdown",
   "id": "b281f752",
   "metadata": {
    "papermill": {
     "duration": 0.014239,
     "end_time": "2025-04-14T02:19:21.927169",
     "exception": false,
     "start_time": "2025-04-14T02:19:21.912930",
     "status": "completed"
    },
    "tags": []
   },
   "source": [
    "### 1. 🔍 **Col: PassengerId**\n",
    "\n",
    "*  \"PassengerId\" is an arbitrary identifier assigned to each passenger."
   ]
  },
  {
   "cell_type": "code",
   "execution_count": 11,
   "id": "7a58dc65",
   "metadata": {
    "execution": {
     "iopub.execute_input": "2025-04-14T02:19:21.958751Z",
     "iopub.status.busy": "2025-04-14T02:19:21.958274Z",
     "iopub.status.idle": "2025-04-14T02:19:21.965725Z",
     "shell.execute_reply": "2025-04-14T02:19:21.964624Z"
    },
    "papermill": {
     "duration": 0.025219,
     "end_time": "2025-04-14T02:19:21.967578",
     "exception": false,
     "start_time": "2025-04-14T02:19:21.942359",
     "status": "completed"
    },
    "tags": []
   },
   "outputs": [],
   "source": [
    "df.drop(['PassengerId'], axis=1, inplace=True)  "
   ]
  },
  {
   "cell_type": "markdown",
   "id": "c1253931",
   "metadata": {
    "papermill": {
     "duration": 0.014308,
     "end_time": "2025-04-14T02:19:21.996637",
     "exception": false,
     "start_time": "2025-04-14T02:19:21.982329",
     "status": "completed"
    },
    "tags": []
   },
   "source": [
    "### 2. 🔍 **Col: Sex**\n",
    "\n",
    "* Convert to numerical features which would be better for prediciton.  "
   ]
  },
  {
   "cell_type": "code",
   "execution_count": 12,
   "id": "42a679a8",
   "metadata": {
    "execution": {
     "iopub.execute_input": "2025-04-14T02:19:22.028481Z",
     "iopub.status.busy": "2025-04-14T02:19:22.028129Z",
     "iopub.status.idle": "2025-04-14T02:19:22.037270Z",
     "shell.execute_reply": "2025-04-14T02:19:22.036149Z"
    },
    "papermill": {
     "duration": 0.027167,
     "end_time": "2025-04-14T02:19:22.039377",
     "exception": false,
     "start_time": "2025-04-14T02:19:22.012210",
     "status": "completed"
    },
    "tags": []
   },
   "outputs": [],
   "source": [
    "sex = pd.get_dummies(df['Sex'], drop_first=True, dtype=int)    \n",
    "df = pd.concat([df,sex], axis=1) \n",
    "df.drop('Sex', axis=1, inplace=True) \n",
    "df = df.rename(columns = {'male':'Sex'}) "
   ]
  },
  {
   "cell_type": "markdown",
   "id": "79675f24",
   "metadata": {
    "papermill": {
     "duration": 0.014016,
     "end_time": "2025-04-14T02:19:22.067692",
     "exception": false,
     "start_time": "2025-04-14T02:19:22.053676",
     "status": "completed"
    },
    "tags": []
   },
   "source": [
    "### 3. 🔍 **Col: Age** "
   ]
  },
  {
   "cell_type": "code",
   "execution_count": 13,
   "id": "75cee195",
   "metadata": {
    "execution": {
     "iopub.execute_input": "2025-04-14T02:19:22.100926Z",
     "iopub.status.busy": "2025-04-14T02:19:22.100470Z",
     "iopub.status.idle": "2025-04-14T02:19:22.110916Z",
     "shell.execute_reply": "2025-04-14T02:19:22.109781Z"
    },
    "papermill": {
     "duration": 0.030244,
     "end_time": "2025-04-14T02:19:22.112555",
     "exception": false,
     "start_time": "2025-04-14T02:19:22.082311",
     "status": "completed"
    },
    "tags": []
   },
   "outputs": [
    {
     "data": {
      "text/plain": [
       "count    714.000000\n",
       "mean      29.699118\n",
       "std       14.526497\n",
       "min        0.420000\n",
       "25%       20.125000\n",
       "50%       28.000000\n",
       "75%       38.000000\n",
       "max       80.000000\n",
       "Name: Age, dtype: float64"
      ]
     },
     "execution_count": 13,
     "metadata": {},
     "output_type": "execute_result"
    }
   ],
   "source": [
    "df['Age'].describe() "
   ]
  },
  {
   "cell_type": "code",
   "execution_count": 14,
   "id": "860f96a0",
   "metadata": {
    "execution": {
     "iopub.execute_input": "2025-04-14T02:19:22.144069Z",
     "iopub.status.busy": "2025-04-14T02:19:22.143620Z",
     "iopub.status.idle": "2025-04-14T02:19:22.150884Z",
     "shell.execute_reply": "2025-04-14T02:19:22.149742Z"
    },
    "papermill": {
     "duration": 0.025729,
     "end_time": "2025-04-14T02:19:22.152694",
     "exception": false,
     "start_time": "2025-04-14T02:19:22.126965",
     "status": "completed"
    },
    "tags": []
   },
   "outputs": [
    {
     "data": {
      "text/plain": [
       "177"
      ]
     },
     "execution_count": 14,
     "metadata": {},
     "output_type": "execute_result"
    }
   ],
   "source": [
    "missing_ages = np.where(df['Age'].isnull())    \n",
    "len(missing_ages[0])  "
   ]
  },
  {
   "cell_type": "code",
   "execution_count": 15,
   "id": "103d0776",
   "metadata": {
    "execution": {
     "iopub.execute_input": "2025-04-14T02:19:22.183021Z",
     "iopub.status.busy": "2025-04-14T02:19:22.182573Z",
     "iopub.status.idle": "2025-04-14T02:19:22.187279Z",
     "shell.execute_reply": "2025-04-14T02:19:22.186127Z"
    },
    "papermill": {
     "duration": 0.021768,
     "end_time": "2025-04-14T02:19:22.189080",
     "exception": false,
     "start_time": "2025-04-14T02:19:22.167312",
     "status": "completed"
    },
    "tags": []
   },
   "outputs": [],
   "source": [
    "sns.set_style('whitegrid') "
   ]
  },
  {
   "cell_type": "code",
   "execution_count": 16,
   "id": "9a5ea2d1",
   "metadata": {
    "execution": {
     "iopub.execute_input": "2025-04-14T02:19:22.219465Z",
     "iopub.status.busy": "2025-04-14T02:19:22.219093Z",
     "iopub.status.idle": "2025-04-14T02:19:22.602525Z",
     "shell.execute_reply": "2025-04-14T02:19:22.601276Z"
    },
    "papermill": {
     "duration": 0.400484,
     "end_time": "2025-04-14T02:19:22.604471",
     "exception": false,
     "start_time": "2025-04-14T02:19:22.203987",
     "status": "completed"
    },
    "tags": []
   },
   "outputs": [
    {
     "data": {
      "image/png": "[encoded data removed]",
      "text/plain": [
       "<Figure size 640x480 with 1 Axes>"
      ]
     },
     "metadata": {},
     "output_type": "display_data"
    }
   ],
   "source": [
    "sns.histplot(df['Age'].dropna(), \n",
    "             bins=30,\n",
    "             kde=True) \n",
    "\n",
    "plt.title('Age Distribution')\n",
    "plt.ylabel('Frequency')\n",
    "plt.show() "
   ]
  },
  {
   "cell_type": "markdown",
   "id": "efa1d041",
   "metadata": {
    "papermill": {
     "duration": 0.015655,
     "end_time": "2025-04-14T02:19:22.636198",
     "exception": false,
     "start_time": "2025-04-14T02:19:22.620543",
     "status": "completed"
    },
    "tags": []
   },
   "source": [
    "### 📝 ***Conclusion*** :  \n",
    "\n",
    "1. The Age column had 177 missing values.\n",
    "\n",
    "2. A skewed towards younger passengers between 20-30 years old. \n",
    "   \n",
    "3. Since age is a numerical feature that needs to be used for prediction --> It is necessary to deal with these missing values.   "
   ]
  },
  {
   "cell_type": "code",
   "execution_count": 17,
   "id": "2df84a74",
   "metadata": {
    "execution": {
     "iopub.execute_input": "2025-04-14T02:19:22.728060Z",
     "iopub.status.busy": "2025-04-14T02:19:22.727629Z",
     "iopub.status.idle": "2025-04-14T02:19:22.957058Z",
     "shell.execute_reply": "2025-04-14T02:19:22.955927Z"
    },
    "papermill": {
     "duration": 0.307666,
     "end_time": "2025-04-14T02:19:22.959001",
     "exception": false,
     "start_time": "2025-04-14T02:19:22.651335",
     "status": "completed"
    },
    "tags": []
   },
   "outputs": [
    {
     "data": {
      "image/png": "[encoded data removed]",
      "text/plain": [
       "<Figure size 640x480 with 1 Axes>"
      ]
     },
     "metadata": {},
     "output_type": "display_data"
    }
   ],
   "source": [
    "sns.boxplot(x='Pclass', \n",
    "            y='Age', \n",
    "            data=df) \n",
    "\n",
    "plt.xlabel('Passenger Class')\n",
    "plt.title('Age Distribution by Class')\n",
    "plt.show() "
   ]
  },
  {
   "cell_type": "markdown",
   "id": "d7d8a374",
   "metadata": {
    "papermill": {
     "duration": 0.015812,
     "end_time": "2025-04-14T02:19:22.993272",
     "exception": false,
     "start_time": "2025-04-14T02:19:22.977460",
     "status": "completed"
    },
    "tags": []
   },
   "source": [
    "### 📝 ***Conclusion*** :  \n",
    "\n",
    "* The median age of the First Class is higher than that of the Second Class and Third Class. "
   ]
  },
  {
   "cell_type": "code",
   "execution_count": 18,
   "id": "514a5abe",
   "metadata": {
    "execution": {
     "iopub.execute_input": "2025-04-14T02:19:23.027767Z",
     "iopub.status.busy": "2025-04-14T02:19:23.027360Z",
     "iopub.status.idle": "2025-04-14T02:19:23.037423Z",
     "shell.execute_reply": "2025-04-14T02:19:23.036313Z"
    },
    "papermill": {
     "duration": 0.029296,
     "end_time": "2025-04-14T02:19:23.039226",
     "exception": false,
     "start_time": "2025-04-14T02:19:23.009930",
     "status": "completed"
    },
    "tags": []
   },
   "outputs": [
    {
     "data": {
      "text/plain": [
       "Pclass\n",
       "1    37.0\n",
       "2    29.0\n",
       "3    24.0\n",
       "Name: Age, dtype: float64"
      ]
     },
     "execution_count": 18,
     "metadata": {},
     "output_type": "execute_result"
    }
   ],
   "source": [
    "df.groupby('Pclass')['Age'].median() "
   ]
  },
  {
   "cell_type": "code",
   "execution_count": 19,
   "id": "4bff6846",
   "metadata": {
    "execution": {
     "iopub.execute_input": "2025-04-14T02:19:23.071973Z",
     "iopub.status.busy": "2025-04-14T02:19:23.071522Z",
     "iopub.status.idle": "2025-04-14T02:19:23.076490Z",
     "shell.execute_reply": "2025-04-14T02:19:23.075536Z"
    },
    "papermill": {
     "duration": 0.022897,
     "end_time": "2025-04-14T02:19:23.078080",
     "exception": false,
     "start_time": "2025-04-14T02:19:23.055183",
     "status": "completed"
    },
    "tags": []
   },
   "outputs": [],
   "source": [
    "def impute_ages(cols):\n",
    "    Age = cols[0]\n",
    "    Pclass = cols[1] \n",
    "\n",
    "    if pd.isnull(Age):\n",
    "        if Pclass == 1:\n",
    "            return 37 \n",
    "        elif Pclass == 2: \n",
    "            return 29 \n",
    "        else:\n",
    "            return 24 \n",
    "    else: \n",
    "        return Age"
   ]
  },
  {
   "cell_type": "code",
   "execution_count": 20,
   "id": "84789c37",
   "metadata": {
    "execution": {
     "iopub.execute_input": "2025-04-14T02:19:23.111101Z",
     "iopub.status.busy": "2025-04-14T02:19:23.110684Z",
     "iopub.status.idle": "2025-04-14T02:19:23.144058Z",
     "shell.execute_reply": "2025-04-14T02:19:23.142926Z"
    },
    "papermill": {
     "duration": 0.052315,
     "end_time": "2025-04-14T02:19:23.146458",
     "exception": false,
     "start_time": "2025-04-14T02:19:23.094143",
     "status": "completed"
    },
    "tags": []
   },
   "outputs": [],
   "source": [
    "df['Age'] = df[['Age', 'Pclass']].apply(impute_ages, axis=1)  "
   ]
  },
  {
   "cell_type": "code",
   "execution_count": 21,
   "id": "0b91940a",
   "metadata": {
    "execution": {
     "iopub.execute_input": "2025-04-14T02:19:23.179959Z",
     "iopub.status.busy": "2025-04-14T02:19:23.179532Z",
     "iopub.status.idle": "2025-04-14T02:19:23.444132Z",
     "shell.execute_reply": "2025-04-14T02:19:23.443087Z"
    },
    "papermill": {
     "duration": 0.282742,
     "end_time": "2025-04-14T02:19:23.445730",
     "exception": false,
     "start_time": "2025-04-14T02:19:23.162988",
     "status": "completed"
    },
    "tags": []
   },
   "outputs": [
    {
     "data": {
      "text/plain": [
       "<Axes: >"
      ]
     },
     "execution_count": 21,
     "metadata": {},
     "output_type": "execute_result"
    },
    {
     "data": {
      "image/png": "[encoded data removed]",
      "text/plain": [
       "<Figure size 640x480 with 1 Axes>"
      ]
     },
     "metadata": {},
     "output_type": "display_data"
    }
   ],
   "source": [
    "sns.heatmap(df.isnull(), yticklabels=False, cbar=False) "
   ]
  },
  {
   "cell_type": "markdown",
   "id": "4dcccf5e",
   "metadata": {
    "papermill": {
     "duration": 0.015815,
     "end_time": "2025-04-14T02:19:23.477918",
     "exception": false,
     "start_time": "2025-04-14T02:19:23.462103",
     "status": "completed"
    },
    "tags": []
   },
   "source": [
    "### 4. 🔍 **Col: Ticket**\n"
   ]
  },
  {
   "cell_type": "code",
   "execution_count": 22,
   "id": "77a2b934",
   "metadata": {
    "execution": {
     "iopub.execute_input": "2025-04-14T02:19:23.511793Z",
     "iopub.status.busy": "2025-04-14T02:19:23.511433Z",
     "iopub.status.idle": "2025-04-14T02:19:23.518862Z",
     "shell.execute_reply": "2025-04-14T02:19:23.517958Z"
    },
    "papermill": {
     "duration": 0.02661,
     "end_time": "2025-04-14T02:19:23.520655",
     "exception": false,
     "start_time": "2025-04-14T02:19:23.494045",
     "status": "completed"
    },
    "tags": []
   },
   "outputs": [
    {
     "data": {
      "text/plain": [
       "0           A/5 21171\n",
       "1            PC 17599\n",
       "2    STON/O2. 3101282\n",
       "3              113803\n",
       "4              373450\n",
       "5              330877\n",
       "6               17463\n",
       "7              349909\n",
       "8              347742\n",
       "9              237736\n",
       "Name: Ticket, dtype: object"
      ]
     },
     "execution_count": 22,
     "metadata": {},
     "output_type": "execute_result"
    }
   ],
   "source": [
    "df['Ticket'][0:10] "
   ]
  },
  {
   "cell_type": "code",
   "execution_count": 23,
   "id": "f95862ca",
   "metadata": {
    "execution": {
     "iopub.execute_input": "2025-04-14T02:19:23.555697Z",
     "iopub.status.busy": "2025-04-14T02:19:23.555358Z",
     "iopub.status.idle": "2025-04-14T02:19:23.563673Z",
     "shell.execute_reply": "2025-04-14T02:19:23.562786Z"
    },
    "papermill": {
     "duration": 0.027925,
     "end_time": "2025-04-14T02:19:23.565351",
     "exception": false,
     "start_time": "2025-04-14T02:19:23.537426",
     "status": "completed"
    },
    "tags": []
   },
   "outputs": [
    {
     "data": {
      "text/plain": [
       "count        891\n",
       "unique       681\n",
       "top       347082\n",
       "freq           7\n",
       "Name: Ticket, dtype: object"
      ]
     },
     "execution_count": 23,
     "metadata": {},
     "output_type": "execute_result"
    }
   ],
   "source": [
    "df['Ticket'].describe() "
   ]
  },
  {
   "cell_type": "markdown",
   "id": "7a871cfa",
   "metadata": {
    "papermill": {
     "duration": 0.01638,
     "end_time": "2025-04-14T02:19:23.598738",
     "exception": false,
     "start_time": "2025-04-14T02:19:23.582358",
     "status": "completed"
    },
    "tags": []
   },
   "source": [
    "### 📝 ***Conclusion*** : \n",
    "\n",
    "1. Ticket is a categorical variable which has **680 unique** values.\n",
    "   \n",
    "2. Categorical variables with almost as many as levels as there are records are often not practical for prediction."
   ]
  },
  {
   "cell_type": "markdown",
   "id": "4cab29b1",
   "metadata": {
    "papermill": {
     "duration": 0.016734,
     "end_time": "2025-04-14T02:19:23.632017",
     "exception": false,
     "start_time": "2025-04-14T02:19:23.615283",
     "status": "completed"
    },
    "tags": []
   },
   "source": [
    "### 🛠️ ***Feature Engineering of Ticket*** :\n",
    "        1. Extract prefix if one ticket including letters and target encoding.\n",
    "        2. Create a column that contains boolean values to show if the ticket is pure numeric or not. \n",
    "        3. Count the frequency of each ticket. "
   ]
  },
  {
   "cell_type": "code",
   "execution_count": 24,
   "id": "b4167362",
   "metadata": {
    "execution": {
     "iopub.execute_input": "2025-04-14T02:19:23.666595Z",
     "iopub.status.busy": "2025-04-14T02:19:23.666256Z",
     "iopub.status.idle": "2025-04-14T02:19:23.685343Z",
     "shell.execute_reply": "2025-04-14T02:19:23.684274Z"
    },
    "papermill": {
     "duration": 0.038736,
     "end_time": "2025-04-14T02:19:23.687185",
     "exception": false,
     "start_time": "2025-04-14T02:19:23.648449",
     "status": "completed"
    },
    "tags": []
   },
   "outputs": [
    {
     "data": {
      "text/html": [
       "<div>\n",
       "<style scoped>\n",
       "    .dataframe tbody tr th:only-of-type {\n",
       "        vertical-align: middle;\n",
       "    }\n",
       "\n",
       "    .dataframe tbody tr th {\n",
       "        vertical-align: top;\n",
       "    }\n",
       "\n",
       "    .dataframe thead th {\n",
       "        text-align: right;\n",
       "    }\n",
       "</style>\n",
       "<table border=\"1\" class=\"dataframe\">\n",
       "  <thead>\n",
       "    <tr style=\"text-align: right;\">\n",
       "      <th></th>\n",
       "      <th>Ticket</th>\n",
       "      <th>Ticket_Prefix</th>\n",
       "      <th>Ticket_IsNumeric</th>\n",
       "      <th>Ticket_Freq</th>\n",
       "      <th>Pclass</th>\n",
       "      <th>Survived</th>\n",
       "    </tr>\n",
       "  </thead>\n",
       "  <tbody>\n",
       "    <tr>\n",
       "      <th>334</th>\n",
       "      <td>PC 17611</td>\n",
       "      <td>PC</td>\n",
       "      <td>0</td>\n",
       "      <td>2</td>\n",
       "      <td>1</td>\n",
       "      <td>1</td>\n",
       "    </tr>\n",
       "    <tr>\n",
       "      <th>709</th>\n",
       "      <td>2661</td>\n",
       "      <td>None</td>\n",
       "      <td>1</td>\n",
       "      <td>2</td>\n",
       "      <td>3</td>\n",
       "      <td>1</td>\n",
       "    </tr>\n",
       "    <tr>\n",
       "      <th>842</th>\n",
       "      <td>113798</td>\n",
       "      <td>None</td>\n",
       "      <td>1</td>\n",
       "      <td>2</td>\n",
       "      <td>1</td>\n",
       "      <td>1</td>\n",
       "    </tr>\n",
       "    <tr>\n",
       "      <th>398</th>\n",
       "      <td>244278</td>\n",
       "      <td>None</td>\n",
       "      <td>1</td>\n",
       "      <td>1</td>\n",
       "      <td>2</td>\n",
       "      <td>0</td>\n",
       "    </tr>\n",
       "    <tr>\n",
       "      <th>190</th>\n",
       "      <td>234604</td>\n",
       "      <td>None</td>\n",
       "      <td>1</td>\n",
       "      <td>1</td>\n",
       "      <td>2</td>\n",
       "      <td>1</td>\n",
       "    </tr>\n",
       "    <tr>\n",
       "      <th>702</th>\n",
       "      <td>2691</td>\n",
       "      <td>None</td>\n",
       "      <td>1</td>\n",
       "      <td>2</td>\n",
       "      <td>3</td>\n",
       "      <td>0</td>\n",
       "    </tr>\n",
       "    <tr>\n",
       "      <th>151</th>\n",
       "      <td>113776</td>\n",
       "      <td>None</td>\n",
       "      <td>1</td>\n",
       "      <td>2</td>\n",
       "      <td>1</td>\n",
       "      <td>1</td>\n",
       "    </tr>\n",
       "    <tr>\n",
       "      <th>95</th>\n",
       "      <td>374910</td>\n",
       "      <td>None</td>\n",
       "      <td>1</td>\n",
       "      <td>1</td>\n",
       "      <td>3</td>\n",
       "      <td>0</td>\n",
       "    </tr>\n",
       "    <tr>\n",
       "      <th>847</th>\n",
       "      <td>349213</td>\n",
       "      <td>None</td>\n",
       "      <td>1</td>\n",
       "      <td>1</td>\n",
       "      <td>3</td>\n",
       "      <td>0</td>\n",
       "    </tr>\n",
       "    <tr>\n",
       "      <th>758</th>\n",
       "      <td>363294</td>\n",
       "      <td>None</td>\n",
       "      <td>1</td>\n",
       "      <td>1</td>\n",
       "      <td>3</td>\n",
       "      <td>0</td>\n",
       "    </tr>\n",
       "  </tbody>\n",
       "</table>\n",
       "</div>"
      ],
      "text/plain": [
       "       Ticket Ticket_Prefix  Ticket_IsNumeric  Ticket_Freq  Pclass  Survived\n",
       "334  PC 17611            PC                 0            2       1         1\n",
       "709      2661          None                 1            2       3         1\n",
       "842    113798          None                 1            2       1         1\n",
       "398    244278          None                 1            1       2         0\n",
       "190    234604          None                 1            1       2         1\n",
       "702      2691          None                 1            2       3         0\n",
       "151    113776          None                 1            2       1         1\n",
       "95     374910          None                 1            1       3         0\n",
       "847    349213          None                 1            1       3         0\n",
       "758    363294          None                 1            1       3         0"
      ]
     },
     "execution_count": 24,
     "metadata": {},
     "output_type": "execute_result"
    }
   ],
   "source": [
    "def extract_prefix(ticket):\n",
    "    parts = ticket.replace('.', '').replace('/','').split() \n",
    "    prefix = [p for p in parts if not p.isdigit()] \n",
    "    return prefix[0] if prefix else 'None' \n",
    "\n",
    "df['Ticket_Prefix'] = df['Ticket'].apply(extract_prefix) \n",
    "\n",
    "df['Ticket_IsNumeric'] = df['Ticket'].apply(lambda x: x.isdigit()).astype(int)   \n",
    "\n",
    "ticket_counts = df['Ticket'].value_counts() \n",
    "df['Ticket_Freq'] = df['Ticket'].map(ticket_counts) \n",
    "\n",
    "df[['Ticket', 'Ticket_Prefix', 'Ticket_IsNumeric', 'Ticket_Freq', 'Pclass','Survived']].sample(10) "
   ]
  },
  {
   "cell_type": "markdown",
   "id": "f0acb623",
   "metadata": {
    "papermill": {
     "duration": 0.017354,
     "end_time": "2025-04-14T02:19:23.721511",
     "exception": false,
     "start_time": "2025-04-14T02:19:23.704157",
     "status": "completed"
    },
    "tags": []
   },
   "source": [
    "### 5. 🔍 **Col: Cabin**  "
   ]
  },
  {
   "cell_type": "code",
   "execution_count": 25,
   "id": "52a40694",
   "metadata": {
    "execution": {
     "iopub.execute_input": "2025-04-14T02:19:23.757959Z",
     "iopub.status.busy": "2025-04-14T02:19:23.757468Z",
     "iopub.status.idle": "2025-04-14T02:19:23.764922Z",
     "shell.execute_reply": "2025-04-14T02:19:23.763905Z"
    },
    "papermill": {
     "duration": 0.027206,
     "end_time": "2025-04-14T02:19:23.766456",
     "exception": false,
     "start_time": "2025-04-14T02:19:23.739250",
     "status": "completed"
    },
    "tags": []
   },
   "outputs": [
    {
     "data": {
      "text/plain": [
       "0     NaN\n",
       "1     C85\n",
       "2     NaN\n",
       "3    C123\n",
       "4     NaN\n",
       "5     NaN\n",
       "6     E46\n",
       "7     NaN\n",
       "8     NaN\n",
       "9     NaN\n",
       "Name: Cabin, dtype: object"
      ]
     },
     "execution_count": 25,
     "metadata": {},
     "output_type": "execute_result"
    }
   ],
   "source": [
    "df['Cabin'][0:10]"
   ]
  },
  {
   "cell_type": "code",
   "execution_count": 26,
   "id": "0d3327af",
   "metadata": {
    "execution": {
     "iopub.execute_input": "2025-04-14T02:19:23.802728Z",
     "iopub.status.busy": "2025-04-14T02:19:23.802301Z",
     "iopub.status.idle": "2025-04-14T02:19:23.810974Z",
     "shell.execute_reply": "2025-04-14T02:19:23.809906Z"
    },
    "papermill": {
     "duration": 0.029073,
     "end_time": "2025-04-14T02:19:23.812628",
     "exception": false,
     "start_time": "2025-04-14T02:19:23.783555",
     "status": "completed"
    },
    "tags": []
   },
   "outputs": [
    {
     "data": {
      "text/plain": [
       "count         204\n",
       "unique        147\n",
       "top       B96 B98\n",
       "freq            4\n",
       "Name: Cabin, dtype: object"
      ]
     },
     "execution_count": 26,
     "metadata": {},
     "output_type": "execute_result"
    }
   ],
   "source": [
    "df['Cabin'].describe() "
   ]
  },
  {
   "cell_type": "markdown",
   "id": "78999bc9",
   "metadata": {
    "papermill": {
     "duration": 0.017895,
     "end_time": "2025-04-14T02:19:23.850204",
     "exception": false,
     "start_time": "2025-04-14T02:19:23.832309",
     "status": "completed"
    },
    "tags": []
   },
   "source": [
    "1. The Cabin column has 147 unique values, which may not be particularly useful for prediction.\n",
    "\n",
    "2. On the other hand, the names for the cabin variable seem to have a regular structure: a capital letter followed by a number --> use this structure to reduce the number of levels to make categories large enough, which may be useful for prediction.  "
   ]
  },
  {
   "cell_type": "code",
   "execution_count": 27,
   "id": "34382d6a",
   "metadata": {
    "execution": {
     "iopub.execute_input": "2025-04-14T02:19:23.885434Z",
     "iopub.status.busy": "2025-04-14T02:19:23.885056Z",
     "iopub.status.idle": "2025-04-14T02:19:23.893280Z",
     "shell.execute_reply": "2025-04-14T02:19:23.891705Z"
    },
    "papermill": {
     "duration": 0.028076,
     "end_time": "2025-04-14T02:19:23.895232",
     "exception": false,
     "start_time": "2025-04-14T02:19:23.867156",
     "status": "completed"
    },
    "tags": []
   },
   "outputs": [],
   "source": [
    "convert_cabin = df['Cabin'].astype(str) \n",
    "Cabin_Initial = np.array([Cabin[0] for Cabin in convert_cabin]) \n",
    "Cabin_Initial = pd.Categorical(Cabin_Initial) \n",
    "df['Cabin'] = Cabin_Initial"
   ]
  },
  {
   "cell_type": "code",
   "execution_count": 28,
   "id": "d9bf8e96",
   "metadata": {
    "execution": {
     "iopub.execute_input": "2025-04-14T02:19:23.931351Z",
     "iopub.status.busy": "2025-04-14T02:19:23.930970Z",
     "iopub.status.idle": "2025-04-14T02:19:23.936869Z",
     "shell.execute_reply": "2025-04-14T02:19:23.935721Z"
    },
    "papermill": {
     "duration": 0.025849,
     "end_time": "2025-04-14T02:19:23.938869",
     "exception": false,
     "start_time": "2025-04-14T02:19:23.913020",
     "status": "completed"
    },
    "tags": []
   },
   "outputs": [],
   "source": [
    "df['Has_Cabin'] = df['Cabin'].notnull().astype(int) "
   ]
  },
  {
   "cell_type": "markdown",
   "id": "7e892148",
   "metadata": {
    "papermill": {
     "duration": 0.016569,
     "end_time": "2025-04-14T02:19:23.972858",
     "exception": false,
     "start_time": "2025-04-14T02:19:23.956289",
     "status": "completed"
    },
    "tags": []
   },
   "source": [
    "### 6. 🔍 **Embarked**  "
   ]
  },
  {
   "cell_type": "code",
   "execution_count": 29,
   "id": "03ad30ad",
   "metadata": {
    "execution": {
     "iopub.execute_input": "2025-04-14T02:19:24.008984Z",
     "iopub.status.busy": "2025-04-14T02:19:24.008603Z",
     "iopub.status.idle": "2025-04-14T02:19:24.016059Z",
     "shell.execute_reply": "2025-04-14T02:19:24.014933Z"
    },
    "papermill": {
     "duration": 0.028299,
     "end_time": "2025-04-14T02:19:24.017936",
     "exception": false,
     "start_time": "2025-04-14T02:19:23.989637",
     "status": "completed"
    },
    "tags": []
   },
   "outputs": [],
   "source": [
    "embark = pd.get_dummies(df['Embarked'], drop_first=True, dtype=int)\n",
    "df = pd.concat([df, embark], axis=1)   "
   ]
  },
  {
   "cell_type": "code",
   "execution_count": 30,
   "id": "493eded3",
   "metadata": {
    "execution": {
     "iopub.execute_input": "2025-04-14T02:19:24.055762Z",
     "iopub.status.busy": "2025-04-14T02:19:24.055399Z",
     "iopub.status.idle": "2025-04-14T02:19:24.061489Z",
     "shell.execute_reply": "2025-04-14T02:19:24.060177Z"
    },
    "papermill": {
     "duration": 0.027325,
     "end_time": "2025-04-14T02:19:24.063551",
     "exception": false,
     "start_time": "2025-04-14T02:19:24.036226",
     "status": "completed"
    },
    "tags": []
   },
   "outputs": [],
   "source": [
    "df.drop('Embarked', axis=1, inplace=True) "
   ]
  },
  {
   "cell_type": "markdown",
   "id": "4375d7da",
   "metadata": {
    "papermill": {
     "duration": 0.016877,
     "end_time": "2025-04-14T02:19:24.098175",
     "exception": false,
     "start_time": "2025-04-14T02:19:24.081298",
     "status": "completed"
    },
    "tags": []
   },
   "source": [
    "### 6. 🔍 **Combine Col SibSp with Col Parch to Create a New Variable: Family**  "
   ]
  },
  {
   "cell_type": "code",
   "execution_count": 31,
   "id": "32a1586c",
   "metadata": {
    "execution": {
     "iopub.execute_input": "2025-04-14T02:19:24.135684Z",
     "iopub.status.busy": "2025-04-14T02:19:24.135344Z",
     "iopub.status.idle": "2025-04-14T02:19:24.149716Z",
     "shell.execute_reply": "2025-04-14T02:19:24.148369Z"
    },
    "papermill": {
     "duration": 0.03594,
     "end_time": "2025-04-14T02:19:24.151891",
     "exception": false,
     "start_time": "2025-04-14T02:19:24.115951",
     "status": "completed"
    },
    "tags": []
   },
   "outputs": [
    {
     "data": {
      "text/html": [
       "<div>\n",
       "<style scoped>\n",
       "    .dataframe tbody tr th:only-of-type {\n",
       "        vertical-align: middle;\n",
       "    }\n",
       "\n",
       "    .dataframe tbody tr th {\n",
       "        vertical-align: top;\n",
       "    }\n",
       "\n",
       "    .dataframe thead th {\n",
       "        text-align: right;\n",
       "    }\n",
       "</style>\n",
       "<table border=\"1\" class=\"dataframe\">\n",
       "  <thead>\n",
       "    <tr style=\"text-align: right;\">\n",
       "      <th></th>\n",
       "      <th>Name</th>\n",
       "      <th>Ticket_Prefix</th>\n",
       "      <th>Pclass</th>\n",
       "      <th>Family</th>\n",
       "      <th>Survived</th>\n",
       "    </tr>\n",
       "  </thead>\n",
       "  <tbody>\n",
       "    <tr>\n",
       "      <th>159</th>\n",
       "      <td>Sage, Master. Thomas Henry</td>\n",
       "      <td>CA</td>\n",
       "      <td>3</td>\n",
       "      <td>10</td>\n",
       "      <td>0</td>\n",
       "    </tr>\n",
       "    <tr>\n",
       "      <th>180</th>\n",
       "      <td>Sage, Miss. Constance Gladys</td>\n",
       "      <td>CA</td>\n",
       "      <td>3</td>\n",
       "      <td>10</td>\n",
       "      <td>0</td>\n",
       "    </tr>\n",
       "    <tr>\n",
       "      <th>201</th>\n",
       "      <td>Sage, Mr. Frederick</td>\n",
       "      <td>CA</td>\n",
       "      <td>3</td>\n",
       "      <td>10</td>\n",
       "      <td>0</td>\n",
       "    </tr>\n",
       "    <tr>\n",
       "      <th>324</th>\n",
       "      <td>Sage, Mr. George John Jr</td>\n",
       "      <td>CA</td>\n",
       "      <td>3</td>\n",
       "      <td>10</td>\n",
       "      <td>0</td>\n",
       "    </tr>\n",
       "    <tr>\n",
       "      <th>792</th>\n",
       "      <td>Sage, Miss. Stella Anna</td>\n",
       "      <td>CA</td>\n",
       "      <td>3</td>\n",
       "      <td>10</td>\n",
       "      <td>0</td>\n",
       "    </tr>\n",
       "    <tr>\n",
       "      <th>846</th>\n",
       "      <td>Sage, Mr. Douglas Bullen</td>\n",
       "      <td>CA</td>\n",
       "      <td>3</td>\n",
       "      <td>10</td>\n",
       "      <td>0</td>\n",
       "    </tr>\n",
       "    <tr>\n",
       "      <th>863</th>\n",
       "      <td>Sage, Miss. Dorothy Edith \"Dolly\"</td>\n",
       "      <td>CA</td>\n",
       "      <td>3</td>\n",
       "      <td>10</td>\n",
       "      <td>0</td>\n",
       "    </tr>\n",
       "  </tbody>\n",
       "</table>\n",
       "</div>"
      ],
      "text/plain": [
       "                                  Name Ticket_Prefix  Pclass  Family  Survived\n",
       "159         Sage, Master. Thomas Henry            CA       3      10         0\n",
       "180       Sage, Miss. Constance Gladys            CA       3      10         0\n",
       "201                Sage, Mr. Frederick            CA       3      10         0\n",
       "324           Sage, Mr. George John Jr            CA       3      10         0\n",
       "792            Sage, Miss. Stella Anna            CA       3      10         0\n",
       "846           Sage, Mr. Douglas Bullen            CA       3      10         0\n",
       "863  Sage, Miss. Dorothy Edith \"Dolly\"            CA       3      10         0"
      ]
     },
     "execution_count": 31,
     "metadata": {},
     "output_type": "execute_result"
    }
   ],
   "source": [
    "df['Family'] = df['SibSp'] + df['Parch'] \n",
    "\n",
    "most_family = np.where(df['Family'] == max(df['Family'])) \n",
    "df[['Name', 'Ticket_Prefix', 'Pclass', 'Family', 'Survived']].loc[most_family]   "
   ]
  },
  {
   "cell_type": "code",
   "execution_count": 32,
   "id": "6f648763",
   "metadata": {
    "execution": {
     "iopub.execute_input": "2025-04-14T02:19:24.191638Z",
     "iopub.status.busy": "2025-04-14T02:19:24.191282Z",
     "iopub.status.idle": "2025-04-14T02:19:24.206747Z",
     "shell.execute_reply": "2025-04-14T02:19:24.205437Z"
    },
    "papermill": {
     "duration": 0.03842,
     "end_time": "2025-04-14T02:19:24.208790",
     "exception": false,
     "start_time": "2025-04-14T02:19:24.170370",
     "status": "completed"
    },
    "tags": []
   },
   "outputs": [
    {
     "name": "stdout",
     "output_type": "stream",
     "text": [
      "<class 'pandas.core.frame.DataFrame'>\n",
      "RangeIndex: 891 entries, 0 to 890\n",
      "Data columns (total 17 columns):\n",
      " #   Column            Non-Null Count  Dtype   \n",
      "---  ------            --------------  -----   \n",
      " 0   Survived          891 non-null    int64   \n",
      " 1   Pclass            891 non-null    int64   \n",
      " 2   Name              891 non-null    object  \n",
      " 3   Age               891 non-null    float64 \n",
      " 4   SibSp             891 non-null    int64   \n",
      " 5   Parch             891 non-null    int64   \n",
      " 6   Ticket            891 non-null    object  \n",
      " 7   Fare              891 non-null    float64 \n",
      " 8   Cabin             891 non-null    category\n",
      " 9   Sex               891 non-null    int64   \n",
      " 10  Ticket_Prefix     891 non-null    object  \n",
      " 11  Ticket_IsNumeric  891 non-null    int64   \n",
      " 12  Ticket_Freq       891 non-null    int64   \n",
      " 13  Has_Cabin         891 non-null    int64   \n",
      " 14  Q                 891 non-null    int64   \n",
      " 15  S                 891 non-null    int64   \n",
      " 16  Family            891 non-null    int64   \n",
      "dtypes: category(1), float64(2), int64(11), object(3)\n",
      "memory usage: 112.7+ KB\n"
     ]
    }
   ],
   "source": [
    "df.info() "
   ]
  },
  {
   "cell_type": "code",
   "execution_count": 33,
   "id": "8b9a3d34",
   "metadata": {
    "execution": {
     "iopub.execute_input": "2025-04-14T02:19:24.245529Z",
     "iopub.status.busy": "2025-04-14T02:19:24.245200Z",
     "iopub.status.idle": "2025-04-14T02:19:24.260419Z",
     "shell.execute_reply": "2025-04-14T02:19:24.259482Z"
    },
    "papermill": {
     "duration": 0.035669,
     "end_time": "2025-04-14T02:19:24.262040",
     "exception": false,
     "start_time": "2025-04-14T02:19:24.226371",
     "status": "completed"
    },
    "tags": []
   },
   "outputs": [
    {
     "data": {
      "text/html": [
       "<div>\n",
       "<style scoped>\n",
       "    .dataframe tbody tr th:only-of-type {\n",
       "        vertical-align: middle;\n",
       "    }\n",
       "\n",
       "    .dataframe tbody tr th {\n",
       "        vertical-align: top;\n",
       "    }\n",
       "\n",
       "    .dataframe thead th {\n",
       "        text-align: right;\n",
       "    }\n",
       "</style>\n",
       "<table border=\"1\" class=\"dataframe\">\n",
       "  <thead>\n",
       "    <tr style=\"text-align: right;\">\n",
       "      <th></th>\n",
       "      <th>Survived</th>\n",
       "      <th>Pclass</th>\n",
       "      <th>Name</th>\n",
       "      <th>Age</th>\n",
       "      <th>SibSp</th>\n",
       "      <th>Parch</th>\n",
       "      <th>Ticket</th>\n",
       "      <th>Fare</th>\n",
       "      <th>Cabin</th>\n",
       "      <th>Sex</th>\n",
       "      <th>Ticket_Prefix</th>\n",
       "      <th>Ticket_IsNumeric</th>\n",
       "      <th>Ticket_Freq</th>\n",
       "      <th>Has_Cabin</th>\n",
       "      <th>Q</th>\n",
       "      <th>S</th>\n",
       "      <th>Family</th>\n",
       "    </tr>\n",
       "  </thead>\n",
       "  <tbody>\n",
       "    <tr>\n",
       "      <th>0</th>\n",
       "      <td>0</td>\n",
       "      <td>3</td>\n",
       "      <td>Braund, Mr. Owen Harris</td>\n",
       "      <td>22.0</td>\n",
       "      <td>1</td>\n",
       "      <td>0</td>\n",
       "      <td>A/5 21171</td>\n",
       "      <td>7.2500</td>\n",
       "      <td>n</td>\n",
       "      <td>1</td>\n",
       "      <td>A5</td>\n",
       "      <td>0</td>\n",
       "      <td>1</td>\n",
       "      <td>1</td>\n",
       "      <td>0</td>\n",
       "      <td>1</td>\n",
       "      <td>1</td>\n",
       "    </tr>\n",
       "    <tr>\n",
       "      <th>1</th>\n",
       "      <td>1</td>\n",
       "      <td>1</td>\n",
       "      <td>Cumings, Mrs. John Bradley (Florence Briggs Th...</td>\n",
       "      <td>38.0</td>\n",
       "      <td>1</td>\n",
       "      <td>0</td>\n",
       "      <td>PC 17599</td>\n",
       "      <td>71.2833</td>\n",
       "      <td>C</td>\n",
       "      <td>0</td>\n",
       "      <td>PC</td>\n",
       "      <td>0</td>\n",
       "      <td>1</td>\n",
       "      <td>1</td>\n",
       "      <td>0</td>\n",
       "      <td>0</td>\n",
       "      <td>1</td>\n",
       "    </tr>\n",
       "    <tr>\n",
       "      <th>2</th>\n",
       "      <td>1</td>\n",
       "      <td>3</td>\n",
       "      <td>Heikkinen, Miss. Laina</td>\n",
       "      <td>26.0</td>\n",
       "      <td>0</td>\n",
       "      <td>0</td>\n",
       "      <td>STON/O2. 3101282</td>\n",
       "      <td>7.9250</td>\n",
       "      <td>n</td>\n",
       "      <td>0</td>\n",
       "      <td>STONO2</td>\n",
       "      <td>0</td>\n",
       "      <td>1</td>\n",
       "      <td>1</td>\n",
       "      <td>0</td>\n",
       "      <td>1</td>\n",
       "      <td>0</td>\n",
       "    </tr>\n",
       "    <tr>\n",
       "      <th>3</th>\n",
       "      <td>1</td>\n",
       "      <td>1</td>\n",
       "      <td>Futrelle, Mrs. Jacques Heath (Lily May Peel)</td>\n",
       "      <td>35.0</td>\n",
       "      <td>1</td>\n",
       "      <td>0</td>\n",
       "      <td>113803</td>\n",
       "      <td>53.1000</td>\n",
       "      <td>C</td>\n",
       "      <td>0</td>\n",
       "      <td>None</td>\n",
       "      <td>1</td>\n",
       "      <td>2</td>\n",
       "      <td>1</td>\n",
       "      <td>0</td>\n",
       "      <td>1</td>\n",
       "      <td>1</td>\n",
       "    </tr>\n",
       "    <tr>\n",
       "      <th>4</th>\n",
       "      <td>0</td>\n",
       "      <td>3</td>\n",
       "      <td>Allen, Mr. William Henry</td>\n",
       "      <td>35.0</td>\n",
       "      <td>0</td>\n",
       "      <td>0</td>\n",
       "      <td>373450</td>\n",
       "      <td>8.0500</td>\n",
       "      <td>n</td>\n",
       "      <td>1</td>\n",
       "      <td>None</td>\n",
       "      <td>1</td>\n",
       "      <td>1</td>\n",
       "      <td>1</td>\n",
       "      <td>0</td>\n",
       "      <td>1</td>\n",
       "      <td>0</td>\n",
       "    </tr>\n",
       "  </tbody>\n",
       "</table>\n",
       "</div>"
      ],
      "text/plain": [
       "   Survived  Pclass                                               Name   Age  \\\n",
       "0         0       3                            Braund, Mr. Owen Harris  22.0   \n",
       "1         1       1  Cumings, Mrs. John Bradley (Florence Briggs Th...  38.0   \n",
       "2         1       3                             Heikkinen, Miss. Laina  26.0   \n",
       "3         1       1       Futrelle, Mrs. Jacques Heath (Lily May Peel)  35.0   \n",
       "4         0       3                           Allen, Mr. William Henry  35.0   \n",
       "\n",
       "   SibSp  Parch            Ticket     Fare Cabin  Sex Ticket_Prefix  \\\n",
       "0      1      0         A/5 21171   7.2500     n    1            A5   \n",
       "1      1      0          PC 17599  71.2833     C    0            PC   \n",
       "2      0      0  STON/O2. 3101282   7.9250     n    0        STONO2   \n",
       "3      1      0            113803  53.1000     C    0          None   \n",
       "4      0      0            373450   8.0500     n    1          None   \n",
       "\n",
       "   Ticket_IsNumeric  Ticket_Freq  Has_Cabin  Q  S  Family  \n",
       "0                 0            1          1  0  1       1  \n",
       "1                 0            1          1  0  0       1  \n",
       "2                 0            1          1  0  1       0  \n",
       "3                 1            2          1  0  1       1  \n",
       "4                 1            1          1  0  1       0  "
      ]
     },
     "execution_count": 33,
     "metadata": {},
     "output_type": "execute_result"
    }
   ],
   "source": [
    "df.head() "
   ]
  },
  {
   "cell_type": "markdown",
   "id": "9e09bb0a",
   "metadata": {
    "papermill": {
     "duration": 0.017075,
     "end_time": "2025-04-14T02:19:24.296591",
     "exception": false,
     "start_time": "2025-04-14T02:19:24.279516",
     "status": "completed"
    },
    "tags": []
   },
   "source": [
    "# 🎥   ***Data Visualization***   "
   ]
  },
  {
   "cell_type": "markdown",
   "id": "aa7fbf02",
   "metadata": {
    "papermill": {
     "duration": 0.01712,
     "end_time": "2025-04-14T02:19:24.331669",
     "exception": false,
     "start_time": "2025-04-14T02:19:24.314549",
     "status": "completed"
    },
    "tags": []
   },
   "source": [
    "### 1. 🔍 **Survivial Rate Distribution**"
   ]
  },
  {
   "cell_type": "code",
   "execution_count": 34,
   "id": "f014409a",
   "metadata": {
    "execution": {
     "iopub.execute_input": "2025-04-14T02:19:24.368062Z",
     "iopub.status.busy": "2025-04-14T02:19:24.367649Z",
     "iopub.status.idle": "2025-04-14T02:19:24.542077Z",
     "shell.execute_reply": "2025-04-14T02:19:24.540934Z"
    },
    "papermill": {
     "duration": 0.194927,
     "end_time": "2025-04-14T02:19:24.543906",
     "exception": false,
     "start_time": "2025-04-14T02:19:24.348979",
     "status": "completed"
    },
    "tags": []
   },
   "outputs": [
    {
     "data": {
      "image/png": "[encoded data removed]",
      "text/plain": [
       "<Figure size 640x480 with 1 Axes>"
      ]
     },
     "metadata": {},
     "output_type": "display_data"
    }
   ],
   "source": [
    "df['Survived'].value_counts().plot(kind='pie',\n",
    "                                   startangle= 90, \n",
    "                                   autopct = '%1.1f%%') \n",
    "\n",
    "plt.ylabel('')\n",
    "plt.title('Distribution of Survival Rates')\n",
    "plt.show()   "
   ]
  },
  {
   "cell_type": "markdown",
   "id": "5da1c94c",
   "metadata": {
    "papermill": {
     "duration": 0.017841,
     "end_time": "2025-04-14T02:19:24.580178",
     "exception": false,
     "start_time": "2025-04-14T02:19:24.562337",
     "status": "completed"
    },
    "tags": []
   },
   "source": [
    "### 2. 🔍 **Create a subplot that displays the count of survivors categorized by port of embarkation & Pclass**"
   ]
  },
  {
   "cell_type": "code",
   "execution_count": 35,
   "id": "45e9a83c",
   "metadata": {
    "execution": {
     "iopub.execute_input": "2025-04-14T02:19:24.616691Z",
     "iopub.status.busy": "2025-04-14T02:19:24.616358Z",
     "iopub.status.idle": "2025-04-14T02:19:24.620356Z",
     "shell.execute_reply": "2025-04-14T02:19:24.619376Z"
    },
    "papermill": {
     "duration": 0.024303,
     "end_time": "2025-04-14T02:19:24.622006",
     "exception": false,
     "start_time": "2025-04-14T02:19:24.597703",
     "status": "completed"
    },
    "tags": []
   },
   "outputs": [],
   "source": [
    "cate_cols = ['Q', 'S', 'Pclass'] \n",
    "target = 'Survived'  "
   ]
  },
  {
   "cell_type": "code",
   "execution_count": 36,
   "id": "eff630d4",
   "metadata": {
    "execution": {
     "iopub.execute_input": "2025-04-14T02:19:24.661104Z",
     "iopub.status.busy": "2025-04-14T02:19:24.660713Z",
     "iopub.status.idle": "2025-04-14T02:19:24.691706Z",
     "shell.execute_reply": "2025-04-14T02:19:24.690670Z"
    },
    "papermill": {
     "duration": 0.052554,
     "end_time": "2025-04-14T02:19:24.693488",
     "exception": false,
     "start_time": "2025-04-14T02:19:24.640934",
     "status": "completed"
    },
    "tags": []
   },
   "outputs": [
    {
     "data": {
      "text/plain": [
       "<Figure size 2500x1800 with 0 Axes>"
      ]
     },
     "metadata": {},
     "output_type": "display_data"
    }
   ],
   "source": [
    "fig = plt.figure(figsize = (25, len(cate_cols)*6))  "
   ]
  },
  {
   "cell_type": "code",
   "execution_count": 37,
   "id": "c8aa3046",
   "metadata": {
    "execution": {
     "iopub.execute_input": "2025-04-14T02:19:24.732625Z",
     "iopub.status.busy": "2025-04-14T02:19:24.732238Z",
     "iopub.status.idle": "2025-04-14T02:19:25.338563Z",
     "shell.execute_reply": "2025-04-14T02:19:25.337342Z"
    },
    "papermill": {
     "duration": 0.628096,
     "end_time": "2025-04-14T02:19:25.340400",
     "exception": false,
     "start_time": "2025-04-14T02:19:24.712304",
     "status": "completed"
    },
    "tags": []
   },
   "outputs": [
    {
     "data": {
      "image/png": "[encoded data removed]",
      "text/plain": [
       "<Figure size 640x480 with 3 Axes>"
      ]
     },
     "metadata": {},
     "output_type": "display_data"
    }
   ],
   "source": [
    "for i, col in enumerate(cate_cols):\n",
    "    plt.subplot(len(cate_cols)//2 + len(cate_cols)%2, 2, i+1) \n",
    "    sns.countplot(x=col, hue=target, data=df) \n",
    "    plt.title(f'Count of Victims & Survivors Categorized by {col}', fontsize=8) \n",
    "    plt.ylim(0, df[col].value_counts().max()+10) \n",
    "    plt.ylabel('')\n",
    "\n",
    "\n",
    "plt.tight_layout() \n",
    "plt.show() \n"
   ]
  },
  {
   "cell_type": "markdown",
   "id": "87322c79",
   "metadata": {
    "papermill": {
     "duration": 0.018502,
     "end_time": "2025-04-14T02:19:25.377928",
     "exception": false,
     "start_time": "2025-04-14T02:19:25.359426",
     "status": "completed"
    },
    "tags": []
   },
   "source": [
    "### 3. 🔍 **Create a histplot that displays the count of survivors categorized by Age**"
   ]
  },
  {
   "cell_type": "code",
   "execution_count": 38,
   "id": "738a8015",
   "metadata": {
    "execution": {
     "iopub.execute_input": "2025-04-14T02:19:25.416722Z",
     "iopub.status.busy": "2025-04-14T02:19:25.416373Z",
     "iopub.status.idle": "2025-04-14T02:19:25.854421Z",
     "shell.execute_reply": "2025-04-14T02:19:25.853168Z"
    },
    "papermill": {
     "duration": 0.459582,
     "end_time": "2025-04-14T02:19:25.856253",
     "exception": false,
     "start_time": "2025-04-14T02:19:25.396671",
     "status": "completed"
    },
    "tags": []
   },
   "outputs": [
    {
     "data": {
      "image/png": "[encoded data removed]",
      "text/plain": [
       "<Figure size 640x480 with 1 Axes>"
      ]
     },
     "metadata": {},
     "output_type": "display_data"
    }
   ],
   "source": [
    "sns.histplot(data=df,\n",
    "             x='Age', \n",
    "             hue='Survived', \n",
    "             bins=30,\n",
    "             kde=True) \n",
    "\n",
    "plt.title('Age Distribution of Titanic Victims & Survivors')\n",
    "plt.show()"
   ]
  },
  {
   "cell_type": "markdown",
   "id": "f9f24691",
   "metadata": {
    "papermill": {
     "duration": 0.019453,
     "end_time": "2025-04-14T02:19:25.895590",
     "exception": false,
     "start_time": "2025-04-14T02:19:25.876137",
     "status": "completed"
    },
    "tags": []
   },
   "source": [
    "### 4. 🔍 **Create a Barplot that Displays Survived Distribution Categorized by Sex in Three Pclasses**"
   ]
  },
  {
   "cell_type": "code",
   "execution_count": 39,
   "id": "d201cffe",
   "metadata": {
    "execution": {
     "iopub.execute_input": "2025-04-14T02:19:25.937055Z",
     "iopub.status.busy": "2025-04-14T02:19:25.936622Z",
     "iopub.status.idle": "2025-04-14T02:19:26.289086Z",
     "shell.execute_reply": "2025-04-14T02:19:26.287949Z"
    },
    "papermill": {
     "duration": 0.375604,
     "end_time": "2025-04-14T02:19:26.290841",
     "exception": false,
     "start_time": "2025-04-14T02:19:25.915237",
     "status": "completed"
    },
    "tags": []
   },
   "outputs": [
    {
     "data": {
      "image/png": "[encoded data removed]",
      "text/plain": [
       "<Figure size 640x480 with 1 Axes>"
      ]
     },
     "metadata": {},
     "output_type": "display_data"
    }
   ],
   "source": [
    "sns.barplot(x='Pclass',\n",
    "            y = 'Survived', \n",
    "            hue = 'Sex', \n",
    "            data = df) \n",
    "\n",
    "plt.title('Survived Distribution by Sex in Three Pclasses') \n",
    "plt.show() "
   ]
  },
  {
   "cell_type": "markdown",
   "id": "e3e6ca58",
   "metadata": {
    "papermill": {
     "duration": 0.022847,
     "end_time": "2025-04-14T02:19:26.334332",
     "exception": false,
     "start_time": "2025-04-14T02:19:26.311485",
     "status": "completed"
    },
    "tags": []
   },
   "source": [
    "# 🤖   ***Machine Learning***   "
   ]
  },
  {
   "cell_type": "markdown",
   "id": "1240dc1f",
   "metadata": {
    "papermill": {
     "duration": 0.022119,
     "end_time": "2025-04-14T02:19:26.379749",
     "exception": false,
     "start_time": "2025-04-14T02:19:26.357630",
     "status": "completed"
    },
    "tags": []
   },
   "source": [
    "### 1. 🔍 **Modeling**"
   ]
  },
  {
   "cell_type": "code",
   "execution_count": 40,
   "id": "9be07cd7",
   "metadata": {
    "execution": {
     "iopub.execute_input": "2025-04-14T02:19:26.426558Z",
     "iopub.status.busy": "2025-04-14T02:19:26.426138Z",
     "iopub.status.idle": "2025-04-14T02:19:26.432282Z",
     "shell.execute_reply": "2025-04-14T02:19:26.431099Z"
    },
    "papermill": {
     "duration": 0.031622,
     "end_time": "2025-04-14T02:19:26.434092",
     "exception": false,
     "start_time": "2025-04-14T02:19:26.402470",
     "status": "completed"
    },
    "tags": []
   },
   "outputs": [],
   "source": [
    "df.drop(['Name', 'SibSp', 'Parch', 'Ticket', 'Cabin', 'Ticket_Prefix'], axis=1, inplace=True) "
   ]
  },
  {
   "cell_type": "code",
   "execution_count": 41,
   "id": "4f25ac25",
   "metadata": {
    "execution": {
     "iopub.execute_input": "2025-04-14T02:19:26.480780Z",
     "iopub.status.busy": "2025-04-14T02:19:26.480382Z",
     "iopub.status.idle": "2025-04-14T02:19:26.491786Z",
     "shell.execute_reply": "2025-04-14T02:19:26.490645Z"
    },
    "papermill": {
     "duration": 0.036104,
     "end_time": "2025-04-14T02:19:26.493451",
     "exception": false,
     "start_time": "2025-04-14T02:19:26.457347",
     "status": "completed"
    },
    "tags": []
   },
   "outputs": [
    {
     "name": "stdout",
     "output_type": "stream",
     "text": [
      "<class 'pandas.core.frame.DataFrame'>\n",
      "RangeIndex: 891 entries, 0 to 890\n",
      "Data columns (total 11 columns):\n",
      " #   Column            Non-Null Count  Dtype  \n",
      "---  ------            --------------  -----  \n",
      " 0   Survived          891 non-null    int64  \n",
      " 1   Pclass            891 non-null    int64  \n",
      " 2   Age               891 non-null    float64\n",
      " 3   Fare              891 non-null    float64\n",
      " 4   Sex               891 non-null    int64  \n",
      " 5   Ticket_IsNumeric  891 non-null    int64  \n",
      " 6   Ticket_Freq       891 non-null    int64  \n",
      " 7   Has_Cabin         891 non-null    int64  \n",
      " 8   Q                 891 non-null    int64  \n",
      " 9   S                 891 non-null    int64  \n",
      " 10  Family            891 non-null    int64  \n",
      "dtypes: float64(2), int64(9)\n",
      "memory usage: 76.7 KB\n"
     ]
    }
   ],
   "source": [
    "df.info() "
   ]
  },
  {
   "cell_type": "code",
   "execution_count": 42,
   "id": "2a1fbce7",
   "metadata": {
    "execution": {
     "iopub.execute_input": "2025-04-14T02:19:26.539310Z",
     "iopub.status.busy": "2025-04-14T02:19:26.538950Z",
     "iopub.status.idle": "2025-04-14T02:19:26.545375Z",
     "shell.execute_reply": "2025-04-14T02:19:26.544160Z"
    },
    "papermill": {
     "duration": 0.031167,
     "end_time": "2025-04-14T02:19:26.547072",
     "exception": false,
     "start_time": "2025-04-14T02:19:26.515905",
     "status": "completed"
    },
    "tags": []
   },
   "outputs": [
    {
     "data": {
      "text/plain": [
       "Index(['Survived', 'Pclass', 'Age', 'Fare', 'Sex', 'Ticket_IsNumeric',\n",
       "       'Ticket_Freq', 'Has_Cabin', 'Q', 'S', 'Family'],\n",
       "      dtype='object')"
      ]
     },
     "execution_count": 42,
     "metadata": {},
     "output_type": "execute_result"
    }
   ],
   "source": [
    "df.columns"
   ]
  },
  {
   "cell_type": "code",
   "execution_count": 43,
   "id": "e77ca690",
   "metadata": {
    "execution": {
     "iopub.execute_input": "2025-04-14T02:19:26.592629Z",
     "iopub.status.busy": "2025-04-14T02:19:26.592236Z",
     "iopub.status.idle": "2025-04-14T02:19:26.597728Z",
     "shell.execute_reply": "2025-04-14T02:19:26.596537Z"
    },
    "papermill": {
     "duration": 0.030458,
     "end_time": "2025-04-14T02:19:26.599496",
     "exception": false,
     "start_time": "2025-04-14T02:19:26.569038",
     "status": "completed"
    },
    "tags": []
   },
   "outputs": [],
   "source": [
    "X = df.drop('Survived', axis=1)\n",
    "y = df['Survived']"
   ]
  },
  {
   "cell_type": "code",
   "execution_count": 44,
   "id": "8e17f1f6",
   "metadata": {
    "execution": {
     "iopub.execute_input": "2025-04-14T02:19:26.665790Z",
     "iopub.status.busy": "2025-04-14T02:19:26.665411Z",
     "iopub.status.idle": "2025-04-14T02:19:26.672665Z",
     "shell.execute_reply": "2025-04-14T02:19:26.671483Z"
    },
    "papermill": {
     "duration": 0.04794,
     "end_time": "2025-04-14T02:19:26.674422",
     "exception": false,
     "start_time": "2025-04-14T02:19:26.626482",
     "status": "completed"
    },
    "tags": []
   },
   "outputs": [],
   "source": [
    "X_train, X_test, y_train, y_test = train_test_split( X, y, test_size=0.3, random_state=42)"
   ]
  },
  {
   "cell_type": "code",
   "execution_count": 45,
   "id": "0a368fb4",
   "metadata": {
    "execution": {
     "iopub.execute_input": "2025-04-14T02:19:26.720371Z",
     "iopub.status.busy": "2025-04-14T02:19:26.720039Z",
     "iopub.status.idle": "2025-04-14T02:19:26.764966Z",
     "shell.execute_reply": "2025-04-14T02:19:26.763820Z"
    },
    "papermill": {
     "duration": 0.069786,
     "end_time": "2025-04-14T02:19:26.766917",
     "exception": false,
     "start_time": "2025-04-14T02:19:26.697131",
     "status": "completed"
    },
    "tags": []
   },
   "outputs": [
    {
     "data": {
      "text/html": [
       "<style>#sk-container-id-1 {color: black;background-color: white;}#sk-container-id-1 pre{padding: 0;}#sk-container-id-1 div.sk-toggleable {background-color: white;}#sk-container-id-1 label.sk-toggleable__label {cursor: pointer;display: block;width: 100%;margin-bottom: 0;padding: 0.3em;box-sizing: border-box;text-align: center;}#sk-container-id-1 label.sk-toggleable__label-arrow:before {content: \"▸\";float: left;margin-right: 0.25em;color: #696969;}#sk-container-id-1 label.sk-toggleable__label-arrow:hover:before {color: black;}#sk-container-id-1 div.sk-estimator:hover label.sk-toggleable__label-arrow:before {color: black;}#sk-container-id-1 div.sk-toggleable__content {max-height: 0;max-width: 0;overflow: hidden;text-align: left;background-color: #f0f8ff;}#sk-container-id-1 div.sk-toggleable__content pre {margin: 0.2em;color: black;border-radius: 0.25em;background-color: #f0f8ff;}#sk-container-id-1 input.sk-toggleable__control:checked~div.sk-toggleable__content {max-height: 200px;max-width: 100%;overflow: auto;}#sk-container-id-1 input.sk-toggleable__control:checked~label.sk-toggleable__label-arrow:before {content: \"▾\";}#sk-container-id-1 div.sk-estimator input.sk-toggleable__control:checked~label.sk-toggleable__label {background-color: #d4ebff;}#sk-container-id-1 div.sk-label input.sk-toggleable__control:checked~label.sk-toggleable__label {background-color: #d4ebff;}#sk-container-id-1 input.sk-hidden--visually {border: 0;clip: rect(1px 1px 1px 1px);clip: rect(1px, 1px, 1px, 1px);height: 1px;margin: -1px;overflow: hidden;padding: 0;position: absolute;width: 1px;}#sk-container-id-1 div.sk-estimator {font-family: monospace;background-color: #f0f8ff;border: 1px dotted black;border-radius: 0.25em;box-sizing: border-box;margin-bottom: 0.5em;}#sk-container-id-1 div.sk-estimator:hover {background-color: #d4ebff;}#sk-container-id-1 div.sk-parallel-item::after {content: \"\";width: 100%;border-bottom: 1px solid gray;flex-grow: 1;}#sk-container-id-1 div.sk-label:hover label.sk-toggleable__label {background-color: #d4ebff;}#sk-container-id-1 div.sk-serial::before {content: \"\";position: absolute;border-left: 1px solid gray;box-sizing: border-box;top: 0;bottom: 0;left: 50%;z-index: 0;}#sk-container-id-1 div.sk-serial {display: flex;flex-direction: column;align-items: center;background-color: white;padding-right: 0.2em;padding-left: 0.2em;position: relative;}#sk-container-id-1 div.sk-item {position: relative;z-index: 1;}#sk-container-id-1 div.sk-parallel {display: flex;align-items: stretch;justify-content: center;background-color: white;position: relative;}#sk-container-id-1 div.sk-item::before, #sk-container-id-1 div.sk-parallel-item::before {content: \"\";position: absolute;border-left: 1px solid gray;box-sizing: border-box;top: 0;bottom: 0;left: 50%;z-index: -1;}#sk-container-id-1 div.sk-parallel-item {display: flex;flex-direction: column;z-index: 1;position: relative;background-color: white;}#sk-container-id-1 div.sk-parallel-item:first-child::after {align-self: flex-end;width: 50%;}#sk-container-id-1 div.sk-parallel-item:last-child::after {align-self: flex-start;width: 50%;}#sk-container-id-1 div.sk-parallel-item:only-child::after {width: 0;}#sk-container-id-1 div.sk-dashed-wrapped {border: 1px dashed gray;margin: 0 0.4em 0.5em 0.4em;box-sizing: border-box;padding-bottom: 0.4em;background-color: white;}#sk-container-id-1 div.sk-label label {font-family: monospace;font-weight: bold;display: inline-block;line-height: 1.2em;}#sk-container-id-1 div.sk-label-container {text-align: center;}#sk-container-id-1 div.sk-container {/* jupyter's `normalize.less` sets `[hidden] { display: none; }` but bootstrap.min.css set `[hidden] { display: none !important; }` so we also need the `!important` here to be able to override the default hidden behavior on the sphinx rendered scikit-learn.org. See: https://github.com/scikit-learn/scikit-learn/issues/21755 */display: inline-block !important;position: relative;}#sk-container-id-1 div.sk-text-repr-fallback {display: none;}</style><div id=\"sk-container-id-1\" class=\"sk-top-container\"><div class=\"sk-text-repr-fallback\"><pre>LogisticRegression()</pre><b>In a Jupyter environment, please rerun this cell to show the HTML representation or trust the notebook. <br />On GitHub, the HTML representation is unable to render, please try loading this page with nbviewer.org.</b></div><div class=\"sk-container\" hidden><div class=\"sk-item\"><div class=\"sk-estimator sk-toggleable\"><input class=\"sk-toggleable__control sk-hidden--visually\" id=\"sk-estimator-id-1\" type=\"checkbox\" checked><label for=\"sk-estimator-id-1\" class=\"sk-toggleable__label sk-toggleable__label-arrow\">LogisticRegression</label><div class=\"sk-toggleable__content\"><pre>LogisticRegression()</pre></div></div></div></div></div>"
      ],
      "text/plain": [
       "LogisticRegression()"
      ]
     },
     "execution_count": 45,
     "metadata": {},
     "output_type": "execute_result"
    }
   ],
   "source": [
    "log_model = LogisticRegression () \n",
    "log_model.fit(X_train, y_train)  "
   ]
  },
  {
   "cell_type": "markdown",
   "id": "6a103aa0",
   "metadata": {
    "papermill": {
     "duration": 0.021917,
     "end_time": "2025-04-14T02:19:26.816162",
     "exception": false,
     "start_time": "2025-04-14T02:19:26.794245",
     "status": "completed"
    },
    "tags": []
   },
   "source": [
    "### 2. 🔍 **Prediction**"
   ]
  },
  {
   "cell_type": "code",
   "execution_count": 46,
   "id": "b678369d",
   "metadata": {
    "execution": {
     "iopub.execute_input": "2025-04-14T02:19:26.863300Z",
     "iopub.status.busy": "2025-04-14T02:19:26.862923Z",
     "iopub.status.idle": "2025-04-14T02:19:26.869613Z",
     "shell.execute_reply": "2025-04-14T02:19:26.868404Z"
    },
    "papermill": {
     "duration": 0.032529,
     "end_time": "2025-04-14T02:19:26.871802",
     "exception": false,
     "start_time": "2025-04-14T02:19:26.839273",
     "status": "completed"
    },
    "tags": []
   },
   "outputs": [],
   "source": [
    "predictions = log_model.predict(X_test) "
   ]
  },
  {
   "cell_type": "markdown",
   "id": "85803951",
   "metadata": {
    "papermill": {
     "duration": 0.021874,
     "end_time": "2025-04-14T02:19:26.916669",
     "exception": false,
     "start_time": "2025-04-14T02:19:26.894795",
     "status": "completed"
    },
    "tags": []
   },
   "source": [
    "### 3. 🔍 **Evaluation**"
   ]
  },
  {
   "cell_type": "code",
   "execution_count": 47,
   "id": "5a5a5315",
   "metadata": {
    "execution": {
     "iopub.execute_input": "2025-04-14T02:19:26.970289Z",
     "iopub.status.busy": "2025-04-14T02:19:26.969632Z",
     "iopub.status.idle": "2025-04-14T02:19:26.990473Z",
     "shell.execute_reply": "2025-04-14T02:19:26.989150Z"
    },
    "papermill": {
     "duration": 0.051821,
     "end_time": "2025-04-14T02:19:26.992989",
     "exception": false,
     "start_time": "2025-04-14T02:19:26.941168",
     "status": "completed"
    },
    "tags": []
   },
   "outputs": [
    {
     "name": "stdout",
     "output_type": "stream",
     "text": [
      "              precision    recall  f1-score   support\n",
      "\n",
      "           0       0.81      0.87      0.84       157\n",
      "           1       0.80      0.71      0.75       111\n",
      "\n",
      "    accuracy                           0.81       268\n",
      "   macro avg       0.80      0.79      0.80       268\n",
      "weighted avg       0.81      0.81      0.80       268\n",
      "\n"
     ]
    }
   ],
   "source": [
    "print(classification_report(y_test, predictions))  "
   ]
  },
  {
   "cell_type": "code",
   "execution_count": 48,
   "id": "444264ec",
   "metadata": {
    "execution": {
     "iopub.execute_input": "2025-04-14T02:19:27.052369Z",
     "iopub.status.busy": "2025-04-14T02:19:27.052035Z",
     "iopub.status.idle": "2025-04-14T02:19:27.060187Z",
     "shell.execute_reply": "2025-04-14T02:19:27.059050Z"
    },
    "papermill": {
     "duration": 0.04207,
     "end_time": "2025-04-14T02:19:27.062088",
     "exception": false,
     "start_time": "2025-04-14T02:19:27.020018",
     "status": "completed"
    },
    "tags": []
   },
   "outputs": [
    {
     "data": {
      "text/plain": [
       "array([[137,  20],\n",
       "       [ 32,  79]])"
      ]
     },
     "execution_count": 48,
     "metadata": {},
     "output_type": "execute_result"
    }
   ],
   "source": [
    "confusion_matrix(y_test, predictions)  "
   ]
  }
 ],
 "metadata": {
  "kaggle": {
   "accelerator": "none",
   "dataSources": [
    {
     "datasetId": 7093056,
     "sourceId": 11338283,
     "sourceType": "datasetVersion"
    }
   ],
   "dockerImageVersionId": 30918,
   "isGpuEnabled": false,
   "isInternetEnabled": true,
   "language": "python",
   "sourceType": "notebook"
  },
  "kernelspec": {
   "display_name": "Python 3",
   "language": "python",
   "name": "python3"
  },
  "language_info": {
   "codemirror_mode": {
    "name": "ipython",
    "version": 3
   },
   "file_extension": ".py",
   "mimetype": "text/x-python",
   "name": "python",
   "nbconvert_exporter": "python",
   "pygments_lexer": "ipython3",
   "version": "3.10.12"
  },
  "papermill": {
   "default_parameters": {},
   "duration": 15.477427,
   "end_time": "2025-04-14T02:19:28.006923",
   "environment_variables": {},
   "exception": null,
   "input_path": "__notebook__.ipynb",
   "output_path": "__notebook__.ipynb",
   "parameters": {},
   "start_time": "2025-04-14T02:19:12.529496",
   "version": "2.6.0"
  }
 },
 "nbformat": 4,
 "nbformat_minor": 5
}
